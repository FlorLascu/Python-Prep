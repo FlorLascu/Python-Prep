{
 "cells": [
  {
   "cell_type": "code",
   "execution_count": 12,
   "metadata": {},
   "outputs": [],
   "source": [
    "def listadedivisibles(divisor,tope):\n",
    "    '''Escribe una funcion que, a partir de un valor de tope y un divisor, obtenga y retorne una lista con los numeros divisibles \n",
    "        por el divisor comprendidos entre 1 y el valor de tope.'\n",
    "        \n",
    "        La funcion listadedivisibles recibe dos argumentos: \n",
    "        Divisor: dumero entero divisor\n",
    "        tope: Maximo valor del rango a evaluar (el minimo siempre es 1)\n",
    "        \n",
    "        Ej:\n",
    "        listadedivisibles(6,30) deberia retornar [6,12,18,24,30]\n",
    "        \n",
    "        Descripcion de la funcion listadedivisibles\n",
    "        Debe imprimir una lista de enteros\n",
    "        Recibe como parametros\n",
    "        divisor(int)\n",
    "        tope(int)\n",
    "        Aclaraciones:\n",
    "        * Si ningun numero entero del rango es divisible por el divisor, la funcion debe retornar una lista vacia\n",
    "        * Si el parametro tope tiene un valor menor a uno, la funcion debe retornar None'''\n",
    "    \n",
    "    #tu codigo aca:\n",
    "    if tope < 0:\n",
    "        return None\n",
    "    salida = []\n",
    "    listaenteros = []\n",
    "    for i in range(1,tope+1):\n",
    "        listaenteros.append(i)\n",
    "    for j in range(0,tope):\n",
    "        if listaenteros[j] % divisor == 0:\n",
    "            salida.append(listaenteros[j])\n",
    "    return salida"
   ]
  },
  {
   "cell_type": "code",
   "execution_count": 13,
   "metadata": {},
   "outputs": [
    {
     "data": {
      "text/plain": [
       "[6, 12, 18, 24, 30]"
      ]
     },
     "execution_count": 13,
     "metadata": {},
     "output_type": "execute_result"
    }
   ],
   "source": [
    "listadedivisibles(6,30)"
   ]
  },
  {
   "cell_type": "code",
   "execution_count": 1,
   "metadata": {},
   "outputs": [],
   "source": [
    "ar=[1,2,3,4,10,11]"
   ]
  },
  {
   "cell_type": "code",
   "execution_count": null,
   "metadata": {},
   "outputs": [],
   "source": [
    "def simpleArraySum(ar):\n",
    "    # Write your code here\n",
    "    suma=0\n",
    "    for i in range(0, len(ar)):\n",
    "        suma=ar[i]+suma\n",
    "    return suma\n"
   ]
  }
 ],
 "metadata": {
  "kernelspec": {
   "display_name": "Python 3",
   "language": "python",
   "name": "python3"
  },
  "language_info": {
   "codemirror_mode": {
    "name": "ipython",
    "version": 3
   },
   "file_extension": ".py",
   "mimetype": "text/x-python",
   "name": "python",
   "nbconvert_exporter": "python",
   "pygments_lexer": "ipython3",
   "version": "3.11.5"
  },
  "orig_nbformat": 4
 },
 "nbformat": 4,
 "nbformat_minor": 2
}

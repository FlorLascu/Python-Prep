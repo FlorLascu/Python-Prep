{
 "cells": [
  {
   "cell_type": "code",
   "execution_count": 6,
   "metadata": {},
   "outputs": [],
   "source": [
    "n = input()\n",
    "int_list = [int(x) for x in input(\"Enter integers:\").split()] "
   ]
  },
  {
   "cell_type": "code",
   "execution_count": 7,
   "metadata": {},
   "outputs": [
    {
     "name": "stdout",
     "output_type": "stream",
     "text": [
      "[1, 2, 3, 4]\n"
     ]
    }
   ],
   "source": [
    "print(int_list)"
   ]
  },
  {
   "cell_type": "code",
   "execution_count": 37,
   "metadata": {},
   "outputs": [],
   "source": [
    "N = 10\n",
    "arr = [64630,11735,14216,99233,14470,4978, 73429, 38120, 51135, 67060]"
   ]
  },
  {
   "cell_type": "code",
   "execution_count": 31,
   "metadata": {},
   "outputs": [
    {
     "name": "stdout",
     "output_type": "stream",
     "text": [
      "[4878, 11735, 14216, 14470, 38120, 51135, 64630, 67060, 73429, 99233]\n"
     ]
    }
   ],
   "source": [
    "arr_sorted = arr.sort(reverse=False)\n",
    "print(arr)"
   ]
  },
  {
   "cell_type": "code",
   "execution_count": 33,
   "metadata": {},
   "outputs": [
    {
     "data": {
      "text/plain": [
       "4878"
      ]
     },
     "execution_count": 33,
     "metadata": {},
     "output_type": "execute_result"
    }
   ],
   "source": [
    "arr[5]"
   ]
  },
  {
   "cell_type": "code",
   "execution_count": 25,
   "metadata": {},
   "outputs": [
    {
     "data": {
      "text/plain": [
       "[4878, 11735, 14216, 14470, 38120, 51135, 64630, 67060, 73429, 99233]"
      ]
     },
     "execution_count": 25,
     "metadata": {},
     "output_type": "execute_result"
    }
   ],
   "source": [
    "arr"
   ]
  },
  {
   "cell_type": "code",
   "execution_count": 44,
   "metadata": {},
   "outputs": [
    {
     "name": "stdout",
     "output_type": "stream",
     "text": [
      "43900.6\n",
      "44627.5\n",
      "4978\n"
     ]
    }
   ],
   "source": [
    "#N = int(input())\n",
    "#arr = [int(x) for x in input().split()]\n",
    "\n",
    "mean = 0\n",
    "\n",
    "mean = sum(arr)/N\n",
    "print(mean)\n",
    "arr.sort(reverse=False)\n",
    "median = 0\n",
    "b = int(N/2)\n",
    "b1 = int(N/2 -1)\n",
    "sum_median = arr[b]+arr[b1]\n",
    "median = sum_median/2\n",
    "print(median)\n",
    "\n",
    "mode = 0\n",
    "most_freq = 0\n",
    "for i in range(0,N):\n",
    "    most_freq = arr.count(arr[i])\n",
    "    if most_freq > mode:\n",
    "        mode = arr[i]\n",
    "print(mode)"
   ]
  },
  {
   "cell_type": "code",
   "execution_count": null,
   "metadata": {},
   "outputs": [],
   "source": []
  },
  {
   "cell_type": "code",
   "execution_count": 43,
   "metadata": {},
   "outputs": [
    {
     "name": "stdout",
     "output_type": "stream",
     "text": [
      "44627.5\n"
     ]
    }
   ],
   "source": [
    "median = 0\n",
    "if N % 2 == 0: #even\n",
    "    b = int(N/2)\n",
    "    b1 = int(N/2 -1)\n",
    "    sum_median = arr[b]+arr[b1]\n",
    "    median = sum_median/2\n",
    "    print(median)"
   ]
  },
  {
   "cell_type": "code",
   "execution_count": null,
   "metadata": {},
   "outputs": [],
   "source": [
    "z = int(input())\n",
    "n = list(map(int,input().split()))\n",
    "#mode\n",
    "count_list = []\n",
    "mode = []\n",
    "minformode = []\n",
    "for i in n:\n",
    "    number_count = n.count(i)\n",
    "    count_list.append(number_count)\n",
    "for x in n:\n",
    "    if max(count_list) < 2:\n",
    "        mode.append(min(n))\n",
    "    elif n.count(x) == max(count_list):\n",
    "        mode.append(x)\n",
    "#mean\n",
    "print(sum(n)/z)\n",
    "#median\n",
    "n = sorted(n)\n",
    "m = int(len(n)/2)\n",
    "print((n[m-1]+n[m])/2)\n",
    "#mode\n",
    "print(min(mode))"
   ]
  }
 ],
 "metadata": {
  "kernelspec": {
   "display_name": "Python 3",
   "language": "python",
   "name": "python3"
  },
  "language_info": {
   "codemirror_mode": {
    "name": "ipython",
    "version": 3
   },
   "file_extension": ".py",
   "mimetype": "text/x-python",
   "name": "python",
   "nbconvert_exporter": "python",
   "pygments_lexer": "ipython3",
   "version": "3.11.5"
  }
 },
 "nbformat": 4,
 "nbformat_minor": 2
}

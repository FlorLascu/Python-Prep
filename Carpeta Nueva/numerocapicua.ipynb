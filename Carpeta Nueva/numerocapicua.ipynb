{
 "cells": [
  {
   "cell_type": "code",
   "execution_count": 37,
   "metadata": {},
   "outputs": [],
   "source": [
    "def numerocapicua(numero):\n",
    "    '''escribe una funcion que determine su un numero es capicua\n",
    "    En matematicas, la palabra capicua (del catalan ca i cua, 'cabeza y cola')\n",
    "    se refiere a cualquier numero que se lee igual de izquierda a derecha que de derecha a izquierda\n",
    "    Se denominan tambien numeros palidromos\n",
    "    \n",
    "    Esta funcion debe retornar un valor booleano :\n",
    "    True   -> si el numero es capicua\n",
    "    False  -> si el numero no es capicua\n",
    "    \n",
    "    Ej:\n",
    "    numerocapicua(55) debe retornar True\n",
    "    \n",
    "    La funcion numero capucua debe retornar un booleano\n",
    "    La funcion recibe como parametro:\n",
    "    numero: un entero\n",
    "    '''\n",
    "    #tu codigo aca:\n",
    "    stringdenumero = str(numero)\n",
    "    listdenuemro = list(stringdenumero.strip(\" \"))\n",
    "    k = len(listdenuemro)\n",
    "    print(k)\n",
    "    escapicua = False\n",
    "    j=len(listdenuemro)//2\n",
    "    print(j)\n",
    "    for i in range (0,j):\n",
    "        desc = k-i-1\n",
    "        print(listdenuemro[i] , listdenuemro[desc] )\n",
    "        if listdenuemro[i] != listdenuemro[desc]:\n",
    "            escapicua = False\n",
    "            break\n",
    "        else:\n",
    "            escapicua = True\n",
    "    return escapicua\n",
    "    \n"
   ]
  },
  {
   "cell_type": "code",
   "execution_count": 24,
   "metadata": {},
   "outputs": [
    {
     "name": "stdout",
     "output_type": "stream",
     "text": [
      "['1', '5', '5', '1']\n",
      "0 3\n",
      "1 2\n"
     ]
    }
   ],
   "source": [
    "n=1551\n",
    "str_1=str(n)\n",
    "list_1 = list(str_1.strip(\" \"))\n",
    "print(list_1)\n",
    "k=len(list_1)\n",
    "j = len(list_1)//2\n",
    "for i in range (0,j):\n",
    "        desc = k-i-1\n",
    "        print(i,desc)"
   ]
  },
  {
   "cell_type": "code",
   "execution_count": 8,
   "metadata": {},
   "outputs": [
    {
     "name": "stdout",
     "output_type": "stream",
     "text": [
      "7\n"
     ]
    }
   ],
   "source": [
    "stringdenumero = str(1505051)\n",
    "listdenuemro = list(stringdenumero.strip(\" \"))\n",
    "n = len(listdenuemro)\n",
    "print(n)"
   ]
  },
  {
   "cell_type": "code",
   "execution_count": 27,
   "metadata": {},
   "outputs": [
    {
     "data": {
      "text/plain": [
       "True"
      ]
     },
     "execution_count": 27,
     "metadata": {},
     "output_type": "execute_result"
    }
   ],
   "source": [
    "numerocapicua(55)"
   ]
  },
  {
   "cell_type": "code",
   "execution_count": 38,
   "metadata": {},
   "outputs": [
    {
     "name": "stdout",
     "output_type": "stream",
     "text": [
      "6\n",
      "3\n",
      "4 5\n"
     ]
    },
    {
     "data": {
      "text/plain": [
       "False"
      ]
     },
     "execution_count": 38,
     "metadata": {},
     "output_type": "execute_result"
    }
   ],
   "source": [
    "numerocapicua(446655)"
   ]
  },
  {
   "cell_type": "code",
   "execution_count": 30,
   "metadata": {},
   "outputs": [
    {
     "data": {
      "text/plain": [
       "False"
      ]
     },
     "execution_count": 30,
     "metadata": {},
     "output_type": "execute_result"
    }
   ],
   "source": [
    "numerocapicua(150512)"
   ]
  },
  {
   "cell_type": "code",
   "execution_count": null,
   "metadata": {},
   "outputs": [],
   "source": [
    "for i in range (0,):\n",
    "        desc = n-i"
   ]
  },
  {
   "cell_type": "code",
   "execution_count": null,
   "metadata": {},
   "outputs": [],
   "source": [
    "S=input()\n",
    "string_input = str(S)\n",
    "lista_str = list(string_input.strip(\" \"))\n",
    "k = len(lista_str)\n",
    "string_odd = lista_str[1]\n",
    "string_even = lista_str[0]\n",
    "for i in range(2, k+1):\n",
    "    if i % 2 == 0:\n",
    "        string_even =(string_even+lista_str[i])\n",
    "    else:\n",
    "        string_odd = (string_odd+lista_str[i])\n",
    "print(string_even)\n",
    "print(string_odd)"
   ]
  }
 ],
 "metadata": {
  "kernelspec": {
   "display_name": "Python 3",
   "language": "python",
   "name": "python3"
  },
  "language_info": {
   "codemirror_mode": {
    "name": "ipython",
    "version": 3
   },
   "file_extension": ".py",
   "mimetype": "text/x-python",
   "name": "python",
   "nbconvert_exporter": "python",
   "pygments_lexer": "ipython3",
   "version": "3.11.5"
  },
  "orig_nbformat": 4
 },
 "nbformat": 4,
 "nbformat_minor": 2
}

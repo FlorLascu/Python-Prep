{
 "cells": [
  {
   "cell_type": "code",
   "execution_count": null,
   "metadata": {},
   "outputs": [],
   "source": [
    "# https://www.youtube.com/watch?v=7r93582ncVg&list=PLjnxTN2GjlNDokv29U0LXmkF2SgTFlDhA&index=8 Resolucion\n",
    "def filtrar(funcion):\n",
    "\n",
    "    '''Escribi una funcion filtrar en el prototipo de Arrays\n",
    "    que recibe una funcion (callback) que devuelve true o false\n",
    "    filtrar los elementos de ese arreglo en base al resultado de esa funcion \n",
    "    comparadora, devolver un nuevo arreglo con los elementos filtrados\n",
    "    NO USAR LA FUNCION FILTER DE LOS ARREGLOS\n",
    "    ej:\n",
    "    var_productos = [{price :100, name: 'tv', }, {price: 50,name: 'phone'},{price: 30, name: 'lamp'} ]\n",
    "    productos.filtrar(function(p))\n",
    "            return p.price >=50 -> [{price: 100, name: 'tv'}]'''"
   ]
  }
 ],
 "metadata": {
  "language_info": {
   "name": "python"
  },
  "orig_nbformat": 4
 },
 "nbformat": 4,
 "nbformat_minor": 2
}

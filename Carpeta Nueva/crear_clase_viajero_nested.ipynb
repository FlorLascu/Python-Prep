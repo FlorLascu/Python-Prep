{
 "cells": [
  {
   "cell_type": "code",
   "execution_count": 264,
   "metadata": {},
   "outputs": [],
   "source": [
    "def crear_Clase_Viajero(nombre,edad,paises,companieros):\n",
    "  \n",
    "    class Viajero():\n",
    "      def __init__(self, nombre, edad, paises, companieros):\n",
    "        self.nombre   = nombre\n",
    "        self.edad  = edad\n",
    "        self.paises = [paises]\n",
    "        self.companieros = [companieros]\n",
    "        \n",
    "      def addPais(self,pais):\n",
    "        #class Pais():\n",
    "        #  def __init__(self,pais):\n",
    "        #   self.pais = Pais\n",
    "        new_pais=pais    \n",
    "        self.paises.append(new_pais)\n",
    "      \n",
    "      def addcompaniero(self, nombre_compa,nacionalidad_compa,edad_compa):\n",
    "        class Companiero():\n",
    "          def __init__(self,nombre_compa,nacionalidad_compa,edad_compa):\n",
    "                    self.nombre_compa = nombre_compa\n",
    "                    self.nacionalidad_compa = nacionalidad_compa\n",
    "                    self.edad_compa = edad_compa\n",
    "        compa = Companiero(nombre_compa,nacionalidad_compa,edad_compa)  \n",
    "        self.companieros.append({compa.nombre_compa,compa.edad_compa,compa.nacionalidad_compa})\n",
    "      \n",
    "      def print(self):\n",
    "        print(self.nombre, self.edad,self.paises,self.companieros)\n",
    "        \n",
    "    viajero = Viajero(nombre,edad,paises,companieros)\n",
    "    return viajero\n"
   ]
  },
  {
   "cell_type": "code",
   "execution_count": 265,
   "metadata": {},
   "outputs": [],
   "source": [
    "viajero2=crear_Clase_Viajero('Pedro',20,'Brasil',[])"
   ]
  },
  {
   "cell_type": "code",
   "execution_count": 274,
   "metadata": {},
   "outputs": [
    {
     "name": "stdout",
     "output_type": "stream",
     "text": [
      "Pedro 20 ['Brasil', 'Chile'] [[], {'Ana', 24, 'USA'}, {'Ana', 24, 'USA'}, {'Ana', 24, 'USA'}]\n"
     ]
    }
   ],
   "source": [
    "viajero2.print()"
   ]
  },
  {
   "cell_type": "code",
   "execution_count": 273,
   "metadata": {},
   "outputs": [],
   "source": [
    "viajero2.addcompaniero('Ana',24,'USA')"
   ]
  },
  {
   "cell_type": "code",
   "execution_count": 269,
   "metadata": {},
   "outputs": [],
   "source": [
    "viajero2.addPais('Chile')"
   ]
  },
  {
   "cell_type": "code",
   "execution_count": 272,
   "metadata": {},
   "outputs": [
    {
     "name": "stdout",
     "output_type": "stream",
     "text": [
      "Pedro 20 ['Brasil', 'Chile'] [[], {'Ana', 24, 'USA'}, {'Ana', 24, 'USA'}]\n"
     ]
    }
   ],
   "source": [
    "viajero2.print()"
   ]
  },
  {
   "cell_type": "code",
   "execution_count": 239,
   "metadata": {},
   "outputs": [],
   "source": [
    "viajero_B =crear_Clase_Viajero('Luis',18,['Chile','Uy'],[{'Ema',18,'Mx'}])"
   ]
  },
  {
   "cell_type": "code",
   "execution_count": 244,
   "metadata": {},
   "outputs": [
    {
     "name": "stdout",
     "output_type": "stream",
     "text": [
      "Luis 18 [['Chile', 'Uy'], 'Colombia'] [{18, 'Ema', 'Mx'}, {'Ana', 'Peru', 20}]\n"
     ]
    }
   ],
   "source": [
    "viajero_B.print()"
   ]
  },
  {
   "cell_type": "code",
   "execution_count": 241,
   "metadata": {},
   "outputs": [],
   "source": [
    "viajero_B.addcompaniero('Ana',20,'Peru')"
   ]
  },
  {
   "cell_type": "code",
   "execution_count": 243,
   "metadata": {},
   "outputs": [],
   "source": [
    "viajero_B.addPais('Colombia')"
   ]
  },
  {
   "cell_type": "code",
   "execution_count": 252,
   "metadata": {},
   "outputs": [],
   "source": [
    "viajero_A = crear_Clase_Viajero(\"Juan\",25,('Argentina','USA'),[{'Ana',20,'Peru'}])"
   ]
  },
  {
   "cell_type": "code",
   "execution_count": 256,
   "metadata": {},
   "outputs": [
    {
     "name": "stdout",
     "output_type": "stream",
     "text": [
      "Juan 25 [('Argentina', 'USA'), 'Venezuela'] [{'Ana', 'Peru', 20}, {'Lola', 30, 'Brasil'}]\n"
     ]
    }
   ],
   "source": [
    "viajero_A.print()"
   ]
  },
  {
   "cell_type": "code",
   "execution_count": 254,
   "metadata": {},
   "outputs": [],
   "source": [
    "viajero_A.addcompaniero('Lola','Brasil',30)"
   ]
  },
  {
   "cell_type": "code",
   "execution_count": 255,
   "metadata": {},
   "outputs": [],
   "source": [
    "viajero_A.addPais('Venezuela')"
   ]
  }
 ],
 "metadata": {
  "kernelspec": {
   "display_name": "Python 3",
   "language": "python",
   "name": "python3"
  },
  "language_info": {
   "codemirror_mode": {
    "name": "ipython",
    "version": 3
   },
   "file_extension": ".py",
   "mimetype": "text/x-python",
   "name": "python",
   "nbconvert_exporter": "python",
   "pygments_lexer": "ipython3",
   "version": "3.11.5"
  }
 },
 "nbformat": 4,
 "nbformat_minor": 2
}

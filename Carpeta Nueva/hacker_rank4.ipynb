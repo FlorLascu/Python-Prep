{
 "cells": [
  {
   "cell_type": "code",
   "execution_count": 17,
   "metadata": {},
   "outputs": [],
   "source": [
    "import math\n",
    "import os\n",
    "import random\n",
    "import re\n",
    "import sys\n",
    "\n",
    "def diagonalDifference(arr):\n",
    "    # Write your code here\n",
    "    n = len(arr[0])\n",
    "    lr_diag = 0\n",
    "    rl_diag = 0\n",
    "    for i in range(0, n):\n",
    "        lr_diag = arr[i][i] + lr_diag\n",
    "        rl_diag = arr[i][n-1-i] + rl_diag\n",
    "    diff = lr_diag - rl_diag\n",
    "    abs_dif = ( diff * diff) ** ( 1/2)\n",
    "    print(abs_dif)\n",
    "    return abs_dif"
   ]
  },
  {
   "cell_type": "code",
   "execution_count": 13,
   "metadata": {},
   "outputs": [],
   "source": [
    "arr = [[11,2,4] , [4,5,6] , [10,8,-12]]"
   ]
  },
  {
   "cell_type": "code",
   "execution_count": 11,
   "metadata": {},
   "outputs": [
    {
     "name": "stdout",
     "output_type": "stream",
     "text": [
      "3\n"
     ]
    }
   ],
   "source": [
    "n = len(arr[0])\n",
    "print(n)"
   ]
  },
  {
   "cell_type": "code",
   "execution_count": 18,
   "metadata": {},
   "outputs": [
    {
     "name": "stdout",
     "output_type": "stream",
     "text": [
      "15.0\n"
     ]
    },
    {
     "data": {
      "text/plain": [
       "15.0"
      ]
     },
     "execution_count": 18,
     "metadata": {},
     "output_type": "execute_result"
    }
   ],
   "source": [
    "diagonalDifference(arr)"
   ]
  },
  {
   "cell_type": "code",
   "execution_count": 6,
   "metadata": {},
   "outputs": [],
   "source": [
    "class Player():\n",
    "  def __init__(self, name, items):\n",
    "    self.name   = name\n",
    "    self.items  = items\n",
    "\n",
    "  def push(self, x):\n",
    "    self.items.append(x)\n",
    "\n",
    "  def print(self):\n",
    "    print(self.name,\": \",self.items)\n",
    "\n",
    "\n",
    "# initialize character\n",
    "player = Player(\"Joey\", \n",
    "  [\"movie stub\", \"keys\", \"army man\"])\n"
   ]
  },
  {
   "cell_type": "code",
   "execution_count": 7,
   "metadata": {},
   "outputs": [],
   "source": [
    "playerA = Player('John',['movie','games'])"
   ]
  },
  {
   "cell_type": "code",
   "execution_count": 11,
   "metadata": {},
   "outputs": [
    {
     "name": "stdout",
     "output_type": "stream",
     "text": [
      "John :  ['movie', 'games', 'tic']\n"
     ]
    }
   ],
   "source": [
    "playerA.print()"
   ]
  },
  {
   "cell_type": "code",
   "execution_count": 10,
   "metadata": {},
   "outputs": [],
   "source": [
    "playerA.push('tic')"
   ]
  },
  {
   "cell_type": "code",
   "execution_count": 4,
   "metadata": {},
   "outputs": [
    {
     "data": {
      "text/plain": [
       "['movie stub', 'keys', 'army man', 'a rock']"
      ]
     },
     "execution_count": 4,
     "metadata": {},
     "output_type": "execute_result"
    }
   ],
   "source": [
    "player.items"
   ]
  },
  {
   "cell_type": "code",
   "execution_count": 3,
   "metadata": {},
   "outputs": [],
   "source": [
    "player.push(\"a rock\")"
   ]
  },
  {
   "cell_type": "code",
   "execution_count": 5,
   "metadata": {},
   "outputs": [
    {
     "name": "stdout",
     "output_type": "stream",
     "text": [
      "Joey :  ['movie stub', 'keys', 'army man', 'a rock']\n"
     ]
    }
   ],
   "source": [
    "player.print()"
   ]
  },
  {
   "cell_type": "code",
   "execution_count": null,
   "metadata": {},
   "outputs": [],
   "source": [
    "def stringMasLarga(strings):\n",
    "    '''la funcion llamada 'stringMasLarga', recibe como argumento un arreglo de strings llamado 'string'\n",
    "    y debe devolver el string mas largo que hay en el arreglo. Es decir, el de mayor cantidad de caracteres\n",
    "    Ej:\n",
    "    stringMasLarga(['hi','hello','ni hao', 'guten tag']); debe retornar 'guten tag'\n",
    "    stringMasLarga(['JavaScript','HTML','CSS']) debe retornar 'JavaScript\n",
    "    '''\n",
    "    #tu codigo aca:\n",
    "    "
   ]
  },
  {
   "cell_type": "code",
   "execution_count": null,
   "metadata": {},
   "outputs": [],
   "source": [
    "def buscarAmigo(amigos,nombre):\n",
    "    '''la funcion llamada buscarAmigo'  recibe como argumento un array llamado 'amigos'que contiene en\n",
    "    cada posicion del arreglo un objeto que tiene como propiedades 'nombre'y 'edad'.\n",
    "    Tambien recibe un string llamado 'nombre'.\n",
    "    Debe devolver el objeto cuya propiedad 'nombre'coincida co el string 'nombre'recibido por argumento.\n",
    "    \n",
    "    Ej:\n",
    "    Var amigos = [{nombre : 'tomi', edad: 33},{nombre: 'Emi', edad: 25}];\n",
    "    \n",
    "    buscarAmgio(amigos,'tomi') debe devolver {nombre: 'tomi', edad: 33}'''\n",
    "    \n",
    "    #tu codigo aca:\n",
    "    "
   ]
  },
  {
   "cell_type": "code",
   "execution_count": null,
   "metadata": {},
   "outputs": [],
   "source": [
    "def pluck(array,propiedad):\n",
    "    '''la funcion llamada 'pluck' recibe como argumento un array de objetos llamado 'array' y el nombre\n",
    "    de una propiedad.\n",
    "    la funcion debe devolcer un nuevo arreglo con solo los valores dentro de la propiedad recibida\n",
    "    Ej:\n",
    "    var productos = [{name: 'TV LCD', price: 100},{name: 'Computadora', price: 500}]\n",
    "    productos.pluck(productos, 'name)'deberia devolver ['TV LCD', 'Computadora']\n",
    "    Pista: es una buena oportunidad para usar map'''\n",
    "    \n",
    "    # tu codigo aca:\n",
    "    "
   ]
  },
  {
   "cell_type": "code",
   "execution_count": null,
   "metadata": {},
   "outputs": [],
   "source": [
    "def crearClasePersona()\n",
    "    '''el constructor de la clase Persona recibe nombre (string), edad (int), hobbies (array de strings)\n",
    "    amigos (array de objetos).\n",
    "    Inicializar las propiedades de la persona con los valores recibidos como argumento'''\n",
    "    \n",
    "    #tu codigo aca:\n",
    "    \n",
    "    class Persona:\n",
    "        def __init__(self,nombre,edad,hobbies,amigos):\n",
    "            \n",
    "    def addFriend(nombre,edad):\n",
    "        '''El metodo 'addFriend' recibe un string 'nombre' y un entero 'edad' y debe agregar un objeto:\n",
    "        No debe retornar nada'''\n",
    "        \n",
    "        #tu codigo aca:\n",
    "        \n",
    "    def addHobby(hobby):\n",
    "        \n",
    "        ''' el metodo 'addFriend' recibe un string 'nombre' y un entero 'edad' y debe agregar un objeto\n",
    "        {nombre: nombre, edad: edad} al arreglo de amigos de la persona\n",
    "        No debe retornar nada'''\n",
    "        \n",
    "        #tu codigo aca:\n",
    "        \n",
    "    def getFriend():\n",
    "        '''el  metodo 'getHobbies'debe retornar un arreglo con los hobbies de la persona\n",
    "        \n",
    "        Ej:\n",
    "        persona.getHobbies() debe devolver [ 'correr', 'dormir', 'nadar']'''\n",
    "        \n",
    "        #tu codigo aca:\n",
    "    def getPromedioEdad():\n",
    "        '''el metodo 'getPromedioEdad' debe retornar el promedio de edad de los amigos de una persona\n",
    "        \n",
    "        Ej:\n",
    "        Si la persona tuviera estos amigos:\n",
    "        \n",
    "        {amigos: [{nombre: 'toni', edad: 33},{nombre: 'Emi', edad: 25}]\n",
    "        \n",
    "        persona.getPromedioEdad() deberia devolver 29 ya que (33 + 25) /2 = 29'''\n",
    "        \n",
    "        #tu codigo aca:\n",
    "                 "
   ]
  },
  {
   "cell_type": "code",
   "execution_count": null,
   "metadata": {},
   "outputs": [],
   "source": [
    "def filtrar():\n",
    "    '''Escribi una funcion filtrar en el prototipo de Arrays,\n",
    "    que recibe la funcion (callback) que devuelve true o false.\n",
    "    filtrar los elementos de ese arreglo en base al resultado de esa funcion\n",
    "    comparadora, devolver un nuevo arreglo con los elementos filtrados\n",
    "    \n",
    "    NO USa LA FUNCION FILTER DE LOS ARREGLOS.\n",
    "    Ej:\n",
    "    var productos = [{ price: 100, name: 'tv'}, {price: 50, name: 'phone'},{price:30, name: 'lamp'}]\n",
    "    \n",
    "    productos.filtrar(function(p) {return p.price >+ 50; => [{price:100, name: 'tv'}]})'''"
   ]
  },
  {
   "cell_type": "code",
   "execution_count": null,
   "metadata": {},
   "outputs": [],
   "source": [
    "def partir(arreglo,entero):\n",
    "    '''escribe una funcion que permita dividir un arrgleo de enteros en varias partes de una manera\n",
    "    que cada parte tenga, como maximo, una cantidad definida de elementos(recibida por parametro)\n",
    "    Ej:\n",
    "    partir([1,2,3,4,5],2)\n",
    "    deberia retornar\n",
    "    ([1,2],[3,4],[5])\n",
    "    \n",
    "    Descripcion: Debe retornar un arreglo de arreglos. Cada sub arreglo sera a su vez un arreglo de enteros.\n",
    "    \n",
    "    Recibe como parametros:\n",
    "    \n",
    "    * arreglo: un arreglo de enteros\n",
    "    * cantidad: un entero\n",
    "    \n",
    "    Aclaraciones:\n",
    "    * la funcion debera separar el arreglo recibido por parametros (arreglo) en varios sub arreglos que \n",
    "    tengan una longitud maxima igual a la especifica por parametro (cantidad)\n",
    "    * Todo lo que imprimas con console.log() se vera en la seccion \"Debug Output\" cuando corras\n",
    "    tu codigo con el boton Run Code'''\n",
    "    \n",
    "    #tu codigo aca:\n",
    "    \n",
    "    def partir(arreglo,cantidad):\n",
    "        const_res=[]\n",
    "        while (len(arreglo) > 0):\n",
    "            cons_partial=[]\n",
    "            while (len(partical) < cantidad):\n",
    "                cons_partial.push(arreglo.shift())\n",
    "                const_res.push(cons_partial)\n",
    "        return const_res"
   ]
  },
  {
   "cell_type": "code",
   "execution_count": null,
   "metadata": {},
   "outputs": [],
   "source": [
    "def claseAlumno():\n",
    "    '''Para este ejercicio, deberas definir una clase Alumno con sus propiedades y metodos.\n",
    "    \n",
    "    Las propiedades de la clase Alumno son:\n",
    "    * nombre\n",
    "    * apellido\n",
    "    * cohorte\n",
    "    * grupoDeAmigos\n",
    "    * notasDeCheckpoints\n",
    "    \n",
    "    El constructor de la clase recibe esos cinco datos por parametro.\n",
    "    Los metodos propios de la clase Alumno son:\n",
    "    \n",
    "    * countAmigos: retorna la cantidad de amigos del alumno\n",
    "    * addAmigo: permite agregar un nuevo elemento al arreglo de amigos\n",
    "    * getNotas: retorma el arreglo de notas de checkpoints del alumno\n",
    "    * addNota: agrega un nuevo elemento al arreglo de notas de checkpoints\n",
    "    * presentacion: retorna un string conteniendo el nombre, apellido y cohorte'''\n",
    "    \n",
    "    #tu codigo aca:\n",
    "    class Alumno():\n",
    "        contructor(nombre,apellido,cohorte,grupoDeAmigos,notasDeCheckpoints)\n",
    "        \n",
    "        def addAmigos(nombre,apellido):\n",
    "            '''Agregar un objeto: {nombre:nombre,apellido:apellido} al arreglo de los amigos del alumno'''\n",
    "            #tu codigo aca:\n",
    "            \n",
    "            self.grupoDeAmigos.push({nombre,apellido})\n",
    "        \n",
    "        def countAmigos():\n",
    "            '''retorna la cantidad de amigos del alumno'''\n",
    "            #tu codigo aca:\n",
    "            len(self.grupoDeAmigos)\n",
    "            \n",
    "        def addNota(nota):\n",
    "            '''Agrega un nuevo elemento al arreglo de notas del alumno'''\n",
    "            #tu codigo aca:\n",
    "            self.notasDeCheckpoints.append(nota)\n",
    "        \n",
    "        def getNotas():\n",
    "            #tu codigo aca:\n",
    "            return self.notasDeCheckpoints\n",
    "        \n",
    "        def presentacion():\n",
    "            '''retorna nombre, apellido y cohorte del alumno dentro del string\n",
    "            'Hola, soy.... del cohorte....'''\n",
    "            # tu codigo aca:\n",
    "            \n",
    "            return f'Hola, soy {self.nombre} {self.apellido} del cohorte {self.cohorte}'"
   ]
  },
  {
   "cell_type": "code",
   "execution_count": null,
   "metadata": {},
   "outputs": [],
   "source": [
    "def agregarPropiedad():\n",
    "    '''En este ejercicio trabajaras con objetos. Tu tarea sera escribir una funcion que, al recibir un arreglo\n",
    "    de objetos, chequee si todos los objetos tienen cierta propiead (recibida tambien por parametro), y \n",
    "    se la agregue a todos los que no la tengan, con valor null.\n",
    "    \n",
    "    Ej:\n",
    "    \n",
    "    agregarPropiedad[{nombre: 'toni'},{nombre: 'Emi', edad: 25}], 'edad')\n",
    "    deberia retornar\n",
    "    \n",
    "    [{nombre: 'toni', edad: null},{nombre: 'Emi', edad: 25}]\n",
    "    Decripcion de la funcion\n",
    "    la funcion agregaPropiedad debe retornar un arreglo de objetos.\n",
    "    La funcion agregaPropiedades recibe como parametros:\n",
    "    '''\n",
    "    \n",
    "    #tu codigo aca:\n",
    "    def argegaPropiedad(amigos,propiedad):\n",
    "        for(let e of amigos) {e[propiedad]??=null}\n",
    "        return amigos\n",
    "    "
   ]
  },
  {
   "cell_type": "code",
   "execution_count": null,
   "metadata": {},
   "outputs": [],
   "source": [
    "def hayIngredienteMalogrado():\n",
    "    ''' En esta ocasion trabajaras con objetos.\n",
    "    Un ingrediente de cierta comida esta en mal estado, y hay que sacarlo de la receta junto a los que\n",
    "    esten a su lado.\n",
    "    Tu tarea es escribir una funcion que va a recibir un menu, una comida y el ingrediente en cuestion, \n",
    "    y si el ingrediente esta en la comida debes retornar un arreglo con el ingrediente y los dos\n",
    "    elementos mas cercanos a el (con un indice de diferencia, ya sea para atras o para adelante).\n",
    "    Si no encuentra el ingrediente, debe devolver : \"el Menu esta perfecto!\" \n",
    "    Ejemplo:\n",
    "    \n",
    "    let menuDeDia = {raviolesConSalsa: ['Harina', 'sal', 'huevos', 'Aceite', 'Peceto', 'Ricota'],\n",
    "    bagnaCauda:['Ajo','Anchoas','Aceite','Crema','Papas','Zanahorias'], tallarines: ['Harina','Pollo','Aceite','Huevos','Tomates','Cebolla']}\n",
    "    \n",
    "    ingredienteEnMalEstado(menuDelDia,\"raviolesConSalsa\",\"Peceto\")\n",
    "    \n",
    "    deberia retornar: ['Aceite','Peceto','Ricota']\n",
    "    \n",
    "    Descripcion de la funcion:\n",
    "    La funcion ingredienteEnMalEstado debe retornar un arreglo de strings.\n",
    "    La funcion ingredienteEnMalEstado recibe como parameytros:\n",
    "    \n",
    "    * menu : objeto\n",
    "    * comida : string\n",
    "    * ingrediente : string\n",
    "    \n",
    "    Aclaraciones:\n",
    "    * NO puedes utilizar el metodo includes()\n",
    "    * Dentro de cada propiedad (cada comida) tenes un arreglo. Podes iterarlo como quieras.\n",
    "    * En caso de no encontrarse el ingrediente en la comida, devolver: \"El menu esta perfecto\".\n",
    "    * Todo lo que imprimas con console.log() se vera en la seccion \"Debug Output'''"
   ]
  },
  {
   "cell_type": "code",
   "execution_count": null,
   "metadata": {},
   "outputs": [],
   "source": [
    "def divisores():\n",
    "    '''Deberas escribir una funcion que reciba un numero y nos retorne un arreglo con los divisores\n",
    "    del numero recibido. En caso de que el numero no tenga divisores (exceptuando el 1 y el mismo numero),\n",
    "    debera retornar \"Es primo\".\n",
    "    Ejemplo:\n",
    "    divisores(15)\n",
    "    debe retornar\n",
    "    [3,5]\n",
    "    \n",
    "    Descripcion de la funcion:\n",
    "    La funcion divisores debe retornar un arreglo de enteros si encuentra divisores del numero recibido.\n",
    "    La funcion disisores debe retornar un string (\"Es Primo\") si no encuentra divisores del numero recibido.\n",
    "    La funcion divisores recibe como parametros:\n",
    "    * numero: numero entero\n",
    "    '''\n",
    "    #tu codigo aca:\n",
    "    def divisores(numero):\n",
    "        res=[]\n",
    "        if (numero < 2 )\n",
    "            return False\n",
    "        for (let i=2; i <numero)\n",
    "            if numero % i == 0\n",
    "                res.append(i)\n",
    "            if (len(res)==0):\n",
    "                return \"Es Primo\"\n",
    "            else:\n",
    "                return res"
   ]
  },
  {
   "cell_type": "code",
   "execution_count": null,
   "metadata": {},
   "outputs": [],
   "source": [
    "def Doble(arr):\n",
    "    '''Para este ejercicio, deberas escribir una funcion que te permita calcular el doble de muchos\n",
    "    numeros a la vez.\n",
    "    La funcion recibira un arreglo de enteros y retornara un nuevo arreglo de enteros donde\n",
    "    cada elemento es el doble de uno de los elementos del arreglo original.\n",
    "    \n",
    "    Ejemplo:\n",
    "    doble([1,2,3])\n",
    "    deberia devolver [2,4,6]\n",
    "    \n",
    "    Descripcion de la funcion\n",
    "    La funcion doble debe retornar un arreglo de enteros\n",
    "    La funcion doble recibe por parametro un arreglo de numeros enteros.\n",
    "    \n",
    "    Aclaraciones:\n",
    "    * El orden de los elementos del arreglo retornado debe coincidir con el del arreglo recibido.\n",
    "    '''\n",
    "    # tu codigo aca:\n",
    "    def doble(arr):\n",
    "        return arr.map(e=>2*e)\n",
    "    "
   ]
  },
  {
   "cell_type": "code",
   "execution_count": null,
   "metadata": {},
   "outputs": [],
   "source": [
    "def buscandoaWally(personajes):\n",
    "    '''Como en los clasicos y coloridos libros de nuestra infancia, hoy necesitamos encontrar a \n",
    "    Wally entre muchos otros personajes. \n",
    "    Deberas esccribir una funcion que encuentre el string \"Wally\" dentro de un arreglo, y retorne el string \n",
    "    \"He encontrado a Wally en la posicion X\" donde X sea el indice del arreglo que ocupa \"Wally\".\n",
    "     Por ejemplo:\n",
    "     buscandoaWally(['Dobby', 'Harry','Dementor','Wally','Sirius'])\n",
    "     deberia retornar:\n",
    "     \"He encontrado a Wally en la posicion 3\"ArithmeticError\n",
    "     \n",
    "     Descripcion de la funcion\n",
    "     La funcion buscandoaWally debe retornar un string.\n",
    "     La funcion buscandoaWally recibe como parametros:\n",
    "     * personajes: un arreglo de strings\n",
    "     \n",
    "     Aclaraciones:\n",
    "     * Se presupone que el arrgelo siempre va a contener el string \"Wally\"\n",
    "     * Los test son case sensitive - es decir, reconocen diferencias entre mayusculas y minusculas.\n",
    "     Asegurate de respetar la sintaxis exactamente.\n",
    "     '''\n",
    "     \n",
    "     #tu codigo aca:\n",
    "    idx = personajes.index0f('Wally')\n",
    "    return 'He encontrado a Wally en la posicion ${idx}'\n",
    " "
   ]
  },
  {
   "cell_type": "code",
   "execution_count": null,
   "metadata": {},
   "outputs": [],
   "source": [
    "def estaOffline(usuarios,nombre):\n",
    "    '''La funcion llamada 'estaOffline' recibe como argumento un array de objetos llamado 'usuarios'\n",
    "    y un string llamada 'nombre'.\n",
    "    cada objeto tiene un property 'nombre' que es un string y otra llamada 'online' que es un booleano/\n",
    "    La funcion debe retornar true si el usuario se encuentra offline, de lo contrario false.\n",
    "    Ej:\n",
    "    usuarios = [ {nombre: 'toni', online: True},{nombre: 'Emi',online: True},\n",
    "    {nombre: 'agus', online: False}]\n",
    "    estaOffline(usuarios, 'agus') debe retornar True\n",
    "    estaOffline(usuarios, 'Emi') debe retornar False'''\n",
    "    \n",
    "    # tu codigo aca:\n",
    "    \n",
    "    let users= {}\n",
    "    usuarios.map((usuario) => (users[usuarios.nombre] = usuario.online))\n",
    "    return !users[nombre]"
   ]
  },
  {
   "cell_type": "code",
   "execution_count": null,
   "metadata": {},
   "outputs": [],
   "source": [
    "def actividadesEnComun(persona1,persona2):\n",
    "    '''La funcion llamada 'actividadesEnComun'recibe como argumento dos arrays de actividades (strings)\n",
    "    llamados 'persona1' y 'persona2'\n",
    "    y debe devolver un array de strings con las actividades en comun (aquellos que se repiten)\n",
    "    entre cada array.\n",
    "    EJ;\n",
    "        persona1 = ['leer',çomer','pasear','dormir','jugar']\n",
    "        persona2 = ['comer','dormir','futbol']\n",
    "        actividadesEnComun(persona1,persona2) => ['comer','dormir']\n",
    "        \n",
    "        Tip: podes usar ciclos for anidados.'''\n",
    "        \n",
    "        #tu codigo aca:\n",
    "    res= []\n",
    "    for (let actividad of persona1):\n",
    "        if persona2.includes(actividad) res.push(actividad)\n",
    "        \n",
    "        return res\n",
    "    \n",
    "        "
   ]
  },
  {
   "cell_type": "code",
   "execution_count": null,
   "metadata": {},
   "outputs": [],
   "source": [
    "def buscaDestruye(arreglo,num):\n",
    "    '''la funcion 'buscaDestruye'recibe como argumento un array de enteros 'arreglo' y un entero 'num'\n",
    "    Esta funcion tiene que eliminar los numeros del array que coincidan con el numero recibido como argumento.\n",
    "    La funcion debe retornar el array sin los numeros sacados.\n",
    "    Ej:\n",
    "    buscaDestruye([1,2,3,4],2) devuelve => [1,3,4]\n",
    "    Nota: SI el numero se repite mas de una vez, tambien hay que eliminarlo.\n",
    "    Ej: buscaDestruye([1,2,3,4,1],1) => devuelve [2,3,4]'''\n",
    "    \n",
    "    #tu codigo aca:\n",
    "    \n",
    "    return arreglo.filtrar((e) => e !==num)\n"
   ]
  },
  {
   "cell_type": "code",
   "execution_count": null,
   "metadata": {},
   "outputs": [],
   "source": [
    "def sumarElTipo(arreglo):\n",
    "    ''' La funcion llamada 'sumaElTipo' recibe un array de strings como argumento que cotiene tipos de \n",
    "    vehiculos y debe devolver un objeto con la cantidad de veces que se repita cada tipo.\n",
    "    El objeto que devuelve tiene como propiedades el nombre de cada vehiculo y su valor es la \n",
    "    cantidad de veces que se repite.\n",
    "    \n",
    "    EJ:\n",
    "    sumarElTipo(['auto', 'moto','auto']): debe retornar => {auto: 2, moto: 1 }\n",
    "    Tip: podes usar el cuclo for o el metodo de Array 'reduce'.\n",
    "    '''\n",
    "    #tu codigo aca:\n",
    "    let obj = {}\n",
    "    arreglo.map((vehiculo) => obj[vehiculo] ? obj[vehiculo]++ : (obj[vehiculo]=1))\n",
    "    return obj"
   ]
  },
  {
   "cell_type": "code",
   "execution_count": null,
   "metadata": {},
   "outputs": [],
   "source": [
    "def crearClaseEmprendedor():\n",
    "    class Emprendedor():\n",
    "        '''el constructor de la clase Emprendedor recibe nombre (string), apellido (string), libros\n",
    "        (array de objetos), mascotas (array de strings)\n",
    "        Inicializar las propiedades del emprendedor con los valores recibidos como argumento'''\n",
    "        #tu codigo aca:\n",
    "        def __init__(self,nombre,apellido,libros,mascotas):\n",
    "            \n",
    "            \n",
    "        def addMascota(self,mascota):\n",
    "            '''este metodo debe agregar una mascota (mascota) al arreglo de mascotas del emprendedor.\n",
    "            no debe retornar nada'''\n",
    "            #tu codigo aca:\n",
    "            \n",
    "            self.mascotas.append(mascota)\n",
    "            \n",
    "        def getMascotas():\n",
    "            '''El metodo 'getMascotas' debe retornar la cantidad de mascotas que tiene el emprendedor.\n",
    "            EJ:\n",
    "            Suponiendo que el emprendedor tiene estas mascotas: ['perro','gato']\n",
    "            emprendedor.getMascotas() deberia devolver 2'''\n",
    "            \n",
    "            #tu codigo aca:\n",
    "            return len(self.mascotas)\n",
    "        \n",
    "        def addBook(book,autor):\n",
    "            ''' Este metodo 'addBook' recibe un string 'book' y un string 'autor' y debe agregar un objeto:\n",
    "            {nombre: book, autor: autor} al arreglo de libros del emprendedor.\n",
    "            No debe retornar nada.'''\n",
    "            \n",
    "            #tu codigo aca:\n",
    "            self.libros.push({nombre: book, author: autor})\n",
    "        \n",
    "        def getBooks():\n",
    "            ''' este metodo 'getBooks' debe retornar un arreglo con solo los nombres del arreglo de libros\n",
    "            del emprendedor.\n",
    "            Ej:\n",
    "            Suponiendo que el emprendedor tiene estos libros: \n",
    "            [{nombre: 'El senor de las moscas', autor: 'William Golding'},\n",
    "            {nombre: 'Fundacion', autor: 'Isacc Asimov'}]\n",
    "            \n",
    "            emprendedor.getBooks() deberia retornar ['El senor de las moscas', 'Fundacion' ]'''\n",
    "            #tu codigo aca:\n",
    "            \n",
    "            arr = []\n",
    "            self.libros.map((obj) => arr.push(obj['nombre']))\n",
    "            \n",
    "            return arr\n",
    "        \n",
    "        def getFullName():\n",
    "            '''el metodo 'getFullName' debe retornar un string con el nombre y apellido del emprendedor\n",
    "            \n",
    "            Ej:\n",
    "            Suponiendo que el emprendedor tiene: nombre 'Elon' y apellido: 'Musk'\n",
    "            emprendedor.getFullName() deberia retornar 'Elon Musk' '''\n",
    "            #tu codigo aca:\n",
    "\n",
    "return f'{self.nombre} {self.apellido}'\n",
    "\n",
    "return Emprendedor\n"
   ]
  },
  {
   "cell_type": "code",
   "execution_count": null,
   "metadata": {},
   "outputs": [],
   "source": [
    "def mapear():\n",
    "    '''Escribir una funcion mapear en el prototipo del objeto global 'Array'\n",
    "    que recibe una funcion callback, que se ejecuta por \n",
    "    cada elemento del array mapear los elementos de ese srra segun la funcion callback.\n",
    "    Esta funcion tiene que devolver un array nuevo con los elementos mapeados.\n",
    "    NO USAR LA FUNCION MAP DE ARRAYS.\n",
    "    Ej:\n",
    "    \n",
    "    numeros = [1,2,3,4];\n",
    "    numeros.mapear(function(numero) {return numero +1:})\n",
    "    devuelve [2,3,4,5]'''\n",
    "    \n",
    "    #tu codigo aca:\n",
    "    \n",
    "    edeMap = funcion (cb)\n",
    "    arr = []\n",
    "    for i = 0:\n",
    "        while i < len(self):\n",
    "            arr.push(cb(self[i],i))\n",
    "    return arr\n",
    "Array.prototype.mapear = ederMap"
   ]
  },
  {
   "cell_type": "code",
   "execution_count": null,
   "metadata": {},
   "outputs": [],
   "source": [
    "def palabrasAFrase(array):\n",
    "    '''la funcion llamada recibe como argumento un arreglo de 'string' y debe devolver un 'string'\n",
    "    armando la frase.\n",
    "    Ej: \n",
    "    palabrasAFrase(['Dobby','loves', 'socks!']) debe retornar 'Dobby loves socks!'\n",
    "    \n",
    "    sin espacio ni antes ni despues es decir asi no => \" Dobby loves socks! \"\n",
    "    '''\n",
    "    #tu codigo aca:\n",
    "    return array.join(\" \")\n"
   ]
  },
  {
   "cell_type": "code",
   "execution_count": null,
   "metadata": {},
   "outputs": [],
   "source": [
    "def cuantosMenores(invitados):\n",
    "    '''La funcion llamada recibe como argumento un objeto 'invitados', en el objeto\n",
    "    tenemos objetos que representan invitados a una fiesta en donde todos tienen una propiedad edad\n",
    "    debe retornar la cantidad de invitados que son menores de 18.\n",
    "    Ej:\n",
    "    \n",
    "    invitados = {Luna: {edad:25}, Sebas: {edad: 7}, Marce: {edad: 34}, Nicky: {edad: 15}}\n",
    "    \n",
    "    cuantosMenores(invitados) debe retornar 2.'''\n",
    "    \n",
    "    #tu codigo aca:\n",
    "    \n",
    "    contador = 0\n",
    "    for invitado in invitados:\n",
    "        edadInvitado = invitados[invitado].edad\n",
    "        if edadInvitado <18:\n",
    "            contador+=1\n",
    "    return contador\n",
    "\n",
    "# otro: return Object.keys(invitados).reduce(a,c) => invitaddos[c].edad <18 ? a + 1 : a),0)\n",
    "\n",
    "            \n",
    "        "
   ]
  },
  {
   "cell_type": "code",
   "execution_count": null,
   "metadata": {},
   "outputs": [],
   "source": [
    "def fakeBinary2(string):\n",
    "    '''la funcion llamada 'fakeBinary2' recibe como argumento un string con numeros\n",
    "    y debe devolver un string en donde se reemplaza los numeros menores de 5 con un '0' \n",
    "    por Ej:\n",
    "    \n",
    "    fakeBinary2('5627')     devuelve '1101' \n",
    "    fakeBinary2('729')      devuelve '101'          '''\n",
    "    #tu codigo aca:\n",
    "    arr = string.split('')\n",
    "    newArr = []\n",
    "    for numberAsString of arr:\n",
    "        if (Number(numberAsString) >= 5):\n",
    "            newArr.push(1)\n",
    "        else:\n",
    "            newArr.push(0)\n",
    "            \n",
    "    return newArr.join('')\n"
   ]
  },
  {
   "cell_type": "code",
   "execution_count": null,
   "metadata": {},
   "outputs": [],
   "source": [
    "def loboEstaONoEstas(array):\n",
    "    ''' la funcion recibe un array 'array' de strings y numeros como parametro.\n",
    "    La funcion debe retornar True o False dependiendo de si 'lobo' esta en el array o no.\n",
    "    Ej:\n",
    "    loboEstaONoEstas(['hola',1,3, 'palabra'])   debe devolver False\n",
    "    loboEstaONoEstas(['hola','buena','lobo',4,5])       debe devolver True'''\n",
    "    \n",
    "    #tu codigo aca:\n",
    "    return array.includes('lobo')"
   ]
  },
  {
   "cell_type": "code",
   "execution_count": null,
   "metadata": {},
   "outputs": [],
   "source": [
    "def crearClaseMascota():\n",
    "    class Mascota:\n",
    "        '''el constructor de la clase Mascota recibe nombre (string), duenio (objeto),\n",
    "        actividades(array de objetos).\n",
    "        Ej: [{actividad: 'salir a caminar', frecuencia: '1 vez al dia'},\n",
    "        {actividad: 'banio', frecuencia: '1 vez al mes'}]\n",
    "        Inicializar las propiedades de la mascota con los valores recibidos como argumento'''\n",
    "        #tu codigo aca:\n",
    "        \n",
    "        def __init__ (self,nombre,duenio,actividades):\n",
    "        \n",
    "        def getNombre():\n",
    "            '''Este metodo debe retornar el nombre de la mascota'''\n",
    "            #tu codigo aca:\n",
    "        \n",
    "        def getDuenio():\n",
    "            '''este metodo debe retornar nombre y apellido del duenio (concatenados).'''\n",
    "            #tu codigo aca:\n",
    "            return f'{self.duenio.nombre} {self.duenio.apellido}'\n",
    "        \n",
    "        def addActividad(actividad,frecuencia):\n",
    "            '''el metodo recibe un string 'actividad' y otro string 'frecuencia'y debe\n",
    "            agregarlo al arreglo de actividades de la mascota.\n",
    "            No debe retornar nada.'''\n",
    "            #tu codigo aca:\n",
    "            self.actividades.push({actividad,frecuencia})\n",
    "          \n",
    "        def getFrecuencia(actividad):\n",
    "            '''el metodo debe retornar la frecuencia de dicha actividad\n",
    "            EJ:\n",
    "            [{actividad: 'salir a caminar', frecuencia: '1 vez al dia'},\n",
    "            {actividad: 'banio', frecuencia: '1 vez al mes'}]\n",
    "            \n",
    "            mascota.getFrecuencia('banio')      deberia retornar '1 vez al mes' '''\n",
    "            #tu codigo aca:\n",
    "            \n",
    "            query = 0\n",
    "            for let e of self.actividades:\n",
    "                if e.actividades == actividad:\n",
    "                    query = e\n",
    "            return query.frecuencia\n",
    "    \n",
    "    return Mascota       "
   ]
  },
  {
   "cell_type": "code",
   "execution_count": null,
   "metadata": {},
   "outputs": [],
   "source": [
    "def pedirComida(array):\n",
    "    '''la funcion reccibe un array de objetos en donde se detalla el nombre y tipo de dieta\n",
    "    de los integrantes de un meeting.\n",
    "    debe retornar un objeto que diga cuantos menus de que tipo de dieta hay que pedir\n",
    "    (a fines practivos solo hay dieta 'standard' y 'vegana')\n",
    "    Por ejemplo:\n",
    "    pedirComida([{nombre: 'Harry', dieta: 'standard'}, {nombre: 'Luna', dieta: 'vegana'}, \n",
    "    {nombre: 'Goyle', dieta: 'standard'}])\n",
    "    debe retornar => {standard : 2, vegana: 1}\n",
    "    '''\n",
    "    #tu codigo aca:\n",
    "    standard = 0\n",
    "    vegana = 0\n",
    "    for comenzar in array:\n",
    "        if comenzal.dieta == 'standard':\n",
    "            standard +=1\n",
    "        if comenzal.dieta == 'vegana':\n",
    "            vegana +=1\n",
    "    return {standard,vegana}\n"
   ]
  },
  {
   "cell_type": "code",
   "execution_count": null,
   "metadata": {},
   "outputs": [],
   "source": [
    "def soloNumeros(array):\n",
    "    '''la funcion llamada 'soloNumeros' recibe como argumento un arreglo de enteros y strings\n",
    "    llamado 'array'\n",
    "    Debe devolver un arreglo con solo los numeros enteros.\n",
    "    Ej:\n",
    "    soloNumeros([1, 'Henry', 2])        debe devolver [1,2]\n",
    "    \n",
    "    '''\n",
    "    #tu codigo aca:\n",
    "    "
   ]
  },
  {
   "cell_type": "code",
   "execution_count": null,
   "metadata": {},
   "outputs": [],
   "source": [
    "def buscarAmigo(amigos,nombre):\n",
    "    '''la funcion llamada 'buscarAmigo'recibe como argumento un array llamado 'amigos; que contiene\n",
    "    en cada posicion del arreglo un objeto que tiene como propiedades 'nombre' y 'edad'\n",
    "    Tambien recibe un string llamado 'nombre'ArithmeticError\n",
    "    Debe devolver el objeto cuya propiedad 'nombre' coincida con el string 'nombre' \n",
    "    recibido por argumento\n",
    "    Ej:\n",
    "    amigos = [{nombre: 'toni', eda: 33}, {nombre: 'Emi', edad: 25}];\n",
    "    buscarAmigos(amigos,'toni')     debe devolver {nombre: 'toni', edad: 33}'''\n",
    "    #tu codigo aca:\n",
    "    "
   ]
  }
 ],
 "metadata": {
  "kernelspec": {
   "display_name": "Python 3",
   "language": "python",
   "name": "python3"
  },
  "language_info": {
   "codemirror_mode": {
    "name": "ipython",
    "version": 3
   },
   "file_extension": ".py",
   "mimetype": "text/x-python",
   "name": "python",
   "nbconvert_exporter": "python",
   "pygments_lexer": "ipython3",
   "version": "3.11.5"
  }
 },
 "nbformat": 4,
 "nbformat_minor": 2
}

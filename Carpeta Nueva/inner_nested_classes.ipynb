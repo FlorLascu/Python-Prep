{
 "cells": [
  {
   "cell_type": "code",
   "execution_count": 1,
   "metadata": {},
   "outputs": [],
   "source": [
    "class Outer:\n",
    "    \"\"\"Outer Class\"\"\"\n",
    "\n",
    "    def __init__(self):\n",
    "        ## instantiating the 'Inner' class\n",
    "        self.inner = self.Inner()\n",
    "\n",
    "    def reveal(self):\n",
    "        ## calling the 'Inner' class function display\n",
    "        self.inner.inner_display(\"Calling Inner class function from Outer class\")\n",
    "\n",
    "    class Inner:\n",
    "        \"\"\"Inner Class\"\"\"\n",
    "\n",
    "        def inner_display(self, msg):\n",
    "            print(msg)\n",
    "\n",
    "    ''' This code defines two classes, Outer and Inner, where Inner is a nested class within Outer.\n",
    "        • In the Outer class, the __init__ method instantiates an object of the Inner class and assigns it to the inner\n",
    "        attribute of the Outer instance.\n",
    "        • The reveal method then calls the inner_display method of the Inner class, passing in a message as an argument.\n",
    "        • The Inner class defines a single method, inner_display, which simply prints out a message passed in as an argument.\n",
    "        • Overall, this code demonstrates how to create a nested class in Python and how to instantiate an object of the \n",
    "        nested class within the outer class.\n",
    "        • It also shows how to call a method of the nested class from the outer class.'''"
   ]
  },
  {
   "cell_type": "code",
   "execution_count": 2,
   "metadata": {},
   "outputs": [
    {
     "name": "stdout",
     "output_type": "stream",
     "text": [
      "Calling Inner class function from Outer class\n"
     ]
    }
   ],
   "source": [
    "## creating an instance of the 'Outer' class\n",
    "outer = Outer()\n",
    "## calling the 'reveal()' method . the reveal calls a method from the inner class\n",
    "outer.reveal()\n"
   ]
  },
  {
   "cell_type": "code",
   "execution_count": 4,
   "metadata": {},
   "outputs": [
    {
     "data": {
      "text/plain": [
       "'Calling Inner class function from Outer class\\nThis code snippet is not actually a code snippet, but rather a statement or a heading.\\n• It does not contain any code to explain.\\n• However, it suggests that there is an outer class and an inner class, and that there is \\na way to call a function from the inner class within the outer class.\\n• Without more context or code, it is difficult to provide a more detailed explanation.'"
      ]
     },
     "execution_count": 4,
     "metadata": {},
     "output_type": "execute_result"
    }
   ],
   "source": [
    "'''Calling Inner class function from Outer class\n",
    "This code snippet is not actually a code snippet, but rather a statement or a heading.\n",
    "• It does not contain any code to explain.\n",
    "• However, it suggests that there is an outer class and an inner class, and that there is \n",
    "a way to call a function from the inner class within the outer class.\n",
    "• Without more context or code, it is difficult to provide a more detailed explanation.'''"
   ]
  },
  {
   "cell_type": "code",
   "execution_count": 64,
   "metadata": {},
   "outputs": [],
   "source": [
    "def crear_viajero(nombre,edad,paises,companieros):\n",
    "              \n",
    "    class Viajero():\n",
    "        def __init__(self,nombre,edad,paises,companieros):\n",
    "            self.nombre = nombre\n",
    "            self.edad = edad\n",
    "            self.paises = [paises]\n",
    "            self.companieros = [companieros]\n",
    "\n",
    "        def addCompaniero(self,nombre,edad,pais):\n",
    "            compa = (nombre,edad,pais)\n",
    "            self.companieros.append({compa})\n",
    "            \n",
    "        def addPais(self,pais):\n",
    "            new_pais = pais\n",
    "            self.paises.append(new_pais)\n",
    "        \n",
    "        def print(self):\n",
    "            print(self.nombre,self.edad,self.paises,self.companieros)\n",
    "    \n",
    "    viajero = Viajero(nombre,edad,paises,companieros)\n",
    "    return viajero\n"
   ]
  },
  {
   "cell_type": "code",
   "execution_count": 65,
   "metadata": {},
   "outputs": [],
   "source": [
    "viajero2=crear_viajero('Pedro',20,'Brasil',[])"
   ]
  },
  {
   "cell_type": "code",
   "execution_count": 71,
   "metadata": {},
   "outputs": [
    {
     "name": "stdout",
     "output_type": "stream",
     "text": [
      "Pedro 20 ['Brasil', 'Uruguay', 'Paraguay'] [[], {('Ana', 24, 'USA')}, {('Ema', 18, 'Mx')}]\n"
     ]
    }
   ],
   "source": [
    "viajero2.print()"
   ]
  },
  {
   "cell_type": "code",
   "execution_count": 67,
   "metadata": {},
   "outputs": [],
   "source": [
    "viajero2.addCompaniero('Ana',24,'USA')"
   ]
  },
  {
   "cell_type": "code",
   "execution_count": 68,
   "metadata": {},
   "outputs": [],
   "source": [
    "viajero2.addPais('Uruguay')"
   ]
  },
  {
   "cell_type": "code",
   "execution_count": 69,
   "metadata": {},
   "outputs": [],
   "source": [
    "viajero2.addPais('Paraguay')"
   ]
  },
  {
   "cell_type": "code",
   "execution_count": 43,
   "metadata": {},
   "outputs": [],
   "source": [
    "compa3 = ('Ema',18,'Mx')"
   ]
  },
  {
   "cell_type": "code",
   "execution_count": 70,
   "metadata": {},
   "outputs": [],
   "source": [
    "viajero2.addCompaniero('Ema',18,'Mx')"
   ]
  },
  {
   "cell_type": "code",
   "execution_count": 72,
   "metadata": {},
   "outputs": [
    {
     "name": "stdout",
     "output_type": "stream",
     "text": [
      "Pedro 20 ['Brasil', 'Uruguay', 'Paraguay'] [[], {('Ana', 24, 'USA')}, {('Ema', 18, 'Mx')}]\n"
     ]
    }
   ],
   "source": [
    "viajero2.print()"
   ]
  },
  {
   "cell_type": "code",
   "execution_count": null,
   "metadata": {},
   "outputs": [],
   "source": [
    "def crear_Viajero(nombre,edad,paises,companieros):\n",
    "              \n",
    "    class Companiero():\n",
    "        def addCompaniero(self,list,x):\n",
    "            self.append(x)\n",
    "            \n",
    "    class Viajero():\n",
    "        def __init__(self,nombre,edad,paises,companieros):\n",
    "            self.nombre = nombre\n",
    "            self.edad = edad\n",
    "            self.paises = [paises]\n",
    "            self.companieros = [companieros]\n",
    "\n",
    "        def addCompaniero(self,nombre,edad,pais):\n",
    "            compa = (nombre,edad,pais)\n",
    "            self.companieros.append({compa})\n",
    "            \n",
    "        def addPais(self,pais):\n",
    "            new_pais = pais\n",
    "            self.paises.append(new_pais)\n",
    "        \n",
    "        def print(self):\n",
    "            print(self.nombre,self.edad,self.paises,self.companieros)\n",
    "    \n",
    "    viajero = Viajero(nombre,edad,paises,companieros)\n",
    "    return viajero\n"
   ]
  }
 ],
 "metadata": {
  "kernelspec": {
   "display_name": "Python 3",
   "language": "python",
   "name": "python3"
  },
  "language_info": {
   "codemirror_mode": {
    "name": "ipython",
    "version": 3
   },
   "file_extension": ".py",
   "mimetype": "text/x-python",
   "name": "python",
   "nbconvert_exporter": "python",
   "pygments_lexer": "ipython3",
   "version": "3.11.5"
  }
 },
 "nbformat": 4,
 "nbformat_minor": 2
}

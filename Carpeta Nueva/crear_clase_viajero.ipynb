{
 "cells": [
  {
   "cell_type": "code",
   "execution_count": 184,
   "metadata": {},
   "outputs": [],
   "source": [
    "# https://www.youtube.com/watch?v=dYWqx6nfEC4&list=PLjnxTN2GjlNDokv29U0LXmkF2SgTFlDhA&index=6 resolucion\n",
    "\n",
    "def crearClaseViajero(nombre,edad,paises,companieros):\n",
    "        '''El constuctor de la clase Viajero recibe nombre (string), edad (int), \n",
    "            paises (array de strings), companeros (array de objetos)\n",
    "            Inicializar las propiedades del viajero con los valores recibidos como argumento'''\n",
    "        #tu codigo aca:\n",
    "        #nombre,edad,paises,companieros   \n",
    "        class Viajero:\n",
    "                def __init__(self,nombre,edad,paises,companieros):\n",
    "                        self.nombre = nombre #string\n",
    "                        self.edad = edad # int\n",
    "                        self.paises = paises # array de strings\n",
    "                        self.companieros = companieros # array de objetos\n",
    "               \n",
    "                def addcompanieros(self,nombre_compa,nacionalidad_compa,edad_compa):\n",
    "                        '''el metodo addcompanieros recibe un string 'nombre', un string 'nacionalidad' y un entero 'edad' y debe agregar un objeto: \n",
    "                        {nombre: nombre, nacionalidad: nacionalidad, edad: edad} al arreglo de companieros del viajero\n",
    "                        No debe retornar nada'''\n",
    "                        #tu codigo aca\n",
    "                         \n",
    "                        compa = [nombre_compa,nacionalidad_compa,edad_compa]\n",
    "                        self.companieros.push(compa)\n",
    "\n",
    "        viajero = Viajero(nombre,edad,paises,companieros) \n",
    "            #print(a.nombre,a.edad,a.paises,a.companieros)   \n",
    "        #return [viajero.nombre,viajero.edad,viajero.paises,viajero.companieros]       \n",
    "        return viajero\n",
    "        def addPais(pais):\n",
    "                '''el metodo 'addPais' recibe un string 'pais' y debe agregarlo al arreglo de paises del viajero.\n",
    "                No debe retornar nada. '''\n",
    "                \n",
    "                #tu codigo aca:\n",
    "                \n",
    "   "
   ]
  },
  {
   "cell_type": "code",
   "execution_count": null,
   "metadata": {},
   "outputs": [],
   "source": [
    "{'Lola','Brasil',30}"
   ]
  },
  {
   "cell_type": "code",
   "execution_count": 185,
   "metadata": {},
   "outputs": [],
   "source": [
    "viajeroA = crearClaseViajero('Juan',25,['Argentina', 'USA'],{('Ana','Arg',20)})"
   ]
  },
  {
   "cell_type": "code",
   "execution_count": 186,
   "metadata": {},
   "outputs": [
    {
     "data": {
      "text/plain": [
       "25"
      ]
     },
     "execution_count": 186,
     "metadata": {},
     "output_type": "execute_result"
    }
   ],
   "source": [
    "viajeroA.edad"
   ]
  },
  {
   "cell_type": "code",
   "execution_count": 177,
   "metadata": {},
   "outputs": [
    {
     "name": "stdout",
     "output_type": "stream",
     "text": [
      "<class 'list'>\n"
     ]
    }
   ],
   "source": [
    "print(type(viajeroA))"
   ]
  },
  {
   "cell_type": "code",
   "execution_count": 187,
   "metadata": {},
   "outputs": [
    {
     "ename": "AttributeError",
     "evalue": "'set' object has no attribute 'push'",
     "output_type": "error",
     "traceback": [
      "\u001b[1;31m---------------------------------------------------------------------------\u001b[0m",
      "\u001b[1;31mAttributeError\u001b[0m                            Traceback (most recent call last)",
      "\u001b[1;32mc:\\Users\\Florencia\\Desktop\\Python-Prep\\Carpeta Nueva\\crear_clase_viajero.ipynb Celda 6\u001b[0m line \u001b[0;36m1\n\u001b[1;32m----> <a href='vscode-notebook-cell:/c%3A/Users/Florencia/Desktop/Python-Prep/Carpeta%20Nueva/crear_clase_viajero.ipynb#X14sZmlsZQ%3D%3D?line=0'>1</a>\u001b[0m viajeroA\u001b[39m.\u001b[39;49maddcompanieros(\u001b[39m'\u001b[39;49m\u001b[39mPaula\u001b[39;49m\u001b[39m'\u001b[39;49m,\u001b[39m20\u001b[39;49m,\u001b[39m'\u001b[39;49m\u001b[39mUSA\u001b[39;49m\u001b[39m'\u001b[39;49m)\n",
      "\u001b[1;32mc:\\Users\\Florencia\\Desktop\\Python-Prep\\Carpeta Nueva\\crear_clase_viajero.ipynb Celda 6\u001b[0m line \u001b[0;36m2\n\u001b[0;32m     <a href='vscode-notebook-cell:/c%3A/Users/Florencia/Desktop/Python-Prep/Carpeta%20Nueva/crear_clase_viajero.ipynb#X14sZmlsZQ%3D%3D?line=19'>20</a>\u001b[0m \u001b[39m#tu codigo aca\u001b[39;00m\n\u001b[0;32m     <a href='vscode-notebook-cell:/c%3A/Users/Florencia/Desktop/Python-Prep/Carpeta%20Nueva/crear_clase_viajero.ipynb#X14sZmlsZQ%3D%3D?line=21'>22</a>\u001b[0m compa \u001b[39m=\u001b[39m [nombre_compa,nacionalidad_compa,edad_compa]\n\u001b[1;32m---> <a href='vscode-notebook-cell:/c%3A/Users/Florencia/Desktop/Python-Prep/Carpeta%20Nueva/crear_clase_viajero.ipynb#X14sZmlsZQ%3D%3D?line=22'>23</a>\u001b[0m \u001b[39mself\u001b[39;49m\u001b[39m.\u001b[39;49mcompanieros\u001b[39m.\u001b[39;49mpush(compa)\n",
      "\u001b[1;31mAttributeError\u001b[0m: 'set' object has no attribute 'push'"
     ]
    }
   ],
   "source": [
    "viajeroA.addcompanieros('Paula',20,'USA')"
   ]
  },
  {
   "cell_type": "code",
   "execution_count": 107,
   "metadata": {},
   "outputs": [],
   "source": [
    "addcompanieros(viajeroA,'Pedro',20,'Brasil')"
   ]
  },
  {
   "cell_type": "code",
   "execution_count": 89,
   "metadata": {},
   "outputs": [
    {
     "name": "stdout",
     "output_type": "stream",
     "text": [
      "['Juan', 25, [], {}, {('Pedro', 20, 'Brasil')}, {('Paula', 20, 'USA')}]\n"
     ]
    }
   ],
   "source": [
    "print(viajeroA)"
   ]
  },
  {
   "cell_type": "code",
   "execution_count": 44,
   "metadata": {},
   "outputs": [],
   "source": [
    "viajero2=crearClaseViajero('Pedro',20,'Brasil',{})"
   ]
  },
  {
   "cell_type": "code",
   "execution_count": 45,
   "metadata": {},
   "outputs": [
    {
     "name": "stdout",
     "output_type": "stream",
     "text": [
      "['Pedro', 20, 'Brasil', {}]\n"
     ]
    }
   ],
   "source": [
    "print(viajero2)"
   ]
  },
  {
   "cell_type": "code",
   "execution_count": 61,
   "metadata": {},
   "outputs": [],
   "source": [
    "addcompanieros(viajero2,'Mike','Chile',20)\n"
   ]
  },
  {
   "cell_type": "code",
   "execution_count": 47,
   "metadata": {},
   "outputs": [
    {
     "name": "stdout",
     "output_type": "stream",
     "text": [
      "['Pedro', 20, 'Brasil', {}, {'Chile', 20, 'Mike'}]\n"
     ]
    }
   ],
   "source": [
    "print(viajero2)"
   ]
  },
  {
   "cell_type": "code",
   "execution_count": 48,
   "metadata": {},
   "outputs": [],
   "source": [
    "addcompanieros(viajero2,'Luis','USA',30)"
   ]
  },
  {
   "cell_type": "code",
   "execution_count": 49,
   "metadata": {},
   "outputs": [
    {
     "name": "stdout",
     "output_type": "stream",
     "text": [
      "['Pedro', 20, 'Brasil', {}, {'Chile', 20, 'Mike'}, {'Luis', 'USA', 30}]\n"
     ]
    }
   ],
   "source": [
    "print(viajero2)"
   ]
  },
  {
   "cell_type": "code",
   "execution_count": 58,
   "metadata": {},
   "outputs": [],
   "source": [
    "viajero2=crearClaseViajero('Pedro',20,'Brasil',{})\n",
    "viajero3=crearClaseViajero('Jose', 30,'Peru',{})"
   ]
  },
  {
   "cell_type": "code",
   "execution_count": 32,
   "metadata": {},
   "outputs": [
    {
     "name": "stdout",
     "output_type": "stream",
     "text": [
      "['Juan', 25, 'Argentina', [{20, 'Arg', 'Ana'}, {'Lola', 30, 'Brasil'}]]\n"
     ]
    }
   ],
   "source": [
    "viajero5=crearClaseViajero('Juan',25,'Argentina',[{'Ana','Arg',20},{'Lola','Brasil',30}])\n",
    "print(viajero5)"
   ]
  },
  {
   "cell_type": "code",
   "execution_count": 33,
   "metadata": {},
   "outputs": [
    {
     "name": "stdout",
     "output_type": "stream",
     "text": [
      "['Juan', 25, 'Argentina', [{20, 'Arg', 'Ana'}, {'Lola', 30, 'Brasil'}], {'USA', 20, 'Paula'}]\n"
     ]
    }
   ],
   "source": [
    "addcompanieros(viajero5,'Paula',20,'USA')\n",
    "print(viajero5)"
   ]
  },
  {
   "cell_type": "code",
   "execution_count": null,
   "metadata": {},
   "outputs": [],
   "source": [
    "print(viajero1.companieros)\n",
    "print(viajero1.edad)\n",
    "print(viajero1.paises)"
   ]
  },
  {
   "cell_type": "code",
   "execution_count": null,
   "metadata": {},
   "outputs": [],
   "source": [
    "class Companieros:\n",
    "    def __init__(self,nombre_compa,nacionalidad_compa,edad_compa):\n",
    "        self.nombre_compa = nombre_compa\n",
    "        self.nacionalidad_compa = nacionalidad_compa\n",
    "        self.edad_compa = edad_compa"
   ]
  },
  {
   "cell_type": "code",
   "execution_count": 59,
   "metadata": {},
   "outputs": [],
   "source": [
    "addcompanieros(viajero2,'Ana','Arg',20)\n",
    "addcompanieros(viajeroA,'Lola','Brasil',30)\n",
    "addcompanieros(viajero3,'Mike','Chile',20)"
   ]
  },
  {
   "cell_type": "code",
   "execution_count": 60,
   "metadata": {},
   "outputs": [
    {
     "name": "stdout",
     "output_type": "stream",
     "text": [
      "['Juan', 25, 'Argentina', [{20, 'Arg', 'Ana'}, {'Lola', 30, 'Brasil'}], {'USA', 20, 'Paula'}]\n",
      "['Pedro', 20, 'Brasil', {}, {20, 'Arg', 'Ana'}]\n",
      "['Jose', 30, 'Peru', {}, {'Chile', 20, 'Mike'}]\n"
     ]
    }
   ],
   "source": [
    "print(viajero5)\n",
    "print(viajero2)\n",
    "print(viajero3)"
   ]
  }
 ],
 "metadata": {
  "kernelspec": {
   "display_name": "Python 3",
   "language": "python",
   "name": "python3"
  },
  "language_info": {
   "codemirror_mode": {
    "name": "ipython",
    "version": 3
   },
   "file_extension": ".py",
   "mimetype": "text/x-python",
   "name": "python",
   "nbconvert_exporter": "python",
   "pygments_lexer": "ipython3",
   "version": "3.11.5"
  }
 },
 "nbformat": 4,
 "nbformat_minor": 2
}

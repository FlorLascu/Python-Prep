{
 "cells": [
  {
   "cell_type": "code",
   "execution_count": 18,
   "metadata": {},
   "outputs": [
    {
     "name": "stdout",
     "output_type": "stream",
     "text": [
      "Not Weird\n"
     ]
    }
   ],
   "source": [
    "n=int(input('ingrese un numero entero'))\n",
    "if n % 2 !=0:\n",
    "    print('Weird')\n",
    "else:\n",
    "    if n >= 2:\n",
    "        if n <= 5:\n",
    "            print('Not Weird')\n",
    "        elif n >= 6:\n",
    "            if n <=20:\n",
    "                print('Weird')\n",
    "            else:\n",
    "                print('Not Weird')\n",
    "        #print('None. Input is 0 or 1')\n",
    "\n",
    "\n"
   ]
  },
  {
   "cell_type": "code",
   "execution_count": 27,
   "metadata": {},
   "outputs": [
    {
     "name": "stdout",
     "output_type": "stream",
     "text": [
      "0\n",
      "1\n",
      "4\n",
      "9\n",
      "16\n"
     ]
    }
   ],
   "source": [
    "n=int(input('ingrese valor nro entero'))\n",
    "for i in range(0,n):\n",
    "    print(i*i)\n",
    "    i+=1\n",
    "\n"
   ]
  },
  {
   "cell_type": "code",
   "execution_count": 68,
   "metadata": {},
   "outputs": [],
   "source": [
    "#year=int(input('ingrese el anio a evaluar'))\n",
    "def is_leap(year):\n",
    "    leap=False\n",
    "    if year % 4 ==0:\n",
    "        if year % 100 ==0:\n",
    "            if year % 400 == 0:\n",
    "                leap=True\n",
    "            else:\n",
    "                leap=False\n",
    "        else:\n",
    "            leap=True\n",
    "    else:\n",
    "        leap=False\n",
    "    return leap"
   ]
  },
  {
   "cell_type": "code",
   "execution_count": 78,
   "metadata": {},
   "outputs": [
    {
     "data": {
      "text/plain": [
       "True"
      ]
     },
     "execution_count": 78,
     "metadata": {},
     "output_type": "execute_result"
    }
   ],
   "source": [
    "is_leap(2000)"
   ]
  },
  {
   "cell_type": "code",
   "execution_count": 56,
   "metadata": {},
   "outputs": [
    {
     "data": {
      "text/plain": [
       "True"
      ]
     },
     "execution_count": 56,
     "metadata": {},
     "output_type": "execute_result"
    }
   ],
   "source": [
    "is_leap(1820)"
   ]
  },
  {
   "cell_type": "code",
   "execution_count": 59,
   "metadata": {},
   "outputs": [
    {
     "data": {
      "text/plain": [
       "False"
      ]
     },
     "execution_count": 59,
     "metadata": {},
     "output_type": "execute_result"
    }
   ],
   "source": [
    "is_leap(1990)"
   ]
  },
  {
   "cell_type": "code",
   "execution_count": 73,
   "metadata": {},
   "outputs": [],
   "source": [
    "#ano bisiesto\n",
    "def is_leap2(year):\n",
    "    if year % 400 == 0:\n",
    "        return True\n",
    "    elif year % 4 == 0 and year % 100 !=0:\n",
    "        return True\n",
    "    return False"
   ]
  },
  {
   "cell_type": "code",
   "execution_count": 74,
   "metadata": {},
   "outputs": [
    {
     "data": {
      "text/plain": [
       "True"
      ]
     },
     "execution_count": 74,
     "metadata": {},
     "output_type": "execute_result"
    }
   ],
   "source": [
    "is_leap2(2000)"
   ]
  },
  {
   "cell_type": "code",
   "execution_count": 88,
   "metadata": {},
   "outputs": [
    {
     "name": "stdout",
     "output_type": "stream",
     "text": [
      "12345678910\n"
     ]
    }
   ],
   "source": [
    "n=10\n",
    "salida='1'\n",
    "for i in range(1,n):\n",
    "    salida =str(salida)+str(i+1)\n",
    "print(salida)"
   ]
  },
  {
   "cell_type": "code",
   "execution_count": 89,
   "metadata": {},
   "outputs": [
    {
     "data": {
      "text/plain": [
       "4"
      ]
     },
     "execution_count": 89,
     "metadata": {},
     "output_type": "execute_result"
    }
   ],
   "source": [
    "import re\n",
    "m = re.search(r'\\d+','1234')\n",
    "m.end()"
   ]
  },
  {
   "cell_type": "code",
   "execution_count": 90,
   "metadata": {},
   "outputs": [
    {
     "data": {
      "text/plain": [
       "0"
      ]
     },
     "execution_count": 90,
     "metadata": {},
     "output_type": "execute_result"
    }
   ],
   "source": [
    "m.start()\n"
   ]
  },
  {
   "cell_type": "code",
   "execution_count": 91,
   "metadata": {},
   "outputs": [
    {
     "name": "stdout",
     "output_type": "stream",
     "text": [
      "(0, 1)\n",
      "(1, 2)\n",
      "(2, 3)\n",
      "(3, 4)\n",
      "(4, 5)\n",
      "(5, 6)\n",
      "(6, 7)\n",
      "(9, 10)\n"
     ]
    }
   ],
   "source": [
    "#este codigo pide que encontremos el str k en el S y\n",
    "#que devolvamos la ubicacion en indice donde se encuentra el str k, cuantas veces se repita en S\n",
    "import re\n",
    "\n",
    "S = input()\n",
    "k = input()\n",
    "\n",
    "# Find all overlapping matches\n",
    "matches = re.finditer(fr'(?={k})', S)\n",
    "\n",
    "# Check if there are any matches\n",
    "if re.search(fr'{k}', S) is not None:\n",
    "    for m in matches:\n",
    "        print((m.start(), m.start() + len(k) - 1))\n",
    "else:\n",
    "    print((-1, -1))"
   ]
  },
  {
   "cell_type": "code",
   "execution_count": 2,
   "metadata": {},
   "outputs": [],
   "source": [
    "def ListadeListas(lista):\n",
    "    '''Esta funcion recibe una lista, que puede contener elementos que a su vez sean listas y devuelve\n",
    "    esos elementos por separado en una lista unica.\n",
    "    En caso de que el parametro no sea del tipo lista, debe retornar nulo.\n",
    "    Recibe un argumento:\n",
    "    lista : La lista que puede contener otras listas y se convierte a una lista\n",
    "    de elementos unicos o no iterables\n",
    "    Ej:\n",
    "    ListaDeListas([1,2,['a','b'],[10]]]) debe retornar [1,2,'a', 'b',10]\n",
    "    ListaDeListas(108) debe retornar el valor nulo.\n",
    "    ListaDeListas([[1,2,[3]],[4]]) debe retornar [1,2,3,4]'''\n",
    "\n",
    "    #Tu codigo aca:\n",
    "\n",
    "    if not (isinstance(lista,list)) :\n",
    "        return None   \n",
    "    \n",
    "    stack = lista.copy()  # copia la lista original a evaluar para no modificarla o alterarla\n",
    "    resultado = []         # es donde se iran almacenando los elementos a medida que los \"limpia y recorre\"\n",
    "    while len(stack)>0:     # mientras haya elementos a evaluar en stack seguira corriendo el ciclo\n",
    "        current = stack.pop(0)  #extrae el primer elemento de la lista ingresada, copiada a stack y lo evalua\n",
    "        if isinstance(current,int) or isinstance(current,str): # evalua si el elemento extraido es un str o int\n",
    "            resultado.append(current) # si es int o str lo agrega a la lista resultado\n",
    "\n",
    "        if isinstance(current,list):  # si no es un str o int, sino una lista comienza el ciclo for\n",
    "            for i in range(len(current) - 1, -1, -1):  #\n",
    "                stack.insert(0, current[i])\n",
    "        if len(stack) == 0:\n",
    "            return resultado\n",
    "\n",
    "    #print(ListadeListas([1,2,3,\"a\",[5,6,7,[8,9],[10,11]]]))"
   ]
  },
  {
   "cell_type": "code",
   "execution_count": 4,
   "metadata": {},
   "outputs": [
    {
     "name": "stdout",
     "output_type": "stream",
     "text": [
      "[1, 2, 3, 'a', 5, 6, 7, 8, 9, 10, 11]\n"
     ]
    }
   ],
   "source": [
    "print(ListadeListas([1,2,3,\"a\",[5,6,7,[8,9],[10,11]]]))"
   ]
  },
  {
   "cell_type": "code",
   "execution_count": 7,
   "metadata": {},
   "outputs": [],
   "source": [
    "listaA=\"1,2,4,5,6,7\""
   ]
  },
  {
   "cell_type": "code",
   "execution_count": 10,
   "metadata": {},
   "outputs": [
    {
     "name": "stdout",
     "output_type": "stream",
     "text": [
      "1,2,4,5,6,7\n",
      "a,2,4,5,6,7\n"
     ]
    }
   ],
   "source": [
    "b=listaA.replace(\"1\",\"a\")\n",
    "print(listaA)\n",
    "print(b)"
   ]
  },
  {
   "cell_type": "code",
   "execution_count": 11,
   "metadata": {},
   "outputs": [
    {
     "name": "stdout",
     "output_type": "stream",
     "text": [
      "[10, 2, 3, 6, 6, 6, 5]\n",
      "[2, 3, 5, 6, 6, 6]\n",
      "1\n",
      "10\n",
      "6\n"
     ]
    }
   ],
   "source": [
    "#encontrar el segundo mejor valor de una lista de numeros enteros = Runner_uP\n",
    "#Runner_UP.\n",
    "# En Hacker Rank hay que convertir el set en lista para operar\n",
    "\n",
    "n=0\n",
    "A=[10,2,3,6,6,6,5]\n",
    "B=A.copy()\n",
    "B.sort(reverse=False)\n",
    "ultimo=B.pop()\n",
    "contador=A.count(ultimo)\n",
    "print(A)\n",
    "print(B)\n",
    "print(contador)\n",
    "print(ultimo)\n",
    "n=0\n",
    "runner_up=0\n",
    "while n < contador:\n",
    "    runner_up=B.pop()\n",
    "    n+=1\n",
    "\n",
    "print(runner_up)\n"
   ]
  },
  {
   "cell_type": "code",
   "execution_count": 21,
   "metadata": {},
   "outputs": [
    {
     "name": "stdout",
     "output_type": "stream",
     "text": [
      "5\n"
     ]
    }
   ],
   "source": [
    "#encontrar el segundo mejor valor de una lista de numeros enteros\n",
    "#Runner_UP.\n",
    "# En Hacker Rank hay que convertir el set en lista para operar\n",
    "arr=[1, 2, 3, 6, 6, 6, 5]\n",
    "#n = int(input())\n",
    "#arr = map(int, input().split())\n",
    "arr2 = list(set(arr))\n",
    "arr2.sort()\n",
    "print(arr2[-2])"
   ]
  },
  {
   "cell_type": "code",
   "execution_count": 17,
   "metadata": {},
   "outputs": [],
   "source": [
    "def mayorMenor(numeros):\n",
    "\n",
    "    '''La funcionllamada mayorMenor recibe como argumento un arreglo de numeros llamado 'numeros' y debe devolver un arreglo que contenga el mayor \n",
    "    numero del arreglo 'numeros' en la posicion uno y  el menor numero del arreglo en la posicion cero\n",
    "\n",
    "        Ej:\n",
    "        mayorMenor[(9,17,6,2,4)] debe retornar [2,17]\n",
    "        ya que 17 es el numero mas grande (mayor) dentro de [(9,17,6,2,4)]\n",
    "        y 2 es el numero mas chico (menor) dentro del arreglo [(9,17,6,2,4)]'''\n",
    "\n",
    "#Tu codigo aca:\n",
    "    max=numeros.copy()\n",
    "    min=numeros.copy()\n",
    "    max.sort(reverse=False)\n",
    "    min.sort(reverse=True)\n",
    "    M=max.pop()\n",
    "    m=min.pop()\n",
    "\n",
    "    resultado=[m,M]\n",
    "\n",
    "    return resultado\n"
   ]
  },
  {
   "cell_type": "code",
   "execution_count": 26,
   "metadata": {},
   "outputs": [],
   "source": [
    "def menorMayor (nros):\n",
    "    valoractual=0\n",
    "    mayor=float('-inf')\n",
    "    menor=float('inf')\n",
    "    for i in range(0,len(nros)):\n",
    "        valoractual=nros[i]\n",
    "        if valoractual > mayor:\n",
    "            mayor=valoractual\n",
    "        if valoractual < menor:\n",
    "            menor=valoractual\n",
    "    resultado = [menor,mayor]\n",
    "    return resultado"
   ]
  },
  {
   "cell_type": "code",
   "execution_count": 25,
   "metadata": {},
   "outputs": [
    {
     "data": {
      "text/plain": [
       "[-1700, 900]"
      ]
     },
     "execution_count": 25,
     "metadata": {},
     "output_type": "execute_result"
    }
   ],
   "source": [
    "mayorMenor([900,-1700,-600,-200,-400])"
   ]
  },
  {
   "cell_type": "code",
   "execution_count": 27,
   "metadata": {},
   "outputs": [
    {
     "data": {
      "text/plain": [
       "[2, 17]"
      ]
     },
     "execution_count": 27,
     "metadata": {},
     "output_type": "execute_result"
    }
   ],
   "source": [
    "menorMayor([9,17,6,2,4])"
   ]
  },
  {
   "cell_type": "code",
   "execution_count": 44,
   "metadata": {},
   "outputs": [],
   "source": [
    "def menorMayor2(num): # solo funciona para enteros positivos ya que set() toma todos los valores, quita los duplicados y los ordena\n",
    "    Arr = list(set(num))\n",
    "    j = len(Arr)-1\n",
    "    mayor=Arr[j]\n",
    "    menor=Arr[0]\n",
    "    resultado = [menor,mayor]\n",
    "    \n",
    "    return resultado"
   ]
  },
  {
   "cell_type": "code",
   "execution_count": 54,
   "metadata": {},
   "outputs": [
    {
     "name": "stdout",
     "output_type": "stream",
     "text": [
      "[4, -170, -9, -6, -2]\n"
     ]
    }
   ],
   "source": [
    "#menorMayor2([9,17,6,2,4])\n",
    "arr2 = list(set([-9,-170,-6,-2,4]))\n",
    "print(arr2)"
   ]
  },
  {
   "cell_type": "code",
   "execution_count": 39,
   "metadata": {},
   "outputs": [
    {
     "name": "stdout",
     "output_type": "stream",
     "text": [
      "5\n",
      "<class 'int'>\n"
     ]
    }
   ],
   "source": [
    "j = len(arr2)\n",
    "print(j)\n",
    "print(type(j))"
   ]
  },
  {
   "cell_type": "code",
   "execution_count": 51,
   "metadata": {},
   "outputs": [
    {
     "data": {
      "text/plain": [
       "[9, -2]"
      ]
     },
     "execution_count": 51,
     "metadata": {},
     "output_type": "execute_result"
    }
   ],
   "source": [
    "num=[9,-170,-6,-2,-4]\n",
    "menorMayor2(num)"
   ]
  },
  {
   "cell_type": "code",
   "execution_count": 58,
   "metadata": {},
   "outputs": [
    {
     "name": "stdout",
     "output_type": "stream",
     "text": [
      "4\n",
      "13\n"
     ]
    }
   ],
   "source": [
    "string = [1,2,3,\"GeeksforGeeks\"]\n",
    "#   size of string object using size() method\n",
    "print(len(string))\n",
    "print(len(string[3]))"
   ]
  },
  {
   "cell_type": "code",
   "execution_count": 86,
   "metadata": {},
   "outputs": [
    {
     "name": "stdout",
     "output_type": "stream",
     "text": [
      "ni hao\n",
      "['ni hao']\n"
     ]
    }
   ],
   "source": [
    "string1=['Hi','Hello','ni hao','guten tag']\n",
    "string2=[]\n",
    "r=string1[2]\n",
    "print(r)\n",
    "string2.append(r)\n",
    "print(string2)"
   ]
  },
  {
   "cell_type": "code",
   "execution_count": 87,
   "metadata": {},
   "outputs": [],
   "source": [
    "def mismacantidaddecaracteres(string,caracteres):\n",
    "    '''La funcion llamada mismacantidaddecaracteres, recibe como argumento\n",
    "    un arreglo de strings llamado strings\n",
    "    y un numero entero llamado caracteres\n",
    "    Debe devolver en un array los strings que tengan el numero de caracteres\n",
    "    coincidente con caracteres\n",
    "    \n",
    "    Ej:\n",
    "    mismaCantidadDeCaracteres(['Hi','Hello','ni hao','guten tag'],2) \n",
    "    debe retornar ['hi'] ya que tiene 2 caracteres'''\n",
    "\n",
    "    solucion=[]\n",
    "    for i in range(0,len(string)):\n",
    "        valor_actual=string[i]\n",
    "        \n",
    "        if len(valor_actual) == caracteres:\n",
    "            solucion.append(valor_actual)\n",
    "    \n",
    "    return solucion\n"
   ]
  },
  {
   "cell_type": "code",
   "execution_count": 96,
   "metadata": {},
   "outputs": [],
   "source": [
    "def mismacantidaddecaracteres2 (string,caracteres):\n",
    "\n",
    "    solucion=list(filter(lambda x : len(x) == caracteres,string))\n",
    "\n",
    "    return solucion"
   ]
  },
  {
   "cell_type": "code",
   "execution_count": 93,
   "metadata": {},
   "outputs": [
    {
     "data": {
      "text/plain": [
       "['guten tag']"
      ]
     },
     "execution_count": 93,
     "metadata": {},
     "output_type": "execute_result"
    }
   ],
   "source": [
    "mismacantidaddecaracteres(string1,9)"
   ]
  },
  {
   "cell_type": "code",
   "execution_count": 94,
   "metadata": {},
   "outputs": [],
   "source": [
    "string3=['javascript','pedro','amigo','parque']"
   ]
  },
  {
   "cell_type": "code",
   "execution_count": 95,
   "metadata": {},
   "outputs": [
    {
     "data": {
      "text/plain": [
       "['pedro', 'amigo']"
      ]
     },
     "execution_count": 95,
     "metadata": {},
     "output_type": "execute_result"
    }
   ],
   "source": [
    "mismacantidaddecaracteres(string3,5)"
   ]
  }
 ],
 "metadata": {
  "kernelspec": {
   "display_name": "Python 3",
   "language": "python",
   "name": "python3"
  },
  "language_info": {
   "codemirror_mode": {
    "name": "ipython",
    "version": 3
   },
   "file_extension": ".py",
   "mimetype": "text/x-python",
   "name": "python",
   "nbconvert_exporter": "python",
   "pygments_lexer": "ipython3",
   "version": "3.11.5"
  },
  "orig_nbformat": 4
 },
 "nbformat": 4,
 "nbformat_minor": 2
}

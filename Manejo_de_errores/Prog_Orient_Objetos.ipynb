{
 "cells": [
  {
   "cell_type": "code",
   "execution_count": null,
   "metadata": {},
   "outputs": [],
   "source": [
    "class Animal:\n",
    "    ''' Se genera una clase Animal que tendra animales dentro'''\n",
    "    def __init__(self,especie,color,edad):\n",
    "        self.especie = especie\n",
    "        self.color = color\n",
    "        self.edad = edad\n",
    "\n",
    "    def presentarse(self):\n",
    "        print(\"Soy un \",self.especie,\"de color \",self.color,\"y tengo \",self.edad,\"anos de edad\")\n",
    "\n",
    "    def cumpliryear(self):\n",
    "        self.edad +=1\n",
    "        print(\"ahora tengo \",self.edad,\"anos\")\n",
    "        "
   ]
  },
  {
   "cell_type": "code",
   "execution_count": null,
   "metadata": {},
   "outputs": [],
   "source": [
    "perro=Animal('canino','negro',2)"
   ]
  },
  {
   "cell_type": "code",
   "execution_count": null,
   "metadata": {},
   "outputs": [],
   "source": [
    "print(perro.edad)\n",
    "print(perro.especie)\n",
    "print(perro.color)"
   ]
  },
  {
   "cell_type": "code",
   "execution_count": null,
   "metadata": {},
   "outputs": [],
   "source": [
    "perro.cumpliryear()"
   ]
  },
  {
   "cell_type": "code",
   "execution_count": null,
   "metadata": {},
   "outputs": [],
   "source": [
    "perro.presentarse()"
   ]
  },
  {
   "cell_type": "code",
   "execution_count": null,
   "metadata": {},
   "outputs": [],
   "source": [
    "conejo=Animal('roedor','blanco',4)"
   ]
  },
  {
   "cell_type": "code",
   "execution_count": null,
   "metadata": {},
   "outputs": [],
   "source": [
    "conejo.presentarse()"
   ]
  },
  {
   "cell_type": "code",
   "execution_count": null,
   "metadata": {},
   "outputs": [],
   "source": [
    "conejo.cumpliryear()"
   ]
  },
  {
   "cell_type": "code",
   "execution_count": 125,
   "metadata": {},
   "outputs": [],
   "source": [
    "from mimodulo import *"
   ]
  },
  {
   "cell_type": "code",
   "execution_count": null,
   "metadata": {},
   "outputs": [],
   "source": [
    "import importlib\n",
    "importlib.reload(mimodulo)"
   ]
  },
  {
   "cell_type": "code",
   "execution_count": 126,
   "metadata": {},
   "outputs": [],
   "source": [
    "f=herramientas()"
   ]
  },
  {
   "cell_type": "code",
   "execution_count": 128,
   "metadata": {},
   "outputs": [
    {
     "data": {
      "text/plain": [
       "120"
      ]
     },
     "execution_count": 128,
     "metadata": {},
     "output_type": "execute_result"
    }
   ],
   "source": [
    "f.factorial(5)"
   ]
  },
  {
   "cell_type": "code",
   "execution_count": null,
   "metadata": {},
   "outputs": [],
   "source": [
    "f.suma(3,5)"
   ]
  },
  {
   "cell_type": "code",
   "execution_count": null,
   "metadata": {},
   "outputs": [],
   "source": [
    "f.primo(7)"
   ]
  },
  {
   "cell_type": "code",
   "execution_count": null,
   "metadata": {},
   "outputs": [],
   "source": [
    "import sys\n",
    "sys.path.append(r'C:\\Users\\Florencia\\Desktop\\Python-Prep\\Manejo_de_errores\\mimodulo.py')"
   ]
  },
  {
   "cell_type": "code",
   "execution_count": null,
   "metadata": {},
   "outputs": [],
   "source": [
    "f.primo(17)"
   ]
  },
  {
   "cell_type": "code",
   "execution_count": null,
   "metadata": {},
   "outputs": [],
   "source": [
    "f.mas_repe([2,2,2,3,4,5,7])"
   ]
  },
  {
   "cell_type": "code",
   "execution_count": null,
   "metadata": {},
   "outputs": [],
   "source": [
    "J=[3,2,4,6,2,2,2,4,4,4,4]\n",
    "f.mas_repe(J)"
   ]
  },
  {
   "cell_type": "code",
   "execution_count": null,
   "metadata": {},
   "outputs": [],
   "source": [
    "f.convert_temp(35,'C','F')"
   ]
  },
  {
   "cell_type": "code",
   "execution_count": null,
   "metadata": {},
   "outputs": [],
   "source": [
    "def convertir_temp(valor,origen,destino):\n",
    "    if origen == 'C':\n",
    "        if destino == 'C':\n",
    "            valor_destino = valor # No hay conversion \n",
    "            print(valor,\"\",origen,\"son equivalentes a \",valor_destino,\" \",destino)\n",
    "        elif destino == 'F':\n",
    "            valor_destino = valor*9/5+32\n",
    "            print(valor,\"\",origen,\"son equivalentes a \",valor_destino,\" \",destino)\n",
    "        elif destino == 'K':\n",
    "            valor_destino = valor + 273.15\n",
    "            print(valor,\"\",origen,\"son equivalentes a \",valor_destino,\" \",destino)\n",
    "    elif origen == 'F':\n",
    "        if destino == 'F': # No hay conversion\n",
    "            valor_destino = valor\n",
    "            print(valor,\"\",origen,\"son equivalentes a \",valor_destino,\" \",destino)\n",
    "        elif destino == 'C':\n",
    "            valor_destino = valor*5/9-17.777\n",
    "            print(valor,\"\",origen,\"son equivalentes a \",valor_destino,\" \",destino)\n",
    "        elif destino == 'K':\n",
    "            valor_destino = valor * 0.556+255.37\n",
    "            print(valor,\"\",origen,\"son equivalentes a \",valor_destino,\" \",destino)\n",
    "    elif origen == 'K':\n",
    "        if destino == 'K': # No hay conversion\n",
    "            valor_destino = valor\n",
    "            print(valor,\"\",origen,\"son equivalentes a \",valor_destino,\" \",destino)\n",
    "        elif destino == 'C':\n",
    "            valor_destino= valor - 273.15\n",
    "            print(valor,\"\",origen,\"son equivalentes a \",valor_destino,\" \",destino)\n",
    "        elif destino == 'F':\n",
    "            valor_destino=1.8*valor-439.67\n",
    "            print(valor,\"\",origen,\"son equivalentes a \",valor_destino,\" \",destino)\n",
    "    return valor_destino , destino"
   ]
  },
  {
   "cell_type": "code",
   "execution_count": null,
   "metadata": {},
   "outputs": [],
   "source": [
    "convertir_temp(1,'K','C')"
   ]
  },
  {
   "cell_type": "code",
   "execution_count": 130,
   "metadata": {},
   "outputs": [],
   "source": [
    "from mimodulo import Funciones"
   ]
  },
  {
   "cell_type": "code",
   "execution_count": 133,
   "metadata": {},
   "outputs": [],
   "source": [
    "p=Funciones([2,2,2,5,6])"
   ]
  },
  {
   "cell_type": "code",
   "execution_count": 135,
   "metadata": {},
   "outputs": [
    {
     "name": "stdout",
     "output_type": "stream",
     "text": [
      "2  C son equivalentes a  275.15   K\n",
      "2  C son equivalentes a  275.15   K\n",
      "2  C son equivalentes a  275.15   K\n",
      "5  C son equivalentes a  278.15   K\n",
      "6  C son equivalentes a  279.15   K\n"
     ]
    }
   ],
   "source": [
    "p.convert_temp('C','K')"
   ]
  },
  {
   "cell_type": "code",
   "execution_count": 140,
   "metadata": {},
   "outputs": [
    {
     "name": "stdout",
     "output_type": "stream",
     "text": [
      "3 es el elemento mas repetido y se repite  3 veces\n"
     ]
    },
    {
     "data": {
      "text/plain": [
       "(3, 3)"
      ]
     },
     "execution_count": 140,
     "metadata": {},
     "output_type": "execute_result"
    }
   ],
   "source": [
    "H=[3,3,3,35,6,10]\n",
    "p.mas_repe(H)"
   ]
  },
  {
   "cell_type": "code",
   "execution_count": 137,
   "metadata": {},
   "outputs": [
    {
     "name": "stdout",
     "output_type": "stream",
     "text": [
      "el valor 2 es primo\n",
      "el valor 2 es primo\n",
      "el valor 2 es primo\n",
      "el valor 5 es primo\n",
      "el valor 6 no es primo\n"
     ]
    }
   ],
   "source": [
    "p.primo()"
   ]
  },
  {
   "cell_type": "code",
   "execution_count": null,
   "metadata": {},
   "outputs": [],
   "source": []
  }
 ],
 "metadata": {
  "kernelspec": {
   "display_name": "Python 3",
   "language": "python",
   "name": "python3"
  },
  "language_info": {
   "codemirror_mode": {
    "name": "ipython",
    "version": 3
   },
   "file_extension": ".py",
   "mimetype": "text/x-python",
   "name": "python",
   "nbconvert_exporter": "python",
   "pygments_lexer": "ipython3",
   "version": "3.11.5"
  },
  "orig_nbformat": 4
 },
 "nbformat": 4,
 "nbformat_minor": 2
}

{
 "cells": [
  {
   "cell_type": "code",
   "execution_count": 15,
   "metadata": {},
   "outputs": [],
   "source": [
    "class tools:\n",
    "    def __init__(self) -> None:\n",
    "        pass\n",
    "    \n",
    "    def prime(self,n):\n",
    "        es_primo = True\n",
    "        for i in range(2, n):\n",
    "            if n % i == 0:\n",
    "                es_primo = False\n",
    "                break\n",
    "        return es_primo\n",
    "\n",
    "    def mas_repetido(self,A):\n",
    "        a=0 #elemento_repetido en la lista\n",
    "        q=0 # cantidad de veces que se repite en la lista\n",
    "        b=0 #contador/compara\n",
    "        if len(A)==0:\n",
    "            return print(\"Lista vacia\")\n",
    "        for i in A:\n",
    "            b=A.count(i) #se cuentan cuantas veces esta presente el elemento en la lista\n",
    "            if b > q: #si la cantidad de veces que se repite el elemento es mayor que la cantidad anterior, guarda el elemento en a\n",
    "                a=i\n",
    "                q=b\n",
    "        print(a,\"es el elemento mas repetido y se repite \",q,\"veces\")\n",
    "        return a,q\n",
    "\n",
    "    def factorial(self,n):\n",
    "        f=1\n",
    "        if n<0:\n",
    "            print(\"input error. El nro es negativo\")\n",
    "            return None\n",
    "        elif type(n)!= int:\n",
    "            print(\"input error. El nro no es un entero\")\n",
    "            return None\n",
    "        elif n==0:\n",
    "            return 1\n",
    "        else:\n",
    "            for i in range(1,n+1):\n",
    "                f=i*f\n",
    "        return f        \n",
    "\n",
    "    def convert_temp(self,valor,origen,destino):\n",
    "        if origen == 'C':\n",
    "            if destino == 'C':\n",
    "                valor_destino = valor # No hay conversion \n",
    "                print(valor,\"\",origen,\"son equivalentes a \",valor_destino,\" \",destino)\n",
    "        elif destino == 'F':\n",
    "            valor_destino = valor*9/5+32\n",
    "            print(valor,\"\",origen,\"son equivalentes a \",valor_destino,\" \",destino)\n",
    "        elif destino == 'K':\n",
    "            valor_destino = valor + 273.15\n",
    "            print(valor,\"\",origen,\"son equivalentes a \",valor_destino,\" \",destino)\n",
    "        elif origen == 'F':\n",
    "            if destino == 'F': # No hay conversion\n",
    "                valor_destino = valor\n",
    "                print(valor,\"\",origen,\"son equivalentes a \",valor_destino,\" \",destino)\n",
    "        elif destino == 'C':\n",
    "            valor_destino = valor*5/9-17.777\n",
    "            print(valor,\"\",origen,\"son equivalentes a \",valor_destino,\" \",destino)\n",
    "        elif destino == 'K':\n",
    "            valor_destino = valor * 0.556+255.37\n",
    "            print(valor,\"\",origen,\"son equivalentes a \",valor_destino,\" \",destino)\n",
    "        elif origen == 'K':\n",
    "            if destino == 'K': # No hay conversion\n",
    "                valor_destino = valor\n",
    "                print(valor,\"\",origen,\"son equivalentes a \",valor_destino,\" \",destino)\n",
    "        elif destino == 'C':\n",
    "            valor_destino= valor - 273.15\n",
    "            print(valor,\"\",origen,\"son equivalentes a \",valor_destino,\" \",destino)\n",
    "        elif destino == 'F':\n",
    "            valor_destino=1.8*valor-439.67\n",
    "            print(valor,\"\",origen,\"son equivalentes a \",valor_destino,\" \",destino)\n",
    "        return valor_destino,destino   \n",
    "        "
   ]
  },
  {
   "cell_type": "code",
   "execution_count": 18,
   "metadata": {},
   "outputs": [],
   "source": [
    "t=tools()"
   ]
  },
  {
   "cell_type": "code",
   "execution_count": 37,
   "metadata": {},
   "outputs": [],
   "source": [
    "A=[2,3,4,5,6,7,8,2,2,3,2,2,5]"
   ]
  },
  {
   "cell_type": "code",
   "execution_count": 72,
   "metadata": {},
   "outputs": [
    {
     "data": {
      "text/plain": [
       "True"
      ]
     },
     "execution_count": 72,
     "metadata": {},
     "output_type": "execute_result"
    }
   ],
   "source": [
    "t.prime(7)"
   ]
  },
  {
   "cell_type": "code",
   "execution_count": 23,
   "metadata": {},
   "outputs": [
    {
     "name": "stdout",
     "output_type": "stream",
     "text": [
      "input error. El nro no es un entero\n"
     ]
    }
   ],
   "source": [
    "t.factorial(1.50)"
   ]
  },
  {
   "cell_type": "code",
   "execution_count": 58,
   "metadata": {},
   "outputs": [],
   "source": [
    "def mas_repe(A):\n",
    "        a=0 #elemento_repetido en la lista\n",
    "        q=0 # cantidad de veces que se repite en la lista\n",
    "        b=0 #contador/compara\n",
    "        if len(A)==0:\n",
    "            return print(\"Lista vacia\")\n",
    "        for i in A:\n",
    "            b=A.count(i) #se cuentan cuantas veces esta presente el elemento en la lista\n",
    "            if b > q: #si la cantidad de veces que se repite el elemento es mayor que la cantidad anterior, guarda el elemento en a\n",
    "                a=i\n",
    "                q=b\n",
    "        print(a,\"es el elemento mas repetido y se repite \",q,\"veces\")\n",
    "        return a,q"
   ]
  },
  {
   "cell_type": "code",
   "execution_count": 59,
   "metadata": {},
   "outputs": [
    {
     "name": "stdout",
     "output_type": "stream",
     "text": [
      "2 es el elemento mas repetido y se repite  5 veces\n"
     ]
    },
    {
     "data": {
      "text/plain": [
       "(2, 5)"
      ]
     },
     "execution_count": 59,
     "metadata": {},
     "output_type": "execute_result"
    }
   ],
   "source": [
    "mas_repe(A)"
   ]
  },
  {
   "cell_type": "code",
   "execution_count": 74,
   "metadata": {},
   "outputs": [
    {
     "name": "stdout",
     "output_type": "stream",
     "text": [
      "2 es el elemento mas repetido y se repite  5 veces\n"
     ]
    },
    {
     "data": {
      "text/plain": [
       "(2, 5)"
      ]
     },
     "execution_count": 74,
     "metadata": {},
     "output_type": "execute_result"
    }
   ],
   "source": [
    "t.mas_repetido(A)"
   ]
  },
  {
   "cell_type": "code",
   "execution_count": 75,
   "metadata": {},
   "outputs": [
    {
     "ename": "SyntaxError",
     "evalue": "invalid syntax (3713625625.py, line 1)",
     "output_type": "error",
     "traceback": [
      "\u001b[1;36m  Cell \u001b[1;32mIn[75], line 1\u001b[1;36m\u001b[0m\n\u001b[1;33m    import Herramientas from *\u001b[0m\n\u001b[1;37m                        ^\u001b[0m\n\u001b[1;31mSyntaxError\u001b[0m\u001b[1;31m:\u001b[0m invalid syntax\n"
     ]
    }
   ],
   "source": [
    "import Herramientas from "
   ]
  }
 ],
 "metadata": {
  "kernelspec": {
   "display_name": "Python 3",
   "language": "python",
   "name": "python3"
  },
  "language_info": {
   "codemirror_mode": {
    "name": "ipython",
    "version": 3
   },
   "file_extension": ".py",
   "mimetype": "text/x-python",
   "name": "python",
   "nbconvert_exporter": "python",
   "pygments_lexer": "ipython3",
   "version": "3.11.5"
  },
  "orig_nbformat": 4
 },
 "nbformat": 4,
 "nbformat_minor": 2
}

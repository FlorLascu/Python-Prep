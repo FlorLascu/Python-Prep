{
 "cells": [
  {
   "attachments": {},
   "cell_type": "markdown",
   "metadata": {},
   "source": [
    "## Clases y Programación Orientada a Objetos"
   ]
  },
  {
   "attachments": {},
   "cell_type": "markdown",
   "metadata": {},
   "source": [
    "1) Crear la clase vehículo que contenga los atributos:<br>\n",
    "Color<br>\n",
    "Si es moto, auto, camioneta ó camión<br>\n",
    "Cilindrada del motor"
   ]
  },
  {
   "cell_type": "code",
   "execution_count": null,
   "metadata": {},
   "outputs": [],
   "source": [
    "class vehiculo:\n",
    "    def __init__(self,color,tipo,cilindrada):    \n",
    "        self.color = color\n",
    "        self.tipo = tipo\n",
    "        self.cilindrada = cilindrada\n"
   ]
  },
  {
   "attachments": {},
   "cell_type": "markdown",
   "metadata": {},
   "source": [
    "2) A la clase Vehiculo creada en el punto 1, agregar los siguientes métodos:<br>\n",
    "Acelerar<br>\n",
    "Frenar<br>\n",
    "Doblar<br>"
   ]
  },
  {
   "cell_type": "code",
   "execution_count": 64,
   "metadata": {},
   "outputs": [],
   "source": [
    "class vehiculo:\n",
    "    def __init__(self,name,color,tipo,cilindrada):    \n",
    "        self.name = name\n",
    "        self.color = color\n",
    "        self.tipo = tipo\n",
    "        self.cilindrada = cilindrada\n",
    "        self.velocidad = 0\n",
    "        self.direccion = 0\n",
    "    \n",
    "    def acelerar(self,vel):\n",
    "        self.velocidad +=vel\n",
    "    def frenar(self,vel):\n",
    "        self.velocidad -= vel\n",
    "    def doblar (self,grados):\n",
    "        self.direccion += grados\n",
    "    \n",
    "    def estado(self):\n",
    "        print('velocidad: ',self.velocidad,'direccion: ', self.direccion)\n",
    "    \n",
    "    def presentacion(self):\n",
    "        print(self.name, \"es \",'Color: ', self.color)\n",
    "        print(self.name, \"es \",'tipo ', self.tipo)\n",
    "        print(self.name, \"tiene una\",'cilindrada: ', self.cilindrada)\n",
    "        print('velocidad',self.velocidad)\n",
    "        print('direccion:', self.direccion)"
   ]
  },
  {
   "attachments": {},
   "cell_type": "markdown",
   "metadata": {},
   "source": [
    "3) Instanciar 3 objetos de la clase vehículo y ejecutar sus métodos, probar luego el resultado"
   ]
  },
  {
   "cell_type": "code",
   "execution_count": 65,
   "metadata": {},
   "outputs": [],
   "source": [
    "v1=vehiculo('v1','blanco','auto',1500)\n",
    "v2=vehiculo('v2','negro','camion',2500)\n",
    "v3=vehiculo('v3','azul','moto',750)\n"
   ]
  },
  {
   "cell_type": "code",
   "execution_count": 66,
   "metadata": {},
   "outputs": [],
   "source": [
    "v1.acelerar(50)\n",
    "v2.acelerar(100)\n",
    "v3.doblar(90)\n"
   ]
  },
  {
   "cell_type": "code",
   "execution_count": 70,
   "metadata": {},
   "outputs": [],
   "source": [
    "v1.acelerar(50)"
   ]
  },
  {
   "cell_type": "code",
   "execution_count": 71,
   "metadata": {},
   "outputs": [
    {
     "name": "stdout",
     "output_type": "stream",
     "text": [
      "v1 es  Color:  blanco\n",
      "v1 es  tipo  auto\n",
      "v1 tiene una cilindrada:  1500\n",
      "velocidad 150\n",
      "direccion: 0\n",
      "v2 es  Color:  negro\n",
      "v2 es  tipo  camion\n",
      "v2 tiene una cilindrada:  2500\n",
      "velocidad 100\n",
      "direccion: 0\n",
      "v3 es  Color:  azul\n",
      "v3 es  tipo  moto\n",
      "v3 tiene una cilindrada:  750\n",
      "velocidad 0\n",
      "direccion: 90\n"
     ]
    }
   ],
   "source": [
    "v1.presentacion()\n",
    "v2.presentacion()\n",
    "v3.presentacion()"
   ]
  },
  {
   "attachments": {},
   "cell_type": "markdown",
   "metadata": {},
   "source": [
    "4) Agregar a la clase Vehiculo, un método que muestre su estado, es decir, a que velocidad se encuentra y su dirección. Y otro método que muestre color, tipo y cilindrada"
   ]
  },
  {
   "cell_type": "code",
   "execution_count": null,
   "metadata": {},
   "outputs": [],
   "source": []
  },
  {
   "attachments": {},
   "cell_type": "markdown",
   "metadata": {},
   "source": [
    "5) Crear una clase que permita utilizar las funciones creadas en la práctica del módulo 7<br>\n",
    "Verificar Primo<br>\n",
    "Valor modal<br>\n",
    "Conversión grados<br>\n",
    "Factorial<br>"
   ]
  },
  {
   "cell_type": "code",
   "execution_count": 3,
   "metadata": {},
   "outputs": [],
   "source": [
    "class Funciones:\n",
    "    def __init__(self,lista_numeros):\n",
    "        self.lista = lista_numeros\n",
    "    \n",
    "    def list_primo(self,b):\n",
    "        c=[] #lista donde almacenar los numeros primos de la lista\n",
    "        for i in self.lista : #iterar por cada elemento de la lista b\n",
    "            if self.__es_primo(int(i)):\n",
    "                c.append(i) #almacenar en c todos los elementos de b que sean primos\n",
    "        return c   \n",
    "\n",
    "    def __es_primo(self,a):\n",
    "        primo = True #defino la variable de resultado\n",
    "        for div in range (2,a): # itera el divisor desde 2 hasta a-1 \n",
    "            if (a % div==0): #si el resto de a por cualquier numero desde 2 a a-1 es cero => No es primo\n",
    "                primo=False\n",
    "                break\n",
    "        return primo # sino primo sigue siendo True\n",
    "    \n",
    "    def sacar_valor(self,listaA):\n",
    "        moda=0\n",
    "        veces_repetido=0\n",
    "        for num in listaA:\n",
    "            numero_modal=listaA.count(num)\n",
    "            if numero_modal > veces_repetido:\n",
    "                veces_repetido=numero_modal\n",
    "                moda=num\n",
    "        return moda,veces_repetido\n",
    "    \n",
    "    def convert_temp(self,valor,origen,destino):\n",
    "        if origen == 'C':\n",
    "            if destino == 'C':\n",
    "                valor_destino = valor # No hay conversion \n",
    "                print(valor,\"\",origen,\"son equivalentes a \",valor_destino,\" \",destino)\n",
    "            elif destino == 'F':\n",
    "                valor_destino = valor*9/5+32\n",
    "                print(valor,\"\",origen,\"son equivalentes a \",valor_destino,\" \",destino)\n",
    "            elif destino == 'K':\n",
    "                valor_destino = valor + 273.15\n",
    "                print(valor,\"\",origen,\"son equivalentes a \",valor_destino,\" \",destino)\n",
    "        elif origen == 'F':\n",
    "            if destino == 'F': # No hay conversion\n",
    "                valor_destino = valor\n",
    "                print(valor,\"\",origen,\"son equivalentes a \",valor_destino,\" \",destino)\n",
    "            elif destino == 'C':\n",
    "                valor_destino = valor*5/9-17.777\n",
    "                print(valor,\"\",origen,\"son equivalentes a \",valor_destino,\" \",destino)\n",
    "            elif destino == 'K':\n",
    "                valor_destino = valor * 0.556+255.37\n",
    "                print(valor,\"\",origen,\"son equivalentes a \",valor_destino,\" \",destino)\n",
    "        elif origen == 'K':\n",
    "            if destino == 'K': # No hay conversion\n",
    "                valor_destino = valor\n",
    "                print(valor,\"\",origen,\"son equivalentes a \",valor_destino,\" \",destino)\n",
    "            elif destino == 'C':\n",
    "                valor_destino= valor - 273.15\n",
    "                print(valor,\"\",origen,\"son equivalentes a \",valor_destino,\" \",destino)\n",
    "            elif destino == 'F':\n",
    "                valor_destino=1.8*valor-439.67\n",
    "                print(valor,\"\",origen,\"son equivalentes a \",valor_destino,\" \",destino)\n",
    "        return valor_destino,destino   \n",
    "    "
   ]
  },
  {
   "cell_type": "code",
   "execution_count": 5,
   "metadata": {},
   "outputs": [],
   "source": [
    "f=Funciones([3,2,4,5,7,9,10])\n",
    "G=[3,3,3,2,4,5,7,9,10]"
   ]
  },
  {
   "attachments": {},
   "cell_type": "markdown",
   "metadata": {},
   "source": [
    "6) Probar las funciones incorporadas en la clase del punto 5"
   ]
  },
  {
   "cell_type": "code",
   "execution_count": 6,
   "metadata": {},
   "outputs": [
    {
     "data": {
      "text/plain": [
       "[3, 2, 5, 7]"
      ]
     },
     "execution_count": 6,
     "metadata": {},
     "output_type": "execute_result"
    }
   ],
   "source": [
    "f.list_primo(G)\n"
   ]
  },
  {
   "cell_type": "code",
   "execution_count": 7,
   "metadata": {},
   "outputs": [],
   "source": [
    "h=[2,2,4,3,2,5,2,9,10]\n"
   ]
  },
  {
   "cell_type": "code",
   "execution_count": 8,
   "metadata": {},
   "outputs": [
    {
     "name": "stdout",
     "output_type": "stream",
     "text": [
      "el objeto mas repetido es  3 y se repite  3\n"
     ]
    }
   ],
   "source": [
    "moda, veces_repetido = f.sacar_valor(G)\n",
    "print(\"el objeto mas repetido es \",moda,\"y se repite \",veces_repetido)"
   ]
  },
  {
   "cell_type": "code",
   "execution_count": 9,
   "metadata": {},
   "outputs": [
    {
     "ename": "TypeError",
     "evalue": "can only concatenate list (not \"float\") to list",
     "output_type": "error",
     "traceback": [
      "\u001b[1;31m---------------------------------------------------------------------------\u001b[0m",
      "\u001b[1;31mTypeError\u001b[0m                                 Traceback (most recent call last)",
      "\u001b[1;32mc:\\Users\\Florencia\\Desktop\\Python-Prep\\M08_clasesyOOP\\Prep_Course_Homework_08.ipynb Celda 20\u001b[0m line \u001b[0;36m1\n\u001b[1;32m----> <a href='vscode-notebook-cell:/c%3A/Users/Florencia/Desktop/Python-Prep/M08_clasesyOOP/Prep_Course_Homework_08.ipynb#X25sZmlsZQ%3D%3D?line=0'>1</a>\u001b[0m f\u001b[39m.\u001b[39;49mconvert_temp(G,\u001b[39m'\u001b[39;49m\u001b[39mC\u001b[39;49m\u001b[39m'\u001b[39;49m,\u001b[39m'\u001b[39;49m\u001b[39mK\u001b[39;49m\u001b[39m'\u001b[39;49m)\n",
      "\u001b[1;32mc:\\Users\\Florencia\\Desktop\\Python-Prep\\M08_clasesyOOP\\Prep_Course_Homework_08.ipynb Celda 20\u001b[0m line \u001b[0;36m3\n\u001b[0;32m     <a href='vscode-notebook-cell:/c%3A/Users/Florencia/Desktop/Python-Prep/M08_clasesyOOP/Prep_Course_Homework_08.ipynb#X25sZmlsZQ%3D%3D?line=36'>37</a>\u001b[0m         \u001b[39mprint\u001b[39m(valor,\u001b[39m\"\u001b[39m\u001b[39m\"\u001b[39m,origen,\u001b[39m\"\u001b[39m\u001b[39mson equivalentes a \u001b[39m\u001b[39m\"\u001b[39m,valor_destino,\u001b[39m\"\u001b[39m\u001b[39m \u001b[39m\u001b[39m\"\u001b[39m,destino)\n\u001b[0;32m     <a href='vscode-notebook-cell:/c%3A/Users/Florencia/Desktop/Python-Prep/M08_clasesyOOP/Prep_Course_Homework_08.ipynb#X25sZmlsZQ%3D%3D?line=37'>38</a>\u001b[0m     \u001b[39melif\u001b[39;00m destino \u001b[39m==\u001b[39m \u001b[39m'\u001b[39m\u001b[39mK\u001b[39m\u001b[39m'\u001b[39m:\n\u001b[1;32m---> <a href='vscode-notebook-cell:/c%3A/Users/Florencia/Desktop/Python-Prep/M08_clasesyOOP/Prep_Course_Homework_08.ipynb#X25sZmlsZQ%3D%3D?line=38'>39</a>\u001b[0m         valor_destino \u001b[39m=\u001b[39m valor \u001b[39m+\u001b[39;49m \u001b[39m273.15\u001b[39;49m\n\u001b[0;32m     <a href='vscode-notebook-cell:/c%3A/Users/Florencia/Desktop/Python-Prep/M08_clasesyOOP/Prep_Course_Homework_08.ipynb#X25sZmlsZQ%3D%3D?line=39'>40</a>\u001b[0m         \u001b[39mprint\u001b[39m(valor,\u001b[39m\"\u001b[39m\u001b[39m\"\u001b[39m,origen,\u001b[39m\"\u001b[39m\u001b[39mson equivalentes a \u001b[39m\u001b[39m\"\u001b[39m,valor_destino,\u001b[39m\"\u001b[39m\u001b[39m \u001b[39m\u001b[39m\"\u001b[39m,destino)\n\u001b[0;32m     <a href='vscode-notebook-cell:/c%3A/Users/Florencia/Desktop/Python-Prep/M08_clasesyOOP/Prep_Course_Homework_08.ipynb#X25sZmlsZQ%3D%3D?line=40'>41</a>\u001b[0m \u001b[39melif\u001b[39;00m origen \u001b[39m==\u001b[39m \u001b[39m'\u001b[39m\u001b[39mF\u001b[39m\u001b[39m'\u001b[39m:\n",
      "\u001b[1;31mTypeError\u001b[0m: can only concatenate list (not \"float\") to list"
     ]
    }
   ],
   "source": [
    "f.convert_temp(G,'C','K')"
   ]
  },
  {
   "cell_type": "code",
   "execution_count": 11,
   "metadata": {},
   "outputs": [
    {
     "data": {
      "text/plain": [
       "[3, 2, 5, 7]"
      ]
     },
     "execution_count": 11,
     "metadata": {},
     "output_type": "execute_result"
    }
   ],
   "source": [
    "J = [1,3,5,7,9,10]\n",
    "f.list_primo(J)"
   ]
  },
  {
   "attachments": {},
   "cell_type": "markdown",
   "metadata": {},
   "source": [
    "7) Es necesario que la clase creada en el punto 5 contenga una lista, sobre la cual se apliquen las funciones incorporadas"
   ]
  },
  {
   "cell_type": "code",
   "execution_count": null,
   "metadata": {},
   "outputs": [],
   "source": []
  },
  {
   "attachments": {},
   "cell_type": "markdown",
   "metadata": {},
   "source": [
    "8) Crear un archivo .py aparte y ubicar allí la clase generada en el punto anterior. Luego realizar la importación del módulo y probar alguna de sus funciones"
   ]
  },
  {
   "cell_type": "code",
   "execution_count": 12,
   "metadata": {},
   "outputs": [
    {
     "ename": "TypeError",
     "evalue": "Funciones.factorial() missing 1 required positional argument: 'n'",
     "output_type": "error",
     "traceback": [
      "\u001b[1;31m---------------------------------------------------------------------------\u001b[0m",
      "\u001b[1;31mTypeError\u001b[0m                                 Traceback (most recent call last)",
      "\u001b[1;32mc:\\Users\\Florencia\\Desktop\\Python-Prep\\M08_clasesyOOP\\Prep_Course_Homework_08.ipynb Celda 25\u001b[0m line \u001b[0;36m1\n\u001b[1;32m----> <a href='vscode-notebook-cell:/c%3A/Users/Florencia/Desktop/Python-Prep/M08_clasesyOOP/Prep_Course_Homework_08.ipynb#X33sZmlsZQ%3D%3D?line=0'>1</a>\u001b[0m \u001b[39mfrom\u001b[39;00m \u001b[39mfunciones\u001b[39;00m \u001b[39mimport\u001b[39;00m \u001b[39m*\u001b[39m\n",
      "File \u001b[1;32mc:\\Users\\Florencia\\Desktop\\Python-Prep\\M08_clasesyOOP\\funciones.py:1\u001b[0m\n\u001b[1;32m----> 1\u001b[0m \u001b[39mclass\u001b[39;49;00m \u001b[39mFunciones\u001b[39;49;00m:\n\u001b[0;32m      2\u001b[0m     \u001b[39mdef\u001b[39;49;00m \u001b[39m__init__\u001b[39;49m(\u001b[39mself\u001b[39;49m,lista_numeros):\n\u001b[0;32m      3\u001b[0m         \u001b[39mself\u001b[39;49m\u001b[39m.\u001b[39;49mlista \u001b[39m=\u001b[39;49m lista_numeros\n",
      "File \u001b[1;32mc:\\Users\\Florencia\\Desktop\\Python-Prep\\M08_clasesyOOP\\funciones.py:88\u001b[0m, in \u001b[0;36mFunciones\u001b[1;34m()\u001b[0m\n\u001b[0;32m     85\u001b[0m     \u001b[39mreturn\u001b[39;00m valor_destino,destino   \n\u001b[0;32m     87\u001b[0m A\u001b[39m=\u001b[39m[\u001b[39m5\u001b[39m,\u001b[39m2\u001b[39m,\u001b[39m6\u001b[39m]\n\u001b[1;32m---> 88\u001b[0m factorial(A)\n",
      "\u001b[1;31mTypeError\u001b[0m: Funciones.factorial() missing 1 required positional argument: 'n'"
     ]
    }
   ],
   "source": [
    "from funciones import *"
   ]
  },
  {
   "cell_type": "code",
   "execution_count": 123,
   "metadata": {},
   "outputs": [],
   "source": [
    "J=[2,2,2,4,3,5,6,70]"
   ]
  },
  {
   "cell_type": "code",
   "execution_count": 124,
   "metadata": {},
   "outputs": [],
   "source": [
    "f=Funciones"
   ]
  },
  {
   "cell_type": "code",
   "execution_count": null,
   "metadata": {},
   "outputs": [],
   "source": []
  }
 ],
 "metadata": {
  "interpreter": {
   "hash": "c85384e4cb51c8b72350f3a8712cc8351fdc3955e32a27f9b60c6242ab125f01"
  },
  "kernelspec": {
   "display_name": "Python 3 (ipykernel)",
   "language": "python",
   "name": "python3"
  },
  "language_info": {
   "codemirror_mode": {
    "name": "ipython",
    "version": 3
   },
   "file_extension": ".py",
   "mimetype": "text/x-python",
   "name": "python",
   "nbconvert_exporter": "python",
   "pygments_lexer": "ipython3",
   "version": "3.11.5"
  }
 },
 "nbformat": 4,
 "nbformat_minor": 4
}

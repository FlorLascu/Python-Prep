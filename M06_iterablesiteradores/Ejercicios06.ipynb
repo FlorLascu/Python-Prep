{
 "cells": [
  {
   "cell_type": "code",
   "execution_count": 2,
   "metadata": {},
   "outputs": [
    {
     "name": "stdout",
     "output_type": "stream",
     "text": [
      "[-15, -14, -13, -12, -11, -10, -9, -8, -7, -6, -5, -4, -3, -2, -1]\n"
     ]
    }
   ],
   "source": [
    "lista_vacia=[]\n",
    "i=-15\n",
    "while i < 0:\n",
    "    lista_vacia.append(i)\n",
    "    i+=1\n",
    "print(lista_vacia)"
   ]
  },
  {
   "cell_type": "code",
   "execution_count": 12,
   "metadata": {},
   "outputs": [
    {
     "name": "stdout",
     "output_type": "stream",
     "text": [
      "[-14, -12, -10, -8, -6, -4, -2]\n"
     ]
    }
   ],
   "source": [
    "lista_par=[]\n",
    "i=0\n",
    "while i < len(lista_vacia):\n",
    "    if lista_vacia[i] % 2==0:\n",
    "        lista_par.append(lista_vacia[i])\n",
    "    i=i+1\n",
    "print(lista_par)"
   ]
  },
  {
   "cell_type": "code",
   "execution_count": 14,
   "metadata": {},
   "outputs": [
    {
     "name": "stdout",
     "output_type": "stream",
     "text": [
      "[-14, -12, -10, -8, -6, -4, -2]\n"
     ]
    }
   ],
   "source": [
    "lista_p=[]\n",
    "i=0\n",
    "for i in range(0,15):\n",
    "    if lista_vacia[i] % 2 == 0:\n",
    "        lista_p.append(lista_vacia[i])\n",
    "    i=+1\n",
    "print(lista_p)"
   ]
  },
  {
   "cell_type": "code",
   "execution_count": 21,
   "metadata": {},
   "outputs": [
    {
     "name": "stdout",
     "output_type": "stream",
     "text": [
      "-15\n",
      "-14\n",
      "-13\n"
     ]
    }
   ],
   "source": [
    "for elemento in lista_vacia[:3]:\n",
    "    print(elemento)\n"
   ]
  },
  {
   "cell_type": "code",
   "execution_count": 26,
   "metadata": {},
   "outputs": [
    {
     "name": "stdout",
     "output_type": "stream",
     "text": [
      "0 -15\n",
      "1 -14\n",
      "2 -13\n",
      "3 -12\n",
      "4 -11\n",
      "5 -10\n",
      "6 -9\n",
      "7 -8\n",
      "8 -7\n",
      "9 -6\n",
      "10 -5\n",
      "11 -4\n",
      "12 -3\n",
      "13 -2\n",
      "14 -1\n"
     ]
    }
   ],
   "source": [
    "for i, e in enumerate(lista):\n",
    "    print (i,e)"
   ]
  },
  {
   "cell_type": "code",
   "execution_count": 40,
   "metadata": {},
   "outputs": [],
   "source": [
    "lista_inc = [1,2,5,7,8,10,13,14,15,17,20]"
   ]
  },
  {
   "cell_type": "code",
   "execution_count": 41,
   "metadata": {},
   "outputs": [
    {
     "name": "stdout",
     "output_type": "stream",
     "text": [
      "[1, 2, 5, 7, 8, 10, 13, 14, 15, 17, 20]\n"
     ]
    }
   ],
   "source": [
    "print(lista_inc)"
   ]
  },
  {
   "cell_type": "code",
   "execution_count": 42,
   "metadata": {},
   "outputs": [
    {
     "name": "stdout",
     "output_type": "stream",
     "text": [
      "[1, 2, 3, 4, 5, 6, 7, 8, 9, 10, 11, 12, 13, 14, 15, 16, 17, 18, 19, 20]\n"
     ]
    }
   ],
   "source": [
    "n=1\n",
    "for n in range(1,21):\n",
    "    if not (n in lista_inc):\n",
    "        lista_inc.insert(n-1,n)\n",
    "    n+=1\n",
    "print(lista_inc)    "
   ]
  },
  {
   "cell_type": "code",
   "execution_count": 48,
   "metadata": {},
   "outputs": [
    {
     "name": "stdout",
     "output_type": "stream",
     "text": [
      "[0, 1, 1, 2, 3, 5, 8, 13, 21, 34, 55, 89, 144, 233, 377, 610, 987, 1597, 2584, 4181, 6765, 10946, 17711, 28657, 46368, 75025, 121393, 196418, 317811, 514229, 832040]\n"
     ]
    }
   ],
   "source": [
    "i=0\n",
    "n=0\n",
    "serieF=[]\n",
    "for i in range (0,31]):\n",
    "    if i == 0:\n",
    "        n=0\n",
    "        serieF.append(n)\n",
    "    elif i == 1:\n",
    "        n=1\n",
    "        serieF.append(n)\n",
    "    else:\n",
    "        n=serieF[i-1]+serieF[i-2]\n",
    "        serieF.append(n)\n",
    "print(serieF)"
   ]
  },
  {
   "cell_type": "code",
   "execution_count": 53,
   "metadata": {},
   "outputs": [
    {
     "name": "stdout",
     "output_type": "stream",
     "text": [
      "6765\n"
     ]
    }
   ],
   "source": [
    "print(serieF[20])"
   ]
  },
  {
   "cell_type": "code",
   "execution_count": 63,
   "metadata": {},
   "outputs": [
    {
     "name": "stdout",
     "output_type": "stream",
     "text": [
      "2178308\n"
     ]
    }
   ],
   "source": [
    "suma=0\n",
    "for i in range(0,31):\n",
    "    suma=suma + serieF[i]\n",
    "print(suma)"
   ]
  },
  {
   "cell_type": "code",
   "execution_count": 58,
   "metadata": {},
   "outputs": [
    {
     "data": {
      "text/plain": [
       "2178308"
      ]
     },
     "execution_count": 58,
     "metadata": {},
     "output_type": "execute_result"
    }
   ],
   "source": [
    "sum(serieF)"
   ]
  },
  {
   "cell_type": "code",
   "execution_count": 66,
   "metadata": {},
   "outputs": [
    {
     "name": "stdout",
     "output_type": "stream",
     "text": [
      "2178308\n"
     ]
    }
   ],
   "source": [
    "suma=0\n",
    "i=0\n",
    "while i < len(serieF):\n",
    "    suma=suma + serieF[i]\n",
    "    i+=1\n",
    "print(suma)"
   ]
  },
  {
   "cell_type": "code",
   "execution_count": 85,
   "metadata": {},
   "outputs": [
    {
     "name": "stdout",
     "output_type": "stream",
     "text": [
      "[1.6, 1.619047619047619, 1.6180257510729614, 1.618033985017358]\n"
     ]
    }
   ],
   "source": [
    "#imprimir los ultimos 5 numeros de la serieFI de la lista anterior\n",
    "#ni/ni-1\n",
    "FI=[]\n",
    "for i in serieF[5:9]:\n",
    "    if i==0:\n",
    "        FI.append(1)\n",
    "    else:\n",
    "        fi=serieF[i+1]/serieF[i]\n",
    "        FI.append(fi)\n",
    "print(FI)\n"
   ]
  },
  {
   "cell_type": "code",
   "execution_count": 86,
   "metadata": {},
   "outputs": [],
   "source": [
    "cadena = 'Hola Mundo. Esto es una practica del lenguaje de programación Python'"
   ]
  },
  {
   "cell_type": "code",
   "execution_count": 87,
   "metadata": {},
   "outputs": [
    {
     "data": {
      "text/plain": [
       "5"
      ]
     },
     "execution_count": 87,
     "metadata": {},
     "output_type": "execute_result"
    }
   ],
   "source": [
    "cadena.count('n')"
   ]
  },
  {
   "cell_type": "code",
   "execution_count": 92,
   "metadata": {},
   "outputs": [
    {
     "name": "stdout",
     "output_type": "stream",
     "text": [
      "[1, 9, 15, 51, 66]\n"
     ]
    }
   ],
   "source": [
    "#mostrar en que posiciones aparece la letra que se entra por input\n",
    "pos=[]\n",
    "p=0\n",
    "letra_repetida=input('Ingrese la letra a evaluar')\n",
    "for i,c in enumerate(cadena):\n",
    "    if c==letra_repetida:\n",
    "        pos.append(i)\n",
    "print(pos)\n"
   ]
  },
  {
   "cell_type": "code",
   "execution_count": 110,
   "metadata": {},
   "outputs": [],
   "source": [
    "#Crear un diccionario e imprimir sus claves utilizando un iterador\n",
    "my_Dict={\"Colores Primarios\":['rojo','amarillo','cyan'],\"Colores secundarios\":['violeta','verde','gris']}"
   ]
  },
  {
   "cell_type": "code",
   "execution_count": 113,
   "metadata": {},
   "outputs": [
    {
     "name": "stdout",
     "output_type": "stream",
     "text": [
      "['rojo', 'amarillo', 'cyan']\n"
     ]
    }
   ],
   "source": [
    "print(my_Dict['Colores Primarios'])"
   ]
  },
  {
   "cell_type": "code",
   "execution_count": 115,
   "metadata": {},
   "outputs": [
    {
     "name": "stdout",
     "output_type": "stream",
     "text": [
      "['blanco']\n"
     ]
    }
   ],
   "source": [
    "my_Dict['Colores agregados']=['blanco']\n",
    "print(my_Dict['Colores agregados'])"
   ]
  },
  {
   "cell_type": "code",
   "execution_count": 116,
   "metadata": {},
   "outputs": [
    {
     "name": "stdout",
     "output_type": "stream",
     "text": [
      "['rojo', 'amarillo', 'cyan']\n",
      "['violeta', 'verde', 'gris']\n",
      "['blanco']\n"
     ]
    }
   ],
   "source": [
    "#imprimo el contenido del Diccionario con un iterador\n",
    "for i in my_Dict:\n",
    "    print(my_Dict[i])"
   ]
  },
  {
   "cell_type": "code",
   "execution_count": 120,
   "metadata": {},
   "outputs": [
    {
     "name": "stdout",
     "output_type": "stream",
     "text": [
      "dict_keys(['Colores Primarios', 'Colores secundarios', 'Colores agregados'])\n",
      "dict_keys(['Colores Primarios', 'Colores secundarios', 'Colores agregados'])\n",
      "dict_keys(['Colores Primarios', 'Colores secundarios', 'Colores agregados'])\n"
     ]
    }
   ],
   "source": [
    "for i in my_Dict:\n",
    "    print(my_Dict.keys())"
   ]
  },
  {
   "cell_type": "code",
   "execution_count": 118,
   "metadata": {},
   "outputs": [
    {
     "name": "stdout",
     "output_type": "stream",
     "text": [
      "Colores Primarios\n",
      "Colores secundarios\n",
      "Colores agregados\n"
     ]
    }
   ],
   "source": [
    "#imprimir las claves del diccionario utilizando un iterador\n",
    "for i in my_Dict:\n",
    "    print(i)"
   ]
  },
  {
   "cell_type": "code",
   "execution_count": 119,
   "metadata": {},
   "outputs": [
    {
     "name": "stdout",
     "output_type": "stream",
     "text": [
      "dict_values([['rojo', 'amarillo', 'cyan'], ['violeta', 'verde', 'gris'], ['blanco']])\n"
     ]
    }
   ],
   "source": [
    "print(my_Dict.values())"
   ]
  },
  {
   "cell_type": "code",
   "execution_count": 122,
   "metadata": {},
   "outputs": [
    {
     "name": "stdout",
     "output_type": "stream",
     "text": [
      "['H', 'o', 'l', 'a', ' ', 'M', 'u', 'n', 'd', 'o', '.', ' ', 'E', 's', 't', 'o', ' ', 'e', 's', ' ', 'u', 'n', 'a', ' ', 'p', 'r', 'a', 'c', 't', 'i', 'c', 'a', ' ', 'd', 'e', 'l', ' ', 'l', 'e', 'n', 'g', 'u', 'a', 'j', 'e', ' ', 'd', 'e', ' ', 'p', 'r', 'o', 'g', 'r', 'a', 'm', 'a', 'c', 'i', 'ó', 'n', ' ', 'P', 'y', 't', 'h', 'o', 'n']\n",
      "H\n",
      "o\n",
      "l\n",
      "a\n",
      " \n",
      "M\n",
      "u\n",
      "n\n",
      "d\n",
      "o\n",
      ".\n",
      " \n",
      "E\n",
      "s\n",
      "t\n",
      "o\n",
      " \n",
      "e\n",
      "s\n",
      " \n",
      "u\n",
      "n\n",
      "a\n",
      " \n",
      "p\n",
      "r\n",
      "a\n",
      "c\n",
      "t\n",
      "i\n",
      "c\n",
      "a\n",
      " \n",
      "d\n",
      "e\n",
      "l\n",
      " \n",
      "l\n",
      "e\n",
      "n\n",
      "g\n",
      "u\n",
      "a\n",
      "j\n",
      "e\n",
      " \n",
      "d\n",
      "e\n",
      " \n",
      "p\n",
      "r\n",
      "o\n",
      "g\n",
      "r\n",
      "a\n",
      "m\n",
      "a\n",
      "c\n",
      "i\n",
      "ó\n",
      "n\n",
      " \n",
      "P\n",
      "y\n",
      "t\n",
      "h\n",
      "o\n",
      "n\n"
     ]
    }
   ],
   "source": [
    "#Convertir en una lista la variable \"cadena\" del punto 10 y luego recorrerla con un iterador\n",
    "b=list(cadena)\n",
    "print(b)\n",
    "for i in b:\n",
    "    print(i)"
   ]
  },
  {
   "cell_type": "code",
   "execution_count": 123,
   "metadata": {},
   "outputs": [
    {
     "name": "stdout",
     "output_type": "stream",
     "text": [
      "[21, 35, 42, 56, 63, 84, 91]\n"
     ]
    }
   ],
   "source": [
    "lis = [18, 21, 29, 32, 35, 42, 56, 60, 63, 71, 84, 90, 91, 100] #lista original\n",
    "lis2=[] #sera la lista donde se guarden los elementos de lis que sean divisibles por 7\n",
    "lis2=[i for i in lis if i%7==0]\n",
    "print(lis2)"
   ]
  },
  {
   "cell_type": "code",
   "execution_count": 131,
   "metadata": {},
   "outputs": [
    {
     "name": "stdout",
     "output_type": "stream",
     "text": [
      "<class 'zip'>\n",
      "[('rojo', 'red'), ('verde', 'green'), ('amarillo', 'yellow'), ('azul', 'blue')]\n"
     ]
    }
   ],
   "source": [
    "#Crear dos listas y unirlas en una tupla utilizando la función zip\n",
    "listaA=['rojo','verde','amarillo','azul']\n",
    "listaB=[ 'red','green','yellow','blue']\n",
    "Unidas=zip(listaA,listaB)\n",
    "print(type(Unidas))\n",
    "print(list(Unidas))"
   ]
  }
 ],
 "metadata": {
  "kernelspec": {
   "display_name": "Python 3",
   "language": "python",
   "name": "python3"
  },
  "language_info": {
   "codemirror_mode": {
    "name": "ipython",
    "version": 3
   },
   "file_extension": ".py",
   "mimetype": "text/x-python",
   "name": "python",
   "nbconvert_exporter": "python",
   "pygments_lexer": "ipython3",
   "version": "3.11.5"
  },
  "orig_nbformat": 4
 },
 "nbformat": 4,
 "nbformat_minor": 2
}

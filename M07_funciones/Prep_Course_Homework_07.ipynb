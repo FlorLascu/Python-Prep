{
 "cells": [
  {
   "attachments": {},
   "cell_type": "markdown",
   "metadata": {},
   "source": [
    "## Funciones"
   ]
  },
  {
   "attachments": {},
   "cell_type": "markdown",
   "metadata": {},
   "source": [
    "1) Crear una función que reciba un número como parámetro y devuelva True si es primo y False si no lo es"
   ]
  },
  {
   "cell_type": "code",
   "execution_count": 7,
   "metadata": {},
   "outputs": [],
   "source": [
    "def es_primo(a):\n",
    "    primo = True #defino la variable de resultado\n",
    "    for div in range (2,a): # itera el divisor desde 2 hasta a-1 \n",
    "        if (a % div==0): #si el resto de a por cualquier numero desde 2 a a-1 es cero => No es primo\n",
    "            primo=False\n",
    "            break\n",
    "    return primo # sino primo sigue siendo True\n",
    "            "
   ]
  },
  {
   "cell_type": "code",
   "execution_count": 9,
   "metadata": {},
   "outputs": [
    {
     "data": {
      "text/plain": [
       "True"
      ]
     },
     "execution_count": 9,
     "metadata": {},
     "output_type": "execute_result"
    }
   ],
   "source": [
    "es_primo(7)"
   ]
  },
  {
   "attachments": {},
   "cell_type": "markdown",
   "metadata": {},
   "source": [
    "2) Utilizando la función del punto 1, realizar otra función que reciba de parámetro una lista de números y devuelva sólo aquellos que son primos en otra lista"
   ]
  },
  {
   "cell_type": "code",
   "execution_count": 10,
   "metadata": {},
   "outputs": [],
   "source": [
    "def list_primo(b):\n",
    "    c=[] #lista donde almacenar los numeros primos de la lista\n",
    "    for i in b: #iterar por cada elemento de la lista b\n",
    "        if es_primo(int(i)):\n",
    "                c.append(i) #almacenar en c todos los elementos de b que sean primos\n",
    "    return c            "
   ]
  },
  {
   "cell_type": "code",
   "execution_count": 11,
   "metadata": {},
   "outputs": [
    {
     "data": {
      "text/plain": [
       "[1, 2, 5, 7]"
      ]
     },
     "execution_count": 11,
     "metadata": {},
     "output_type": "execute_result"
    }
   ],
   "source": [
    "b=[1,2,5,7,9,10]\n",
    "list_primo(b)\n"
   ]
  },
  {
   "attachments": {},
   "cell_type": "markdown",
   "metadata": {},
   "source": [
    "3) Crear una función que al recibir una lista de números, devuelva el que más se repite y cuántas veces lo hace. Si hay más de un \"más repetido\", que devuelva cualquiera"
   ]
  },
  {
   "cell_type": "code",
   "execution_count": 41,
   "metadata": {},
   "outputs": [],
   "source": [
    "def sacar_valor(listaA):\n",
    "    moda=0\n",
    "    veces_repetido=0\n",
    "    for num in listaA:\n",
    "        numero_modal=listaA.count(num)\n",
    "        if numero_modal > veces_repetido:\n",
    "            veces_repetido=numero_modal\n",
    "            moda=num\n",
    "    return moda,veces_repetido\n"
   ]
  },
  {
   "cell_type": "code",
   "execution_count": 42,
   "metadata": {},
   "outputs": [],
   "source": [
    "H=[2,2,5,6,2,7,2,8,10,12,3]\n"
   ]
  },
  {
   "cell_type": "code",
   "execution_count": 43,
   "metadata": {},
   "outputs": [
    {
     "data": {
      "text/plain": [
       "(2, 4)"
      ]
     },
     "execution_count": 43,
     "metadata": {},
     "output_type": "execute_result"
    }
   ],
   "source": [
    "sacar_valor(H)"
   ]
  },
  {
   "attachments": {},
   "cell_type": "markdown",
   "metadata": {},
   "source": [
    "4) Crear una función que convierta entre grados Celsius, Farenheit y Kelvin<br>\n",
    "Fórmula 1\t: (°C × 9/5) + 32 = °F<br>\n",
    "Fórmula 2\t: °C + 273.15 = °K<br>\n",
    "Debe recibir 3 parámetros: el valor, la medida de orígen y la medida de destino\n"
   ]
  },
  {
   "cell_type": "code",
   "execution_count": 65,
   "metadata": {},
   "outputs": [],
   "source": [
    "def convert_temp(valor,origen,destino):\n",
    "    if origen == 'C':\n",
    "        if destino == 'C':\n",
    "            valor_destino = valor # No hay conversion \n",
    "            print(valor,\"\",origen,\"son equivalentes a \",valor_destino,\" \",destino)\n",
    "        elif destino == 'F':\n",
    "            valor_destino = valor*9/5+32\n",
    "            print(valor,\"\",origen,\"son equivalentes a \",valor_destino,\" \",destino)\n",
    "        elif destino == 'K':\n",
    "            valor_destino = valor + 273.15\n",
    "            print(valor,\"\",origen,\"son equivalentes a \",valor_destino,\" \",destino)\n",
    "    elif origen == 'F':\n",
    "        if destino == 'F': # No hay conversion\n",
    "            valor_destino = valor\n",
    "            print(valor,\"\",origen,\"son equivalentes a \",valor_destino,\" \",destino)\n",
    "        elif destino == 'C':\n",
    "            valor_destino = valor*5/9-17.777\n",
    "            print(valor,\"\",origen,\"son equivalentes a \",valor_destino,\" \",destino)\n",
    "        elif destino == 'K':\n",
    "            valor_destino = valor * 0.556+255.37\n",
    "            print(valor,\"\",origen,\"son equivalentes a \",valor_destino,\" \",destino)\n",
    "    elif origen == 'K':\n",
    "        if destino == 'K': # No hay conversion\n",
    "            valor_destino = valor\n",
    "            print(valor,\"\",origen,\"son equivalentes a \",valor_destino,\" \",destino)\n",
    "        elif destino == 'C':\n",
    "            valor_destino= valor - 273.15\n",
    "            print(valor,\"\",origen,\"son equivalentes a \",valor_destino,\" \",destino)\n",
    "        elif destino == 'F':\n",
    "            valor_destino=1.8*valor-439.67\n",
    "            print(valor,\"\",origen,\"son equivalentes a \",valor_destino,\" \",destino)\n",
    "    return valor_destino,destino\n",
    "        "
   ]
  },
  {
   "cell_type": "code",
   "execution_count": 70,
   "metadata": {},
   "outputs": [
    {
     "name": "stdout",
     "output_type": "stream",
     "text": [
      "1  K son equivalentes a  -272.15   C\n"
     ]
    },
    {
     "data": {
      "text/plain": [
       "(-272.15, 'C')"
      ]
     },
     "execution_count": 70,
     "metadata": {},
     "output_type": "execute_result"
    }
   ],
   "source": [
    "convert_temp(1,'K','C')"
   ]
  },
  {
   "attachments": {},
   "cell_type": "markdown",
   "metadata": {},
   "source": [
    "5) Iterando una lista con los tres valores posibles de temperatura que recibe la función del punto 5, hacer un print para cada combinación de los mismos:"
   ]
  },
  {
   "cell_type": "code",
   "execution_count": 71,
   "metadata": {},
   "outputs": [],
   "source": [
    "list_temp=['K','C','F']"
   ]
  },
  {
   "cell_type": "code",
   "execution_count": 72,
   "metadata": {},
   "outputs": [
    {
     "name": "stdout",
     "output_type": "stream",
     "text": [
      "1  K son equivalentes a  1   K\n",
      "1  K son equivalentes a  -272.15   C\n",
      "1  K son equivalentes a  -437.87   F\n",
      "1  C son equivalentes a  274.15   K\n",
      "1  C son equivalentes a  1   C\n",
      "1  C son equivalentes a  33.8   F\n",
      "1  F son equivalentes a  255.92600000000002   K\n",
      "1  F son equivalentes a  -17.221444444444444   C\n",
      "1  F son equivalentes a  1   F\n"
     ]
    }
   ],
   "source": [
    "for i in range (0,3):\n",
    "    for j in range(0,3):\n",
    "        convert_temp(1,list_temp[i],list_temp[j])"
   ]
  },
  {
   "attachments": {},
   "cell_type": "markdown",
   "metadata": {},
   "source": [
    "6) Armar una función que devuelva el factorial de un número. Tener en cuenta que el usuario puede equivocarse y enviar de parámetro un número no entero o negativo"
   ]
  },
  {
   "cell_type": "code",
   "execution_count": 2,
   "metadata": {},
   "outputs": [],
   "source": [
    "def factorial(n):\n",
    "    f=1\n",
    "    if type(n)!=int:\n",
    "        print(\"Input error n not integer\")\n",
    "        return None\n",
    "    elif n < 0:\n",
    "        print(\"Input error n is negative\")\n",
    "        return None\n",
    "    else:\n",
    "        for n in range (1,n+1):\n",
    "            f=f*n\n",
    "    return f"
   ]
  },
  {
   "cell_type": "code",
   "execution_count": 3,
   "metadata": {},
   "outputs": [
    {
     "name": "stdout",
     "output_type": "stream",
     "text": [
      "Input error n is negative\n"
     ]
    }
   ],
   "source": [
    "factorial(-1)"
   ]
  }
 ],
 "metadata": {
  "interpreter": {
   "hash": "c85384e4cb51c8b72350f3a8712cc8351fdc3955e32a27f9b60c6242ab125f01"
  },
  "kernelspec": {
   "display_name": "Python 3 (ipykernel)",
   "language": "python",
   "name": "python3"
  },
  "language_info": {
   "codemirror_mode": {
    "name": "ipython",
    "version": 3
   },
   "file_extension": ".py",
   "mimetype": "text/x-python",
   "name": "python",
   "nbconvert_exporter": "python",
   "pygments_lexer": "ipython3",
   "version": "3.11.5"
  }
 },
 "nbformat": 4,
 "nbformat_minor": 4
}

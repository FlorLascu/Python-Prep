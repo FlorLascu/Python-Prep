{
 "cells": [
  {
   "attachments": {},
   "cell_type": "markdown",
   "metadata": {},
   "source": [
    "## Estructuras de Datos"
   ]
  },
  {
   "attachments": {},
   "cell_type": "markdown",
   "metadata": {},
   "source": [
    "1) Crear una lista que contenga nombres de ciudades del mundo que contenga más de 5 elementos e imprimir por pantalla"
   ]
  },
  {
   "cell_type": "code",
   "execution_count": 10,
   "metadata": {},
   "outputs": [
    {
     "name": "stdout",
     "output_type": "stream",
     "text": [
      "['Roma', 'Buenos Aires', 'Londres', 'Nueva York', 'Santiago', 'Brasilia', 'Madrid']\n"
     ]
    }
   ],
   "source": [
    "ciduades_del_mundo=[\"Roma\",\"Buenos Aires\",\"Londres\",\"Nueva York\",\"Santiago\",\"Brasilia\",'Madrid']\n",
    "print(ciduades_del_mundo)"
   ]
  },
  {
   "attachments": {},
   "cell_type": "markdown",
   "metadata": {},
   "source": [
    "2) Imprimir por pantalla el segundo elemento de la lista"
   ]
  },
  {
   "cell_type": "code",
   "execution_count": 7,
   "metadata": {},
   "outputs": [
    {
     "name": "stdout",
     "output_type": "stream",
     "text": [
      "Buenos Aires\n"
     ]
    }
   ],
   "source": [
    "print(ciduades_del_mundo[1])"
   ]
  },
  {
   "attachments": {},
   "cell_type": "markdown",
   "metadata": {},
   "source": [
    "3) Imprimir por pantalla del segundo al cuarto elemento"
   ]
  },
  {
   "cell_type": "code",
   "execution_count": 8,
   "metadata": {},
   "outputs": [
    {
     "name": "stdout",
     "output_type": "stream",
     "text": [
      "('Buenos Aires', 'Londres', 'Nueva York')\n"
     ]
    }
   ],
   "source": [
    "print(ciduades_del_mundo[1:4])"
   ]
  },
  {
   "attachments": {},
   "cell_type": "markdown",
   "metadata": {},
   "source": [
    "4) Visualizar el tipo de dato de la lista"
   ]
  },
  {
   "cell_type": "code",
   "execution_count": 11,
   "metadata": {},
   "outputs": [
    {
     "data": {
      "text/plain": [
       "list"
      ]
     },
     "execution_count": 11,
     "metadata": {},
     "output_type": "execute_result"
    }
   ],
   "source": [
    "type(ciduades_del_mundo)\n"
   ]
  },
  {
   "attachments": {},
   "cell_type": "markdown",
   "metadata": {},
   "source": [
    "5) Visualizar todos los elementos de la lista a partir del tercero de manera genérica, es decir, sin explicitar la posición del último elemento"
   ]
  },
  {
   "cell_type": "code",
   "execution_count": 13,
   "metadata": {},
   "outputs": [
    {
     "name": "stdout",
     "output_type": "stream",
     "text": [
      "['Londres', 'Nueva York', 'Santiago', 'Brasilia', 'Madrid']\n"
     ]
    }
   ],
   "source": [
    "print(ciduades_del_mundo[2:])"
   ]
  },
  {
   "attachments": {},
   "cell_type": "markdown",
   "metadata": {},
   "source": [
    "6) Visualizar los primeros 4 elementos de la lista"
   ]
  },
  {
   "cell_type": "code",
   "execution_count": 16,
   "metadata": {},
   "outputs": [
    {
     "name": "stdout",
     "output_type": "stream",
     "text": [
      "['Roma', 'Buenos Aires', 'Londres', 'Nueva York']\n"
     ]
    }
   ],
   "source": [
    "print(ciduades_del_mundo[0:4])"
   ]
  },
  {
   "attachments": {},
   "cell_type": "markdown",
   "metadata": {},
   "source": [
    "7) Agregar una ciudad más a la lista que ya exista y otra que no ¿Arroja algún tipo de error?"
   ]
  },
  {
   "cell_type": "code",
   "execution_count": 18,
   "metadata": {},
   "outputs": [
    {
     "name": "stdout",
     "output_type": "stream",
     "text": [
      "['Roma', 'Buenos Aires', 'Londres', 'Nueva York', 'Santiago', 'Brasilia', 'Madrid', 'Lima', 'Buenos Aires', 'Lima', 'Buenos Aires']\n"
     ]
    }
   ],
   "source": [
    "ciduades_del_mundo.extend([\"Lima\",\"Buenos Aires\"])\n",
    "print(ciduades_del_mundo)"
   ]
  },
  {
   "attachments": {},
   "cell_type": "markdown",
   "metadata": {},
   "source": [
    "8) Agregar otra ciudad, pero en la cuarta posición"
   ]
  },
  {
   "cell_type": "code",
   "execution_count": 19,
   "metadata": {},
   "outputs": [
    {
     "name": "stdout",
     "output_type": "stream",
     "text": [
      "['Roma', 'Buenos Aires', 'Londres', 'Paris', 'Nueva York', 'Santiago', 'Brasilia', 'Madrid', 'Lima', 'Buenos Aires', 'Lima', 'Buenos Aires']\n"
     ]
    }
   ],
   "source": [
    "ciduades_del_mundo.insert(3,\"Paris\")\n",
    "print(ciduades_del_mundo)"
   ]
  },
  {
   "attachments": {},
   "cell_type": "markdown",
   "metadata": {},
   "source": [
    "9) Concatenar otra lista a la ya creada"
   ]
  },
  {
   "cell_type": "code",
   "execution_count": 21,
   "metadata": {},
   "outputs": [
    {
     "name": "stdout",
     "output_type": "stream",
     "text": [
      "['Roma', 'Buenos Aires', 'Londres', 'Paris', 'Nueva York', 'Santiago', 'Brasilia', 'Madrid', 'Lima', 'Buenos Aires', 'Lima', 'Buenos Aires', 'Rio', 'Lisboa', 'San Francisco']\n"
     ]
    }
   ],
   "source": [
    "ciduades_del_mundo.extend([\"Rio\",\"Lisboa\",\"San Francisco\"])\n",
    "print(ciduades_del_mundo)"
   ]
  },
  {
   "attachments": {},
   "cell_type": "markdown",
   "metadata": {},
   "source": [
    "10) Encontrar el índice de la ciudad que en el punto 7 agregamos duplicada. ¿Se nota alguna particularidad?"
   ]
  },
  {
   "cell_type": "code",
   "execution_count": 22,
   "metadata": {},
   "outputs": [
    {
     "name": "stdout",
     "output_type": "stream",
     "text": [
      "1\n"
     ]
    }
   ],
   "source": [
    "print(ciduades_del_mundo.index(\"Buenos Aires\"))"
   ]
  },
  {
   "attachments": {},
   "cell_type": "markdown",
   "metadata": {},
   "source": [
    "11) ¿Qué pasa si se busca un elemento que no existe?"
   ]
  },
  {
   "cell_type": "code",
   "execution_count": 26,
   "metadata": {},
   "outputs": [
    {
     "ename": "ValueError",
     "evalue": "'Montevideo' is not in list",
     "output_type": "error",
     "traceback": [
      "\u001b[1;31m---------------------------------------------------------------------------\u001b[0m",
      "\u001b[1;31mValueError\u001b[0m                                Traceback (most recent call last)",
      "Cell \u001b[1;32mIn[26], line 1\u001b[0m\n\u001b[1;32m----> 1\u001b[0m \u001b[39mprint\u001b[39m(ciduades_del_mundo\u001b[39m.\u001b[39;49mindex(\u001b[39m\"\u001b[39;49m\u001b[39mMontevideo\u001b[39;49m\u001b[39m\"\u001b[39;49m))\n",
      "\u001b[1;31mValueError\u001b[0m: 'Montevideo' is not in list"
     ]
    }
   ],
   "source": [
    "print(ciduades_del_mundo.index(\"Montevideo\"))"
   ]
  },
  {
   "attachments": {},
   "cell_type": "markdown",
   "metadata": {},
   "source": [
    "12) Eliminar un elemento de la lista"
   ]
  },
  {
   "cell_type": "code",
   "execution_count": 27,
   "metadata": {},
   "outputs": [
    {
     "name": "stdout",
     "output_type": "stream",
     "text": [
      "['Roma', 'Londres', 'Paris', 'Nueva York', 'Santiago', 'Brasilia', 'Madrid', 'Lima', 'Buenos Aires', 'Lima', 'Buenos Aires', 'Rio', 'Lisboa', 'San Francisco']\n"
     ]
    }
   ],
   "source": [
    "ciduades_del_mundo.remove(\"Buenos Aires\")\n",
    "print(ciduades_del_mundo)"
   ]
  },
  {
   "attachments": {},
   "cell_type": "markdown",
   "metadata": {},
   "source": [
    "13) ¿Qué pasa si el elemento a eliminar no existe?"
   ]
  },
  {
   "cell_type": "code",
   "execution_count": 28,
   "metadata": {},
   "outputs": [
    {
     "ename": "ValueError",
     "evalue": "list.remove(x): x not in list",
     "output_type": "error",
     "traceback": [
      "\u001b[1;31m---------------------------------------------------------------------------\u001b[0m",
      "\u001b[1;31mValueError\u001b[0m                                Traceback (most recent call last)",
      "Cell \u001b[1;32mIn[28], line 1\u001b[0m\n\u001b[1;32m----> 1\u001b[0m ciduades_del_mundo\u001b[39m.\u001b[39;49mremove(\u001b[39m\"\u001b[39;49m\u001b[39mMontevideo\u001b[39;49m\u001b[39m\"\u001b[39;49m)\n",
      "\u001b[1;31mValueError\u001b[0m: list.remove(x): x not in list"
     ]
    }
   ],
   "source": [
    "ciduades_del_mundo.remove(\"Montevideo\")\n"
   ]
  },
  {
   "attachments": {},
   "cell_type": "markdown",
   "metadata": {},
   "source": [
    "14) Extraer el úlimo elemento de la lista, guardarlo en una variable e imprimirlo"
   ]
  },
  {
   "cell_type": "code",
   "execution_count": 30,
   "metadata": {},
   "outputs": [
    {
     "name": "stdout",
     "output_type": "stream",
     "text": [
      "Lisboa\n",
      "['Roma', 'Londres', 'Paris', 'Nueva York', 'Santiago', 'Brasilia', 'Madrid', 'Lima', 'Buenos Aires', 'Lima', 'Buenos Aires', 'Rio']\n"
     ]
    }
   ],
   "source": [
    "ultimo=ciduades_del_mundo.pop()\n",
    "print(ultimo)\n",
    "print(ciduades_del_mundo)"
   ]
  },
  {
   "attachments": {},
   "cell_type": "markdown",
   "metadata": {},
   "source": [
    "15) Mostrar la lista multiplicada por 4"
   ]
  },
  {
   "cell_type": "code",
   "execution_count": 31,
   "metadata": {},
   "outputs": [
    {
     "name": "stdout",
     "output_type": "stream",
     "text": [
      "['Roma', 'Londres', 'Paris', 'Nueva York', 'Santiago', 'Brasilia', 'Madrid', 'Lima', 'Buenos Aires', 'Lima', 'Buenos Aires', 'Rio', 'Roma', 'Londres', 'Paris', 'Nueva York', 'Santiago', 'Brasilia', 'Madrid', 'Lima', 'Buenos Aires', 'Lima', 'Buenos Aires', 'Rio', 'Roma', 'Londres', 'Paris', 'Nueva York', 'Santiago', 'Brasilia', 'Madrid', 'Lima', 'Buenos Aires', 'Lima', 'Buenos Aires', 'Rio', 'Roma', 'Londres', 'Paris', 'Nueva York', 'Santiago', 'Brasilia', 'Madrid', 'Lima', 'Buenos Aires', 'Lima', 'Buenos Aires', 'Rio']\n"
     ]
    }
   ],
   "source": [
    "print(ciduades_del_mundo*4)"
   ]
  },
  {
   "attachments": {},
   "cell_type": "markdown",
   "metadata": {},
   "source": [
    "16) Crear una tupla que contenga los números enteros del 1 al 20"
   ]
  },
  {
   "cell_type": "code",
   "execution_count": 36,
   "metadata": {},
   "outputs": [
    {
     "name": "stdout",
     "output_type": "stream",
     "text": [
      "(1, 2, 3, 4, 5, 6, 7, 8, 9, 10, 11, 12, 13, 14, 15, 16, 17, 18, 19, 20)\n",
      "<class 'tuple'>\n"
     ]
    }
   ],
   "source": [
    "tup=(1,2,3,4,5,6,7,8,9,10,11,12,13,14,15,16,17,18,19,20)\n",
    "print(tup)\n",
    "print(type(tup))"
   ]
  },
  {
   "attachments": {},
   "cell_type": "markdown",
   "metadata": {},
   "source": [
    "17) Imprimir desde el índice 10 al 15 de la tupla"
   ]
  },
  {
   "cell_type": "code",
   "execution_count": 38,
   "metadata": {},
   "outputs": [
    {
     "name": "stdout",
     "output_type": "stream",
     "text": [
      "(11, 12, 13, 14, 15, 16)\n"
     ]
    }
   ],
   "source": [
    "print(tup[10:16])"
   ]
  },
  {
   "attachments": {},
   "cell_type": "markdown",
   "metadata": {},
   "source": [
    "18) Evaluar si los números 20 y 30 están dentro de la tupla"
   ]
  },
  {
   "cell_type": "code",
   "execution_count": 41,
   "metadata": {},
   "outputs": [
    {
     "name": "stdout",
     "output_type": "stream",
     "text": [
      "19\n"
     ]
    },
    {
     "ename": "ValueError",
     "evalue": "tuple.index(x): x not in tuple",
     "output_type": "error",
     "traceback": [
      "\u001b[1;31m---------------------------------------------------------------------------\u001b[0m",
      "\u001b[1;31mValueError\u001b[0m                                Traceback (most recent call last)",
      "Cell \u001b[1;32mIn[41], line 2\u001b[0m\n\u001b[0;32m      1\u001b[0m \u001b[39mprint\u001b[39m(tup\u001b[39m.\u001b[39mindex(\u001b[39m20\u001b[39m))\n\u001b[1;32m----> 2\u001b[0m \u001b[39mprint\u001b[39m(tup\u001b[39m.\u001b[39;49mindex(\u001b[39m30\u001b[39;49m))\n",
      "\u001b[1;31mValueError\u001b[0m: tuple.index(x): x not in tuple"
     ]
    }
   ],
   "source": [
    "print(tup.index(20))\n",
    "print(tup.index(30))"
   ]
  },
  {
   "attachments": {},
   "cell_type": "markdown",
   "metadata": {},
   "source": [
    "19) Con la lista creada en el punto 1, validar la existencia del elemento 'París' y si no existe, agregarlo. Utilizar una variable e informar lo sucedido."
   ]
  },
  {
   "cell_type": "code",
   "execution_count": 46,
   "metadata": {},
   "outputs": [
    {
     "name": "stdout",
     "output_type": "stream",
     "text": [
      "El elemento  Paris ya se encontraba en la lista\n",
      "['Roma', 'Londres', 'Paris', 'Nueva York', 'Santiago', 'Brasilia', 'Madrid', 'Lima', 'Buenos Aires', 'Lima', 'Buenos Aires', 'Rio', 'Mexico']\n"
     ]
    }
   ],
   "source": [
    "p=\"Paris\"\n",
    "a=p\n",
    "if (not(a in ciduades_del_mundo)):\n",
    "    ciduades_del_mundo.append(a)\n",
    "    print(\"se inserto el elemento solicitado\",a)\n",
    "else:\n",
    "    print(\"El elemento \",a,\"ya se encontraba en la lista\")\n",
    "    print(ciduades_del_mundo)"
   ]
  },
  {
   "attachments": {},
   "cell_type": "markdown",
   "metadata": {},
   "source": [
    "20) Mostrar la cantidad de veces que se encuentra un elemento específico dentro de la tupla y de la lista"
   ]
  },
  {
   "cell_type": "code",
   "execution_count": 47,
   "metadata": {},
   "outputs": [
    {
     "name": "stdout",
     "output_type": "stream",
     "text": [
      "2\n",
      "0\n"
     ]
    }
   ],
   "source": [
    "print(ciduades_del_mundo.count(\"Buenos Aires\"))\n",
    "print(tup.count(0))"
   ]
  },
  {
   "attachments": {},
   "cell_type": "markdown",
   "metadata": {},
   "source": [
    "21) Convertir la tupla en una lista"
   ]
  },
  {
   "cell_type": "code",
   "execution_count": 49,
   "metadata": {},
   "outputs": [
    {
     "name": "stdout",
     "output_type": "stream",
     "text": [
      "<class 'tuple'>\n",
      "<class 'list'>\n"
     ]
    }
   ],
   "source": [
    "tup2=list(tup)\n",
    "print(type(tup))\n",
    "print(type(tup2))"
   ]
  },
  {
   "attachments": {},
   "cell_type": "markdown",
   "metadata": {},
   "source": [
    "22) Desempaquetar solo los primeros 3 elementos de la tupla en 3 variables"
   ]
  },
  {
   "cell_type": "code",
   "execution_count": 52,
   "metadata": {},
   "outputs": [
    {
     "name": "stdout",
     "output_type": "stream",
     "text": [
      "22\n",
      "Agosto\n",
      "2023\n"
     ]
    }
   ],
   "source": [
    "date=(22,\"Agosto\",2023)\n",
    "type(date)\n",
    "uno,dos,tres=date\n",
    "print(uno)\n",
    "print(dos)\n",
    "print(tres)"
   ]
  },
  {
   "attachments": {},
   "cell_type": "markdown",
   "metadata": {},
   "source": [
    "23) Crear un diccionario utilizando la lista crada en el punto 1, asignandole la clave \"ciudad\". Agregar tambien otras claves, como puede ser \"Pais\" y \"Continente\"."
   ]
  },
  {
   "cell_type": "code",
   "execution_count": 60,
   "metadata": {},
   "outputs": [
    {
     "name": "stdout",
     "output_type": "stream",
     "text": [
      "{'Ciudades': ['Roma', 'Londres', 'Paris', 'Nueva York', 'Santiago', 'Brasilia', 'Madrid', 'Lima', 'Buenos Aires', 'Lima', 'Buenos Aires', 'Rio', 'Mexico'], 'Pais': ['Italia', 'Eng', 'France', 'Usa', 'Arg', 'Brasil'], 'Continente': ['America del Norte', 'America del Sur', 'Europa']}\n"
     ]
    }
   ],
   "source": [
    "m_dicc={'Ciudades':ciduades_del_mundo,'Pais':[\"Italia\",\"Eng\",\"France\",\"Usa\",\"Arg\",\"Brasil\"],'Continente':[\"America del Norte\",\"America del Sur\",\"Europa\"]}\n",
    "print(m_dicc)"
   ]
  },
  {
   "attachments": {},
   "cell_type": "markdown",
   "metadata": {},
   "source": [
    "24) Imprimir las claves del diccionario"
   ]
  },
  {
   "cell_type": "code",
   "execution_count": 61,
   "metadata": {},
   "outputs": [
    {
     "name": "stdout",
     "output_type": "stream",
     "text": [
      "dict_keys(['Ciudades', 'Pais', 'Continente'])\n"
     ]
    }
   ],
   "source": [
    "print(m_dicc.keys())"
   ]
  },
  {
   "attachments": {},
   "cell_type": "markdown",
   "metadata": {},
   "source": [
    "25) Imprimir las ciudades a través de su clave"
   ]
  },
  {
   "cell_type": "code",
   "execution_count": 64,
   "metadata": {},
   "outputs": [
    {
     "name": "stdout",
     "output_type": "stream",
     "text": [
      "['Roma', 'Londres', 'Paris', 'Nueva York', 'Santiago', 'Brasilia', 'Madrid', 'Lima', 'Buenos Aires', 'Lima', 'Buenos Aires', 'Rio', 'Mexico']\n"
     ]
    }
   ],
   "source": [
    "print(m_dicc['Ciudades'])"
   ]
  }
 ],
 "metadata": {
  "interpreter": {
   "hash": "c85384e4cb51c8b72350f3a8712cc8351fdc3955e32a27f9b60c6242ab125f01"
  },
  "kernelspec": {
   "display_name": "Python 3 (ipykernel)",
   "language": "python",
   "name": "python3"
  },
  "language_info": {
   "codemirror_mode": {
    "name": "ipython",
    "version": 3
   },
   "file_extension": ".py",
   "mimetype": "text/x-python",
   "name": "python",
   "nbconvert_exporter": "python",
   "pygments_lexer": "ipython3",
   "version": "3.11.5"
  }
 },
 "nbformat": 4,
 "nbformat_minor": 4
}

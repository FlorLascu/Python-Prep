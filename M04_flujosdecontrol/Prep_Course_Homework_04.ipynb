{
 "cells": [
  {
   "attachments": {},
   "cell_type": "markdown",
   "metadata": {},
   "source": [
    "## Flujos de Control"
   ]
  },
  {
   "attachments": {},
   "cell_type": "markdown",
   "metadata": {},
   "source": [
    "1) Crear una variable que contenga un elemento del conjunto de números enteros y luego imprimir por pantalla si es mayor o menor a cero"
   ]
  },
  {
   "cell_type": "code",
   "execution_count": 8,
   "metadata": {},
   "outputs": [
    {
     "name": "stdout",
     "output_type": "stream",
     "text": [
      "Es igual a cero\n"
     ]
    }
   ],
   "source": [
    "x=0\n",
    "if x>0:\n",
    "    print(\"Es mayor a 0\")\n",
    "elif x<0:\n",
    "    print(\"Es menor que 0\")\n",
    "else:\n",
    "    print(\"Es igual a cero\")"
   ]
  },
  {
   "attachments": {},
   "cell_type": "markdown",
   "metadata": {},
   "source": [
    "2) Crear dos variables y un condicional que informe si son del mismo tipo de dato"
   ]
  },
  {
   "cell_type": "code",
   "execution_count": 10,
   "metadata": {},
   "outputs": [
    {
     "name": "stdout",
     "output_type": "stream",
     "text": [
      "No son el mismo tipo de Dato\n"
     ]
    }
   ],
   "source": [
    "A=\"String\"\n",
    "B=8\n",
    "if type(A)==type(B):\n",
    "    print(\"Son el mismo tipo de Dato\")\n",
    "else:\n",
    "    print(\"No son el mismo tipo de Dato\")"
   ]
  },
  {
   "attachments": {},
   "cell_type": "markdown",
   "metadata": {},
   "source": [
    "3) Para los valores enteros del 1 al 20, imprimir por pantalla si es par o impar"
   ]
  },
  {
   "cell_type": "code",
   "execution_count": 13,
   "metadata": {},
   "outputs": [
    {
     "name": "stdout",
     "output_type": "stream",
     "text": [
      "1  es impar\n",
      "2  es Par\n",
      "3  es impar\n",
      "4  es Par\n",
      "5  es impar\n",
      "6  es Par\n",
      "7  es impar\n",
      "8  es Par\n",
      "9  es impar\n",
      "10  es Par\n",
      "11  es impar\n",
      "12  es Par\n",
      "13  es impar\n",
      "14  es Par\n",
      "15  es impar\n",
      "16  es Par\n",
      "17  es impar\n",
      "18  es Par\n",
      "19  es impar\n",
      "20  es Par\n"
     ]
    }
   ],
   "source": [
    "for i in range(0,20):\n",
    "    i+=1\n",
    "    if i %2 ==0:\n",
    "        print(i,\" es Par\")\n",
    "    else:\n",
    "        print(i,\" es impar\")"
   ]
  },
  {
   "attachments": {},
   "cell_type": "markdown",
   "metadata": {},
   "source": [
    "4) En un ciclo for mostrar para los valores entre 0 y 5 el resultado de elevarlo a la potencia igual a 3"
   ]
  },
  {
   "cell_type": "code",
   "execution_count": 27,
   "metadata": {},
   "outputs": [
    {
     "name": "stdout",
     "output_type": "stream",
     "text": [
      "0\n",
      "1\n",
      "8\n",
      "27\n",
      "64\n",
      "125\n"
     ]
    }
   ],
   "source": [
    "for g in range(0,6):\n",
    "    g=g**3\n",
    "    print(g)"
   ]
  },
  {
   "attachments": {},
   "cell_type": "markdown",
   "metadata": {},
   "source": [
    "5) Crear una variable que contenga un número entero y realizar un ciclo for la misma cantidad de ciclos"
   ]
  },
  {
   "cell_type": "code",
   "execution_count": 54,
   "metadata": {},
   "outputs": [
    {
     "name": "stdout",
     "output_type": "stream",
     "text": [
      "3\n"
     ]
    }
   ],
   "source": [
    "n=4\n",
    "for i in range(0,n):\n",
    "    pass\n",
    "print(i)"
   ]
  },
  {
   "attachments": {},
   "cell_type": "markdown",
   "metadata": {},
   "source": [
    "6) Utilizar un ciclo while para realizar el factorial de un número guardado en una variable, sólo si la variable contiene un número entero mayor a 0"
   ]
  },
  {
   "cell_type": "code",
   "execution_count": 47,
   "metadata": {},
   "outputs": [
    {
     "name": "stdout",
     "output_type": "stream",
     "text": [
      "El factorial es 120\n"
     ]
    }
   ],
   "source": [
    "n = 5\n",
    "if (type(n) == int):\n",
    "    if (n > 0):\n",
    "        factorial = n\n",
    "        while (n > 2):\n",
    "            n = n - 1\n",
    "            factorial = factorial * n\n",
    "        print('El factorial es', factorial)\n",
    "    else:\n",
    "        print('La variable no es mayor a cero')\n",
    "else:\n",
    "    print('La variable no es un entero')"
   ]
  },
  {
   "attachments": {},
   "cell_type": "markdown",
   "metadata": {},
   "source": [
    "7) Crear un ciclo for dentro de un ciclo while"
   ]
  },
  {
   "cell_type": "code",
   "execution_count": 55,
   "metadata": {},
   "outputs": [
    {
     "name": "stdout",
     "output_type": "stream",
     "text": [
      "ciclo  1 la suma es 1\n",
      "ciclo  1 la suma es 2\n",
      "ciclo  1 la suma es 3\n",
      "ciclo  2 la suma es 1\n",
      "ciclo  2 la suma es 2\n",
      "ciclo  2 la suma es 3\n",
      "ciclo  3 la suma es 1\n",
      "ciclo  3 la suma es 2\n",
      "ciclo  3 la suma es 3\n",
      "fin\n"
     ]
    }
   ],
   "source": [
    "n=1\n",
    "while n<3:\n",
    "    for i in range(0,3):\n",
    "        suma=i+1\n",
    "        i+=i\n",
    "        print(\"ciclo \",n,\"la suma es\",suma)\n",
    "    n=n+1\n",
    "print(\"fin\")\n"
   ]
  },
  {
   "attachments": {},
   "cell_type": "markdown",
   "metadata": {},
   "source": [
    "8) Crear un ciclo while dentro de un ciclo for"
   ]
  },
  {
   "cell_type": "code",
   "execution_count": 59,
   "metadata": {},
   "outputs": [
    {
     "name": "stdout",
     "output_type": "stream",
     "text": [
      "0\n",
      "1\n",
      "2\n",
      "fin\n"
     ]
    }
   ],
   "source": [
    "n=1\n",
    "for i in range(0,3):\n",
    "    while n<2: \n",
    "        n=n+1\n",
    "    print(i)\n",
    "print(\"fin\")"
   ]
  },
  {
   "attachments": {},
   "cell_type": "markdown",
   "metadata": {},
   "source": [
    "9) Imprimir los números primos existentes entre 0 y 30"
   ]
  },
  {
   "cell_type": "code",
   "execution_count": 60,
   "metadata": {},
   "outputs": [
    {
     "name": "stdout",
     "output_type": "stream",
     "text": [
      "0\n",
      "1\n",
      "2\n",
      "3\n",
      "5\n",
      "7\n",
      "11\n",
      "13\n",
      "17\n",
      "19\n",
      "23\n",
      "29\n"
     ]
    }
   ],
   "source": [
    "# Establecemos el valor máximo del rango\n",
    "tope_rango = 30\n",
    "\n",
    "# Inicializamos la variable n en 0\n",
    "n = 0\n",
    "\n",
    "# Inicializamos la variable primo como verdadera\n",
    "primo = True\n",
    "\n",
    "# Comenzamos un bucle while que se ejecutará mientras n sea menor que el tope_rango\n",
    "while n < tope_rango:\n",
    "    # Comenzamos un bucle for que itera desde 2 hasta n-1\n",
    "    for div in range(2, n):\n",
    "        # Comprobamos si n es divisible entre div\n",
    "        if n % div == 0:\n",
    "            # Si es divisible, marcamos primo como falso\n",
    "            primo = False\n",
    "    \n",
    "    # Verificamos si la variable primo es verdadera\n",
    "    if primo:\n",
    "        # Si es verdadera, significa que n es un número primo, por lo que lo imprimimos\n",
    "        print(n)\n",
    "    else:\n",
    "        # Si primo es falso, significa que n no es un número primo, por lo que lo restablecemos a verdadero\n",
    "        primo = True\n",
    "    \n",
    "    # Incrementamos n en 1 para pasar al siguiente número\n",
    "    n += 1\n"
   ]
  },
  {
   "attachments": {},
   "cell_type": "markdown",
   "metadata": {},
   "source": [
    "10) ¿Se puede mejorar el proceso del punto 9? Utilizar las sentencias break y/ó continue para tal fin"
   ]
  },
  {
   "cell_type": "code",
   "execution_count": 61,
   "metadata": {},
   "outputs": [
    {
     "name": "stdout",
     "output_type": "stream",
     "text": [
      "0\n",
      "1\n",
      "2\n",
      "3\n",
      "5\n",
      "7\n",
      "11\n",
      "13\n",
      "17\n",
      "19\n",
      "23\n",
      "29\n"
     ]
    }
   ],
   "source": [
    "# Establecemos el valor máximo del rango\n",
    "tope_rango = 30\n",
    "\n",
    "# Inicializamos la variable n en 0\n",
    "n = 0\n",
    "\n",
    "# Inicializamos la variable primo como verdadera\n",
    "primo = True\n",
    "\n",
    "# Comenzamos un bucle while que se ejecutará mientras n sea menor que el tope_rango\n",
    "while n < tope_rango:\n",
    "    # Comenzamos un bucle for que itera desde 2 hasta n-1\n",
    "    for div in range(2, n):\n",
    "        # Comprobamos si n es divisible entre div\n",
    "        if n % div == 0:\n",
    "            # Si es divisible, marcamos primo como falso\n",
    "            primo = False\n",
    "            break\n",
    "    \n",
    "    # Verificamos si la variable primo es verdadera\n",
    "    if primo:\n",
    "        # Si es verdadera, significa que n es un número primo, por lo que lo imprimimos\n",
    "        print(n)\n",
    "    else:\n",
    "        # Si primo es falso, significa que n no es un número primo, por lo que lo restablecemos a verdadero\n",
    "        primo = True\n",
    "    \n",
    "    # Incrementamos n en 1 para pasar al siguiente número\n",
    "    n += 1\n"
   ]
  },
  {
   "attachments": {},
   "cell_type": "markdown",
   "metadata": {},
   "source": [
    "11) En los puntos 9 y 10, se diseño un código que encuentra números primos y además se lo optimizó. ¿Es posible saber en qué medida se optimizó?"
   ]
  },
  {
   "cell_type": "code",
   "execution_count": 62,
   "metadata": {},
   "outputs": [
    {
     "name": "stdout",
     "output_type": "stream",
     "text": [
      "0\n",
      "1\n",
      "2\n",
      "3\n",
      "5\n",
      "7\n",
      "11\n",
      "13\n",
      "17\n",
      "19\n",
      "23\n",
      "29\n",
      "Cantidad de ciclos: 378\n"
     ]
    }
   ],
   "source": [
    "ciclos_sin_break = 0\n",
    "n = 0\n",
    "primo = True\n",
    "while (n < tope_rango):\n",
    "    for div in range(2, n):\n",
    "        ciclos_sin_break += 1\n",
    "        if (n % div == 0):\n",
    "            primo = False\n",
    "    if (primo):\n",
    "        print(n)\n",
    "    else:\n",
    "        primo = True\n",
    "    n += 1\n",
    "print('Cantidad de ciclos: ' + str(ciclos_sin_break))   "
   ]
  },
  {
   "cell_type": "code",
   "execution_count": 63,
   "metadata": {},
   "outputs": [
    {
     "name": "stdout",
     "output_type": "stream",
     "text": [
      "0\n",
      "1\n",
      "2\n",
      "3\n",
      "5\n",
      "7\n",
      "11\n",
      "13\n",
      "17\n",
      "19\n",
      "23\n",
      "29\n",
      "Cantidad de ciclos: 134\n",
      "Se optimizó a un 0.3544973544973545% de ciclos aplicando break\n"
     ]
    }
   ],
   "source": [
    "ciclos_con_break = 0\n",
    "n = 0\n",
    "primo = True\n",
    "while (n < tope_rango):\n",
    "    for div in range(2, n):\n",
    "        ciclos_con_break += 1\n",
    "        if (n % div == 0):\n",
    "            primo = False\n",
    "            break\n",
    "    if (primo):\n",
    "        print(n)\n",
    "    else:\n",
    "        primo = True\n",
    "    n += 1\n",
    "print('Cantidad de ciclos: ' + str(ciclos_con_break))\n",
    "print('Se optimizó a un ' + str(ciclos_con_break/ciclos_sin_break) + '% de ciclos aplicando break')"
   ]
  },
  {
   "attachments": {},
   "cell_type": "markdown",
   "metadata": {},
   "source": [
    "12) Aplicando continue, armar un ciclo while que solo imprima los valores divisibles por 12, dentro del rango de números de 100 a 300"
   ]
  },
  {
   "cell_type": "code",
   "execution_count": 66,
   "metadata": {},
   "outputs": [
    {
     "name": "stdout",
     "output_type": "stream",
     "text": [
      "108\n",
      "120\n",
      "132\n",
      "144\n",
      "156\n",
      "168\n",
      "180\n",
      "192\n",
      "204\n",
      "216\n",
      "228\n",
      "240\n",
      "252\n",
      "264\n",
      "276\n",
      "288\n"
     ]
    }
   ],
   "source": [
    "for i in range(100,300):\n",
    "    if i %12 == 0:\n",
    "        print(i)\n",
    "    else:\n",
    "        i+=i+1"
   ]
  },
  {
   "cell_type": "code",
   "execution_count": 73,
   "metadata": {},
   "outputs": [
    {
     "name": "stdout",
     "output_type": "stream",
     "text": [
      "108  Es multiplo de 12\n",
      "120  Es multiplo de 12\n",
      "132  Es multiplo de 12\n",
      "144  Es multiplo de 12\n",
      "156  Es multiplo de 12\n",
      "168  Es multiplo de 12\n",
      "180  Es multiplo de 12\n",
      "192  Es multiplo de 12\n",
      "204  Es multiplo de 12\n",
      "216  Es multiplo de 12\n",
      "228  Es multiplo de 12\n",
      "240  Es multiplo de 12\n",
      "252  Es multiplo de 12\n",
      "264  Es multiplo de 12\n",
      "276  Es multiplo de 12\n",
      "288  Es multiplo de 12\n",
      "300  Es multiplo de 12\n"
     ]
    }
   ],
   "source": [
    "n=99\n",
    "while n<301:\n",
    "    n+=1\n",
    "    if n % 12 != 0:\n",
    "        continue\n",
    "    print(n,\" Es multiplo de 12\")"
   ]
  },
  {
   "attachments": {},
   "cell_type": "markdown",
   "metadata": {},
   "source": [
    "13) Utilizar la función **input()** que permite hacer ingresos por teclado, para encontrar números primos y dar la opción al usario de buscar el siguiente"
   ]
  },
  {
   "cell_type": "code",
   "execution_count": 3,
   "metadata": {},
   "outputs": [
    {
     "name": "stdout",
     "output_type": "stream",
     "text": [
      "0\n",
      "1\n",
      "2\n",
      "3\n",
      "5\n",
      "7\n",
      "11\n",
      "13\n",
      "17\n",
      "19\n",
      "23\n",
      "29\n",
      "53\n",
      "59\n",
      "61\n",
      "67\n",
      "71\n",
      "73\n",
      "79\n",
      "83\n",
      "89\n",
      "97\n",
      "Fin del proceso\n"
     ]
    }
   ],
   "source": [
    "primo = True\n",
    "seguir = True\n",
    "\n",
    "while seguir == True:\n",
    "    rango_a=input(\"Introduce starting range: \",)\n",
    "    rango_b=input(\"Introduce upper range: \",)\n",
    "    n=int(rango_a)\n",
    "    while (n < int(rango_b)):\n",
    "        for div in range(2, n):\n",
    "            if (n % div == 0):\n",
    "                primo = False\n",
    "                break\n",
    "        if (primo):\n",
    "            print(n)\n",
    "        else:\n",
    "            primo = True\n",
    "        n += 1\n",
    "    else: \n",
    "        a=input(\"Do you want to start again? 0 for No or 1 for Yes\",)\n",
    "    seguir=bool(int(a))\n",
    "if seguir==False:\n",
    "    print(\"Fin del proceso\")\n",
    "else:\n",
    "    Print(\"New Cicle\")\n",
    "\n",
    "\n"
   ]
  },
  {
   "cell_type": "code",
   "execution_count": null,
   "metadata": {},
   "outputs": [],
   "source": []
  },
  {
   "attachments": {},
   "cell_type": "markdown",
   "metadata": {},
   "source": [
    "14) Crear un ciclo while que encuentre dentro del rango de 100 a 300 el primer número divisible por 3 y además múltiplo de 6"
   ]
  },
  {
   "cell_type": "code",
   "execution_count": 1,
   "metadata": {},
   "outputs": [
    {
     "name": "stdout",
     "output_type": "stream",
     "text": [
      "El numero es  102\n",
      "El numero es  108\n",
      "El numero es  114\n",
      "El numero es  120\n",
      "El numero es  126\n",
      "El numero es  132\n",
      "El numero es  138\n",
      "El numero es  144\n",
      "El numero es  150\n",
      "El numero es  156\n",
      "El numero es  162\n",
      "El numero es  168\n",
      "El numero es  174\n",
      "El numero es  180\n",
      "El numero es  186\n",
      "El numero es  192\n",
      "El numero es  198\n",
      "El numero es  204\n",
      "El numero es  210\n",
      "El numero es  216\n",
      "El numero es  222\n",
      "El numero es  228\n",
      "El numero es  234\n",
      "El numero es  240\n",
      "El numero es  246\n",
      "El numero es  252\n",
      "El numero es  258\n",
      "El numero es  264\n",
      "El numero es  270\n",
      "El numero es  276\n",
      "El numero es  282\n",
      "El numero es  288\n",
      "El numero es  294\n"
     ]
    }
   ],
   "source": [
    "n=100\n",
    "while n<300:\n",
    "    if n  % 6 == 0:\n",
    "        print(\"El numero es \",n)\n",
    "                \n",
    "    n+=1\n",
    "   "
   ]
  }
 ],
 "metadata": {
  "interpreter": {
   "hash": "c85384e4cb51c8b72350f3a8712cc8351fdc3955e32a27f9b60c6242ab125f01"
  },
  "kernelspec": {
   "display_name": "Python 3 (ipykernel)",
   "language": "python",
   "name": "python3"
  },
  "language_info": {
   "codemirror_mode": {
    "name": "ipython",
    "version": 3
   },
   "file_extension": ".py",
   "mimetype": "text/x-python",
   "name": "python",
   "nbconvert_exporter": "python",
   "pygments_lexer": "ipython3",
   "version": "3.11.5"
  }
 },
 "nbformat": 4,
 "nbformat_minor": 4
}

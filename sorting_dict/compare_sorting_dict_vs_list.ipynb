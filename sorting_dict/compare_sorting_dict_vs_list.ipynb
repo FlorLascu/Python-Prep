{
 "cells": [
  {
   "cell_type": "code",
   "execution_count": null,
   "metadata": {},
   "outputs": [],
   "source": [
    "from timeit import timeit\n",
    "\n",
    "sorting_list = \"sorted(list_of_dictionaries, key=lambda item:item['age'])\"\n",
    "sorting_dict = \"\"\"\n",
    "dict(\n",
    "    sorted(\n",
    "        dictionary_of_dictionaries.items(), key=lambda item: item[1]['age']\n",
    "    )\n",
    ")\n",
    "\"\"\"\n",
    "\n",
    "sorting_list_time = timeit(\n",
    "    stmt=sorting_list,\n",
    "    setup=\"from samples import list_of_dictionaries\",\n",
    "    globals=globals(),\n",
    ")\n",
    "sorting_dict_time = timeit(\n",
    "    stmt=sorting_dict,\n",
    "    setup=\"from samples import dictionary_of_dictionaries\",\n",
    "    globals=globals(),\n",
    ")\n",
    "\n",
    "print(\n",
    "    f\"\"\"\\\n",
    "{sorting_list_time=:.2f} seconds\n",
    "{sorting_dict_time=:.2f} seconds\n",
    "list is {(sorting_dict_time/sorting_list_time):.2f} times faster\"\"\"\n",
    ")\n"
   ]
  }
 ],
 "metadata": {
  "language_info": {
   "name": "python"
  },
  "orig_nbformat": 4
 },
 "nbformat": 4,
 "nbformat_minor": 2
}

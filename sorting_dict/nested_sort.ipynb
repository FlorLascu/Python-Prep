{
 "cells": [
  {
   "cell_type": "code",
   "execution_count": 1,
   "metadata": {},
   "outputs": [
    {
     "name": "stdout",
     "output_type": "stream",
     "text": [
      "[(193, {'name': 'John', 'age': 30, 'skills': {'python': 8, 'js': 7}}), (483, {'name': 'Anna', 'age': 24, 'skills': {'js': 10}}), (765, {'name': 'Penelope', 'age': 76, 'skills': {'python': 8, 'go': 5}}), (746, {'name': 'Jane', 'age': 58, 'skills': {'js': 2, 'python': 5}}), (209, {'name': 'Bill', 'age': 15, 'skills': {'python': 6}}), (277, {'name': 'Beatriz', 'age': 26, 'skills': {'python': 2, 'js': 4}}), (109, {'name': 'Jill', 'age': 83, 'skills': {'java': 10}}), (984, {'name': 'Jack', 'age': 28, 'skills': {'c': 8, 'assembly': 7}}), (598, {'name': 'Sylvia', 'age': 62, 'skills': {'bash': 8, 'java': 7}})]\n",
      "[(193, {'name': 'John', 'age': 30, 'skills': {'python': 8, 'js': 7}}), (483, {'name': 'Anna', 'age': 24, 'skills': {'js': 10}}), (765, {'name': 'Penelope', 'age': 76, 'skills': {'python': 8, 'go': 5}}), (746, {'name': 'Jane', 'age': 58, 'skills': {'js': 2, 'python': 5}}), (209, {'name': 'Bill', 'age': 15, 'skills': {'python': 6}}), (277, {'name': 'Beatriz', 'age': 26, 'skills': {'python': 2, 'js': 4}}), (109, {'name': 'Jill', 'age': 83, 'skills': {'java': 10}}), (984, {'name': 'Jack', 'age': 28, 'skills': {'c': 8, 'assembly': 7}}), (598, {'name': 'Sylvia', 'age': 62, 'skills': {'bash': 8, 'java': 7}})]\n"
     ]
    }
   ],
   "source": [
    "data = {\n",
    "    193: {\"name\": \"John\", \"age\": 30, \"skills\": {\"python\": 8, \"js\": 7}},\n",
    "    209: {\"name\": \"Bill\", \"age\": 15, \"skills\": {\"python\": 6}},\n",
    "    746: {\"name\": \"Jane\", \"age\": 58, \"skills\": {\"js\": 2, \"python\": 5}},\n",
    "    109: {\"name\": \"Jill\", \"age\": 83, \"skills\": {\"java\": 10}},\n",
    "    984: {\"name\": \"Jack\", \"age\": 28, \"skills\": {\"c\": 8, \"assembly\": 7}},\n",
    "    765: {\"name\": \"Penelope\", \"age\": 76, \"skills\": {\"python\": 8, \"go\": 5}},\n",
    "    598: {\"name\": \"Sylvia\", \"age\": 62, \"skills\": {\"bash\": 8, \"java\": 7}},\n",
    "    483: {\"name\": \"Anna\", \"age\": 24, \"skills\": {\"js\": 10}},\n",
    "    277: {\"name\": \"Beatriz\", \"age\": 26, \"skills\": {\"python\": 2, \"js\": 4}},\n",
    "}\n",
    "\n",
    "\n",
    "def get_relevant_skills(item):\n",
    "    \"\"\"Get the sum of Python and JavaScript skill\"\"\"\n",
    "    skills = item[1][\"skills\"]\n",
    "\n",
    "    # Return default value that is equivalent to no skill\n",
    "    return skills.get(\"python\", 0) + skills.get(\"js\", 0)\n",
    "\n",
    "\n",
    "print(sorted(data.items(), key=get_relevant_skills, reverse=True))\n",
    "\n",
    "# Doing the same thing with lambda function\n",
    "print(\n",
    "    sorted(\n",
    "        data.items(),\n",
    "        key=lambda item: (\n",
    "            item[1][\"skills\"].get(\"python\", 0) + item[1][\"skills\"].get(\"js\", 0)\n",
    "        ),\n",
    "        reverse=True,\n",
    "    )\n",
    ")\n"
   ]
  },
  {
   "cell_type": "code",
   "execution_count": null,
   "metadata": {},
   "outputs": [],
   "source": []
  }
 ],
 "metadata": {
  "kernelspec": {
   "display_name": "Python 3",
   "language": "python",
   "name": "python3"
  },
  "language_info": {
   "codemirror_mode": {
    "name": "ipython",
    "version": 3
   },
   "file_extension": ".py",
   "mimetype": "text/x-python",
   "name": "python",
   "nbconvert_exporter": "python",
   "pygments_lexer": "ipython3",
   "version": "3.11.5"
  },
  "orig_nbformat": 4
 },
 "nbformat": 4,
 "nbformat_minor": 2
}

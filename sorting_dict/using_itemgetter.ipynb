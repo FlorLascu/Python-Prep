{
 "cells": [
  {
   "cell_type": "code",
   "execution_count": null,
   "metadata": {},
   "outputs": [],
   "source": [
    "from operator import itemgetter\n",
    "\n",
    "item = (\"name\", \"Guido\")\n",
    "\n",
    "getter = itemgetter(0)\n",
    "getter(item)  # Returns \"name\"\n",
    "\n",
    "getter = itemgetter(1)\n",
    "getter(item)  # Returns \"Guido\"\n",
    "\n",
    "\n",
    "fruit_inventory = [(\"banana\", 5), (\"orange\", 15), (\"apple\", 3), (\"kiwi\", 0)]\n",
    "\n",
    "# Sort by key\n",
    "sorted(fruit_inventory, key=itemgetter(0))\n",
    "\n",
    "# Sort by value\n",
    "sorted(fruit_inventory, key=itemgetter(1))\n",
    "\n",
    "# Raises IndexError\n",
    "# sorted(fruit_inventory, key=itemgetter(2))\n",
    "\n",
    "\n",
    "people = {3: \"Jim\", 2: \"Jack\", 4: \"Jane\", 1: \"Jill\"}\n",
    "\n",
    "sorted(people.items(), key=itemgetter(1))  # Sort by value\n",
    "\n",
    "\n",
    "scores = {\n",
    "    \"Jack\": 14,\n",
    "    \"Jill\": 14,\n",
    "    \"John\": 15,\n",
    "    \"Jane\": 15,\n",
    "    \"Jim\": 14,\n",
    "    \"Jess\": 14,\n",
    "}\n",
    "\n",
    "# Sorts by value, but keeps names in alphabetical order\n",
    "print(sorted(scores.items(), key=itemgetter(1, 0)))\n"
   ]
  }
 ],
 "metadata": {
  "language_info": {
   "name": "python"
  },
  "orig_nbformat": 4
 },
 "nbformat": 4,
 "nbformat_minor": 2
}

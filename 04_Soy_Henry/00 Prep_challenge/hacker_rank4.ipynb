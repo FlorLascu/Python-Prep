{
 "cells": [
  {
   "cell_type": "code",
   "execution_count": 17,
   "metadata": {},
   "outputs": [],
   "source": [
    "import math\n",
    "import os\n",
    "import random\n",
    "import re\n",
    "import sys\n",
    "\n",
    "def diagonalDifference(arr):\n",
    "    # Write your code here\n",
    "    n = len(arr[0])\n",
    "    lr_diag = 0\n",
    "    rl_diag = 0\n",
    "    for i in range(0, n):\n",
    "        lr_diag = arr[i][i] + lr_diag\n",
    "        rl_diag = arr[i][n-1-i] + rl_diag\n",
    "    diff = lr_diag - rl_diag\n",
    "    abs_dif = ( diff * diff) ** ( 1/2)\n",
    "    print(abs_dif)\n",
    "    return abs_dif"
   ]
  },
  {
   "cell_type": "code",
   "execution_count": 13,
   "metadata": {},
   "outputs": [],
   "source": [
    "arr = [[11,2,4] , [4,5,6] , [10,8,-12]]"
   ]
  },
  {
   "cell_type": "code",
   "execution_count": 11,
   "metadata": {},
   "outputs": [
    {
     "name": "stdout",
     "output_type": "stream",
     "text": [
      "3\n"
     ]
    }
   ],
   "source": [
    "n = len(arr[0])\n",
    "print(n)"
   ]
  },
  {
   "cell_type": "code",
   "execution_count": 18,
   "metadata": {},
   "outputs": [
    {
     "name": "stdout",
     "output_type": "stream",
     "text": [
      "15.0\n"
     ]
    },
    {
     "data": {
      "text/plain": [
       "15.0"
      ]
     },
     "execution_count": 18,
     "metadata": {},
     "output_type": "execute_result"
    }
   ],
   "source": [
    "diagonalDifference(arr)"
   ]
  },
  {
   "cell_type": "code",
   "execution_count": 6,
   "metadata": {},
   "outputs": [],
   "source": [
    "class Player():\n",
    "  def __init__(self, name, items):\n",
    "    self.name   = name\n",
    "    self.items  = items\n",
    "\n",
    "  def push(self, x):\n",
    "    self.items.append(x)\n",
    "\n",
    "  def print(self):\n",
    "    print(self.name,\": \",self.items)\n",
    "\n",
    "\n",
    "# initialize character\n",
    "player = Player(\"Joey\", \n",
    "  [\"movie stub\", \"keys\", \"army man\"])\n"
   ]
  },
  {
   "cell_type": "code",
   "execution_count": 7,
   "metadata": {},
   "outputs": [],
   "source": [
    "playerA = Player('John',['movie','games'])"
   ]
  },
  {
   "cell_type": "code",
   "execution_count": 11,
   "metadata": {},
   "outputs": [
    {
     "name": "stdout",
     "output_type": "stream",
     "text": [
      "John :  ['movie', 'games', 'tic']\n"
     ]
    }
   ],
   "source": [
    "playerA.print()"
   ]
  },
  {
   "cell_type": "code",
   "execution_count": 10,
   "metadata": {},
   "outputs": [],
   "source": [
    "playerA.push('tic')"
   ]
  },
  {
   "cell_type": "code",
   "execution_count": 4,
   "metadata": {},
   "outputs": [
    {
     "data": {
      "text/plain": [
       "['movie stub', 'keys', 'army man', 'a rock']"
      ]
     },
     "execution_count": 4,
     "metadata": {},
     "output_type": "execute_result"
    }
   ],
   "source": [
    "player.items"
   ]
  },
  {
   "cell_type": "code",
   "execution_count": 3,
   "metadata": {},
   "outputs": [],
   "source": [
    "player.push(\"a rock\")"
   ]
  },
  {
   "cell_type": "code",
   "execution_count": 5,
   "metadata": {},
   "outputs": [
    {
     "name": "stdout",
     "output_type": "stream",
     "text": [
      "Joey :  ['movie stub', 'keys', 'army man', 'a rock']\n"
     ]
    }
   ],
   "source": [
    "player.print()"
   ]
  },
  {
   "cell_type": "code",
   "execution_count": 13,
   "metadata": {},
   "outputs": [],
   "source": [
    "def stringMasLarga(strings):\n",
    "    '''la funcion llamada 'stringMasLarga', recibe como argumento un arreglo de strings llamado 'string'\n",
    "    y debe devolver el string mas largo que hay en el arreglo. Es decir, el de mayor cantidad de caracteres\n",
    "    Ej:\n",
    "    stringMasLarga(['hi','hello','ni hao', 'guten tag']); debe retornar 'guten tag'\n",
    "    stringMasLarga(['JavaScript','HTML','CSS']) debe retornar 'JavaScript\n",
    "    '''\n",
    "    #tu codigo aca:\n",
    "    string_mas_larga = []\n",
    "    #print(len(strings))\n",
    "    for i in range(0,len(strings)):\n",
    "        if len(string_mas_larga) < len(strings[i]):\n",
    "            string_mas_larga = strings[i]\n",
    "    return string_mas_larga"
   ]
  },
  {
   "cell_type": "code",
   "execution_count": 14,
   "metadata": {},
   "outputs": [
    {
     "data": {
      "text/plain": [
       "'guten tag'"
      ]
     },
     "execution_count": 14,
     "metadata": {},
     "output_type": "execute_result"
    }
   ],
   "source": [
    "stringMasLarga(['hi','hello','ni hao', 'guten tag'])"
   ]
  },
  {
   "cell_type": "code",
   "execution_count": 15,
   "metadata": {},
   "outputs": [
    {
     "data": {
      "text/plain": [
       "'JavaScript'"
      ]
     },
     "execution_count": 15,
     "metadata": {},
     "output_type": "execute_result"
    }
   ],
   "source": [
    "stringMasLarga(['JavaScript','HTML','CSS'])"
   ]
  },
  {
   "cell_type": "code",
   "execution_count": 55,
   "metadata": {},
   "outputs": [],
   "source": [
    "def buscarAmigo(amigos,nombre):\n",
    "    '''la funcion llamada 'buscarAmigo'  recibe como argumento un array llamado 'amigos'que contiene en\n",
    "    cada posicion del arreglo un objeto que tiene como propiedades 'nombre'y 'edad'.\n",
    "    Tambien recibe un string llamado 'nombre'.\n",
    "    Debe devolver el objeto cuya propiedad 'nombre'coincida co el string 'nombre'recibido por argumento.\n",
    "    \n",
    "    Ej:\n",
    "    Var amigos = [{nombre : 'tomi', edad: 33},{nombre: 'Emi', edad: 25}];\n",
    "    \n",
    "    buscarAmgio(amigos,'tomi') debe devolver {nombre: 'tomi', edad: 33}'''\n",
    "    \n",
    "    #tu codigo aca:\n",
    "    salida_error = 'Input Error'\n",
    "    sol = []\n",
    "    if amigos == []:\n",
    "        return salida_error\n",
    "    else:\n",
    "        for i in range(0,len(amigos)):\n",
    "            if amigos[i].get('nombre') == nombre:\n",
    "                sol.append(amigos[i])\n",
    "                break\n",
    "    return sol[0]"
   ]
  },
  {
   "cell_type": "code",
   "execution_count": 42,
   "metadata": {},
   "outputs": [],
   "source": [
    "amigos = [{'nombre' : 'tomi', 'edad': 33},{'nombre': 'Emi','edad': 25}]"
   ]
  },
  {
   "cell_type": "code",
   "execution_count": 30,
   "metadata": {},
   "outputs": [
    {
     "data": {
      "text/plain": [
       "'tomi'"
      ]
     },
     "execution_count": 30,
     "metadata": {},
     "output_type": "execute_result"
    }
   ],
   "source": [
    "amigos[0].get('nombre')"
   ]
  },
  {
   "cell_type": "code",
   "execution_count": 27,
   "metadata": {},
   "outputs": [
    {
     "data": {
      "text/plain": [
       "2"
      ]
     },
     "execution_count": 27,
     "metadata": {},
     "output_type": "execute_result"
    }
   ],
   "source": [
    "len(amigos[0])"
   ]
  },
  {
   "cell_type": "code",
   "execution_count": 28,
   "metadata": {},
   "outputs": [
    {
     "data": {
      "text/plain": [
       "2"
      ]
     },
     "execution_count": 28,
     "metadata": {},
     "output_type": "execute_result"
    }
   ],
   "source": [
    "len(amigos)"
   ]
  },
  {
   "cell_type": "code",
   "execution_count": 56,
   "metadata": {},
   "outputs": [
    {
     "data": {
      "text/plain": [
       "{'nombre': 'tomi', 'edad': 33}"
      ]
     },
     "execution_count": 56,
     "metadata": {},
     "output_type": "execute_result"
    }
   ],
   "source": [
    "buscarAmigo(amigos,'tomi')"
   ]
  },
  {
   "cell_type": "code",
   "execution_count": 57,
   "metadata": {},
   "outputs": [
    {
     "data": {
      "text/plain": [
       "'Input Error'"
      ]
     },
     "execution_count": 57,
     "metadata": {},
     "output_type": "execute_result"
    }
   ],
   "source": [
    "buscarAmigo([],'Emi')"
   ]
  },
  {
   "cell_type": "code",
   "execution_count": 58,
   "metadata": {},
   "outputs": [
    {
     "data": {
      "text/plain": [
       "{'nombre': 'Emi', 'edad': 25}"
      ]
     },
     "execution_count": 58,
     "metadata": {},
     "output_type": "execute_result"
    }
   ],
   "source": [
    "buscarAmigo(amigos,'Emi')"
   ]
  },
  {
   "cell_type": "code",
   "execution_count": 68,
   "metadata": {},
   "outputs": [],
   "source": [
    "def pluck(array,propiedad):\n",
    "    '''la funcion llamada 'pluck' recibe como argumento un array de objetos llamado 'array' y el nombre\n",
    "    de una propiedad.\n",
    "    la funcion debe devolcer un nuevo arreglo con solo los valores dentro de la propiedad recibida\n",
    "    Ej:\n",
    "    var productos = [{name: 'TV LCD', price: 100},{name: 'Computadora', price: 500}]\n",
    "    productos.pluck(productos, 'name)'deberia devolver ['TV LCD', 'Computadora']\n",
    "    Pista: es una buena oportunidad para usar map'''\n",
    "    \n",
    "    # tu codigo aca:\n",
    "    #salida = []\n",
    "    #for i in range(0,len(array)):\n",
    "    #    salida.append(array[i].get(propiedad))\n",
    "    #return salida\n",
    "\n",
    "    #other:\n",
    "    resultado = list(map(lambda x: x.get(propiedad),array))\n",
    "    #lista_resultado = list(resultado)\n",
    "    return resultado"
   ]
  },
  {
   "cell_type": "code",
   "execution_count": 69,
   "metadata": {},
   "outputs": [],
   "source": [
    "productos = [{'name': 'TV LCD', 'price': 100},{'name': 'Computadora', 'price': 500},{'name': 'lamp', 'price': 30}]"
   ]
  },
  {
   "cell_type": "code",
   "execution_count": 70,
   "metadata": {},
   "outputs": [
    {
     "data": {
      "text/plain": [
       "['TV LCD', 'Computadora', 'lamp']"
      ]
     },
     "execution_count": 70,
     "metadata": {},
     "output_type": "execute_result"
    }
   ],
   "source": [
    "pluck(productos,'name')"
   ]
  },
  {
   "cell_type": "code",
   "execution_count": 71,
   "metadata": {},
   "outputs": [
    {
     "data": {
      "text/plain": [
       "[100, 500, 30]"
      ]
     },
     "execution_count": 71,
     "metadata": {},
     "output_type": "execute_result"
    }
   ],
   "source": [
    "pluck(productos,'price')"
   ]
  },
  {
   "cell_type": "code",
   "execution_count": 224,
   "metadata": {},
   "outputs": [],
   "source": [
    "def crearClasePersona(nombre,edad,hobbies,amigos):\n",
    "    '''el constructor de la clase Persona recibe nombre (string), edad (int), hobbies (array de strings)\n",
    "    amigos (array de objetos).\n",
    "    Inicializar las propiedades de la persona con los valores recibidos como argumento'''\n",
    "    \n",
    "    #tu codigo aca:\n",
    "    \n",
    "    class Persona:\n",
    "        def __init__(self,nombre,edad,hobbies,amigos):\n",
    "            self.nombre = nombre\n",
    "            self.edad = edad\n",
    "            if hobbies == []:\n",
    "                self.hobbies = []\n",
    "            else: \n",
    "                self.hobbies = hobbies\n",
    "            if amigos == []:\n",
    "                self.amigos = []\n",
    "            else:\n",
    "                self.amigos = amigos      \n",
    "        \n",
    "        def addFriend(self,nombre,edad):\n",
    "            new_amigo = {'nombre': nombre, 'edad': edad}\n",
    "            self.amigos.append(new_amigo)\n",
    "       \n",
    "        def addHobby(self,hobby):\n",
    "            self.hobbies.append(hobby)\n",
    "         \n",
    "        def getFriend(self,nombre_amigo):   \n",
    "            get_Friend = []\n",
    "            for i in range(0,len(self.amigos)):\n",
    "                if self.amigos[i].get('nombre') == nombre_amigo:\n",
    "                    get_Friend.append(self.amigos[i])\n",
    "            print(get_Friend)\n",
    "                        \n",
    "        def getHobby(self):   \n",
    "            '''el  metodo 'getHobbies'debe retornar un arreglo con los hobbies de la persona\n",
    "            Ej:\n",
    "            persona.getHobbies() debe devolver [ 'correr', 'dormir', 'nadar']'''\n",
    "            #tu codigo aca:    \n",
    "            return self.hobbies    \n",
    "          \n",
    "        def getPromedioEdad(self):\n",
    "            '''el metodo 'getPromedioEdad' debe retornar el promedio de edad de los amigos de una persona\n",
    "            \n",
    "            Ej:\n",
    "            Si la persona tuviera estos amigos:\n",
    "            \n",
    "            {amigos: [{nombre: 'toni', edad: 33},{nombre: 'Emi', edad: 25}]\n",
    "            \n",
    "            persona.getPromedioEdad() deberia devolver 29 ya que (33 + 25) /2 = 29'''\n",
    "            # tu codigo aca:\n",
    "            amigoS = list(map(lambda x: x.get('edad'),self.amigos))\n",
    "            media = sum(amigoS)/len(amigoS)\n",
    "            return  media\n",
    "              \n",
    "            \n",
    "        def presentar(self):\n",
    "            print(f\"[nombre: {self.nombre}, edad: {self.edad},{self.hobbies},{self.amigos}\")    \n",
    "        \n",
    "        \n",
    "    persona = Persona(nombre,edad,hobbies,amigos)\n",
    "    return persona        "
   ]
  },
  {
   "cell_type": "code",
   "execution_count": 227,
   "metadata": {},
   "outputs": [],
   "source": [
    "hobbies_Ana = ['arte','futbol','animes']\n",
    "amigos_Ana = [{'nombre':'Julia','edad': 13},{'nombre':'Sofi','edad':13}]"
   ]
  },
  {
   "cell_type": "code",
   "execution_count": 228,
   "metadata": {},
   "outputs": [],
   "source": [
    "Ana = crearClasePersona('Ana', 13,hobbies_Ana,amigos_Ana)"
   ]
  },
  {
   "cell_type": "code",
   "execution_count": 229,
   "metadata": {},
   "outputs": [
    {
     "name": "stdout",
     "output_type": "stream",
     "text": [
      "[nombre: Ana, edad: 13,['arte', 'futbol', 'animes'],[{'nombre': 'Julia', 'edad': 13}, {'nombre': 'Sofi', 'edad': 13}]\n"
     ]
    }
   ],
   "source": [
    "Ana.presentar()"
   ]
  },
  {
   "cell_type": "code",
   "execution_count": 158,
   "metadata": {},
   "outputs": [
    {
     "data": {
      "text/plain": [
       "__main__.crearClasePersona.<locals>.Persona"
      ]
     },
     "execution_count": 158,
     "metadata": {},
     "output_type": "execute_result"
    }
   ],
   "source": [
    "type(Ana)"
   ]
  },
  {
   "cell_type": "code",
   "execution_count": 209,
   "metadata": {},
   "outputs": [],
   "source": [
    "Ana.addFriend('Vicky',13)"
   ]
  },
  {
   "cell_type": "code",
   "execution_count": 231,
   "metadata": {},
   "outputs": [
    {
     "name": "stdout",
     "output_type": "stream",
     "text": [
      "[{'nombre': 'Sofi', 'edad': 13}]\n"
     ]
    }
   ],
   "source": [
    "Ana.getFriend('Sofi')"
   ]
  },
  {
   "cell_type": "code",
   "execution_count": 215,
   "metadata": {},
   "outputs": [
    {
     "name": "stdout",
     "output_type": "stream",
     "text": [
      "[nombre: Ana, edad: 13,['arte', 'futbol', 'animes', 'Hockey'],[{'nombre': 'Julia', 'edad': 13}, {'nombre': 'Sofi', 'edad': 13}, {'nombre': 'Vicky', 'edad': 13}]\n"
     ]
    }
   ],
   "source": [
    "Ana.presentar()"
   ]
  },
  {
   "cell_type": "code",
   "execution_count": 213,
   "metadata": {},
   "outputs": [],
   "source": [
    "Ana.addHobby('Hockey')"
   ]
  },
  {
   "cell_type": "code",
   "execution_count": 216,
   "metadata": {},
   "outputs": [
    {
     "data": {
      "text/plain": [
       "['arte', 'futbol', 'animes', 'Hockey']"
      ]
     },
     "execution_count": 216,
     "metadata": {},
     "output_type": "execute_result"
    }
   ],
   "source": [
    "Ana.getHobby()"
   ]
  },
  {
   "cell_type": "code",
   "execution_count": 217,
   "metadata": {},
   "outputs": [
    {
     "data": {
      "text/plain": [
       "13.0"
      ]
     },
     "execution_count": 217,
     "metadata": {},
     "output_type": "execute_result"
    }
   ],
   "source": [
    "Ana.getPromedioEdad()"
   ]
  },
  {
   "cell_type": "code",
   "execution_count": 233,
   "metadata": {},
   "outputs": [],
   "source": [
    "amigosb = [{'nombre': 'toni', 'edad': 33},{'nombre': 'Emi', 'edad': 25}]"
   ]
  },
  {
   "cell_type": "code",
   "execution_count": 234,
   "metadata": {},
   "outputs": [],
   "source": [
    "joaco = crearClasePersona('Joaco',7,['futbol','taekondo'],amigosb)"
   ]
  },
  {
   "cell_type": "code",
   "execution_count": 240,
   "metadata": {},
   "outputs": [
    {
     "name": "stdout",
     "output_type": "stream",
     "text": [
      "[nombre: Joaco, edad: 7,['futbol', 'taekondo', 'Uno'],[{'nombre': 'toni', 'edad': 33}, {'nombre': 'Emi', 'edad': 25}, {'nombre': 'Beli', 'edad': 7}]\n"
     ]
    }
   ],
   "source": [
    "joaco.presentar()"
   ]
  },
  {
   "cell_type": "code",
   "execution_count": 236,
   "metadata": {},
   "outputs": [],
   "source": [
    "joaco.addHobby('Uno')"
   ]
  },
  {
   "cell_type": "code",
   "execution_count": 238,
   "metadata": {},
   "outputs": [
    {
     "name": "stdout",
     "output_type": "stream",
     "text": [
      "[{'nombre': 'toni', 'edad': 33}]\n"
     ]
    }
   ],
   "source": [
    "joaco.getFriend('toni')"
   ]
  },
  {
   "cell_type": "code",
   "execution_count": 239,
   "metadata": {},
   "outputs": [],
   "source": [
    "joaco.addFriend('Beli',7)"
   ]
  },
  {
   "cell_type": "code",
   "execution_count": 241,
   "metadata": {},
   "outputs": [
    {
     "data": {
      "text/plain": [
       "21.666666666666668"
      ]
     },
     "execution_count": 241,
     "metadata": {},
     "output_type": "execute_result"
    }
   ],
   "source": [
    "joaco.getPromedioEdad()"
   ]
  },
  {
   "cell_type": "code",
   "execution_count": null,
   "metadata": {},
   "outputs": [],
   "source": [
    "def funcion(p):\n",
    "    if p >= 50:\n",
    "        return True\n",
    "    else:\n",
    "        return False"
   ]
  },
  {
   "cell_type": "code",
   "execution_count": 392,
   "metadata": {},
   "outputs": [],
   "source": [
    "def filtrar(funcion,array):\n",
    "    '''Escribi una funcion filtrar en el prototipo de Arrays,\n",
    "    que recibe la funcion (callback) que devuelve true o false.\n",
    "    filtrar los elementos de ese arreglo en base al resultado de esa funcion\n",
    "    comparadora, devolver un nuevo arreglo con los elementos filtrados\n",
    "    \n",
    "    NO USa LA FUNCION FILTER DE LOS ARREGLOS.\n",
    "    Ej:\n",
    "    var productos = [{ price: 100, name: 'tv'}, {price: 50, name: 'phone'},{price:30, name: 'lamp'}]\n",
    "    \n",
    "    productos.filtrar(function(p) {return p.price >+ 50; => [{price:100, name: 'tv'}]})'''\n",
    "    \n",
    "    sol = []\n",
    "    for items in array:\n",
    "        if funcion(items) == True:\n",
    "            sol.append(items)    \n",
    "   \n",
    "    print(sol)         \n",
    "\n",
    "    "
   ]
  },
  {
   "cell_type": "code",
   "execution_count": 393,
   "metadata": {},
   "outputs": [],
   "source": [
    "productos1 =  [{ 'price': 100, 'name': 'tv'}, {'price': 50, 'name': 'phone'},{'price': 30, 'name': 'lamp'}]"
   ]
  },
  {
   "cell_type": "code",
   "execution_count": 394,
   "metadata": {},
   "outputs": [],
   "source": [
    "def precio(x):\n",
    "    if x.get('price')>= 50:\n",
    "        return True\n",
    "    else:\n",
    "        return False"
   ]
  },
  {
   "cell_type": "code",
   "execution_count": 395,
   "metadata": {},
   "outputs": [
    {
     "name": "stdout",
     "output_type": "stream",
     "text": [
      "[{'price': 100, 'name': 'tv'}, {'price': 50, 'name': 'phone'}]\n"
     ]
    }
   ],
   "source": [
    "filtrar(precio,productos1)"
   ]
  },
  {
   "cell_type": "code",
   "execution_count": 383,
   "metadata": {},
   "outputs": [],
   "source": [
    "def name(x):\n",
    "    if x.get('name')=='tv':\n",
    "        return True\n",
    "    else:\n",
    "        False\n",
    "    "
   ]
  },
  {
   "cell_type": "code",
   "execution_count": 396,
   "metadata": {},
   "outputs": [
    {
     "name": "stdout",
     "output_type": "stream",
     "text": [
      "[{'price': 100, 'name': 'tv'}]\n"
     ]
    }
   ],
   "source": [
    "filtrar(name,productos1)"
   ]
  },
  {
   "cell_type": "code",
   "execution_count": 386,
   "metadata": {},
   "outputs": [],
   "source": [
    "def nada(x):\n",
    "    return True"
   ]
  },
  {
   "cell_type": "code",
   "execution_count": 397,
   "metadata": {},
   "outputs": [
    {
     "name": "stdout",
     "output_type": "stream",
     "text": [
      "[{'price': 100, 'name': 'tv'}, {'price': 50, 'name': 'phone'}, {'price': 30, 'name': 'lamp'}]\n"
     ]
    }
   ],
   "source": [
    "filtrar(nada,productos1)"
   ]
  },
  {
   "cell_type": "code",
   "execution_count": 406,
   "metadata": {},
   "outputs": [],
   "source": [
    "resultado = map(precio,productos1)"
   ]
  },
  {
   "cell_type": "code",
   "execution_count": 407,
   "metadata": {},
   "outputs": [
    {
     "name": "stdout",
     "output_type": "stream",
     "text": [
      "[True, True, False]\n"
     ]
    }
   ],
   "source": [
    "print(list(resultado))"
   ]
  },
  {
   "cell_type": "code",
   "execution_count": 280,
   "metadata": {},
   "outputs": [
    {
     "name": "stdout",
     "output_type": "stream",
     "text": [
      "[{'price': 100, 'name': 'tv'}, {'price': 50, 'name': 'phone'}]\n"
     ]
    }
   ],
   "source": [
    "sol = []\n",
    "for items in productos:\n",
    "    if items.get('price')>=50:\n",
    "        sol.append(items)    \n",
    "print(sol)"
   ]
  },
  {
   "cell_type": "code",
   "execution_count": 471,
   "metadata": {},
   "outputs": [],
   "source": [
    "def partir(arreglo,entero):\n",
    "    '''escribe una funcion que permita dividir un arrgleo de enteros en varias partes de una manera\n",
    "    que cada parte tenga, como maximo, una cantidad definida de elementos(recibida por parametro)\n",
    "    Ej:\n",
    "    partir([1,2,3,4,5],2)\n",
    "    deberia retornar\n",
    "    ([1,2],[3,4],[5])\n",
    "    \n",
    "    Descripcion: Debe retornar un arreglo de arreglos. Cada sub arreglo sera a su vez un arreglo de enteros.\n",
    "    \n",
    "    Recibe como parametros:\n",
    "    \n",
    "    * arreglo: un arreglo de enteros\n",
    "    * cantidad: un entero\n",
    "    \n",
    "    Aclaraciones:\n",
    "    * la funcion debera separar el arreglo recibido por parametros (arreglo) en varios sub arreglos que \n",
    "    tengan una longitud maxima igual a la especifica por parametro (cantidad)\n",
    "    * Todo lo que imprimas con console.log() se vera en la seccion \"Debug Output\" cuando corras\n",
    "    tu codigo con el boton Run Code'''\n",
    "    \n",
    "    #tu codigo aca:\n",
    "    salida = []\n",
    "    inner = [] \n",
    "    i = 0\n",
    "    while i <entero:\n",
    "        inner = []\n",
    "        for j in range(0,entero):\n",
    "            inner.append(arreglo.pop(0))\n",
    "        salida.append(inner)\n",
    "        i+=1   \n",
    "    return salida            \n",
    "    "
   ]
  },
  {
   "cell_type": "code",
   "execution_count": 472,
   "metadata": {},
   "outputs": [],
   "source": [
    "arreglo = [1,1,2,3,4,5,6,7,8]"
   ]
  },
  {
   "cell_type": "code",
   "execution_count": 473,
   "metadata": {},
   "outputs": [
    {
     "data": {
      "text/plain": [
       "[[1, 1, 2], [3, 4, 5], [6, 7, 8]]"
      ]
     },
     "execution_count": 473,
     "metadata": {},
     "output_type": "execute_result"
    }
   ],
   "source": [
    "partir(arreglo,3)"
   ]
  },
  {
   "cell_type": "code",
   "execution_count": 469,
   "metadata": {},
   "outputs": [],
   "source": [
    "def partiR(arreglo,cantidad):\n",
    "        const_res=[]\n",
    "        while (len(arreglo) > 0):\n",
    "            cons_partial=[]\n",
    "            while (len(cons_partial) < cantidad):\n",
    "                cons_partial.append(arreglo.pop(0))\n",
    "            const_res.append(cons_partial)\n",
    "        return const_res"
   ]
  },
  {
   "cell_type": "code",
   "execution_count": 470,
   "metadata": {},
   "outputs": [
    {
     "data": {
      "text/plain": [
       "[[1, 1, 2], [3, 4, 5], [6, 7, 8]]"
      ]
     },
     "execution_count": 470,
     "metadata": {},
     "output_type": "execute_result"
    }
   ],
   "source": [
    "partiR([1,1,2,3,4,5,6,7,8],3)"
   ]
  },
  {
   "cell_type": "code",
   "execution_count": 487,
   "metadata": {},
   "outputs": [],
   "source": [
    "def crearclaseAlumno(nombre,apellido,cohorte,grupoDeAmigos,notasDeCheckpoints):\n",
    "    '''Para este ejercicio, deberas definir una clase Alumno con sus propiedades y metodos.\n",
    "    \n",
    "    Las propiedades de la clase Alumno son:\n",
    "    * nombre\n",
    "    * apellido\n",
    "    * cohorte\n",
    "    * grupoDeAmigos\n",
    "    * notasDeCheckpoints\n",
    "    \n",
    "    El constructor de la clase recibe esos cinco datos por parametro.\n",
    "    Los metodos propios de la clase Alumno son:\n",
    "    \n",
    "    * countAmigos: retorna la cantidad de amigos del alumno\n",
    "    * addAmigo: permite agregar un nuevo elemento al arreglo de amigos\n",
    "    * getNotas: retorna el arreglo de notas de checkpoints del alumno\n",
    "    * addNota: agrega un nuevo elemento al arreglo de notas de checkpoints\n",
    "    * presentacion: retorna un string conteniendo el nombre, apellido y cohorte'''\n",
    "    \n",
    "    #tu codigo aca:\n",
    "    class Alumno():\n",
    "        def __init__(self,nombre,apellido,cohorte,grupoDeAmigos,notasDeCheckpoints):\n",
    "            self.nombre = nombre\n",
    "            self.apellido = apellido\n",
    "            self.cohorte = cohorte\n",
    "            if grupoDeAmigos == ' ':\n",
    "                self.grupoDeAmigos = []\n",
    "            else: \n",
    "                self.grupoDeAmigos = grupoDeAmigos\n",
    "            if notasDeCheckpoints == ' ':\n",
    "                self.notasDeCheckpoints = []\n",
    "            else:\n",
    "                self.notasDeCheckpoints = notasDeCheckpoints\n",
    "        \n",
    "        def countAmigos(self):\n",
    "            '''retorna la cantidad de amigos del alumno'''\n",
    "            #tu codigo aca:\n",
    "            return len(self.grupoDeAmigos)    \n",
    "                \n",
    "        def addAmigos(self,nombre,apellido):\n",
    "            '''Agregar un objeto: {nombre:nombre,apellido:apellido} al arreglo de los amigos del alumno'''\n",
    "            #tu codigo aca:\n",
    "            \n",
    "            self.grupoDeAmigos.append({'nombre': nombre,'apellido': apellido})\n",
    "           \n",
    "        def addNota(self,nota):\n",
    "            '''Agrega un nuevo elemento al arreglo de notas del alumno'''\n",
    "            #tu codigo aca:\n",
    "            self.notasDeCheckpoints.append(nota)\n",
    "        \n",
    "        def getNotas(self):\n",
    "            #tu codigo aca:\n",
    "            return self.notasDeCheckpoints\n",
    "        \n",
    "        def presentacion(self):\n",
    "            '''retorna nombre, apellido y cohorte del alumno dentro del string\n",
    "            'Hola, soy.... del cohorte....'''\n",
    "            # tu codigo aca:\n",
    "            return f\"Hola, soy {self.nombre} {self.apellido} del cohorte {self.cohorte}\"\n",
    "    \n",
    "    alumno = Alumno(nombre,apellido,cohorte,grupoDeAmigos,notasDeCheckpoints)  \n",
    "    return alumno      \n",
    "            "
   ]
  },
  {
   "cell_type": "code",
   "execution_count": 488,
   "metadata": {},
   "outputs": [],
   "source": [
    "alumno1 = crearclaseAlumno('Juan',\"Perez\",'DataFT20',[{'nombre':'Ana', 'apellido': \"Spitzky\"},{'nombre': 'Joaco', 'apellido': 'Ibarra'}],[10,10,8,9])"
   ]
  },
  {
   "cell_type": "code",
   "execution_count": 489,
   "metadata": {},
   "outputs": [
    {
     "data": {
      "text/plain": [
       "'Hola, soy Juan Perez del cohorte DataFT20'"
      ]
     },
     "execution_count": 489,
     "metadata": {},
     "output_type": "execute_result"
    }
   ],
   "source": [
    "alumno1.presentacion()"
   ]
  },
  {
   "cell_type": "code",
   "execution_count": 497,
   "metadata": {},
   "outputs": [
    {
     "data": {
      "text/plain": [
       "4"
      ]
     },
     "execution_count": 497,
     "metadata": {},
     "output_type": "execute_result"
    }
   ],
   "source": [
    "alumno1.countAmigos()"
   ]
  },
  {
   "cell_type": "code",
   "execution_count": 491,
   "metadata": {},
   "outputs": [],
   "source": [
    "alumno1.addNota(3)"
   ]
  },
  {
   "cell_type": "code",
   "execution_count": 492,
   "metadata": {},
   "outputs": [
    {
     "data": {
      "text/plain": [
       "[10, 10, 8, 9, 3]"
      ]
     },
     "execution_count": 492,
     "metadata": {},
     "output_type": "execute_result"
    }
   ],
   "source": [
    "alumno1.getNotas()"
   ]
  },
  {
   "cell_type": "code",
   "execution_count": 496,
   "metadata": {},
   "outputs": [],
   "source": [
    "alumno1.addAmigos('Patricio','Ibarra')"
   ]
  },
  {
   "cell_type": "code",
   "execution_count": 499,
   "metadata": {},
   "outputs": [
    {
     "data": {
      "text/plain": [
       "[{'nombre': 'Ana', 'apellido': 'Spitzky'},\n",
       " {'nombre': 'Joaco', 'apellido': 'Ibarra'},\n",
       " {'nombre': 'Patricio', 'apellido': 'Ibarra'},\n",
       " {'nombre': 'Patricio', 'apellido': 'Ibarra'}]"
      ]
     },
     "execution_count": 499,
     "metadata": {},
     "output_type": "execute_result"
    }
   ],
   "source": [
    "alumno1.grupoDeAmigos"
   ]
  },
  {
   "cell_type": "code",
   "execution_count": null,
   "metadata": {},
   "outputs": [],
   "source": [
    "def buscandoaWally(personajes):\n",
    "    '''Como en los clasicos y coloridos libros de nuestra infancia, hoy necesitamos encontrar a \n",
    "    Wally entre muchos otros personajes. \n",
    "    Deberas esccribir una funcion que encuentre el string \"Wally\" dentro de un arreglo, y retorne el string \n",
    "    \"He encontrado a Wally en la posicion X\" donde X sea el indice del arreglo que ocupa \"Wally\".\n",
    "     Por ejemplo:\n",
    "     buscandoaWally(['Dobby', 'Harry','Dementor','Wally','Sirius'])\n",
    "     deberia retornar:\n",
    "     \"He encontrado a Wally en la posicion 3\"ArithmeticError\n",
    "     \n",
    "     Descripcion de la funcion\n",
    "     La funcion buscandoaWally debe retornar un string.\n",
    "     La funcion buscandoaWally recibe como parametros:\n",
    "     * personajes: un arreglo de strings\n",
    "     \n",
    "     Aclaraciones:\n",
    "     * Se presupone que el arrgelo siempre va a contener el string \"Wally\"\n",
    "     * Los test son case sensitive - es decir, reconocen diferencias entre mayusculas y minusculas.\n",
    "     Asegurate de respetar la sintaxis exactamente.\n",
    "     '''\n",
    "     \n",
    "     #tu codigo aca:\n",
    "    idx = personajes.index0f('Wally')\n",
    "    return 'He encontrado a Wally en la posicion ${idx}'\n",
    " "
   ]
  },
  {
   "cell_type": "code",
   "execution_count": null,
   "metadata": {},
   "outputs": [],
   "source": [
    "def estaOffline(usuarios,nombre):\n",
    "    '''La funcion llamada 'estaOffline' recibe como argumento un array de objetos llamado 'usuarios'\n",
    "    y un string llamada 'nombre'.\n",
    "    cada objeto tiene un property 'nombre' que es un string y otra llamada 'online' que es un booleano/\n",
    "    La funcion debe retornar true si el usuario se encuentra offline, de lo contrario false.\n",
    "    Ej:\n",
    "    usuarios = [ {nombre: 'toni', online: True},{nombre: 'Emi',online: True},\n",
    "    {nombre: 'agus', online: False}]\n",
    "    estaOffline(usuarios, 'agus') debe retornar True\n",
    "    estaOffline(usuarios, 'Emi') debe retornar False'''\n",
    "    \n",
    "    # tu codigo aca:\n",
    "    \n",
    "    let users= {}\n",
    "    usuarios.map((usuario) => (users[usuarios.nombre] = usuario.online))\n",
    "    return !users[nombre]"
   ]
  },
  {
   "cell_type": "code",
   "execution_count": null,
   "metadata": {},
   "outputs": [],
   "source": [
    "def crearClaseEmprendedor():\n",
    "    class Emprendedor():\n",
    "        '''el constructor de la clase Emprendedor recibe nombre (string), apellido (string), libros\n",
    "        (array de objetos), mascotas (array de strings)\n",
    "        Inicializar las propiedades del emprendedor con los valores recibidos como argumento'''\n",
    "        #tu codigo aca:\n",
    "        def __init__(self,nombre,apellido,libros,mascotas):\n",
    "            \n",
    "            \n",
    "        def addMascota(self,mascota):\n",
    "            '''este metodo debe agregar una mascota (mascota) al arreglo de mascotas del emprendedor.\n",
    "            no debe retornar nada'''\n",
    "            #tu codigo aca:\n",
    "            \n",
    "            self.mascotas.append(mascota)\n",
    "            \n",
    "        def getMascotas():\n",
    "            '''El metodo 'getMascotas' debe retornar la cantidad de mascotas que tiene el emprendedor.\n",
    "            EJ:\n",
    "            Suponiendo que el emprendedor tiene estas mascotas: ['perro','gato']\n",
    "            emprendedor.getMascotas() deberia devolver 2'''\n",
    "            \n",
    "            #tu codigo aca:\n",
    "            return len(self.mascotas)\n",
    "        \n",
    "        def addBook(book,autor):\n",
    "            ''' Este metodo 'addBook' recibe un string 'book' y un string 'autor' y debe agregar un objeto:\n",
    "            {nombre: book, autor: autor} al arreglo de libros del emprendedor.\n",
    "            No debe retornar nada.'''\n",
    "            \n",
    "            #tu codigo aca:\n",
    "            self.libros.push({nombre: book, author: autor})\n",
    "        \n",
    "        def getBooks():\n",
    "            ''' este metodo 'getBooks' debe retornar un arreglo con solo los nombres del arreglo de libros\n",
    "            del emprendedor.\n",
    "            Ej:\n",
    "            Suponiendo que el emprendedor tiene estos libros: \n",
    "            [{nombre: 'El senor de las moscas', autor: 'William Golding'},\n",
    "            {nombre: 'Fundacion', autor: 'Isacc Asimov'}]\n",
    "            \n",
    "            emprendedor.getBooks() deberia retornar ['El senor de las moscas', 'Fundacion' ]'''\n",
    "            #tu codigo aca:\n",
    "            \n",
    "            arr = []\n",
    "            self.libros.map((obj) => arr.push(obj['nombre']))\n",
    "            \n",
    "            return arr\n",
    "        \n",
    "        def getFullName():\n",
    "            '''el metodo 'getFullName' debe retornar un string con el nombre y apellido del emprendedor\n",
    "            \n",
    "            Ej:\n",
    "            Suponiendo que el emprendedor tiene: nombre 'Elon' y apellido: 'Musk'\n",
    "            emprendedor.getFullName() deberia retornar 'Elon Musk' '''\n",
    "            #tu codigo aca:\n",
    "\n",
    "return f'{self.nombre} {self.apellido}'\n",
    "\n",
    "return Emprendedor\n"
   ]
  },
  {
   "cell_type": "code",
   "execution_count": null,
   "metadata": {},
   "outputs": [],
   "source": [
    "def mapear():\n",
    "    '''Escribir una funcion mapear en el prototipo del objeto global 'Array'\n",
    "    que recibe una funcion callback, que se ejecuta por \n",
    "    cada elemento del array mapear los elementos de ese srra segun la funcion callback.\n",
    "    Esta funcion tiene que devolver un array nuevo con los elementos mapeados.\n",
    "    NO USAR LA FUNCION MAP DE ARRAYS.\n",
    "    Ej:\n",
    "    \n",
    "    numeros = [1,2,3,4];\n",
    "    numeros.mapear(function(numero) {return numero +1:})\n",
    "    devuelve [2,3,4,5]'''\n",
    "    \n",
    "    #tu codigo aca:\n",
    "    \n",
    "    edeMap = funcion (cb)\n",
    "    arr = []\n",
    "    for i = 0:\n",
    "        while i < len(self):\n",
    "            arr.push(cb(self[i],i))\n",
    "    return arr\n",
    "Array.prototype.mapear = ederMap"
   ]
  },
  {
   "cell_type": "code",
   "execution_count": null,
   "metadata": {},
   "outputs": [],
   "source": [
    "def palabrasAFrase(array):\n",
    "    '''la funcion llamada recibe como argumento un arreglo de 'string' y debe devolver un 'string'\n",
    "    armando la frase.\n",
    "    Ej: \n",
    "    palabrasAFrase(['Dobby','loves', 'socks!']) debe retornar 'Dobby loves socks!'\n",
    "    \n",
    "    sin espacio ni antes ni despues es decir asi no => \" Dobby loves socks! \"\n",
    "    '''\n",
    "    #tu codigo aca:\n",
    "    return array.join(\" \")\n"
   ]
  },
  {
   "cell_type": "code",
   "execution_count": 7,
   "metadata": {},
   "outputs": [],
   "source": [
    "def fakeBinary2(string):\n",
    "    '''la funcion llamada 'fakeBinary2' recibe como argumento un string con numeros\n",
    "    y debe devolver un string en donde se reemplaza los numeros menores de 5 con un '0' \n",
    "    por Ej:\n",
    "    \n",
    "    fakeBinary2('5627')     devuelve '1101' \n",
    "    fakeBinary2('729')      devuelve '101'          '''\n",
    "    #tu codigo aca:\n",
    "    arr = list(string)\n",
    "    newArr = []\n",
    "    for numberAsString in arr:\n",
    "        if (int(numberAsString) >= 5):\n",
    "            newArr.append('1')\n",
    "        else:\n",
    "            newArr.append('0')\n",
    "    b = ''.join(newArr)       \n",
    "    return b\n"
   ]
  },
  {
   "cell_type": "code",
   "execution_count": 8,
   "metadata": {},
   "outputs": [
    {
     "data": {
      "text/plain": [
       "'1101'"
      ]
     },
     "execution_count": 8,
     "metadata": {},
     "output_type": "execute_result"
    }
   ],
   "source": [
    "fakeBinary2('5627')"
   ]
  },
  {
   "cell_type": "code",
   "execution_count": 9,
   "metadata": {},
   "outputs": [],
   "source": [
    "def loboEstaONoEstas(array):\n",
    "    ''' la funcion recibe un array 'array' de strings y numeros como parametro.\n",
    "    La funcion debe retornar True o False dependiendo de si 'lobo' esta en el array o no.\n",
    "    Ej:\n",
    "    loboEstaONoEstas(['hola',1,3, 'palabra'])   debe devolver False\n",
    "    loboEstaONoEstas(['hola','buena','lobo',4,5])       debe devolver True'''\n",
    "    \n",
    "    #tu codigo aca:\n",
    "    #return array.includes('lobo')\n",
    "    if 'lobo' in array:\n",
    "        return True\n",
    "    else:\n",
    "        return False\n",
    "    "
   ]
  },
  {
   "cell_type": "code",
   "execution_count": 10,
   "metadata": {},
   "outputs": [
    {
     "data": {
      "text/plain": [
       "False"
      ]
     },
     "execution_count": 10,
     "metadata": {},
     "output_type": "execute_result"
    }
   ],
   "source": [
    "loboEstaONoEstas(['hola',1,3, 'palabra'])"
   ]
  },
  {
   "cell_type": "code",
   "execution_count": 11,
   "metadata": {},
   "outputs": [
    {
     "data": {
      "text/plain": [
       "True"
      ]
     },
     "execution_count": 11,
     "metadata": {},
     "output_type": "execute_result"
    }
   ],
   "source": [
    "loboEstaONoEstas(['hola','buena','lobo',4,5])"
   ]
  },
  {
   "cell_type": "code",
   "execution_count": 12,
   "metadata": {},
   "outputs": [],
   "source": [
    "array = ['hola','buena','lobo',4,5]"
   ]
  },
  {
   "cell_type": "code",
   "execution_count": 92,
   "metadata": {},
   "outputs": [],
   "source": [
    "def crearClaseMascota(nombre,duenio,actividades):\n",
    "    class Mascota:\n",
    "        '''el constructor de la clase Mascota recibe nombre (string), duenio (objeto),\n",
    "        actividades(array de objetos).\n",
    "        Ej: [{actividad: 'salir a caminar', frecuencia: '1 vez al dia'},\n",
    "        {actividad: 'banio', frecuencia: '1 vez al mes'}]\n",
    "        Inicializar las propiedades de la mascota con los valores recibidos como argumento'''\n",
    "        #tu codigo aca:\n",
    "        \n",
    "        def __init__ (self,nombre,duenio,actividades):\n",
    "            self.nombre = nombre \n",
    "            self.duenio = duenio\n",
    "            if actividades == []:\n",
    "                self.actividades = []\n",
    "            else:\n",
    "                self.actividades  = actividades\n",
    "        def getNombre(self):\n",
    "            '''Este metodo debe retornar el nombre de la mascota'''\n",
    "            #tu codigo aca:\n",
    "            print(f'{self.nombre}')\n",
    "        \n",
    "        def getDuenio(self):\n",
    "            '''este metodo debe retornar nombre y apellido del duenio (concatenados).'''\n",
    "            #tu codigo aca:\n",
    "            print(f'{self.duenio}')\n",
    "        \n",
    "        def addActividad(self,actividad,frecuencia):\n",
    "            '''el metodo recibe un string 'actividad' y otro string 'frecuencia'y debe\n",
    "            agregarlo al arreglo de actividades de la mascota.\n",
    "            No debe retornar nada.'''\n",
    "            #tu codigo aca:\n",
    "            self.actividades.append({'actividad': actividad,'frecuencia': frecuencia})\n",
    "          \n",
    "        def getFrecuencia(self,actividad):\n",
    "            '''el metodo debe retornar la frecuencia de dicha actividad\n",
    "            EJ:\n",
    "            [{'actividad': 'salir a caminar', 'frecuencia': '1 vez al dia'},\n",
    "            {'actividad': 'banio', 'frecuencia': '1 vez al mes'}]\n",
    "            \n",
    "            mascota.getFrecuencia('banio')      deberia retornar '1 vez al mes' '''\n",
    "            #tu codigo aca:\n",
    "            frecuencia = []\n",
    "            for i in range(0,len(self.actividades)):\n",
    "                if self.actividades[i]['actividad'] == actividad:\n",
    "                    frecuencia.append(self.actividades[i]['frecuencia'])\n",
    "                    print(frecuencia)\n",
    "            \n",
    "    mascota = Mascota(nombre,duenio,actividades)\n",
    "    return mascota       "
   ]
  },
  {
   "cell_type": "code",
   "execution_count": 93,
   "metadata": {},
   "outputs": [],
   "source": [
    "actividades = [{'actividad': 'salir a caminar', 'frecuencia': '1 vez al dia'},{'actividad': 'banio', 'frecuencia': '1 vez al mes'}]"
   ]
  },
  {
   "cell_type": "code",
   "execution_count": 94,
   "metadata": {},
   "outputs": [],
   "source": [
    "mascotita = crearClaseMascota('Katty','Ana',actividades)"
   ]
  },
  {
   "cell_type": "code",
   "execution_count": 96,
   "metadata": {},
   "outputs": [
    {
     "name": "stdout",
     "output_type": "stream",
     "text": [
      "['1 vez al dia']\n"
     ]
    }
   ],
   "source": [
    "mascotita.getFrecuencia('salir a caminar')"
   ]
  },
  {
   "cell_type": "code",
   "execution_count": 97,
   "metadata": {},
   "outputs": [
    {
     "data": {
      "text/plain": [
       "'Katty'"
      ]
     },
     "execution_count": 97,
     "metadata": {},
     "output_type": "execute_result"
    }
   ],
   "source": [
    "mascotita.nombre"
   ]
  },
  {
   "cell_type": "code",
   "execution_count": 62,
   "metadata": {},
   "outputs": [
    {
     "name": "stdout",
     "output_type": "stream",
     "text": [
      "Katty\n"
     ]
    }
   ],
   "source": [
    "mascotita.getNombre()"
   ]
  },
  {
   "cell_type": "code",
   "execution_count": 63,
   "metadata": {},
   "outputs": [
    {
     "name": "stdout",
     "output_type": "stream",
     "text": [
      "Ana\n"
     ]
    }
   ],
   "source": [
    "mascotita.getDuenio()"
   ]
  },
  {
   "cell_type": "code",
   "execution_count": 98,
   "metadata": {},
   "outputs": [],
   "source": [
    "mascotita.addActividad('dormir','todos los dias')"
   ]
  },
  {
   "cell_type": "code",
   "execution_count": 99,
   "metadata": {},
   "outputs": [
    {
     "name": "stdout",
     "output_type": "stream",
     "text": [
      "['todos los dias']\n"
     ]
    }
   ],
   "source": [
    "mascotita.getFrecuencia('dormir')"
   ]
  },
  {
   "cell_type": "code",
   "execution_count": null,
   "metadata": {},
   "outputs": [],
   "source": [
    "def pedirComida(array):\n",
    "    '''la funcion reccibe un array de objetos en donde se detalla el nombre y tipo de dieta\n",
    "    de los integrantes de un meeting.\n",
    "    debe retornar un objeto que diga cuantos menus de que tipo de dieta hay que pedir\n",
    "    (a fines practivos solo hay dieta 'standard' y 'vegana')\n",
    "    Por ejemplo:\n",
    "    pedirComida([{nombre: 'Harry', dieta: 'standard'}, {nombre: 'Luna', dieta: 'vegana'}, \n",
    "    {nombre: 'Goyle', dieta: 'standard'}])\n",
    "    debe retornar => {standard : 2, vegana: 1}\n",
    "    '''\n",
    "    #tu codigo aca:\n",
    "    standard = 0\n",
    "    vegana = 0\n",
    "    for comenzal in array:\n",
    "        if comenzal.dieta == 'standard':\n",
    "            standard +=1\n",
    "        if comenzal.dieta == 'vegana':\n",
    "            vegana +=1\n",
    "    return {standard,vegana}\n"
   ]
  },
  {
   "cell_type": "code",
   "execution_count": 28,
   "metadata": {},
   "outputs": [],
   "source": [
    "def soloNumeros(array):\n",
    "    '''la funcion llamada 'soloNumeros' recibe como argumento un arreglo de enteros y strings\n",
    "    llamado 'array'\n",
    "    Debe devolver un arreglo con solo los numeros enteros.\n",
    "    Ej:\n",
    "    soloNumeros([1, 'Henry', 2])        debe devolver [1,2]\n",
    "    \n",
    "    '''\n",
    "    #tu codigo aca:\n",
    "    salida = []\n",
    "    for elementos in array:\n",
    "        if type(elementos) == int:\n",
    "            salida.append(elementos)\n",
    "    return salida"
   ]
  },
  {
   "cell_type": "code",
   "execution_count": 29,
   "metadata": {},
   "outputs": [
    {
     "data": {
      "text/plain": [
       "[1, 2]"
      ]
     },
     "execution_count": 29,
     "metadata": {},
     "output_type": "execute_result"
    }
   ],
   "source": [
    "soloNumeros([1, 'Henry', 2])"
   ]
  },
  {
   "cell_type": "code",
   "execution_count": 24,
   "metadata": {},
   "outputs": [],
   "source": [
    "def buscarAmigo(amigos,nombre):\n",
    "    '''la funcion llamada 'buscarAmigo'recibe como argumento un array llamado 'amigos; que contiene\n",
    "    en cada posicion del arreglo un objeto que tiene como propiedades 'nombre' y 'edad'\n",
    "    Tambien recibe un string llamado 'nombre'\n",
    "    Debe devolver el objeto cuya propiedad 'nombre' coincida con el string 'nombre' \n",
    "    recibido por argumento\n",
    "    Ej:\n",
    "    amigos = [{nombre: 'toni', eda: 33}, {nombre: 'Emi', edad: 25}];\n",
    "    buscarAmigos(amigos,'toni')     debe devolver {nombre: 'toni', edad: 33}'''\n",
    "    #tu codigo aca:\n",
    "    for i in range(0,len(amigos)):\n",
    "        if amigos[i]['nombre'] == nombre:\n",
    "            print(amigos[i])"
   ]
  },
  {
   "cell_type": "code",
   "execution_count": 25,
   "metadata": {},
   "outputs": [],
   "source": [
    "amigos = [{'nombre': 'toni', 'edad': 33}, {'nombre': 'Emi', 'edad': 25}]"
   ]
  },
  {
   "cell_type": "code",
   "execution_count": 26,
   "metadata": {},
   "outputs": [
    {
     "name": "stdout",
     "output_type": "stream",
     "text": [
      "{'nombre': 'toni', 'edad': 33}\n"
     ]
    }
   ],
   "source": [
    "buscarAmigo(amigos,'toni')"
   ]
  },
  {
   "cell_type": "code",
   "execution_count": 27,
   "metadata": {},
   "outputs": [
    {
     "name": "stdout",
     "output_type": "stream",
     "text": [
      "{'nombre': 'Emi', 'edad': 25}\n"
     ]
    }
   ],
   "source": [
    "buscarAmigo(amigos,'Emi')"
   ]
  }
 ],
 "metadata": {
  "kernelspec": {
   "display_name": "Python 3",
   "language": "python",
   "name": "python3"
  },
  "language_info": {
   "codemirror_mode": {
    "name": "ipython",
    "version": 3
   },
   "file_extension": ".py",
   "mimetype": "text/x-python",
   "name": "python",
   "nbconvert_exporter": "python",
   "pygments_lexer": "ipython3",
   "version": "3.11.5"
  }
 },
 "nbformat": 4,
 "nbformat_minor": 2
}

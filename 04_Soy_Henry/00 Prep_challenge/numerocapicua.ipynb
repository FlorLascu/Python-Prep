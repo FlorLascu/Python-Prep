{
 "cells": [
  {
   "cell_type": "code",
   "execution_count": 2,
   "metadata": {},
   "outputs": [],
   "source": [
    "def numerocapicua(numero):\n",
    "    '''escribe una funcion que determine su un numero es capicua\n",
    "    En matematicas, la palabra capicua (del catalan ca i cua, 'cabeza y cola')\n",
    "    se refiere a cualquier numero que se lee igual de izquierda a derecha que de derecha a izquierda\n",
    "    Se denominan tambien numeros palidromos\n",
    "    \n",
    "    Esta funcion debe retornar un valor booleano :\n",
    "    True   -> si el numero es capicua\n",
    "    False  -> si el numero no es capicua\n",
    "    \n",
    "    Ej:\n",
    "    numerocapicua(55) debe retornar True\n",
    "    \n",
    "    La funcion numero capucua debe retornar un booleano\n",
    "    La funcion recibe como parametro:\n",
    "    numero: un entero\n",
    "    '''\n",
    "    #tu codigo aca:\n",
    "    stringdenumero = str(numero)\n",
    "    listdenuemro = list(stringdenumero.strip(\" \"))\n",
    "    k = len(listdenuemro)\n",
    "    print(k)\n",
    "    escapicua = False\n",
    "    j=len(listdenuemro)//2\n",
    "    print(j)\n",
    "    for i in range (0,j):\n",
    "        desc = k-i-1\n",
    "        print(listdenuemro[i] , listdenuemro[desc] )\n",
    "        if listdenuemro[i] != listdenuemro[desc]:\n",
    "            escapicua = False\n",
    "            break\n",
    "        else:\n",
    "            escapicua = True\n",
    "    return escapicua\n",
    "    \n"
   ]
  },
  {
   "cell_type": "code",
   "execution_count": 24,
   "metadata": {},
   "outputs": [
    {
     "name": "stdout",
     "output_type": "stream",
     "text": [
      "['1', '5', '5', '1']\n",
      "0 3\n",
      "1 2\n"
     ]
    }
   ],
   "source": [
    "n=1551\n",
    "str_1=str(n)\n",
    "list_1 = list(str_1.strip(\" \"))\n",
    "print(list_1)\n",
    "k=len(list_1)\n",
    "j = len(list_1)//2\n",
    "for i in range (0,j):\n",
    "        desc = k-i-1\n",
    "        print(i,desc)"
   ]
  },
  {
   "cell_type": "code",
   "execution_count": 8,
   "metadata": {},
   "outputs": [
    {
     "name": "stdout",
     "output_type": "stream",
     "text": [
      "7\n"
     ]
    }
   ],
   "source": [
    "stringdenumero = str(1505051)\n",
    "listdenuemro = list(stringdenumero.strip(\" \"))\n",
    "n = len(listdenuemro)\n",
    "print(n)"
   ]
  },
  {
   "cell_type": "code",
   "execution_count": 27,
   "metadata": {},
   "outputs": [
    {
     "data": {
      "text/plain": [
       "True"
      ]
     },
     "execution_count": 27,
     "metadata": {},
     "output_type": "execute_result"
    }
   ],
   "source": [
    "numerocapicua(55)"
   ]
  },
  {
   "cell_type": "code",
   "execution_count": 3,
   "metadata": {},
   "outputs": [
    {
     "name": "stdout",
     "output_type": "stream",
     "text": [
      "7\n",
      "3\n",
      "r r\n",
      "a a\n",
      "c c\n"
     ]
    },
    {
     "data": {
      "text/plain": [
       "True"
      ]
     },
     "execution_count": 3,
     "metadata": {},
     "output_type": "execute_result"
    }
   ],
   "source": [
    "numerocapicua('racecar')"
   ]
  },
  {
   "cell_type": "code",
   "execution_count": 38,
   "metadata": {},
   "outputs": [
    {
     "name": "stdout",
     "output_type": "stream",
     "text": [
      "6\n",
      "3\n",
      "4 5\n"
     ]
    },
    {
     "data": {
      "text/plain": [
       "False"
      ]
     },
     "execution_count": 38,
     "metadata": {},
     "output_type": "execute_result"
    }
   ],
   "source": [
    "numerocapicua(446655)"
   ]
  },
  {
   "cell_type": "code",
   "execution_count": 30,
   "metadata": {},
   "outputs": [
    {
     "data": {
      "text/plain": [
       "False"
      ]
     },
     "execution_count": 30,
     "metadata": {},
     "output_type": "execute_result"
    }
   ],
   "source": [
    "numerocapicua(150512)"
   ]
  },
  {
   "cell_type": "code",
   "execution_count": null,
   "metadata": {},
   "outputs": [],
   "source": [
    "for i in range (0,):\n",
    "        desc = n-i"
   ]
  },
  {
   "cell_type": "code",
   "execution_count": null,
   "metadata": {},
   "outputs": [],
   "source": [
    "# Hacker Rank List Odd and List Even\n",
    "S=input()\n",
    "string_input = str(S)\n",
    "lista_str = list(string_input.strip(\" \"))\n",
    "k = len(lista_str)\n",
    "string_odd = lista_str[1]\n",
    "string_even = lista_str[0]\n",
    "for i in range(2, k+1):\n",
    "    if i % 2 == 0:\n",
    "        string_even =(string_even+lista_str[i])\n",
    "    else:\n",
    "        string_odd = (string_odd+lista_str[i])\n",
    "print(string_even)\n",
    "print(string_odd)"
   ]
  },
  {
   "cell_type": "code",
   "execution_count": 5,
   "metadata": {},
   "outputs": [],
   "source": [
    "# Palindrome\n",
    "# Strategy A: Compare Reverse and String\n",
    "def capiCua(string):\n",
    "    def reverse(string):\n",
    "        string = [string[i] for i in range(len(string)-1, -1, -1)]\n",
    "        return \"\".join(string)\n",
    "    reversed = reverse(string)\n",
    "    \n",
    "    return reversed == string"
   ]
  },
  {
   "cell_type": "code",
   "execution_count": 7,
   "metadata": {},
   "outputs": [],
   "source": [
    "string='racecar'"
   ]
  },
  {
   "cell_type": "code",
   "execution_count": null,
   "metadata": {},
   "outputs": [],
   "source": [
    "def reverse(string):\n",
    "    string = \"\".join(reversed(string))\n",
    "    return string"
   ]
  },
  {
   "cell_type": "code",
   "execution_count": 6,
   "metadata": {},
   "outputs": [
    {
     "data": {
      "text/plain": [
       "True"
      ]
     },
     "execution_count": 6,
     "metadata": {},
     "output_type": "execute_result"
    }
   ],
   "source": [
    "capiCua('racecar')"
   ]
  },
  {
   "cell_type": "code",
   "execution_count": 8,
   "metadata": {},
   "outputs": [
    {
     "data": {
      "text/plain": [
       "True"
      ]
     },
     "execution_count": 8,
     "metadata": {},
     "output_type": "execute_result"
    }
   ],
   "source": [
    "capiCua(string)"
   ]
  },
  {
   "cell_type": "code",
   "execution_count": 9,
   "metadata": {},
   "outputs": [],
   "source": [
    "#Strategy A: Reverse and compare the complete string\n",
    "\n",
    "def palinDrome(string):\n",
    "    rev = list(string)\n",
    "    rev.reverse()\n",
    "    \"\".join(rev)\n",
    "    \n",
    "    reversed = \"\".join(rev)\n",
    "    return reversed == string\n"
   ]
  },
  {
   "cell_type": "code",
   "execution_count": 10,
   "metadata": {},
   "outputs": [
    {
     "name": "stdout",
     "output_type": "stream",
     "text": [
      "hola\n",
      "['h', 'o', 'l', 'a']\n",
      "['a', 'l', 'o', 'h']\n"
     ]
    },
    {
     "data": {
      "text/plain": [
       "'aloh'"
      ]
     },
     "execution_count": 10,
     "metadata": {},
     "output_type": "execute_result"
    }
   ],
   "source": [
    "str_1='hola'\n",
    "print(str_1)\n",
    "str_11=list(str_1)\n",
    "print(str_11)\n",
    "str_11.reverse()\n",
    "print(str_11)\n",
    "\"\".join(str_11)"
   ]
  },
  {
   "cell_type": "code",
   "execution_count": 11,
   "metadata": {},
   "outputs": [
    {
     "data": {
      "text/plain": [
       "True"
      ]
     },
     "execution_count": 11,
     "metadata": {},
     "output_type": "execute_result"
    }
   ],
   "source": [
    "palinDrome('123454321')"
   ]
  },
  {
   "cell_type": "code",
   "execution_count": 12,
   "metadata": {},
   "outputs": [
    {
     "name": "stdout",
     "output_type": "stream",
     "text": [
      "['racecar']\n"
     ]
    }
   ],
   "source": [
    "string = 'racecar'\n",
    "str_split = string.split(' ')\n",
    "print(str_split)"
   ]
  },
  {
   "cell_type": "code",
   "execution_count": 14,
   "metadata": {},
   "outputs": [],
   "source": [
    "# Strategy B: Compare Pairs of opposite Characters\n",
    "\n",
    "def pAlindrome(string): \n",
    "    string1 = list(string)\n",
    "    for i in range(0,int(len(string)/2)):\n",
    "        if string1[i] != string[len(string)-1-i]:\n",
    "            is_pal = False\n",
    "            break\n",
    "        elif string1[i] == string[len(string)-1-i]:\n",
    "            is_pal = True\n",
    "    return is_pal\n"
   ]
  },
  {
   "cell_type": "code",
   "execution_count": 15,
   "metadata": {},
   "outputs": [
    {
     "data": {
      "text/plain": [
       "True"
      ]
     },
     "execution_count": 15,
     "metadata": {},
     "output_type": "execute_result"
    }
   ],
   "source": [
    "pAlindrome('1234321')"
   ]
  },
  {
   "cell_type": "code",
   "execution_count": 16,
   "metadata": {},
   "outputs": [
    {
     "data": {
      "text/plain": [
       "True"
      ]
     },
     "execution_count": 16,
     "metadata": {},
     "output_type": "execute_result"
    }
   ],
   "source": [
    "pAlindrome(string)"
   ]
  },
  {
   "cell_type": "code",
   "execution_count": 17,
   "metadata": {},
   "outputs": [
    {
     "name": "stdout",
     "output_type": "stream",
     "text": [
      "The original string  is :  Geeksforgeeks\n",
      "The reversed string(using reversed) is :  skeegrofskeeG\n"
     ]
    }
   ],
   "source": [
    "# Funcion que reemplaza el reverse() de JavaScript en Pyhton\n",
    "def reverse(string):\n",
    "    string = [string[i] for i in range(len(string)-1, -1, -1)]\n",
    "    return \"\".join(string)\n",
    " \n",
    "s = \"Geeksforgeeks\"\n",
    " \n",
    "print(\"The original string  is : \", s)\n",
    " \n",
    "print(\"The reversed string(using reversed) is : \", reverse(s))"
   ]
  },
  {
   "cell_type": "code",
   "execution_count": 18,
   "metadata": {},
   "outputs": [
    {
     "name": "stdout",
     "output_type": "stream",
     "text": [
      "The original string  is :  Geeksforgeeks\n",
      "The reversed string(using reversed) is :  skeegrofskeeG\n"
     ]
    }
   ],
   "source": [
    "#  Esta funcion utiliza el reverse() en Pyhton\n",
    "def reveRse(string):\n",
    "    string = list(string)\n",
    "    string.reverse()\n",
    "    return \"\".join(string)\n",
    " \n",
    "s = \"Geeksforgeeks\"\n",
    " \n",
    "print(\"The original string  is : \", s)\n",
    " \n",
    "print(\"The reversed string(using reversed) is : \", reverse(s))"
   ]
  },
  {
   "cell_type": "code",
   "execution_count": 19,
   "metadata": {},
   "outputs": [
    {
     "data": {
      "text/plain": [
       "'12384321'"
      ]
     },
     "execution_count": 19,
     "metadata": {},
     "output_type": "execute_result"
    }
   ],
   "source": [
    "reveRse('12348321')"
   ]
  },
  {
   "cell_type": "code",
   "execution_count": 39,
   "metadata": {},
   "outputs": [],
   "source": [
    "# Strategy C: Without using helper methods\n",
    "# se arma el reverse sin funciones helpers directamente\n",
    "def paliNDrome(string):\n",
    "    array = []\n",
    "    reversedString = ''\n",
    "    for i in range(0,len(string)):\n",
    "        array.append(string[i])\n",
    "    for j in range(0,len(array)):\n",
    "        reversedString += array.pop()\n",
    "    return string == reversedString  "
   ]
  },
  {
   "cell_type": "code",
   "execution_count": 42,
   "metadata": {},
   "outputs": [
    {
     "data": {
      "text/plain": [
       "True"
      ]
     },
     "execution_count": 42,
     "metadata": {},
     "output_type": "execute_result"
    }
   ],
   "source": [
    "paliNDrome('2345432')"
   ]
  },
  {
   "cell_type": "code",
   "execution_count": 43,
   "metadata": {},
   "outputs": [],
   "source": [
    "stringA=\"123484321\""
   ]
  },
  {
   "cell_type": "code",
   "execution_count": 44,
   "metadata": {},
   "outputs": [
    {
     "data": {
      "text/plain": [
       "True"
      ]
     },
     "execution_count": 44,
     "metadata": {},
     "output_type": "execute_result"
    }
   ],
   "source": [
    "paliNDrome(stringA)"
   ]
  },
  {
   "cell_type": "code",
   "execution_count": 45,
   "metadata": {},
   "outputs": [
    {
     "name": "stdout",
     "output_type": "stream",
     "text": [
      "['1']\n",
      "['1', '2']\n",
      "['1', '2', '3']\n",
      "['1', '2', '3', '4']\n",
      "['1', '2', '3', '4', '8']\n",
      "['1', '2', '3', '4', '8', '4']\n",
      "['1', '2', '3', '4', '8', '4', '3']\n",
      "['1', '2', '3', '4', '8', '4', '3', '2']\n",
      "['1', '2', '3', '4', '8', '4', '3', '2', '1']\n",
      "1\n",
      "12\n",
      "123\n",
      "1234\n",
      "12348\n",
      "123484\n",
      "1234843\n",
      "12348432\n",
      "123484321\n"
     ]
    }
   ],
   "source": [
    "array=[]\n",
    "reversedString=\"\"\n",
    "for i in range(0,len(stringA)):\n",
    "    array.append(stringA[i])\n",
    "    print(array)\n",
    "for j in range(0,len(array)):\n",
    "    reversedString += array.pop()\n",
    "    print(reversedString)"
   ]
  },
  {
   "cell_type": "code",
   "execution_count": 57,
   "metadata": {},
   "outputs": [],
   "source": [
    "# Strategy D: COMPARING CHARACTERS FROM OUTSIDE IN WITHOUT HELPER METHODS\n",
    "'''This strategy takes the logic from Strategy 2 (comparing characters from the outside in) but does \n",
    "it with a for loop instead of relying on the every() helper method. It also defines a variable let len = str.length / 2\n",
    "in order to avoid repeats of the comparison once we hit the midpoint of the string.\n",
    "This increases the efficiency of the solution.'''\n",
    "\n",
    "def paliNDRome(str):\n",
    "    n = len(str)\n",
    "    for i in range(0,int(n/2)):\n",
    "        if str[i] != str[n - i - 1]:\n",
    "            return False\n",
    "        else:\n",
    "            return True"
   ]
  },
  {
   "cell_type": "code",
   "execution_count": 52,
   "metadata": {},
   "outputs": [
    {
     "data": {
      "text/plain": [
       "True"
      ]
     },
     "execution_count": 52,
     "metadata": {},
     "output_type": "execute_result"
    }
   ],
   "source": [
    "paliNDRome('racecar')"
   ]
  },
  {
   "cell_type": "code",
   "execution_count": 58,
   "metadata": {},
   "outputs": [
    {
     "data": {
      "text/plain": [
       "True"
      ]
     },
     "execution_count": 58,
     "metadata": {},
     "output_type": "execute_result"
    }
   ],
   "source": [
    "paliNDRome('1234564321')"
   ]
  },
  {
   "cell_type": "code",
   "execution_count": 59,
   "metadata": {},
   "outputs": [],
   "source": [
    "strB = '1234564321'"
   ]
  },
  {
   "cell_type": "code",
   "execution_count": 61,
   "metadata": {},
   "outputs": [
    {
     "data": {
      "text/plain": [
       "10"
      ]
     },
     "execution_count": 61,
     "metadata": {},
     "output_type": "execute_result"
    }
   ],
   "source": [
    "len(strB)"
   ]
  },
  {
   "cell_type": "code",
   "execution_count": null,
   "metadata": {},
   "outputs": [],
   "source": []
  },
  {
   "cell_type": "code",
   "execution_count": 60,
   "metadata": {},
   "outputs": [
    {
     "data": {
      "text/plain": [
       "True"
      ]
     },
     "execution_count": 60,
     "metadata": {},
     "output_type": "execute_result"
    }
   ],
   "source": [
    "paliNDRome(strB)"
   ]
  }
 ],
 "metadata": {
  "kernelspec": {
   "display_name": "Python 3",
   "language": "python",
   "name": "python3"
  },
  "language_info": {
   "codemirror_mode": {
    "name": "ipython",
    "version": 3
   },
   "file_extension": ".py",
   "mimetype": "text/x-python",
   "name": "python",
   "nbconvert_exporter": "python",
   "pygments_lexer": "ipython3",
   "version": "3.11.5"
  },
  "orig_nbformat": 4
 },
 "nbformat": 4,
 "nbformat_minor": 2
}

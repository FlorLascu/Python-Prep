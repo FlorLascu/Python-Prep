{
 "cells": [
  {
   "cell_type": "code",
   "execution_count": 3,
   "metadata": {},
   "outputs": [],
   "source": [
    "def ClaseVehiculo(tipo,color):\n",
    "    '''Esta funcion devuelve un objeto instanciado de la clase Vehiculo\n",
    "    la cual debe tener los siguientes atributos:\n",
    "        Tipo:   Un valor dentro de los valores posibles: ['auto','camioneta','moto']\n",
    "        Color:  un valor de tipo de dato string.\n",
    "        Velocidad:  un valor de tipo dato float, que debe inicializarse en cero.\n",
    "           \n",
    "    y debe tener el siguiente metodo:\n",
    "        Acelerar(): Este metodo recibe un parametro con el valor que debe\n",
    "        incrementar a la propiedad Velocidad y luego retornarla.\n",
    "        Si la propiedad Velocidad cobra un valor menor a cero, debe quedar en cero.\n",
    "        Si la propiedad Velocidad cobra un valor mayor a cien, debe quedar en cien.\n",
    "\n",
    "    Recibe dos argumentos:\n",
    "    tipo: Dato que se asignara al atributo Tipo del objeto de la clase Vehiculo.\n",
    "    Color: Dato que se asignara al atributo Color del objeto de la clase Vehiculo\n",
    "    Ej:\n",
    "     a = ClaseVehiculo('auto','gris')\n",
    "     a.Acelerar(10) -> debe devolver 10\n",
    "     a.Acelerar(15) -> debe devolver 25\n",
    "     a.Acelerar(-10) -> debe devolver 15\n",
    "    '''\n",
    "    #tu codigo aca:\n",
    "    class claseVehiculo:\n",
    "        def __init__(self,tipo,color):\n",
    "            self.tipo = tipo\n",
    "            self.color = color\n",
    "            self.velocidad = 0\n",
    "\n",
    "            if self.tipo not in ('moto','auto','camioneta'):\n",
    "                self.tipo = 'auto' \n",
    "\n",
    "\n",
    "        def Acelerar(self,velocidad):\n",
    "            velocidad_final= self.velocidad + velocidad\n",
    "            if velocidad_final <0:\n",
    "               self.velocidad=0\n",
    "            elif velocidad_final > 100:\n",
    "               self.velocidad = 100\n",
    "            else: \n",
    "                self.velocidad = velocidad_final\n",
    "            \n",
    "            return self.velocidad\n",
    "    \n",
    "    return claseVehiculo(tipo,color)"
   ]
  },
  {
   "cell_type": "code",
   "execution_count": 83,
   "metadata": {},
   "outputs": [],
   "source": [
    "v3 = ClaseVehiculo('camion','azul')"
   ]
  },
  {
   "cell_type": "code",
   "execution_count": 15,
   "metadata": {},
   "outputs": [
    {
     "name": "stdout",
     "output_type": "stream",
     "text": [
      "rojo auto\n"
     ]
    }
   ],
   "source": [
    "v1=ClaseVehiculo('rojo','auto')\n",
    "print(v1.tipo,v1.color)"
   ]
  },
  {
   "cell_type": "code",
   "execution_count": 4,
   "metadata": {},
   "outputs": [
    {
     "name": "stdout",
     "output_type": "stream",
     "text": [
      "azul\n"
     ]
    }
   ],
   "source": [
    "v4=ClaseVehiculo('azul','moto')\n",
    "print(v4.tipo)"
   ]
  },
  {
   "cell_type": "code",
   "execution_count": 17,
   "metadata": {},
   "outputs": [
    {
     "name": "stdout",
     "output_type": "stream",
     "text": [
      "moto negra\n"
     ]
    }
   ],
   "source": [
    "v2 = ClaseVehiculo('moto','negra')\n",
    "print(v2.tipo,v2.color)"
   ]
  },
  {
   "cell_type": "code",
   "execution_count": 84,
   "metadata": {},
   "outputs": [
    {
     "name": "stdout",
     "output_type": "stream",
     "text": [
      "35\n"
     ]
    }
   ],
   "source": [
    "a = ClaseVehiculo('auto','gris')\n",
    "a.Acelerar(10) #-> debe devolver 10\n",
    "a.Acelerar(15) #-> debe devolver 25\n",
    "a.Acelerar(10) #-> debe devolver 15'\n",
    "print(a.velocidad)"
   ]
  },
  {
   "cell_type": "code",
   "execution_count": 93,
   "metadata": {},
   "outputs": [
    {
     "name": "stdout",
     "output_type": "stream",
     "text": [
      "0\n",
      "0\n",
      "0\n"
     ]
    }
   ],
   "source": [
    "v3.Acelerar(-10) #-> debe devolver 10\n",
    "print(v3.velocidad)\n",
    "v3.Acelerar(-15) #-> debe devolver 25\n",
    "print(v3.velocidad)\n",
    "v3.Acelerar(-10) #-> debe devolver 15'\n",
    "print(v3.velocidad)"
   ]
  },
  {
   "cell_type": "code",
   "execution_count": 33,
   "metadata": {},
   "outputs": [
    {
     "name": "stdout",
     "output_type": "stream",
     "text": [
      "35\n"
     ]
    }
   ],
   "source": [
    "print(a.velocidad)"
   ]
  },
  {
   "cell_type": "code",
   "execution_count": 39,
   "metadata": {},
   "outputs": [
    {
     "name": "stdout",
     "output_type": "stream",
     "text": [
      "215\n",
      "230\n",
      "240\n"
     ]
    }
   ],
   "source": [
    "v1.Acelerar(10)\n",
    "print(v1.velocidad)\n",
    "v1.Acelerar(15)\n",
    "print(v1.velocidad)\n",
    "v1.Acelerar(10)\n",
    "print(v1.velocidad)"
   ]
  }
 ],
 "metadata": {
  "kernelspec": {
   "display_name": "Python 3",
   "language": "python",
   "name": "python3"
  },
  "language_info": {
   "codemirror_mode": {
    "name": "ipython",
    "version": 3
   },
   "file_extension": ".py",
   "mimetype": "text/x-python",
   "name": "python",
   "nbconvert_exporter": "python",
   "pygments_lexer": "ipython3",
   "version": "3.11.5"
  },
  "orig_nbformat": 4
 },
 "nbformat": 4,
 "nbformat_minor": 2
}

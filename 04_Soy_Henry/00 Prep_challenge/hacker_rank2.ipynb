{
 "cells": [
  {
   "cell_type": "code",
   "execution_count": 28,
   "metadata": {},
   "outputs": [],
   "source": [
    "def sumaTodosLosPrimos(array):\n",
    "\n",
    "    '''la funcion llamada 'sumaTodosLosPrimos' recibe como argumento un array de enteros\n",
    "     y debe devolver  la suma total entre todos los numeros que sean primos.\n",
    "      pista: un numero primo solo es divisible por si mismo y por 1\n",
    "       Nota: los numeros 0 y 1 NO son considerados numeros primos \n",
    "       Ej:\n",
    "       sumaTodosLosPrimos([1,5,2,9,3,4,11]) devuelve 5 + 2 + 3 + 11 =21\n",
    "       Nota: podes usar la funcion esPrimo() resuelta en el homework '''\n",
    "    \n",
    "    C=[]\n",
    "    for i in array:\n",
    "        if EsPrimo(i):\n",
    "            C.append(i)\n",
    "    return sum(C)\n",
    "\n",
    "    \n",
    "def EsPrimo(valor):\n",
    "    es_primo=True\n",
    "    if valor == 0:\n",
    "        es_primo = False\n",
    "    elif valor == 1:\n",
    "        es_primo = False\n",
    "    else:\n",
    "        for i in range(2,valor):\n",
    "            if valor % i == 0:\n",
    "                es_primo=False\n",
    "                break\n",
    "            else:\n",
    "                es_primo=True\n",
    "    return es_primo\n",
    "\n"
   ]
  },
  {
   "cell_type": "code",
   "execution_count": 29,
   "metadata": {},
   "outputs": [
    {
     "data": {
      "text/plain": [
       "21"
      ]
     },
     "execution_count": 29,
     "metadata": {},
     "output_type": "execute_result"
    }
   ],
   "source": [
    "sumaTodosLosPrimos([1,5,2,9,3,4,11])"
   ]
  },
  {
   "cell_type": "code",
   "execution_count": 24,
   "metadata": {},
   "outputs": [
    {
     "data": {
      "text/plain": [
       "False"
      ]
     },
     "execution_count": 24,
     "metadata": {},
     "output_type": "execute_result"
    }
   ],
   "source": [
    "EsPrimo(1)"
   ]
  },
  {
   "cell_type": "code",
   "execution_count": 30,
   "metadata": {},
   "outputs": [],
   "source": [
    "array=[1,2,1,5,7,9]"
   ]
  },
  {
   "cell_type": "code",
   "execution_count": 31,
   "metadata": {},
   "outputs": [],
   "source": [
    "import functools"
   ]
  },
  {
   "cell_type": "code",
   "execution_count": 34,
   "metadata": {},
   "outputs": [
    {
     "data": {
      "text/plain": [
       "9"
      ]
     },
     "execution_count": 34,
     "metadata": {},
     "output_type": "execute_result"
    }
   ],
   "source": [
    "functools.reduce(lambda a,b : a if a > b else b,array) #para encontrar el maximo de una lista"
   ]
  },
  {
   "cell_type": "code",
   "execution_count": 35,
   "metadata": {},
   "outputs": [
    {
     "data": {
      "text/plain": [
       "25"
      ]
     },
     "execution_count": 35,
     "metadata": {},
     "output_type": "execute_result"
    }
   ],
   "source": [
    "functools.reduce(lambda a,b : a+ b,array) # para sumar los elementos de una lista"
   ]
  },
  {
   "cell_type": "code",
   "execution_count": 57,
   "metadata": {},
   "outputs": [],
   "source": [
    "def sumArray(array,n):\n",
    "    '''La funcion llamada 'sumArray' recibe como argumento un arreglo de numeros\n",
    "    ordenados llamado 'array' y un numero entero llamado 'n' y debe devolver True si alguna combinacion de dos numeros \n",
    "    cualquiera del arreglo sumados dan n, y devuelve false si ninguna combinacion de dos numeros cualquiera del arreglo sumados dan\n",
    "     como resultado n.\n",
    "     Ej:\n",
    "     sumArray([2,5,7,10,11,15,20],13) deberia devolver True ya que 2 + 11 = 13.\n",
    "     sumArray([2,5,7,10,11,15,20],14) deberia devolver False ya que no es posible sumar 14 con los numeros del array.\n",
    "     Pista: Podes usar bucles/ciclos anidados \n",
    "     Aclaracion: No es valido sumar el mismo elemento dos veces\n",
    "     Ej: \n",
    "      sumArray(([2,5,7,10,11,15,20],4)) si bien 2 + 2 = 4 no esta permitido sumar el elemento dos dos veces.\n",
    "      por lo tanto, deberia devolver False   '''\n",
    "    suma=0\n",
    "    salida=False\n",
    "    for i in range(0,len(array)):\n",
    "        for j in range(1,len(array)):\n",
    "            if i!=j:\n",
    "                suma=array[i]+array[j]\n",
    "                if suma == n:\n",
    "                    salida = True\n",
    "    return salida\n",
    "        "
   ]
  },
  {
   "cell_type": "code",
   "execution_count": 58,
   "metadata": {},
   "outputs": [
    {
     "data": {
      "text/plain": [
       "True"
      ]
     },
     "execution_count": 58,
     "metadata": {},
     "output_type": "execute_result"
    }
   ],
   "source": [
    "sumArray([2,5,7,10,11,15,20],13)"
   ]
  },
  {
   "cell_type": "code",
   "execution_count": 59,
   "metadata": {},
   "outputs": [
    {
     "data": {
      "text/plain": [
       "False"
      ]
     },
     "execution_count": 59,
     "metadata": {},
     "output_type": "execute_result"
    }
   ],
   "source": [
    "sumArray([2,5,7,10,11,15,20],14)"
   ]
  },
  {
   "cell_type": "code",
   "execution_count": 61,
   "metadata": {},
   "outputs": [
    {
     "data": {
      "text/plain": [
       "False"
      ]
     },
     "execution_count": 61,
     "metadata": {},
     "output_type": "execute_result"
    }
   ],
   "source": [
    "sumArray([2,5,7,10,11,15,20],4)"
   ]
  },
  {
   "cell_type": "code",
   "execution_count": 50,
   "metadata": {},
   "outputs": [],
   "source": [
    "array=[2,5,7,10,11,15,20]"
   ]
  },
  {
   "cell_type": "code",
   "execution_count": 60,
   "metadata": {},
   "outputs": [
    {
     "name": "stdout",
     "output_type": "stream",
     "text": [
      "7\n",
      "9\n",
      "12\n",
      "13\n",
      "17\n",
      "22\n",
      "12\n",
      "15\n",
      "16\n",
      "20\n",
      "25\n",
      "12\n",
      "17\n",
      "18\n",
      "22\n",
      "27\n",
      "15\n",
      "17\n",
      "21\n",
      "25\n",
      "30\n",
      "16\n",
      "18\n",
      "21\n",
      "26\n",
      "31\n",
      "20\n",
      "22\n",
      "25\n",
      "26\n",
      "35\n",
      "25\n",
      "27\n",
      "30\n",
      "31\n",
      "35\n"
     ]
    }
   ],
   "source": [
    "for i in range(0,len(array)):\n",
    "        for j in range(1,len(array)):\n",
    "            if i!=j:\n",
    "                suma=array[i]+array[j]\n",
    "                print(suma)"
   ]
  },
  {
   "cell_type": "code",
   "execution_count": 67,
   "metadata": {},
   "outputs": [],
   "source": [
    "# patron de ventana deslizante\n",
    "def sumArray2(array,n):\n",
    "\n",
    "    left=0\n",
    "    right=len(array)-1\n",
    "\n",
    "    while left < right and right<len(array):\n",
    "        suma=array[left]+array[right]\n",
    "        if suma == n:\n",
    "            return True\n",
    "        if suma > n:\n",
    "            right=right-1\n",
    "        if suma <n:\n",
    "            left = left + 1\n",
    "    return False    \n"
   ]
  },
  {
   "cell_type": "code",
   "execution_count": 70,
   "metadata": {},
   "outputs": [
    {
     "data": {
      "text/plain": [
       "False"
      ]
     },
     "execution_count": 70,
     "metadata": {},
     "output_type": "execute_result"
    }
   ],
   "source": [
    "sumArray2(array,4)"
   ]
  },
  {
   "cell_type": "code",
   "execution_count": 71,
   "metadata": {},
   "outputs": [],
   "source": [
    "def agregaPropiedades(amigos,propiedad):\n",
    "    '''la funcion llamada 'agregaPropiedad' recibe como argumento un array llamado 'amigos' \n",
    "    que contiene en cada posicion del arreglo un objeto que puede tener como propiedades\n",
    "    'nombre' o 'edad'. Tambien recibe un string llamado 'propiedad'.\n",
    "    Esta funcion debe agregar la propiedad 'propiedad'y setearle en null a aquellos objetos \n",
    "    dentro de 'amigos' que no tengan esta propiedad.\n",
    "    Debe devolver el array 'amigos' modificado.\n",
    "    Nota: Si el objeto dentro de 'amigos' tiene esa 'propiedad' no modificarla.\n",
    "    Ej:\n",
    "        var amigos= [{nombre: 'toni }, {nombre : 'Emi', edad: 25}]\n",
    "        agregaPropiedad(amigos,'edad') debe devolver [{nombre: 'Toni, edad: null},{nombre: 'Emi', edad: 25}]   '''\n",
    "    \n",
    "    #Tu codigo aca:\n",
    "    for amigo in amigos:\n",
    "        print(amigo)"
   ]
  },
  {
   "cell_type": "code",
   "execution_count": 73,
   "metadata": {},
   "outputs": [],
   "source": [
    "amigos= {\"nombre\": ['toni','Emi'], \"edad\":[25]}"
   ]
  },
  {
   "cell_type": "code",
   "execution_count": 74,
   "metadata": {},
   "outputs": [
    {
     "name": "stdout",
     "output_type": "stream",
     "text": [
      "dict_keys(['nombre', 'edad'])\n"
     ]
    }
   ],
   "source": [
    "print(amigos.keys())"
   ]
  },
  {
   "cell_type": "code",
   "execution_count": 75,
   "metadata": {},
   "outputs": [
    {
     "name": "stdout",
     "output_type": "stream",
     "text": [
      "dict_values([['toni', 'Emi'], [25]])\n"
     ]
    }
   ],
   "source": [
    "print(amigos.values())"
   ]
  },
  {
   "cell_type": "code",
   "execution_count": 76,
   "metadata": {},
   "outputs": [
    {
     "name": "stdout",
     "output_type": "stream",
     "text": [
      "{'nombre': ['toni', 'Emi'], 'edad': [25]}\n"
     ]
    }
   ],
   "source": [
    "print(amigos)"
   ]
  },
  {
   "cell_type": "code",
   "execution_count": 92,
   "metadata": {},
   "outputs": [],
   "source": [
    "def ordenarDiccionario(diccionario_par,clave,descendente=True):\n",
    "    '''Esta funcion recibe como parametros un diccionario, cuyas listas de valores tienen el mismo tamano y sus elementos\n",
    "    enesimos estan asociados. Y otros parametros que indican la clave por la cual debe ordenarse y si es descendente o ascendente.\n",
    "    \n",
    "    la Funcion debe devolver el diccionario ordenado, teniendo en cuenta de no perder la relacion entre los elementos enesimos.\n",
    "    Recibe tres argumentos :\n",
    "        diccionario:        Diccionario a ordenar\n",
    "        clave:              Clave del diccionario recibido por la cual se solicita ordenar\n",
    "        ordenamiento ascendente True \n",
    "        y ascendente si es False\n",
    "        \n",
    "        Debe tratarse de un parametro por defecto True\n",
    "        \n",
    "        Si el parametro diccionario no es un tipo de dato diccionario o el parametro clave  no se encuentra dentro de las claves del diccionario\n",
    "         , debe devolver nulo\n",
    "          Ej:\n",
    "          \n",
    "           dicc={'clave1': ['c','a','b'],\n",
    "                'clave2': ['casa', 'auto', 'barco'],\n",
    "                 'clave3': [1,2,3]} \n",
    "            ordenarDiccionario(dicc,'clave1')\n",
    "            \n",
    "            Debe retornar: {'clave1':['a','b','c'], 'clave2': ['auto','barco','casa]','clave3': [2,3,1]}\n",
    "            \n",
    "            ordenarDiccionario(dicc,'clave3',False)\n",
    "\n",
    "            Debe retornar:\n",
    "\n",
    "            Debe retornar: {'clave1':['b','a','c'], 'clave2': ['barco','auto','casa']','clave3': [3,2,1]}\n",
    "            '''\n",
    "    #tu codigo aca:\n",
    "\n",
    "    if not(isinstance(diccionario_par,dict)):\n",
    "        return None\n",
    "    arr=[]\n",
    "\n",
    "    numValores=len(diccionario_par['clave1'])\n",
    "    #print(numValores)\n",
    "    claves=list(diccionario_par.keys())\n",
    "\n",
    "    #print(claves)\n",
    "    for i in range(0,numValores):\n",
    "        partial={}\n",
    "        for c in claves:\n",
    "            partial[c]=diccionario_par[c][i]\n",
    "            arr.append(partial)\n",
    "    # {'clave1:'c', 'clave2': 'casa', 'clvae3':1}\n",
    "    # print(arr)\n",
    "    res=sorted(arr,key=lambda x: x[clave],reverse=descendente)\n",
    "\n",
    "    dicRes={}\n",
    "    for c in claves:\n",
    "        dicRes[c]=None*numValores\n",
    "        for i in range(0,numValores):\n",
    "            dicRes[c][i]=res[i][c]\n",
    "\n",
    "    return dicRes"
   ]
  },
  {
   "cell_type": "code",
   "execution_count": 93,
   "metadata": {},
   "outputs": [
    {
     "ename": "TypeError",
     "evalue": "unsupported operand type(s) for *: 'NoneType' and 'int'",
     "output_type": "error",
     "traceback": [
      "\u001b[1;31m---------------------------------------------------------------------------\u001b[0m",
      "\u001b[1;31mTypeError\u001b[0m                                 Traceback (most recent call last)",
      "\u001b[1;32mc:\\Users\\Florencia\\Desktop\\Python-Prep\\Carpeta Nueva\\hacker_rank2.ipynb Celda 22\u001b[0m line \u001b[0;36m4\n\u001b[0;32m      <a href='vscode-notebook-cell:/c%3A/Users/Florencia/Desktop/Python-Prep/Carpeta%20Nueva/hacker_rank2.ipynb#X50sZmlsZQ%3D%3D?line=0'>1</a>\u001b[0m dicc\u001b[39m=\u001b[39m{\u001b[39m'\u001b[39m\u001b[39mclave1\u001b[39m\u001b[39m'\u001b[39m: [\u001b[39m'\u001b[39m\u001b[39mc\u001b[39m\u001b[39m'\u001b[39m,\u001b[39m'\u001b[39m\u001b[39ma\u001b[39m\u001b[39m'\u001b[39m,\u001b[39m'\u001b[39m\u001b[39mb\u001b[39m\u001b[39m'\u001b[39m],\n\u001b[0;32m      <a href='vscode-notebook-cell:/c%3A/Users/Florencia/Desktop/Python-Prep/Carpeta%20Nueva/hacker_rank2.ipynb#X50sZmlsZQ%3D%3D?line=1'>2</a>\u001b[0m                 \u001b[39m'\u001b[39m\u001b[39mclave2\u001b[39m\u001b[39m'\u001b[39m: [\u001b[39m'\u001b[39m\u001b[39mcasa\u001b[39m\u001b[39m'\u001b[39m, \u001b[39m'\u001b[39m\u001b[39mauto\u001b[39m\u001b[39m'\u001b[39m, \u001b[39m'\u001b[39m\u001b[39mbarco\u001b[39m\u001b[39m'\u001b[39m],\n\u001b[0;32m      <a href='vscode-notebook-cell:/c%3A/Users/Florencia/Desktop/Python-Prep/Carpeta%20Nueva/hacker_rank2.ipynb#X50sZmlsZQ%3D%3D?line=2'>3</a>\u001b[0m                  \u001b[39m'\u001b[39m\u001b[39mclave3\u001b[39m\u001b[39m'\u001b[39m: [\u001b[39m1\u001b[39m,\u001b[39m2\u001b[39m,\u001b[39m3\u001b[39m]} \n\u001b[1;32m----> <a href='vscode-notebook-cell:/c%3A/Users/Florencia/Desktop/Python-Prep/Carpeta%20Nueva/hacker_rank2.ipynb#X50sZmlsZQ%3D%3D?line=3'>4</a>\u001b[0m ordenarDiccionario(dicc,\u001b[39m'\u001b[39;49m\u001b[39mclave1\u001b[39;49m\u001b[39m'\u001b[39;49m)\n",
      "\u001b[1;32mc:\\Users\\Florencia\\Desktop\\Python-Prep\\Carpeta Nueva\\hacker_rank2.ipynb Celda 22\u001b[0m line \u001b[0;36m5\n\u001b[0;32m     <a href='vscode-notebook-cell:/c%3A/Users/Florencia/Desktop/Python-Prep/Carpeta%20Nueva/hacker_rank2.ipynb#X50sZmlsZQ%3D%3D?line=50'>51</a>\u001b[0m dicRes\u001b[39m=\u001b[39m{}\n\u001b[0;32m     <a href='vscode-notebook-cell:/c%3A/Users/Florencia/Desktop/Python-Prep/Carpeta%20Nueva/hacker_rank2.ipynb#X50sZmlsZQ%3D%3D?line=51'>52</a>\u001b[0m \u001b[39mfor\u001b[39;00m c \u001b[39min\u001b[39;00m claves:\n\u001b[1;32m---> <a href='vscode-notebook-cell:/c%3A/Users/Florencia/Desktop/Python-Prep/Carpeta%20Nueva/hacker_rank2.ipynb#X50sZmlsZQ%3D%3D?line=52'>53</a>\u001b[0m     dicRes[c]\u001b[39m=\u001b[39m\u001b[39mNone\u001b[39;49;00m\u001b[39m*\u001b[39;49mnumValores\n\u001b[0;32m     <a href='vscode-notebook-cell:/c%3A/Users/Florencia/Desktop/Python-Prep/Carpeta%20Nueva/hacker_rank2.ipynb#X50sZmlsZQ%3D%3D?line=53'>54</a>\u001b[0m     \u001b[39mfor\u001b[39;00m i \u001b[39min\u001b[39;00m \u001b[39mrange\u001b[39m(\u001b[39m0\u001b[39m,numValores):\n\u001b[0;32m     <a href='vscode-notebook-cell:/c%3A/Users/Florencia/Desktop/Python-Prep/Carpeta%20Nueva/hacker_rank2.ipynb#X50sZmlsZQ%3D%3D?line=54'>55</a>\u001b[0m         dicRes[c][i]\u001b[39m=\u001b[39mres[i][c]\n",
      "\u001b[1;31mTypeError\u001b[0m: unsupported operand type(s) for *: 'NoneType' and 'int'"
     ]
    }
   ],
   "source": [
    "dicc={'clave1': ['c','a','b'],\n",
    "                'clave2': ['casa', 'auto', 'barco'],\n",
    "                 'clave3': [1,2,3]} \n",
    "ordenarDiccionario(dicc,'clave1')"
   ]
  },
  {
   "cell_type": "code",
   "execution_count": 80,
   "metadata": {},
   "outputs": [],
   "source": [
    "def listaEnteros(inicio,tamanio):\n",
    "    '''Esta funcion devuelve una lista de numeros enteros\n",
    "    Recibe dos argumentos:\n",
    "        inicio: Numero entero donde inicia la lista\n",
    "        tamanio: Cantidad de numeros enteros consecutivos\n",
    "        \n",
    "        Ej: \n",
    "        listaEnteros(10,5) debe retornar [10,11,12,13,14]\n",
    "        '''\n",
    "    \n",
    "    #tu codigo\n",
    "\n",
    "    arr=[]\n",
    "\n",
    "    for i in range(inicio, inicio+tamanio):\n",
    "        arr.append(i)\n",
    "    return arr\n",
    "\n"
   ]
  },
  {
   "cell_type": "code",
   "execution_count": 1,
   "metadata": {},
   "outputs": [],
   "source": [
    "def dividirDosNumeros(dividendo,divisor):\n",
    "    '''Esta funcion devuelve dos valores, la parte entera de la division y su resto.\n",
    "     \n",
    "      Recibe dos argumentos:\n",
    "        dividendo:      el numero que va a ser dividido\n",
    "         divisor:       el numero que va a dividir\n",
    "    Ej:\n",
    "     dividirDosNumeros(10,3) debe retornar 3,1 '''\n",
    "    \n",
    "    #tu codigo aca\n",
    "    import math\n",
    "    cociente=math.floor(dividendo/divisor)\n",
    "\n",
    "    residuo=dividendo%divisor\n",
    "    \n",
    "    return cociente,residuo"
   ]
  },
  {
   "cell_type": "code",
   "execution_count": 4,
   "metadata": {},
   "outputs": [],
   "source": [
    "def claseAnimal(especie,color):\n",
    "    '''Esta funcion devuelve un objeto instanciado de la clase Animal,\n",
    "     la cual debe tener los siguientes atributos:\n",
    "        Edad (un valor de tipo de dato entero, que debe inicializarse en cero)\n",
    "        Especie (un valor de tipo de dato string)\n",
    "         Color (un valor de tipo de dato string)\n",
    "          \n",
    "    y debe tener el siguiente metodo:\n",
    "     \n",
    "      CumplirAnios (este metodo debe sumar uno al atributo Edad y debe devolver ese valor)\n",
    "       \n",
    "    Recibe dos argumentos:\n",
    "        especie: Dato que se asignara al atributo Especie del objeto de la clase Animal\n",
    "         color: Dato que se asignara al atributo Color del objeto de la clase Animal\n",
    "          \n",
    "           Ej:\n",
    "            \n",
    "             a = ClaseAnimal('perro', 'blanco')\n",
    "             a.CumplirAnios() -> debe devolver 1\n",
    "             a.CumplirAnios() -> debe devolver 2\n",
    "             a.CumplirAnios() -> debe devolver 3\n",
    "                 '''\n",
    "    #tu codigo aca\n",
    "\n",
    "    class Animal:\n",
    "      def __init__(self,especie,color):\n",
    "                self.especie = especie\n",
    "                self.color = color\n",
    "                self.edad = 0\n",
    "\n",
    "      def CumplirAnios(self):\n",
    "            self.edad+=1\n",
    "            return self.edad\n",
    "    a = Animal(especie,color)\n",
    "    return (a.especie,a.color) "
   ]
  },
  {
   "cell_type": "code",
   "execution_count": 8,
   "metadata": {},
   "outputs": [],
   "source": [
    "a = claseAnimal('perro','negro')"
   ]
  },
  {
   "cell_type": "code",
   "execution_count": 5,
   "metadata": {},
   "outputs": [
    {
     "data": {
      "text/plain": [
       "('gato', 'blanco')"
      ]
     },
     "execution_count": 5,
     "metadata": {},
     "output_type": "execute_result"
    }
   ],
   "source": [
    "claseAnimal('gato','blanco')"
   ]
  },
  {
   "cell_type": "code",
   "execution_count": 9,
   "metadata": {},
   "outputs": [
    {
     "name": "stdout",
     "output_type": "stream",
     "text": [
      "('perro', 'negro')\n"
     ]
    }
   ],
   "source": [
    "print(a)"
   ]
  },
  {
   "cell_type": "code",
   "execution_count": null,
   "metadata": {},
   "outputs": [],
   "source": [
    "def exponente(numero,exponente):\n",
    "    '''Esta funcion devuelve el resultado de elevar el parametro 'numero'al parametro 'exponente'\n",
    "    Recibe dos argumentos:\n",
    "    \n",
    "        numero: el numero base en la operacion exponencial\n",
    "        exponente: el numero exponente en la operacion exponencial\n",
    "        \n",
    "        Ej:\n",
    "        \n",
    "        exponente(10,3) debe devolver 1000 '''\n",
    "    #tu codigo\n",
    "\n",
    "    return numero**exponente"
   ]
  },
  {
   "cell_type": "code",
   "execution_count": null,
   "metadata": {},
   "outputs": [],
   "source": [
    "def ListaPrimos(desde,hasta):\n",
    "    '''Esta funcion devuelve una lista con los numeros primos entre los valores 'desde'y ; hasta'\n",
    "    pasados por argumentos, siendo ambos inclusivos\n",
    "    \n",
    "    En caso de que alguno de los parametros no sea de tipo entero y/o no sea mayor a cero,\n",
    "    debe retornar nulo\n",
    "    \n",
    "    en caso de que el segundo parametro sea mayor al primero, pero ambos mayores que cero, \n",
    "    debe retornar una lista vacia.\n",
    "    \n",
    "    Recibe un argumento:\n",
    "        'desde':    Sera el numero a partir del cual se toma el rango\n",
    "        'hasta':    sera el numero hasta el cual se tome el rango\n",
    "\n",
    "        Ej:\n",
    "        ListaPrimos(7,15)  debe retornar [7,11,13]\n",
    "        ListaPrimos(100,99)  debe retornar []\n",
    "        ListaPrimos(1,7)  debe retornar [2,3,5,7]      '''\n",
    "    \n",
    "    #tu codigo\n",
    "    if not(isinstance(desde,int)):\n",
    "           return None\n",
    "    if (desde<0):\n",
    "          return None\n",
    "    \n",
    "    if not(isinstance(hasta,int)):\n",
    "          return None\n",
    "    if (hasta<0):\n",
    "          return None\n",
    "    \n",
    "    arr=[]\n",
    "\n",
    "    def isPrime(n):\n",
    "        for i in range(2,n):\n",
    "            if n % i == 0:\n",
    "                return False\n",
    "        return True\n",
    "    \n",
    "    for i in range(desde,hasta+1):\n",
    "         if isPrime(i):\n",
    "              arr.append(i)\n",
    "    return arr\n",
    " "
   ]
  },
  {
   "cell_type": "code",
   "execution_count": 90,
   "metadata": {},
   "outputs": [],
   "source": [
    "def listaRepetidos(lista):\n",
    "    '''Esta funcion recibe como argumentos una lista de tuplas donde cada tupla\n",
    "      contiene un valor de la lista original y las veces que se repite.\n",
    "      Los valores de la lista original no deben estar repetidos.\n",
    "      Debe respetarse el orden original en el que aparecen los elementos.\n",
    "      En caso de que el parametro no sea de tipo lista debe ser retornar nulo.\n",
    "      Recibe un argumento:\n",
    "      lista: sera la lista que va a evaluar.\n",
    "\n",
    "      Ej:\n",
    "      ListaRepetidos([]) debe retornar []\n",
    "      ListaRepetidos(['hola','mundo','hola',13,14])  debe retornar\n",
    "                [('hola',2),('mundo',1),(13,1),(14,1)]\n",
    "      ListaRepetidos([1,2,2,4])  debe retornar [(1,1),(2,2),(4,1)]    '''\n",
    "# tu codigo\n",
    "\n",
    "    if not(isinstance(lista,list)):\n",
    "        return None\n",
    "    dict={}\n",
    "\n",
    "    for i in lista:\n",
    "        if i in dict:\n",
    "            dict[i]=dict[i]+1\n",
    "        else:\n",
    "            dict[i]=1\n",
    "    return [(k,v) for k,v in dict.items()]\n",
    "\n",
    "\n"
   ]
  },
  {
   "cell_type": "code",
   "execution_count": 91,
   "metadata": {},
   "outputs": [
    {
     "data": {
      "text/plain": [
       "[(1, 1), (2, 2), (4, 1)]"
      ]
     },
     "execution_count": 91,
     "metadata": {},
     "output_type": "execute_result"
    }
   ],
   "source": [
    "listaRepetidos([1,2,2,4])"
   ]
  },
  {
   "cell_type": "code",
   "execution_count": 83,
   "metadata": {},
   "outputs": [],
   "source": [
    "def sumaDeTodosLosImpares(lista):\n",
    "    s = sum(list(filter(lambda x: x % 2 != 0,lista)))\n",
    "\n",
    "    return s "
   ]
  },
  {
   "cell_type": "code",
   "execution_count": 84,
   "metadata": {},
   "outputs": [
    {
     "data": {
      "text/plain": [
       "52"
      ]
     },
     "execution_count": 84,
     "metadata": {},
     "output_type": "execute_result"
    }
   ],
   "source": [
    "sumaDeTodosLosImpares([1,2,3,4,5,6,7,8,19,17,20])"
   ]
  },
  {
   "cell_type": "code",
   "execution_count": 85,
   "metadata": {},
   "outputs": [],
   "source": [
    "def sumaDeTodosLosImpares1(lista):\n",
    "    suma=0\n",
    "    odds=[]\n",
    "    for i in range(0,len(lista)):\n",
    "        if lista[i] % 2 !=0:\n",
    "            odds.append(lista[i])\n",
    "            suma=suma+lista[i]\n",
    "    return suma        "
   ]
  },
  {
   "cell_type": "code",
   "execution_count": 87,
   "metadata": {},
   "outputs": [
    {
     "data": {
      "text/plain": [
       "52"
      ]
     },
     "execution_count": 87,
     "metadata": {},
     "output_type": "execute_result"
    }
   ],
   "source": [
    "sumaDeTodosLosImpares1([1,2,3,4,5,6,7,8,19,17,20])"
   ]
  },
  {
   "cell_type": "code",
   "execution_count": null,
   "metadata": {},
   "outputs": [],
   "source": [
    "# https://www.youtube.com/watch?v=7r93582ncVg&list=PLjnxTN2GjlNDokv29U0LXmkF2SgTFlDhA&index=8 Resolucion\n",
    "def filtrar(funcion):\n",
    "\n",
    "    '''Escribi una funcion filtrar en el prototipo de Arrays\n",
    "    que recibe una funcion (callback) que devuelve true o false\n",
    "    filtrar los elementos de ese arreglo en base al resultado de esa funcion \n",
    "    comparadora, devolver un nuevo arreglo con los elementos filtrados\n",
    "    NO USAR LA FUNCION FILTER DE LOS ARREGLOS\n",
    "    ej:\n",
    "    var_productos = [{price :100, name: 'tv', }, {price: 50,name: 'phone'},{price: 30, name: 'lamp'} ]\n",
    "    productos.filtrar(function(p))\n",
    "            return p.price >=50 -> [{price: 100, name: 'tv'}]'''"
   ]
  }
 ],
 "metadata": {
  "kernelspec": {
   "display_name": "Python 3",
   "language": "python",
   "name": "python3"
  },
  "language_info": {
   "codemirror_mode": {
    "name": "ipython",
    "version": 3
   },
   "file_extension": ".py",
   "mimetype": "text/x-python",
   "name": "python",
   "nbconvert_exporter": "python",
   "pygments_lexer": "ipython3",
   "version": "3.11.5"
  },
  "orig_nbformat": 4
 },
 "nbformat": 4,
 "nbformat_minor": 2
}

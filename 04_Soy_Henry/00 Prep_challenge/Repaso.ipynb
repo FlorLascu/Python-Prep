{
 "cells": [
  {
   "cell_type": "code",
   "execution_count": 1,
   "metadata": {},
   "outputs": [],
   "source": [
    "# nested class items\n",
    "class Place:\n",
    "    def __init__(self, name: str, items: set):\n",
    "        self.name = name\n",
    "        if items is None:\n",
    "            items = set()   \n",
    "        self.items = items\n",
    "\n",
    "    def get_item_names(self):\n",
    "    # one-liner: return [x.name for x in self.items]\n",
    "        names = []\n",
    "        for item in self.items:\n",
    "            names.append(item.name)\n",
    "        return '\\n'.join(names)\n",
    "\n",
    "\n",
    "    def get_item_value(self):\n",
    "        value = []\n",
    "        for item in self.items:\n",
    "            value.append(item.value)\n",
    "            return value\n",
    "\n",
    "\n",
    "class Item:\n",
    "    def __init__(self, name: str, value: iter):\n",
    "        self.name = name\n",
    "        self.value = value\n",
    "\n"
   ]
  },
  {
   "cell_type": "code",
   "execution_count": 2,
   "metadata": {},
   "outputs": [
    {
     "name": "stdout",
     "output_type": "stream",
     "text": [
      "<bound method Place.get_item_names of <__main__.Place object at 0x000002DC5583A090>>\n"
     ]
    }
   ],
   "source": [
    "Bed=Item(\"Bed\", 200)\n",
    "Chair=Item(\"Chair\", 10)\n",
    "Oven=Item(\"Oven\", 500)\n",
    "\n",
    "\n",
    "bedroom = Place(\"Bedroom\", {Bed, Chair})\n",
    "kitchen = Place(\"Kitchen\", {Oven})\n",
    "\n",
    "\n",
    "print (bedroom.get_item_names)"
   ]
  },
  {
   "cell_type": "code",
   "execution_count": 8,
   "metadata": {},
   "outputs": [
    {
     "name": "stdout",
     "output_type": "stream",
     "text": [
      "Bed 200\n",
      "Kitchen {<__main__.Item object at 0x000002DC570F5A10>}\n",
      "Bedroom {<__main__.Item object at 0x000002DC570F4410>, <__main__.Item object at 0x000002DC570F5B10>}\n"
     ]
    }
   ],
   "source": [
    "print(Bed.name,Bed.value)\n",
    "print(kitchen.name,kitchen.items)\n",
    "print(bedroom.name,bedroom.items)"
   ]
  },
  {
   "cell_type": "code",
   "execution_count": 7,
   "metadata": {},
   "outputs": [
    {
     "ename": "AttributeError",
     "evalue": "type object 'Place' has no attribute 'bedroom'",
     "output_type": "error",
     "traceback": [
      "\u001b[1;31m---------------------------------------------------------------------------\u001b[0m",
      "\u001b[1;31mAttributeError\u001b[0m                            Traceback (most recent call last)",
      "\u001b[1;32mc:\\Users\\Florencia\\Desktop\\Python-Prep\\Carpeta Nueva\\Repaso.ipynb Celda 4\u001b[0m line \u001b[0;36m1\n\u001b[1;32m----> <a href='vscode-notebook-cell:/c%3A/Users/Florencia/Desktop/Python-Prep/Carpeta%20Nueva/Repaso.ipynb#Y101sZmlsZQ%3D%3D?line=0'>1</a>\u001b[0m \u001b[39mfor\u001b[39;00m i \u001b[39min\u001b[39;00m Place\u001b[39m.\u001b[39;49mbedroom:\n\u001b[0;32m      <a href='vscode-notebook-cell:/c%3A/Users/Florencia/Desktop/Python-Prep/Carpeta%20Nueva/Repaso.ipynb#Y101sZmlsZQ%3D%3D?line=1'>2</a>\u001b[0m     \u001b[39mprint\u001b[39m(Bed\u001b[39m.\u001b[39mvalue[i])\n",
      "\u001b[1;31mAttributeError\u001b[0m: type object 'Place' has no attribute 'bedroom'"
     ]
    }
   ],
   "source": [
    "for i in Place.bedroom:\n",
    "    print(Bed.value[i])"
   ]
  },
  {
   "cell_type": "code",
   "execution_count": 43,
   "metadata": {},
   "outputs": [],
   "source": [
    "people = {3: \"Jim\", 2: \"Jack\", 4: \"Jane\", 1: \"Jill\"}"
   ]
  },
  {
   "cell_type": "code",
   "execution_count": 6,
   "metadata": {},
   "outputs": [
    {
     "data": {
      "text/plain": [
       "dict_items([(3, 'Jim'), (2, 'Jack'), (4, 'Jane'), (1, 'Jill')])"
      ]
     },
     "execution_count": 6,
     "metadata": {},
     "output_type": "execute_result"
    }
   ],
   "source": [
    "people.items()"
   ]
  },
  {
   "cell_type": "code",
   "execution_count": 2,
   "metadata": {},
   "outputs": [
    {
     "data": {
      "text/plain": [
       "{1: 'Jill', 2: 'Jack', 3: 'Jim', 4: 'Jane'}"
      ]
     },
     "execution_count": 2,
     "metadata": {},
     "output_type": "execute_result"
    }
   ],
   "source": [
    "#sort by key\n",
    "dict(sorted(people.items()))"
   ]
  },
  {
   "cell_type": "code",
   "execution_count": 5,
   "metadata": {},
   "outputs": [
    {
     "data": {
      "text/plain": [
       "{2: 'Jack', 4: 'Jane', 1: 'Jill', 3: 'Jim'}"
      ]
     },
     "execution_count": 5,
     "metadata": {},
     "output_type": "execute_result"
    }
   ],
   "source": [
    "#sort by values\n",
    "dict(sorted(people.items(), key=lambda item: item[1],reverse=False))"
   ]
  },
  {
   "cell_type": "code",
   "execution_count": 4,
   "metadata": {},
   "outputs": [
    {
     "data": {
      "text/plain": [
       "{4: 'Jane', 3: 'Jim', 2: 'Jack', 1: 'Jill'}"
      ]
     },
     "execution_count": 4,
     "metadata": {},
     "output_type": "execute_result"
    }
   ],
   "source": [
    "#sort by Keys\n",
    "dict(sorted(people.items(), key=lambda item: item[0],reverse=True))"
   ]
  },
  {
   "cell_type": "code",
   "execution_count": 5,
   "metadata": {},
   "outputs": [],
   "source": [
    "def value_getter(item):\n",
    "    return item[1]"
   ]
  },
  {
   "cell_type": "code",
   "execution_count": 6,
   "metadata": {},
   "outputs": [
    {
     "data": {
      "text/plain": [
       "[(2, 'Jack'), (4, 'Jane'), (1, 'Jill'), (3, 'Jim')]"
      ]
     },
     "execution_count": 6,
     "metadata": {},
     "output_type": "execute_result"
    }
   ],
   "source": [
    "#sort by value\n",
    "sorted(people.items(),key=value_getter)"
   ]
  },
  {
   "cell_type": "code",
   "execution_count": 7,
   "metadata": {},
   "outputs": [],
   "source": [
    "numbers = [5, 3, 4, 3, 6, 7, 3, 2, 3, 4, 1]"
   ]
  },
  {
   "cell_type": "code",
   "execution_count": 10,
   "metadata": {},
   "outputs": [
    {
     "data": {
      "text/plain": [
       "[1, 2, 3, 3, 3, 3, 4, 4, 5, 6, 7]"
      ]
     },
     "execution_count": 10,
     "metadata": {},
     "output_type": "execute_result"
    }
   ],
   "source": [
    "sorted(numbers,reverse=False)"
   ]
  },
  {
   "cell_type": "code",
   "execution_count": 11,
   "metadata": {},
   "outputs": [
    {
     "data": {
      "text/plain": [
       "[7, 6, 5, 4, 4, 3, 3, 3, 3, 2, 1]"
      ]
     },
     "execution_count": 11,
     "metadata": {},
     "output_type": "execute_result"
    }
   ],
   "source": [
    "sorted(numbers,reverse=True)"
   ]
  },
  {
   "cell_type": "code",
   "execution_count": null,
   "metadata": {},
   "outputs": [],
   "source": []
  },
  {
   "cell_type": "code",
   "execution_count": 12,
   "metadata": {},
   "outputs": [
    {
     "data": {
      "text/plain": [
       "['aa', 'ab', 'ac', 'ba', 'ca', 'cb']"
      ]
     },
     "execution_count": 12,
     "metadata": {},
     "output_type": "execute_result"
    }
   ],
   "source": [
    "words = [\"aa\", \"ab\", \"ac\", \"ba\", \"cb\", \"ca\"]\n",
    "sorted(words)"
   ]
  },
  {
   "cell_type": "code",
   "execution_count": 15,
   "metadata": {},
   "outputs": [
    {
     "data": {
      "text/plain": [
       "['cb', 'ca', 'ba', 'ac', 'ab', 'aa']"
      ]
     },
     "execution_count": 15,
     "metadata": {},
     "output_type": "execute_result"
    }
   ],
   "source": [
    "sorted(words,reverse=True)"
   ]
  },
  {
   "cell_type": "code",
   "execution_count": 17,
   "metadata": {},
   "outputs": [],
   "source": [
    "def select_second_character(word):  # Sort key\n",
    "    return word[1]"
   ]
  },
  {
   "cell_type": "code",
   "execution_count": 18,
   "metadata": {},
   "outputs": [
    {
     "data": {
      "text/plain": [
       "['aa', 'ba', 'ca', 'ab', 'cb', 'ac']"
      ]
     },
     "execution_count": 18,
     "metadata": {},
     "output_type": "execute_result"
    }
   ],
   "source": [
    "sorted(words, key=select_second_character)"
   ]
  },
  {
   "cell_type": "code",
   "execution_count": 19,
   "metadata": {},
   "outputs": [
    {
     "data": {
      "text/plain": [
       "[1, 2, 3, 4]"
      ]
     },
     "execution_count": 19,
     "metadata": {},
     "output_type": "execute_result"
    }
   ],
   "source": [
    "sorted(people)"
   ]
  },
  {
   "cell_type": "code",
   "execution_count": 20,
   "metadata": {},
   "outputs": [
    {
     "data": {
      "text/plain": [
       "dict_items([(3, 'Jim'), (2, 'Jack'), (4, 'Jane'), (1, 'Jill')])"
      ]
     },
     "execution_count": 20,
     "metadata": {},
     "output_type": "execute_result"
    }
   ],
   "source": [
    "people.items()"
   ]
  },
  {
   "cell_type": "code",
   "execution_count": 26,
   "metadata": {},
   "outputs": [
    {
     "data": {
      "text/plain": [
       "[(1, 'Jill'), (2, 'Jack'), (3, 'Jim'), (4, 'Jane')]"
      ]
     },
     "execution_count": 26,
     "metadata": {},
     "output_type": "execute_result"
    }
   ],
   "source": [
    "sorted(people.items())"
   ]
  },
  {
   "cell_type": "code",
   "execution_count": 21,
   "metadata": {},
   "outputs": [],
   "source": [
    "dicc={'clave1': ['c','a','b','d'],'clave2': ['casa', 'auto', 'barco','avion'],'clave3': [1,2,3,4]} "
   ]
  },
  {
   "cell_type": "code",
   "execution_count": 22,
   "metadata": {},
   "outputs": [
    {
     "data": {
      "text/plain": [
       "dict_items([('clave1', ['c', 'a', 'b', 'd']), ('clave2', ['casa', 'auto', 'barco', 'avion']), ('clave3', [1, 2, 3, 4])])"
      ]
     },
     "execution_count": 22,
     "metadata": {},
     "output_type": "execute_result"
    }
   ],
   "source": [
    "dicc.items()"
   ]
  },
  {
   "cell_type": "code",
   "execution_count": 23,
   "metadata": {},
   "outputs": [
    {
     "data": {
      "text/plain": [
       "dict_values([['c', 'a', 'b', 'd'], ['casa', 'auto', 'barco', 'avion'], [1, 2, 3, 4]])"
      ]
     },
     "execution_count": 23,
     "metadata": {},
     "output_type": "execute_result"
    }
   ],
   "source": [
    "dicc.values()"
   ]
  },
  {
   "cell_type": "code",
   "execution_count": 24,
   "metadata": {},
   "outputs": [
    {
     "data": {
      "text/plain": [
       "dict_keys(['clave1', 'clave2', 'clave3'])"
      ]
     },
     "execution_count": 24,
     "metadata": {},
     "output_type": "execute_result"
    }
   ],
   "source": [
    "dicc.keys()"
   ]
  },
  {
   "cell_type": "code",
   "execution_count": 27,
   "metadata": {},
   "outputs": [
    {
     "data": {
      "text/plain": [
       "[('clave1', ['c', 'a', 'b', 'd']),\n",
       " ('clave2', ['casa', 'auto', 'barco', 'avion']),\n",
       " ('clave3', [1, 2, 3, 4])]"
      ]
     },
     "execution_count": 27,
     "metadata": {},
     "output_type": "execute_result"
    }
   ],
   "source": [
    "sorted(dicc.items())"
   ]
  },
  {
   "cell_type": "code",
   "execution_count": 25,
   "metadata": {},
   "outputs": [
    {
     "data": {
      "text/plain": [
       "dict_keys([3, 2, 4, 1])"
      ]
     },
     "execution_count": 25,
     "metadata": {},
     "output_type": "execute_result"
    }
   ],
   "source": [
    "people.keys()"
   ]
  },
  {
   "cell_type": "code",
   "execution_count": 33,
   "metadata": {},
   "outputs": [
    {
     "data": {
      "text/plain": [
       "dict_items([(3, 'Jim'), (2, 'Jack'), (4, 'Jane'), (1, 'Jill')])"
      ]
     },
     "execution_count": 33,
     "metadata": {},
     "output_type": "execute_result"
    }
   ],
   "source": [
    "people.items()"
   ]
  },
  {
   "cell_type": "code",
   "execution_count": 28,
   "metadata": {},
   "outputs": [],
   "source": [
    "def value_getter(item):\n",
    "    return item[1]"
   ]
  },
  {
   "cell_type": "code",
   "execution_count": 29,
   "metadata": {},
   "outputs": [
    {
     "data": {
      "text/plain": [
       "[(2, 'Jack'), (4, 'Jane'), (1, 'Jill'), (3, 'Jim')]"
      ]
     },
     "execution_count": 29,
     "metadata": {},
     "output_type": "execute_result"
    }
   ],
   "source": [
    "sorted(people.items(), key=value_getter)"
   ]
  },
  {
   "cell_type": "code",
   "execution_count": 24,
   "metadata": {},
   "outputs": [
    {
     "data": {
      "text/plain": [
       "[(2, 'Jack'), (4, 'Jane'), (1, 'Jill'), (3, 'Jim')]"
      ]
     },
     "execution_count": 24,
     "metadata": {},
     "output_type": "execute_result"
    }
   ],
   "source": [
    "sorted(people.items(), key=lambda item: item[1])"
   ]
  },
  {
   "cell_type": "code",
   "execution_count": 25,
   "metadata": {},
   "outputs": [
    {
     "name": "stdout",
     "output_type": "stream",
     "text": [
      "[(2, 'Jack'), (4, 'Jane'), (1, 'Jill'), (3, 'Jim')]\n"
     ]
    }
   ],
   "source": [
    "# Building a dictionary from the list returned from the sorted() function\n",
    "sorted_people = sorted(people.items(), key=lambda item: item[1])\n",
    "print(sorted_people)"
   ]
  },
  {
   "cell_type": "code",
   "execution_count": 26,
   "metadata": {},
   "outputs": [
    {
     "name": "stdout",
     "output_type": "stream",
     "text": [
      "{'Jack': 2, 'Jane': 4, 'Jill': 1, 'Jim': 3}\n"
     ]
    }
   ],
   "source": [
    "sorted_people_dict = {}  # Using a for loop\n",
    "for key, value in sorted_people:\n",
    "    sorted_people_dict[value] = key #inverti las claves a valores y los valores a claves\n",
    "print(sorted_people_dict)"
   ]
  },
  {
   "cell_type": "code",
   "execution_count": 27,
   "metadata": {},
   "outputs": [
    {
     "name": "stdout",
     "output_type": "stream",
     "text": [
      "{'Jack': 2, 'Jane': 4, 'Jill': 1, 'Jim': 3}\n"
     ]
    }
   ],
   "source": [
    "sorted_people = {}\n",
    "for key , value in sorted_people:\n",
    "    sorted_people_dict [key] = value\n",
    "print(sorted_people_dict)"
   ]
  },
  {
   "cell_type": "code",
   "execution_count": 40,
   "metadata": {},
   "outputs": [
    {
     "name": "stdout",
     "output_type": "stream",
     "text": [
      "{'Jack': 2, 'Jane': 4, 'Jill': 1, 'Jim': 3}\n"
     ]
    }
   ],
   "source": [
    "sorted_people = sorted(people.items(), key=lambda item: item[1])\n",
    "sorted_people_dict = dict(sorted_people)  # dictionary constructor\n",
    "\n",
    "sorted_people_dict = { # dictionary comprehension that swaps keys and values\n",
    "    value: key\n",
    "    for key, value in sorted(people.items(), key=lambda item: item[1])}\n",
    "\n",
    "print(sorted_people_dict)"
   ]
  },
  {
   "cell_type": "code",
   "execution_count": 7,
   "metadata": {},
   "outputs": [],
   "source": [
    "data = {\n",
    "    193: {\"name\": \"John\", \"age\": 30, \"skills\": {\"python\": 8, \"js\": 7}},\n",
    "    209: {\"name\": \"Bill\", \"age\": 15, \"skills\": {\"python\": 6}},\n",
    "    746: {\"name\": \"Jane\", \"age\": 58, \"skills\": {\"js\": 2, \"python\": 5}},\n",
    "    109: {\"name\": \"Jill\", \"age\": 83, \"skills\": {\"java\": 10}},\n",
    "    984: {\"name\": \"Jack\", \"age\": 28, \"skills\": {\"c\": 8, \"assembly\": 7}},\n",
    "    765: {\"name\": \"Penelope\", \"age\": 76, \"skills\": {\"python\": 8, \"go\": 5}},\n",
    "    598: {\"name\": \"Sylvia\", \"age\": 62, \"skills\": {\"bash\": 8, \"java\": 7}},\n",
    "    483: {\"name\": \"Anna\", \"age\": 24, \"skills\": {\"js\": 10}},\n",
    "    277: {\"name\": \"Beatriz\", \"age\": 26, \"skills\": {\"python\": 2, \"js\": 4}},\n",
    "}"
   ]
  },
  {
   "cell_type": "code",
   "execution_count": 8,
   "metadata": {},
   "outputs": [
    {
     "data": {
      "text/plain": [
       "dict_items([(193, {'name': 'John', 'age': 30, 'skills': {'python': 8, 'js': 7}}), (209, {'name': 'Bill', 'age': 15, 'skills': {'python': 6}}), (746, {'name': 'Jane', 'age': 58, 'skills': {'js': 2, 'python': 5}}), (109, {'name': 'Jill', 'age': 83, 'skills': {'java': 10}}), (984, {'name': 'Jack', 'age': 28, 'skills': {'c': 8, 'assembly': 7}}), (765, {'name': 'Penelope', 'age': 76, 'skills': {'python': 8, 'go': 5}}), (598, {'name': 'Sylvia', 'age': 62, 'skills': {'bash': 8, 'java': 7}}), (483, {'name': 'Anna', 'age': 24, 'skills': {'js': 10}}), (277, {'name': 'Beatriz', 'age': 26, 'skills': {'python': 2, 'js': 4}})])"
      ]
     },
     "execution_count": 8,
     "metadata": {},
     "output_type": "execute_result"
    }
   ],
   "source": [
    "data.items()"
   ]
  },
  {
   "cell_type": "code",
   "execution_count": 10,
   "metadata": {},
   "outputs": [],
   "source": [
    "def get_relevant_skills(item):\n",
    "    \"\"\"Get the sum of Python and JavaScript skill\"\"\"\n",
    "    skills = item[1][\"skills\"]\n",
    "    # Return default value that is equivalent to no skill\n",
    "    return skills.get(\"python\", 0) + skills.get(\"js\", 0)"
   ]
  },
  {
   "cell_type": "code",
   "execution_count": 11,
   "metadata": {},
   "outputs": [
    {
     "name": "stdout",
     "output_type": "stream",
     "text": [
      "[(193, {'name': 'John', 'age': 30, 'skills': {'python': 8, 'js': 7}}), (483, {'name': 'Anna', 'age': 24, 'skills': {'js': 10}}), (765, {'name': 'Penelope', 'age': 76, 'skills': {'python': 8, 'go': 5}}), (746, {'name': 'Jane', 'age': 58, 'skills': {'js': 2, 'python': 5}}), (209, {'name': 'Bill', 'age': 15, 'skills': {'python': 6}}), (277, {'name': 'Beatriz', 'age': 26, 'skills': {'python': 2, 'js': 4}}), (109, {'name': 'Jill', 'age': 83, 'skills': {'java': 10}}), (984, {'name': 'Jack', 'age': 28, 'skills': {'c': 8, 'assembly': 7}}), (598, {'name': 'Sylvia', 'age': 62, 'skills': {'bash': 8, 'java': 7}})]\n"
     ]
    }
   ],
   "source": [
    "print(sorted(data.items(), key=get_relevant_skills, reverse=True))"
   ]
  },
  {
   "cell_type": "code",
   "execution_count": 28,
   "metadata": {},
   "outputs": [],
   "source": [
    "from operator import itemgetter\n",
    "fruit_inventory = [(\"banana\", 5), (\"orange\", 15), (\"apple\", 3), (\"kiwi\", 0)]"
   ]
  },
  {
   "cell_type": "code",
   "execution_count": 29,
   "metadata": {},
   "outputs": [
    {
     "data": {
      "text/plain": [
       "[('apple', 3), ('banana', 5), ('kiwi', 0), ('orange', 15)]"
      ]
     },
     "execution_count": 29,
     "metadata": {},
     "output_type": "execute_result"
    }
   ],
   "source": [
    "# Sort by key\n",
    "sorted(fruit_inventory, key=itemgetter(0))"
   ]
  },
  {
   "cell_type": "code",
   "execution_count": 30,
   "metadata": {},
   "outputs": [
    {
     "data": {
      "text/plain": [
       "[('kiwi', 0), ('apple', 3), ('banana', 5), ('orange', 15)]"
      ]
     },
     "execution_count": 30,
     "metadata": {},
     "output_type": "execute_result"
    }
   ],
   "source": [
    "#Sort by values\n",
    "sorted(fruit_inventory,key=itemgetter(1))"
   ]
  },
  {
   "cell_type": "code",
   "execution_count": 39,
   "metadata": {},
   "outputs": [],
   "source": [
    "dicc1={'clave1': ['c','a','b','d'],'clave2': ['casa', 'auto', 'barco','avion'],'clave3': ['1','2','3','4']} "
   ]
  },
  {
   "cell_type": "code",
   "execution_count": 40,
   "metadata": {},
   "outputs": [
    {
     "data": {
      "text/plain": [
       "[('clave3', ['1', '2', '3', '4']),\n",
       " ('clave1', ['c', 'a', 'b', 'd']),\n",
       " ('clave2', ['casa', 'auto', 'barco', 'avion'])]"
      ]
     },
     "execution_count": 40,
     "metadata": {},
     "output_type": "execute_result"
    }
   ],
   "source": [
    "#Sort by keys\n",
    "sorted(dicc1.items(),key=itemgetter(1))"
   ]
  },
  {
   "cell_type": "code",
   "execution_count": 41,
   "metadata": {},
   "outputs": [
    {
     "data": {
      "text/plain": [
       "['clave1', 'clave2', 'clave3']"
      ]
     },
     "execution_count": 41,
     "metadata": {},
     "output_type": "execute_result"
    }
   ],
   "source": [
    "#sort by values\n",
    "sorted(dicc1,key=itemgetter(0))"
   ]
  },
  {
   "cell_type": "code",
   "execution_count": 44,
   "metadata": {},
   "outputs": [
    {
     "data": {
      "text/plain": [
       "[(2, 'Jack'), (4, 'Jane'), (1, 'Jill'), (3, 'Jim')]"
      ]
     },
     "execution_count": 44,
     "metadata": {},
     "output_type": "execute_result"
    }
   ],
   "source": [
    "#sort by value\n",
    "sorted(people.items(),key=itemgetter(1))"
   ]
  },
  {
   "cell_type": "code",
   "execution_count": 45,
   "metadata": {},
   "outputs": [
    {
     "data": {
      "text/plain": [
       "[(1, 'Jill'), (2, 'Jack'), (3, 'Jim'), (4, 'Jane')]"
      ]
     },
     "execution_count": 45,
     "metadata": {},
     "output_type": "execute_result"
    }
   ],
   "source": [
    "#sort by key\n",
    "sorted(people.items(),key=itemgetter(0))"
   ]
  },
  {
   "cell_type": "code",
   "execution_count": 46,
   "metadata": {},
   "outputs": [],
   "source": [
    "B=[{'clave1': 'c', 'clave2': 'casa', 'clave3': 1}, {'clave1': 'a', 'clave2': 'auto', 'clave3': 2}, {'clave1': 'b', 'clave2': 'barco', 'clave3': 3}]"
   ]
  },
  {
   "cell_type": "code",
   "execution_count": 52,
   "metadata": {},
   "outputs": [
    {
     "name": "stdout",
     "output_type": "stream",
     "text": [
      "[{'clave1': 'a', 'clave2': 'auto', 'clave3': 2}, {'clave1': 'b', 'clave2': 'barco', 'clave3': 3}, {'clave1': 'c', 'clave2': 'casa', 'clave3': 1}]\n"
     ]
    }
   ],
   "source": [
    "new_dic_ordenado = sorted(B,key=lambda d: d[\"clave1\"],reverse=False)\n",
    "print(new_dic_ordenado)"
   ]
  },
  {
   "cell_type": "code",
   "execution_count": 58,
   "metadata": {},
   "outputs": [
    {
     "data": {
      "text/plain": [
       "[{'clave1': 'c', 'clave2': 'casa', 'clave3': 1},\n",
       " {'clave1': 'b', 'clave2': 'barco', 'clave3': 3},\n",
       " {'clave1': 'a', 'clave2': 'auto', 'clave3': 2}]"
      ]
     },
     "execution_count": 58,
     "metadata": {},
     "output_type": "execute_result"
    }
   ],
   "source": [
    "#sort by key\n",
    "sorted(B,key=itemgetter('clave1'),reverse=True)"
   ]
  }
 ],
 "metadata": {
  "kernelspec": {
   "display_name": "Python 3",
   "language": "python",
   "name": "python3"
  },
  "language_info": {
   "codemirror_mode": {
    "name": "ipython",
    "version": 3
   },
   "file_extension": ".py",
   "mimetype": "text/x-python",
   "name": "python",
   "nbconvert_exporter": "python",
   "pygments_lexer": "ipython3",
   "version": "3.11.5"
  },
  "orig_nbformat": 4
 },
 "nbformat": 4,
 "nbformat_minor": 2
}

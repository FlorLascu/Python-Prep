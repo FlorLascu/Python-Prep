{
 "cells": [
  {
   "cell_type": "code",
   "execution_count": null,
   "metadata": {},
   "outputs": [],
   "source": [
    "def agregaPropiedades(amigos,propiedad):\n",
    "    '''la funcion llamada 'agregaPropiedad' recibe como argumento un array llamado 'amigos' \n",
    "    que contiene en cada posicion del arreglo un objeto que puede tener como propiedades\n",
    "    'nombre' o 'edad'. Tambien recibe un string llamado 'propiedad'.\n",
    "    Esta funcion debe agregar la propiedad 'propiedad'y setearle en null a aquellos objetos \n",
    "    dentro de 'amigos' que no tengan esta propiedad.\n",
    "    Debe devolver el array 'amigos' modificado.\n",
    "    Nota: Si el objeto dentro de 'amigos' tiene esa 'propiedad' no modificarla.\n",
    "    Ej:\n",
    "        var amigos= [{nombre: 'toni }, {nombre : 'Emi', edad: 25}]\n",
    "        agregaPropiedad(amigos,'edad') debe devolver [{nombre: 'Toni, edad: null},{nombre: 'Emi', edad: 25}]   '''\n",
    "    \n",
    "    #Tu codigo aca:\n",
    "    for amigo in amigos:\n",
    "        print(amigo)"
   ]
  }
 ],
 "metadata": {
  "language_info": {
   "name": "python"
  },
  "orig_nbformat": 4
 },
 "nbformat": 4,
 "nbformat_minor": 2
}

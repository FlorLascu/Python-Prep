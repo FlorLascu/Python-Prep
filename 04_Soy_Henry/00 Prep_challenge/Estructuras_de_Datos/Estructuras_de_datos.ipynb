{
 "cells": [
  {
   "cell_type": "code",
   "execution_count": 2,
   "metadata": {},
   "outputs": [
    {
     "name": "stdout",
     "output_type": "stream",
     "text": [
      "amarilo\n"
     ]
    }
   ],
   "source": [
    "mi_lista=[\"rojo\",\"azul\",\"amarilo\",\"naranja\",\"violeta\",\"negro\"]\n",
    "print(mi_lista[2])"
   ]
  },
  {
   "cell_type": "code",
   "execution_count": 5,
   "metadata": {},
   "outputs": [
    {
     "name": "stdout",
     "output_type": "stream",
     "text": [
      "['naranja']\n"
     ]
    }
   ],
   "source": [
    "print(mi_lista[3:4])"
   ]
  },
  {
   "cell_type": "code",
   "execution_count": 3,
   "metadata": {},
   "outputs": [
    {
     "name": "stdout",
     "output_type": "stream",
     "text": [
      "['rojo', 'azul', 'amarilo', 'naranja', 'violeta', 'negro', 'verde', 'gris']\n"
     ]
    }
   ],
   "source": [
    "mi_lista.extend([\"verde\",\"gris\"])\n",
    "print(mi_lista)"
   ]
  },
  {
   "cell_type": "code",
   "execution_count": 4,
   "metadata": {},
   "outputs": [
    {
     "name": "stdout",
     "output_type": "stream",
     "text": [
      "['rojo', 'azul', 'amarilo', 'naranja', 'violeta', 'negro', 'verde', 'gris', ['celeste', 'blanco']]\n"
     ]
    }
   ],
   "source": [
    "mi_lista.append(['celeste','blanco'])\n",
    "print(mi_lista)"
   ]
  },
  {
   "cell_type": "code",
   "execution_count": 7,
   "metadata": {},
   "outputs": [
    {
     "name": "stdout",
     "output_type": "stream",
     "text": [
      "['rojo', 'azul', 'amarilo', 'blanco', 'naranja', 'violeta', 'negro', 'verde', 'gris']\n"
     ]
    }
   ],
   "source": [
    "mi_lista.insert(3,\"blanco\")\n",
    "print(mi_lista)"
   ]
  },
  {
   "cell_type": "code",
   "execution_count": 8,
   "metadata": {},
   "outputs": [
    {
     "name": "stdout",
     "output_type": "stream",
     "text": [
      "6\n"
     ]
    }
   ],
   "source": [
    "print(mi_lista.index(\"negro\"))"
   ]
  },
  {
   "cell_type": "code",
   "execution_count": 9,
   "metadata": {},
   "outputs": [
    {
     "name": "stdout",
     "output_type": "stream",
     "text": [
      "['rojo', 'azul', 'amarilo', 'blanco', 'naranja', 'violeta', 'negro', 'gris']\n"
     ]
    }
   ],
   "source": [
    "mi_lista.remove(\"verde\")\n",
    "print(mi_lista)"
   ]
  },
  {
   "cell_type": "code",
   "execution_count": 12,
   "metadata": {},
   "outputs": [
    {
     "name": "stdout",
     "output_type": "stream",
     "text": [
      "negro\n",
      "['rojo', 'azul', 'amarilo', 'blanco', 'naranja', 'violeta']\n"
     ]
    }
   ],
   "source": [
    "ultimo=mi_lista.pop()\n",
    "print(ultimo)\n",
    "print(mi_lista)"
   ]
  },
  {
   "cell_type": "code",
   "execution_count": 13,
   "metadata": {},
   "outputs": [
    {
     "name": "stdout",
     "output_type": "stream",
     "text": [
      "azul\n",
      "['rojo', 'amarilo', 'blanco', 'naranja', 'violeta']\n"
     ]
    }
   ],
   "source": [
    "segundo=mi_lista.pop(1)\n",
    "print(segundo)\n",
    "print(mi_lista)"
   ]
  },
  {
   "cell_type": "code",
   "execution_count": 11,
   "metadata": {},
   "outputs": [
    {
     "name": "stdout",
     "output_type": "stream",
     "text": [
      "[0, 2, 4, 6, 8, 10]\n"
     ]
    }
   ],
   "source": [
    "a_lista=[4,6,2,8,10,0]\n",
    "a_lista.sort()\n",
    "print(a_lista)"
   ]
  },
  {
   "cell_type": "code",
   "execution_count": 14,
   "metadata": {},
   "outputs": [
    {
     "name": "stdout",
     "output_type": "stream",
     "text": [
      "[10, 8, 6, 4, 2, 0]\n"
     ]
    }
   ],
   "source": [
    "a_lista.sort(reverse=True)\n",
    "print(a_lista)"
   ]
  },
  {
   "cell_type": "code",
   "execution_count": 16,
   "metadata": {},
   "outputs": [],
   "source": [
    "b_tupla=tuple(a_lista)"
   ]
  },
  {
   "cell_type": "code",
   "execution_count": 17,
   "metadata": {},
   "outputs": [
    {
     "name": "stdout",
     "output_type": "stream",
     "text": [
      "<class 'tuple'>\n"
     ]
    }
   ],
   "source": [
    "print(type(b_tupla))"
   ]
  },
  {
   "cell_type": "code",
   "execution_count": 19,
   "metadata": {},
   "outputs": [
    {
     "name": "stdout",
     "output_type": "stream",
     "text": [
      "('lunes', 'martes', 'miercoles', 'jueves', 'viernes', 'sabado', 'donmingo')\n"
     ]
    }
   ],
   "source": [
    "tupla_dias=(\"lunes\",\"martes\",\"miercoles\",\"jueves\",\"viernes\",\"sabado\",\"donmingo\")\n",
    "print(tupla_dias)"
   ]
  },
  {
   "cell_type": "code",
   "execution_count": 23,
   "metadata": {},
   "outputs": [
    {
     "name": "stdout",
     "output_type": "stream",
     "text": [
      "miercoles\n",
      "4\n"
     ]
    }
   ],
   "source": [
    "print(tupla_dias[2])\n",
    "print(b_tupla[3])\n"
   ]
  },
  {
   "cell_type": "code",
   "execution_count": 24,
   "metadata": {},
   "outputs": [
    {
     "data": {
      "text/plain": [
       "True"
      ]
     },
     "execution_count": 24,
     "metadata": {},
     "output_type": "execute_result"
    }
   ],
   "source": [
    "\"viernes\" in tupla_dias"
   ]
  },
  {
   "cell_type": "code",
   "execution_count": 25,
   "metadata": {},
   "outputs": [],
   "source": [
    "x=11\n",
    "y=22\n",
    "z=\"henry\""
   ]
  },
  {
   "cell_type": "code",
   "execution_count": 27,
   "metadata": {},
   "outputs": [
    {
     "name": "stdout",
     "output_type": "stream",
     "text": [
      "(11, 22, 'henry')\n"
     ]
    }
   ],
   "source": [
    "mi_tupla=x,y,z\n",
    "print(mi_tupla)"
   ]
  },
  {
   "cell_type": "code",
   "execution_count": 30,
   "metadata": {},
   "outputs": [],
   "source": [
    "date=(22,\"agosto\",1999)"
   ]
  },
  {
   "cell_type": "code",
   "execution_count": 31,
   "metadata": {},
   "outputs": [
    {
     "name": "stdout",
     "output_type": "stream",
     "text": [
      "22\n",
      "agosto\n",
      "1999\n"
     ]
    }
   ],
   "source": [
    "uno,dos,tres=date\n",
    "print(uno)\n",
    "print(dos)\n",
    "print(tres)\n"
   ]
  },
  {
   "cell_type": "code",
   "execution_count": 33,
   "metadata": {},
   "outputs": [
    {
     "name": "stdout",
     "output_type": "stream",
     "text": [
      "9\n",
      "7\n"
     ]
    }
   ],
   "source": [
    "tupla_impares=(1,3,5,7,9)\n",
    "primero=tupla_impares[0]\n",
    "segundo=tupla_impares[1]\n",
    "tercero=tupla_impares[3]\n",
    "cuatro=tupla_impares[4]\n",
    "print(cuatro)\n",
    "print(tercero)"
   ]
  },
  {
   "cell_type": "code",
   "execution_count": 34,
   "metadata": {},
   "outputs": [
    {
     "name": "stdout",
     "output_type": "stream",
     "text": [
      "{}\n",
      "<class 'dict'>\n"
     ]
    }
   ],
   "source": [
    "primer_diccionario=dict()\n",
    "print(primer_diccionario)\n",
    "print(type(primer_diccionario))"
   ]
  },
  {
   "cell_type": "code",
   "execution_count": 35,
   "metadata": {},
   "outputs": [],
   "source": [
    "primer_diccionario[\"primero\"]=uno"
   ]
  },
  {
   "cell_type": "code",
   "execution_count": 36,
   "metadata": {},
   "outputs": [
    {
     "data": {
      "text/plain": [
       "{'primero': 22}"
      ]
     },
     "execution_count": 36,
     "metadata": {},
     "output_type": "execute_result"
    }
   ],
   "source": [
    "primer_diccionario"
   ]
  },
  {
   "cell_type": "code",
   "execution_count": 37,
   "metadata": {},
   "outputs": [
    {
     "name": "stdout",
     "output_type": "stream",
     "text": [
      "{'Colores Primarios': ['rojo', 'azul', 'amarillo'], 'Colores Secundarios': ['azul', 'verde', 'naranja', 'violeta'], 'Clave_3': 10, 'Clave_4': False}\n"
     ]
    }
   ],
   "source": [
    "mi_diccionario={'Colores Primarios':[\"rojo\",\"azul\",\"amarillo\"],\n",
    "                'Colores Secundarios':[\"azul\",\"verde\",\"naranja\",\"violeta\"],\n",
    "                'Clave_3':10,\n",
    "                'Clave_4':False}\n",
    "print(mi_diccionario)"
   ]
  },
  {
   "cell_type": "code",
   "execution_count": 38,
   "metadata": {},
   "outputs": [
    {
     "name": "stdout",
     "output_type": "stream",
     "text": [
      "['rojo', 'azul', 'amarillo']\n"
     ]
    }
   ],
   "source": [
    "print(mi_diccionario['Colores Primarios'])"
   ]
  },
  {
   "cell_type": "code",
   "execution_count": 40,
   "metadata": {},
   "outputs": [
    {
     "name": "stdout",
     "output_type": "stream",
     "text": [
      "{'Colores Primarios': ['rojo', 'azul', 'amarillo'], 'Colores Secundarios': ['azul', 'verde', 'naranja', 'violeta'], 'Clave_3': 10, 'Clave_4': False, 'Clave_5': 'Otro ejemplo'}\n"
     ]
    }
   ],
   "source": [
    "mi_diccionario['Clave_5']='Otro ejemplo'\n",
    "print(mi_diccionario)"
   ]
  },
  {
   "cell_type": "code",
   "execution_count": 42,
   "metadata": {},
   "outputs": [],
   "source": [
    "mi_diccionario['Çlave_3']=2"
   ]
  },
  {
   "cell_type": "code",
   "execution_count": 43,
   "metadata": {},
   "outputs": [
    {
     "name": "stdout",
     "output_type": "stream",
     "text": [
      "10\n"
     ]
    }
   ],
   "source": [
    "\n",
    "print(mi_diccionario['Clave_3'])\n"
   ]
  },
  {
   "cell_type": "code",
   "execution_count": 45,
   "metadata": {},
   "outputs": [
    {
     "name": "stdout",
     "output_type": "stream",
     "text": [
      "{'Argentina': 'Buenos Aires', 'Italia': 'Roma', 'Inglaterra': 'Londres'}\n"
     ]
    }
   ],
   "source": [
    "m_tupla=(\"Argentina\",\"Italia\",\"Inglaterra\")\n",
    "mi_dix={m_tupla[0]:\"Buenos Aires\",\n",
    "        m_tupla[1]:\"Roma\",\n",
    "        m_tupla[2]:\"Londres\"}\n",
    "print(mi_dix)"
   ]
  },
  {
   "cell_type": "code",
   "execution_count": 46,
   "metadata": {},
   "outputs": [
    {
     "name": "stdout",
     "output_type": "stream",
     "text": [
      "{'Clave1': 'Valor1', 'Clave2': [1, 2, 3, 4]}\n"
     ]
    }
   ],
   "source": [
    "mi_dix2={'Clave1':'Valor1','Clave2':[1,2,3,4]}\n",
    "print(mi_dix2)"
   ]
  },
  {
   "cell_type": "code",
   "execution_count": 50,
   "metadata": {},
   "outputs": [
    {
     "name": "stdout",
     "output_type": "stream",
     "text": [
      "dict_values(['Valor1', [1, 2, 3, 4]])\n"
     ]
    }
   ],
   "source": [
    "print(mi_dix2.values())"
   ]
  },
  {
   "cell_type": "code",
   "execution_count": 52,
   "metadata": {},
   "outputs": [
    {
     "name": "stdout",
     "output_type": "stream",
     "text": [
      "dict_keys(['Colores Primarios', 'Colores Secundarios', 'Clave_3', 'Clave_4', 'Clave_5', 'Çlave_3'])\n"
     ]
    }
   ],
   "source": [
    "print(mi_diccionario.keys())"
   ]
  }
 ],
 "metadata": {
  "kernelspec": {
   "display_name": "Python 3",
   "language": "python",
   "name": "python3"
  },
  "language_info": {
   "codemirror_mode": {
    "name": "ipython",
    "version": 3
   },
   "file_extension": ".py",
   "mimetype": "text/x-python",
   "name": "python",
   "nbconvert_exporter": "python",
   "pygments_lexer": "ipython3",
   "version": "3.11.5"
  },
  "orig_nbformat": 4
 },
 "nbformat": 4,
 "nbformat_minor": 2
}

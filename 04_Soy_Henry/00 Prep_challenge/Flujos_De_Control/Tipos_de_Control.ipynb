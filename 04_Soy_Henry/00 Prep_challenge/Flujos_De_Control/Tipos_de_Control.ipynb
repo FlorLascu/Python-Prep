{
 "cells": [
  {
   "cell_type": "code",
   "execution_count": 1,
   "metadata": {},
   "outputs": [],
   "source": [
    "a=5\n",
    "b=7"
   ]
  },
  {
   "cell_type": "code",
   "execution_count": 6,
   "metadata": {},
   "outputs": [
    {
     "name": "stdout",
     "output_type": "stream",
     "text": [
      "a es menor a b\n"
     ]
    }
   ],
   "source": [
    "if a>b:\n",
    "    print(\"a es mayor a b\")\n",
    "elif a<b:\n",
    "    print(\"a es menor a b\")\n",
    "else:\n",
    "    print(\"a es igual a b\")"
   ]
  },
  {
   "cell_type": "code",
   "execution_count": 9,
   "metadata": {},
   "outputs": [
    {
     "name": "stdout",
     "output_type": "stream",
     "text": [
      "Soy Igual\n"
     ]
    }
   ],
   "source": [
    "num=10\n",
    "if num>10:\n",
    "    print(\"Soy Mayor\")\n",
    "elif num<10:\n",
    "    print(\"Soy Menor\")\n",
    "else: print(\"Soy Igual\")"
   ]
  }
 ],
 "metadata": {
  "kernelspec": {
   "display_name": "Python 3",
   "language": "python",
   "name": "python3"
  },
  "language_info": {
   "codemirror_mode": {
    "name": "ipython",
    "version": 3
   },
   "file_extension": ".py",
   "mimetype": "text/x-python",
   "name": "python",
   "nbconvert_exporter": "python",
   "pygments_lexer": "ipython3",
   "version": "3.11.5"
  },
  "orig_nbformat": 4
 },
 "nbformat": 4,
 "nbformat_minor": 2
}

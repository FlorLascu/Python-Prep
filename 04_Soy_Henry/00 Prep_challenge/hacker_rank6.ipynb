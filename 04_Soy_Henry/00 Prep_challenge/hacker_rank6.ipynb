{
 "cells": [
  {
   "cell_type": "code",
   "execution_count": 36,
   "metadata": {},
   "outputs": [],
   "source": [
    "def agregarPropiedad(array,propiedad):\n",
    "    '''En este ejercicio trabajaras con objetos. Tu tarea sera escribir una funcion que, al recibir un arreglo\n",
    "    de objetos, chequee si todos los objetos tienen cierta propiead (recibida tambien por parametro), y \n",
    "    se la agregue a todos los que no la tengan, con valor null.\n",
    "    \n",
    "    Ej:\n",
    "    \n",
    "    agregarPropiedad([{'nombre': 'toni'},{'nombre': 'Emi', 'edad': 25}], 'edad')\n",
    "    deberia retornar\n",
    "    \n",
    "    [{'nombre': 'toni', 'edad': null},{'nombre': 'Emi', 'edad': 25}]\n",
    "    Decripcion de la funcion\n",
    "    la funcion agregaPropiedad debe retornar un arreglo de objetos.\n",
    "    La funcion agregaPropiedades recibe como parametros:\n",
    "    * array = una lista de objetos\n",
    "    * propiedad = una propiedad de los elementos de la lista\n",
    "    '''\n",
    "    #tu codigo aca:\n",
    "\n",
    "    for i in range(0,len(array)):\n",
    "        array[i].setdefault(propiedad,None)\n",
    "    return array\n",
    "    \n",
    "    "
   ]
  },
  {
   "cell_type": "code",
   "execution_count": 42,
   "metadata": {},
   "outputs": [],
   "source": [
    "array = [{'nombre': 'toni'},{'nombre': 'Emi', 'edad': 25}]"
   ]
  },
  {
   "cell_type": "code",
   "execution_count": 33,
   "metadata": {},
   "outputs": [
    {
     "data": {
      "text/plain": [
       "{'nombre': 'toni'}"
      ]
     },
     "execution_count": 33,
     "metadata": {},
     "output_type": "execute_result"
    }
   ],
   "source": [
    "array[0]"
   ]
  },
  {
   "cell_type": "code",
   "execution_count": 34,
   "metadata": {},
   "outputs": [],
   "source": [
    "array[0].setdefault('edad', None) "
   ]
  },
  {
   "cell_type": "code",
   "execution_count": 35,
   "metadata": {},
   "outputs": [
    {
     "name": "stdout",
     "output_type": "stream",
     "text": [
      "[{'nombre': 'toni', 'edad': None}, {'nombre': 'Emi', 'edad': 25}]\n"
     ]
    }
   ],
   "source": [
    "print(array)"
   ]
  },
  {
   "cell_type": "code",
   "execution_count": 30,
   "metadata": {},
   "outputs": [
    {
     "data": {
      "text/plain": [
       "2"
      ]
     },
     "execution_count": 30,
     "metadata": {},
     "output_type": "execute_result"
    }
   ],
   "source": [
    "len(array)"
   ]
  },
  {
   "cell_type": "code",
   "execution_count": 28,
   "metadata": {},
   "outputs": [],
   "source": [
    "dict_arrray = dict(array[0])"
   ]
  },
  {
   "cell_type": "code",
   "execution_count": 29,
   "metadata": {},
   "outputs": [
    {
     "data": {
      "text/plain": [
       "dict_keys(['nombre'])"
      ]
     },
     "execution_count": 29,
     "metadata": {},
     "output_type": "execute_result"
    }
   ],
   "source": [
    "dict_arrray.keys()"
   ]
  },
  {
   "cell_type": "code",
   "execution_count": 22,
   "metadata": {},
   "outputs": [
    {
     "data": {
      "text/plain": [
       "'Not found'"
      ]
     },
     "execution_count": 22,
     "metadata": {},
     "output_type": "execute_result"
    }
   ],
   "source": [
    "array[0].get('edad','Not found')"
   ]
  },
  {
   "cell_type": "code",
   "execution_count": 23,
   "metadata": {},
   "outputs": [
    {
     "data": {
      "text/plain": [
       "25"
      ]
     },
     "execution_count": 23,
     "metadata": {},
     "output_type": "execute_result"
    }
   ],
   "source": [
    "array[1].get('edad','Not found')"
   ]
  },
  {
   "cell_type": "code",
   "execution_count": 38,
   "metadata": {},
   "outputs": [
    {
     "data": {
      "text/plain": [
       "[{'nombre': 'toni', 'edad': None}, {'nombre': 'Emi', 'edad': 25}]"
      ]
     },
     "execution_count": 38,
     "metadata": {},
     "output_type": "execute_result"
    }
   ],
   "source": [
    "agregarPropiedad(array,'edad')"
   ]
  },
  {
   "cell_type": "code",
   "execution_count": 44,
   "metadata": {},
   "outputs": [],
   "source": [
    "array_corrected = [x.setdefault('edad',None) for x in array]"
   ]
  },
  {
   "cell_type": "code",
   "execution_count": 45,
   "metadata": {},
   "outputs": [
    {
     "name": "stdout",
     "output_type": "stream",
     "text": [
      "[None, 25]\n"
     ]
    }
   ],
   "source": [
    "print(array_corrected)"
   ]
  },
  {
   "cell_type": "code",
   "execution_count": 46,
   "metadata": {},
   "outputs": [
    {
     "data": {
      "text/plain": [
       "[{'nombre': 'toni', 'edad': None}, {'nombre': 'Emi', 'edad': 25}]"
      ]
     },
     "execution_count": 46,
     "metadata": {},
     "output_type": "execute_result"
    }
   ],
   "source": [
    "array"
   ]
  },
  {
   "cell_type": "code",
   "execution_count": 79,
   "metadata": {},
   "outputs": [],
   "source": [
    "def agregaRPropiedad(array,propiedad):\n",
    "    '''En este ejercicio trabajaras con objetos. Tu tarea sera escribir una funcion que, al recibir un arreglo\n",
    "    de objetos, chequee si todos los objetos tienen cierta propiead (recibida tambien por parametro), y \n",
    "    se la agregue a todos los que no la tengan, con valor null.\n",
    "    \n",
    "    Ej:\n",
    "    \n",
    "    agregarPropiedad([{'nombre': 'toni'},{'nombre': 'Emi', 'edad': 25}], 'edad')\n",
    "    deberia retornar\n",
    "    \n",
    "    [{'nombre': 'toni', 'edad': null},{'nombre': 'Emi', 'edad': 25}]\n",
    "    Decripcion de la funcion\n",
    "    la funcion agregaPropiedad debe retornar un arreglo de objetos.\n",
    "    La funcion agregaPropiedades recibe como parametros:\n",
    "    * array = una lista de objetos\n",
    "    * propiedad = una propiedad de los elementos de la lista\n",
    "    '''\n",
    "    #tu codigo aca:\n",
    "\n",
    "    #for i in range(0,len(array)):\n",
    "    #    array[i].setdefault(propiedad,None)\n",
    "       \n",
    "    array_corrected = [x.setdefault(propiedad,None) for x in array]\n",
    "    \n",
    "        \n",
    "    return array"
   ]
  },
  {
   "cell_type": "code",
   "execution_count": 80,
   "metadata": {},
   "outputs": [],
   "source": [
    "array2 = [{'nombre': 'toni'},{'nombre': 'Emi','edad': 24}]\n",
    "    "
   ]
  },
  {
   "cell_type": "code",
   "execution_count": 81,
   "metadata": {},
   "outputs": [
    {
     "data": {
      "text/plain": [
       "[{'nombre': 'toni', 'edad': None}, {'nombre': 'Emi', 'edad': 24}]"
      ]
     },
     "execution_count": 81,
     "metadata": {},
     "output_type": "execute_result"
    }
   ],
   "source": [
    "agregaRPropiedad(array2,'edad')"
   ]
  },
  {
   "cell_type": "code",
   "execution_count": 82,
   "metadata": {},
   "outputs": [],
   "source": [
    "array3 = [{'nombre': 'toni','edad': '24'},{'edad': '24'}]"
   ]
  },
  {
   "cell_type": "code",
   "execution_count": 83,
   "metadata": {},
   "outputs": [
    {
     "data": {
      "text/plain": [
       "[{'nombre': 'toni', 'edad': '24'}, {'edad': '24', 'nombre': None}]"
      ]
     },
     "execution_count": 83,
     "metadata": {},
     "output_type": "execute_result"
    }
   ],
   "source": [
    "agregaRPropiedad(array3,'nombre')"
   ]
  },
  {
   "cell_type": "code",
   "execution_count": 129,
   "metadata": {},
   "outputs": [],
   "source": [
    "def hayIngredienteMalogrado(menu,comida,ingrediente):\n",
    "    ''' En esta ocasion trabajaras con objetos.\n",
    "    Un ingrediente de cierta comida esta en mal estado, y hay que sacarlo de la receta junto a los que\n",
    "    esten a su lado.\n",
    "    Tu tarea es escribir una funcion que va a recibir un menu, una comida y el ingrediente en cuestion, \n",
    "    y si el ingrediente esta en la comida debes retornar un arreglo con el ingrediente y los dos\n",
    "    elementos mas cercanos a el (con un indice de diferencia, ya sea para atras o para adelante).\n",
    "    Si no encuentra el ingrediente, debe devolver : \"el Menu esta perfecto!\" \n",
    "    Ejemplo:\n",
    "    \n",
    "    let menuDeDia = {raviolesConSalsa: ['Harina', 'sal', 'huevos', 'Aceite', 'Peceto', 'Ricota'],\n",
    "    bagnaCauda:['Ajo','Anchoas','Aceite','Crema','Papas','Zanahorias'], tallarines: ['Harina','Pollo','Aceite','Huevos','Tomates','Cebolla']}\n",
    "    \n",
    "    ingredienteEnMalEstado(menuDelDia,\"raviolesConSalsa\",\"Peceto\")\n",
    "    \n",
    "    deberia retornar: ['Aceite','Peceto','Ricota']\n",
    "    \n",
    "    Descripcion de la funcion:\n",
    "    La funcion ingredienteEnMalEstado debe retornar un arreglo de strings.\n",
    "    La funcion ingredienteEnMalEstado recibe como parametros:\n",
    "    \n",
    "    * menu : objeto\n",
    "    * comida : string\n",
    "    * ingrediente : string\n",
    "    \n",
    "    Aclaraciones:\n",
    "    * NO puedes utilizar el metodo includes()\n",
    "    * Dentro de cada propiedad (cada comida) tenes un arreglo. Podes iterarlo como quieras.\n",
    "    * En caso de no encontrarse el ingrediente en la comida, devolver: \"El menu esta perfecto\".\n",
    "    * Todo lo que imprimas con console.log() se vera en la seccion \"Debug Output'''\n",
    "    #tu codigo aca:\n",
    "    indice = 0\n",
    "    comiDa = menu[comida]\n",
    "    if ingrediente not in comiDa:\n",
    "                print(\"El menu esta perfecto\")\n",
    "    else:\n",
    "        for ingredienTe in comiDa:\n",
    "            if ingredienTe == ingrediente:\n",
    "                indice = int(comiDa.index(ingrediente))\n",
    "                salida = []\n",
    "                for i in range(0,3):\n",
    "                    salida.append(comiDa.pop(indice-1))\n",
    "                return salida       "
   ]
  },
  {
   "cell_type": "code",
   "execution_count": 132,
   "metadata": {},
   "outputs": [],
   "source": [
    "menuDeDia = {'raviolesConSalsa': ['Harina', 'sal', 'huevos', 'Aceite', 'Peceto', 'Ricota'],'bagnaCauda':['Ajo','Anchoas','Aceite','Crema','Papas','Zanahorias'], 'tallarines': ['Harina','Pollo','Aceite','Huevos','Tomates','Cebolla']}"
   ]
  },
  {
   "cell_type": "code",
   "execution_count": 88,
   "metadata": {},
   "outputs": [
    {
     "data": {
      "text/plain": [
       "dict_keys(['raviolesConSalsa', 'bagnaCauda', 'tallarines'])"
      ]
     },
     "execution_count": 88,
     "metadata": {},
     "output_type": "execute_result"
    }
   ],
   "source": [
    "menuDeDia.keys()"
   ]
  },
  {
   "cell_type": "code",
   "execution_count": 90,
   "metadata": {},
   "outputs": [
    {
     "data": {
      "text/plain": [
       "False"
      ]
     },
     "execution_count": 90,
     "metadata": {},
     "output_type": "execute_result"
    }
   ],
   "source": [
    "'Peceto' in menuDeDia.keys()\n"
   ]
  },
  {
   "cell_type": "code",
   "execution_count": 97,
   "metadata": {},
   "outputs": [
    {
     "name": "stdout",
     "output_type": "stream",
     "text": [
      "['Harina', 'sal', 'huevos', 'Aceite', 'Peceto', 'Ricota']\n"
     ]
    }
   ],
   "source": [
    "print(menuDeDia['raviolesConSalsa'])\n"
   ]
  },
  {
   "cell_type": "code",
   "execution_count": 131,
   "metadata": {},
   "outputs": [
    {
     "data": {
      "text/plain": [
       "['Aceite', 'Peceto', 'Ricota']"
      ]
     },
     "execution_count": 131,
     "metadata": {},
     "output_type": "execute_result"
    }
   ],
   "source": [
    "hayIngredienteMalogrado(menuDeDia,'raviolesConSalsa', 'Peceto')"
   ]
  },
  {
   "cell_type": "code",
   "execution_count": 133,
   "metadata": {},
   "outputs": [
    {
     "name": "stdout",
     "output_type": "stream",
     "text": [
      "El menu esta perfecto\n"
     ]
    }
   ],
   "source": [
    "hayIngredienteMalogrado(menuDeDia,'tallarines', 'Peceto')"
   ]
  },
  {
   "cell_type": "code",
   "execution_count": 177,
   "metadata": {},
   "outputs": [],
   "source": [
    "def divisores(numero):\n",
    "    '''Deberas escribir una funcion que reciba un numero y nos retorne un arreglo con los divisores\n",
    "    del numero recibido. En caso de que el numero no tenga divisores (exceptuando el 1 y el mismo numero),\n",
    "    debera retornar \"Es primo\".\n",
    "    Ejemplo:\n",
    "    divisores(15)\n",
    "    debe retornar\n",
    "    [3,5]\n",
    "    \n",
    "    Descripcion de la funcion:\n",
    "    La funcion divisores debe retornar un arreglo de enteros si encuentra divisores del numero recibido.\n",
    "    La funcion disisores debe retornar un string (\"Es Primo\") si no encuentra divisores del numero recibido.\n",
    "    La funcion divisores recibe como parametros:\n",
    "    * numero: numero entero\n",
    "    '''\n",
    "    #tu codigo aca:\n",
    "    salida = []\n",
    "    is_primo = \"Es Primo\"\n",
    "    for i in range(2,numero):\n",
    "        if numero % i == 0:\n",
    "            salida.append(i)\n",
    "    if salida == []:\n",
    "        return is_primo\n",
    "    return salida    \n",
    "        "
   ]
  },
  {
   "cell_type": "code",
   "execution_count": 178,
   "metadata": {},
   "outputs": [
    {
     "data": {
      "text/plain": [
       "[3, 5]"
      ]
     },
     "execution_count": 178,
     "metadata": {},
     "output_type": "execute_result"
    }
   ],
   "source": [
    "divisores(15)\n"
   ]
  },
  {
   "cell_type": "code",
   "execution_count": 179,
   "metadata": {},
   "outputs": [
    {
     "data": {
      "text/plain": [
       "'Es Primo'"
      ]
     },
     "execution_count": 179,
     "metadata": {},
     "output_type": "execute_result"
    }
   ],
   "source": [
    "divisores(7)"
   ]
  },
  {
   "cell_type": "code",
   "execution_count": 180,
   "metadata": {},
   "outputs": [
    {
     "data": {
      "text/plain": [
       "[2, 4, 5, 10]"
      ]
     },
     "execution_count": 180,
     "metadata": {},
     "output_type": "execute_result"
    }
   ],
   "source": [
    "divisores(20)"
   ]
  },
  {
   "cell_type": "code",
   "execution_count": 182,
   "metadata": {},
   "outputs": [],
   "source": [
    "def doblE(arr):\n",
    "    '''Para este ejercicio, deberas escribir una funcion que te permita calcular el doble de muchos\n",
    "    numeros a la vez.\n",
    "    La funcion recibira un arreglo de enteros y retornara un nuevo arreglo de enteros donde\n",
    "    cada elemento es el doble de uno de los elementos del arreglo original.\n",
    "    \n",
    "    Ejemplo:\n",
    "    doble([1,2,3])\n",
    "    deberia devolver [2,4,6]\n",
    "    \n",
    "    Descripcion de la funcion\n",
    "    La funcion doble debe retornar un arreglo de enteros\n",
    "    La funcion doble recibe por parametro un arreglo de numeros enteros.\n",
    "    \n",
    "    Aclaraciones:\n",
    "    * El orden de los elementos del arreglo retornado debe coincidir con el del arreglo recibido.\n",
    "    '''\n",
    "    # tu codigo aca:\n",
    "    #using List Comprehension\n",
    "    \n",
    "    doble = [2*x for x in arr]\n",
    "    return doble"
   ]
  },
  {
   "cell_type": "code",
   "execution_count": 183,
   "metadata": {},
   "outputs": [
    {
     "data": {
      "text/plain": [
       "[2, 4, 6]"
      ]
     },
     "execution_count": 183,
     "metadata": {},
     "output_type": "execute_result"
    }
   ],
   "source": [
    "doblE([1,2,3])"
   ]
  },
  {
   "cell_type": "code",
   "execution_count": 185,
   "metadata": {},
   "outputs": [],
   "source": [
    "#using Map and a lambda funcion\n",
    "def dobLE(arr):\n",
    "    return list(map(lambda x : 2*x,arr))"
   ]
  },
  {
   "cell_type": "code",
   "execution_count": 186,
   "metadata": {},
   "outputs": [
    {
     "data": {
      "text/plain": [
       "[2, 4, 6]"
      ]
     },
     "execution_count": 186,
     "metadata": {},
     "output_type": "execute_result"
    }
   ],
   "source": [
    "dobLE([1,2,3])"
   ]
  },
  {
   "cell_type": "code",
   "execution_count": 190,
   "metadata": {},
   "outputs": [],
   "source": [
    "#using generator expresion\n",
    "def dobLEE(arr):\n",
    "    return list(2*x for x in arr)"
   ]
  },
  {
   "cell_type": "code",
   "execution_count": 191,
   "metadata": {},
   "outputs": [
    {
     "data": {
      "text/plain": [
       "[2, 4, 6]"
      ]
     },
     "execution_count": 191,
     "metadata": {},
     "output_type": "execute_result"
    }
   ],
   "source": [
    "dobLEE([1,2,3])"
   ]
  },
  {
   "cell_type": "code",
   "execution_count": 194,
   "metadata": {},
   "outputs": [],
   "source": [
    "def buscandoaWally(personajes):\n",
    "    '''Como en los clasicos y coloridos libros de nuestra infancia, hoy necesitamos encontrar a \n",
    "    Wally entre muchos otros personajes. \n",
    "    Deberas esccribir una funcion que encuentre el string \"Wally\" dentro de un arreglo, y retorne el string \n",
    "    \"He encontrado a Wally en la posicion X\" donde X sea el indice del arreglo que ocupa \"Wally\".\n",
    "     Por ejemplo:\n",
    "     buscandoaWally(['Dobby', 'Harry','Dementor','Wally','Sirius'])\n",
    "     deberia retornar:\n",
    "     \"He encontrado a Wally en la posicion 3\"\n",
    "          \n",
    "     Descripcion de la funcion\n",
    "     La funcion buscandoaWally debe retornar un string.\n",
    "     La funcion buscandoaWally recibe como parametros:\n",
    "     * personajes: un arreglo de strings\n",
    "     \n",
    "     Aclaraciones:\n",
    "     * Se presupone que el arrgelo siempre va a contener el string \"Wally\"\n",
    "     * Los test son case sensitive - es decir, reconocen diferencias entre mayusculas y minusculas.\n",
    "     Asegurate de respetar la sintaxis exactamente.\n",
    "     '''\n",
    "     \n",
    "     #tu codigo aca:\n",
    "         \n",
    "             \n",
    "    indice = personajes.index('Wally')\n",
    "    print(f\"He encontrado a Wally en la posicion {indice}.\")       "
   ]
  },
  {
   "cell_type": "code",
   "execution_count": 196,
   "metadata": {},
   "outputs": [
    {
     "name": "stdout",
     "output_type": "stream",
     "text": [
      "He encontrado a Wally en la posicion 4.\n"
     ]
    }
   ],
   "source": [
    "buscandoaWally(['Dobby', 'Harry','Dementor','Sirius','Wally'])"
   ]
  },
  {
   "cell_type": "code",
   "execution_count": 202,
   "metadata": {},
   "outputs": [],
   "source": [
    "def estaOffline(usuarios,nombre):\n",
    "    '''La funcion llamada 'estaOffline' recibe como argumento un array de objetos llamado 'usuarios'\n",
    "    y un string llamada 'nombre'.\n",
    "    cada objeto tiene un property 'nombre' que es un string y otra llamada 'online' que es un booleano/\n",
    "    La funcion debe retornar true si el usuario se encuentra offline, de lo contrario false.\n",
    "    Ej:\n",
    "    usuarios = [ {nombre: 'toni', online: True},{nombre: 'Emi',online: True},\n",
    "    {nombre: 'agus', online: False}]\n",
    "    estaOffline(usuarios, 'agus') debe retornar True\n",
    "    estaOffline(usuarios, 'Emi') debe retornar False'''\n",
    "    \n",
    "    # tu codigo aca:\n",
    "    for i in range(0,len(usuarios)):\n",
    "        if (usuarios[i]['nombre']) == nombre:\n",
    "            salida = usuarios[i]['online']\n",
    "    return salida"
   ]
  },
  {
   "cell_type": "code",
   "execution_count": 203,
   "metadata": {},
   "outputs": [],
   "source": [
    "usuarios = [ {'nombre': 'toni', 'online': True},{'nombre': 'Emi','online': True},{'nombre': 'agus', 'online': False}]"
   ]
  },
  {
   "cell_type": "code",
   "execution_count": 199,
   "metadata": {},
   "outputs": [
    {
     "data": {
      "text/plain": [
       "'Emi'"
      ]
     },
     "execution_count": 199,
     "metadata": {},
     "output_type": "execute_result"
    }
   ],
   "source": [
    "usuarios[1]['nombre']"
   ]
  },
  {
   "cell_type": "code",
   "execution_count": 243,
   "metadata": {},
   "outputs": [
    {
     "data": {
      "text/plain": [
       "True"
      ]
     },
     "execution_count": 243,
     "metadata": {},
     "output_type": "execute_result"
    }
   ],
   "source": [
    "estaOffline(usuarios, 'toni')"
   ]
  },
  {
   "cell_type": "code",
   "execution_count": 244,
   "metadata": {},
   "outputs": [
    {
     "data": {
      "text/plain": [
       "True"
      ]
     },
     "execution_count": 244,
     "metadata": {},
     "output_type": "execute_result"
    }
   ],
   "source": [
    "estaOffline(usuarios, 'Emi')"
   ]
  },
  {
   "cell_type": "code",
   "execution_count": 204,
   "metadata": {},
   "outputs": [
    {
     "data": {
      "text/plain": [
       "False"
      ]
     },
     "execution_count": 204,
     "metadata": {},
     "output_type": "execute_result"
    }
   ],
   "source": [
    "estaOffline(usuarios, 'agus')"
   ]
  },
  {
   "cell_type": "code",
   "execution_count": 215,
   "metadata": {},
   "outputs": [],
   "source": [
    "def actividadesEnComun(per1,per2):\n",
    "    '''La funcion llamada 'actividadesEnComun'recibe como argumento dos arrays de actividades (strings)\n",
    "    llamados 'persona1' y 'persona2'\n",
    "    y debe devolver un array de strings con las actividades en comun (aquellos que se repiten)\n",
    "    entre cada array.\n",
    "    EJ;\n",
    "        persona1 = ['leer',çomer','pasear','dormir','jugar']\n",
    "        persona2 = ['comer','dormir','futbol']\n",
    "        actividadesEnComun(persona1,persona2) => ['comer','dormir']\n",
    "        \n",
    "        Tip: podes usar ciclos for anidados.'''\n",
    "        \n",
    "        #tu codigo aca:\n",
    "    salida = []\n",
    "    \n",
    "    for i in range(0,len(per1)):\n",
    "        if per1[i] in per2:\n",
    "            salida.append(per1[i])\n",
    "    return salida"
   ]
  },
  {
   "cell_type": "code",
   "execution_count": 216,
   "metadata": {},
   "outputs": [],
   "source": [
    "persona1 = ['leer', 'comer','pasear','dormir','jugar']\n",
    "persona2 = ['comer','dormir','futbol']"
   ]
  },
  {
   "cell_type": "code",
   "execution_count": 217,
   "metadata": {},
   "outputs": [
    {
     "data": {
      "text/plain": [
       "['comer', 'dormir']"
      ]
     },
     "execution_count": 217,
     "metadata": {},
     "output_type": "execute_result"
    }
   ],
   "source": [
    "actividadesEnComun(persona1,persona2)"
   ]
  },
  {
   "cell_type": "code",
   "execution_count": 227,
   "metadata": {},
   "outputs": [],
   "source": [
    "def buscaDestruye(arreglo,num):\n",
    "    '''la funcion 'buscaDestruye'recibe como argumento un array de enteros 'arreglo' y un entero 'num'\n",
    "    Esta funcion tiene que eliminar los numeros del array que coincidan con el numero recibido como argumento.\n",
    "    La funcion debe retornar el array sin los numeros sacados.\n",
    "    Ej:\n",
    "    buscaDestruye([1,2,3,4],2) devuelve => [1,3,4]\n",
    "    Nota: SI el numero se repite mas de una vez, tambien hay que eliminarlo.\n",
    "    Ej: buscaDestruye([1,2,3,4,1],1) => devuelve [2,3,4]'''\n",
    "    \n",
    "    #tu codigo aca:\n",
    "    cantidad = arreglo.count(num)\n",
    "    \n",
    "    for i in range(0,cantidad):\n",
    "        arreglo.remove(num)\n",
    "    return arreglo"
   ]
  },
  {
   "cell_type": "code",
   "execution_count": 229,
   "metadata": {},
   "outputs": [
    {
     "data": {
      "text/plain": [
       "[1, 3, 4]"
      ]
     },
     "execution_count": 229,
     "metadata": {},
     "output_type": "execute_result"
    }
   ],
   "source": [
    "buscaDestruye([1,2,3,4],2)"
   ]
  },
  {
   "cell_type": "code",
   "execution_count": 228,
   "metadata": {},
   "outputs": [],
   "source": [
    "arreglo = [1,2,3,4,1]"
   ]
  },
  {
   "cell_type": "code",
   "execution_count": 230,
   "metadata": {},
   "outputs": [
    {
     "data": {
      "text/plain": [
       "[2, 3, 4]"
      ]
     },
     "execution_count": 230,
     "metadata": {},
     "output_type": "execute_result"
    }
   ],
   "source": [
    "buscaDestruye([1,2,3,4,1],1)"
   ]
  },
  {
   "cell_type": "code",
   "execution_count": 236,
   "metadata": {},
   "outputs": [],
   "source": [
    "def buscADestruye(arr,num):\n",
    "    salida = list(filter(lambda x: x != num,arr))\n",
    "    return salida"
   ]
  },
  {
   "cell_type": "code",
   "execution_count": 237,
   "metadata": {},
   "outputs": [
    {
     "data": {
      "text/plain": [
       "[2, 3, 4]"
      ]
     },
     "execution_count": 237,
     "metadata": {},
     "output_type": "execute_result"
    }
   ],
   "source": [
    "buscADestruye(arreglo,1)"
   ]
  },
  {
   "cell_type": "code",
   "execution_count": 239,
   "metadata": {},
   "outputs": [],
   "source": [
    "def sumarElTipo(arreglo):\n",
    "    ''' La funcion llamada 'sumaElTipo' recibe un array de strings como argumento que cotiene tipos de \n",
    "    vehiculos y debe devolver un objeto con la cantidad de veces que se repita cada tipo.\n",
    "    El objeto que devuelve tiene como propiedades el nombre de cada vehiculo y su valor es la \n",
    "    cantidad de veces que se repite.\n",
    "    \n",
    "    EJ:\n",
    "    sumarElTipo(['auto', 'moto','auto']): debe retornar => {auto: 2, moto: 1 }\n",
    "    Tip: podes usar el ciclo for o el metodo de Array 'reduce'.\n",
    "    '''\n",
    "    #tu codigo aca:\n",
    "    salida = {}\n",
    "    for a in arreglo:\n",
    "        cant = arreglo.count(a)\n",
    "        salida[a] = cant\n",
    "    return salida"
   ]
  },
  {
   "cell_type": "code",
   "execution_count": 238,
   "metadata": {},
   "outputs": [],
   "source": [
    "arreglo = ['auto', 'moto','auto', 'barco', 'avion', 'moto', 'moto', 'moto']"
   ]
  },
  {
   "cell_type": "code",
   "execution_count": 240,
   "metadata": {},
   "outputs": [
    {
     "data": {
      "text/plain": [
       "{'auto': 2, 'moto': 1}"
      ]
     },
     "execution_count": 240,
     "metadata": {},
     "output_type": "execute_result"
    }
   ],
   "source": [
    "sumarElTipo(['auto', 'moto','auto'])"
   ]
  },
  {
   "cell_type": "code",
   "execution_count": 241,
   "metadata": {},
   "outputs": [
    {
     "data": {
      "text/plain": [
       "{'auto': 2, 'moto': 4, 'barco': 1, 'avion': 1}"
      ]
     },
     "execution_count": 241,
     "metadata": {},
     "output_type": "execute_result"
    }
   ],
   "source": [
    "sumarElTipo(arreglo)"
   ]
  },
  {
   "cell_type": "code",
   "execution_count": 22,
   "metadata": {},
   "outputs": [],
   "source": [
    "def crearClaseEmprendedor(nombre,apellido,libros,mascotas):\n",
    "    class Emprendedor:\n",
    "        '''el constructor de la clase Emprendedor recibe nombre (string), apellido (string), libros\n",
    "        (array de objetos), mascotas (array de strings)\n",
    "        Inicializar las propiedades del emprendedor con los valores recibidos como argumento'''\n",
    "        #tu codigo aca:\n",
    "        def __init__(self,nombre,apellido,libros,mascotas):\n",
    "            self.nombre = nombre\n",
    "            self.apellido = apellido\n",
    "            if libros == []:\n",
    "                self.libros = []\n",
    "            else:\n",
    "                self.libros = libros\n",
    "            if mascotas == []:\n",
    "                self.mascotas = []\n",
    "            else: \n",
    "                self.mascotas = mascotas\n",
    "            \n",
    "        def addMascota(self,mascota):\n",
    "            '''este metodo debe agregar una mascota (mascota) al arreglo de mascotas del emprendedor.\n",
    "            no debe retornar nada'''\n",
    "            #tu codigo aca:\n",
    "            \n",
    "            self.mascotas.append(mascota)\n",
    "            \n",
    "        def getMascotas(self):\n",
    "            '''El metodo 'getMascotas' debe retornar la cantidad de mascotas que tiene el emprendedor.\n",
    "            EJ:\n",
    "            Suponiendo que el emprendedor tiene estas mascotas: ['perro','gato']\n",
    "            emprendedor.getMascotas() deberia devolver 2'''\n",
    "            \n",
    "            #tu codigo aca:\n",
    "            print(self.mascotas)\n",
    "            return len(self.mascotas)\n",
    "        \n",
    "        def addBook(self,book,autor):\n",
    "            ''' Este metodo 'addBook' recibe un string 'book' y un string 'autor' y debe agregar un objeto:\n",
    "            {nombre: book, autor: autor} al arreglo de libros del emprendedor.\n",
    "            No debe retornar nada.'''\n",
    "            \n",
    "            #tu codigo aca:\n",
    "            self.libros.append({'nombre': book, 'author': autor})\n",
    "        \n",
    "        def getBooks(self):\n",
    "            ''' este metodo 'getBooks' debe retornar un arreglo con solo los nombres del arreglo de libros\n",
    "            del emprendedor.\n",
    "            Ej:\n",
    "            Suponiendo que el emprendedor tiene estos libros: \n",
    "            [{nombre: 'El senor de las moscas', autor: 'William Golding'},\n",
    "            {nombre: 'Fundacion', autor: 'Isacc Asimov'}]\n",
    "            \n",
    "            emprendedor.getBooks() deberia retornar ['El senor de las moscas', 'Fundacion' ]'''\n",
    "            #tu codigo aca:\n",
    "            salida = []\n",
    "            for libros in self.libros:\n",
    "                salida.append(libros['nombre'])\n",
    "            return salida\n",
    "            \n",
    "        def getFullName(self):\n",
    "            '''el metodo 'getFullName' debe retornar un string con el nombre y apellido del emprendedor\n",
    "            Ej:\n",
    "            Suponiendo que el emprendedor tiene: nombre 'Elon' y apellido: 'Musk'\n",
    "            emprendedor.getFullName() deberia retornar 'Elon Musk' '''\n",
    "            #tu codigo aca:\n",
    "            \n",
    "            return f'{self.nombre} {self.apellido}'\n",
    "        \n",
    "    emprendedor = Emprendedor(nombre,apellido,libros,mascotas)\n",
    "    return emprendedor"
   ]
  },
  {
   "cell_type": "code",
   "execution_count": 17,
   "metadata": {},
   "outputs": [],
   "source": [
    "emprendedor1 = crearClaseEmprendedor('Elon', 'Musk', [{'nombre': 'El senor de las moscas', 'autor': 'William Golding'},\n",
    "            {'nombre': 'Fundacion', 'autor': 'Isacc Asimov'}],['perro','gato','hamster'])"
   ]
  },
  {
   "cell_type": "code",
   "execution_count": 18,
   "metadata": {},
   "outputs": [],
   "source": [
    "emprendedor1.addMascota('raton')"
   ]
  },
  {
   "cell_type": "code",
   "execution_count": 23,
   "metadata": {},
   "outputs": [
    {
     "name": "stdout",
     "output_type": "stream",
     "text": [
      "['perro', 'gato', 'hamster', 'raton']\n"
     ]
    },
    {
     "data": {
      "text/plain": [
       "4"
      ]
     },
     "execution_count": 23,
     "metadata": {},
     "output_type": "execute_result"
    }
   ],
   "source": [
    "emprendedor1.getMascotas()"
   ]
  },
  {
   "cell_type": "code",
   "execution_count": 26,
   "metadata": {},
   "outputs": [
    {
     "data": {
      "text/plain": [
       "['El senor de las moscas', 'Fundacion', 'Twilingt']"
      ]
     },
     "execution_count": 26,
     "metadata": {},
     "output_type": "execute_result"
    }
   ],
   "source": [
    "emprendedor1.getBooks()"
   ]
  },
  {
   "cell_type": "code",
   "execution_count": 25,
   "metadata": {},
   "outputs": [],
   "source": [
    "emprendedor1.addBook( 'Twilingt','Stephanie Meyer')"
   ]
  },
  {
   "cell_type": "code",
   "execution_count": 27,
   "metadata": {},
   "outputs": [
    {
     "data": {
      "text/plain": [
       "['El senor de las moscas', 'Fundacion', 'Twilingt']"
      ]
     },
     "execution_count": 27,
     "metadata": {},
     "output_type": "execute_result"
    }
   ],
   "source": [
    "emprendedor1.getBooks()"
   ]
  },
  {
   "cell_type": "code",
   "execution_count": 28,
   "metadata": {},
   "outputs": [
    {
     "data": {
      "text/plain": [
       "'Elon Musk'"
      ]
     },
     "execution_count": 28,
     "metadata": {},
     "output_type": "execute_result"
    }
   ],
   "source": [
    "emprendedor1.getFullName()"
   ]
  },
  {
   "cell_type": "code",
   "execution_count": 260,
   "metadata": {},
   "outputs": [],
   "source": [
    "books = [{'nombre': 'El senor de las moscas', 'autor': 'William Golding'},{'nombre': 'Fundacion', 'autor': 'Isacc Asimov'}]"
   ]
  },
  {
   "cell_type": "code",
   "execution_count": 261,
   "metadata": {},
   "outputs": [
    {
     "data": {
      "text/plain": [
       "'El senor de las moscas'"
      ]
     },
     "execution_count": 261,
     "metadata": {},
     "output_type": "execute_result"
    }
   ],
   "source": [
    "books[0]['nombre']"
   ]
  },
  {
   "cell_type": "code",
   "execution_count": 268,
   "metadata": {},
   "outputs": [
    {
     "data": {
      "text/plain": [
       "['El senor de las moscas', 'Fundacion']"
      ]
     },
     "execution_count": 268,
     "metadata": {},
     "output_type": "execute_result"
    }
   ],
   "source": [
    "salida = []\n",
    "for libros in books:\n",
    "    salida.append(libros['nombre'])\n",
    "salida"
   ]
  },
  {
   "cell_type": "code",
   "execution_count": 33,
   "metadata": {},
   "outputs": [],
   "source": [
    "def palabrasAFrase(array):\n",
    "    '''la funcion llamada recibe como argumento un arreglo de 'string' y debe devolver un 'string'\n",
    "    armando la frase.\n",
    "    Ej: \n",
    "    palabrasAFrase(['Dobby','loves', 'socks!']) debe retornar 'Dobby loves socks!'\n",
    "    \n",
    "    sin espacio ni antes ni despues es decir asi no => \" Dobby loves socks! \"\n",
    "    '''\n",
    "    #tu codigo aca:\n",
    "    \n",
    "    x = \" \".join(array)\n",
    "    return x"
   ]
  },
  {
   "cell_type": "code",
   "execution_count": 34,
   "metadata": {},
   "outputs": [
    {
     "data": {
      "text/plain": [
       "'Dobby loves socks!'"
      ]
     },
     "execution_count": 34,
     "metadata": {},
     "output_type": "execute_result"
    }
   ],
   "source": [
    "palabrasAFrase(['Dobby','loves', 'socks!'])"
   ]
  },
  {
   "cell_type": "code",
   "execution_count": 71,
   "metadata": {},
   "outputs": [],
   "source": [
    "def cuantosMenores(invitados):\n",
    "    '''La funcion llamada recibe como argumento un objeto 'invitados', en el objeto\n",
    "    tenemos objetos que representan invitados a una fiesta en donde todos tienen una propiedad edad\n",
    "    debe retornar la cantidad de invitados que son menores de 18.\n",
    "    Ej:\n",
    "    \n",
    "    invitados = {Luna: {edad:25}, Sebas: {edad: 7}, Marce: {edad: 34}, Nicky: {edad: 15}}\n",
    "    \n",
    "    cuantosMenores(invitados) debe retornar 2.'''\n",
    "    # tu codigo aca:\n",
    "       \n",
    "    cuantosmenores = 0\n",
    "    for invitado in invitados:\n",
    "        if invitados[invitado]['edad']<18:\n",
    "            cuantosmenores = cuantosmenores +1\n",
    "    return cuantosmenores "
   ]
  },
  {
   "cell_type": "code",
   "execution_count": 57,
   "metadata": {},
   "outputs": [],
   "source": [
    "invitados = {'Luna': {'edad':25}, 'Sebas': {'edad': 7}, 'Marce': {'edad': 34}, 'Nicky': {'edad': 15}}"
   ]
  },
  {
   "cell_type": "code",
   "execution_count": 46,
   "metadata": {},
   "outputs": [
    {
     "data": {
      "text/plain": [
       "25"
      ]
     },
     "execution_count": 46,
     "metadata": {},
     "output_type": "execute_result"
    }
   ],
   "source": [
    "invitados['Luna']['edad']"
   ]
  },
  {
   "cell_type": "code",
   "execution_count": 58,
   "metadata": {},
   "outputs": [
    {
     "data": {
      "text/plain": [
       "2"
      ]
     },
     "execution_count": 58,
     "metadata": {},
     "output_type": "execute_result"
    }
   ],
   "source": [
    "cuantosMenores(invitados)"
   ]
  },
  {
   "cell_type": "code",
   "execution_count": 67,
   "metadata": {},
   "outputs": [
    {
     "data": {
      "text/plain": [
       "2"
      ]
     },
     "execution_count": 67,
     "metadata": {},
     "output_type": "execute_result"
    }
   ],
   "source": [
    "sum = 0\n",
    "for x in invitados:\n",
    "    if invitados[x]['edad']< 18:\n",
    "        sum = 1 +sum\n",
    "sum"
   ]
  },
  {
   "cell_type": "code",
   "execution_count": 73,
   "metadata": {},
   "outputs": [],
   "source": [
    "def fakeBinary2(string):\n",
    "    '''la funcion llamada 'fakeBinary2' recibe como argumento un string con numeros\n",
    "    y debe devolver un string en donde se reemplaza los numeros menores de 5 con un '0' \n",
    "    y los mayores o iguales a 5 con un 1.\n",
    "    por Ej:\n",
    "    \n",
    "    fakeBinary2('5627')     devuelve '1101' \n",
    "    fakeBinary2('729')      devuelve '101'          '''\n",
    "    #tu codigo aca:\n",
    "    a = list(string)\n",
    "    new_string = []\n",
    "    for element in a:\n",
    "        if int(element)>= 5:\n",
    "            new_string.append('1')\n",
    "        else:\n",
    "            new_string.append('0')\n",
    "    salida = \"\".join(new_string)\n",
    "    return salida"
   ]
  },
  {
   "cell_type": "code",
   "execution_count": 74,
   "metadata": {},
   "outputs": [
    {
     "data": {
      "text/plain": [
       "'1101'"
      ]
     },
     "execution_count": 74,
     "metadata": {},
     "output_type": "execute_result"
    }
   ],
   "source": [
    "fakeBinary2('5627')"
   ]
  },
  {
   "cell_type": "code",
   "execution_count": 75,
   "metadata": {},
   "outputs": [
    {
     "data": {
      "text/plain": [
       "'101'"
      ]
     },
     "execution_count": 75,
     "metadata": {},
     "output_type": "execute_result"
    }
   ],
   "source": [
    "fakeBinary2('729')"
   ]
  },
  {
   "cell_type": "code",
   "execution_count": 100,
   "metadata": {},
   "outputs": [],
   "source": [
    "def pedirComida(array):\n",
    "    '''la funcion reccibe un array de objetos en donde se detalla el nombre y tipo de dieta\n",
    "    de los integrantes de un meeting.\n",
    "    debe retornar un objeto que diga cuantos menus de que tipo de dieta hay que pedir\n",
    "    (a fines practivos solo hay dieta 'standard' y 'vegana')\n",
    "    Por ejemplo:\n",
    "    pedirComida([{nombre: 'Harry', dieta: 'standard'}, {nombre: 'Luna', dieta: 'vegana'}, \n",
    "    {nombre: 'Goyle', dieta: 'standard'}])\n",
    "    debe retornar => {standard : 2, vegana: 1}\n",
    "    '''\n",
    "    #tu codigo aca:\n",
    "    \n",
    "    menus = []\n",
    "    for j in range(0,len(array)):\n",
    "        menus.append(array[j]['dieta'])\n",
    "    salida = {}\n",
    "    for a in menus:\n",
    "        cant = menus.count(a)\n",
    "        salida[a] = cant\n",
    "    return salida"
   ]
  },
  {
   "cell_type": "code",
   "execution_count": 92,
   "metadata": {},
   "outputs": [],
   "source": [
    "invitadoS = [{'nombre': 'Harry', 'dieta': 'standard'}, {'nombre': 'Luna', 'dieta': 'vegana'}, {'nombre': 'Goyle', 'dieta': 'standard'}]"
   ]
  },
  {
   "cell_type": "code",
   "execution_count": 101,
   "metadata": {},
   "outputs": [
    {
     "data": {
      "text/plain": [
       "{'standard': 2, 'vegana': 1}"
      ]
     },
     "execution_count": 101,
     "metadata": {},
     "output_type": "execute_result"
    }
   ],
   "source": [
    "pedirComida([{'nombre': 'Harry', 'dieta': 'standard'}, {'nombre': 'Luna', 'dieta': 'vegana'}, {'nombre': 'Goyle', 'dieta': 'standard'}])"
   ]
  },
  {
   "cell_type": "code",
   "execution_count": 77,
   "metadata": {},
   "outputs": [
    {
     "data": {
      "text/plain": [
       "'standard'"
      ]
     },
     "execution_count": 77,
     "metadata": {},
     "output_type": "execute_result"
    }
   ],
   "source": [
    "invitadoS[0]['dieta']"
   ]
  },
  {
   "cell_type": "code",
   "execution_count": 96,
   "metadata": {},
   "outputs": [],
   "source": [
    "arrays = invitadoS"
   ]
  }
 ],
 "metadata": {
  "kernelspec": {
   "display_name": "Python 3",
   "language": "python",
   "name": "python3"
  },
  "language_info": {
   "codemirror_mode": {
    "name": "ipython",
    "version": 3
   },
   "file_extension": ".py",
   "mimetype": "text/x-python",
   "name": "python",
   "nbconvert_exporter": "python",
   "pygments_lexer": "ipython3",
   "version": "3.11.5"
  }
 },
 "nbformat": 4,
 "nbformat_minor": 2
}

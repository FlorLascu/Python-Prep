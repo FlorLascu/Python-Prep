{
 "cells": [
  {
   "cell_type": "code",
   "execution_count": 2,
   "metadata": {},
   "outputs": [],
   "source": [
    "def trianguloRectangulo(a,b,c):\n",
    "    '''Escribe una funcion que identifique, a partir de la medida de los lados de un triangulo, si este es rectangulo o no.\n",
    "    trianguloRectangulo recibira como argumentos el valor en cm de los lados de un triangulo (a y b son los catetos), y dadods estos valores,\n",
    "    debera retornar  True si en efecto conforman un triangulo rectangulo o False en caso contrario.\n",
    "    \n",
    "    ej:\n",
    "    trianguloRectangulo(3,4,5) -> debe retornar True\n",
    "    \n",
    "    Descripcion de la funcion trianguloRectangulo\n",
    "    Debe retornar un valor booleano.\n",
    "    Recibe como parametros:\n",
    "    a (int) valor en cm de un cateto\n",
    "    b (int) valor en cm de un cateto\n",
    "    c (int) valor en cm de la hipotenusa\n",
    "    Aclaraciones:\n",
    "    Puedes asumir que siempre recibiras los tres parametros, y que siempre sera del tipo int\n",
    "    '''\n",
    "\n",
    "    #tu codigo aca:\n",
    "\n",
    "    A = a**2\n",
    "    B = b**2\n",
    "    C = c**2\n",
    "    esrectangulo =  False\n",
    "    if A + B == C:\n",
    "        esrectangulo= True\n",
    "    else:\n",
    "        esrectangulo = False\n",
    "    \n",
    "    return esrectangulo\n",
    "    \n",
    "\n"
   ]
  },
  {
   "cell_type": "code",
   "execution_count": 3,
   "metadata": {},
   "outputs": [
    {
     "data": {
      "text/plain": [
       "True"
      ]
     },
     "execution_count": 3,
     "metadata": {},
     "output_type": "execute_result"
    }
   ],
   "source": [
    "trianguloRectangulo(3,4,5)\n",
    "    "
   ]
  }
 ],
 "metadata": {
  "kernelspec": {
   "display_name": "Python 3",
   "language": "python",
   "name": "python3"
  },
  "language_info": {
   "codemirror_mode": {
    "name": "ipython",
    "version": 3
   },
   "file_extension": ".py",
   "mimetype": "text/x-python",
   "name": "python",
   "nbconvert_exporter": "python",
   "pygments_lexer": "ipython3",
   "version": "3.11.5"
  },
  "orig_nbformat": 4
 },
 "nbformat": 4,
 "nbformat_minor": 2
}

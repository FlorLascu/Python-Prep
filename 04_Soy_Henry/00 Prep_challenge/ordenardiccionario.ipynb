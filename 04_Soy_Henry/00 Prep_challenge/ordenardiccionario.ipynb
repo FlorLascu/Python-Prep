{
 "cells": [
  {
   "cell_type": "code",
   "execution_count": 33,
   "metadata": {},
   "outputs": [],
   "source": [
    "def ordenarDiccionario(diccionario,clave,ascendente=True):\n",
    "    '''Esta funcion recibe como parametros un diccionario, cuyas listas de valores tienen el mismo tamano y sus elementos\n",
    "    enesimos estan asociados. Y otros parametros que indican la clave por la cual debe ordenarse y si es descendente o ascendente.\n",
    "    \n",
    "    la Funcion debe devolver el diccionario ordenado, teniendo en cuenta de no perder la relacion entre los elementos enesimos.\n",
    "    Recibe tres argumentos :\n",
    "        diccionario:        Diccionario a ordenar\n",
    "        clave:              Clave del diccionario recibido por la cual se solicita ordenar\n",
    "        ordenamiento ascendente True \n",
    "        y ascendente si es False\n",
    "        \n",
    "        Debe tratarse de un parametro por defecto True\n",
    "        \n",
    "        Si el parametro diccionario no es un tipo de dato diccionario o el parametro clave  no se encuentra dentro de las claves del diccionario\n",
    "         , debe devolver nulo\n",
    "          Ej:\n",
    "          \n",
    "           dicc={'clave1': ['c','a','b'],\n",
    "                'clave2': ['casa', 'auto', 'barco'],\n",
    "                 'clave3': [1,2,3]} \n",
    "            ordenarDiccionario(dicc,'clave1')\n",
    "            \n",
    "            Debe retornar: {'clave1':['a','b','c'], 'clave2': ['auto','barco','casa]','clave3': [2,3,1]}\n",
    "            \n",
    "            ordenarDiccionario(dicc,'clave3',False)\n",
    "\n",
    "            Debe retornar:\n",
    "\n",
    "            Debe retornar: {'clave1':['b','a','c'], 'clave2': ['barco','auto','casa']','clave3': [3,2,1]}\n",
    "            '''\n",
    "    #tu codigo aca:\n",
    "    NO=[]\n",
    "    if not (isinstance(diccionario,dict)):\n",
    "        return NO\n",
    "    listakeys = list(diccionario.keys())\n",
    "    if clave not in listakeys:\n",
    "        return NO\n",
    "    \n",
    "    #if (len(diccionario[list(diccionario.keys())[0]]))>0:\n",
    "    \n",
    "    cant_elementos = len(diccionario[list(diccionario.keys())[0]])\n",
    "    \n",
    "    #convertimos el diccionario de listas a una lista de diccionarios:\n",
    "    lista_dicc=[]\n",
    "    for i in range(0,cant_elementos):\n",
    "        claves_dicc = {}\n",
    "        for j in diccionario:\n",
    "            claves_dicc[j]=diccionario[j][i] #para cada elemento de cada lista de diccionario, le asigna la clave correspondiente\n",
    "        lista_dicc.append(claves_dicc)\n",
    "    print(lista_dicc)\n",
    "\n",
    "    #ordenamos\n",
    "\n",
    "    new_dic_ordenado = sorted(lista_dicc,key=lambda d: d[clave],reverse=not(ascendente))\n",
    "    \n",
    "    #convertimos la lista de diccionarios, en un diccionario de listas:\n",
    "    salida={}\n",
    "    for j in diccionario:\n",
    "        lista_ordenada=[]\n",
    "        for i in range(0,cant_elementos):\n",
    "            lista_ordenada.append(new_dic_ordenado[i][j])\n",
    "            salida[j]=lista_ordenada\n",
    "\n",
    "    # si no tienen valores devolvemos el mismo diccionario\n",
    "    return salida"
   ]
  },
  {
   "cell_type": "code",
   "execution_count": 36,
   "metadata": {},
   "outputs": [],
   "source": [
    "dicc={'clave1': ['c','a','b','d'],'clave2': ['casa', 'auto', 'barco','avion'],'clave3': [1,2,3,4]} #diccionario de listas"
   ]
  },
  {
   "cell_type": "code",
   "execution_count": 110,
   "metadata": {},
   "outputs": [
    {
     "ename": "KeyError",
     "evalue": "2",
     "output_type": "error",
     "traceback": [
      "\u001b[1;31m---------------------------------------------------------------------------\u001b[0m",
      "\u001b[1;31mKeyError\u001b[0m                                  Traceback (most recent call last)",
      "\u001b[1;32mc:\\Users\\Florencia\\Desktop\\Python-Prep\\Carpeta Nueva\\ordenardiccionario.ipynb Celda 3\u001b[0m line \u001b[0;36m1\n\u001b[1;32m----> <a href='vscode-notebook-cell:/c%3A/Users/Florencia/Desktop/Python-Prep/Carpeta%20Nueva/ordenardiccionario.ipynb#X40sZmlsZQ%3D%3D?line=0'>1</a>\u001b[0m list_dicc[\u001b[39m2\u001b[39;49m][\u001b[39m2\u001b[39;49m]\n",
      "\u001b[1;31mKeyError\u001b[0m: 2"
     ]
    }
   ],
   "source": [
    "list_dicc"
   ]
  },
  {
   "cell_type": "code",
   "execution_count": 99,
   "metadata": {},
   "outputs": [
    {
     "name": "stdout",
     "output_type": "stream",
     "text": [
      "dict_keys(['clave1', 'clave2', 'clave3'])\n",
      "['clave1', 'clave2', 'clave3']\n"
     ]
    },
    {
     "data": {
      "text/plain": [
       "['c', 'a', 'b', 'd']"
      ]
     },
     "execution_count": 99,
     "metadata": {},
     "output_type": "execute_result"
    }
   ],
   "source": [
    "print(dicc.keys())\n",
    "print(list(dicc.keys()))\n",
    "\n",
    "dicc[list(dicc.keys())[0]]\n"
   ]
  },
  {
   "cell_type": "code",
   "execution_count": 87,
   "metadata": {},
   "outputs": [
    {
     "name": "stdout",
     "output_type": "stream",
     "text": [
      "4\n"
     ]
    }
   ],
   "source": [
    "cant_elementos = len(dicc[list(dicc.keys())[0]])\n",
    "print(cant_elementos)"
   ]
  },
  {
   "cell_type": "code",
   "execution_count": 120,
   "metadata": {},
   "outputs": [],
   "source": [
    "dicc={'clave1': ['c','a','b','d'],'clave2': ['casa', 'auto', 'barco','avion'],'clave3': [1,2,3,4]}\n",
    "cant_elementos=len(dicc[list(dicc.keys())[0]])\n",
    "list_dicc=[]\n",
    "for k in range(0,cant_elementos):\n",
    "    claves_dicc={}\n",
    "    for j in dicc:\n",
    "        claves_dicc[j]=dicc[j][k]\n",
    "    list_dicc.append(claves_dicc)\n"
   ]
  },
  {
   "cell_type": "code",
   "execution_count": 70,
   "metadata": {},
   "outputs": [
    {
     "name": "stdout",
     "output_type": "stream",
     "text": [
      "[{'clave1': 'd', 'clave2': 'avion', 'clave3': 4}, {'clave1': 'c', 'clave2': 'casa', 'clave3': 1}, {'clave1': 'b', 'clave2': 'barco', 'clave3': 3}, {'clave1': 'a', 'clave2': 'auto', 'clave3': 2}]\n"
     ]
    }
   ],
   "source": [
    "sorted_list = sorted(list_dicc, key=lambda x: x['clave1'],reverse=True)\n",
    "print(sorted_list)"
   ]
  },
  {
   "cell_type": "code",
   "execution_count": 71,
   "metadata": {},
   "outputs": [],
   "source": [
    "import operator"
   ]
  },
  {
   "cell_type": "code",
   "execution_count": 101,
   "metadata": {},
   "outputs": [
    {
     "name": "stdout",
     "output_type": "stream",
     "text": [
      "[{'clave1': 'd', 'clave2': 'avion', 'clave3': 4}, {'clave1': 'c', 'clave2': 'casa', 'clave3': 1}, {'clave1': 'b', 'clave2': 'barco', 'clave3': 3}, {'clave1': 'a', 'clave2': 'auto', 'clave3': 2}]\n"
     ]
    }
   ],
   "source": [
    "clave='clave1'\n",
    "sorted_list = sorted(list_dicc, key=operator.itemgetter(clave),reverse=True)\n",
    "print(sorted_list)"
   ]
  },
  {
   "cell_type": "code",
   "execution_count": 38,
   "metadata": {},
   "outputs": [
    {
     "data": {
      "text/plain": [
       "4"
      ]
     },
     "execution_count": 38,
     "metadata": {},
     "output_type": "execute_result"
    }
   ],
   "source": [
    "def value_getter(clave):\n",
    "    return dicc(clave)\n",
    "clave='clave1'\n",
    "sorted_list = sorted(list_dicc, key=operator.itemgetter(clave),reverse=True)\n",
    "print(sorted_list)"
   ]
  },
  {
   "cell_type": "code",
   "execution_count": 25,
   "metadata": {},
   "outputs": [
    {
     "name": "stdout",
     "output_type": "stream",
     "text": [
      "3\n"
     ]
    }
   ],
   "source": [
    "cant_elementos = len(list(dicc.values()))\n",
    "print(cant_elementos)"
   ]
  },
  {
   "cell_type": "code",
   "execution_count": 20,
   "metadata": {},
   "outputs": [
    {
     "name": "stdout",
     "output_type": "stream",
     "text": [
      "4\n"
     ]
    }
   ],
   "source": [
    "cant_claves = len(dicc[list(dicc.keys())[0]])\n",
    "print(cant_claves)"
   ]
  },
  {
   "cell_type": "code",
   "execution_count": 4,
   "metadata": {},
   "outputs": [
    {
     "name": "stdout",
     "output_type": "stream",
     "text": [
      "[{'clave1': 'c', 'clave2': 'casa', 'clave3': 1}, {'clave1': 'a', 'clave2': 'auto', 'clave3': 2}, {'clave1': 'b', 'clave2': 'barco', 'clave3': 3}]\n"
     ]
    },
    {
     "data": {
      "text/plain": [
       "{'clave1': ['b', 'a', 'c'],\n",
       " 'clave2': ['barco', 'auto', 'casa'],\n",
       " 'clave3': [3, 2, 1]}"
      ]
     },
     "execution_count": 4,
     "metadata": {},
     "output_type": "execute_result"
    }
   ],
   "source": [
    "ordenarDiccionario(dicc,\"clave3\",False)"
   ]
  },
  {
   "cell_type": "code",
   "execution_count": 65,
   "metadata": {},
   "outputs": [
    {
     "data": {
      "text/plain": [
       "[]"
      ]
     },
     "execution_count": 65,
     "metadata": {},
     "output_type": "execute_result"
    }
   ],
   "source": [
    "ordenarDiccionario(dicc,'clave4',False)"
   ]
  },
  {
   "cell_type": "code",
   "execution_count": 13,
   "metadata": {},
   "outputs": [
    {
     "name": "stdout",
     "output_type": "stream",
     "text": [
      "[{'clave1': 'c', 'clave2': 'casa', 'clave3': '1'}, {'clave1': 'a', 'clave2': 'auto', 'clave3': '2'}, {'clave1': 'b', 'clave2': 'barco', 'clave3': '3'}]\n"
     ]
    },
    {
     "data": {
      "text/plain": [
       "{'clave1': ['c', 'b', 'a'],\n",
       " 'clave2': ['casa', 'barco', 'auto'],\n",
       " 'clave3': ['1', '3', '2']}"
      ]
     },
     "execution_count": 13,
     "metadata": {},
     "output_type": "execute_result"
    }
   ],
   "source": [
    "ordenarDiccionario(dicc2,'clave2',False)"
   ]
  },
  {
   "cell_type": "code",
   "execution_count": 59,
   "metadata": {},
   "outputs": [],
   "source": [
    "dicc2={'clave1': ['c','a','b','d'],'clave2': ['casa', 'auto', 'barco','avion'],'clave3': ['1','2','3','4']} "
   ]
  },
  {
   "cell_type": "code",
   "execution_count": 130,
   "metadata": {},
   "outputs": [
    {
     "data": {
      "text/plain": [
       "[{'clave1': 'd', 'clave2': 'avion', 'clave3': 4},\n",
       " {'clave1': 'c', 'clave2': 'casa', 'clave3': 1},\n",
       " {'clave1': 'b', 'clave2': 'barco', 'clave3': 3},\n",
       " {'clave1': 'a', 'clave2': 'auto', 'clave3': 2}]"
      ]
     },
     "execution_count": 130,
     "metadata": {},
     "output_type": "execute_result"
    }
   ],
   "source": [
    "clave='clave1'\n",
    "sorted(list_dicc,key=lambda x:x [clave],reverse=True)"
   ]
  },
  {
   "cell_type": "code",
   "execution_count": 1,
   "metadata": {},
   "outputs": [],
   "source": [
    "dicc1={'clave1': ['c','a','b','d'],'clave2': ['casa', 'auto', 'barco','avion'],'clave3': ['1','2','3','4']} "
   ]
  },
  {
   "cell_type": "code",
   "execution_count": 44,
   "metadata": {},
   "outputs": [],
   "source": [
    "from operator import itemgetter"
   ]
  },
  {
   "cell_type": "code",
   "execution_count": 45,
   "metadata": {},
   "outputs": [],
   "source": [
    "fruit_inventory = [(\"banana\", 5), (\"orange\", 15), (\"apple\", 3), (\"kiwi\", 0)]"
   ]
  },
  {
   "cell_type": "code",
   "execution_count": 46,
   "metadata": {},
   "outputs": [
    {
     "data": {
      "text/plain": [
       "[('apple', 3), ('banana', 5), ('kiwi', 0), ('orange', 15)]"
      ]
     },
     "execution_count": 46,
     "metadata": {},
     "output_type": "execute_result"
    }
   ],
   "source": [
    "# Sort by key\n",
    "sorted(fruit_inventory, key=itemgetter(0))"
   ]
  },
  {
   "cell_type": "code",
   "execution_count": 47,
   "metadata": {},
   "outputs": [
    {
     "data": {
      "text/plain": [
       "[('kiwi', 0), ('apple', 3), ('banana', 5), ('orange', 15)]"
      ]
     },
     "execution_count": 47,
     "metadata": {},
     "output_type": "execute_result"
    }
   ],
   "source": [
    "#Sort by values\n",
    "sorted(fruit_inventory,key=itemgetter(1))"
   ]
  },
  {
   "cell_type": "code",
   "execution_count": 48,
   "metadata": {},
   "outputs": [
    {
     "name": "stdout",
     "output_type": "stream",
     "text": [
      "[{'clave1': 'c', 'clave2': 'casa', 'clave3': 1}, {'clave1': 'a', 'clave2': 'auto', 'clave3': 2}, {'clave1': 'b', 'clave2': 'barco', 'clave3': 3}, {'clave1': 'd', 'clave2': 'avion', 'clave3': 4}]\n"
     ]
    }
   ],
   "source": [
    "print(list_dicc)"
   ]
  },
  {
   "cell_type": "code",
   "execution_count": 134,
   "metadata": {},
   "outputs": [
    {
     "data": {
      "text/plain": [
       "[{'clave1': 'c', 'clave2': 'casa', 'clave3': 1},\n",
       " {'clave1': 'b', 'clave2': 'barco', 'clave3': 3},\n",
       " {'clave1': 'd', 'clave2': 'avion', 'clave3': 4},\n",
       " {'clave1': 'a', 'clave2': 'auto', 'clave3': 2}]"
      ]
     },
     "execution_count": 134,
     "metadata": {},
     "output_type": "execute_result"
    }
   ],
   "source": [
    "clave='clave2'\n",
    "sorted(list_dicc,key=itemgetter(clave),reverse=True)"
   ]
  },
  {
   "cell_type": "code",
   "execution_count": 135,
   "metadata": {},
   "outputs": [
    {
     "data": {
      "text/plain": [
       "[{'clave1': 'a', 'clave2': 'auto', 'clave3': 2},\n",
       " {'clave1': 'd', 'clave2': 'avion', 'clave3': 4},\n",
       " {'clave1': 'b', 'clave2': 'barco', 'clave3': 3},\n",
       " {'clave1': 'c', 'clave2': 'casa', 'clave3': 1}]"
      ]
     },
     "execution_count": 135,
     "metadata": {},
     "output_type": "execute_result"
    }
   ],
   "source": [
    "clave='clave2'\n",
    "sorted(list_dicc,key=itemgetter(clave),reverse=False)"
   ]
  },
  {
   "cell_type": "code",
   "execution_count": 141,
   "metadata": {},
   "outputs": [],
   "source": [
    "clave='clave3'\n",
    "def mykey(item):\n",
    "    return item[clave]"
   ]
  },
  {
   "cell_type": "code",
   "execution_count": 154,
   "metadata": {},
   "outputs": [
    {
     "name": "stdout",
     "output_type": "stream",
     "text": [
      "[{'clave1': 'd', 'clave2': 'avion', 'clave3': 4}, {'clave1': 'b', 'clave2': 'barco', 'clave3': 3}, {'clave1': 'a', 'clave2': 'auto', 'clave3': 2}, {'clave1': 'c', 'clave2': 'casa', 'clave3': 1}]\n"
     ]
    }
   ],
   "source": [
    "lista_Dicc_sorted=sorted(list_dicc,key=mykey,reverse=True)\n",
    "print(lista_Dicc_sorted)"
   ]
  },
  {
   "cell_type": "code",
   "execution_count": 143,
   "metadata": {},
   "outputs": [
    {
     "data": {
      "text/plain": [
       "[{'clave1': 'c', 'clave2': 'casa', 'clave3': 1},\n",
       " {'clave1': 'a', 'clave2': 'auto', 'clave3': 2},\n",
       " {'clave1': 'b', 'clave2': 'barco', 'clave3': 3},\n",
       " {'clave1': 'd', 'clave2': 'avion', 'clave3': 4}]"
      ]
     },
     "execution_count": 143,
     "metadata": {},
     "output_type": "execute_result"
    }
   ],
   "source": [
    "sorted(list_dicc,key=mykey,reverse=False)"
   ]
  },
  {
   "cell_type": "code",
   "execution_count": 144,
   "metadata": {},
   "outputs": [],
   "source": [
    "def sort_key_func(item):\n",
    "    \"\"\" Helper function used to sort list of dicts\n",
    "\n",
    "    :param item: dict\n",
    "    :return: sorted list of tuples (k, v)\n",
    "    \"\"\"\n",
    "    pairs = []\n",
    "    for k, v in (item.items()):\n",
    "        pairs.append((k, v))\n",
    "    return sorted(pairs)\n"
   ]
  },
  {
   "cell_type": "code",
   "execution_count": 150,
   "metadata": {},
   "outputs": [
    {
     "name": "stdout",
     "output_type": "stream",
     "text": [
      "[('clave1', ['c', 'a', 'b', 'd']), ('clave2', ['casa', 'auto', 'barco', 'avion']), ('clave3', [1, 2, 3, 4])]\n"
     ]
    },
    {
     "data": {
      "text/plain": [
       "[('clave1', ['c', 'a', 'b', 'd']),\n",
       " ('clave2', ['casa', 'auto', 'barco', 'avion']),\n",
       " ('clave3', [1, 2, 3, 4])]"
      ]
     },
     "execution_count": 150,
     "metadata": {},
     "output_type": "execute_result"
    }
   ],
   "source": [
    "pairs = []\n",
    "for k, v in (dicc.items()):\n",
    "    pairs.append((k, v))\n",
    "print(pairs)\n",
    "sorted(pairs)"
   ]
  },
  {
   "cell_type": "code",
   "execution_count": 146,
   "metadata": {},
   "outputs": [
    {
     "data": {
      "text/plain": [
       "dict_items([('clave1', ['c', 'a', 'b', 'd']), ('clave2', ['casa', 'auto', 'barco', 'avion']), ('clave3', [1, 2, 3, 4])])"
      ]
     },
     "execution_count": 146,
     "metadata": {},
     "output_type": "execute_result"
    }
   ],
   "source": [
    "dicc.items()"
   ]
  },
  {
   "cell_type": "code",
   "execution_count": 145,
   "metadata": {},
   "outputs": [
    {
     "ename": "AttributeError",
     "evalue": "'str' object has no attribute 'items'",
     "output_type": "error",
     "traceback": [
      "\u001b[1;31m---------------------------------------------------------------------------\u001b[0m",
      "\u001b[1;31mAttributeError\u001b[0m                            Traceback (most recent call last)",
      "\u001b[1;32mc:\\Users\\Florencia\\Desktop\\Python-Prep\\Carpeta Nueva\\ordenardiccionario.ipynb Celda 30\u001b[0m line \u001b[0;36m1\n\u001b[1;32m----> <a href='vscode-notebook-cell:/c%3A/Users/Florencia/Desktop/Python-Prep/Carpeta%20Nueva/ordenardiccionario.ipynb#X50sZmlsZQ%3D%3D?line=0'>1</a>\u001b[0m \u001b[39msorted\u001b[39;49m(dicc, key\u001b[39m=\u001b[39;49msort_key_func,reverse\u001b[39m=\u001b[39;49m\u001b[39mTrue\u001b[39;49;00m)\n",
      "\u001b[1;32mc:\\Users\\Florencia\\Desktop\\Python-Prep\\Carpeta Nueva\\ordenardiccionario.ipynb Celda 30\u001b[0m line \u001b[0;36m8\n\u001b[0;32m      <a href='vscode-notebook-cell:/c%3A/Users/Florencia/Desktop/Python-Prep/Carpeta%20Nueva/ordenardiccionario.ipynb#X50sZmlsZQ%3D%3D?line=1'>2</a>\u001b[0m \u001b[39m\u001b[39m\u001b[39m\"\"\" Helper function used to sort list of dicts\u001b[39;00m\n\u001b[0;32m      <a href='vscode-notebook-cell:/c%3A/Users/Florencia/Desktop/Python-Prep/Carpeta%20Nueva/ordenardiccionario.ipynb#X50sZmlsZQ%3D%3D?line=2'>3</a>\u001b[0m \n\u001b[0;32m      <a href='vscode-notebook-cell:/c%3A/Users/Florencia/Desktop/Python-Prep/Carpeta%20Nueva/ordenardiccionario.ipynb#X50sZmlsZQ%3D%3D?line=3'>4</a>\u001b[0m \u001b[39m:param item: dict\u001b[39;00m\n\u001b[0;32m      <a href='vscode-notebook-cell:/c%3A/Users/Florencia/Desktop/Python-Prep/Carpeta%20Nueva/ordenardiccionario.ipynb#X50sZmlsZQ%3D%3D?line=4'>5</a>\u001b[0m \u001b[39m:return: sorted list of tuples (k, v)\u001b[39;00m\n\u001b[0;32m      <a href='vscode-notebook-cell:/c%3A/Users/Florencia/Desktop/Python-Prep/Carpeta%20Nueva/ordenardiccionario.ipynb#X50sZmlsZQ%3D%3D?line=5'>6</a>\u001b[0m \u001b[39m\"\"\"\u001b[39;00m\n\u001b[0;32m      <a href='vscode-notebook-cell:/c%3A/Users/Florencia/Desktop/Python-Prep/Carpeta%20Nueva/ordenardiccionario.ipynb#X50sZmlsZQ%3D%3D?line=6'>7</a>\u001b[0m pairs \u001b[39m=\u001b[39m []\n\u001b[1;32m----> <a href='vscode-notebook-cell:/c%3A/Users/Florencia/Desktop/Python-Prep/Carpeta%20Nueva/ordenardiccionario.ipynb#X50sZmlsZQ%3D%3D?line=7'>8</a>\u001b[0m \u001b[39mfor\u001b[39;00m k, v \u001b[39min\u001b[39;00m item\u001b[39m.\u001b[39;49mitems():\n\u001b[0;32m      <a href='vscode-notebook-cell:/c%3A/Users/Florencia/Desktop/Python-Prep/Carpeta%20Nueva/ordenardiccionario.ipynb#X50sZmlsZQ%3D%3D?line=8'>9</a>\u001b[0m     pairs\u001b[39m.\u001b[39mappend((k, v))\n\u001b[0;32m     <a href='vscode-notebook-cell:/c%3A/Users/Florencia/Desktop/Python-Prep/Carpeta%20Nueva/ordenardiccionario.ipynb#X50sZmlsZQ%3D%3D?line=9'>10</a>\u001b[0m \u001b[39mreturn\u001b[39;00m \u001b[39msorted\u001b[39m(pairs)\n",
      "\u001b[1;31mAttributeError\u001b[0m: 'str' object has no attribute 'items'"
     ]
    }
   ],
   "source": [
    "sorted(dicc, key=sort_key_func,reverse=True)"
   ]
  },
  {
   "cell_type": "code",
   "execution_count": 157,
   "metadata": {},
   "outputs": [
    {
     "name": "stdout",
     "output_type": "stream",
     "text": [
      "{'clave1': ['d', 'b', 'a', 'c'], 'clave2': ['avion', 'barco', 'auto', 'casa'], 'clave3': [4, 3, 2, 1]}\n"
     ]
    }
   ],
   "source": [
    "Dicc_ordenado={}\n",
    "for i in dicc:\n",
    "    lista_ordenada = []\n",
    "    for j in range(0,cant_elementos):\n",
    "        lista_ordenada.append(lista_Dicc_sorted[j][i])\n",
    "    Dicc_ordenado[i] = lista_ordenada\n",
    "print(Dicc_ordenado)"
   ]
  }
 ],
 "metadata": {
  "kernelspec": {
   "display_name": "Python 3",
   "language": "python",
   "name": "python3"
  },
  "language_info": {
   "codemirror_mode": {
    "name": "ipython",
    "version": 3
   },
   "file_extension": ".py",
   "mimetype": "text/x-python",
   "name": "python",
   "nbconvert_exporter": "python",
   "pygments_lexer": "ipython3",
   "version": "3.11.5"
  },
  "orig_nbformat": 4
 },
 "nbformat": 4,
 "nbformat_minor": 2
}

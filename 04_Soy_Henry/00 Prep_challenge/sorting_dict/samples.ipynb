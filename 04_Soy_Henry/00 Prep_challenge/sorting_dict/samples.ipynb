{
 "cells": [
  {
   "cell_type": "code",
   "execution_count": 1,
   "metadata": {},
   "outputs": [],
   "source": [
    "dictionary_of_dictionaries = {\n",
    "    1: {\"first_name\": \"Dorthea\", \"last_name\": \"Emmanuele\", \"age\": 29},\n",
    "    2: {\"first_name\": \"Evelina\", \"last_name\": \"Ferras\", \"age\": 91},\n",
    "    3: {\"first_name\": \"Frederica\", \"last_name\": \"Livesay\", \"age\": 99},\n",
    "    4: {\"first_name\": \"Murray\", \"last_name\": \"Linning\", \"age\": 36},\n",
    "    5: {\"first_name\": \"Annette\", \"last_name\": \"Garioch\", \"age\": 93},\n",
    "    6: {\"first_name\": \"Rozamond\", \"last_name\": \"Todd\", \"age\": 36},\n",
    "    7: {\"first_name\": \"Tiffi\", \"last_name\": \"Varian\", \"age\": 28},\n",
    "    8: {\"first_name\": \"Noland\", \"last_name\": \"Cowterd\", \"age\": 51},\n",
    "    9: {\"first_name\": \"Dyana\", \"last_name\": \"Fallows\", \"age\": 100},\n",
    "    10: {\"first_name\": \"Diahann\", \"last_name\": \"Cutchey\", \"age\": 44},\n",
    "    11: {\"first_name\": \"Georgianne\", \"last_name\": \"Steinor\", \"age\": 32},\n",
    "    12: {\"first_name\": \"Sabina\", \"last_name\": \"Lourens\", \"age\": 31},\n",
    "    13: {\"first_name\": \"Lynde\", \"last_name\": \"Colbeck\", \"age\": 35},\n",
    "    14: {\"first_name\": \"Abdul\", \"last_name\": \"Crisall\", \"age\": 84},\n",
    "    15: {\"first_name\": \"Quintus\", \"last_name\": \"Brando\", \"age\": 95},\n",
    "    16: {\"first_name\": \"Rowena\", \"last_name\": \"Geraud\", \"age\": 21},\n",
    "    17: {\"first_name\": \"Maurice\", \"last_name\": \"MacAindreis\", \"age\": 83},\n",
    "    18: {\"first_name\": \"Pall\", \"last_name\": \"O'Cullinane\", \"age\": 79},\n",
    "    19: {\"first_name\": \"Kermie\", \"last_name\": \"Willshere\", \"age\": 20},\n",
    "    20: {\"first_name\": \"Holli\", \"last_name\": \"Tattoo\", \"age\": 88},\n",
    "}\n"
   ]
  },
  {
   "cell_type": "code",
   "execution_count": null,
   "metadata": {},
   "outputs": [],
   "source": [
    "list_of_dictionaries = [\n",
    "    {\"id\": 1, \"first_name\": \"Dorthea\", \"last_name\": \"Emmanuele\", \"age\": 29},\n",
    "    {\"id\": 2, \"first_name\": \"Evelina\", \"last_name\": \"Ferras\", \"age\": 91},\n",
    "    {\"id\": 3, \"first_name\": \"Frederica\", \"last_name\": \"Livesay\", \"age\": 99},\n",
    "    {\"id\": 4, \"first_name\": \"Murray\", \"last_name\": \"Linning\", \"age\": 36},\n",
    "    {\"id\": 5, \"first_name\": \"Annette\", \"last_name\": \"Garioch\", \"age\": 93},\n",
    "    {\"id\": 6, \"first_name\": \"Rozamond\", \"last_name\": \"Todd\", \"age\": 36},\n",
    "    {\"id\": 7, \"first_name\": \"Tiffi\", \"last_name\": \"Varian\", \"age\": 28},\n",
    "    {\"id\": 8, \"first_name\": \"Noland\", \"last_name\": \"Cowterd\", \"age\": 51},\n",
    "    {\"id\": 9, \"first_name\": \"Dyana\", \"last_name\": \"Fallows\", \"age\": 100},\n",
    "    {\"id\": 10, \"first_name\": \"Diahann\", \"last_name\": \"Cutchey\", \"age\": 44},\n",
    "    {\"id\": 11, \"first_name\": \"Georgianne\", \"last_name\": \"Steinor\", \"age\": 32},\n",
    "    {\"id\": 12, \"first_name\": \"Sabina\", \"last_name\": \"Lourens\", \"age\": 31},\n",
    "    {\"id\": 13, \"first_name\": \"Lynde\", \"last_name\": \"Colbeck\", \"age\": 35},\n",
    "    {\"id\": 14, \"first_name\": \"Abdul\", \"last_name\": \"Crisall\", \"age\": 84},\n",
    "    {\"id\": 15, \"first_name\": \"Quintus\", \"last_name\": \"Brando\", \"age\": 95},\n",
    "    {\"id\": 16, \"first_name\": \"Rowena\", \"last_name\": \"Geraud\", \"age\": 21},\n",
    "    {\"id\": 17, \"first_name\": \"Maurice\", \"last_name\": \"MacAindreis\", \"age\": 83},\n",
    "    {\"id\": 18, \"first_name\": \"Pall\", \"last_name\": \"O'Cullinane\", \"age\": 79},\n",
    "    {\"id\": 19, \"first_name\": \"Kermie\", \"last_name\": \"Willshere\", \"age\": 20},\n",
    "    {\"id\": 20, \"first_name\": \"Holli\", \"last_name\": \"Tattoo\", \"age\": 88},\n",
    "]\n"
   ]
  }
 ],
 "metadata": {
  "kernelspec": {
   "display_name": "Python 3",
   "language": "python",
   "name": "python3"
  },
  "language_info": {
   "codemirror_mode": {
    "name": "ipython",
    "version": 3
   },
   "file_extension": ".py",
   "mimetype": "text/x-python",
   "name": "python",
   "nbconvert_exporter": "python",
   "pygments_lexer": "ipython3",
   "version": "3.11.5"
  },
  "orig_nbformat": 4
 },
 "nbformat": 4,
 "nbformat_minor": 2
}

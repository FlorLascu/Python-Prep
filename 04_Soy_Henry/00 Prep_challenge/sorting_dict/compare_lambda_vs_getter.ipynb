{
 "cells": [
  {
   "cell_type": "code",
   "execution_count": null,
   "metadata": {},
   "outputs": [],
   "source": [
    "from timeit import timeit\n",
    "\n",
    "dict_to_order = {\n",
    "    1: \"requests\",\n",
    "    2: \"pip\",\n",
    "    3: \"jinja\",\n",
    "    4: \"setuptools\",\n",
    "    5: \"pandas\",\n",
    "    6: \"numpy\",\n",
    "    7: \"black\",\n",
    "    8: \"pillow\",\n",
    "    9: \"pyparsing\",\n",
    "    10: \"boto3\",\n",
    "    11: \"botocore\",\n",
    "    12: \"urllib3\",\n",
    "    13: \"s3transfer\",\n",
    "    14: \"six\",\n",
    "    15: \"python-dateutil\",\n",
    "    16: \"pyyaml\",\n",
    "    17: \"idna\",\n",
    "    18: \"certifi\",\n",
    "    19: \"typing-extensions\",\n",
    "    20: \"charset-normalizer\",\n",
    "    21: \"awscli\",\n",
    "    22: \"wheel\",\n",
    "    23: \"rsa\",\n",
    "}\n",
    "\n",
    "sorted_with_lambda = \"sorted(dict_to_order.items(), key=lambda item: item[1])\"\n",
    "sorted_with_itemgetter = \"sorted(dict_to_order.items(), key=itemgetter(1))\"\n",
    "\n",
    "sorted_with_lambda_time = timeit(stmt=sorted_with_lambda, globals=globals())\n",
    "sorted_with_itemgetter_time = timeit(\n",
    "    stmt=sorted_with_itemgetter,\n",
    "    setup=\"from operator import itemgetter\",\n",
    "    globals=globals(),\n",
    ")\n",
    "\n",
    "print(\n",
    "    f\"\"\"\\\n",
    "{sorted_with_lambda_time=:.2f} seconds\n",
    "{sorted_with_itemgetter_time=:.2f} seconds\n",
    "itemgetter is {(\n",
    "    sorted_with_lambda_time / sorted_with_itemgetter_time\n",
    "):.2f} times faster\"\"\"\n",
    ")\n"
   ]
  }
 ],
 "metadata": {
  "language_info": {
   "name": "python"
  },
  "orig_nbformat": 4
 },
 "nbformat": 4,
 "nbformat_minor": 2
}

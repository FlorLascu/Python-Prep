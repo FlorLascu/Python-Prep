{
 "cells": [
  {
   "cell_type": "code",
   "execution_count": 1,
   "metadata": {},
   "outputs": [],
   "source": [
    "# Dictionary Spanish English\n",
    "spanEnglish_Dict={'English': 'Monday','Spanish':'Lunes'}"
   ]
  },
  {
   "cell_type": "code",
   "execution_count": 4,
   "metadata": {},
   "outputs": [
    {
     "name": "stdout",
     "output_type": "stream",
     "text": [
      "{'English': 'Monday', 'Spanish': 'Lunes'}\n"
     ]
    }
   ],
   "source": [
    "print(spanEnglish_Dict) # print the dictionary"
   ]
  },
  {
   "cell_type": "code",
   "execution_count": 5,
   "metadata": {},
   "outputs": [
    {
     "name": "stdout",
     "output_type": "stream",
     "text": [
      "Monday\n"
     ]
    }
   ],
   "source": [
    "print(spanEnglish_Dict['English']) #print value of a called key\n"
   ]
  },
  {
   "cell_type": "code",
   "execution_count": 6,
   "metadata": {},
   "outputs": [
    {
     "name": "stdout",
     "output_type": "stream",
     "text": [
      "Monday\n"
     ]
    }
   ],
   "source": [
    "# other method\n",
    "print(spanEnglish_Dict.get('English'))"
   ]
  },
  {
   "cell_type": "code",
   "execution_count": null,
   "metadata": {},
   "outputs": [],
   "source": [
    "# Phone Book Hacker Rank\n",
    "import sys \n",
    "\n",
    "phonebook = {}\n",
    "n = int(input())\n",
    "\n",
    "for i in range(0, n):\n",
    "    name = input()          # this is two inputs in different lines\n",
    "    phone_nbr = input()     # but the excersise needs to have the two inputs in one line separated by space\n",
    "    phonebook[name] = phone_nbr\n",
    "\n",
    "lines = sys.stdin.readlines()\n",
    "for i in lines:\n",
    "    name = i.strip()\n",
    "    if name in phonebook:\n",
    "        print(name + '=' + str( phonebook[name] ))\n",
    "    else:\n",
    "        print('Not found')"
   ]
  },
  {
   "cell_type": "code",
   "execution_count": null,
   "metadata": {},
   "outputs": [],
   "source": [
    "phonebook1 = {}\n",
    "import sys \n",
    "\n",
    "max_length = int(input())\n",
    "\n",
    "while len(phonebook1) < max_length:\n",
    "    names = input()\n",
    "    phone_numbr = input()\n",
    "\n",
    "    phonebook1[names] = phone_numbr\n"
   ]
  },
  {
   "cell_type": "code",
   "execution_count": 2,
   "metadata": {},
   "outputs": [],
   "source": [
    "# Phone Book Hacker Rank\n",
    "import sys \n",
    "   \n",
    "phoneBook = {}\n",
    "entries = int(input())\n",
    "\n",
    "for n in range(entries):\n",
    "    contact = input().split(' ')  # input de dos datos en una misma linea separados por un espacio\n",
    "    phoneBook[contact[0]] = contact[1]\n",
    "\n",
    "lines = sys.stdin.readlines()\n",
    "for i in lines:\n",
    "    name = i.strip()\n",
    "    if name in phoneBook:\n",
    "        print(name + '=' + str( phoneBook[name] ))\n",
    "    else:\n",
    "        print('Not found')\n"
   ]
  },
  {
   "cell_type": "code",
   "execution_count": null,
   "metadata": {},
   "outputs": [],
   "source": [
    "n = int(input())\n",
    "i = 0\n",
    "book = dict() #Declare a dictionary\n",
    "while(i < n):\n",
    "    name , number = input().split() #Split input for name,number\n",
    "    book[name] = number #Append key,value pair in dictionary\n",
    "    i+=1\n",
    "while True: #Run infinitely \n",
    "    try:\n",
    "        #Trick - If there is no more input stop the program\n",
    "        query = input() \n",
    "    except:\n",
    "        break\n",
    "    val = book.get(query,0) #Returns 0 if name not in dictionary\n",
    "    if val != 0:\n",
    "        print(query + \"=\" + book[query])\n",
    "    else:\n",
    "        print(\"Not found\")"
   ]
  },
  {
   "cell_type": "code",
   "execution_count": null,
   "metadata": {},
   "outputs": [],
   "source": [
    "#Using Setter and Getter\n",
    "n = int(input())\n",
    "d = {}\n",
    "while n:\n",
    "    x, y = input().split()\n",
    "    d.setdefault(x,y)\n",
    "    n -= 1\n",
    "while True:\n",
    "    try:\n",
    "        inp = input()\n",
    "        if d.get(inp):\n",
    "            print(f\"{inp}={d.get(inp)}\")\n",
    "        else:\n",
    "            print(f\"Not found\")\n",
    "    except EOFError:\n",
    "        break"
   ]
  },
  {
   "cell_type": "code",
   "execution_count": 3,
   "metadata": {},
   "outputs": [],
   "source": [
    "def factorial(n):\n",
    "    f = 1\n",
    "    if n == 1:\n",
    "        f = 1\n",
    "    elif n == 0:\n",
    "        f = 1\n",
    "    else:\n",
    "        for i in range(2,n+1):\n",
    "            f = f * i\n",
    "    return f \n",
    "    \n",
    "    "
   ]
  },
  {
   "cell_type": "code",
   "execution_count": 4,
   "metadata": {},
   "outputs": [
    {
     "data": {
      "text/plain": [
       "720"
      ]
     },
     "execution_count": 4,
     "metadata": {},
     "output_type": "execute_result"
    }
   ],
   "source": [
    "factorial(6)"
   ]
  },
  {
   "cell_type": "code",
   "execution_count": 5,
   "metadata": {},
   "outputs": [
    {
     "data": {
      "text/plain": [
       "'0b101'"
      ]
     },
     "execution_count": 5,
     "metadata": {},
     "output_type": "execute_result"
    }
   ],
   "source": [
    "bin(5)"
   ]
  },
  {
   "cell_type": "code",
   "execution_count": 30,
   "metadata": {},
   "outputs": [],
   "source": [
    "def int2bin(n):\n",
    "    binary = bin(n)\n",
    "    b = list(binary)\n",
    "    del b[0]\n",
    "    del b[0]\n",
    "    print(b)\n",
    "    r = '1'\n",
    "    count = 0\n",
    "    for i in range(0, len(b)-1):\n",
    "        if r == b[i]:\n",
    "            if b[i]==b[i]:\n",
    "                count += 1\n",
    "    return count"
   ]
  },
  {
   "cell_type": "code",
   "execution_count": 26,
   "metadata": {},
   "outputs": [
    {
     "name": "stdout",
     "output_type": "stream",
     "text": [
      "['1', '1', '0']\n"
     ]
    },
    {
     "data": {
      "text/plain": [
       "1"
      ]
     },
     "execution_count": 26,
     "metadata": {},
     "output_type": "execute_result"
    }
   ],
   "source": [
    "int2bin(6)"
   ]
  },
  {
   "cell_type": "code",
   "execution_count": 31,
   "metadata": {},
   "outputs": [
    {
     "name": "stdout",
     "output_type": "stream",
     "text": [
      "['1', '1', '0', '1']\n"
     ]
    },
    {
     "data": {
      "text/plain": [
       "2"
      ]
     },
     "execution_count": 31,
     "metadata": {},
     "output_type": "execute_result"
    }
   ],
   "source": [
    "int2bin(13)"
   ]
  },
  {
   "cell_type": "code",
   "execution_count": 32,
   "metadata": {},
   "outputs": [
    {
     "name": "stdout",
     "output_type": "stream",
     "text": [
      "['1', '1', '0', '1', '1', '0', '1', '1', '1']\n"
     ]
    },
    {
     "data": {
      "text/plain": [
       "6"
      ]
     },
     "execution_count": 32,
     "metadata": {},
     "output_type": "execute_result"
    }
   ],
   "source": [
    "int2bin(439)"
   ]
  },
  {
   "cell_type": "code",
   "execution_count": 35,
   "metadata": {},
   "outputs": [
    {
     "name": "stdout",
     "output_type": "stream",
     "text": [
      "3\n"
     ]
    }
   ],
   "source": [
    "n = 439\n",
    "binarys = str(bin(n))[2:].zfill(n)\n",
    "    \n",
    "max_count = max(len(group) for group in binarys.split('0'))\n",
    "    \n",
    "print(max_count)"
   ]
  },
  {
   "cell_type": "code",
   "execution_count": 42,
   "metadata": {},
   "outputs": [
    {
     "name": "stdout",
     "output_type": "stream",
     "text": [
      "0000000000000000000000000000000000000000000000000000000000000000000000000000000000000000000000000000000000000000000000000000000000000000000000000000000000000000000000000000000000000000000000000000000000000000000000000000000000000000000000000000000000000000000000000000000000000000000000000000000000000000000000000000000000000000000000000000000000000000000000000000000000000000000000000000000000000000000000000000000000000000000000110110111\n"
     ]
    }
   ],
   "source": [
    "n = 439\n",
    "binarys = str(bin(n))[2:].zfill(n)\n",
    "print(binarys)"
   ]
  },
  {
   "cell_type": "code",
   "execution_count": 39,
   "metadata": {},
   "outputs": [
    {
     "name": "stdout",
     "output_type": "stream",
     "text": [
      "3\n"
     ]
    }
   ],
   "source": [
    "def binary():\n",
    "    num = int(input().strip())\n",
    "    num = bin(num).replace(\"0b\", \"\")\n",
    "    ls = num.split('0')\n",
    "    max_once = max(ls, key=len)\n",
    "    print(len(max_once))\n",
    "binary()"
   ]
  },
  {
   "cell_type": "code",
   "execution_count": 44,
   "metadata": {},
   "outputs": [
    {
     "name": "stdout",
     "output_type": "stream",
     "text": [
      "['11', '11', '111']\n"
     ]
    }
   ],
   "source": [
    "num = 439\n",
    "num = bin(num).replace(\"0b\", \"\")\n",
    "ls = num.split('0')\n",
    "print(ls)"
   ]
  },
  {
   "cell_type": "code",
   "execution_count": 45,
   "metadata": {},
   "outputs": [],
   "source": [
    "max_once = max(ls, key=len)"
   ]
  },
  {
   "cell_type": "code",
   "execution_count": 46,
   "metadata": {},
   "outputs": [
    {
     "name": "stdout",
     "output_type": "stream",
     "text": [
      "111\n"
     ]
    }
   ],
   "source": [
    "print(max_once)"
   ]
  }
 ],
 "metadata": {
  "kernelspec": {
   "display_name": "Python 3",
   "language": "python",
   "name": "python3"
  },
  "language_info": {
   "codemirror_mode": {
    "name": "ipython",
    "version": 3
   },
   "file_extension": ".py",
   "mimetype": "text/x-python",
   "name": "python",
   "nbconvert_exporter": "python",
   "pygments_lexer": "ipython3",
   "version": "3.11.5"
  }
 },
 "nbformat": 4,
 "nbformat_minor": 2
}

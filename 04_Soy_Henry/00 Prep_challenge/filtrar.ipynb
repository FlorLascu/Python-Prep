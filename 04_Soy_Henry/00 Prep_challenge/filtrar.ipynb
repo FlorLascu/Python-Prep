{
 "cells": [
  {
   "cell_type": "code",
   "execution_count": 46,
   "metadata": {},
   "outputs": [],
   "source": [
    "def funcion(p):\n",
    "    if p >=50:\n",
    "        return True\n",
    "    else:\n",
    "        return False"
   ]
  },
  {
   "cell_type": "code",
   "execution_count": 5,
   "metadata": {},
   "outputs": [
    {
     "data": {
      "text/plain": [
       "True"
      ]
     },
     "execution_count": 5,
     "metadata": {},
     "output_type": "execute_result"
    }
   ],
   "source": [
    "funcion(100)"
   ]
  },
  {
   "cell_type": "code",
   "execution_count": 6,
   "metadata": {},
   "outputs": [
    {
     "data": {
      "text/plain": [
       "False"
      ]
     },
     "execution_count": 6,
     "metadata": {},
     "output_type": "execute_result"
    }
   ],
   "source": [
    "funcion(30)"
   ]
  },
  {
   "cell_type": "code",
   "execution_count": 33,
   "metadata": {},
   "outputs": [],
   "source": [
    "class List:\n",
    "    def __init__(self,list):\n",
    "        if list == []:\n",
    "            self.list = []\n",
    "        else:    \n",
    "            self.list = list(self.price,self.name)\n",
    "    class Items:\n",
    "        def __init__(self,price,name):\n",
    "            self.price = price\n",
    "            self.name = name\n",
    "    def present(self):\n",
    "        for i in self:\n",
    "            print([{ 'price': self.List.Items.price[i], 'name': self.List.Item.name[i]}])\n"
   ]
  },
  {
   "cell_type": "code",
   "execution_count": 34,
   "metadata": {},
   "outputs": [],
   "source": [
    "item1 = List.Items(100,'tv')"
   ]
  },
  {
   "cell_type": "code",
   "execution_count": 11,
   "metadata": {},
   "outputs": [],
   "source": [
    "item2 =List.Items(50,'phone')\n",
    "item3 = List.Items(30,'lamp')"
   ]
  },
  {
   "cell_type": "code",
   "execution_count": 35,
   "metadata": {},
   "outputs": [
    {
     "ename": "TypeError",
     "evalue": "List.__init__() takes 2 positional arguments but 3 were given",
     "output_type": "error",
     "traceback": [
      "\u001b[1;31m---------------------------------------------------------------------------\u001b[0m",
      "\u001b[1;31mTypeError\u001b[0m                                 Traceback (most recent call last)",
      "\u001b[1;32mc:\\Users\\Florencia\\Desktop\\Python-Prep\\Carpeta Nueva\\filtrar.ipynb Celda 7\u001b[0m line \u001b[0;36m1\n\u001b[1;32m----> <a href='vscode-notebook-cell:/c%3A/Users/Florencia/Desktop/Python-Prep/Carpeta%20Nueva/filtrar.ipynb#X13sZmlsZQ%3D%3D?line=0'>1</a>\u001b[0m productos \u001b[39m=\u001b[39m List(\u001b[39m50\u001b[39;49m,\u001b[39m'\u001b[39;49m\u001b[39mphone\u001b[39;49m\u001b[39m'\u001b[39;49m)\n",
      "\u001b[1;31mTypeError\u001b[0m: List.__init__() takes 2 positional arguments but 3 were given"
     ]
    }
   ],
   "source": [
    "productos = List(50,'phone')"
   ]
  },
  {
   "cell_type": "code",
   "execution_count": 29,
   "metadata": {},
   "outputs": [],
   "source": [
    "productos.Items(30,'lamp')\n",
    "productos.present()"
   ]
  },
  {
   "cell_type": "code",
   "execution_count": 39,
   "metadata": {},
   "outputs": [
    {
     "name": "stdout",
     "output_type": "stream",
     "text": [
      "{'tv', 100}\n",
      "{'phone', 50}\n",
      "{'lamp', 30}\n",
      "{10, 'calculator'}\n"
     ]
    }
   ],
   "source": [
    "#crear el array de objetos producto: \n",
    "class Items:\n",
    "    def __init__(self, price, name):\n",
    "        self.price = price\n",
    "        self.name = name\n",
    "        \n",
    "# creating list\n",
    "productos = []\n",
    "  \n",
    "# using list comprehension to append instances to list\n",
    "productos += [Items(price,name) for price, name in [(100, 'tv'), (50, 'phone'), (30,'lamp'), (10, 'calculator')]]\n",
    "  \n",
    "# Accessing object value using a for loop\n",
    "for item in productos:\n",
    "    print({item.price, item.name}, sep=' ')\n",
    "#This code is contributed by Edula Vinay Kumar Reddy"
   ]
  },
  {
   "cell_type": "code",
   "execution_count": 62,
   "metadata": {},
   "outputs": [],
   "source": [
    "# https://www.youtube.com/watch?v=7r93582ncVg&list=PLjnxTN2GjlNDokv29U0LXmkF2SgTFlDhA&index=8 Resolucion\n",
    "def filtrar(funcion):\n",
    "\n",
    "    '''Escribi una funcion filtrar en el prototipo de Arrays\n",
    "    que recibe una funcion (callback) que devuelve true o false\n",
    "    filtrar los elementos de ese arreglo en base al resultado de esa funcion \n",
    "    comparadora, devolver un nuevo arreglo con los elementos filtrados\n",
    "    NO USAR LA FUNCION FILTER DE LOS ARREGLOS\n",
    "    ej:\n",
    "    var_productos = [{price :100, name: 'tv', }, {price: 50,name: 'phone'},{price: 30, name: 'lamp'} ]\n",
    "    productos.filtrar(function(p))\n",
    "            return p.price >=50 -> [{price: 100, name: 'tv'}, {price: 50,name: 'phone'}]'''\n",
    "    class productos:\n",
    "            pass\n",
    "    \n",
    "    productos[{'price' :100, 'name': 'tv'}, {'price': 50,'name': 'phone'},{'price': 30, 'name': 'lamp'}]\n",
    "    \n",
    "    print(productos())\n",
    "                 \n",
    "    #for i in range(0,len(filtered_arr)):\n",
    "    #    print()\n",
    "    \n",
    "    #filtered_arr = [p for p in arr if funcion(50)]\n",
    "        \n",
    "                \n",
    "            \n"
   ]
  },
  {
   "cell_type": "code",
   "execution_count": 64,
   "metadata": {},
   "outputs": [
    {
     "ename": "TypeError",
     "evalue": "filtrar() missing 1 required positional argument: 'funcion'",
     "output_type": "error",
     "traceback": [
      "\u001b[1;31m---------------------------------------------------------------------------\u001b[0m",
      "\u001b[1;31mTypeError\u001b[0m                                 Traceback (most recent call last)",
      "\u001b[1;32mc:\\Users\\Florencia\\Desktop\\Python-Prep\\Carpeta Nueva\\filtrar.ipynb Celda 11\u001b[0m line \u001b[0;36m1\n\u001b[1;32m----> <a href='vscode-notebook-cell:/c%3A/Users/Florencia/Desktop/Python-Prep/Carpeta%20Nueva/filtrar.ipynb#X16sZmlsZQ%3D%3D?line=0'>1</a>\u001b[0m filtrar()\n",
      "\u001b[1;31mTypeError\u001b[0m: filtrar() missing 1 required positional argument: 'funcion'"
     ]
    }
   ],
   "source": [
    "filtrar()"
   ]
  },
  {
   "cell_type": "code",
   "execution_count": 1,
   "metadata": {},
   "outputs": [
    {
     "name": "stdout",
     "output_type": "stream",
     "text": [
      "18\n",
      "24\n",
      "32\n"
     ]
    }
   ],
   "source": [
    "ages = [5, 12, 17, 18, 24, 32]\n",
    "\n",
    "def myFunc(x):\n",
    "  if x < 18:\n",
    "    return False\n",
    "  else:\n",
    "    return True\n",
    "\n",
    "adults = filter(myFunc, ages)\n",
    "\n",
    "for x in adults:\n",
    "  print(x)\n"
   ]
  },
  {
   "cell_type": "code",
   "execution_count": null,
   "metadata": {},
   "outputs": [],
   "source": []
  }
 ],
 "metadata": {
  "kernelspec": {
   "display_name": "Python 3",
   "language": "python",
   "name": "python3"
  },
  "language_info": {
   "codemirror_mode": {
    "name": "ipython",
    "version": 3
   },
   "file_extension": ".py",
   "mimetype": "text/x-python",
   "name": "python",
   "nbconvert_exporter": "python",
   "pygments_lexer": "ipython3",
   "version": "3.11.5"
  },
  "orig_nbformat": 4
 },
 "nbformat": 4,
 "nbformat_minor": 2
}

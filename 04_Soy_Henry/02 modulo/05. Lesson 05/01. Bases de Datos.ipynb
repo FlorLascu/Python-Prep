{
 "cells": [
  {
   "cell_type": "markdown",
   "metadata": {},
   "source": [
    "- Introducción a Bases de Datos\n",
    "- Objetivos de aprendizaje: \n",
    "    -Reconocer el concepto de Sistemas de Gestión de Bases de Datos y de Modelo de Entidad Relación. \n",
    "    - Conocer el Lenguaje  Estructurado de Consulta (SQL). \n",
    "    - Comprender la diferencia entre bases de datos Transaccionales y Analíticas.\n",
    "\n",
    "Temáticas a abordar en la clase:\n",
    "\n",
    "1. Introducción a sistemas de gestión de bases de datos\n",
    "2. Modelos relacionales\n",
    "3. Modelo Entidad - Relación\n",
    "4. Introducción a SQL\n",
    "5. Introducción a bases de datos\n",
    "6. Bases de datos transaccionales vs Bases de datos analíticas"
   ]
  },
  {
   "cell_type": "markdown",
   "metadata": {},
   "source": [
    "##### Las claves primarias<br>\n",
    "Claves foraneas si o si son claves primarias<br>\n",
    "En el ejemplo de clases cohorte y alumnos de Henry<br>\n",
    "Un alumno puede tener solo un curso, pero un curso tiene mas de un alumno.\n",
    "Entonces la relacion es uno a muchos. <br> \n",
    "Curso a alumnos es uno a muchos 1 - M<br>\n",
    "El alumno tiene solo un curso, pero muchos alumnos distintos pueden elegir el mismo curso==> 1 a M <br>\n",
    "\n",
    "##### Muchos a Muchos<br>\n",
    "Es cuando mas de un registro de la tabla A esta relacionado con mas de un registro de la B y cuando mas de un registro de la tabla B esta relacionado con mas de un registro de la tabla A<br>\n",
    "\n",
    "**Ejemplo**, cuando un curso puede contener varios alumnos<br>\n",
    "Ademas un alumno puede estar cursando varias materias/cursos<br>\n"
   ]
  },
  {
   "cell_type": "code",
   "execution_count": null,
   "metadata": {},
   "outputs": [],
   "source": []
  }
 ],
 "metadata": {
  "language_info": {
   "name": "python"
  }
 },
 "nbformat": 4,
 "nbformat_minor": 2
}

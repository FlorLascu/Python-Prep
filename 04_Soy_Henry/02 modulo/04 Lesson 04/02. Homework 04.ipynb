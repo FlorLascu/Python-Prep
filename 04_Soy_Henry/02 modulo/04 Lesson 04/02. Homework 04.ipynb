{
 "cells": [
  {
   "cell_type": "markdown",
   "metadata": {},
   "source": [
    "1. Considera el experimento que consiste en un empleado que arma un producto.\n",
    "  - a. Defina la variable aleatoria que represente el tiempo en minutos requerido para armar el producto.<br>"
   ]
  },
  {
   "cell_type": "markdown",
   "metadata": {},
   "source": [
    "Variable discreta = tiempo entre evento y evento es el tiempo entre que se arma y termina un producto. lambda_np<br>"
   ]
  },
  {
   "cell_type": "markdown",
   "metadata": {},
   "source": [
    "  - b. ¿Qué valores toma la variable aleatoria?<br>\n",
    "  la variable tiene valores x=0 y x=1 (cuando se produce el producto)<br>\n",
    "  - c. ¿Es una variable aleatoria discreta o continua?<br>\n",
    "  Es una variable discreta y podria tener distribucion de Poisson, considerando el tiempo entre eventos, siendo el evento la produccion del item.<br>"
   ]
  },
  {
   "cell_type": "markdown",
   "metadata": {},
   "source": [
    "2. Considera el experimento que consiste en lanzar una moneda dos veces.<br>\n",
    "  - a. Enumere los resultados experimentales.<br>\n",
    "  Espacion Muestral S = {HH,HT,TT,TH} Considerando que puede o no importar el orden.<br>"
   ]
  },
  {
   "cell_type": "markdown",
   "metadata": {},
   "source": [
    "- b. Defina una variable aleatoria que represente el número de caras en los dos lanzamientos.<br>\n",
    "\n",
    "  - c. Dé el valor que la variable aleatoria tomará en cada uno de los resultados experimentales.<br>\n",
    "  S = {HH,HT,TT,TH} Considerando que puede o no importar el orden<br>\n",
    "  P(X=Xi) = (Probabilidad de eventos favorables sobre el total de la muestra)<br>\n",
    "  P(X=0) = prob de que ninguna sea cara = P(TT) = 1/2*1/2 = 1/4 = 0.25<br>\n",
    "  P(x=1) = prob de que una sola sea cara = P(HT)+P(TH) = 1/4 + 1/4 = 0.5<br>\n",
    "  P(X=2) = prob de que ambas sean caras = P(HH) = 1/2*1/2 = 1/4 = 0.25<br>\n",
    "  La sumatoria debe dar 1 total "
   ]
  },
  {
   "cell_type": "code",
   "execution_count": 2,
   "metadata": {},
   "outputs": [
    {
     "data": {
      "text/plain": [
       "1.0"
      ]
     },
     "execution_count": 2,
     "metadata": {},
     "output_type": "execute_result"
    }
   ],
   "source": [
    "# P(X=2 caras) = 1/2*1/2\n",
    "p0 = 0.25\n",
    "p1 = 0.5\n",
    "p2 = 0.25\n",
    "p1+p2+p0"
   ]
  },
  {
   "cell_type": "code",
   "execution_count": 5,
   "metadata": {},
   "outputs": [
    {
     "data": {
      "text/plain": [
       "0.25"
      ]
     },
     "execution_count": 5,
     "metadata": {},
     "output_type": "execute_result"
    }
   ],
   "source": [
    "from math import factorial\n",
    "# n numero de amigos total n=4\n",
    "# x es el numero de eventos favorables = a  2 amigos haber leido el libro => x =2\n",
    "# p es la probabilidad de exito donde exito es haber leido el libro => p = 0.8 \n",
    "# q es la probabilidad de fracaso, es decir, no haber leido el libro q = 1 - p = 0.2\n",
    "def dist_binomial(n,k,p):\n",
    "    q = 1 -p\n",
    "    binomial = (factorial(n) / (factorial(k)*factorial((n-k))))* pow(p,k) * pow(q,(n-k))\n",
    "    return round(binomial,4) \n"
   ]
  },
  {
   "cell_type": "code",
   "execution_count": null,
   "metadata": {},
   "outputs": [],
   "source": [
    "dist_binomial(2,2,0.5)"
   ]
  },
  {
   "cell_type": "markdown",
   "metadata": {},
   "source": [
    "- d. ¿Es una variable aleatoria discreta o continua?\n",
    "  Es una variable discreta con distribucion binomial<br>\n",
    "  Donde n = 2 (dos caras), k=2 dos eventos exitosos, p=1/2=0.5 y q =0.5"
   ]
  },
  {
   "cell_type": "markdown",
   "metadata": {},
   "source": [
    "3. Considera las decisiones de compra de los próximos tres clientes que lleguen a la tienda de ropa Martin Clothing Store. De acuerdo con la experiencia, el gerente de la tienda estima que la probabilidad de que un cliente realice una compra es 0.30. \n",
    "  - a. Describa si cumple con las reglas para clasificarlo como un experimiento binomial."
   ]
  },
  {
   "cell_type": "markdown",
   "metadata": {},
   "source": [
    "The binomial distribution is a specific probability distribution that satisfies certain conditions. For a random variable to have a binomial distribution, the following conditions must be met:<br>\n",
    "\n",
    "1. *Fixed number of trials (n)*: There must be a fixed number of identical trials, denoted by \"n.\" Each trial is independent of the others.<br>\n",
    "\n",
    "2. *Two possible outcomes*: Each trial must result in one of two possible outcomes, often referred to as \"success\" and \"failure.\" These outcomes are mutually exclusive.<br>\n",
    "\n",
    "3. *Constant probability of success (p)*: The probability of success (denoted by \"p\") must be the same for each trial. Likewise, the probability of failure (q = 1 - p) must also be constant.<br>\n",
    "\n",
    "4. *Independence*: The trials must be independent of each other. The outcome of one trial should not influence the outcome of any other trial.<br>"
   ]
  },
  {
   "cell_type": "markdown",
   "metadata": {},
   "source": [
    " b. ¿Cuál es la probabilidad de que dos de los próximos tres clientes realicen una compra?"
   ]
  },
  {
   "cell_type": "code",
   "execution_count": 6,
   "metadata": {},
   "outputs": [
    {
     "data": {
      "text/plain": [
       "0.189"
      ]
     },
     "execution_count": 6,
     "metadata": {},
     "output_type": "execute_result"
    }
   ],
   "source": [
    "# n=3 p=0.30 q = 0.70 y k= 2 que dos de los proximos 3 clientes realice una compra => x =2 dos compras\n",
    "p2 = dist_binomial(3,2,0.30)\n",
    "p2"
   ]
  },
  {
   "cell_type": "code",
   "execution_count": 7,
   "metadata": {},
   "outputs": [
    {
     "data": {
      "text/plain": [
       "0.189"
      ]
     },
     "execution_count": 7,
     "metadata": {},
     "output_type": "execute_result"
    }
   ],
   "source": [
    "p2tree = 0.3*0.3*0.7+0.3*0.7*0.3+0.7*0.3*0.3\n",
    "p2tree"
   ]
  },
  {
   "cell_type": "markdown",
   "metadata": {},
   "source": [
    "  - c. ¿Cuál es la probabilidad de que cuatro de los próximos diez clientes realicen una compra?"
   ]
  },
  {
   "cell_type": "code",
   "execution_count": 8,
   "metadata": {},
   "outputs": [
    {
     "data": {
      "text/plain": [
       "0.2001"
      ]
     },
     "execution_count": 8,
     "metadata": {},
     "output_type": "execute_result"
    }
   ],
   "source": [
    "# Binomial con n=10, k=4 , p=0.30 Probabilidad de que 4 de los proximos 10 clientes realice una compra\n",
    "dist_binomial(10,4,0.30)"
   ]
  },
  {
   "cell_type": "markdown",
   "metadata": {},
   "source": [
    "4.  A la oficina de reservaciones de una aerolínea regional llegan 48 llamadas por hora.\n",
    "- a. Calcule la probabilidad de recibir cinco llamadas en un lapso de 5 minutos."
   ]
  },
  {
   "cell_type": "code",
   "execution_count": 14,
   "metadata": {},
   "outputs": [
    {
     "data": {
      "text/plain": [
       "4.0"
      ]
     },
     "execution_count": 14,
     "metadata": {},
     "output_type": "execute_result"
    }
   ],
   "source": [
    "# Distribucion discreta con distribucion de Poisson, con lamba_np = 48 llamadas por hora\n",
    "# 5 llamadas en un lapso de 5 minutos => convierto lamba_np\n",
    "lambda_np = 48/60*5\n",
    "lambda_np"
   ]
  },
  {
   "cell_type": "code",
   "execution_count": 10,
   "metadata": {},
   "outputs": [],
   "source": [
    "from math import e,factorial\n",
    "def dist_poisson(lambda_np,x):\n",
    "    prob = (pow(lambda_np,x)/factorial(x))*(pow(e,-lambda_np))\n",
    "    return round(prob,4)"
   ]
  },
  {
   "cell_type": "code",
   "execution_count": 18,
   "metadata": {},
   "outputs": [
    {
     "data": {
      "text/plain": [
       "0.1563"
      ]
     },
     "execution_count": 18,
     "metadata": {},
     "output_type": "execute_result"
    }
   ],
   "source": [
    "# la probabilidad de recibir 5 llamadas en un lapso de 5 minutos: (5/60)\n",
    "# Poisson con lambda_np = 4 y x =5:\n",
    "dist_poisson(4,5)"
   ]
  },
  {
   "cell_type": "markdown",
   "metadata": {},
   "source": [
    "- b. Estime la probabilidad de recibir exactamente 10 llamadas en un lapso de 15 minutos."
   ]
  },
  {
   "cell_type": "code",
   "execution_count": 20,
   "metadata": {},
   "outputs": [
    {
     "data": {
      "text/plain": [
       "12.0"
      ]
     },
     "execution_count": 20,
     "metadata": {},
     "output_type": "execute_result"
    }
   ],
   "source": [
    "# prob de recibir 10 llamadas en un lapso de 15 minutos => x=10\n",
    "# lambda 48 llamadas/hora lo necesito convertir a 15 minutos:\n",
    "lambda_np_b = 48/60*15\n",
    "lambda_np_b"
   ]
  },
  {
   "cell_type": "code",
   "execution_count": 22,
   "metadata": {},
   "outputs": [
    {
     "data": {
      "text/plain": [
       "0.1048"
      ]
     },
     "execution_count": 22,
     "metadata": {},
     "output_type": "execute_result"
    }
   ],
   "source": [
    "dist_poisson(lambda_np_b,10)"
   ]
  },
  {
   "cell_type": "markdown",
   "metadata": {},
   "source": [
    "- c. Suponga que no hay ninguna llamada en espera. Si el agente de viajes necesitará 5 minutos para la llamada que está atendiendo, ¿cuántas llamadas habrá en espera para cuando él termine? ¿Cuál es la probabilidad de que no haya ninguna llamada en espera?"
   ]
  },
  {
   "cell_type": "code",
   "execution_count": 26,
   "metadata": {},
   "outputs": [
    {
     "name": "stdout",
     "output_type": "stream",
     "text": [
      "4.0  seran las llamadas en cola luego de 5 minutos\n"
     ]
    },
    {
     "data": {
      "text/plain": [
       "0.0183"
      ]
     },
     "execution_count": 26,
     "metadata": {},
     "output_type": "execute_result"
    }
   ],
   "source": [
    "# la cantidad de llamadas en espera sera igual a E(X) = lambda\n",
    "Ex = 48/60*5\n",
    "print(Ex,\" seran las llamadas en cola luego de 5 minutos\")\n",
    "# la probabilidad de que en 5 minutos llegue 1 llamada o mas => P(x>=1, lambda = 4, k=1) que es igual a 1-P(cero llamadas en cola)\n",
    "p0 = dist_poisson(4,0)\n",
    "p0"
   ]
  },
  {
   "cell_type": "markdown",
   "metadata": {},
   "source": [
    "- d. Si en este momento no hay ninguna llamada, ¿cuál es la probabilidad de que el agente de viajes pueda tomar 3 minutos de descanso sin ser interrumpido por una llamada?"
   ]
  },
  {
   "cell_type": "code",
   "execution_count": 27,
   "metadata": {},
   "outputs": [
    {
     "data": {
      "text/plain": [
       "0.0907"
      ]
     },
     "execution_count": 27,
     "metadata": {},
     "output_type": "execute_result"
    }
   ],
   "source": [
    "# lambda para 3 minutos, y probabilidad de que x =0, con lambda 3 minutos:\n",
    "lambda_3_min = 48/60*3 \n",
    " # y probabilidad de que x =0, con lambda 3 minutos:\n",
    "p0 = dist_poisson(lambda_3_min,0)\n",
    "p0"
   ]
  },
  {
   "cell_type": "markdown",
   "metadata": {},
   "source": [
    "5. En una encuesta realizada por Gallup Organization, se les preguntó a los interrogados, “Cuál es el deporte que prefieres ver”. Futbol y básquetbol ocuparon el primero y segundo lugar de preferencia (www.gallup.com, 3 de enero de 2004). Si en un grupo de 10 individuos, siete prefieren futbol y tres prefieren básquetbol. Se toma una muestra aleatoria de tres de estas personas.<br>\n",
    "- a. ¿Cuál es la probabilidad de que exactamente dos prefieren el futbol?<br>"
   ]
  },
  {
   "cell_type": "markdown",
   "metadata": {},
   "source": [
    "Conditions:\n",
    "<br>\n",
    "* Finite population size (N).\n",
    "* Fixed number of trials (n).\n",
    "* Two possible outcomes per trial.\n",
    "* Sampling without replacement.\n",
    "Key Differences<br>\n",
    "- Sampling with or without replacement: *Hypergeometric distribution*: Assumes sampling without replacement.<br>\n",
    "- Population Size: *Hypergeometric distribution*: Requires knowledge of the population size.<br>\n",
    "- Use Cases: *Hypergeometric distribution*: Appropriate for scenarios involving sampling without replacement from a finite population. "
   ]
  },
  {
   "cell_type": "markdown",
   "metadata": {},
   "source": [
    "p(futbol) = 0.7<br>\n",
    "p(basquet) = 0.3<br>\n",
    "Son independientes y son mutuamente excluyentes<br>\n",
    "evento = es que le guste el futbol\n",
    "n = 3 Hipergeometrica con N = 10, n = 7, X=3 , x=2"
   ]
  },
  {
   "cell_type": "code",
   "execution_count": 32,
   "metadata": {},
   "outputs": [],
   "source": [
    "from math import factorial \n",
    "def dist_hipergeometrica(N,n,X,x):\n",
    "    Xx = factorial(X)/(factorial(x)*factorial((X-x)))\n",
    "    NX_nx = factorial(N-X)/(factorial(n-x)*factorial((N-X)-(n-x)))\n",
    "    Nn = factorial(N)/(factorial(n)*factorial(N-n))\n",
    "    prob_hipergeom = round((Xx * NX_nx)/Nn,2)\n",
    "    return prob_hipergeom"
   ]
  },
  {
   "cell_type": "code",
   "execution_count": 34,
   "metadata": {},
   "outputs": [
    {
     "data": {
      "text/plain": [
       "0.53"
      ]
     },
     "execution_count": 34,
     "metadata": {},
     "output_type": "execute_result"
    }
   ],
   "source": [
    "dist_hipergeometrica(10,7,3,2)"
   ]
  },
  {
   "cell_type": "code",
   "execution_count": 29,
   "metadata": {},
   "outputs": [
    {
     "data": {
      "text/plain": [
       "0.294"
      ]
     },
     "execution_count": 29,
     "metadata": {},
     "output_type": "execute_result"
    }
   ],
   "source": [
    "0.7*0.3*0.7+0.3*0.7*0.7"
   ]
  },
  {
   "cell_type": "markdown",
   "metadata": {},
   "source": [
    "- b. ¿De que la mayoría (ya sean dos o tres) prefiere el futbol?"
   ]
  }
 ],
 "metadata": {
  "kernelspec": {
   "display_name": "Python 3",
   "language": "python",
   "name": "python3"
  },
  "language_info": {
   "codemirror_mode": {
    "name": "ipython",
    "version": 3
   },
   "file_extension": ".py",
   "mimetype": "text/x-python",
   "name": "python",
   "nbconvert_exporter": "python",
   "pygments_lexer": "ipython3",
   "version": "3.12.0"
  }
 },
 "nbformat": 4,
 "nbformat_minor": 2
}

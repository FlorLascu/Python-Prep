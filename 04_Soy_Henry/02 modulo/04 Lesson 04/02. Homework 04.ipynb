{
 "cells": [
  {
   "cell_type": "code",
   "execution_count": 67,
   "metadata": {},
   "outputs": [],
   "source": [
    "from scipy import stats"
   ]
  },
  {
   "cell_type": "markdown",
   "metadata": {},
   "source": [
    "#### 1. Considera el experimento que consiste en un empleado que arma un producto.\n",
    "  - a. Defina la variable aleatoria que represente el tiempo en minutos requerido para armar el producto.<br>"
   ]
  },
  {
   "cell_type": "markdown",
   "metadata": {},
   "source": [
    "Variable discreta = tiempo entre evento y evento es el tiempo entre que se arma y termina un producto. lambda_np<br>"
   ]
  },
  {
   "cell_type": "markdown",
   "metadata": {},
   "source": [
    "  - b. ¿Qué valores toma la variable aleatoria?<br>\n",
    "  la variable tiene valores x=0 y x=1 (cuando se produce el producto)<br>\n",
    "  - c. ¿Es una variable aleatoria discreta o continua?<br>\n",
    "  Es una variable continua porque es tiempo, considerando el tiempo entre eventos.<br>"
   ]
  },
  {
   "cell_type": "markdown",
   "metadata": {},
   "source": [
    "#### 2. Considera el experimento que consiste en lanzar una moneda dos veces.<br>\n",
    "  - a. Enumere los resultados experimentales.<br>\n",
    "  Las posibilidades son dos posibilidades en dos oportunidades = 2^2 = 4<br>\n",
    "  Espacion Muestral S = {HH,HT,TT,TH} Considerando que puede o no importar el orden.<br>"
   ]
  },
  {
   "cell_type": "code",
   "execution_count": 66,
   "metadata": {},
   "outputs": [
    {
     "data": {
      "text/plain": [
       "{1: ['H', 'H'], 2: ['H', 'T'], 3: ['T', 'H'], 4: ['T', 'T']}"
      ]
     },
     "execution_count": 66,
     "metadata": {},
     "output_type": "execute_result"
    }
   ],
   "source": [
    "resultados ={ 1: ['H','H'],2:['H','T'],3:['T','H'],4:['T','T']}\n",
    "resultados"
   ]
  },
  {
   "cell_type": "markdown",
   "metadata": {},
   "source": [
    "- b. Defina una variable aleatoria que represente el número de caras en los dos lanzamientos.<br>\n",
    "<br>\n",
    "X es la cantidad de caras que se repiten en cada evento, siendo el evento lanzar la moneda dos veces<br>\n",
    "##### P(X=Xi) = (Probabilidad de eventos favorables sobre el total de la muestra)<br>\n",
    "<br>\n",
    "  - c. Dé el valor que la variable aleatoria tomará en cada uno de los resultados experimentales.<br>\n",
    "  S = {HH,HT,TT,TH} Considerando que puede o no importar el orden<br>\n",
    "  \n",
    "  P(X=0) = prob de que ninguna sea cara = P(TT) = 1/2*1/2 = 1/4 = 0.25<br>\n",
    "  P(x=1) = prob de que una sola sea cara = P(HT)+P(TH) = 1/4 + 1/4 = 0.5<br>\n",
    "  P(X=2) = prob de que ambas sean caras = P(HH) = 1/2*1/2 = 1/4 = 0.25<br>\n",
    "  La sumatoria debe dar 1 total "
   ]
  },
  {
   "cell_type": "code",
   "execution_count": 2,
   "metadata": {},
   "outputs": [
    {
     "data": {
      "text/plain": [
       "1.0"
      ]
     },
     "execution_count": 2,
     "metadata": {},
     "output_type": "execute_result"
    }
   ],
   "source": [
    "# P(X=2 caras) = 1/2*1/2\n",
    "p0 = 0.25\n",
    "p1 = 0.5\n",
    "p2 = 0.25\n",
    "p1+p2+p0"
   ]
  },
  {
   "cell_type": "code",
   "execution_count": 71,
   "metadata": {},
   "outputs": [],
   "source": [
    "from math import factorial\n",
    "# n numero de amigos total n=4\n",
    "# x es el numero de eventos favorables = a  2 amigos haber leido el libro => x =2\n",
    "# p es la probabilidad de exito donde exito es haber leido el libro => p = 0.8 \n",
    "# q es la probabilidad de fracaso, es decir, no haber leido el libro q = 1 - p = 0.2\n",
    "def dist_binomial(n,k,p):\n",
    "    q = 1 -p\n",
    "    binomial = (factorial(n) / (factorial(k)*factorial((n-k))))* pow(p,k) * pow(q,(n-k))\n",
    "    return round(binomial,4) \n"
   ]
  },
  {
   "cell_type": "code",
   "execution_count": 70,
   "metadata": {},
   "outputs": [
    {
     "data": {
      "text/plain": [
       "0.25"
      ]
     },
     "execution_count": 70,
     "metadata": {},
     "output_type": "execute_result"
    }
   ],
   "source": [
    "dist_binomial(2,2,0.5)"
   ]
  },
  {
   "cell_type": "code",
   "execution_count": 76,
   "metadata": {},
   "outputs": [
    {
     "data": {
      "text/plain": [
       "0.25"
      ]
     },
     "execution_count": 76,
     "metadata": {},
     "output_type": "execute_result"
    }
   ],
   "source": [
    "stats.binom.pmf(2,2,0.5)"
   ]
  },
  {
   "cell_type": "markdown",
   "metadata": {},
   "source": [
    "- d. ¿Es una variable aleatoria discreta o continua?\n",
    "  Es una variable discreta con distribucion binomial<br>\n",
    "  Donde n = 2 (dos caras), k=2 dos eventos exitosos, p=1/2=0.5 y q =0.5"
   ]
  },
  {
   "cell_type": "markdown",
   "metadata": {},
   "source": [
    "#### 3. Considera las decisiones de compra de los próximos tres clientes que lleguen a la tienda de ropa Martin Clothing Store. De acuerdo con la experiencia, el gerente de la tienda estima que la probabilidad de que un cliente realice una compra es 0.30. \n",
    "  - a. Describa si cumple con las reglas para clasificarlo como un experimiento binomial."
   ]
  },
  {
   "cell_type": "markdown",
   "metadata": {},
   "source": [
    "The binomial distribution is a specific probability distribution that satisfies certain conditions. For a random variable to have a binomial distribution, the following conditions must be met:<br>\n",
    "\n",
    "1. *Fixed number of trials (n)*: There must be a fixed number of identical trials, denoted by \"n.\" Each trial is independent of the others.<br>\n",
    "\n",
    "2. *Two possible outcomes*: Each trial must result in one of two possible outcomes, often referred to as \"success\" and \"failure.\" These outcomes are mutually exclusive.<br>\n",
    "\n",
    "3. *Constant probability of success (p)*: The probability of success (denoted by \"p\") must be the same for each trial. Likewise, the probability of failure (q = 1 - p) must also be constant.<br>\n",
    "\n",
    "4. *Independence*: The trials must be independent of each other. The outcome of one trial should not influence the outcome of any other trial.<br>\n",
    " En este caso.\n",
    " - Cada ensayo tiene dos posibles resultados: el Cliente compra o no Compra.<br>\n",
    " - Ensayos independientes, la probabilidad se mantiene constante y no se ve afectada entre diferentes experimentos<br>\n",
    " - En otras palabras, si un cliente compra no afecta a la probabilidad de compra del siguiente cliente<br>\n",
    " => Podemos considerar este experimento BINOMIAL<br>"
   ]
  },
  {
   "cell_type": "markdown",
   "metadata": {},
   "source": [
    " b. ¿Cuál es la probabilidad de que dos de los próximos tres clientes realicen una compra?"
   ]
  },
  {
   "cell_type": "code",
   "execution_count": 6,
   "metadata": {},
   "outputs": [
    {
     "data": {
      "text/plain": [
       "0.189"
      ]
     },
     "execution_count": 6,
     "metadata": {},
     "output_type": "execute_result"
    }
   ],
   "source": [
    "# n=3 p=0.30 q = 0.70 y k= 2 que dos de los proximos 3 clientes realice una compra => x =2 dos compras\n",
    "p2 = dist_binomial(3,2,0.30)\n",
    "p2"
   ]
  },
  {
   "cell_type": "code",
   "execution_count": 82,
   "metadata": {},
   "outputs": [
    {
     "data": {
      "text/plain": [
       "0.189"
      ]
     },
     "execution_count": 82,
     "metadata": {},
     "output_type": "execute_result"
    }
   ],
   "source": [
    "# usando stats\n",
    "round(stats.binom.pmf(2,3,0.3),3)"
   ]
  },
  {
   "cell_type": "code",
   "execution_count": 7,
   "metadata": {},
   "outputs": [
    {
     "data": {
      "text/plain": [
       "0.189"
      ]
     },
     "execution_count": 7,
     "metadata": {},
     "output_type": "execute_result"
    }
   ],
   "source": [
    "p2tree = 0.3*0.3*0.7+0.3*0.7*0.3+0.7*0.3*0.3\n",
    "p2tree"
   ]
  },
  {
   "cell_type": "markdown",
   "metadata": {},
   "source": [
    "  - c. ¿Cuál es la probabilidad de que cuatro de los próximos diez clientes realicen una compra?"
   ]
  },
  {
   "cell_type": "code",
   "execution_count": 8,
   "metadata": {},
   "outputs": [
    {
     "data": {
      "text/plain": [
       "0.2001"
      ]
     },
     "execution_count": 8,
     "metadata": {},
     "output_type": "execute_result"
    }
   ],
   "source": [
    "# Binomial con n=10, k=4 , p=0.30 Probabilidad de que 4 de los proximos 10 clientes realice una compra\n",
    "dist_binomial(10,4,0.30)"
   ]
  },
  {
   "cell_type": "code",
   "execution_count": 85,
   "metadata": {},
   "outputs": [
    {
     "data": {
      "text/plain": [
       "0.2"
      ]
     },
     "execution_count": 85,
     "metadata": {},
     "output_type": "execute_result"
    }
   ],
   "source": [
    "# prob usando stats\n",
    "round(stats.binom.pmf(4,10,0.3),3)"
   ]
  },
  {
   "cell_type": "markdown",
   "metadata": {},
   "source": [
    "#### 4.  A la oficina de reservaciones de una aerolínea regional llegan 48 llamadas por hora.\n",
    "- a. Calcule la probabilidad de recibir cinco llamadas en un lapso de 5 minutos."
   ]
  },
  {
   "cell_type": "code",
   "execution_count": 14,
   "metadata": {},
   "outputs": [
    {
     "data": {
      "text/plain": [
       "4.0"
      ]
     },
     "execution_count": 14,
     "metadata": {},
     "output_type": "execute_result"
    }
   ],
   "source": [
    "# Distribucion discreta con distribucion de Poisson, con lamba_np = 48 llamadas por hora\n",
    "# 5 llamadas en un lapso de 5 minutos => convierto lamba_np\n",
    "lambda_np = 48/60*5\n",
    "lambda_np"
   ]
  },
  {
   "cell_type": "code",
   "execution_count": 10,
   "metadata": {},
   "outputs": [],
   "source": [
    "from math import e,factorial\n",
    "def dist_poisson(lambda_np,x):\n",
    "    prob = (pow(lambda_np,x)/factorial(x))*(pow(e,-lambda_np))\n",
    "    return round(prob,4)"
   ]
  },
  {
   "cell_type": "code",
   "execution_count": 18,
   "metadata": {},
   "outputs": [
    {
     "data": {
      "text/plain": [
       "0.1563"
      ]
     },
     "execution_count": 18,
     "metadata": {},
     "output_type": "execute_result"
    }
   ],
   "source": [
    "# la probabilidad de recibir 5 llamadas en un lapso de 5 minutos: (5/60)\n",
    "# Poisson con lambda_np = 4 y x =5:\n",
    "dist_poisson(4,5)"
   ]
  },
  {
   "cell_type": "code",
   "execution_count": null,
   "metadata": {},
   "outputs": [],
   "source": []
  },
  {
   "cell_type": "markdown",
   "metadata": {},
   "source": [
    "- b. Estime la probabilidad de recibir exactamente 10 llamadas en un lapso de 15 minutos."
   ]
  },
  {
   "cell_type": "code",
   "execution_count": 20,
   "metadata": {},
   "outputs": [
    {
     "data": {
      "text/plain": [
       "12.0"
      ]
     },
     "execution_count": 20,
     "metadata": {},
     "output_type": "execute_result"
    }
   ],
   "source": [
    "# prob de recibir 10 llamadas en un lapso de 15 minutos => x=10\n",
    "# lambda 48 llamadas/hora lo necesito convertir a 15 minutos:\n",
    "lambda_np_b = 48/60*15\n",
    "lambda_np_b"
   ]
  },
  {
   "cell_type": "code",
   "execution_count": 22,
   "metadata": {},
   "outputs": [
    {
     "data": {
      "text/plain": [
       "0.1048"
      ]
     },
     "execution_count": 22,
     "metadata": {},
     "output_type": "execute_result"
    }
   ],
   "source": [
    "dist_poisson(lambda_np_b,10)"
   ]
  },
  {
   "cell_type": "markdown",
   "metadata": {},
   "source": [
    "- c. Suponga que no hay ninguna llamada en espera. Si el agente de viajes necesitará 5 minutos para la llamada que está atendiendo, ¿cuántas llamadas habrá en espera para cuando él termine? ¿Cuál es la probabilidad de que no haya ninguna llamada en espera?"
   ]
  },
  {
   "cell_type": "code",
   "execution_count": 26,
   "metadata": {},
   "outputs": [
    {
     "name": "stdout",
     "output_type": "stream",
     "text": [
      "4.0  seran las llamadas en cola luego de 5 minutos\n"
     ]
    },
    {
     "data": {
      "text/plain": [
       "0.0183"
      ]
     },
     "execution_count": 26,
     "metadata": {},
     "output_type": "execute_result"
    }
   ],
   "source": [
    "# la cantidad de llamadas en espera sera igual a E(X) = lambda\n",
    "Ex = 48/60*5\n",
    "print(Ex,\" seran las llamadas en cola luego de 5 minutos\")\n",
    "# la probabilidad de que en 5 minutos llegue 1 llamada o mas => P(x>=1, lambda = 4, k=1) que es igual a 1-P(cero llamadas en cola)\n",
    "p0 = dist_poisson(4,0)\n",
    "p0"
   ]
  },
  {
   "cell_type": "markdown",
   "metadata": {},
   "source": [
    "- d. Si en este momento no hay ninguna llamada, ¿cuál es la probabilidad de que el agente de viajes pueda tomar 3 minutos de descanso sin ser interrumpido por una llamada?"
   ]
  },
  {
   "cell_type": "code",
   "execution_count": 27,
   "metadata": {},
   "outputs": [
    {
     "data": {
      "text/plain": [
       "0.0907"
      ]
     },
     "execution_count": 27,
     "metadata": {},
     "output_type": "execute_result"
    }
   ],
   "source": [
    "# lambda para 3 minutos, y probabilidad de que x =0, con lambda 3 minutos:\n",
    "lambda_3_min = 48/60*3 \n",
    " # y probabilidad de que x =0, con lambda 3 minutos:\n",
    "p0 = dist_poisson(lambda_3_min,0)\n",
    "p0"
   ]
  },
  {
   "cell_type": "markdown",
   "metadata": {},
   "source": [
    "#### 5. En una encuesta realizada por Gallup Organization, se les preguntó a los interrogados, “Cuál es el deporte que prefieres ver”. Futbol y básquetbol ocuparon el primero y segundo lugar de preferencia (www.gallup.com, 3 de enero de 2004). Si en un grupo de 10 individuos, siete prefieren futbol y tres prefieren básquetbol. Se toma una muestra aleatoria de tres de estas personas.<br>\n",
    "- a. ¿Cuál es la probabilidad de que exactamente dos prefieren el futbol?<br>"
   ]
  },
  {
   "cell_type": "markdown",
   "metadata": {},
   "source": [
    "Conditions:\n",
    "<br>\n",
    "* Finite population size (N).\n",
    "* Fixed number of trials (n).\n",
    "* Two possible outcomes per trial.\n",
    "* Sampling without replacement.\n",
    "Key Differences<br>\n",
    "- Sampling with or without replacement: *Hypergeometric distribution*: Assumes sampling without replacement.<br>\n",
    "- Population Size: *Hypergeometric distribution*: Requires knowledge of the population size.<br>\n",
    "- Use Cases: *Hypergeometric distribution*: Appropriate for scenarios involving sampling without replacement from a finite population. "
   ]
  },
  {
   "cell_type": "markdown",
   "metadata": {},
   "source": [
    "p(futbol) = 0.7<br>\n",
    "p(basquet) = 0.3<br>\n",
    "Son independientes y son mutuamente excluyentes<br>\n",
    "evento = es que le guste el futbol\n",
    "n = 3 Hipergeometrica con N = 10, n = 7, X=3 , x=2"
   ]
  },
  {
   "cell_type": "code",
   "execution_count": 32,
   "metadata": {},
   "outputs": [],
   "source": [
    "from math import factorial \n",
    "def dist_hipergeometrica(N,n,X,x):\n",
    "    Xx = factorial(X)/(factorial(x)*factorial((X-x)))\n",
    "    NX_nx = factorial(N-X)/(factorial(n-x)*factorial((N-X)-(n-x)))\n",
    "    Nn = factorial(N)/(factorial(n)*factorial(N-n))\n",
    "    prob_hipergeom = round((Xx * NX_nx)/Nn,2)\n",
    "    return prob_hipergeom"
   ]
  },
  {
   "cell_type": "code",
   "execution_count": 34,
   "metadata": {},
   "outputs": [
    {
     "data": {
      "text/plain": [
       "0.53"
      ]
     },
     "execution_count": 34,
     "metadata": {},
     "output_type": "execute_result"
    }
   ],
   "source": [
    "dist_hipergeometrica(10,7,3,2)"
   ]
  },
  {
   "cell_type": "markdown",
   "metadata": {},
   "source": [
    "- b. ¿De que la mayoría (ya sean dos o tres) prefiere el futbol?\n",
    "Prob(N=10,n=7,X=3,x=2) + Prob(N=10,n=7,X=3,x=3) "
   ]
  },
  {
   "cell_type": "code",
   "execution_count": 38,
   "metadata": {},
   "outputs": [
    {
     "data": {
      "text/plain": [
       "0.8200000000000001"
      ]
     },
     "execution_count": 38,
     "metadata": {},
     "output_type": "execute_result"
    }
   ],
   "source": [
    "p2 = dist_hipergeometrica(10,7,3,3)\n",
    "p3 = dist_hipergeometrica(10,7,3,2)\n",
    "p1 = dist_hipergeometrica(10,7,3,1)\n",
    "p0 = dist_hipergeometrica(10,7,3,0)\n",
    "p0+p1+p2+p3\n",
    "prob_2_o_3 = p2 + p3\n",
    "prob_2_o_3"
   ]
  },
  {
   "cell_type": "markdown",
   "metadata": {},
   "source": [
    "#### 6. La probabilidad de que a un estudiante le guste este modulo es de 0.7 (en Henry somos optimistas), cual es la probabilidad de que les guste este módulo a 6 de los 10 estudiantes.<br>\n",
    "Binomial de 6 de 10, p = 0.7, n =6, q = 0.30\n",
    "P(x=6) "
   ]
  },
  {
   "cell_type": "code",
   "execution_count": 39,
   "metadata": {},
   "outputs": [
    {
     "data": {
      "text/plain": [
       "0.2001"
      ]
     },
     "execution_count": 39,
     "metadata": {},
     "output_type": "execute_result"
    }
   ],
   "source": [
    "dist_binomial(10,6,0.7)"
   ]
  },
  {
   "cell_type": "markdown",
   "metadata": {},
   "source": [
    "#### 7. De todos los push a Git en un Henry Challenge, el 90% lo envía a término. Si se envían 9 ¿cuál es la probabilidad de que 7 lleguen a término?.<br>"
   ]
  },
  {
   "cell_type": "code",
   "execution_count": 40,
   "metadata": {},
   "outputs": [
    {
     "data": {
      "text/plain": [
       "0.1722"
      ]
     },
     "execution_count": 40,
     "metadata": {},
     "output_type": "execute_result"
    }
   ],
   "source": [
    "# p = 0.9 n =9 y x = 7\n",
    "dist_binomial(9,7,0.9)"
   ]
  },
  {
   "cell_type": "code",
   "execution_count": 79,
   "metadata": {},
   "outputs": [
    {
     "data": {
      "text/plain": [
       "0.17"
      ]
     },
     "execution_count": 79,
     "metadata": {},
     "output_type": "execute_result"
    }
   ],
   "source": [
    "# es baja porque es la probabilidad puntual de que sean solo 7 o exactamente 7. Es alta entonces \n",
    "# prob_binomial(k,n,p)\n",
    "round(stats.binom.pmf(7,9,0.9),2)"
   ]
  },
  {
   "cell_type": "markdown",
   "metadata": {},
   "source": [
    "#### 8. En relación con el enunciado anterior cálcule la probabilidad de que 7 o más lleguen a término.<br>"
   ]
  },
  {
   "cell_type": "code",
   "execution_count": 41,
   "metadata": {},
   "outputs": [
    {
     "data": {
      "text/plain": [
       "0.9470000000000001"
      ]
     },
     "execution_count": 41,
     "metadata": {},
     "output_type": "execute_result"
    }
   ],
   "source": [
    "# P(x>=7) = P(X=7) + P(X=8) + P(X=9)\n",
    "p7 = dist_binomial(9,7,0.9)\n",
    "p8 = dist_binomial(9,8,0.9)\n",
    "p9 = dist_binomial(9,9,0.9)\n",
    "prob_7_o_mas = p7+p8+p9\n",
    "prob_7_o_mas"
   ]
  },
  {
   "cell_type": "code",
   "execution_count": 90,
   "metadata": {},
   "outputs": [
    {
     "name": "stdout",
     "output_type": "stream",
     "text": [
      "0.947\n"
     ]
    }
   ],
   "source": [
    "# Probabilidad acumulada\n",
    "suma = 0\n",
    "for i in range(7,10):\n",
    "    suma = suma + dist_binomial(9,i,0.9)\n",
    "print(round(suma,3))"
   ]
  },
  {
   "cell_type": "code",
   "execution_count": 87,
   "metadata": {},
   "outputs": [
    {
     "name": "stdout",
     "output_type": "stream",
     "text": [
      "0.9471\n"
     ]
    }
   ],
   "source": [
    "# probabilidad Acumulada inversa Es decir, P(X<7) = 1 - P(X<7)\n",
    "# Calculamos la P(X<7)\n",
    "suma = 0\n",
    "for i in range(0,7):\n",
    "    suma = suma + dist_binomial(9,i,0.9)\n",
    "print(1-suma)"
   ]
  },
  {
   "cell_type": "markdown",
   "metadata": {},
   "source": [
    "9. La cantidad de alumnos promedio que se ausentan en un día de clases en la carrera de Data Science es de 10. Calcular cual es la probabilidad de que se ausenten 7 alumnos.<br>"
   ]
  },
  {
   "cell_type": "markdown",
   "metadata": {},
   "source": [
    "lambda_np = 10 alumnos/dia\n"
   ]
  },
  {
   "cell_type": "code",
   "execution_count": 42,
   "metadata": {},
   "outputs": [
    {
     "data": {
      "text/plain": [
       "0.0901"
      ]
     },
     "execution_count": 42,
     "metadata": {},
     "output_type": "execute_result"
    }
   ],
   "source": [
    "p7 = dist_poisson(10,7)\n",
    "p7"
   ]
  },
  {
   "cell_type": "code",
   "execution_count": 92,
   "metadata": {},
   "outputs": [
    {
     "data": {
      "text/plain": [
       "0.090079225719216"
      ]
     },
     "execution_count": 92,
     "metadata": {},
     "output_type": "execute_result"
    }
   ],
   "source": [
    "stats.poisson._pmf(7,10)"
   ]
  },
  {
   "cell_type": "markdown",
   "metadata": {},
   "source": [
    "10. Cuando inicia una clase, los estudiantes ingresan a un ritmo de 5 estudiantes por minuto. <br>\n",
    "Calcular cual es la probabilidad de que ingresen 7 estudiantes por minuto.<br>"
   ]
  },
  {
   "cell_type": "code",
   "execution_count": 43,
   "metadata": {},
   "outputs": [
    {
     "data": {
      "text/plain": [
       "0.1044"
      ]
     },
     "execution_count": 43,
     "metadata": {},
     "output_type": "execute_result"
    }
   ],
   "source": [
    "# lambda = 5 estudiantes/minuto\n",
    "# Prob(x=7, lambda = 5)\n",
    "prob_7 = dist_poisson(5,7)\n",
    "prob_7"
   ]
  },
  {
   "cell_type": "markdown",
   "metadata": {},
   "source": [
    "## Ejercicios complementarios <br>\n",
    "\n",
    "11. Cada 3 días ingresan 10 estudiantes nuevos al Prep Course de Henry, calcule la probabilidad de que ingresen 15 nuevos estudiantes en un período de 6 días.<br>"
   ]
  },
  {
   "cell_type": "code",
   "execution_count": 47,
   "metadata": {},
   "outputs": [
    {
     "data": {
      "text/plain": [
       "0.0516"
      ]
     },
     "execution_count": 47,
     "metadata": {},
     "output_type": "execute_result"
    }
   ],
   "source": [
    "# lambda = 10 estudiantes / 3 dias\n",
    "# lambda_10 = 20 estudiantes / 6 dias\n",
    "#Prob(x=15,lambda = 20)\n",
    "dist_poisson(20,15)"
   ]
  },
  {
   "cell_type": "markdown",
   "metadata": {},
   "source": [
    "12. En una distribución de Poisson de lamba_np=3, cual es la probabilidad de x>=1.<br>"
   ]
  },
  {
   "cell_type": "code",
   "execution_count": 50,
   "metadata": {},
   "outputs": [
    {
     "data": {
      "text/plain": [
       "0.9502"
      ]
     },
     "execution_count": 50,
     "metadata": {},
     "output_type": "execute_result"
    }
   ],
   "source": [
    "# Prob(x>=1, lambda_np = 3) = 1 - P(x=0, lambda_np = 3)\n",
    "p_mayor_1 = 1- dist_poisson(3,0)\n",
    "p_mayor_1"
   ]
  },
  {
   "cell_type": "markdown",
   "metadata": {},
   "source": [
    "#### 13. La calificación promedio de los estudiantes de Henry es de 78 con una desviación estandar de 25. Cual es la probabilidad de tener estudiantes con calificaciones mayores o iguales 90."
   ]
  },
  {
   "cell_type": "markdown",
   "metadata": {},
   "source": [
    "Normal(media = 78, sigma = 25)<br>\n",
    "Prob(X>=90) = 1 - Prob(X<= 90)<br>\n",
    "            = 1 - F(z= (90-78)/25) = 1 - 0.6844 = 0.3156"
   ]
  },
  {
   "cell_type": "code",
   "execution_count": 58,
   "metadata": {},
   "outputs": [],
   "source": [
    "from math import e, factorial\n",
    "from statistics import NormalDist"
   ]
  },
  {
   "cell_type": "markdown",
   "metadata": {},
   "source": [
    "Python Statistics Library<br>\n",
    "https://docs.python.org/3/library/statistics.html<br>\n",
    "Python SciPy Library<br>\n",
    "https://docs.scipy.org/doc/scipy/tutorial/stats/continuous_norm.html#normal-distribution<br>"
   ]
  },
  {
   "cell_type": "code",
   "execution_count": 93,
   "metadata": {},
   "outputs": [
    {
     "name": "stdout",
     "output_type": "stream",
     "text": [
      "The probability that X is greater than 90 is: 0.3156\n"
     ]
    }
   ],
   "source": [
    "from scipy.stats import norm\n",
    "\n",
    "# Define the parameters of the normal distribution\n",
    "mu = 78    # mean\n",
    "sigma = 25  # standard deviation\n",
    "\n",
    "# Define the random value 'a'\n",
    "a = 90\n",
    "\n",
    "# Calculate the probability that X is greater than 'a'\n",
    "probability_greater_than_a = 1 - norm.cdf(a, loc=mu, scale=sigma)\n",
    "\n",
    "print(f\"The probability that X is greater than {a} is: {probability_greater_than_a:.4f}\")\n"
   ]
  },
  {
   "cell_type": "code",
   "execution_count": 94,
   "metadata": {},
   "outputs": [
    {
     "data": {
      "text/plain": [
       "1.2815515655446004"
      ]
     },
     "execution_count": 94,
     "metadata": {},
     "output_type": "execute_result"
    }
   ],
   "source": [
    "# Con esto me da el valor de z que corresponde al percentil 90%. ppf = Percent point function (inverse of cdf — percentiles).\n",
    "norm.ppf(0.9) # solo necesito el valor que deberia dar la funcion de probabilidad."
   ]
  },
  {
   "cell_type": "markdown",
   "metadata": {},
   "source": [
    "##### Normally distributed IQ scores have a mean of 100 and a standard deviation of 15.<br>\n",
    "What is the probability of randomly selecting someone with an IQ score that:  <br>\n",
    "a. is less than 80?\n",
    "b. is between 95 and 110?\n",
    "c. greater than 136?\n",
    "d. 90th percentile?\n",
    "e. the middle 30% of IQs fall between what two values?"
   ]
  },
  {
   "cell_type": "code",
   "execution_count": 99,
   "metadata": {},
   "outputs": [
    {
     "name": "stdout",
     "output_type": "stream",
     "text": [
      "0.38532046640756773 -0.38532046640756773\n",
      "105.77980699611352 94.22019300388648\n"
     ]
    }
   ],
   "source": [
    "sigma = 15 \n",
    "mu = 100\n",
    "# que valores de x caen dentro del 30%??\n",
    "# aca cmf = 0.15 => busco el z que me da 0.15 => 0.5+0.15 = 0.65 es el xs y el xi es 0.5 - .015 = 0.35\n",
    "# entonces buscamos esos xs y xi\n",
    "Zs = norm.ppf(0.65)\n",
    "Zi =norm.ppf(0.35)\n",
    "print(Zs,Zi)\n",
    "# ahora con esos Z calculo x siendo que x = Z*sigma + mu\n",
    "xs = Zs*sigma + mu\n",
    "xi= (-1)*(Zs*sigma - mu)\n",
    "print(xs,xi)"
   ]
  }
 ],
 "metadata": {
  "kernelspec": {
   "display_name": "Python 3",
   "language": "python",
   "name": "python3"
  },
  "language_info": {
   "codemirror_mode": {
    "name": "ipython",
    "version": 3
   },
   "file_extension": ".py",
   "mimetype": "text/x-python",
   "name": "python",
   "nbconvert_exporter": "python",
   "pygments_lexer": "ipython3",
   "version": "3.12.0"
  }
 },
 "nbformat": 4,
 "nbformat_minor": 2
}

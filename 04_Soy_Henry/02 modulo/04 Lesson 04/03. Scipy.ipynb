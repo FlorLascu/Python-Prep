{
 "cells": [
  {
   "cell_type": "code",
   "execution_count": 3,
   "metadata": {},
   "outputs": [],
   "source": [
    "from scipy import stats"
   ]
  },
  {
   "cell_type": "markdown",
   "metadata": {},
   "source": [
    "#### Binomial"
   ]
  },
  {
   "cell_type": "code",
   "execution_count": 4,
   "metadata": {},
   "outputs": [],
   "source": [
    "from math import factorial\n",
    "# n numero de amigos total n=4\n",
    "# x es el numero de eventos favorables = a  2 amigos haber leido el libro => x =2\n",
    "# p es la probabilidad de exito donde exito es haber leido el libro => p = 0.8 \n",
    "# q es la probabilidad de fracaso, es decir, no haber leido el libro q = 1 - p = 0.2\n",
    "def dist_binomial(n,k,p):\n",
    "    q = 1 -p\n",
    "    binomial = (factorial(n) / (factorial(k)*factorial((n-k))))* pow(p,k) * pow(q,(n-k))\n",
    "    return round(binomial,4)"
   ]
  },
  {
   "cell_type": "code",
   "execution_count": 5,
   "metadata": {},
   "outputs": [
    {
     "data": {
      "text/plain": [
       "0.25"
      ]
     },
     "execution_count": 5,
     "metadata": {},
     "output_type": "execute_result"
    }
   ],
   "source": [
    "# dist_binom(n,k,p)\n",
    "dist_binomial(2,2,0.5)"
   ]
  },
  {
   "cell_type": "code",
   "execution_count": 6,
   "metadata": {},
   "outputs": [
    {
     "data": {
      "text/plain": [
       "0.25"
      ]
     },
     "execution_count": 6,
     "metadata": {},
     "output_type": "execute_result"
    }
   ],
   "source": [
    "# es stats.binom.pmf(k,n,p)\n",
    "stats.binom.pmf(2,2,0.5)"
   ]
  },
  {
   "cell_type": "markdown",
   "metadata": {},
   "source": [
    "#### Poisson"
   ]
  },
  {
   "cell_type": "code",
   "execution_count": 8,
   "metadata": {},
   "outputs": [],
   "source": [
    "from math import e,factorial\n",
    "def dist_poisson(lambda_np,x):\n",
    "    prob = (pow(lambda_np,x)/factorial(x))*(pow(e,-lambda_np))\n",
    "    return round(prob,4)"
   ]
  },
  {
   "cell_type": "code",
   "execution_count": 9,
   "metadata": {},
   "outputs": [
    {
     "data": {
      "text/plain": [
       "0.1563"
      ]
     },
     "execution_count": 9,
     "metadata": {},
     "output_type": "execute_result"
    }
   ],
   "source": [
    "# la probabilidad de recibir 5 llamadas en un lapso de 5 minutos: (5/60)\n",
    "# Poisson con lambda_np = 4 y x =5:\n",
    "dist_poisson(4,5)"
   ]
  },
  {
   "cell_type": "code",
   "execution_count": 10,
   "metadata": {},
   "outputs": [
    {
     "data": {
      "text/plain": [
       "0.1563"
      ]
     },
     "execution_count": 10,
     "metadata": {},
     "output_type": "execute_result"
    }
   ],
   "source": [
    "# usando stats.poisson.pmf(x,lambda)\n",
    "round(stats.poisson.pmf(5,4),4)"
   ]
  },
  {
   "cell_type": "markdown",
   "metadata": {},
   "source": [
    "#### Hipergeometrica"
   ]
  },
  {
   "cell_type": "code",
   "execution_count": 11,
   "metadata": {},
   "outputs": [],
   "source": [
    "from math import factorial \n",
    "def dist_hipergeometrica(N,n,X,x):\n",
    "    Xx = factorial(X)/(factorial(x)*factorial((X-x)))\n",
    "    NX_nx = factorial(N-X)/(factorial(n-x)*factorial((N-X)-(n-x)))\n",
    "    Nn = factorial(N)/(factorial(n)*factorial(N-n))\n",
    "    prob_hipergeom = round((Xx * NX_nx)/Nn,2)\n",
    "    return prob_hipergeom"
   ]
  },
  {
   "cell_type": "markdown",
   "metadata": {},
   "source": [
    "En un control de calidad, se tiene que de 65 productos seleccionados, 2 poseen fallas de fabricación. Cual es la prob. de encontrar un producto con fallas si se seleccionan 5 productos?"
   ]
  },
  {
   "cell_type": "code",
   "execution_count": 12,
   "metadata": {},
   "outputs": [
    {
     "data": {
      "text/plain": [
       "0.14"
      ]
     },
     "execution_count": 12,
     "metadata": {},
     "output_type": "execute_result"
    }
   ],
   "source": [
    "# N = 65    Total de la Muestra\n",
    "# X = 2     fallas en fabricacion\n",
    "# n = 5     De la muestra se selecciona un extracto\n",
    "# x = 1     Cual es la probabilidad de encontrar UN(x) producto con falla si se seleccionan n = 5 productos\n",
    "# dist_hipergeometrica(N,n,X,x)\n",
    "prob_importado_2 = dist_hipergeometrica(65,2,5,1)\n",
    "prob_importado_2"
   ]
  },
  {
   "cell_type": "code",
   "execution_count": null,
   "metadata": {},
   "outputs": [],
   "source": [
    "stats.hipergeometric"
   ]
  },
  {
   "cell_type": "markdown",
   "metadata": {},
   "source": [
    "#### Normal"
   ]
  },
  {
   "cell_type": "code",
   "execution_count": 13,
   "metadata": {},
   "outputs": [
    {
     "name": "stdout",
     "output_type": "stream",
     "text": [
      "The probability that X is greater than 90 is: 0.3156\n"
     ]
    }
   ],
   "source": [
    "from scipy.stats import norm\n",
    "\n",
    "# Define the parameters of the normal distribution\n",
    "mu = 78    # mean\n",
    "sigma = 25  # standard deviation\n",
    "\n",
    "# Define the random value 'a'\n",
    "a = 90\n",
    "\n",
    "# Calculate the probability that X is greater than 'a'\n",
    "probability_greater_than_a = 1 - norm.cdf(a, loc=mu, scale=sigma)\n",
    "\n",
    "print(f\"The probability that X is greater than {a} is: {probability_greater_than_a:.4f}\")\n"
   ]
  },
  {
   "cell_type": "code",
   "execution_count": 14,
   "metadata": {},
   "outputs": [
    {
     "data": {
      "text/plain": [
       "1.2815515655446004"
      ]
     },
     "execution_count": 14,
     "metadata": {},
     "output_type": "execute_result"
    }
   ],
   "source": [
    "# Con esto me da el valor de z que corresponde al percentil 90%. ppf = Percent point function (inverse of cdf — percentiles).\n",
    "norm.ppf(0.9) # solo necesito el valor que deberia dar la funcion de probabilidad."
   ]
  },
  {
   "cell_type": "markdown",
   "metadata": {},
   "source": []
  },
  {
   "cell_type": "code",
   "execution_count": null,
   "metadata": {},
   "outputs": [],
   "source": [
    "sigma = 15 \n",
    "mu = 100\n",
    "# que valores de x caen dentro del 30%??\n",
    "# aca cmf = 0.15 => busco el z que me da 0.15 => 0.5+0.15 = 0.65 es el xs y el xi es 0.5 - .015 = 0.35\n",
    "# entonces buscamos esos xs y xi\n",
    "Zs = norm.ppf(0.65)\n",
    "Zi =norm.ppf(0.35)\n",
    "print(Zs,Zi)\n",
    "# ahora con esos Z calculo x siendo que x = Z*sigma + mu\n",
    "xs = Zs*sigma + mu\n",
    "xi= (-1)*(Zs*sigma - mu)\n",
    "print(xs,xi)"
   ]
  }
 ],
 "metadata": {
  "kernelspec": {
   "display_name": "Python 3",
   "language": "python",
   "name": "python3"
  },
  "language_info": {
   "codemirror_mode": {
    "name": "ipython",
    "version": 3
   },
   "file_extension": ".py",
   "mimetype": "text/x-python",
   "name": "python",
   "nbconvert_exporter": "python",
   "pygments_lexer": "ipython3",
   "version": "3.12.0"
  }
 },
 "nbformat": 4,
 "nbformat_minor": 2
}

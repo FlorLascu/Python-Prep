{
 "cells": [
  {
   "cell_type": "code",
   "execution_count": 2,
   "metadata": {},
   "outputs": [],
   "source": [
    "class Node:\n",
    "    def __init__(self, val):\n",
    "        self.data = val\n",
    "        self.next = None\n",
    "\n",
    "    def getData(self):\n",
    "        return self.data\n",
    "\n",
    "    def getNext(self):\n",
    "        return self.next\n",
    "\n",
    "    def setData(self, val):\n",
    "        self.data = val\n",
    "\n",
    "    def setNext(self, val):\n",
    "        self.next = val"
   ]
  },
  {
   "cell_type": "code",
   "execution_count": 3,
   "metadata": {},
   "outputs": [],
   "source": [
    "n1 = Node(5)\n",
    "n2 = Node(7)\n",
    "n3 = Node(8)"
   ]
  },
  {
   "cell_type": "code",
   "execution_count": 4,
   "metadata": {},
   "outputs": [],
   "source": [
    "n1.setNext(n2)\n",
    "n2.setNext(n3)"
   ]
  },
  {
   "cell_type": "code",
   "execution_count": 5,
   "metadata": {},
   "outputs": [
    {
     "data": {
      "text/plain": [
       "<__main__.Node at 0x172be877500>"
      ]
     },
     "execution_count": 5,
     "metadata": {},
     "output_type": "execute_result"
    }
   ],
   "source": [
    "n1.getNext() # me muestra en lenguaje la celda de memoria de n2"
   ]
  },
  {
   "cell_type": "code",
   "execution_count": 6,
   "metadata": {},
   "outputs": [
    {
     "data": {
      "text/plain": [
       "True"
      ]
     },
     "execution_count": 6,
     "metadata": {},
     "output_type": "execute_result"
    }
   ],
   "source": [
    "n1.getNext() == n2 # verifico que es asi, que n1 conecta con n2"
   ]
  },
  {
   "cell_type": "code",
   "execution_count": 7,
   "metadata": {},
   "outputs": [
    {
     "name": "stdout",
     "output_type": "stream",
     "text": [
      "1592351766336 1592360940608\n",
      "[3.5, 7] [3.5, 7, 67]\n"
     ]
    }
   ],
   "source": [
    "# Bonus track\n",
    "numeros = [3.5,7]\n",
    "numeros2 = numeros.copy()\n",
    "print(id(numeros),id(numeros2))\n",
    "numeros2.append(67)\n",
    "print(numeros, numeros2)"
   ]
  },
  {
   "cell_type": "code",
   "execution_count": 10,
   "metadata": {},
   "outputs": [
    {
     "name": "stdout",
     "output_type": "stream",
     "text": [
      "5\n",
      "7\n",
      "8\n"
     ]
    }
   ],
   "source": [
    "# listas enlazadas simples\n",
    "# iterar los elementos de la lista enlazada\n",
    "head = n1\n",
    "donde_estoy_parado = head\n",
    "while donde_estoy_parado.getNext() != None: #mientras no llegue al ultimo nodo se queda dentro del loop\n",
    "    print(donde_estoy_parado.getData())\n",
    "    donde_estoy_parado = donde_estoy_parado.getNext()\n",
    "print(donde_estoy_parado.getData())"
   ]
  },
  {
   "cell_type": "markdown",
   "metadata": {},
   "source": [
    " * LinkedList hace esta logica que acabamos de revisar arriba\n",
    "    - def __init__ el constructor crea el nodo.\n",
    "    - isEmpty => revisa si la lista esta vacio\n",
    "    - add instancia un nuevo nodo y lo enlaza con el anterior, y setea al nuevo nodo como el nuevo Head de la lista enlazada\n",
    "    - size => itera los elementos y cuenta para sacar la longitud que es la cant nodos\n",
    "    - search => itera en todos y buscar el data dentro de un ciclo while hasta que encuentra la data\n",
    "    - remove => remueve un item de la lista y si no lo encuentra levanta un error ValueError not found\n",
    "    - insertar => busca el indice del nodo buscado y devuelve un contador con la ubicacion del elemento\n",
    "    - \n",
    "    - son los metodos y logica de las listas de Python programadas con codigo.\n"
   ]
  },
  {
   "cell_type": "code",
   "execution_count": 11,
   "metadata": {},
   "outputs": [],
   "source": [
    "class LinkedList:\n",
    "    def __init__(self):\n",
    "        self.head = None\n",
    "\n",
    "    def isEmpty(self):\n",
    "        \"\"\"Check if the list is empty\"\"\"\n",
    "        if (self.head == None):\n",
    "            return True\n",
    "        else:\n",
    "            return False\n",
    "\n",
    "    def add(self, item):\n",
    "        \"\"\"Add the item to the list\"\"\"\n",
    "        new_node = Node(item)\n",
    "        new_node.setNext(self.head)\n",
    "        self.head = new_node\n",
    "\n",
    "    def size(self):\n",
    "        \"\"\"Return the length/size of the list\"\"\"\n",
    "        count = 0\n",
    "        current = self.head\n",
    "        while (not(current == None)):\n",
    "            count += 1\n",
    "            current = current.getNext()\n",
    "        return count\n",
    "\n",
    "    def search(self, item):\n",
    "        \"\"\"Search for item in list. If found, return True. If not found, return False\"\"\"\n",
    "        current = self.head\n",
    "        found = False\n",
    "        while ((current != None) and (not found)):\n",
    "            if current.getData() is item:\n",
    "                found = True\n",
    "            else:\n",
    "                current = current.getNext()\n",
    "        return found\n",
    "\n",
    "    def remove(self, item):\n",
    "        \"\"\"Remove item from list. If item is not found in list, raise ValueError\"\"\"\n",
    "        current = self.head\n",
    "        previous = None\n",
    "        found = False\n",
    "        while((current != None) and (not found)):\n",
    "            if(current.getData() == item):\n",
    "                found = True\n",
    "            else:\n",
    "                previous = current\n",
    "                current = current.getNext()\n",
    "        if found:\n",
    "            if(previous == None):\n",
    "                self.head = current.getNext()\n",
    "            else:\n",
    "                previous.setNext(current.getNext())\n",
    "        else:\n",
    "            raise ValueError\n",
    "            print('Value not found.')\n",
    "\n",
    "    def insert(self, position, item):\n",
    "        \"\"\"\n",
    "        Insert item at position specified. If position specified is\n",
    "        out of bounds, raise IndexError\n",
    "        \"\"\"\n",
    "        if position > self.size() - 1:\n",
    "            raise IndexError\n",
    "            print('Index out of bounds.')\n",
    "        current = self.head\n",
    "        previous = None\n",
    "        pos = 0\n",
    "        if position == 0:\n",
    "            self.add(item)\n",
    "        else:\n",
    "            new_node = Node(item)\n",
    "            while pos < position:\n",
    "                pos += 1\n",
    "                previous = current\n",
    "                current = current.getNext()\n",
    "            previous.setNext(new_node)\n",
    "            new_node.setNext(current)\n",
    "\n",
    "    def index(self, item):\n",
    "        \"\"\"\n",
    "        Return the index where item is found.\n",
    "        If item is not found, return None.\n",
    "        \"\"\"\n",
    "        current = self.head\n",
    "        pos = 0\n",
    "        found = False\n",
    "        while ((current != None) and (not found)):\n",
    "            if (current.getData() == item):\n",
    "                found = True\n",
    "            else:\n",
    "                current = current.getNext()\n",
    "                pos += 1\n",
    "        if found:\n",
    "            pass\n",
    "        else:\n",
    "            pos = None\n",
    "        return pos\n",
    "\n",
    "    def pop(self, position = None):\n",
    "        \"\"\"\n",
    "        If no argument is provided, return and remove the item at the head. \n",
    "        If position is provided, return and remove the item at that position.\n",
    "        If index is out of bounds, raise IndexError\n",
    "        \"\"\"\n",
    "        current = self.head\n",
    "        if (position == None):\n",
    "            ret = current.getData()\n",
    "            self.head = current.getNext()\n",
    "        else:\n",
    "            if position > self.size():\n",
    "                print('Index out of bounds')\n",
    "                raise IndexError\n",
    "            pos = 0\n",
    "            previous = None\n",
    "            while pos < position:\n",
    "                previous = current\n",
    "                current = current.getNext()\n",
    "                pos += 1\n",
    "                ret = current.getData()\n",
    "            previous.setNext(current.getNext())\n",
    "        return ret\n",
    "\n",
    "    def append(self, item):\n",
    "        \"\"\"Append item to the end of the list\"\"\"\n",
    "        current = self.head\n",
    "        previous = None\n",
    "        pos = 0\n",
    "        length = self.size()\n",
    "        while pos < length:\n",
    "            previous = current\n",
    "            current = current.getNext()\n",
    "            pos += 1\n",
    "        new_node = Node(item)\n",
    "        if (previous == None):\n",
    "            new_node.setNext(current)\n",
    "            self.head = new_node\n",
    "        else:\n",
    "            previous.setNext(new_node)\n",
    "\n",
    "    def printList(self):\n",
    "        \"\"\"Print the list\"\"\"\n",
    "        current = self.head\n",
    "        while (not(current == None)):\n",
    "            print(current.getData())\n",
    "            current = current.getNext()"
   ]
  },
  {
   "cell_type": "code",
   "execution_count": 12,
   "metadata": {},
   "outputs": [],
   "source": [
    "lis = LinkedList()"
   ]
  },
  {
   "cell_type": "code",
   "execution_count": 13,
   "metadata": {},
   "outputs": [
    {
     "data": {
      "text/plain": [
       "True"
      ]
     },
     "execution_count": 13,
     "metadata": {},
     "output_type": "execute_result"
    }
   ],
   "source": [
    "lis.isEmpty()"
   ]
  },
  {
   "cell_type": "code",
   "execution_count": 14,
   "metadata": {},
   "outputs": [],
   "source": [
    "lis.add('rojo')"
   ]
  },
  {
   "cell_type": "code",
   "execution_count": 15,
   "metadata": {},
   "outputs": [
    {
     "data": {
      "text/plain": [
       "False"
      ]
     },
     "execution_count": 15,
     "metadata": {},
     "output_type": "execute_result"
    }
   ],
   "source": [
    "lis.isEmpty()"
   ]
  },
  {
   "cell_type": "code",
   "execution_count": 16,
   "metadata": {},
   "outputs": [
    {
     "data": {
      "text/plain": [
       "1"
      ]
     },
     "execution_count": 16,
     "metadata": {},
     "output_type": "execute_result"
    }
   ],
   "source": [
    "lis.size()"
   ]
  },
  {
   "cell_type": "code",
   "execution_count": 17,
   "metadata": {},
   "outputs": [],
   "source": [
    "lis.add('azul')"
   ]
  },
  {
   "cell_type": "code",
   "execution_count": 18,
   "metadata": {},
   "outputs": [],
   "source": [
    "lis.add('blanoc')\n",
    "lis.add('verde')"
   ]
  },
  {
   "cell_type": "code",
   "execution_count": 19,
   "metadata": {},
   "outputs": [
    {
     "name": "stdout",
     "output_type": "stream",
     "text": [
      "verde\n",
      "blanoc\n",
      "azul\n",
      "rojo\n"
     ]
    }
   ],
   "source": [
    "lis.printList() # va de atras para adelante"
   ]
  },
  {
   "cell_type": "code",
   "execution_count": 20,
   "metadata": {},
   "outputs": [],
   "source": [
    "lis.insert(2,'magenta')"
   ]
  },
  {
   "cell_type": "code",
   "execution_count": 21,
   "metadata": {},
   "outputs": [
    {
     "name": "stdout",
     "output_type": "stream",
     "text": [
      "verde\n",
      "blanoc\n",
      "magenta\n",
      "azul\n",
      "rojo\n"
     ]
    }
   ],
   "source": [
    "lis.printList() # va de atras para adelante"
   ]
  },
  {
   "cell_type": "code",
   "execution_count": 23,
   "metadata": {},
   "outputs": [
    {
     "data": {
      "text/plain": [
       "1"
      ]
     },
     "execution_count": 23,
     "metadata": {},
     "output_type": "execute_result"
    }
   ],
   "source": [
    "lis.index('blanoc')"
   ]
  },
  {
   "cell_type": "code",
   "execution_count": 24,
   "metadata": {},
   "outputs": [
    {
     "data": {
      "text/plain": [
       "True"
      ]
     },
     "execution_count": 24,
     "metadata": {},
     "output_type": "execute_result"
    }
   ],
   "source": [
    "lis.search('rojo')"
   ]
  },
  {
   "cell_type": "code",
   "execution_count": 25,
   "metadata": {},
   "outputs": [],
   "source": [
    "lis.remove('blanoc')"
   ]
  },
  {
   "cell_type": "code",
   "execution_count": 26,
   "metadata": {},
   "outputs": [
    {
     "name": "stdout",
     "output_type": "stream",
     "text": [
      "verde\n",
      "magenta\n",
      "azul\n",
      "rojo\n"
     ]
    }
   ],
   "source": [
    "lis.printList()"
   ]
  },
  {
   "cell_type": "code",
   "execution_count": null,
   "metadata": {},
   "outputs": [],
   "source": []
  }
 ],
 "metadata": {
  "kernelspec": {
   "display_name": "Python 3",
   "language": "python",
   "name": "python3"
  },
  "language_info": {
   "codemirror_mode": {
    "name": "ipython",
    "version": 3
   },
   "file_extension": ".py",
   "mimetype": "text/x-python",
   "name": "python",
   "nbconvert_exporter": "python",
   "pygments_lexer": "ipython3",
   "version": "3.12.0"
  }
 },
 "nbformat": 4,
 "nbformat_minor": 2
}

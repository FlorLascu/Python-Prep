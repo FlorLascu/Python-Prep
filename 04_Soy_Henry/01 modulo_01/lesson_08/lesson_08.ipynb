{
 "cells": [
  {
   "cell_type": "code",
   "execution_count": 2,
   "metadata": {},
   "outputs": [],
   "source": [
    "from random import sample"
   ]
  },
  {
   "cell_type": "code",
   "execution_count": 3,
   "metadata": {},
   "outputs": [
    {
     "data": {
      "text/plain": [
       "[8, 16, 19, 5, 7, 17, 13, 11, 1, 14, 15, 2, 18, 4, 12, 10, 3, 6, 9, 20]"
      ]
     },
     "execution_count": 3,
     "metadata": {},
     "output_type": "execute_result"
    }
   ],
   "source": [
    "azar = sample(range(1,21),20)\n",
    "azar"
   ]
  },
  {
   "cell_type": "code",
   "execution_count": null,
   "metadata": {},
   "outputs": [],
   "source": [
    "# O(1) == Es una constante no hay nada variable\n",
    "a = 8"
   ]
  },
  {
   "cell_type": "code",
   "execution_count": 9,
   "metadata": {},
   "outputs": [
    {
     "name": "stdout",
     "output_type": "stream",
     "text": [
      "20\n",
      "1\n"
     ]
    }
   ],
   "source": [
    "# al escribirlo asi, el O(N) = 2N porque hace dos loops \n",
    "maximo = azar[0]\n",
    "for num in azar:\n",
    "    if num > maximo: maximo = num\n",
    "print(maximo)\n",
    "minimo = azar[0]\n",
    "for num in azar:\n",
    "    if num< minimo: minimo = num\n",
    "print(minimo)"
   ]
  },
  {
   "cell_type": "code",
   "execution_count": 8,
   "metadata": {},
   "outputs": [
    {
     "name": "stdout",
     "output_type": "stream",
     "text": [
      "1\n",
      "20\n"
     ]
    }
   ],
   "source": [
    "# al escribirlo asi, el O(N) = N es mas eficiente porque hace solo un loop\n",
    "# este es mejor\n",
    "maximo = azar[0]\n",
    "minimo = azar[0]\n",
    "for num in azar:\n",
    "    if num > maximo: maximo = num\n",
    "    if num< minimo: minimo = num\n",
    "print(minimo)\n",
    "print(maximo)"
   ]
  },
  {
   "cell_type": "code",
   "execution_count": 12,
   "metadata": {},
   "outputs": [
    {
     "name": "stdout",
     "output_type": "stream",
     "text": [
      "ciclo 0:\n",
      "3\n",
      "5\n",
      "8\n",
      "9\n",
      "ciclo 1:\n",
      "3\n",
      "5\n",
      "8\n",
      "9\n",
      "ciclo 2:\n",
      "3\n",
      "5\n",
      "8\n",
      "9\n"
     ]
    }
   ],
   "source": [
    "# O(N**2) == Para cada entrada recorre todas las entradas \n",
    "# Un loop anidado\n",
    "ciclos = 3\n",
    "valores = [3,5,8,9]\n",
    "for i in range(ciclos):\n",
    "    print(f'ciclo {i}:')\n",
    "    for valor in valores:\n",
    "        print(valor)"
   ]
  },
  {
   "cell_type": "code",
   "execution_count": 4,
   "metadata": {},
   "outputs": [
    {
     "data": {
      "text/plain": [
       "[1, 7, 8, 2, 5, 6, 3, 4]"
      ]
     },
     "execution_count": 4,
     "metadata": {},
     "output_type": "execute_result"
    }
   ],
   "source": [
    "# O(Nc)\n",
    "# busqueda lineal = fuerza bruta. recorro todos los elementos.\n",
    "# entonces, para encontrar un elemento, recorrere como minimo 1 o maximo 8\n",
    "# en cambio, con busqueda lineal si estan ordenados, es mas rapida la busqueda.\n",
    "# Para recorrer azar2 para encontrar un nro especifico me va a llevar max 8 min 1.\n",
    "azar2 = sample(range(1,9),8)\n",
    "azar2"
   ]
  },
  {
   "cell_type": "code",
   "execution_count": null,
   "metadata": {},
   "outputs": [],
   "source": [
    "# O(log N) = En cada paso recorre la mitad de las entradas que quedan\n",
    "# entonces es mucho mas eficiente."
   ]
  },
  {
   "cell_type": "markdown",
   "metadata": {},
   "source": [
    "* O (N!) = Algoritmos de acomodamiento de items:<br>\n",
    "* Algotirmo de ordenamiento por burbuja <br>\n",
    "* Algoritmo de ordenamiento por insercion <br>\n",
    "* ALgoritmo de ordenamiento por Seleccion <br>"
   ]
  },
  {
   "cell_type": "markdown",
   "metadata": {},
   "source": [
    "O(N!)\n",
    "Factorial <br>\n",
    "AB 2!   = 2 <br>\n",
    "BA  <br>\n",
    "<br>\n",
    "ABC 3! = 6 <br>\n",
    "ACB<br>\n",
    "BAC<br>\n",
    "BCA<br>\n",
    "CAB<br>\n",
    "CBA<br>\n",
    "<br>\n",
    "El nro de operaciones aumenta cada vez mas rapido ==> tambien tarda mas tiempo a medida que crece"
   ]
  }
 ],
 "metadata": {
  "kernelspec": {
   "display_name": "Python 3",
   "language": "python",
   "name": "python3"
  },
  "language_info": {
   "codemirror_mode": {
    "name": "ipython",
    "version": 3
   },
   "file_extension": ".py",
   "mimetype": "text/x-python",
   "name": "python",
   "nbconvert_exporter": "python",
   "pygments_lexer": "ipython3",
   "version": "3.11.5"
  }
 },
 "nbformat": 4,
 "nbformat_minor": 2
}

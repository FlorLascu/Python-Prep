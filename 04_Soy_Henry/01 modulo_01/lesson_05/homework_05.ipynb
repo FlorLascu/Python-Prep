{
 "cells": [
  {
   "cell_type": "code",
   "execution_count": 59,
   "metadata": {},
   "outputs": [],
   "source": [
    "class EstructuraPila(object):\n",
    "    def __init__(self):\n",
    "        self.__list = []\n",
    "        \n",
    "        # Agregar un elemento a la Pila:\n",
    "    def push(self,item):\n",
    "        self.__list.append(item)\n",
    "        \n",
    "        # Quitar un elemento de la Pila:\n",
    "    def pop(self):\n",
    "        return self.__list.pop()\n",
    "    \n",
    "    def present(self):\n",
    "        print(f'{self}')"
   ]
  },
  {
   "cell_type": "code",
   "execution_count": 60,
   "metadata": {},
   "outputs": [
    {
     "name": "stdout",
     "output_type": "stream",
     "text": [
      "<__main__.EstructuraPila object at 0x000001CD6C77B150>\n"
     ]
    }
   ],
   "source": [
    "mi_pila = EstructuraPila()\n",
    "mi_pila.push(6)\n",
    "mi_pila.push(7)\n",
    "mi_pila.push(8)\n",
    "# mi_pila.pop()\n",
    "mi_pila.present() # elimina el elemento 6 porque es el unico en la pila"
   ]
  },
  {
   "cell_type": "code",
   "execution_count": 2,
   "metadata": {},
   "outputs": [
    {
     "data": {
      "text/plain": [
       "[7, 18, 2, 11, 13, 1, 15, 19, 4, 20, 16, 14, 17, 10, 6, 12, 8, 3, 9, 5]"
      ]
     },
     "execution_count": 2,
     "metadata": {},
     "output_type": "execute_result"
    }
   ],
   "source": [
    "import random \n",
    "import numpy as np\n",
    "# genera la pila\n",
    "def gen_random_int_list(n,m,size):\n",
    "    return random.sample(range(n,m),size)\n",
    "\n",
    "lista = gen_random_int_list(1,21,20)\n",
    "lista = np.array(lista)\n",
    "new_lista =list(np.array(random.sample(range(1,21),20)))\n",
    "new_lista"
   ]
  },
  {
   "cell_type": "code",
   "execution_count": 5,
   "metadata": {},
   "outputs": [],
   "source": [
    "import random\n",
    "def gamePila1(n):\n",
    "    # lista se genera de manera aleatoria => Puede estar adentro del programa y generararse cada ronda.\n",
    "    cartas =list(random.sample(range(1,21),20))\n",
    "    print('su pila es: ', cartas)\n",
    "    salidas_a_sumar = []\n",
    "    suma = 0\n",
    "    for i in range(0,n):\n",
    "        if suma < 50:\n",
    "            salidas_a_sumar.append(cartas.pop())\n",
    "            suma = sum(salidas_a_sumar)\n",
    "        else:\n",
    "            break\n",
    "    print('se retiran :', n, 'cartas')\n",
    "    print('que suman: ',suma)            \n",
    "    # funcion que calcula el puntaje\n",
    "    puntaje = 10\n",
    "    if suma > 50:\n",
    "        salida = \"Ha perdido!\"\n",
    "    else:\n",
    "        while suma <=50: \n",
    "            salidas_a_sumar.append(cartas.pop())\n",
    "            suma = sum(salidas_a_sumar)\n",
    "            puntaje -= 1\n",
    "        salida = puntaje\n",
    "    print('Su resultado: ',salida)\n",
    "    return salida"
   ]
  },
  {
   "cell_type": "code",
   "execution_count": 24,
   "metadata": {},
   "outputs": [
    {
     "name": "stdout",
     "output_type": "stream",
     "text": [
      "su pila es:  [18, 3, 14, 5, 19, 20, 6, 17, 13, 12, 8, 4, 7, 15, 2, 10, 11, 9, 16, 1]\n",
      "se retiran : 5 cartas\n",
      "que suman:  47\n",
      "Su resultado:  8\n"
     ]
    },
    {
     "data": {
      "text/plain": [
       "8"
      ]
     },
     "execution_count": 24,
     "metadata": {},
     "output_type": "execute_result"
    }
   ],
   "source": [
    "n = 5\n",
    "gamePila1(n)"
   ]
  },
  {
   "cell_type": "code",
   "execution_count": 29,
   "metadata": {},
   "outputs": [],
   "source": [
    "# Clase JuegoPila\n",
    "import numpy as np\n",
    "import random \n",
    "\n",
    "class GamePila:\n",
    "    def __init__(self):\n",
    "        self.__list = []\n",
    "    \n",
    "   # genera una pila = lista de numeros random del 1 al 20, cantidad 20 elementos\n",
    "   # no requiere ningun input del usuario o para llamar a la funcion          \n",
    "    def gen_Pila(self):\n",
    "        self.numeros = []\n",
    "        self.numeros = list(np.array(random.sample(range(1,21),20)))\n",
    "        \n",
    "        print('La pila es:',self.numeros)\n",
    "        # la lista se genera de manera autonoma\n",
    "    \n",
    "    # Juego el input de elementos se hace con un input del usuario o antes de comenzar a correr         \n",
    "    def juego(self,cantidad): \n",
    "        self.salidas_a_sumar = []    # la lista donde se van acumulando los valores a sumar\n",
    "        self.contador = 0            # es el contador para cortar la suma de cant_elementos\n",
    "        self.suma = 0                # es el valor acumulado de la lista de valores a sumar\n",
    "        for i in range(0,cantidad):\n",
    "            #if self.suma < 50:\n",
    "            self.salidas_a_sumar.append(self.numeros.pop())\n",
    "            self.suma = sum(self.salidas_a_sumar)\n",
    "            self.contador = self.contador +1\n",
    "            #else:\n",
    "            #    break\n",
    "        return self.suma\n",
    "     \n",
    "    # funcion que calcula el puntaje\n",
    "    def puntaje(self,resultado):\n",
    "        self.puntos = 10 # este es el puntaje base al que se le restan la cant_contar\n",
    "        self.cant_puntaje = 0\n",
    "        self.resto_cartas = []\n",
    "        self.suma = self.resultado\n",
    "        while self.suma + sum(self.resto_cartas) <=50: \n",
    "            self.resto_cartas.append(self.numeros.pop())\n",
    "            self.cant_puntaje +=1\n",
    "            self.puntos = self.cant_puntaje - 1\n",
    "        return self.puntos\n",
    "    \n",
    "    # Esta es la funcion integradora del juego. Que ejecuta la secuencia logica del juego\n",
    "    def jugar(self):\n",
    "        self.gen_Pila()\n",
    "        print('Indique la cantidad de elementos a sacar:')\n",
    "        self.cant_elem = int(input())\n",
    "        \n",
    "        print('Se sacaran ',self.cant_elem,' elementos')\n",
    "        \n",
    "        self.resultado = self.juego(self.cant_elem)\n",
    "        if (self.resultado > 50):\n",
    "            print('Ha perdido! Se superaron los 50 puntos.',self.resultado)\n",
    "        else:\n",
    "            print('Ganaste con un resultado de ',self.resultado,'teniendo un puntaje de',self.puntaje(self.resultado))"
   ]
  },
  {
   "cell_type": "code",
   "execution_count": 40,
   "metadata": {},
   "outputs": [
    {
     "name": "stdout",
     "output_type": "stream",
     "text": [
      "La pila es: [12, 6, 20, 15, 1, 19, 14, 16, 17, 18, 7, 9, 4, 5, 3, 10, 8, 2, 13, 11]\n",
      "Indique la cantidad de elementos a sacar:\n",
      "Se sacaran  4  elementos\n",
      "34\n",
      "Ganaste con un resultado de  34 teniendo un puntaje de 2\n"
     ]
    }
   ],
   "source": [
    "j = GamePila()\n",
    "j.jugar()"
   ]
  },
  {
   "cell_type": "code",
   "execution_count": 6,
   "metadata": {},
   "outputs": [
    {
     "name": "stdout",
     "output_type": "stream",
     "text": [
      "su pila es:  [12, 15, 14, 18, 5, 3, 4, 6, 16, 20, 10, 11, 1, 9, 19, 8, 2, 7, 17, 13]\n",
      "se retiran : 3 cartas\n",
      "que suman:  37\n",
      "Su resultado:  7\n"
     ]
    },
    {
     "data": {
      "text/plain": [
       "7"
      ]
     },
     "execution_count": 6,
     "metadata": {},
     "output_type": "execute_result"
    }
   ],
   "source": [
    "gamePila1(3)"
   ]
  }
 ],
 "metadata": {
  "kernelspec": {
   "display_name": "Python 3",
   "language": "python",
   "name": "python3"
  },
  "language_info": {
   "codemirror_mode": {
    "name": "ipython",
    "version": 3
   },
   "file_extension": ".py",
   "mimetype": "text/x-python",
   "name": "python",
   "nbconvert_exporter": "python",
   "pygments_lexer": "ipython3",
   "version": "3.11.5"
  }
 },
 "nbformat": 4,
 "nbformat_minor": 2
}

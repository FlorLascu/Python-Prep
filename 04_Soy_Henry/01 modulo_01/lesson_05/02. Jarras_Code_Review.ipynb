{
 "cells": [
  {
   "cell_type": "code",
   "execution_count": 13,
   "metadata": {},
   "outputs": [],
   "source": [
    "import random as r\n",
    "\n",
    "class JuegoPila:\n",
    "    # metodo constructor. \n",
    "    # Construye los objetos de la clase sobre los que aplicaremos metodos\n",
    "    # self se refiere a ese objeto que creamos sobre el cual aplicaremos metodos\n",
    "    # en todo el codigo self es el objeto\n",
    "    \n",
    "    def __init__(self):\n",
    "        self.__lista = []   # Objeto encapsulado para que no pueda ser alterado\n",
    "        \n",
    "    # Agrega un elemento a la pila\n",
    "        \n",
    "    def __push(self,item):\n",
    "        return self.__lista.append(item)\n",
    "    \n",
    "    # Elimina un elemento de la pila:\n",
    "    \n",
    "    def __pop(self):\n",
    "        return self.__lista.pop()\n",
    "    \n",
    "    # metodo para mostrar la pila\n",
    "    \n",
    "    def __mostrarPila(self):\n",
    "        print(self.__lista)\n",
    "    \n",
    "    def jugar(self):\n",
    "        while len(self.__lista) < 20: # mientras la long sea menor que 20 se queda en el loop\n",
    "            numero = r.randint(1,20)\n",
    "            if numero not in self.__lista: self.__push(numero)\n",
    "        \n",
    "        # Otra version para crear la lista\n",
    "        # self.__lista = list(r.sample(range(1,21),20)))\n",
    "        \n",
    "        # sigue el input del usuario para definir cant de elementos:\n",
    "        nro = input(\"Ingrese la cantidad de elmentos a retirar:\")\n",
    "        while not nro.isdecimal() or int(nro) > 20:\n",
    "            nro = input(\"Ingrese la cantidad de elementos a retirar nuevamente (tiene que ser un numero enter del 1 al 20)\")\n",
    "        nro = int(nro)\n",
    "        \n",
    "        print(\"Pila original\") # muestra la pila despues que elige la cant. elementos\n",
    "        self.__mostrarPila()\n",
    "        print(\"la cantidad de elementos a retirar: \",nro)\n",
    "        \n",
    "        puntaje = 10\n",
    "        suma = 0    # este es el acumulador de los puntos hasta 50\n",
    "        for i in range(nro):\n",
    "            suma += self.__lista.pop()\n",
    "        \n",
    "        print(\"Pila obtenida\") # muestra la pila despues de elimnar la cant. elementos\n",
    "        self.__mostrarPila()\n",
    "        print(\"la cantidad de elementos retirardos suma: \",suma)\n",
    "        \n",
    "        if suma > 50: print(\"Has perdido!! la suma de elementos retirados suma: \", suma)\n",
    "        else: \n",
    "            while suma <= 50:\n",
    "                suma += self.__lista.pop()\n",
    "                if suma <= 50: puntaje -= 1\n",
    "            print(\"Felicitaciones!!! Ganaste y tu puntaje es: \", puntaje)        \n",
    "        \n",
    "                    "
   ]
  },
  {
   "cell_type": "code",
   "execution_count": 5,
   "metadata": {},
   "outputs": [
    {
     "data": {
      "text/plain": [
       "<__main__.JuegoPila at 0x1f7cc801010>"
      ]
     },
     "execution_count": 5,
     "metadata": {},
     "output_type": "execute_result"
    }
   ],
   "source": [
    "mi_pila = JuegoPila()\n",
    "mi_pila # podemos ver que crea un objeto pila al correr el parcial"
   ]
  },
  {
   "cell_type": "code",
   "execution_count": 8,
   "metadata": {},
   "outputs": [
    {
     "name": "stdout",
     "output_type": "stream",
     "text": [
      "[19, 15, 5, 16, 7, 1, 9, 12, 2, 20, 3, 14, 17, 18, 6, 8, 13, 11, 10, 4]\n"
     ]
    }
   ],
   "source": [
    "mi_pila = JuegoPila()\n",
    "mi_pila.jugar() # lo corro para ver si funciona jugar solo con la creacion de la pila"
   ]
  },
  {
   "cell_type": "code",
   "execution_count": 17,
   "metadata": {},
   "outputs": [
    {
     "name": "stdout",
     "output_type": "stream",
     "text": [
      "Pila original\n",
      "[3, 7, 1, 5, 18, 6, 15, 16, 4, 13, 2, 20, 17, 19, 10, 9, 11, 14, 8, 12]\n",
      "la cantidad de elementos a retirar:  3\n",
      "Pila obtenida\n",
      "[3, 7, 1, 5, 18, 6, 15, 16, 4, 13, 2, 20, 17, 19, 10, 9, 11]\n",
      "la cantidad de elementos retirardos suma:  34\n",
      "Felicitaciones!!! Ganaste y tu puntaje es:  9\n"
     ]
    }
   ],
   "source": [
    "mi_pila = JuegoPila()\n",
    "mi_pila.jugar() "
   ]
  }
 ],
 "metadata": {
  "kernelspec": {
   "display_name": "Python 3",
   "language": "python",
   "name": "python3"
  },
  "language_info": {
   "codemirror_mode": {
    "name": "ipython",
    "version": 3
   },
   "file_extension": ".py",
   "mimetype": "text/x-python",
   "name": "python",
   "nbconvert_exporter": "python",
   "pygments_lexer": "ipython3",
   "version": "3.11.5"
  }
 },
 "nbformat": 4,
 "nbformat_minor": 2
}

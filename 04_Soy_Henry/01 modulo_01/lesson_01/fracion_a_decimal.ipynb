{
 "cells": [
  {
   "cell_type": "code",
   "execution_count": 12,
   "metadata": {},
   "outputs": [],
   "source": [
    "# Code Review resolution con un string\n",
    "def binarioFraccion(num_decimal,limite_decimal=24): # por default limite sera 24\n",
    "    if num_decimal >= 1 or num_decimal < 0: return None\n",
    "    elif num_decimal == 0: return 0\n",
    "    # se van a guardar los numeros en una lista\n",
    "    # puede hacerse con un string tambien\n",
    "    lista_binarios = [] # lista vacia donde se guardaran los digitos que conforman el binario decimal\n",
    "    while num_decimal > 0 and limite_decimal > 0:\n",
    "        lista_binarios.append(int(num_decimal*2))\n",
    "        num_decimal = num_decimal *2 - int(num_decimal*2)\n",
    "        limite_decimal -=1 # en cada vuelta voy achicando el limite hasta cortarlo\n",
    "    numero_binario = '0.'\n",
    "    for num in lista_binarios:\n",
    "        numero_binario += str(num)\n",
    "    return numero_binario  "
   ]
  },
  {
   "cell_type": "code",
   "execution_count": 14,
   "metadata": {},
   "outputs": [
    {
     "name": "stdout",
     "output_type": "stream",
     "text": [
      "0.0101\n",
      "0.00100\n",
      "0\n",
      "None\n",
      "None\n"
     ]
    }
   ],
   "source": [
    "print(binarioFraccion(0.3125))\n",
    "print(binarioFraccion(1/7,limite_decimal=5)) # acotamos la cantidad de digitos si es periodico\n",
    "print(binarioFraccion(0))\n",
    "print(binarioFraccion(-1))\n",
    "print(binarioFraccion(1.25))"
   ]
  },
  {
   "cell_type": "code",
   "execution_count": 10,
   "metadata": {},
   "outputs": [
    {
     "name": "stdout",
     "output_type": "stream",
     "text": [
      "Fraccion: 1/ 2 : 0.5 y en binario es: 0.1\n",
      "Fraccion: 1/ 3 : 0.3333333333333333 y en binario es: 0.010101010101010101010101010101010101010101010101010101\n",
      "Fraccion: 1/ 4 : 0.25 y en binario es: 0.01\n",
      "Fraccion: 1/ 5 : 0.2 y en binario es: 0.001100110011001100110011001100110011001100110011001101\n",
      "Fraccion: 1/ 6 : 0.16666666666666666 y en binario es: 0.0010101010101010101010101010101010101010101010101010101\n",
      "Fraccion: 1/ 7 : 0.14285714285714285 y en binario es: 0.001001001001001001001001001001001001001001001001001001\n",
      "Fraccion: 1/ 8 : 0.125 y en binario es: 0.001\n",
      "Fraccion: 1/ 9 : 0.1111111111111111 y en binario es: 0.000111000111000111000111000111000111000111000111000111\n"
     ]
    }
   ],
   "source": [
    "for i in range(2,10):\n",
    "    print('Fraccion: 1/',i,':',1/i, 'y en binario es:', binarioFraccion(1/i))"
   ]
  },
  {
   "cell_type": "code",
   "execution_count": null,
   "metadata": {},
   "outputs": [],
   "source": [
    "# Code Review resolution utilizando string en vez de una lista\n",
    "\n",
    "def binarioFraccion2(num_decimal,limite_decimal=24): # por default limite sera 24\n",
    "    if num_decimal >= 1 or num_decimal < 0: return None\n",
    "    elif num_decimal == 0: return 0\n",
    "    # se van a guardar los numeros en una lista\n",
    "    # puede hacerse con un string tambien\n",
    "    lista_binarios = [] # lista vacia donde se guardaran los digitos que conforman el binario decimal\n",
    "    while num_decimal > 0 and limite_decimal > 0:\n",
    "        lista_binarios.append(int(num_decimal*2))\n",
    "        num_decimal = num_decimal *2 - int(num_decimal*2)\n",
    "        limite_decimal -=1 # en cada vuelta voy achicando el limite hasta cortarlo\n",
    "    numero_binario = '0.'\n",
    "    for num in lista_binarios:\n",
    "        numero_binario += str(num)\n",
    "    return numero_binario  "
   ]
  }
 ],
 "metadata": {
  "kernelspec": {
   "display_name": "Python 3",
   "language": "python",
   "name": "python3"
  },
  "language_info": {
   "codemirror_mode": {
    "name": "ipython",
    "version": 3
   },
   "file_extension": ".py",
   "mimetype": "text/x-python",
   "name": "python",
   "nbconvert_exporter": "python",
   "pygments_lexer": "ipython3",
   "version": "3.11.5"
  }
 },
 "nbformat": 4,
 "nbformat_minor": 2
}

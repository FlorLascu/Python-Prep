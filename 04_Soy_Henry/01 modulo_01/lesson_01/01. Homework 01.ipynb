{
 "cells": [
  {
   "cell_type": "code",
   "execution_count": 1,
   "metadata": {},
   "outputs": [],
   "source": [
    "def NumeroBinario(numero):\n",
    "    '''\n",
    "    Esta función recibe como parámetro un número entero mayor ó igual a cero y lo devuelve en su \n",
    "    representación binaria. Debe recibir y devolver un valor de tipo entero.\n",
    "    En caso de que el parámetro no sea de tipo entero y mayor a -1 retorna nulo.\n",
    "    '''\n",
    "    # metodo de la division sucesiva por 2\n",
    "       \n",
    "    if numero <= -1:\n",
    "        print(\"null\")\n",
    "    elif not isinstance(numero,int):\n",
    "        print(\"null\")\n",
    "    else:\n",
    "        entero = numero # variable a evaluar\n",
    "        binario = [] # lista donde iran almacenandose los digitos binarios\n",
    "        while entero !=0 :   # mientras el entero sea distinto de cero hace el loop\n",
    "            if entero > 2: \n",
    "                resto = entero % 2 \n",
    "                binario.insert(0,resto) # hace el metodo con insert de manera que luego no se necesite revertir el string\n",
    "                #binario.append(resto)\n",
    "            elif entero == 2:\n",
    "                #binario.append(0)\n",
    "                binario.insert(0,0)\n",
    "            else:\n",
    "                #binario.append(1)\n",
    "                binario.insert(0,1)\n",
    "            entero = entero // 2\n",
    "        b = \"\".join([str(x) for x in binario]) # hace el metodo con insert de manera que luego no se necesite revertir el string\n",
    "        #salida = b[::-1]\n",
    "        #print(salida)\n",
    "        return b\n",
    "    "
   ]
  },
  {
   "cell_type": "code",
   "execution_count": 2,
   "metadata": {},
   "outputs": [
    {
     "name": "stdout",
     "output_type": "stream",
     "text": [
      "null\n"
     ]
    }
   ],
   "source": [
    "NumeroBinario(1.2)"
   ]
  },
  {
   "cell_type": "code",
   "execution_count": 3,
   "metadata": {},
   "outputs": [
    {
     "name": "stdout",
     "output_type": "stream",
     "text": [
      "null\n"
     ]
    }
   ],
   "source": [
    "NumeroBinario(-1)"
   ]
  },
  {
   "cell_type": "code",
   "execution_count": 4,
   "metadata": {},
   "outputs": [
    {
     "data": {
      "text/plain": [
       "'11101'"
      ]
     },
     "execution_count": 4,
     "metadata": {},
     "output_type": "execute_result"
    }
   ],
   "source": [
    "NumeroBinario(29)"
   ]
  },
  {
   "cell_type": "code",
   "execution_count": 6,
   "metadata": {},
   "outputs": [
    {
     "name": "stdout",
     "output_type": "stream",
     "text": [
      "1100\n"
     ]
    }
   ],
   "source": [
    "NumeroBinario(12)"
   ]
  },
  {
   "cell_type": "code",
   "execution_count": 7,
   "metadata": {},
   "outputs": [
    {
     "data": {
      "text/plain": [
       "'0b11101'"
      ]
     },
     "execution_count": 7,
     "metadata": {},
     "output_type": "execute_result"
    }
   ],
   "source": [
    "bin(29)"
   ]
  },
  {
   "cell_type": "code",
   "execution_count": 43,
   "metadata": {},
   "outputs": [],
   "source": [
    "# codigo utilizando la funcion math.modf()\n",
    "def decimalBinario(numero):\n",
    "    import math\n",
    "    salida = []\n",
    "    s = math.modf(numero)\n",
    "    a =s[0]\n",
    "    b = s[1]\n",
    "    if numero > 1 or type(numero) != float: \n",
    "        print(\"not a decimal number\")\n",
    "    elif numero == 0:\n",
    "        return 0\n",
    "    else:    \n",
    "        while a != 0 and len(salida) <=24:\n",
    "            b = math.modf(a)[1]\n",
    "            if b == 1:\n",
    "                salida.append(1)\n",
    "            else:\n",
    "                salida.append(0)\n",
    "            a = math.modf(a)[0] * 2\n",
    "        salida = \"\".join([str(x) for x in salida])\n",
    "        salida = \"0.\"+ salida[1:]\n",
    "    return salida"
   ]
  },
  {
   "cell_type": "code",
   "execution_count": 44,
   "metadata": {},
   "outputs": [
    {
     "name": "stdout",
     "output_type": "stream",
     "text": [
      "Fraccion 1 / 2 en decimal: 0.5 y en binario: 0.1\n",
      "Fraccion 1 / 3 en decimal: 0.3333333333333333 y en binario: 0.010101010101010101010101\n",
      "Fraccion 1 / 4 en decimal: 0.25 y en binario: 0.01\n",
      "Fraccion 1 / 5 en decimal: 0.2 y en binario: 0.001100110011001100110011\n",
      "Fraccion 1 / 6 en decimal: 0.16666666666666666 y en binario: 0.001010101010101010101010\n",
      "Fraccion 1 / 7 en decimal: 0.14285714285714285 y en binario: 0.001001001001001001001001\n",
      "Fraccion 1 / 8 en decimal: 0.125 y en binario: 0.001\n",
      "Fraccion 1 / 9 en decimal: 0.1111111111111111 y en binario: 0.000111000111000111000111\n"
     ]
    }
   ],
   "source": [
    "for i in range(2,10):\n",
    "    valor = decimalBinario(1/i)\n",
    "    print('Fraccion 1 /', i,'en decimal:',str(1/i), 'y en binario:',valor)"
   ]
  },
  {
   "cell_type": "code",
   "execution_count": 81,
   "metadata": {},
   "outputs": [
    {
     "data": {
      "text/plain": [
       "(0.5, 1.0)"
      ]
     },
     "execution_count": 81,
     "metadata": {},
     "output_type": "execute_result"
    }
   ],
   "source": [
    "import math\n",
    "now = 1.5\n",
    "math.modf(now) # devuelve en una tupla los valores de parte decimal y parte entera del numero now"
   ]
  },
  {
   "cell_type": "code",
   "execution_count": 23,
   "metadata": {},
   "outputs": [
    {
     "name": "stdout",
     "output_type": "stream",
     "text": [
      "0.1\n"
     ]
    }
   ],
   "source": [
    "print(decimalBinario(0.5))"
   ]
  },
  {
   "cell_type": "code",
   "execution_count": 26,
   "metadata": {},
   "outputs": [
    {
     "name": "stdout",
     "output_type": "stream",
     "text": [
      "not a decimal number\n",
      "[]\n"
     ]
    }
   ],
   "source": [
    "print(decimalBinario(1.25))"
   ]
  },
  {
   "cell_type": "code",
   "execution_count": 27,
   "metadata": {},
   "outputs": [
    {
     "data": {
      "text/plain": [
       "'0.01'"
      ]
     },
     "execution_count": 27,
     "metadata": {},
     "output_type": "execute_result"
    }
   ],
   "source": [
    "decimalBinario(1/4)"
   ]
  },
  {
   "cell_type": "code",
   "execution_count": 17,
   "metadata": {},
   "outputs": [
    {
     "data": {
      "text/plain": [
       "'0.001'"
      ]
     },
     "execution_count": 17,
     "metadata": {},
     "output_type": "execute_result"
    }
   ],
   "source": [
    "decimalBinario(0.125)"
   ]
  },
  {
   "cell_type": "code",
   "execution_count": 2,
   "metadata": {},
   "outputs": [
    {
     "name": "stdout",
     "output_type": "stream",
     "text": [
      "Fraccion 0.3333333333333333: es 0.3333333333333333 y en Binario es 0.010101010101010101010101010101010101010101010101010101\n"
     ]
    }
   ],
   "source": [
    "decimalBinario(1/3)"
   ]
  },
  {
   "cell_type": "code",
   "execution_count": null,
   "metadata": {},
   "outputs": [],
   "source": [
    "# Codigo de Ines\n",
    "def NumeroBinario(numero):\n",
    "    if not isinstance(numero, int) or numero < 0:\n",
    "        return None\n",
    "\n",
    "    if numero == 0:\n",
    "        return 0\n",
    "\n",
    "    binario = 0\n",
    "    digito = 0\n",
    "    while numero > 0:\n",
    "        resto = numero % 2\n",
    "        binario += resto * (10 ** digito)\n",
    "        numero //= 2\n",
    "        digito += 1\n",
    "\n",
    "    return binario\n"
   ]
  },
  {
   "cell_type": "code",
   "execution_count": 50,
   "metadata": {},
   "outputs": [],
   "source": [
    "# codigo decimal sin math\n",
    "def decimalBinariO(num,limite_salida=12):\n",
    "    salida = []\n",
    "    a = num % 1 # parte decimal de numero\n",
    "    b = num // 1 # parte entera de numero \n",
    "    if b > 0 or type(num) != float:\n",
    "        print(\"not a pure decimal number\")\n",
    "    elif num == 0:\n",
    "        return 0\n",
    "    else:    \n",
    "        while a != 0 and len(salida) <= limite_salida:\n",
    "            a = num % 1 # parte decimal de numero\n",
    "            b = num // 1 # parte entera de numero \n",
    "            if b == 1.0:\n",
    "                salida.append(1)\n",
    "            else:\n",
    "                salida.append(0)\n",
    "            num  = a * 2\n",
    "        salida = \"\".join([str(x) for x in salida])\n",
    "        salida = \"0.\"+ salida[1:]\n",
    "    return salida"
   ]
  },
  {
   "cell_type": "code",
   "execution_count": 46,
   "metadata": {},
   "outputs": [
    {
     "name": "stdout",
     "output_type": "stream",
     "text": [
      "not a pure decimal number\n"
     ]
    },
    {
     "data": {
      "text/plain": [
       "'0.'"
      ]
     },
     "execution_count": 46,
     "metadata": {},
     "output_type": "execute_result"
    }
   ],
   "source": [
    "decimalBinariO(0.5)\n",
    "decimalBinariO(1.5)\n",
    "decimalBinariO(-0.5)"
   ]
  },
  {
   "cell_type": "code",
   "execution_count": 117,
   "metadata": {},
   "outputs": [
    {
     "name": "stdout",
     "output_type": "stream",
     "text": [
      "0.1\n",
      "0.01\n",
      "0.001\n",
      "0.0101\n"
     ]
    }
   ],
   "source": [
    "print(decimalBinariO(0.5))\n",
    "print(decimalBinariO(0.25))\n",
    "print(decimalBinariO(0.125))\n",
    "print(decimalBinariO(0.3125))"
   ]
  },
  {
   "cell_type": "code",
   "execution_count": 10,
   "metadata": {},
   "outputs": [
    {
     "data": {
      "text/plain": [
       "'0.0101'"
      ]
     },
     "execution_count": 10,
     "metadata": {},
     "output_type": "execute_result"
    }
   ],
   "source": [
    "decimalBinario(0.5)\n",
    "decimalBinario(0.25)\n",
    "decimalBinario(0.125)\n",
    "decimalBinario(0.3125)"
   ]
  },
  {
   "cell_type": "code",
   "execution_count": 51,
   "metadata": {},
   "outputs": [
    {
     "name": "stdout",
     "output_type": "stream",
     "text": [
      "Fraccion 1/2 en decimal: 0.5 y en binario: 0.1\n",
      "Fraccion 1/3 en decimal: 0.3333333333333333 y en binario: 0.01010\n",
      "Fraccion 1/4 en decimal: 0.25 y en binario: 0.01\n",
      "Fraccion 1/5 en decimal: 0.2 y en binario: 0.00110\n",
      "Fraccion 1/6 en decimal: 0.16666666666666666 y en binario: 0.00101\n",
      "Fraccion 1/7 en decimal: 0.14285714285714285 y en binario: 0.00100\n",
      "Fraccion 1/8 en decimal: 0.125 y en binario: 0.001\n",
      "Fraccion 1/9 en decimal: 0.1111111111111111 y en binario: 0.00011\n"
     ]
    }
   ],
   "source": [
    "for i in range(2,10):\n",
    "    print(f'Fraccion 1/{i} en decimal: {str(1/i)} y en binario: {decimalBinariO(1/i,5)}') # utilizo el limite para acortar la cant de digitos decimales"
   ]
  },
  {
   "cell_type": "code",
   "execution_count": 47,
   "metadata": {},
   "outputs": [
    {
     "name": "stdout",
     "output_type": "stream",
     "text": [
      "Fraccion 1 / 2 en decimal: 0.5 y en binario: 0.\n",
      "Fraccion 1 / 3 en decimal: 0.3333333333333333 y en binario: 0.\n",
      "Fraccion 1 / 4 en decimal: 0.25 y en binario: 0.\n",
      "Fraccion 1 / 5 en decimal: 0.2 y en binario: 0.\n",
      "Fraccion 1 / 6 en decimal: 0.16666666666666666 y en binario: 0.\n",
      "Fraccion 1 / 7 en decimal: 0.14285714285714285 y en binario: 0.\n",
      "Fraccion 1 / 8 en decimal: 0.125 y en binario: 0.\n",
      "Fraccion 1 / 9 en decimal: 0.1111111111111111 y en binario: 0.\n"
     ]
    }
   ],
   "source": [
    "for i in range(2,10):\n",
    "    valor = decimalBinariO(1/i)\n",
    "    print('Fraccion 1 /', i,'en decimal:',str(1/i), 'y en binario:',valor)"
   ]
  },
  {
   "cell_type": "code",
   "execution_count": 28,
   "metadata": {},
   "outputs": [],
   "source": [
    "def decimal_binario_frac(fraccion):\n",
    "    if fraccion <= 0 or fraccion >= 1:\n",
    "        return None \n",
    "\n",
    "    resultado_binario = \"0.\"  # Variable para almacenar el número binario resultante\n",
    "\n",
    "    while fraccion > 0:  # Mientras el número sea mayor que cero\n",
    "        fraccion *= 2  # La fracción se multiplica por 2 para obtener el valor siguiente\n",
    "        if fraccion >= 1:\n",
    "            resultado_binario += \"1\"  # Para actualizar el valor binario\n",
    "            fraccion -= 1\n",
    "        else:\n",
    "            resultado_binario += \"0\"\n",
    "\n",
    "        if len(resultado_binario) >= 32:  # Establecer límite en los dígitos binarios\n",
    "            return \"La representación binaria se repite o es muy larga para calcular\"\n",
    "    return resultado_binario\n"
   ]
  },
  {
   "cell_type": "code",
   "execution_count": 29,
   "metadata": {},
   "outputs": [
    {
     "name": "stdout",
     "output_type": "stream",
     "text": [
      "Fraccion 1 / 2 en decimal: 0.5 y en binario: 0.1\n",
      "Fraccion 1 / 3 en decimal: 0.3333333333333333 y en binario: La representación binaria se repite o es muy larga para calcular\n",
      "Fraccion 1 / 4 en decimal: 0.25 y en binario: 0.01\n",
      "Fraccion 1 / 5 en decimal: 0.2 y en binario: La representación binaria se repite o es muy larga para calcular\n",
      "Fraccion 1 / 6 en decimal: 0.16666666666666666 y en binario: La representación binaria se repite o es muy larga para calcular\n",
      "Fraccion 1 / 7 en decimal: 0.14285714285714285 y en binario: La representación binaria se repite o es muy larga para calcular\n",
      "Fraccion 1 / 8 en decimal: 0.125 y en binario: 0.001\n",
      "Fraccion 1 / 9 en decimal: 0.1111111111111111 y en binario: La representación binaria se repite o es muy larga para calcular\n"
     ]
    }
   ],
   "source": [
    "for i in range(2,10):\n",
    "    valor = decimal_binario_frac(1/i)\n",
    "    print('Fraccion 1 /', i,'en decimal:',str(1/i), 'y en binario:',valor)"
   ]
  },
  {
   "cell_type": "code",
   "execution_count": 12,
   "metadata": {},
   "outputs": [],
   "source": [
    "def NumeroDecimal(numero,decimales):\n",
    "    if type(numero)!=float or type(decimales)!=int:\n",
    "        return None\n",
    "    cadena_vacia=\"0.\"\n",
    "    while (len(cadena_vacia)-2)<decimales:\n",
    "        numero_cadena=str(numero)\n",
    "        lista_cadena=numero_cadena.split(\".\")\n",
    "        parte_decimal=lista_cadena[1]\n",
    "        parte_decimal=int(parte_decimal)\n",
    "        numero=numero*2\n",
    "        if parte_decimal==0:\n",
    "            break\n",
    "        if numero>=1:\n",
    "            numero-=1\n",
    "            cadena_vacia+=\"1\"\n",
    "            continue\n",
    "        cadena_vacia+=\"0\"\n",
    "    return cadena_vacia"
   ]
  },
  {
   "cell_type": "code",
   "execution_count": null,
   "metadata": {},
   "outputs": [],
   "source": [
    "def numeroDecimalBinario(numero):\n",
    "    # se filtra el numero ingresado para evitar posibles errores\n",
    "    if type(numero) != float:\n",
    "        return \"ingrese valor valido, entre 0 y 1\"\n",
    "    elif numero < 0 or numero > 1:\n",
    "        return \"ingrese valor valido, entre 0 y 1\"\n",
    "    elif numero == 0:\n",
    "        return 0\n",
    "\n",
    "    # se establece un limite de ciclos y una lista que almacena el resultado del pasaje decimal => binario\n",
    "    limite = 0\n",
    "    lista_binario = []\n",
    "\n",
    "    # se realiza el metodo multiplicacion sucessiva por etapas(recomiendo leer el codigo paso a paso)\n",
    "    while numero > 0 and limite <= 10 :\n",
    "        resultado = numero * 2\n",
    "        lista_binario.append(int(resultado))\n",
    "        if resultado >= 1:\n",
    "            resultado -= 1\n",
    "            numero = resultado\n",
    "        else:\n",
    "            numero = resultado\n",
    "        limite += 1\n",
    "\n",
    "    # se pasa los valores de la lista a strings y se concatenan a una variable\n",
    "    numero_binario = '0.'\n",
    "    for e in lista_binario:\n",
    "        numero_binario = numero_binario + str(e)\n",
    "\n",
    "    return numero_binario\n"
   ]
  }
 ],
 "metadata": {
  "kernelspec": {
   "display_name": "Python 3",
   "language": "python",
   "name": "python3"
  },
  "language_info": {
   "codemirror_mode": {
    "name": "ipython",
    "version": 3
   },
   "file_extension": ".py",
   "mimetype": "text/x-python",
   "name": "python",
   "nbconvert_exporter": "python",
   "pygments_lexer": "ipython3",
   "version": "3.11.5"
  }
 },
 "nbformat": 4,
 "nbformat_minor": 2
}

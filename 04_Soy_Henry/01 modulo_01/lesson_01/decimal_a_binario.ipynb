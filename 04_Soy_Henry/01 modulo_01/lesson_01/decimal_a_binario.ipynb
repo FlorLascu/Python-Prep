{
 "cells": [
  {
   "cell_type": "code",
   "execution_count": 13,
   "metadata": {},
   "outputs": [],
   "source": [
    "def NumeroBinario(numero):\n",
    "    '''\n",
    "    Esta función recibe como parámetro un número entero mayor ó igual a cero y lo devuelve en su \n",
    "    representación binaria. Debe recibir y devolver un valor de tipo entero.\n",
    "    En caso de que el parámetro no sea de tipo entero y mayor a -1 retorna nulo.\n",
    "    '''\n",
    "    # metodo de la division sucesiva por 2 - metodo con insert para no tener que hacer el reverse\n",
    "    # del string binario donde se guarda la conversion\n",
    "    \n",
    "    if numero <= -1 or  not isinstance(numero,int): return None\n",
    "    elif numero == 0: return 0\n",
    "    else:\n",
    "        entero = numero # variable a evaluar\n",
    "        binario = [] # lista donde iran almacenandose los digitos binarios\n",
    "        while entero !=0 :   # mientras el entero sea distinto de cero hace el loop\n",
    "            if entero > 2: \n",
    "                resto = entero % 2 \n",
    "                binario.insert(0,resto) # hace el metodo con insert de manera que luego no se necesite revertir el string\n",
    "            elif entero == 2: \n",
    "                binario.insert(0,0)\n",
    "            else:\n",
    "                binario.insert(0,1) \n",
    "            entero //= 2   # entero = entero // 2 hago una asignacion con la operacion\n",
    "                                    # hace el ciclo del while. Se va achicando el entero hasta ser 2 o 1.\n",
    "        b = \"\".join([str(x) for x in binario]) # hace el metodo con insert de manera que luego no se necesite revertir el string\n",
    "    return b"
   ]
  },
  {
   "cell_type": "code",
   "execution_count": 14,
   "metadata": {},
   "outputs": [
    {
     "name": "stdout",
     "output_type": "stream",
     "text": [
      "None\n",
      "0\n",
      "None\n",
      "11101\n"
     ]
    }
   ],
   "source": [
    "print(NumeroBinario(-1))\n",
    "print(NumeroBinario(0))\n",
    "print(NumeroBinario(1.3))\n",
    "print(NumeroBinario(29))"
   ]
  },
  {
   "cell_type": "markdown",
   "metadata": {},
   "source": [
    "* No podemos utilizar el loop for porque no conocemos cuantas veces se necesita iterar => utilizamos el ciclo WHILE\n",
    "* "
   ]
  },
  {
   "cell_type": "code",
   "execution_count": 6,
   "metadata": {},
   "outputs": [],
   "source": [
    "def NumeroBinariO(numero):\n",
    "    '''\n",
    "    Esta función recibe como parámetro un número entero mayor ó igual a cero y lo devuelve en su \n",
    "    representación binaria. Debe recibir y devolver un valor de tipo entero.\n",
    "    En caso de que el parámetro no sea de tipo entero y mayor a -1 retorna nulo.\n",
    "    '''\n",
    "    # metodo de la division sucesiva por 2 con append y reverse en el string final\n",
    "       \n",
    "    if numero <= -1 or not isinstance(numero,int): return None\n",
    "    else:\n",
    "        entero = numero # variable a evaluar\n",
    "        binario = [] # lista donde iran almacenandose los digitos binarios\n",
    "        while entero !=0 :   # mientras el entero sea distinto de cero hace el loop\n",
    "            if entero > 2: \n",
    "                resto = entero % 2 \n",
    "                binario.append(resto)\n",
    "            elif entero == 2:\n",
    "                binario.insert(0,0)\n",
    "            else:\n",
    "                binario.insert(0,1)\n",
    "            entero = entero // 2\n",
    "        b = \"\".join([str(x) for x in binario]) # hace el metodo con insert de manera que luego no se necesite revertir el string\n",
    "        salida = b[::-1]\n",
    "        return salida"
   ]
  },
  {
   "cell_type": "code",
   "execution_count": 7,
   "metadata": {},
   "outputs": [
    {
     "data": {
      "text/plain": [
       "'11011'"
      ]
     },
     "execution_count": 7,
     "metadata": {},
     "output_type": "execute_result"
    }
   ],
   "source": [
    "NumeroBinariO(29)"
   ]
  },
  {
   "cell_type": "code",
   "execution_count": 15,
   "metadata": {},
   "outputs": [],
   "source": [
    "# resolucion Code Review\n",
    "# lo resuelve generando el binario con un string\n",
    "\n",
    "def base10aBinario(num):\n",
    "    if type(num) != int or num <0: return None\n",
    "    # if not instance (num,int) or num <0: return None\n",
    "    elif num == 0: return 0\n",
    "    binario =''\n",
    "    div_resto = 0\n",
    "    while num > 0:\n",
    "        div_resto = num % 2\n",
    "        num //= 2 \n",
    "        binario = str(div_resto) + binario\n",
    "    return binario \n",
    "        "
   ]
  },
  {
   "cell_type": "code",
   "execution_count": 16,
   "metadata": {},
   "outputs": [
    {
     "name": "stdout",
     "output_type": "stream",
     "text": [
      "0b1000\n",
      "1000\n",
      "1000\n"
     ]
    }
   ],
   "source": [
    "# Ejemplo\n",
    "print(bin(8))\n",
    "print(bin(8)[2:])\n",
    "print(base10aBinario(8))"
   ]
  }
 ],
 "metadata": {
  "kernelspec": {
   "display_name": "Python 3",
   "language": "python",
   "name": "python3"
  },
  "language_info": {
   "codemirror_mode": {
    "name": "ipython",
    "version": 3
   },
   "file_extension": ".py",
   "mimetype": "text/x-python",
   "name": "python",
   "nbconvert_exporter": "python",
   "pygments_lexer": "ipython3",
   "version": "3.11.5"
  }
 },
 "nbformat": 4,
 "nbformat_minor": 2
}

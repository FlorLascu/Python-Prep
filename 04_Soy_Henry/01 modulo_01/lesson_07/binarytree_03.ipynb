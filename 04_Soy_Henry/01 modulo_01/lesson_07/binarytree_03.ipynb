{
 "cells": [
  {
   "cell_type": "code",
   "execution_count": null,
   "metadata": {},
   "outputs": [],
   "source": [
    "def inorder(self,troot):\n",
    "        if troot:\n",
    "            self.inorder(troot._left)\n",
    "            print(troot._element,end=' ')\n",
    "            self.inorder(troot._right)\n",
    "   # preorder similar to prefix. +AB, visit root first,then left, then right\n",
    "    def preorder(self,troot):\n",
    "        if troot:\n",
    "            print(troot._element,end=' ')\n",
    "            self.preorder(troot._left)\n",
    "            self.preorder(troot._right)\n",
    "   # postorder similar to postfix. left first, then right, then root\n",
    "    def postorder(self,troot):\n",
    "        if troot:\n",
    "            self.postorder(troot._left)\n",
    "            self.postorder(troot._right)\n",
    "            print(troot._element,end=' ')  "
   ]
  },
  {
   "cell_type": "code",
   "execution_count": 14,
   "metadata": {},
   "outputs": [],
   "source": [
    "# Binary Tree coding\n",
    "class Expr: \n",
    "    pass\n",
    "\n",
    "class Times(Expr):\n",
    "    def __init__(self,l,r):\n",
    "        self.l = l\n",
    "        self.r = r \n",
    "    \n",
    "    def __str__(self):\n",
    "        return \"(\"+ str(self.l) + \"*\" + str(self.r) + \")\"\n",
    "    \n",
    "    def eval(self,env):\n",
    "        return self.l.eval(env) * self.r.eval(env)\n",
    "\n",
    "class Plus(Expr):\n",
    "    def __init__(self,l,r):\n",
    "        self.l = l\n",
    "        self.r = r \n",
    "        \n",
    "    def __str__(self):\n",
    "        return \"(\"+ str(self.l) + \"+\" + str(self.r) + \")\"\n",
    "    \n",
    "    def eval(self,env):\n",
    "        return self.l.eval(env) + self.r.eval(env)\n",
    "    \n",
    "class Const(Expr):\n",
    "    def __init__(self,val):\n",
    "        self.val = val\n",
    "    \n",
    "    def __str__(self):\n",
    "        return str(self.val)\n",
    "    \n",
    "    def eval(self,env):\n",
    "        return self.val\n",
    "\n",
    "class Var(Expr):\n",
    "    def __init__(self,name):\n",
    "        self.name = name\n",
    "    \n",
    "    def __str__(self):\n",
    "        return self.name\n",
    "    \n",
    "    def eval(self,env):\n",
    "        return env[self.name]\n"
   ]
  },
  {
   "cell_type": "code",
   "execution_count": 16,
   "metadata": {},
   "outputs": [],
   "source": [
    "e1 = Times(Const(3),Plus(Var(\"y\"),Var(\"x\")))"
   ]
  },
  {
   "cell_type": "code",
   "execution_count": 18,
   "metadata": {},
   "outputs": [
    {
     "name": "stdout",
     "output_type": "stream",
     "text": [
      "(3*(y+x))\n"
     ]
    }
   ],
   "source": [
    "print(e1)"
   ]
  },
  {
   "cell_type": "code",
   "execution_count": 17,
   "metadata": {},
   "outputs": [],
   "source": [
    "e2 = Plus(Times(Const(3),Var(\"y\")),Var(\"x\"))"
   ]
  },
  {
   "cell_type": "code",
   "execution_count": 19,
   "metadata": {},
   "outputs": [
    {
     "name": "stdout",
     "output_type": "stream",
     "text": [
      "((3*y)+x)\n"
     ]
    }
   ],
   "source": [
    "print(e2)"
   ]
  },
  {
   "cell_type": "code",
   "execution_count": 20,
   "metadata": {},
   "outputs": [],
   "source": [
    "env = {\"x\": 2,\"y\": 4}"
   ]
  },
  {
   "cell_type": "code",
   "execution_count": 21,
   "metadata": {},
   "outputs": [
    {
     "data": {
      "text/plain": [
       "2"
      ]
     },
     "execution_count": 21,
     "metadata": {},
     "output_type": "execute_result"
    }
   ],
   "source": [
    "env[\"x\"]"
   ]
  },
  {
   "cell_type": "code",
   "execution_count": 22,
   "metadata": {},
   "outputs": [
    {
     "data": {
      "text/plain": [
       "4"
      ]
     },
     "execution_count": 22,
     "metadata": {},
     "output_type": "execute_result"
    }
   ],
   "source": [
    "env[\"y\"]"
   ]
  },
  {
   "cell_type": "code",
   "execution_count": 23,
   "metadata": {},
   "outputs": [
    {
     "data": {
      "text/plain": [
       "18"
      ]
     },
     "execution_count": 23,
     "metadata": {},
     "output_type": "execute_result"
    }
   ],
   "source": [
    "e1.eval(env)"
   ]
  },
  {
   "cell_type": "code",
   "execution_count": 24,
   "metadata": {},
   "outputs": [
    {
     "data": {
      "text/plain": [
       "14"
      ]
     },
     "execution_count": 24,
     "metadata": {},
     "output_type": "execute_result"
    }
   ],
   "source": [
    "e2.eval(env)"
   ]
  },
  {
   "cell_type": "code",
   "execution_count": null,
   "metadata": {},
   "outputs": [],
   "source": []
  }
 ],
 "metadata": {
  "kernelspec": {
   "display_name": "Python 3",
   "language": "python",
   "name": "python3"
  },
  "language_info": {
   "codemirror_mode": {
    "name": "ipython",
    "version": 3
   },
   "file_extension": ".py",
   "mimetype": "text/x-python",
   "name": "python",
   "nbconvert_exporter": "python",
   "pygments_lexer": "ipython3",
   "version": "3.11.5"
  }
 },
 "nbformat": 4,
 "nbformat_minor": 2
}

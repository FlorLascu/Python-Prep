{
 "cells": [
  {
   "cell_type": "code",
   "execution_count": 1,
   "metadata": {},
   "outputs": [],
   "source": [
    "class Node:\n",
    "    def __init__(self, val):\n",
    "        self.l = None\n",
    "        self.r = None\n",
    "        self.v = val\n",
    "\n",
    "class Tree:\n",
    "    def __init__(self):\n",
    "        self.root = None\n",
    "\n",
    "    def get_root(self):\n",
    "        return self.root\n",
    "\n",
    "    def add(self, val):\n",
    "        if not self.root:\n",
    "            self.root = Node(val)\n",
    "        else:\n",
    "            self._add(val, self.root)\n",
    "\n",
    "    def _add(self, val, node):\n",
    "        if val < node.v:\n",
    "            if node.l:\n",
    "                self._add(val, node.l)\n",
    "            else:\n",
    "                node.l = Node(val)\n",
    "        else:\n",
    "            if node.r:\n",
    "                self._add(val, node.r)\n",
    "            else:\n",
    "                node.r = Node(val)\n",
    "\n",
    "    def find(self, val):\n",
    "        if self.root:\n",
    "            return self._find(val, self.root)\n",
    "\n",
    "    def _find(self, val, node):\n",
    "        if val == node.v:\n",
    "            return node\n",
    "        elif val < node.v and node.l:\n",
    "            return self._find(val, node.l)\n",
    "        elif val > node.v and node.r:\n",
    "            return self._find(val, node.r)\n",
    "\n",
    "    def delete_tree(self):\n",
    "        # garbage collector will do this for us.\n",
    "        if self.root:\n",
    "            self.root = None\n",
    "\n",
    "    def view_tree(self):\n",
    "        if self.root:\n",
    "            self._view_tree(self.root)\n",
    "\n",
    "    def _view_tree(self, node):\n",
    "        if node:\n",
    "            self._view_tree(node.l)\n",
    "            print(node.v, end = \" \")\n",
    "            self._view_tree(node.r)\n"
   ]
  },
  {
   "cell_type": "code",
   "execution_count": null,
   "metadata": {},
   "outputs": [],
   "source": [
    "tree = Tree()\n",
    "tree.add(3)\n",
    "tree.add(4)\n",
    "tree.add(0)\n",
    "tree.add(8)\n",
    "tree.add(2)\n",
    "tree.view_tree()\n",
    "print(tree.find(3).v)\n",
    "print(tree.find(10))\n",
    "tree.delete_tree()\n",
    "tree.view_tree()"
   ]
  }
 ],
 "metadata": {
  "kernelspec": {
   "display_name": "Python 3",
   "language": "python",
   "name": "python3"
  },
  "language_info": {
   "codemirror_mode": {
    "name": "ipython",
    "version": 3
   },
   "file_extension": ".py",
   "mimetype": "text/x-python",
   "name": "python",
   "nbconvert_exporter": "python",
   "pygments_lexer": "ipython3",
   "version": "3.11.5"
  }
 },
 "nbformat": 4,
 "nbformat_minor": 2
}

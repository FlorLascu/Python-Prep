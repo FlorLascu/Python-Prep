{
 "cells": [
  {
   "cell_type": "code",
   "execution_count": null,
   "metadata": {},
   "outputs": [],
   "source": []
  },
  {
   "cell_type": "code",
   "execution_count": 14,
   "metadata": {},
   "outputs": [],
   "source": [
    "class Nodo:\n",
    "    def __init__(self,valor= None,padre=None,es_raiz= False,es_izquierda= False,es_derecha= False):\n",
    "        self.valor = valor\n",
    "        self.izquierda = None\n",
    "        self.derecha = None\n",
    "        self.padre = padre\n",
    "        self.es_raiz = es_raiz\n",
    "        self.es_izquierda = es_izquierda\n",
    "        self.es_derecha = es_derecha\n",
    "        \n",
    "class ArbolBinarioBusqueda:\n",
    "    def __init__(self):\n",
    "        self.raiz = None\n",
    "        \n",
    "        # Esta vacio el arbol\n",
    "    def vacio(self):\n",
    "        if self.raiz == None:\n",
    "            return self.raiz == None\n",
    "    \n",
    "    # encontrar\n",
    "    def __obtener_lugar(self,valor):\n",
    "        aux = self.raiz \n",
    "        while aux != None: # si el arbol no esta vacio, la raiz es != None\n",
    "            temp = aux      # entonces el valor de temp es el de la raiz\n",
    "            if valor <= aux.valor: # si el valor a agregar es menor que el padre va a la izq\n",
    "                aux = aux.izquierda\n",
    "            else:                # si el valor a agregar es mayor que el padre va a la der\n",
    "                aux = aux.derecha\n",
    "        return temp\n",
    "    \n",
    "    # Agregar datos al arbol\n",
    "    def agregar(self, valor):\n",
    "        if self.vacio():        # si el arbol esta vacio el primer valor sera el de la raiz\n",
    "            self.raiz = Nodo(valor=valor,es_raiz=True)\n",
    "        else:    # sino esta vacio ira a la derecha si es mayor y esta vacio o a la izquierda si es menor\n",
    "            nodo = self.__obtener_lugar(valor) # la funcion obtener lugar define si va a la iz o der\n",
    "            if valor <= nodo.valor:\n",
    "                nodo.left = Nodo(valor=valor,padre=nodo,es_izquierda=True) # crea el nodo a la izquierda\n",
    "            else:                     \n",
    "                nodo.right = Nodo(valor=valor,padre=nodo,es_derecha=True) # crea el nodo a la derecha\n",
    "    \n",
    "    def recorrido_in_order(self,node):\n",
    "        if node:\n",
    "            self.recorrido_in_order(node.izquierda)\n",
    "            print(node.valor)\n",
    "            self.recorrido_in_order(node.derecha)\n",
    "            # primero lo mas a la izquierda, luego a la derecha lo mas arriba con el primero que encuentra\n",
    "            \n",
    "    def recorrido_in_pre_order(self,node):\n",
    "        if node:\n",
    "            print(node.valor)\n",
    "            self.recorrido_in_pre_order(node.izquierda)\n",
    "            self.recorrido_in_pre_order(node.derecha)\n",
    "    \n",
    "    def recorrido_in_pos_order(self,node):\n",
    "        if node:\n",
    "            self.recorrido_in_pos_order(node.izquierda)\n",
    "            self.recorrido_in_pos_order(node.derecha)\n",
    "            print(node.valor)\n",
    "            \n",
    "    def buscar(self,nodo,valor):\n",
    "        if nodo == None:  # buscamos un valor, si no hay nada en el nodo, retornamos null\n",
    "            return None\n",
    "        else:               \n",
    "            if nodo.valor == valor:     # si el valor del nodo es igual al valor que buscamos\n",
    "                return nodo\n",
    "            elif valor <= nodo.valor:     # si el valor es menor entonces busca por izquierda\n",
    "                return self.buscar(nodo.izquierda,valor)\n",
    "            else:                       # si el valor es menor entonces busca por derecha\n",
    "                return self.buscar(nodo.derecha,valor)\n",
    "        "
   ]
  },
  {
   "cell_type": "code",
   "execution_count": 15,
   "metadata": {},
   "outputs": [],
   "source": [
    "arbol = ArbolBinarioBusqueda()"
   ]
  },
  {
   "cell_type": "code",
   "execution_count": 16,
   "metadata": {},
   "outputs": [
    {
     "data": {
      "text/plain": [
       "True"
      ]
     },
     "execution_count": 16,
     "metadata": {},
     "output_type": "execute_result"
    }
   ],
   "source": [
    "arbol.vacio()"
   ]
  },
  {
   "cell_type": "code",
   "execution_count": 17,
   "metadata": {},
   "outputs": [],
   "source": [
    "arbol.agregar(7)"
   ]
  },
  {
   "cell_type": "code",
   "execution_count": 18,
   "metadata": {},
   "outputs": [],
   "source": [
    "arbol.agregar(9)\n",
    "arbol.agregar(3)\n",
    "arbol.agregar(2)\n",
    "arbol.agregar(4)"
   ]
  },
  {
   "cell_type": "code",
   "execution_count": 29,
   "metadata": {},
   "outputs": [
    {
     "name": "stdout",
     "output_type": "stream",
     "text": [
      "7\n"
     ]
    }
   ],
   "source": [
    "arbol.recorrido_in_order(arbol.raiz)"
   ]
  },
  {
   "cell_type": "code",
   "execution_count": 21,
   "metadata": {},
   "outputs": [
    {
     "name": "stdout",
     "output_type": "stream",
     "text": [
      "7\n"
     ]
    }
   ],
   "source": [
    "arbol.recorrido_in_pos_order(arbol.raiz)"
   ]
  },
  {
   "cell_type": "code",
   "execution_count": 22,
   "metadata": {},
   "outputs": [
    {
     "name": "stdout",
     "output_type": "stream",
     "text": [
      "7\n"
     ]
    }
   ],
   "source": [
    "arbol.recorrido_in_pre_order(arbol.raiz)"
   ]
  },
  {
   "cell_type": "code",
   "execution_count": 23,
   "metadata": {},
   "outputs": [
    {
     "name": "stdout",
     "output_type": "stream",
     "text": [
      "7\n"
     ]
    }
   ],
   "source": [
    "arbol.recorrido_in_order(arbol.raiz)"
   ]
  },
  {
   "cell_type": "code",
   "execution_count": 33,
   "metadata": {},
   "outputs": [
    {
     "ename": "AttributeError",
     "evalue": "'int' object has no attribute 'valor'",
     "output_type": "error",
     "traceback": [
      "\u001b[1;31m---------------------------------------------------------------------------\u001b[0m",
      "\u001b[1;31mAttributeError\u001b[0m                            Traceback (most recent call last)",
      "\u001b[1;32mc:\\Users\\Florencia\\Desktop\\Python-Prep\\04_Soy_Henry\\01 modulo_01\\lesson_07\\arbol_binario.ipynb Celda 11\u001b[0m line \u001b[0;36m1\n\u001b[1;32m----> <a href='vscode-notebook-cell:/c%3A/Users/Florencia/Desktop/Python-Prep/04_Soy_Henry/01%20modulo_01/lesson_07/arbol_binario.ipynb#X16sZmlsZQ%3D%3D?line=0'>1</a>\u001b[0m arbol\u001b[39m.\u001b[39;49mbuscar(\u001b[39m3\u001b[39;49m,\u001b[39m4\u001b[39;49m)\n",
      "\u001b[1;32mc:\\Users\\Florencia\\Desktop\\Python-Prep\\04_Soy_Henry\\01 modulo_01\\lesson_07\\arbol_binario.ipynb Celda 11\u001b[0m line \u001b[0;36m6\n\u001b[0;32m     <a href='vscode-notebook-cell:/c%3A/Users/Florencia/Desktop/Python-Prep/04_Soy_Henry/01%20modulo_01/lesson_07/arbol_binario.ipynb#X16sZmlsZQ%3D%3D?line=62'>63</a>\u001b[0m     \u001b[39mreturn\u001b[39;00m \u001b[39mNone\u001b[39;00m\n\u001b[0;32m     <a href='vscode-notebook-cell:/c%3A/Users/Florencia/Desktop/Python-Prep/04_Soy_Henry/01%20modulo_01/lesson_07/arbol_binario.ipynb#X16sZmlsZQ%3D%3D?line=63'>64</a>\u001b[0m \u001b[39melse\u001b[39;00m:               \n\u001b[1;32m---> <a href='vscode-notebook-cell:/c%3A/Users/Florencia/Desktop/Python-Prep/04_Soy_Henry/01%20modulo_01/lesson_07/arbol_binario.ipynb#X16sZmlsZQ%3D%3D?line=64'>65</a>\u001b[0m     \u001b[39mif\u001b[39;00m nodo\u001b[39m.\u001b[39;49mvalor \u001b[39m==\u001b[39m valor:     \u001b[39m# si el valor del nodo es igual al valor que buscamos\u001b[39;00m\n\u001b[0;32m     <a href='vscode-notebook-cell:/c%3A/Users/Florencia/Desktop/Python-Prep/04_Soy_Henry/01%20modulo_01/lesson_07/arbol_binario.ipynb#X16sZmlsZQ%3D%3D?line=65'>66</a>\u001b[0m         \u001b[39mreturn\u001b[39;00m nodo\n\u001b[0;32m     <a href='vscode-notebook-cell:/c%3A/Users/Florencia/Desktop/Python-Prep/04_Soy_Henry/01%20modulo_01/lesson_07/arbol_binario.ipynb#X16sZmlsZQ%3D%3D?line=66'>67</a>\u001b[0m     \u001b[39melif\u001b[39;00m valor \u001b[39m<\u001b[39m\u001b[39m=\u001b[39m nodo\u001b[39m.\u001b[39mvalor:     \u001b[39m# si el valor es menor entonces busca por izquierda\u001b[39;00m\n",
      "\u001b[1;31mAttributeError\u001b[0m: 'int' object has no attribute 'valor'"
     ]
    }
   ],
   "source": [
    "arbol.buscar(3,4)"
   ]
  },
  {
   "cell_type": "code",
   "execution_count": 20,
   "metadata": {},
   "outputs": [],
   "source": [
    "if __name__ == \"__main__\":\n",
    "    \n",
    "    def menu():\n",
    "        opc = 0\n",
    "        arbol_binario = ArbolBinarioBusqueda()\n",
    "        try: \n",
    "            while opc != 4:\n",
    "                print(\"\\nDiccionario Articulos\\n\"\n",
    "                    + \"\\n\\t1. Agregar datos\"\n",
    "                    + \"\\n\\t2. Esta vacio el arbol?\"\n",
    "                    + \"\\n\\t3. Recorrer in orden\"\n",
    "                    + \"\\n\\t4. Recorrer en post-orden\"\n",
    "                    + \"\\n\\t5. Recorrer en pre-orden\"\n",
    "                    + \"\\n\\t6. Buscar\"\n",
    "                    + \"\\n\\t7. Salir\")\n",
    "                opc=int(input(\"Ingrese su opcion\"))\n",
    "                \n",
    "                if opc == 1:\n",
    "                    dato = int(input('Ingrese el dato a anexar al arbol:'))\n",
    "                    arbol_binario.agregar(dato)\n",
    "                elif opc ==2:\n",
    "                    print(\"SI\" if arbol_binario.vacio() else \"NO\")\n",
    "                elif opc == 3:\n",
    "                    arbol_binario.recorrido_in_order(arbol_binario.raiz)\n",
    "                elif opc == 4:\n",
    "                    arbol_binario.recorrido_in_pos_order(arbol_binario.raiz)\n",
    "                elif opc == 5:\n",
    "                    arbol_binario.recorrido_in_pre_order(arbol_binario.raiz)                \n",
    "                elif opc == 6:\n",
    "                    dato = int(input('Ingrese el dato a buscar en el arbol'))\n",
    "                    print(arbol_binario.buscar(arbol_binario.raiz,dato))    \n",
    "                elif opc ==7:\n",
    "                    print(\"Adios.\")\n",
    "                else:\n",
    "                    print(\"ingresaste una opcion erronea\")\n",
    "        \n",
    "        except Exception as e:\n",
    "            print(\"\\n Solo se permiten caracteres numericos\")\n",
    "            print(e)    "
   ]
  }
 ],
 "metadata": {
  "kernelspec": {
   "display_name": "Python 3",
   "language": "python",
   "name": "python3"
  },
  "language_info": {
   "codemirror_mode": {
    "name": "ipython",
    "version": 3
   },
   "file_extension": ".py",
   "mimetype": "text/x-python",
   "name": "python",
   "nbconvert_exporter": "python",
   "pygments_lexer": "ipython3",
   "version": "3.11.5"
  }
 },
 "nbformat": 4,
 "nbformat_minor": 2
}

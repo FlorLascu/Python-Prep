{
 "cells": [
  {
   "cell_type": "code",
   "execution_count": 1,
   "metadata": {},
   "outputs": [],
   "source": [
    "# Operaciones con conjuntos\n",
    "a = {1,2,3,4,5,6,7,8,9,10}\n",
    "b = {1,3,90,67,7,8}\n",
    "c = {1,2,3,4,5,6,7,8,9,10,11,12,13,14,15}"
   ]
  },
  {
   "cell_type": "code",
   "execution_count": 2,
   "metadata": {},
   "outputs": [
    {
     "name": "stdout",
     "output_type": "stream",
     "text": [
      "{1, 2, 3, 4, 5, 6, 7, 8, 9, 10, 67, 90}\n"
     ]
    }
   ],
   "source": [
    "# Union\n",
    "union = a|b \n",
    "print(union)"
   ]
  },
  {
   "cell_type": "code",
   "execution_count": 3,
   "metadata": {},
   "outputs": [
    {
     "name": "stdout",
     "output_type": "stream",
     "text": [
      "{8, 1, 3, 7}\n"
     ]
    }
   ],
   "source": [
    "# interseccion\n",
    "interseccion = a & b\n",
    "print(interseccion)"
   ]
  },
  {
   "cell_type": "code",
   "execution_count": 4,
   "metadata": {},
   "outputs": [
    {
     "name": "stdout",
     "output_type": "stream",
     "text": [
      "{2, 4, 5, 6, 9, 10}\n"
     ]
    }
   ],
   "source": [
    "# diferencia\n",
    "diferencia = a -b # los elementos de a que no se repiten en b\n",
    "print(diferencia)"
   ]
  },
  {
   "cell_type": "code",
   "execution_count": 5,
   "metadata": {},
   "outputs": [
    {
     "name": "stdout",
     "output_type": "stream",
     "text": [
      "{90, 67}\n"
     ]
    }
   ],
   "source": [
    "# diferencia depende del orden\n",
    "\n",
    "diferencia2 = b - a\n",
    "print(diferencia2)"
   ]
  },
  {
   "cell_type": "code",
   "execution_count": 6,
   "metadata": {},
   "outputs": [
    {
     "name": "stdout",
     "output_type": "stream",
     "text": [
      "{2, 67, 4, 5, 6, 9, 10, 90}\n"
     ]
    }
   ],
   "source": [
    "# diferencia simetrica - es el conjunto de a y b cuyos elementos son unicos para ambos\n",
    "simetrica = a^b\n",
    "print(simetrica)"
   ]
  },
  {
   "cell_type": "code",
   "execution_count": 7,
   "metadata": {},
   "outputs": [
    {
     "name": "stdout",
     "output_type": "stream",
     "text": [
      "{2, 67, 4, 5, 6, 9, 10, 90}\n"
     ]
    }
   ],
   "source": [
    "# es lo mismo a a b que b a a \n",
    "simetrica2 = b^a\n",
    "print(simetrica2)"
   ]
  },
  {
   "cell_type": "code",
   "execution_count": 9,
   "metadata": {},
   "outputs": [
    {
     "name": "stdout",
     "output_type": "stream",
     "text": [
      "A es uun subconjuto de b?  False\n"
     ]
    }
   ],
   "source": [
    "# si a es un subconjuyo de b\n",
    "subconjunto = a.issubset(b)\n",
    "print('A es uun subconjuto de b? ',subconjunto)"
   ]
  },
  {
   "cell_type": "code",
   "execution_count": 10,
   "metadata": {},
   "outputs": [
    {
     "name": "stdout",
     "output_type": "stream",
     "text": [
      "A es uun superconjuto de b?  False\n"
     ]
    }
   ],
   "source": [
    "# si a es un superconjuto de b\n",
    "superconjunto = a.issuperset(b)\n",
    "print('A es uun superconjuto de b? ',superconjunto)"
   ]
  },
  {
   "cell_type": "code",
   "execution_count": 11,
   "metadata": {},
   "outputs": [
    {
     "name": "stdout",
     "output_type": "stream",
     "text": [
      " A y B son disconexos? = False\n"
     ]
    }
   ],
   "source": [
    "# si a y b son disconexos\n",
    "print(f' A y B son disconexos? = {a.isdisjoint(b)}')"
   ]
  }
 ],
 "metadata": {
  "kernelspec": {
   "display_name": "Python 3",
   "language": "python",
   "name": "python3"
  },
  "language_info": {
   "codemirror_mode": {
    "name": "ipython",
    "version": 3
   },
   "file_extension": ".py",
   "mimetype": "text/x-python",
   "name": "python",
   "nbconvert_exporter": "python",
   "pygments_lexer": "ipython3",
   "version": "3.11.5"
  }
 },
 "nbformat": 4,
 "nbformat_minor": 2
}

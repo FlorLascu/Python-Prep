{
 "cells": [
  {
   "cell_type": "code",
   "execution_count": 2,
   "metadata": {},
   "outputs": [],
   "source": [
    "class TreeNode: # esta clase crea el nodo cada vez que se agrega un elemento al arbol\n",
    "\n",
    "    def __init__(self, data=None): \n",
    "        self.data = data            # los atributos del nodo son data = valor \n",
    "        self.left = None            # y si es el valor hijo left  esta ocupado\n",
    "        self.right = None           # y si es el valor hijo right  esta ocupado\n",
    "\n",
    "    def __str__(self):              # para mostrar el nodo y su informacion\n",
    "        return f'Node(Data={self.data}, Left={self.left}, Right={self.right})'\n",
    "\n",
    "    def __repr__(self):             # para mostrar el nodo y su informacion       \n",
    "        return self.__str__()\n",
    "\n",
    "    def get_data(self):         # muestra el valor del nodo/padre/raiz\n",
    "        return self.data\n",
    "\n",
    "    def set_data(self, data):       # crea el elemento del nodo\n",
    "        self.data = data\n",
    "\n",
    "    def get_left(self):         # muestra el hijo a la izquierda\n",
    "        return self.left\n",
    "\n",
    "    def set_left(self, left):       #define el hijo a la izquierda\n",
    "        self.left = left\n",
    "\n",
    "    def get_right(self):            # muestra el hijo a la derecha\n",
    "        return self.right\n",
    "\n",
    "    def set_right(self, right):     #define el elemento a la derecha\n",
    "        self.right = right\n",
    "\n",
    "class BinaryTree:\n",
    "\n",
    "    def __init__(self, root=None):\n",
    "        self.root = TreeNode(root) # crea un nodo y lo instancia como elemento de la clase nodo\n",
    "\n",
    "    def __str__(self):              # muestra el nodo raiz\n",
    "        return f'BinaryTree({self.root})'\n",
    "\n",
    "    def __repr__(self):             # muestra el nodo\n",
    "        return f'BinaryTree({self.root})'\n",
    "\n",
    "    def insert(self, data):         # inserta al arbol un nodo\n",
    "        # if empty tree                     \n",
    "        if self.root.get_data() is None:        # si la raiz esta vacia, lo instancia como la raiz\n",
    "            return self.root.set_data(data)\n",
    "        new_node = TreeNode(data)               # crea un nodo sin ubicacion y lo busca ubicar\n",
    "        current = self.root                     # current es igual al valor de la raiz\n",
    "        while True:\n",
    "            if data < current.get_data():       # compara el valor contra la raiz para saber donde recorrer para guardarlo\n",
    "                if current.get_left() is None:  # si el nodo a la izquierda de la raiz esta vacio\n",
    "                    return current.set_left(new_node)   # entonces guarda el valor del nodo a la izq y sale del loop\n",
    "                current = current.get_left()            # sino recorre el siguiente a la izquierda \n",
    "                continue\n",
    "            elif data > current.get_data():        # si el valor es mayor a la raiz => busca guardar el nodo a la derecha\n",
    "                if current.get_right() is None:    # si el valor a la derecha esta vacio,lo guarda ahi \n",
    "                    return current.set_right(new_node) # entonces guarda el valor del nodo a la derecha y sale del loop\n",
    "                current = current.get_right()       # sino recorre el siguiente a la derecha\n",
    "                continue\n",
    "            return\n",
    "\n",
    "    # still needs other methods like the delete method, but you can\n",
    "    # try it out yourself\n",
    "    #def delete(self, node):\n",
    "    #    pass\n",
    "\n"
   ]
  },
  {
   "cell_type": "code",
   "execution_count": 3,
   "metadata": {},
   "outputs": [
    {
     "name": "stdout",
     "output_type": "stream",
     "text": [
      "BinaryTree(Node(Data=5, Left=Node(Data=3, Left=Node(Data=2, Left=None, Right=None), Right=Node(Data=4, Left=None, Right=None)), Right=Node(Data=8, Left=Node(Data=6, Left=None, Right=None), Right=Node(Data=9, Left=None, Right=None))))\n"
     ]
    }
   ],
   "source": [
    "myTree = BinaryTree()\n",
    "myTree.insert(5)\n",
    "myTree.insert(3)\n",
    "myTree.insert(4)\n",
    "myTree.insert(2)\n",
    "myTree.insert(8)\n",
    "myTree.insert(9)\n",
    "myTree.insert(6)\n",
    "print(myTree)"
   ]
  },
  {
   "cell_type": "code",
   "execution_count": null,
   "metadata": {},
   "outputs": [],
   "source": [
    "def main():\n",
    "    myTree = BinaryTree()\n",
    "    myTree.insert(5)\n",
    "    myTree.insert(3)\n",
    "    myTree.insert(4)\n",
    "    myTree.insert(2)\n",
    "    myTree.insert(8)\n",
    "    myTree.insert(9)\n",
    "    myTree.insert(6)\n",
    "    print(myTree)\n",
    "\n",
    "if __name__ == '__main__':\n",
    "    main()"
   ]
  }
 ],
 "metadata": {
  "kernelspec": {
   "display_name": "Python 3",
   "language": "python",
   "name": "python3"
  },
  "language_info": {
   "codemirror_mode": {
    "name": "ipython",
    "version": 3
   },
   "file_extension": ".py",
   "mimetype": "text/x-python",
   "name": "python",
   "nbconvert_exporter": "python",
   "pygments_lexer": "ipython3",
   "version": "3.11.5"
  }
 },
 "nbformat": 4,
 "nbformat_minor": 2
}

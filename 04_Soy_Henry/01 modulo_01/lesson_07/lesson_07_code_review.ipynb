{
 "cells": [
  {
   "cell_type": "markdown",
   "metadata": {},
   "source": [
    "1) Diseñar una clase que permita trabajar con un árbol binario y que contenga los métodos:<br>\n",
    "    * insertaVal: para insertar un dato<br>\n",
    "    * buscaVal: que devuelva True o False si existe o no un dato<br>\n",
    "    * verVal: que imprima por pantalla los valores del árbol<br>\n",
    "\n",
    "Nota: Se puede utilizar la recursividad\n"
   ]
  },
  {
   "cell_type": "code",
   "execution_count": 33,
   "metadata": {},
   "outputs": [],
   "source": [
    "# utilizamos una sola clase y dentro de ella creamos el arbol con RECURSIVIDAD\n",
    "# se llama Nodo porque el constructor de la clase es el Nodo, y esta todo el tiempo creando Nodos\n",
    "# entonces, creo el nodo y lo ubico segun el valor del nuevo nodo\n",
    "    # * a la derecha si es mayor\n",
    "    # * a la izquierda si es menor\n",
    "    \n",
    " #   Es un arbol binario a secas, no heap ni busqueda\n",
    "    \n",
    "class Nodo():\n",
    "    def __init__(self, dato):\n",
    "        self.dato = dato\n",
    "        self.izq = None\n",
    "        self.der = None\n",
    "    \n",
    "    def insertaVal(self,dato): # la puedo crear con la condicion de binario busqueda para llenarlo\n",
    "        if dato < self.dato:        # revisa si hay lugar en la izq.\n",
    "            if self.izq == None:    # si hay lugar (None) => mete el nodo ahi\n",
    "                self.izq = Nodo(dato) # mete el dato como un nodo instanciado en izq\n",
    "            else: \n",
    "                self.izq.insertaVal(dato) # esta es la recursividad, seguira avanzando por la izquierda hasta encontrar un lugar izq vacio\n",
    "        elif dato > self.dato:      # cuando dato es mayor que raiz, va a la derecha a llenar\n",
    "                if self.der == None:    # si hay lugar (None) => mete el nodo ahi\n",
    "                    self.der = Nodo(dato) # mete el dato como un nodo instanciado en izq\n",
    "                else: \n",
    "                    self.der.insertaVal(dato) # esta es la recursividad, seguira avanzando por la izquierda hasta encontrar un lugar izq vacio\n",
    "        else: \n",
    "            print(\"Valor repetido\")     # porque para este arbol, pensamos la logica sin duplicados tipo busqueda binaria\n",
    "        \n",
    "    def buscarVal(self, val_bus): # utilizo la misma logica que la de la creacion\n",
    "        if val_bus < self.dato: # le apunto al primer nodo (raiz) y evaluo si es mayor o menor, si es menor voy a la izq\n",
    "            if self.izq == None: # si esta vacio => no existe el valor buscado\n",
    "                return False\n",
    "            return self.izq.buscarVal(val_bus) # recursividad. Va a seguir buscando porque llama a la funcion y arranca de nuevo desde el nodo donde esta\n",
    "                                                # se vuelve un loop hasta encontrarlo o que no exista\n",
    "        elif val_bus > self.dato:\n",
    "            if self.der == None: # si esta vacio => no existe el valor buscado\n",
    "                return False\n",
    "            return self.der.buscarVal(val_bus) # esta recursividad funciona como un loop porque vuelve a comenzar la funcion cada vez que avanza sin encontrar el val_bus\n",
    "        else:\n",
    "            return True        \n",
    "        \n",
    "    def verVal(self,dato): # depende de con que metodo recorro (pre-in-on order)\n",
    "        \n",
    "        if self.der: self.der.verVal(dato) # si el valor de la derecha existe lo muestra\n",
    "        if self.izq: self.izq.verVal(dato)\n",
    "        print(self.dato)\n",
    "        \n",
    "        # primero\n",
    "        #if self.der: self.der.verVal(dato) # si el valor de la derecha existe lo muestra\n",
    "        #print(self.dato)\n",
    "        #if self.izq: self.izq.verVal(dato)\n",
    "        \n",
    "        #segundo\n",
    "        #print(self.dato)\n",
    "        #if self.der: self.der.verVal(dato) # si el valor de la derecha existe lo muestra\n",
    "        #if self.izq: self.izq.verVal(dato)\n",
    "        "
   ]
  },
  {
   "cell_type": "code",
   "execution_count": 34,
   "metadata": {},
   "outputs": [],
   "source": [
    "# Recursividad = capacidad de la funcion de llamarse a si misma\n",
    "raiz = Nodo(5)  # inserta a 5 como la raiz\n",
    "raiz.insertaVal(18) # evalua si 18 es mayor que 5 => True, entonces va a la derecha si tiene lugar va a la derecha\n",
    "raiz.insertaVal(8) # evalua si es mayor que 18 => True, pero esta 18 ocupando, entonces por recursividad va a la izquierda de 18 y lo guarda\n",
    "raiz.insertaVal(3) # evalua si es mayor que 5 => False => va a la izquierda => lo guarda en izq\n",
    "raiz.insertaVal(4) # evalua si es mayor que 4 => False => va a la izquierda => esta ocupado, y el siguiente es menor => entonces lo guarda a la derecha de 3 "
   ]
  },
  {
   "cell_type": "code",
   "execution_count": 17,
   "metadata": {},
   "outputs": [
    {
     "data": {
      "text/plain": [
       "True"
      ]
     },
     "execution_count": 17,
     "metadata": {},
     "output_type": "execute_result"
    }
   ],
   "source": [
    "raiz.buscarVal(5)"
   ]
  },
  {
   "cell_type": "code",
   "execution_count": 18,
   "metadata": {},
   "outputs": [
    {
     "data": {
      "text/plain": [
       "True"
      ]
     },
     "execution_count": 18,
     "metadata": {},
     "output_type": "execute_result"
    }
   ],
   "source": [
    "raiz.buscarVal(18)"
   ]
  },
  {
   "cell_type": "code",
   "execution_count": 19,
   "metadata": {},
   "outputs": [
    {
     "data": {
      "text/plain": [
       "False"
      ]
     },
     "execution_count": 19,
     "metadata": {},
     "output_type": "execute_result"
    }
   ],
   "source": [
    "raiz.buscarVal(1)"
   ]
  },
  {
   "cell_type": "code",
   "execution_count": 20,
   "metadata": {},
   "outputs": [
    {
     "data": {
      "text/plain": [
       "True"
      ]
     },
     "execution_count": 20,
     "metadata": {},
     "output_type": "execute_result"
    }
   ],
   "source": [
    "raiz.buscarVal(4)"
   ]
  },
  {
   "cell_type": "code",
   "execution_count": 29,
   "metadata": {},
   "outputs": [
    {
     "name": "stdout",
     "output_type": "stream",
     "text": [
      "18\n",
      "8\n",
      "5\n",
      "4\n",
      "3\n"
     ]
    }
   ],
   "source": [
    "raiz.verVal(5) # con un recorrido # print entre medio"
   ]
  },
  {
   "cell_type": "code",
   "execution_count": 32,
   "metadata": {},
   "outputs": [
    {
     "name": "stdout",
     "output_type": "stream",
     "text": [
      "5\n",
      "18\n",
      "8\n",
      "3\n",
      "4\n"
     ]
    }
   ],
   "source": [
    "raiz.verVal(5) # con un recorrido con print al principio"
   ]
  },
  {
   "cell_type": "code",
   "execution_count": 35,
   "metadata": {},
   "outputs": [
    {
     "name": "stdout",
     "output_type": "stream",
     "text": [
      "8\n",
      "18\n",
      "4\n",
      "3\n",
      "5\n"
     ]
    }
   ],
   "source": [
    "raiz.verVal(5) # con un recorrido con print en el final"
   ]
  },
  {
   "cell_type": "code",
   "execution_count": null,
   "metadata": {},
   "outputs": [],
   "source": [
    "# estos son los tipos de recorridos\n",
    "\n",
    "def recorrido_in_order(self,node):\n",
    "        if node:\n",
    "            self.recorrido_in_order(node.izquierda)\n",
    "            print(node.valor)\n",
    "            self.recorrido_in_order(node.derecha)\n",
    "            # primero lo mas a la izquierda, luego a la derecha lo mas arriba con el primero que encuentra\n",
    "            \n",
    "    def recorrido_in_pre_order(self,node):\n",
    "        if node:\n",
    "            print(node.valor)\n",
    "            self.recorrido_in_pre_order(node.izquierda)\n",
    "            self.recorrido_in_pre_order(node.derecha)\n",
    "    \n",
    "    def recorrido_in_pos_order(self,node):\n",
    "        if node:\n",
    "            self.recorrido_in_pos_order(node.izquierda)\n",
    "            self.recorrido_in_pos_order(node.derecha)\n",
    "            print(node.valor)"
   ]
  }
 ],
 "metadata": {
  "kernelspec": {
   "display_name": "Python 3",
   "language": "python",
   "name": "python3"
  },
  "language_info": {
   "codemirror_mode": {
    "name": "ipython",
    "version": 3
   },
   "file_extension": ".py",
   "mimetype": "text/x-python",
   "name": "python",
   "nbconvert_exporter": "python",
   "pygments_lexer": "ipython3",
   "version": "3.11.5"
  }
 },
 "nbformat": 4,
 "nbformat_minor": 2
}

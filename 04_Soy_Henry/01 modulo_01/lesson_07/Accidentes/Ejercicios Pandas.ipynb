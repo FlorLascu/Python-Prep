{
 "cells": [
  {
   "cell_type": "markdown",
   "metadata": {},
   "source": [
    "# Ejercicios sobre Pandas"
   ]
  },
  {
   "cell_type": "code",
   "execution_count": 2,
   "metadata": {},
   "outputs": [],
   "source": [
    "import pandas as pd"
   ]
  },
  {
   "cell_type": "code",
   "execution_count": 92,
   "metadata": {},
   "outputs": [],
   "source": [
    "# Carga tu archivo de datos aquí abajo:\n",
    "nuclear_incidents = pd.read_csv(r'Nuclear_Incidents.csv',sep=',', encoding='utf-8',thousands=\",\")"
   ]
  },
  {
   "cell_type": "code",
   "execution_count": 89,
   "metadata": {},
   "outputs": [
    {
     "name": "stdout",
     "output_type": "stream",
     "text": [
      "<class 'pandas.core.frame.DataFrame'>\n",
      "RangeIndex: 28 entries, 0 to 27\n",
      "Data columns (total 9 columns):\n",
      " #   Column                      Non-Null Count  Dtype  \n",
      "---  ------                      --------------  -----  \n",
      " 0   Date                        28 non-null     object \n",
      " 1   Location                    28 non-null     object \n",
      " 2   Incident                    28 non-null     object \n",
      " 3   Category                    28 non-null     object \n",
      " 4   Numbers of Direct Deaths    26 non-null     float64\n",
      " 5   Numbers of InDirect Deaths  3 non-null      float64\n",
      " 6   INES\n",
      "level                  16 non-null     float64\n",
      " 7   Latitude                    28 non-null     float64\n",
      " 8   Longitude                   28 non-null     float64\n",
      "dtypes: float64(5), object(4)\n",
      "memory usage: 2.1+ KB\n"
     ]
    }
   ],
   "source": [
    "nuclear_incidents.info()"
   ]
  },
  {
   "cell_type": "code",
   "execution_count": 93,
   "metadata": {},
   "outputs": [
    {
     "data": {
      "text/plain": [
       "Date                                                                 26/04/1986\n",
       "Location                      Chernobyl, Chernobyl Raion (now Vyshhorod Raio...\n",
       "Incident                                                     Chernobyl disaster\n",
       "Category                                               Design/Safety Procedures\n",
       "Numbers of Direct Deaths                                                   28.0\n",
       "Numbers of InDirect Deaths                                               4000.0\n",
       "INES\\nlevel                                                                 7.0\n",
       "Latitude                                                                51.2763\n",
       "Longitude                                                               30.2219\n",
       "Name: 11, dtype: object"
      ]
     },
     "execution_count": 93,
     "metadata": {},
     "output_type": "execute_result"
    }
   ],
   "source": [
    "nuclear_incidents.iloc[11]"
   ]
  },
  {
   "cell_type": "markdown",
   "metadata": {},
   "source": [
    "### Ejercicio 1:\n",
    "* Muestra la cantidad de registros para cada país ('Location')."
   ]
  },
  {
   "cell_type": "code",
   "execution_count": 94,
   "metadata": {},
   "outputs": [
    {
     "name": "stdout",
     "output_type": "stream",
     "text": [
      "<class 'pandas.core.series.Series'>\n",
      "RangeIndex: 28 entries, 0 to 27\n",
      "Series name: Location \n",
      "Non-Null Count  Dtype \n",
      "--------------  ----- \n",
      "28 non-null     object\n",
      "dtypes: object(1)\n",
      "memory usage: 356.0+ bytes\n"
     ]
    }
   ],
   "source": [
    "nuclear_incidents['Location '].info()"
   ]
  },
  {
   "cell_type": "code",
   "execution_count": 95,
   "metadata": {},
   "outputs": [],
   "source": [
    "nuclear_incidents = nuclear_incidents.rename(columns= {'Location ': 'location'})"
   ]
  },
  {
   "cell_type": "code",
   "execution_count": 96,
   "metadata": {},
   "outputs": [
    {
     "data": {
      "text/plain": [
       "Index(['Date', 'location', 'Incident', 'Category', 'Numbers of Direct Deaths',\n",
       "       'Numbers of InDirect Deaths', 'INES\\nlevel', 'Latitude', 'Longitude'],\n",
       "      dtype='object')"
      ]
     },
     "execution_count": 96,
     "metadata": {},
     "output_type": "execute_result"
    }
   ],
   "source": [
    "nuclear_incidents.columns"
   ]
  },
  {
   "cell_type": "code",
   "execution_count": 97,
   "metadata": {},
   "outputs": [
    {
     "data": {
      "text/html": [
       "<div>\n",
       "<style scoped>\n",
       "    .dataframe tbody tr th:only-of-type {\n",
       "        vertical-align: middle;\n",
       "    }\n",
       "\n",
       "    .dataframe tbody tr th {\n",
       "        vertical-align: top;\n",
       "    }\n",
       "\n",
       "    .dataframe thead th {\n",
       "        text-align: right;\n",
       "    }\n",
       "</style>\n",
       "<table border=\"1\" class=\"dataframe\">\n",
       "  <thead>\n",
       "    <tr style=\"text-align: right;\">\n",
       "      <th></th>\n",
       "      <th>Date</th>\n",
       "      <th>location</th>\n",
       "      <th>Incident</th>\n",
       "      <th>Category</th>\n",
       "      <th>Numbers of Direct Deaths</th>\n",
       "      <th>Numbers of InDirect Deaths</th>\n",
       "      <th>INES\\nlevel</th>\n",
       "      <th>Latitude</th>\n",
       "      <th>Longitude</th>\n",
       "      <th>country</th>\n",
       "    </tr>\n",
       "  </thead>\n",
       "  <tbody>\n",
       "    <tr>\n",
       "      <th>0</th>\n",
       "      <td>29/09/1957</td>\n",
       "      <td>Mayak, Kyshtym, Soviet Union</td>\n",
       "      <td>Kyshtym disaster</td>\n",
       "      <td>Storage/Handling</td>\n",
       "      <td>NaN</td>\n",
       "      <td>200.0</td>\n",
       "      <td>6.0</td>\n",
       "      <td>55.7131</td>\n",
       "      <td>60.8526</td>\n",
       "      <td>Soviet Union</td>\n",
       "    </tr>\n",
       "    <tr>\n",
       "      <th>1</th>\n",
       "      <td>10/10/1957</td>\n",
       "      <td>Sellafield, Cumberland, United Kingdom</td>\n",
       "      <td>Windscale fire</td>\n",
       "      <td>Operational/Safety Measures</td>\n",
       "      <td>0.0</td>\n",
       "      <td>240.0</td>\n",
       "      <td>5.0</td>\n",
       "      <td>54.4167</td>\n",
       "      <td>-3.4833</td>\n",
       "      <td>United Kingdom</td>\n",
       "    </tr>\n",
       "    <tr>\n",
       "      <th>2</th>\n",
       "      <td>03/01/1961</td>\n",
       "      <td>Idaho Falls, Idaho, United States</td>\n",
       "      <td>SL-1 prototype explosion</td>\n",
       "      <td>Operator Error</td>\n",
       "      <td>3.0</td>\n",
       "      <td>NaN</td>\n",
       "      <td>4.0</td>\n",
       "      <td>43.4920</td>\n",
       "      <td>-112.0401</td>\n",
       "      <td>United States</td>\n",
       "    </tr>\n",
       "    <tr>\n",
       "      <th>3</th>\n",
       "      <td>05/10/1966</td>\n",
       "      <td>Frenchtown Charter Township, Michigan, United ...</td>\n",
       "      <td>Fermi 1 Reactor meltdown</td>\n",
       "      <td>Technical Flaws</td>\n",
       "      <td>0.0</td>\n",
       "      <td>NaN</td>\n",
       "      <td>4.0</td>\n",
       "      <td>41.9562</td>\n",
       "      <td>-83.6639</td>\n",
       "      <td>United States</td>\n",
       "    </tr>\n",
       "    <tr>\n",
       "      <th>4</th>\n",
       "      <td>21/01/1969</td>\n",
       "      <td>Lucens reactor, Vaud, Switzerland</td>\n",
       "      <td>Loss-of-Coolant Accident (January 21, 1969)</td>\n",
       "      <td>Operator Error</td>\n",
       "      <td>0.0</td>\n",
       "      <td>NaN</td>\n",
       "      <td>4.0</td>\n",
       "      <td>46.6772</td>\n",
       "      <td>6.8750</td>\n",
       "      <td>Switzerland</td>\n",
       "    </tr>\n",
       "  </tbody>\n",
       "</table>\n",
       "</div>"
      ],
      "text/plain": [
       "         Date                                           location  \\\n",
       "0  29/09/1957                       Mayak, Kyshtym, Soviet Union   \n",
       "1  10/10/1957             Sellafield, Cumberland, United Kingdom   \n",
       "2  03/01/1961                  Idaho Falls, Idaho, United States   \n",
       "3  05/10/1966  Frenchtown Charter Township, Michigan, United ...   \n",
       "4  21/01/1969                  Lucens reactor, Vaud, Switzerland   \n",
       "\n",
       "                                      Incident                     Category  \\\n",
       "0                             Kyshtym disaster             Storage/Handling   \n",
       "1                               Windscale fire  Operational/Safety Measures   \n",
       "2                     SL-1 prototype explosion               Operator Error   \n",
       "3                     Fermi 1 Reactor meltdown              Technical Flaws   \n",
       "4  Loss-of-Coolant Accident (January 21, 1969)               Operator Error   \n",
       "\n",
       "   Numbers of Direct Deaths  Numbers of InDirect Deaths  INES\\nlevel  \\\n",
       "0                       NaN                       200.0          6.0   \n",
       "1                       0.0                       240.0          5.0   \n",
       "2                       3.0                         NaN          4.0   \n",
       "3                       0.0                         NaN          4.0   \n",
       "4                       0.0                         NaN          4.0   \n",
       "\n",
       "   Latitude  Longitude          country  \n",
       "0   55.7131    60.8526     Soviet Union  \n",
       "1   54.4167    -3.4833   United Kingdom  \n",
       "2   43.4920  -112.0401    United States  \n",
       "3   41.9562   -83.6639    United States  \n",
       "4   46.6772     6.8750      Switzerland  "
      ]
     },
     "execution_count": 97,
     "metadata": {},
     "output_type": "execute_result"
    }
   ],
   "source": [
    "nuclear_incidents['country'] = nuclear_incidents['location'].str.split(',').str[-1]\n",
    "nuclear_incidents.head(5)"
   ]
  },
  {
   "cell_type": "markdown",
   "metadata": {},
   "source": [
    "### Ejercicio 2:\n",
    "* Eliminar las columnas 'Longitude', 'Latitude' y 'Location' y mostrar las 2 primeras filas del Dataframe."
   ]
  },
  {
   "cell_type": "code",
   "execution_count": 98,
   "metadata": {},
   "outputs": [],
   "source": [
    "nuclear_incidents = nuclear_incidents.drop(['Latitude', 'Longitude','location'], axis=1)"
   ]
  },
  {
   "cell_type": "code",
   "execution_count": 99,
   "metadata": {},
   "outputs": [
    {
     "data": {
      "text/html": [
       "<div>\n",
       "<style scoped>\n",
       "    .dataframe tbody tr th:only-of-type {\n",
       "        vertical-align: middle;\n",
       "    }\n",
       "\n",
       "    .dataframe tbody tr th {\n",
       "        vertical-align: top;\n",
       "    }\n",
       "\n",
       "    .dataframe thead th {\n",
       "        text-align: right;\n",
       "    }\n",
       "</style>\n",
       "<table border=\"1\" class=\"dataframe\">\n",
       "  <thead>\n",
       "    <tr style=\"text-align: right;\">\n",
       "      <th></th>\n",
       "      <th>Date</th>\n",
       "      <th>Incident</th>\n",
       "      <th>Category</th>\n",
       "      <th>Numbers of Direct Deaths</th>\n",
       "      <th>Numbers of InDirect Deaths</th>\n",
       "      <th>INES\\nlevel</th>\n",
       "      <th>country</th>\n",
       "    </tr>\n",
       "  </thead>\n",
       "  <tbody>\n",
       "    <tr>\n",
       "      <th>0</th>\n",
       "      <td>29/09/1957</td>\n",
       "      <td>Kyshtym disaster</td>\n",
       "      <td>Storage/Handling</td>\n",
       "      <td>NaN</td>\n",
       "      <td>200.0</td>\n",
       "      <td>6.0</td>\n",
       "      <td>Soviet Union</td>\n",
       "    </tr>\n",
       "    <tr>\n",
       "      <th>1</th>\n",
       "      <td>10/10/1957</td>\n",
       "      <td>Windscale fire</td>\n",
       "      <td>Operational/Safety Measures</td>\n",
       "      <td>0.0</td>\n",
       "      <td>240.0</td>\n",
       "      <td>5.0</td>\n",
       "      <td>United Kingdom</td>\n",
       "    </tr>\n",
       "  </tbody>\n",
       "</table>\n",
       "</div>"
      ],
      "text/plain": [
       "         Date          Incident                     Category  \\\n",
       "0  29/09/1957  Kyshtym disaster             Storage/Handling   \n",
       "1  10/10/1957    Windscale fire  Operational/Safety Measures   \n",
       "\n",
       "   Numbers of Direct Deaths  Numbers of InDirect Deaths  INES\\nlevel  \\\n",
       "0                       NaN                       200.0          6.0   \n",
       "1                       0.0                       240.0          5.0   \n",
       "\n",
       "           country  \n",
       "0     Soviet Union  \n",
       "1   United Kingdom  "
      ]
     },
     "execution_count": 99,
     "metadata": {},
     "output_type": "execute_result"
    }
   ],
   "source": [
    "nuclear_incidents.head(2)"
   ]
  },
  {
   "cell_type": "markdown",
   "metadata": {},
   "source": [
    "### Ejercicio 3:\n",
    "* Muestra la cantidad de veces que se repiten los años en la columna 'Date'."
   ]
  },
  {
   "cell_type": "code",
   "execution_count": 100,
   "metadata": {},
   "outputs": [
    {
     "name": "stdout",
     "output_type": "stream",
     "text": [
      "<class 'pandas.core.series.Series'>\n",
      "RangeIndex: 28 entries, 0 to 27\n",
      "Series name: Date\n",
      "Non-Null Count  Dtype \n",
      "--------------  ----- \n",
      "28 non-null     object\n",
      "dtypes: object(1)\n",
      "memory usage: 356.0+ bytes\n"
     ]
    }
   ],
   "source": [
    "nuclear_incidents['Date'].info()"
   ]
  },
  {
   "cell_type": "code",
   "execution_count": 101,
   "metadata": {},
   "outputs": [
    {
     "name": "stderr",
     "output_type": "stream",
     "text": [
      "C:\\Users\\Florencia\\AppData\\Local\\Temp\\ipykernel_11232\\476751047.py:1: UserWarning: Parsing dates in %d/%m/%Y format when dayfirst=False (the default) was specified. Pass `dayfirst=True` or specify a format to silence this warning.\n",
      "  year = pd.to_datetime(nuclear_incidents['Date']).dt.year # dt.year extrae de cada registro de fecha solo el valor del anio\n"
     ]
    }
   ],
   "source": [
    "year = pd.to_datetime(nuclear_incidents['Date']).dt.year # dt.year extrae de cada registro de fecha solo el valor del anio"
   ]
  },
  {
   "cell_type": "code",
   "execution_count": 102,
   "metadata": {},
   "outputs": [
    {
     "data": {
      "text/plain": [
       "Date\n",
       "1986    4\n",
       "1957    2\n",
       "1996    2\n",
       "1989    2\n",
       "1987    2\n",
       "2011    2\n",
       "1976    1\n",
       "1979    1\n",
       "1984    1\n",
       "1985    1\n",
       "1975    1\n",
       "1961    1\n",
       "1969    1\n",
       "1992    1\n",
       "1966    1\n",
       "1999    1\n",
       "2002    1\n",
       "2003    1\n",
       "2004    1\n",
       "2006    1\n",
       "Name: count, dtype: int64"
      ]
     },
     "execution_count": 102,
     "metadata": {},
     "output_type": "execute_result"
    }
   ],
   "source": [
    "year.value_counts()"
   ]
  },
  {
   "cell_type": "markdown",
   "metadata": {},
   "source": [
    "### Ejercicio 4:\n",
    "* Crea una nueva columna llamada 'Severity' que sea la suma de las columnas 'INES level' y 'Numbers of Direct Deaths'."
   ]
  },
  {
   "cell_type": "code",
   "execution_count": 103,
   "metadata": {},
   "outputs": [],
   "source": [
    "nuclear_incidents['severity'] = nuclear_incidents['INES\\nlevel']+nuclear_incidents['Numbers of Direct Deaths']"
   ]
  },
  {
   "cell_type": "code",
   "execution_count": 104,
   "metadata": {},
   "outputs": [
    {
     "name": "stdout",
     "output_type": "stream",
     "text": [
      "<class 'pandas.core.frame.DataFrame'>\n",
      "RangeIndex: 28 entries, 0 to 27\n",
      "Data columns (total 2 columns):\n",
      " #   Column                    Non-Null Count  Dtype  \n",
      "---  ------                    --------------  -----  \n",
      " 0   INES\n",
      "level                16 non-null     float64\n",
      " 1   Numbers of Direct Deaths  26 non-null     float64\n",
      "dtypes: float64(2)\n",
      "memory usage: 580.0 bytes\n"
     ]
    }
   ],
   "source": [
    "nuclear_incidents[['INES\\nlevel','Numbers of Direct Deaths']].info()"
   ]
  },
  {
   "cell_type": "code",
   "execution_count": 105,
   "metadata": {},
   "outputs": [
    {
     "data": {
      "text/html": [
       "<div>\n",
       "<style scoped>\n",
       "    .dataframe tbody tr th:only-of-type {\n",
       "        vertical-align: middle;\n",
       "    }\n",
       "\n",
       "    .dataframe tbody tr th {\n",
       "        vertical-align: top;\n",
       "    }\n",
       "\n",
       "    .dataframe thead th {\n",
       "        text-align: right;\n",
       "    }\n",
       "</style>\n",
       "<table border=\"1\" class=\"dataframe\">\n",
       "  <thead>\n",
       "    <tr style=\"text-align: right;\">\n",
       "      <th></th>\n",
       "      <th>Date</th>\n",
       "      <th>Incident</th>\n",
       "      <th>Category</th>\n",
       "      <th>Numbers of Direct Deaths</th>\n",
       "      <th>Numbers of InDirect Deaths</th>\n",
       "      <th>INES\\nlevel</th>\n",
       "      <th>country</th>\n",
       "      <th>severity</th>\n",
       "    </tr>\n",
       "  </thead>\n",
       "  <tbody>\n",
       "    <tr>\n",
       "      <th>0</th>\n",
       "      <td>29/09/1957</td>\n",
       "      <td>Kyshtym disaster</td>\n",
       "      <td>Storage/Handling</td>\n",
       "      <td>NaN</td>\n",
       "      <td>200.0</td>\n",
       "      <td>6.0</td>\n",
       "      <td>Soviet Union</td>\n",
       "      <td>NaN</td>\n",
       "    </tr>\n",
       "    <tr>\n",
       "      <th>1</th>\n",
       "      <td>10/10/1957</td>\n",
       "      <td>Windscale fire</td>\n",
       "      <td>Operational/Safety Measures</td>\n",
       "      <td>0.0</td>\n",
       "      <td>240.0</td>\n",
       "      <td>5.0</td>\n",
       "      <td>United Kingdom</td>\n",
       "      <td>5.0</td>\n",
       "    </tr>\n",
       "  </tbody>\n",
       "</table>\n",
       "</div>"
      ],
      "text/plain": [
       "         Date          Incident                     Category  \\\n",
       "0  29/09/1957  Kyshtym disaster             Storage/Handling   \n",
       "1  10/10/1957    Windscale fire  Operational/Safety Measures   \n",
       "\n",
       "   Numbers of Direct Deaths  Numbers of InDirect Deaths  INES\\nlevel  \\\n",
       "0                       NaN                       200.0          6.0   \n",
       "1                       0.0                       240.0          5.0   \n",
       "\n",
       "           country  severity  \n",
       "0     Soviet Union       NaN  \n",
       "1   United Kingdom       5.0  "
      ]
     },
     "execution_count": 105,
     "metadata": {},
     "output_type": "execute_result"
    }
   ],
   "source": [
    "nuclear_incidents.head(2)"
   ]
  },
  {
   "cell_type": "code",
   "execution_count": 57,
   "metadata": {},
   "outputs": [
    {
     "name": "stdout",
     "output_type": "stream",
     "text": [
      "<class 'pandas.core.series.Series'>\n",
      "RangeIndex: 28 entries, 0 to 27\n",
      "Series name: severity\n",
      "Non-Null Count  Dtype  \n",
      "--------------  -----  \n",
      "15 non-null     float64\n",
      "dtypes: float64(1)\n",
      "memory usage: 356.0 bytes\n"
     ]
    }
   ],
   "source": [
    "nuclear_incidents.severity.info()"
   ]
  },
  {
   "cell_type": "markdown",
   "metadata": {},
   "source": [
    "### Ejercicio 5:\n",
    "* Crear una nueva columna, que se denomine \"Total Deaths\", que guarde la sumatoria de las columnas 'Numbers of Direct Deaths' y 'Numbers of InDirect Deaths'. Informar el total de muertes para el incidente más grave (mayor 'Total Deaths')."
   ]
  },
  {
   "cell_type": "code",
   "execution_count": 65,
   "metadata": {},
   "outputs": [],
   "source": [
    "import numpy as np"
   ]
  },
  {
   "cell_type": "code",
   "execution_count": 106,
   "metadata": {},
   "outputs": [
    {
     "data": {
      "text/plain": [
       "0      200.0\n",
       "1      240.0\n",
       "2        NaN\n",
       "3        NaN\n",
       "4        NaN\n",
       "5        NaN\n",
       "6        NaN\n",
       "7        NaN\n",
       "8        NaN\n",
       "9        NaN\n",
       "10       NaN\n",
       "11    4000.0\n",
       "12       NaN\n",
       "13       NaN\n",
       "14       NaN\n",
       "15       NaN\n",
       "16       NaN\n",
       "17       NaN\n",
       "18       NaN\n",
       "19       NaN\n",
       "20       NaN\n",
       "21       NaN\n",
       "22       NaN\n",
       "23       NaN\n",
       "24       NaN\n",
       "25       NaN\n",
       "26       NaN\n",
       "27       NaN\n",
       "Name: Numbers of InDirect Deaths, dtype: float64"
      ]
     },
     "execution_count": 106,
     "metadata": {},
     "output_type": "execute_result"
    }
   ],
   "source": [
    "nuclear_incidents['Numbers of InDirect Deaths'].replace(\" \",np.nan) # este deberia haber sido el codigo"
   ]
  },
  {
   "cell_type": "code",
   "execution_count": 107,
   "metadata": {},
   "outputs": [
    {
     "name": "stdout",
     "output_type": "stream",
     "text": [
      "<class 'pandas.core.frame.DataFrame'>\n",
      "RangeIndex: 28 entries, 0 to 27\n",
      "Data columns (total 8 columns):\n",
      " #   Column                      Non-Null Count  Dtype  \n",
      "---  ------                      --------------  -----  \n",
      " 0   Date                        28 non-null     object \n",
      " 1   Incident                    28 non-null     object \n",
      " 2   Category                    28 non-null     object \n",
      " 3   Numbers of Direct Deaths    26 non-null     float64\n",
      " 4   Numbers of InDirect Deaths  3 non-null      float64\n",
      " 5   INES\n",
      "level                  16 non-null     float64\n",
      " 6   country                     28 non-null     object \n",
      " 7   severity                    15 non-null     float64\n",
      "dtypes: float64(4), object(4)\n",
      "memory usage: 1.9+ KB\n"
     ]
    }
   ],
   "source": [
    "nuclear_incidents.info()"
   ]
  },
  {
   "cell_type": "code",
   "execution_count": 108,
   "metadata": {},
   "outputs": [
    {
     "name": "stdout",
     "output_type": "stream",
     "text": [
      "<class 'pandas.core.series.Series'>\n",
      "RangeIndex: 28 entries, 0 to 27\n",
      "Series name: Numbers of InDirect Deaths\n",
      "Non-Null Count  Dtype  \n",
      "--------------  -----  \n",
      "3 non-null      float64\n",
      "dtypes: float64(1)\n",
      "memory usage: 356.0 bytes\n"
     ]
    }
   ],
   "source": [
    "nuclear_incidents['Numbers of InDirect Deaths'].replace(\"nan\",np.nan)\n",
    "nuclear_incidents['Numbers of InDirect Deaths'].info()"
   ]
  },
  {
   "cell_type": "code",
   "execution_count": 121,
   "metadata": {},
   "outputs": [
    {
     "data": {
      "text/html": [
       "<div>\n",
       "<style scoped>\n",
       "    .dataframe tbody tr th:only-of-type {\n",
       "        vertical-align: middle;\n",
       "    }\n",
       "\n",
       "    .dataframe tbody tr th {\n",
       "        vertical-align: top;\n",
       "    }\n",
       "\n",
       "    .dataframe thead th {\n",
       "        text-align: right;\n",
       "    }\n",
       "</style>\n",
       "<table border=\"1\" class=\"dataframe\">\n",
       "  <thead>\n",
       "    <tr style=\"text-align: right;\">\n",
       "      <th></th>\n",
       "      <th>Date</th>\n",
       "      <th>Incident</th>\n",
       "      <th>Category</th>\n",
       "      <th>Numbers of Direct Deaths</th>\n",
       "      <th>Numbers of InDirect Deaths</th>\n",
       "      <th>INES\\nlevel</th>\n",
       "      <th>country</th>\n",
       "      <th>severity</th>\n",
       "      <th>total_deaths</th>\n",
       "    </tr>\n",
       "  </thead>\n",
       "  <tbody>\n",
       "    <tr>\n",
       "      <th>0</th>\n",
       "      <td>29/09/1957</td>\n",
       "      <td>Kyshtym disaster</td>\n",
       "      <td>Storage/Handling</td>\n",
       "      <td>NaN</td>\n",
       "      <td>200.0</td>\n",
       "      <td>6.0</td>\n",
       "      <td>Soviet Union</td>\n",
       "      <td>NaN</td>\n",
       "      <td>NaN</td>\n",
       "    </tr>\n",
       "    <tr>\n",
       "      <th>1</th>\n",
       "      <td>10/10/1957</td>\n",
       "      <td>Windscale fire</td>\n",
       "      <td>Operational/Safety Measures</td>\n",
       "      <td>0.0</td>\n",
       "      <td>240.0</td>\n",
       "      <td>5.0</td>\n",
       "      <td>United Kingdom</td>\n",
       "      <td>5.0</td>\n",
       "      <td>240.0</td>\n",
       "    </tr>\n",
       "    <tr>\n",
       "      <th>11</th>\n",
       "      <td>26/04/1986</td>\n",
       "      <td>Chernobyl disaster</td>\n",
       "      <td>Design/Safety Procedures</td>\n",
       "      <td>28.0</td>\n",
       "      <td>4000.0</td>\n",
       "      <td>7.0</td>\n",
       "      <td>Soviet Union</td>\n",
       "      <td>35.0</td>\n",
       "      <td>4028.0</td>\n",
       "    </tr>\n",
       "  </tbody>\n",
       "</table>\n",
       "</div>"
      ],
      "text/plain": [
       "          Date            Incident                     Category  \\\n",
       "0   29/09/1957    Kyshtym disaster             Storage/Handling   \n",
       "1   10/10/1957      Windscale fire  Operational/Safety Measures   \n",
       "11  26/04/1986  Chernobyl disaster     Design/Safety Procedures   \n",
       "\n",
       "    Numbers of Direct Deaths  Numbers of InDirect Deaths  INES\\nlevel  \\\n",
       "0                        NaN                       200.0          6.0   \n",
       "1                        0.0                       240.0          5.0   \n",
       "11                      28.0                      4000.0          7.0   \n",
       "\n",
       "            country  severity  total_deaths  \n",
       "0      Soviet Union       NaN           NaN  \n",
       "1    United Kingdom       5.0         240.0  \n",
       "11     Soviet Union      35.0        4028.0  "
      ]
     },
     "execution_count": 121,
     "metadata": {},
     "output_type": "execute_result"
    }
   ],
   "source": [
    "nuclear_incidents[nuclear_incidents['Numbers of InDirect Deaths'] > 0]"
   ]
  },
  {
   "cell_type": "code",
   "execution_count": 127,
   "metadata": {},
   "outputs": [
    {
     "data": {
      "text/html": [
       "<div>\n",
       "<style scoped>\n",
       "    .dataframe tbody tr th:only-of-type {\n",
       "        vertical-align: middle;\n",
       "    }\n",
       "\n",
       "    .dataframe tbody tr th {\n",
       "        vertical-align: top;\n",
       "    }\n",
       "\n",
       "    .dataframe thead th {\n",
       "        text-align: right;\n",
       "    }\n",
       "</style>\n",
       "<table border=\"1\" class=\"dataframe\">\n",
       "  <thead>\n",
       "    <tr style=\"text-align: right;\">\n",
       "      <th></th>\n",
       "      <th>Numbers of Direct Deaths</th>\n",
       "      <th>Numbers of InDirect Deaths</th>\n",
       "    </tr>\n",
       "  </thead>\n",
       "  <tbody>\n",
       "    <tr>\n",
       "      <th>0</th>\n",
       "      <td>0.0</td>\n",
       "      <td>200.0</td>\n",
       "    </tr>\n",
       "    <tr>\n",
       "      <th>1</th>\n",
       "      <td>0.0</td>\n",
       "      <td>240.0</td>\n",
       "    </tr>\n",
       "    <tr>\n",
       "      <th>2</th>\n",
       "      <td>3.0</td>\n",
       "      <td>0.0</td>\n",
       "    </tr>\n",
       "  </tbody>\n",
       "</table>\n",
       "</div>"
      ],
      "text/plain": [
       "   Numbers of Direct Deaths  Numbers of InDirect Deaths\n",
       "0                       0.0                       200.0\n",
       "1                       0.0                       240.0\n",
       "2                       3.0                         0.0"
      ]
     },
     "execution_count": 127,
     "metadata": {},
     "output_type": "execute_result"
    }
   ],
   "source": [
    "nuclear_incidents_2 =pd.DataFrame(nuclear_incidents['Numbers of Direct Deaths'].fillna(0))\n",
    "nuclear_incidents_2 \n",
    "nuclear_incidents_2['Numbers of InDirect Deaths'] = nuclear_incidents['Numbers of InDirect Deaths'].fillna(0)\n",
    "nuclear_incidents_2.head(3)"
   ]
  },
  {
   "cell_type": "code",
   "execution_count": 128,
   "metadata": {},
   "outputs": [],
   "source": [
    "nuclear_incidents['Numbers of InDirect Deaths'] = nuclear_incidents['Numbers of InDirect Deaths'].fillna(0)\n",
    "nuclear_incidents['Numbers of Direct Deaths'] = nuclear_incidents['Numbers of Direct Deaths'].fillna(0)"
   ]
  },
  {
   "cell_type": "code",
   "execution_count": 129,
   "metadata": {},
   "outputs": [
    {
     "name": "stdout",
     "output_type": "stream",
     "text": [
      "<class 'pandas.core.series.Series'>\n",
      "RangeIndex: 28 entries, 0 to 27\n",
      "Series name: total_deaths\n",
      "Non-Null Count  Dtype  \n",
      "--------------  -----  \n",
      "28 non-null     float64\n",
      "dtypes: float64(1)\n",
      "memory usage: 356.0 bytes\n"
     ]
    }
   ],
   "source": [
    "nuclear_incidents['total_deaths'] = nuclear_incidents['Numbers of Direct Deaths']+ nuclear_incidents['Numbers of InDirect Deaths']\n",
    "nuclear_incidents['total_deaths'].info()"
   ]
  },
  {
   "cell_type": "code",
   "execution_count": 131,
   "metadata": {},
   "outputs": [
    {
     "data": {
      "text/html": [
       "<div>\n",
       "<style scoped>\n",
       "    .dataframe tbody tr th:only-of-type {\n",
       "        vertical-align: middle;\n",
       "    }\n",
       "\n",
       "    .dataframe tbody tr th {\n",
       "        vertical-align: top;\n",
       "    }\n",
       "\n",
       "    .dataframe thead th {\n",
       "        text-align: right;\n",
       "    }\n",
       "</style>\n",
       "<table border=\"1\" class=\"dataframe\">\n",
       "  <thead>\n",
       "    <tr style=\"text-align: right;\">\n",
       "      <th></th>\n",
       "      <th>Date</th>\n",
       "      <th>Incident</th>\n",
       "      <th>Category</th>\n",
       "      <th>Numbers of Direct Deaths</th>\n",
       "      <th>Numbers of InDirect Deaths</th>\n",
       "      <th>INES\\nlevel</th>\n",
       "      <th>country</th>\n",
       "      <th>severity</th>\n",
       "      <th>total_deaths</th>\n",
       "    </tr>\n",
       "  </thead>\n",
       "  <tbody>\n",
       "    <tr>\n",
       "      <th>0</th>\n",
       "      <td>29/09/1957</td>\n",
       "      <td>Kyshtym disaster</td>\n",
       "      <td>Storage/Handling</td>\n",
       "      <td>0.0</td>\n",
       "      <td>200.0</td>\n",
       "      <td>6.0</td>\n",
       "      <td>Soviet Union</td>\n",
       "      <td>NaN</td>\n",
       "      <td>200.0</td>\n",
       "    </tr>\n",
       "    <tr>\n",
       "      <th>1</th>\n",
       "      <td>10/10/1957</td>\n",
       "      <td>Windscale fire</td>\n",
       "      <td>Operational/Safety Measures</td>\n",
       "      <td>0.0</td>\n",
       "      <td>240.0</td>\n",
       "      <td>5.0</td>\n",
       "      <td>United Kingdom</td>\n",
       "      <td>5.0</td>\n",
       "      <td>240.0</td>\n",
       "    </tr>\n",
       "  </tbody>\n",
       "</table>\n",
       "</div>"
      ],
      "text/plain": [
       "         Date          Incident                     Category  \\\n",
       "0  29/09/1957  Kyshtym disaster             Storage/Handling   \n",
       "1  10/10/1957    Windscale fire  Operational/Safety Measures   \n",
       "\n",
       "   Numbers of Direct Deaths  Numbers of InDirect Deaths  INES\\nlevel  \\\n",
       "0                       0.0                       200.0          6.0   \n",
       "1                       0.0                       240.0          5.0   \n",
       "\n",
       "           country  severity  total_deaths  \n",
       "0     Soviet Union       NaN         200.0  \n",
       "1   United Kingdom       5.0         240.0  "
      ]
     },
     "execution_count": 131,
     "metadata": {},
     "output_type": "execute_result"
    }
   ],
   "source": [
    "nuclear_incidents.head(2)"
   ]
  },
  {
   "cell_type": "code",
   "execution_count": 138,
   "metadata": {},
   "outputs": [
    {
     "data": {
      "text/plain": [
       "11"
      ]
     },
     "execution_count": 138,
     "metadata": {},
     "output_type": "execute_result"
    }
   ],
   "source": [
    "nuclear_incidents['total_deaths'].idxmax()"
   ]
  },
  {
   "cell_type": "code",
   "execution_count": 139,
   "metadata": {},
   "outputs": [
    {
     "data": {
      "text/plain": [
       "Date                                        26/04/1986\n",
       "Incident                            Chernobyl disaster\n",
       "Category                      Design/Safety Procedures\n",
       "Numbers of Direct Deaths                          28.0\n",
       "Numbers of InDirect Deaths                      4000.0\n",
       "INES\\nlevel                                        7.0\n",
       "country                                   Soviet Union\n",
       "severity                                          35.0\n",
       "total_deaths                                    4028.0\n",
       "Name: 11, dtype: object"
      ]
     },
     "execution_count": 139,
     "metadata": {},
     "output_type": "execute_result"
    }
   ],
   "source": [
    "nuclear_incidents.loc[11]"
   ]
  },
  {
   "cell_type": "markdown",
   "metadata": {},
   "source": [
    "### Ejercicio 6:\n",
    "* Mostrar la cantidad de incidentes nucleares en cada categoría ('Category')."
   ]
  },
  {
   "cell_type": "code",
   "execution_count": null,
   "metadata": {},
   "outputs": [],
   "source": []
  },
  {
   "cell_type": "markdown",
   "metadata": {},
   "source": [
    "### Ejercicio 7:\n",
    "* Filtrar el DataFrame para mostrar solo los incidentes ocurridos en Estados Unidos ('Pais')."
   ]
  },
  {
   "cell_type": "code",
   "execution_count": null,
   "metadata": {},
   "outputs": [],
   "source": []
  },
  {
   "cell_type": "markdown",
   "metadata": {},
   "source": [
    "### Ejercicio 8:\n",
    "* Calcular la cantidad total de muertes directas por incidente nuclear para cada año."
   ]
  },
  {
   "cell_type": "code",
   "execution_count": null,
   "metadata": {},
   "outputs": [],
   "source": []
  },
  {
   "cell_type": "markdown",
   "metadata": {},
   "source": [
    "### Ejercicio 9:\n",
    "* Mostrar la cantidad de incidentes nucleares en cada país en los que el nivel INES es mayor a 5."
   ]
  },
  {
   "cell_type": "code",
   "execution_count": null,
   "metadata": {},
   "outputs": [],
   "source": []
  },
  {
   "cell_type": "markdown",
   "metadata": {},
   "source": [
    "### Ejercicio 10:\n",
    "* Calcular la cantidad de muertes directas totales de Estados Unidos."
   ]
  },
  {
   "cell_type": "code",
   "execution_count": null,
   "metadata": {},
   "outputs": [],
   "source": []
  }
 ],
 "metadata": {
  "kernelspec": {
   "display_name": "Python 3",
   "language": "python",
   "name": "python3"
  },
  "language_info": {
   "codemirror_mode": {
    "name": "ipython",
    "version": 3
   },
   "file_extension": ".py",
   "mimetype": "text/x-python",
   "name": "python",
   "nbconvert_exporter": "python",
   "pygments_lexer": "ipython3",
   "version": "3.11.5"
  }
 },
 "nbformat": 4,
 "nbformat_minor": 2
}

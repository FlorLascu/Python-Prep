{
 "cells": [
  {
   "cell_type": "markdown",
   "metadata": {},
   "source": [
    "# Git Hub<br>\n",
    "## CREAMOS EL REPOSITORIO\n",
    "### lo hacemos a prueba de balas<br>\n",
    "\n",
    "* vamos a GIT HUB y seleccionamos bajarlo como carpeta ZIP o elegimos la URL<br>\n",
    "\n",
    "    * si bajamos el ZIP lo vamos a guardar en una carpeta en una carpeta nueva en la raiz del C o usuarios de nuestra pc.<br>\n",
    "    \n",
    "    * lo copiamos y lo pegamos en esa carpeta<br>\n",
    "    \n",
    "    * parados sobre la carpeta le pedimos que la abran con visual studio code<br>\n",
    "    \n",
    "    * Y se va a abrir la carpeta dentro de Visual<br>\n",
    "    \n",
    "\n",
    "    * si elegimos la URL. Vamos a VS, elegimos abrir una nueva ventana. <br>\n",
    "    \n",
    "    * En la nueva ventana vamos al buscador y al tocarlo va a aparecer la opcion de clonar repositorio.<br>\n",
    "        * sino deberia aparecer esta opcion en la pantalla principal<br>\n",
    "        * tambien en la ventana del explorador <br>\n",
    "        * sino tambien en el boton de la izquierda que es un fork<br>\n",
    "    * Elegimos clonar y pegamos la url.<br>\n",
    "\n",
    "    * lo siguiente que va a aparecer es la opcion de elegir el destino dentro de nuestra pc dondes se va a crear el repositorio.<br>\n",
    "    * Seleccionamos el destino.<br>\n",
    "    Y asi se crea el repositorio. <br>"
   ]
  },
  {
   "cell_type": "markdown",
   "metadata": {},
   "source": [
    "# AHORA VAMOS A SUBIRLO A GITHUB<br>\n",
    "* Como nunca creamos el fork (bifurcacion) en GIT HUB cuando lo queramos subir deberia darnos un error.<br>\n",
    "* Porque para subir y que este vinculado con el repositorio original debe estar forkeado de ese repositorio y ser una \"copia\" (contribucion) en nuestro\n",
    "GIT HUB.<br>\n",
    "* Cuando lo hacemos por primera vez, nos va a indicar que la bifurcacion, el fork no esta hecho y va a pedir permiso para crearlo.<br>\n",
    "* le damos OK, y luego lo FORKEA a nuestro repositorio solo. ==> En nuestro GIT HUB deberia aparecer creada la carpeta, como si lo hubiesemos forkeado.<br>\n",
    "* luego nos pedira un mensaje para realizar el primer commit.<br>\n",
    "* creamos el primer mensaje y le damos a la tilde que aparece arriba en el explorador o arriba a la derecha del VS.<br>\n",
    "* Y por ultimo hacemos la sincronizacion. con esto ya subieron nuestros cambios a nuestro GIT HUB.<br>"
   ]
  }
 ],
 "metadata": {
  "language_info": {
   "name": "python"
  }
 },
 "nbformat": 4,
 "nbformat_minor": 2
}

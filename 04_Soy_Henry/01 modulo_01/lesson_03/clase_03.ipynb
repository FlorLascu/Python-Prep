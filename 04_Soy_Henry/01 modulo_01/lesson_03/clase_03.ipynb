{
 "cells": [
  {
   "cell_type": "code",
   "execution_count": 1,
   "metadata": {},
   "outputs": [],
   "source": [
    "import numpy as np"
   ]
  },
  {
   "cell_type": "code",
   "execution_count": null,
   "metadata": {},
   "outputs": [],
   "source": [
    "numeros = [2,5,7,9]\n",
    "a = np.array(numeros)\n",
    "a[1] = 6\n",
    "a"
   ]
  },
  {
   "cell_type": "code",
   "execution_count": 14,
   "metadata": {},
   "outputs": [
    {
     "name": "stdout",
     "output_type": "stream",
     "text": [
      "<class 'numpy.ndarray'>\n",
      "<class 'numpy.str_'>\n"
     ]
    },
    {
     "data": {
      "text/plain": [
       "array(['2', '6', '7', '9', 'Hello'], dtype='<U11')"
      ]
     },
     "execution_count": 14,
     "metadata": {},
     "output_type": "execute_result"
    }
   ],
   "source": [
    "numeros = [2,5,7,9, 'Hello'] # Numpy solo maneja un unico tipo de dato dtype (dinamic type)\n",
    "a = np.array(numeros) # al mezclarlos los convierte a todos al mismo\n",
    "a[1] = 6\n",
    "print(type(a))\n",
    "print(type(a[0]))\n",
    "a"
   ]
  },
  {
   "cell_type": "code",
   "execution_count": 15,
   "metadata": {},
   "outputs": [
    {
     "name": "stdout",
     "output_type": "stream",
     "text": [
      "<class 'numpy.ndarray'>\n",
      "<class 'numpy.float64'>\n"
     ]
    },
    {
     "data": {
      "text/plain": [
       "array([2. , 6. , 7. , 9. , 1.5])"
      ]
     },
     "execution_count": 15,
     "metadata": {},
     "output_type": "execute_result"
    }
   ],
   "source": [
    "numeros = [2,5,7,9, 1.5] # Numpy solo maneja un unico tipo de dato dtype (dinamic type)\n",
    "a = np.array(numeros) # al mezclarlos los convierte a todos al mismo => todos float\n",
    "a[1] = 6\n",
    "print(type(a))\n",
    "print(type(a[0]))\n",
    "a"
   ]
  },
  {
   "cell_type": "code",
   "execution_count": 16,
   "metadata": {},
   "outputs": [
    {
     "data": {
      "text/plain": [
       "array([2. , 6. , 7. , 9. , 1.5])"
      ]
     },
     "execution_count": 16,
     "metadata": {},
     "output_type": "execute_result"
    }
   ],
   "source": [
    "a"
   ]
  },
  {
   "cell_type": "code",
   "execution_count": 17,
   "metadata": {},
   "outputs": [
    {
     "name": "stdout",
     "output_type": "stream",
     "text": [
      "[[5 3 3 0]\n",
      " [2 2 4 0]\n",
      " [3 2 4 2]\n",
      " [0 5 5 6]]\n"
     ]
    }
   ],
   "source": [
    "azar_enteros = np.random.randint(7,size=(4,4))\n",
    "print(azar_enteros)"
   ]
  },
  {
   "cell_type": "code",
   "execution_count": 18,
   "metadata": {},
   "outputs": [
    {
     "name": "stdout",
     "output_type": "stream",
     "text": [
      "[[False False False False]\n",
      " [False False  True False]\n",
      " [False False  True False]\n",
      " [False False False  True]]\n",
      "[4 4 6]\n"
     ]
    }
   ],
   "source": [
    "# mascara\n",
    "mascara = (azar_enteros % 2 ==0) & (azar_enteros > 2)\n",
    "print(mascara)\n",
    "print(azar_enteros[mascara])"
   ]
  },
  {
   "cell_type": "code",
   "execution_count": 13,
   "metadata": {},
   "outputs": [
    {
     "name": "stdout",
     "output_type": "stream",
     "text": [
      "[3, 4, 8, 9]\n",
      "[3 4 8 9]\n",
      "[4, 8, 9]\n",
      "[4 8 9]\n",
      "4\n",
      "4\n"
     ]
    }
   ],
   "source": [
    "# se pueden hacer en listas y arreglos\n",
    "\n",
    "numeros = [3,4,8,9]\n",
    "numeros_array = np.array(numeros)\n",
    "print(numeros)\n",
    "print(numeros_array)\n",
    "#slice\n",
    "print(numeros[1:])\n",
    "print(numeros_array[1:])\n",
    "print(len(numeros))\n",
    "print(len(numeros_array))"
   ]
  },
  {
   "cell_type": "code",
   "execution_count": 22,
   "metadata": {},
   "outputs": [
    {
     "name": "stdout",
     "output_type": "stream",
     "text": [
      "[0, 1, 2, 3, 4, 5, 6, 7]\n",
      "[0 1 2 3 4 5 6 7]\n"
     ]
    }
   ],
   "source": [
    "numeros_lista = list(range(8))\n",
    "print(numeros_lista)\n",
    "np_numeros_listas = np.arange(8)\n",
    "print(np_numeros_listas)"
   ]
  },
  {
   "cell_type": "code",
   "execution_count": 23,
   "metadata": {},
   "outputs": [
    {
     "data": {
      "text/plain": [
       "[0, 2, 4, 6]"
      ]
     },
     "execution_count": 23,
     "metadata": {},
     "output_type": "execute_result"
    }
   ],
   "source": [
    "pares = [num for num in numeros_lista if num % 2 ==0]\n",
    "pares"
   ]
  },
  {
   "cell_type": "code",
   "execution_count": 24,
   "metadata": {},
   "outputs": [
    {
     "data": {
      "text/plain": [
       "28"
      ]
     },
     "execution_count": 24,
     "metadata": {},
     "output_type": "execute_result"
    }
   ],
   "source": [
    "np.sum(np_numeros_listas)"
   ]
  },
  {
   "cell_type": "code",
   "execution_count": 26,
   "metadata": {},
   "outputs": [
    {
     "data": {
      "text/plain": [
       "28"
      ]
     },
     "execution_count": 26,
     "metadata": {},
     "output_type": "execute_result"
    }
   ],
   "source": [
    "sum(numeros_lista)"
   ]
  },
  {
   "cell_type": "markdown",
   "metadata": {},
   "source": [
    "cosas que podemos hacer con una lista pero no con Numpy"
   ]
  },
  {
   "cell_type": "code",
   "execution_count": 5,
   "metadata": {},
   "outputs": [
    {
     "name": "stdout",
     "output_type": "stream",
     "text": [
      "[9, 2, 6, 9.7, 'Hola Mundo!']\n"
     ]
    }
   ],
   "source": [
    "lista_variada = [9,2,6,9.7, \"Hola Mundo!\"] # una lista con elementos de varios tipos de datos diferentes\n",
    "print(lista_variada)"
   ]
  },
  {
   "cell_type": "code",
   "execution_count": 6,
   "metadata": {},
   "outputs": [
    {
     "name": "stdout",
     "output_type": "stream",
     "text": [
      "[9, 2, 6, 9.7, 'Hola Mundo!', 8]\n"
     ]
    }
   ],
   "source": [
    "lista_variada.append(8)\n",
    "print(lista_variada)"
   ]
  }
 ],
 "metadata": {
  "kernelspec": {
   "display_name": "Python 3",
   "language": "python",
   "name": "python3"
  },
  "language_info": {
   "codemirror_mode": {
    "name": "ipython",
    "version": 3
   },
   "file_extension": ".py",
   "mimetype": "text/x-python",
   "name": "python",
   "nbconvert_exporter": "python",
   "pygments_lexer": "ipython3",
   "version": "3.11.5"
  }
 },
 "nbformat": 4,
 "nbformat_minor": 2
}

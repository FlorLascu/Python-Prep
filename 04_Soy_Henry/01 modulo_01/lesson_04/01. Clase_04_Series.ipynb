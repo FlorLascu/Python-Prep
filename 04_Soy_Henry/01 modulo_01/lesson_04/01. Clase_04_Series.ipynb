{
 "cells": [
  {
   "cell_type": "markdown",
   "metadata": {},
   "source": [
    "Panda Series"
   ]
  },
  {
   "cell_type": "code",
   "execution_count": 2,
   "metadata": {},
   "outputs": [],
   "source": [
    "import pandas as pd"
   ]
  },
  {
   "cell_type": "code",
   "execution_count": 18,
   "metadata": {},
   "outputs": [
    {
     "data": {
      "text/plain": [
       "0    2.0\n",
       "1    3.0\n",
       "2    4.0\n",
       "3    5.0\n",
       "4    6.0\n",
       "5    NaN\n",
       "dtype: float64"
      ]
     },
     "execution_count": 18,
     "metadata": {},
     "output_type": "execute_result"
    }
   ],
   "source": [
    "# creacion de una serie a partir de una lista\n",
    "numeros = pd.Series([2,3,4,5,6,None])\n",
    "numeros"
   ]
  },
  {
   "cell_type": "code",
   "execution_count": 4,
   "metadata": {},
   "outputs": [
    {
     "data": {
      "text/plain": [
       "RangeIndex(start=0, stop=6, step=1)"
      ]
     },
     "execution_count": 4,
     "metadata": {},
     "output_type": "execute_result"
    }
   ],
   "source": [
    "numeros.index"
   ]
  },
  {
   "cell_type": "code",
   "execution_count": 5,
   "metadata": {},
   "outputs": [
    {
     "data": {
      "text/plain": [
       "0    2.0\n",
       "1    3.0\n",
       "2    4.0\n",
       "3    5.0\n",
       "4    6.0\n",
       "5    NaN\n",
       "dtype: float64"
      ]
     },
     "execution_count": 5,
     "metadata": {},
     "output_type": "execute_result"
    }
   ],
   "source": [
    "numeros # por default el tipo de datos es float 64"
   ]
  },
  {
   "cell_type": "code",
   "execution_count": 20,
   "metadata": {},
   "outputs": [
    {
     "data": {
      "text/plain": [
       "juan       6\n",
       "alessia    7\n",
       "jimena     9\n",
       "dtype: int64"
      ]
     },
     "execution_count": 20,
     "metadata": {},
     "output_type": "execute_result"
    }
   ],
   "source": [
    "notas = pd.Series(dict({'juan':6,'alessia':7,'jimena':9}))\n",
    "notas"
   ]
  },
  {
   "cell_type": "code",
   "execution_count": 26,
   "metadata": {},
   "outputs": [
    {
     "data": {
      "text/plain": [
       "22"
      ]
     },
     "execution_count": 26,
     "metadata": {},
     "output_type": "execute_result"
    }
   ],
   "source": [
    "# atributos de la serie\n",
    "\n",
    "notas.index # muestra los indices del Diccionario o los numeros indices de la serie \n",
    "# Index(['juan', 'alessia', 'jimena'], dtype='object')\n",
    "\n",
    "notas.size      # longitud del array\n",
    "notas.dtype     # muestra que tipos de datos son los elementos del array\n",
    "notas.count()   # cuenta la cantidad de elementos del array\n",
    "notas.sum()     # suma los elementos del array"
   ]
  },
  {
   "cell_type": "code",
   "execution_count": 30,
   "metadata": {},
   "outputs": [
    {
     "data": {
      "text/plain": [
       "3.0"
      ]
     },
     "execution_count": 30,
     "metadata": {},
     "output_type": "execute_result"
    }
   ],
   "source": [
    "# Acceder a las posiciones del array por su indice \n",
    "\n",
    "numeros[1] # => devuelve el item en la posicion [1] que es 3.0\n",
    "\n",
    "# Acceder a las posiciones del array por su posicion \n",
    "\n",
    "notas['juan']   # => devuelve las notas del key = juan que es 6\n",
    "\n",
    "numeros[1]"
   ]
  },
  {
   "cell_type": "code",
   "execution_count": 37,
   "metadata": {},
   "outputs": [
    {
     "data": {
      "text/plain": [
       "count    5.000000\n",
       "mean     4.000000\n",
       "std      1.581139\n",
       "min      2.000000\n",
       "25%      3.000000\n",
       "50%      4.000000\n",
       "75%      5.000000\n",
       "max      6.000000\n",
       "dtype: float64"
      ]
     },
     "execution_count": 37,
     "metadata": {},
     "output_type": "execute_result"
    }
   ],
   "source": [
    "numeros.sum()   # Devuelve la suma de los datos de la serie s cuando los datos son de un tipo numérico, o la concatenación de ellos cuando son del tipo cadena str. => 20\n",
    "numeros.count() # Devuelve el número de elementos que no son nulos ni NaN en la serie => 5\n",
    "numeros.cumsum()    #Devuelve la  suma acumulada de los elementos de la serie => \n",
    "numeros.value_counts() # Devuelve una serie con la frecuencia (número de repeticiones) de cada valor de la serie s.\n",
    "numeros.describe() # resumen con la informacion de la serie de datos"
   ]
  },
  {
   "cell_type": "code",
   "execution_count": 40,
   "metadata": {},
   "outputs": [
    {
     "data": {
      "text/plain": [
       "0     5\n",
       "1    10\n",
       "2    15\n",
       "3    20\n",
       "dtype: int64"
      ]
     },
     "execution_count": 40,
     "metadata": {},
     "output_type": "execute_result"
    }
   ],
   "source": [
    "# aplicar operaciones a una serie\n",
    "\n",
    "s  = pd.Series([1, 2, 3, 4])\n",
    "s % 2 \n",
    "s * 5"
   ]
  },
  {
   "cell_type": "code",
   "execution_count": 8,
   "metadata": {},
   "outputs": [
    {
     "data": {
      "text/plain": [
       "0     5.0\n",
       "1     7.0\n",
       "2     9.0\n",
       "3    11.0\n",
       "4    13.0\n",
       "5     NaN\n",
       "dtype: float64"
      ]
     },
     "execution_count": 8,
     "metadata": {},
     "output_type": "execute_result"
    }
   ],
   "source": [
    "# Aplicar funciones a una serie\n",
    "numeros.apply(lambda x:x *2+1)      # Devuelve otra serie con la funcion aplicada a cada uno de los elementos de la serie"
   ]
  },
  {
   "cell_type": "code",
   "execution_count": 9,
   "metadata": {},
   "outputs": [
    {
     "data": {
      "text/plain": [
       "0     5.0\n",
       "1     7.0\n",
       "2     9.0\n",
       "3    11.0\n",
       "4    13.0\n",
       "5     NaN\n",
       "dtype: float64"
      ]
     },
     "execution_count": 9,
     "metadata": {},
     "output_type": "execute_result"
    }
   ],
   "source": [
    "## Aplicar funciones a una serie\n",
    "funcion = lambda x:x * 2 + 1\n",
    "numeros.apply(funcion)"
   ]
  },
  {
   "cell_type": "code",
   "execution_count": 42,
   "metadata": {},
   "outputs": [
    {
     "data": {
      "text/plain": [
       "1    3.0\n",
       "4    6.0\n",
       "dtype: float64"
      ]
     },
     "execution_count": 42,
     "metadata": {},
     "output_type": "execute_result"
    }
   ],
   "source": [
    "#aplico una mascara/filtro\n",
    "numeros[numeros >3]\n",
    "\n",
    "# aplico dos o mas condiciones: las condiciones deben estar entre () y unidas por un operador logico & or \n",
    "numeros[(numeros % 3 == 0) & (numeros > 2)]"
   ]
  },
  {
   "cell_type": "code",
   "execution_count": 47,
   "metadata": {},
   "outputs": [
    {
     "name": "stdout",
     "output_type": "stream",
     "text": [
      "5    NaN\n",
      "4    6.0\n",
      "3    5.0\n",
      "2    4.0\n",
      "1    3.0\n",
      "0    2.0\n",
      "dtype: float64\n"
     ]
    },
    {
     "data": {
      "text/plain": [
       "4    6.0\n",
       "3    5.0\n",
       "2    4.0\n",
       "1    3.0\n",
       "0    2.0\n",
       "5    NaN\n",
       "dtype: float64"
      ]
     },
     "execution_count": 47,
     "metadata": {},
     "output_type": "execute_result"
    }
   ],
   "source": [
    "# Ordenar una serie\n",
    "\n",
    "# Ordena por el indice no por el valor del elemento \n",
    "# sort index(ascending=Booleano) => True \"orden ascendente\"  => False : Orden descendente    \n",
    "\n",
    "print(numeros.sort_index(ascending=False))\n",
    "print(notas.sort_index(ascending=False))\n",
    "\n",
    "# Ordena los elementos de la serie segun su valor, True => Ascendente  - False => Descendente\n",
    "# sort values(ascending=Booleano)\n",
    "numeros.sort_values(ascending=False)\n"
   ]
  },
  {
   "cell_type": "code",
   "execution_count": 63,
   "metadata": {},
   "outputs": [
    {
     "name": "stdout",
     "output_type": "stream",
     "text": [
      "asi se ordena por indice \n",
      " \n",
      "alessia    7\n",
      "jimena     9\n",
      "juan       6\n",
      "dtype: int64\n",
      "\n",
      "\n",
      "asi se ordena por valor del elemento \n",
      " \n",
      "jimena     9\n",
      "alessia    7\n",
      "juan       6\n",
      "dtype: int64\n"
     ]
    }
   ],
   "source": [
    "print(\"asi se ordena por indice \"+ \"\\n\" + f' \\n{notas.sort_index(ascending=True)}')\n",
    "print(\"\\n\")\n",
    "print(\"asi se ordena por valor del elemento \"+ \"\\n\"+ f' \\n{notas.sort_values(ascending=False)}')"
   ]
  },
  {
   "cell_type": "code",
   "execution_count": 64,
   "metadata": {},
   "outputs": [
    {
     "name": "stdout",
     "output_type": "stream",
     "text": [
      "0    10.0\n",
      "1     1.0\n",
      "2     2.0\n",
      "3     5.0\n",
      "4    17.0\n",
      "5     NaN\n",
      "6    23.0\n",
      "7    24.0\n",
      "dtype: float64\n"
     ]
    }
   ],
   "source": [
    "num = pd.Series([10,1,2,5,17,None,23,24])\n",
    "print(num)"
   ]
  },
  {
   "cell_type": "code",
   "execution_count": 17,
   "metadata": {},
   "outputs": [
    {
     "data": {
      "text/plain": [
       "0    10.0\n",
       "1     1.0\n",
       "2     2.0\n",
       "3     5.0\n",
       "4    17.0\n",
       "6    23.0\n",
       "7    24.0\n",
       "dtype: float64"
      ]
     },
     "execution_count": 17,
     "metadata": {},
     "output_type": "execute_result"
    }
   ],
   "source": [
    "#dropnan - elimina los datos nulos o desconocidos de una serie\n",
    "num.dropna() # elimina el elemento 5 de la original pero 5 queda trunco"
   ]
  },
  {
   "cell_type": "code",
   "execution_count": null,
   "metadata": {},
   "outputs": [],
   "source": [
    "    "
   ]
  }
 ],
 "metadata": {
  "kernelspec": {
   "display_name": "Python 3",
   "language": "python",
   "name": "python3"
  },
  "language_info": {
   "codemirror_mode": {
    "name": "ipython",
    "version": 3
   },
   "file_extension": ".py",
   "mimetype": "text/x-python",
   "name": "python",
   "nbconvert_exporter": "python",
   "pygments_lexer": "ipython3",
   "version": "3.11.5"
  }
 },
 "nbformat": 4,
 "nbformat_minor": 2
}

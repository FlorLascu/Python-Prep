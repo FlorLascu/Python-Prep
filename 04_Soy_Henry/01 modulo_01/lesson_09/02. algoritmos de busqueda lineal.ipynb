{
 "cells": [
  {
   "cell_type": "markdown",
   "metadata": {},
   "source": [
    "# Algoritmo de busqueda lineal<br>\n",
    "\n",
    "* Es el mas sencillo de los algoritmos de busqueda<br>\n",
    "* Son utilizados para encontrar valores especificos en un arregelo de datos <br>\n",
    "\n",
    "* Consiste en: <br>\n",
    "Se recorre todo el conjunto, examinando cada elemento hasta encontrar el elemento buscado o recorrer todo el conjunto y responder que el elemento no existe en el conjunto\n",
    "\n",
    "* En el peor de los casos, recorre todos los elementos hasta encontrarlo en el ultimo o que no exista <br>\n",
    "* En el mejor de los casos, recorre menos elementos entre 0 y N <br>\n",
    "    por eso  es de  => O(N)\n",
    "\n",
    "    ** Ventaja es que no deja ningun elemento sin consultar<br>\n",
    "    ** Si el elemento es muy grande, se vuelve lento<br>\n",
    "    ** fuerza bruta\n"
   ]
  },
  {
   "cell_type": "code",
   "execution_count": 3,
   "metadata": {},
   "outputs": [],
   "source": [
    "def ListaDesordenada(desorden, cantidad): \n",
    "    '''\n",
    "    Esta función devuelve una lista\n",
    "    desorden = es un porcentaje de desordenamiento\n",
    "    cantidad = cantidad de elementos de la lista\n",
    "    '''\n",
    "    import random as r\n",
    "    import numpy as np\n",
    "\n",
    "    lista = list(range(0, cantidad))\n",
    "\n",
    "    desorden = int(cantidad * desorden / 100)\n",
    "\n",
    "    while (desorden > 0):\n",
    "        i = r.randint(0,cantidad-1)\n",
    "        j = r.randint(0,cantidad-1)\n",
    "        aux = lista[i]\n",
    "        lista[i] = lista[j]\n",
    "        lista[j] = aux\n",
    "        desorden-=1\n",
    "\n",
    "    return lista"
   ]
  },
  {
   "cell_type": "code",
   "execution_count": 4,
   "metadata": {},
   "outputs": [],
   "source": [
    "import time"
   ]
  },
  {
   "cell_type": "code",
   "execution_count": 1,
   "metadata": {},
   "outputs": [],
   "source": [
    "def busqueda_secuencial(lista,elemento):\n",
    "    for item in lista:\n",
    "        if item == elemento:\n",
    "            return True\n",
    "        else: return False\n"
   ]
  },
  {
   "cell_type": "code",
   "execution_count": 5,
   "metadata": {},
   "outputs": [
    {
     "name": "stdout",
     "output_type": "stream",
     "text": [
      "Llevo 0.0 segundos en total.\n"
     ]
    }
   ],
   "source": [
    "start_time_total = time.time()\n",
    "total_time_total = time.time() - start_time_total\n",
    "print(\"Llevo {} segundos en total.\".format(total_time_total))"
   ]
  },
  {
   "cell_type": "code",
   "execution_count": 6,
   "metadata": {},
   "outputs": [],
   "source": [
    "N = 50000"
   ]
  },
  {
   "cell_type": "code",
   "execution_count": 7,
   "metadata": {},
   "outputs": [],
   "source": [
    "lis1 = ListaDesordenada(100, N)\n",
    "lis2 = lis1.copy()\n",
    "lis3 = lis1.copy()"
   ]
  },
  {
   "cell_type": "code",
   "execution_count": 9,
   "metadata": {},
   "outputs": [
    {
     "name": "stdout",
     "output_type": "stream",
     "text": [
      "Llevo 0.0010001659393310547 segundos en total.\n"
     ]
    }
   ],
   "source": [
    "# Con N de 50.000 elementos\n",
    "start_time_total = time.time()\n",
    "lis1 = busqueda_secuencial(lis1,50)\n",
    "total_time_total = time.time() - start_time_total\n",
    "print(\"Llevo {} segundos en total.\".format(total_time_total))"
   ]
  }
 ],
 "metadata": {
  "kernelspec": {
   "display_name": "Python 3",
   "language": "python",
   "name": "python3"
  },
  "language_info": {
   "codemirror_mode": {
    "name": "ipython",
    "version": 3
   },
   "file_extension": ".py",
   "mimetype": "text/x-python",
   "name": "python",
   "nbconvert_exporter": "python",
   "pygments_lexer": "ipython3",
   "version": "3.11.5"
  }
 },
 "nbformat": 4,
 "nbformat_minor": 2
}

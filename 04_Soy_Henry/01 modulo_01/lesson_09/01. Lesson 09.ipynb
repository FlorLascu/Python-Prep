{
 "cells": [
  {
   "cell_type": "code",
   "execution_count": 4,
   "metadata": {},
   "outputs": [],
   "source": [
    "def ListaDesordenada(desorden, cantidad): \n",
    "    '''\n",
    "    Esta función devuelve una lista\n",
    "    desorden = es un porcentaje de desordenamiento\n",
    "    cantidad = cantidad de elementos de la lista\n",
    "    '''\n",
    "    import random as r\n",
    "    import numpy as np\n",
    "\n",
    "    lista = list(range(0, cantidad))\n",
    "\n",
    "    desorden = int(cantidad * desorden / 100)\n",
    "\n",
    "    while (desorden > 0):\n",
    "        i = r.randint(0,cantidad-1)\n",
    "        j = r.randint(0,cantidad-1)\n",
    "        aux = lista[i]\n",
    "        lista[i] = lista[j]\n",
    "        lista[j] = aux\n",
    "        desorden-=1\n",
    "\n",
    "    return lista"
   ]
  },
  {
   "cell_type": "markdown",
   "metadata": {},
   "source": [
    "# Quicksort\n",
    "1. Elige el pivot <br>\n",
    "2. Divide en menores y mayores <br>\n",
    "3. Volver a elegir pivote en cada una de las particiones <br>\n",
    "4. Usa recursividad sobre cada particion y sub particion. <br> \n",
    "* Si utilizaramos un metodo para definir el pivot de manera mas optima, seria aun mas rapido y  O(logN) es decir que al crecer la lista, no crece tan rapido el algoritmo sino que mas bien tiende al limite del logN.<br>"
   ]
  },
  {
   "cell_type": "code",
   "execution_count": 7,
   "metadata": {},
   "outputs": [],
   "source": [
    "# algoritmo Quick sort\n",
    "\n",
    "def quick_sort(lista):\n",
    "    if len(lista) < 1:\n",
    "        return lista\n",
    "    \n",
    "    pivot = lista[len(lista)//2] # elegimos el elemento del centro\n",
    "    izq = [x for x in lista if x < pivot] # los menores van a la izq del pivot\n",
    "    der = [x for x in lista if x > pivot] # los mayores van a la der del pivot\n",
    "    mid = [ x for x in lista if x == pivot]\n",
    "      \n",
    "    return quick_sort(izq) + quick_sort(der) # ahora aplicamos la recursividad"
   ]
  },
  {
   "cell_type": "code",
   "execution_count": 1,
   "metadata": {},
   "outputs": [],
   "source": [
    "import time"
   ]
  },
  {
   "cell_type": "code",
   "execution_count": 2,
   "metadata": {},
   "outputs": [
    {
     "name": "stdout",
     "output_type": "stream",
     "text": [
      "Llevo 0.00099945068359375 segundos en total.\n"
     ]
    }
   ],
   "source": [
    "start_time_total = time.time()\n",
    "total_time_total = time.time() - start_time_total\n",
    "print(\"Llevo {} segundos en total.\".format(total_time_total))"
   ]
  },
  {
   "cell_type": "code",
   "execution_count": 20,
   "metadata": {},
   "outputs": [],
   "source": [
    "N = 50000"
   ]
  },
  {
   "cell_type": "code",
   "execution_count": 21,
   "metadata": {},
   "outputs": [],
   "source": [
    "lis1 = ListaDesordenada(100, N)\n",
    "lis2 = lis1.copy()\n",
    "lis3 = lis1.copy()"
   ]
  },
  {
   "cell_type": "code",
   "execution_count": 22,
   "metadata": {},
   "outputs": [
    {
     "name": "stdout",
     "output_type": "stream",
     "text": [
      "Llevo 0.334796667098999 segundos en total.\n"
     ]
    }
   ],
   "source": [
    "# Con N de 50.000 elementos\n",
    "start_time_total = time.time()\n",
    "lis1 = quick_sort(lis1)\n",
    "total_time_total = time.time() - start_time_total\n",
    "print(\"Llevo {} segundos en total.\".format(total_time_total))"
   ]
  },
  {
   "cell_type": "markdown",
   "metadata": {},
   "source": [
    "# MergeSort<br>\n",
    "1. Divide el conjunto en dos grupos iguales <br>\n",
    "2. Aplico el mismo algoritmo a ambas mitades => recursividad . para dividir cada nueva parte en dos sub partes a su vez <br>\n",
    "3 . Y esto se repite hasta que la longitud de las particiones es 1, un elemento en todas las \"ramas\"<br>\n",
    "4. Combina. va comparando cada sub arreglo con el otro, ordenandolos.\n",
    "5. A medida que avanza en inversa, va uniendo (combinando) las particiones ya ordenadas. <br>\n",
    "6. Y al terminar obtenemos un arreglo ordenado <br>\n",
    "https://www.youtube.com/watch?v=ACFZn_xQcz8<br>"
   ]
  },
  {
   "cell_type": "code",
   "execution_count": 18,
   "metadata": {},
   "outputs": [],
   "source": [
    "def mergeSort(lista):     # O(n*logN) por que es recursivo sobre todos los elementos\n",
    "    if len(lista) == 1:     # si el arreglo tiene len == 1 entonces termino\n",
    "        return lista  \n",
    "    \n",
    "    if len(lista) > 1:       # realiza la recusividad hasta que la lista sea un elemento\n",
    "        mid = len(lista) // 2       # divide la lista en dos mitades\n",
    "        left_hand = lista[:mid]     # mitad izq\n",
    "        right_hand = lista[mid:]    # mitad der\n",
    "        \n",
    "        sorted_left_array = mergeSort(left_hand)        # aplico la recursividad hasta que la lista sea 1 elemento\n",
    "        sorted_right_array = mergeSort(right_hand)       # aplico la recursividad hasta que la lista sea 1 elemento\n",
    "        \n",
    "    return merge(sorted_left_array,sorted_right_array)  # abstraerlo en otra funcion para ordenarlos y luego combinarlos\n",
    "\n",
    "def merge(left_arr,right_arr): # esta parte del algoritmo es lineal O(n) donde n es la cantidad de elementos\n",
    "    arr_result = [] # nuevo arreglo donde se iran sumando los elementos de forma ordenada\n",
    "                    # voy a ir comparando los elementos de los sub arreglos y ordenandolos entre si\n",
    "    while len(left_arr) > 0 and len(right_arr) > 0: # mientras haya  elementos en los sub arreglos continuo ordeenando \n",
    "        if left_arr[0] > right_arr[0]:    # Si el elemento es mayor va a la derecha \n",
    "            arr_result.append(right_arr[0])         #se agrega ordenado a la derecha\n",
    "            right_arr.pop(0)                        # y se elimina hasta vaciar la particion\n",
    "        \n",
    "        else:\n",
    "            arr_result.append(left_arr[0])        #sino ira a la izq\n",
    "            left_arr.pop(0)                         # y se elimina hasta que quede vacio\n",
    "        \n",
    "    while len(left_arr) > 0:                    # se van sumando los subarreglos ordenados \n",
    "        arr_result.append(left_arr[0])\n",
    "        left_arr.pop(0)\n",
    "    \n",
    "    while len(right_arr) > 0:\n",
    "        arr_result.append(right_arr[0])\n",
    "        right_arr.pop(0)\n",
    "                \n",
    "    return arr_result"
   ]
  },
  {
   "cell_type": "code",
   "execution_count": 23,
   "metadata": {},
   "outputs": [
    {
     "name": "stdout",
     "output_type": "stream",
     "text": [
      "Llevo 0.8164994716644287 segundos en total.\n"
     ]
    }
   ],
   "source": [
    "# Con N de 50.000 elementos es super rapido.\n",
    "start_time_total = time.time()\n",
    "lis1 = mergeSort(lis2)\n",
    "total_time_total = time.time() - start_time_total\n",
    "print(\"Llevo {} segundos en total.\".format(total_time_total))"
   ]
  }
 ],
 "metadata": {
  "kernelspec": {
   "display_name": "Python 3",
   "language": "python",
   "name": "python3"
  },
  "language_info": {
   "codemirror_mode": {
    "name": "ipython",
    "version": 3
   },
   "file_extension": ".py",
   "mimetype": "text/x-python",
   "name": "python",
   "nbconvert_exporter": "python",
   "pygments_lexer": "ipython3",
   "version": "3.11.5"
  }
 },
 "nbformat": 4,
 "nbformat_minor": 2
}

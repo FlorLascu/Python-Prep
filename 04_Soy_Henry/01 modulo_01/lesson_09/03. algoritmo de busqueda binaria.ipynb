{
 "cells": [
  {
   "cell_type": "markdown",
   "metadata": {},
   "source": [
    "# Busqueda binaria\n",
    "\n",
    "* se aplica en arboles binarios<br>\n",
    "* Es muy rapido porque va evaluando en cada iteracion nos quedamos con la mitad de la lista<br>\n",
    "* Es por eso que el algoritmo es de complejidad O(logN)<br>\n",
    "* solo funciona para listas ordenadas <br>\n"
   ]
  },
  {
   "cell_type": "code",
   "execution_count": 21,
   "metadata": {},
   "outputs": [],
   "source": [
    "def busqueda_binaria(lis,target):\n",
    "    izq = 0\n",
    "    der = len(lis) - 1\n",
    "    \n",
    "    while izq <= der:\n",
    "        mid = (izq + der) // 2\n",
    "        if lis[mid] == target: # target es mayor que mid => me quedo con la der\n",
    "            return mid\n",
    "        elif lis[mid] < target:   # target es menor que mid => me quedo con la izq\n",
    "            izq = mid + 1\n",
    "        else:\n",
    "            der = mid - 1\n",
    "    return -1"
   ]
  },
  {
   "cell_type": "code",
   "execution_count": 7,
   "metadata": {},
   "outputs": [],
   "source": [
    "def Listaordenada(desorden, cantidad): \n",
    "    '''\n",
    "    Esta función devuelve una lista\n",
    "    ordenada    '''\n",
    "    import random as r\n",
    "    import numpy as np\n",
    "    lista = list(range(0, cantidad))\n",
    "    return lista"
   ]
  },
  {
   "cell_type": "code",
   "execution_count": 2,
   "metadata": {},
   "outputs": [],
   "source": [
    "import time"
   ]
  },
  {
   "cell_type": "code",
   "execution_count": 3,
   "metadata": {},
   "outputs": [
    {
     "name": "stdout",
     "output_type": "stream",
     "text": [
      "Llevo 0.0 segundos en total.\n"
     ]
    }
   ],
   "source": [
    "start_time_total = time.time()\n",
    "total_time_total = time.time() - start_time_total\n",
    "print(\"Llevo {} segundos en total.\".format(total_time_total))"
   ]
  },
  {
   "cell_type": "code",
   "execution_count": 17,
   "metadata": {},
   "outputs": [],
   "source": [
    "N = 500000"
   ]
  },
  {
   "cell_type": "code",
   "execution_count": 22,
   "metadata": {},
   "outputs": [],
   "source": [
    "lis1 = Listaordenada(500000, N)"
   ]
  },
  {
   "cell_type": "code",
   "execution_count": 18,
   "metadata": {},
   "outputs": [
    {
     "data": {
      "text/plain": [
       "7000"
      ]
     },
     "execution_count": 18,
     "metadata": {},
     "output_type": "execute_result"
    }
   ],
   "source": [
    "lis1[7000]"
   ]
  },
  {
   "cell_type": "code",
   "execution_count": 23,
   "metadata": {},
   "outputs": [
    {
     "name": "stdout",
     "output_type": "stream",
     "text": [
      "Llevo 0.007995843887329102 segundos en total.\n"
     ]
    }
   ],
   "source": [
    "# Con N de 500.000 elementos\n",
    "start_time_total = time.time()\n",
    "lis1 = busqueda_binaria(lis1,6999)\n",
    "total_time_total = time.time() - start_time_total\n",
    "print(\"Llevo {} segundos en total.\".format(total_time_total))"
   ]
  }
 ],
 "metadata": {
  "kernelspec": {
   "display_name": "Python 3",
   "language": "python",
   "name": "python3"
  },
  "language_info": {
   "codemirror_mode": {
    "name": "ipython",
    "version": 3
   },
   "file_extension": ".py",
   "mimetype": "text/x-python",
   "name": "python",
   "nbconvert_exporter": "python",
   "pygments_lexer": "ipython3",
   "version": "3.11.5"
  }
 },
 "nbformat": 4,
 "nbformat_minor": 2
}

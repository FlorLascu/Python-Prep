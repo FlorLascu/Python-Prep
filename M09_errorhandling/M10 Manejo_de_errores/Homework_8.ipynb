{
 "cells": [
  {
   "cell_type": "code",
   "execution_count": 135,
   "metadata": {},
   "outputs": [],
   "source": [
    "class herramientas:\n",
    "    ''' Esta es la clase creada con las funcinoes del Homework #7 para un elemento.\n",
    "    Sin variables definidas para la clase'''\n",
    "    def __init__(self):\n",
    "        pass\n",
    "    \n",
    "    def factorial(self,n):\n",
    "        f=1\n",
    "        if type(n)!=int:\n",
    "            print (\"Input Error. Debe ser un entero\")\n",
    "            return None\n",
    "        elif n<0:\n",
    "            print (\"Input Error. Debe ser positivo\")\n",
    "            return None\n",
    "        elif n==0:\n",
    "            f=1\n",
    "            return f\n",
    "        else:\n",
    "            for i in range(1,n+1):\n",
    "                f=f*i\n",
    "            return f\n",
    "\n",
    "\n",
    "    def primo(self,a):\n",
    "        es_primo = True\n",
    "        for i in range(2,a):\n",
    "            if a%i==0:\n",
    "                es_primo=False\n",
    "                break\n",
    "        return es_primo\n",
    "\n",
    "    def suma(a,b):\n",
    "        return a+b\n",
    "\n",
    "    def resta(a,b):\n",
    "        return a-b\n",
    "\n",
    "    def mas_repe(self,A):\n",
    "            a=0 #elemento_repetido en la lista\n",
    "            q=0 # cantidad de veces que se repite en la lista\n",
    "            b=0 #contador/compara\n",
    "            if len(A)==0:\n",
    "                return print(\"Lista vacia\")\n",
    "            for i in A:\n",
    "                b=A.count(i) #se cuentan cuantas veces esta presente el elemento en la lista\n",
    "                if b > q: #si la cantidad de veces que se repite el elemento es mayor que la cantidad anterior, guarda el elemento en a\n",
    "                    a=i\n",
    "                    q=b\n",
    "            print(a,\"es el elemento mas repetido y se repite \",q,\"veces\")\n",
    "            return a,q\n",
    "    \n",
    "    def convert_temp(self,valor,origen,destino):\n",
    "        if origen == 'C':\n",
    "            if destino == 'C':\n",
    "                valor_destino = valor # No hay conversion \n",
    "                print(valor,\"\",origen,\"son equivalentes a \",valor_destino,\" \",destino)\n",
    "            elif destino == 'F':\n",
    "                valor_destino = valor*9/5+32\n",
    "                print(valor,\"\",origen,\"son equivalentes a \",valor_destino,\" \",destino)\n",
    "            elif destino == 'K':\n",
    "                valor_destino = valor + 273.15\n",
    "                print(valor,\"\",origen,\"son equivalentes a \",valor_destino,\" \",destino)\n",
    "        elif origen == 'F':\n",
    "            if destino == 'F': # No hay conversion\n",
    "                valor_destino = valor\n",
    "                print(valor,\"\",origen,\"son equivalentes a \",valor_destino,\" \",destino)\n",
    "            elif destino == 'C':\n",
    "                valor_destino = valor*5/9-17.777\n",
    "                print(valor,\"\",origen,\"son equivalentes a \",valor_destino,\" \",destino)\n",
    "            elif destino == 'K':\n",
    "                valor_destino = valor * 0.556+255.37\n",
    "                print(valor,\"\",origen,\"son equivalentes a \",valor_destino,\" \",destino)\n",
    "        elif origen == 'K':\n",
    "            if destino == 'K': # No hay conversion\n",
    "                valor_destino = valor\n",
    "                print(valor,\"\",origen,\"son equivalentes a \",valor_destino,\" \",destino)\n",
    "            elif destino == 'C':\n",
    "                valor_destino= valor - 273.15\n",
    "                print(valor,\"\",origen,\"son equivalentes a \",valor_destino,\" \",destino)\n",
    "            elif destino == 'F':\n",
    "                valor_destino=1.8*valor-439.67\n",
    "                print(valor,\"\",origen,\"son equivalentes a \",valor_destino,\" \",destino)\n",
    "        return valor_destino,destino   "
   ]
  },
  {
   "cell_type": "code",
   "execution_count": 136,
   "metadata": {},
   "outputs": [
    {
     "name": "stdout",
     "output_type": "stream",
     "text": [
      "Help on class herramientas in module __main__:\n",
      "\n",
      "class herramientas(builtins.object)\n",
      " |  Esta es la clase creada con las funcinoes del Homework #7 para un elemento.\n",
      " |  Sin variables definidas para la clase\n",
      " |  \n",
      " |  Methods defined here:\n",
      " |  \n",
      " |  __init__(self)\n",
      " |      Initialize self.  See help(type(self)) for accurate signature.\n",
      " |  \n",
      " |  convert_temp(self, valor, origen, destino)\n",
      " |  \n",
      " |  factorial(self, n)\n",
      " |  \n",
      " |  mas_repe(self, A)\n",
      " |  \n",
      " |  primo(self, a)\n",
      " |  \n",
      " |  resta(a, b)\n",
      " |  \n",
      " |  suma(a, b)\n",
      " |  \n",
      " |  ----------------------------------------------------------------------\n",
      " |  Data descriptors defined here:\n",
      " |  \n",
      " |  __dict__\n",
      " |      dictionary for instance variables (if defined)\n",
      " |  \n",
      " |  __weakref__\n",
      " |      list of weak references to the object (if defined)\n",
      "\n"
     ]
    }
   ],
   "source": [
    "help(herramientas)"
   ]
  },
  {
   "cell_type": "code",
   "execution_count": 25,
   "metadata": {},
   "outputs": [],
   "source": [
    "f=herramientas()"
   ]
  },
  {
   "cell_type": "code",
   "execution_count": 3,
   "metadata": {},
   "outputs": [
    {
     "data": {
      "text/plain": [
       "True"
      ]
     },
     "execution_count": 3,
     "metadata": {},
     "output_type": "execute_result"
    }
   ],
   "source": [
    "f.primo(7)"
   ]
  },
  {
   "cell_type": "code",
   "execution_count": 11,
   "metadata": {},
   "outputs": [
    {
     "data": {
      "text/plain": [
       "2"
      ]
     },
     "execution_count": 11,
     "metadata": {},
     "output_type": "execute_result"
    }
   ],
   "source": [
    "f.factorial(2)"
   ]
  },
  {
   "cell_type": "code",
   "execution_count": 12,
   "metadata": {},
   "outputs": [
    {
     "name": "stdout",
     "output_type": "stream",
     "text": [
      "2 es el elemento mas repetido y se repite  4 veces\n"
     ]
    },
    {
     "data": {
      "text/plain": [
       "(2, 4)"
      ]
     },
     "execution_count": 12,
     "metadata": {},
     "output_type": "execute_result"
    }
   ],
   "source": [
    "J=[2,2,2,2,5,6,7,10,12]\n",
    "f.mas_repe(J)"
   ]
  },
  {
   "cell_type": "code",
   "execution_count": 26,
   "metadata": {},
   "outputs": [
    {
     "name": "stdout",
     "output_type": "stream",
     "text": [
      "1  F son equivalentes a  -17.221444444444444   C\n"
     ]
    },
    {
     "data": {
      "text/plain": [
       "(-17.221444444444444, 'C')"
      ]
     },
     "execution_count": 26,
     "metadata": {},
     "output_type": "execute_result"
    }
   ],
   "source": [
    "f.convert_temp(1,'F','C')"
   ]
  },
  {
   "cell_type": "code",
   "execution_count": 139,
   "metadata": {},
   "outputs": [],
   "source": [
    "T=['C','F','K']\n",
    "uno=[1,1,1]"
   ]
  },
  {
   "cell_type": "code",
   "execution_count": 143,
   "metadata": {},
   "outputs": [
    {
     "name": "stdout",
     "output_type": "stream",
     "text": [
      "1  C son equivalentes a  1   C\n",
      "1  C son equivalentes a  33.8   F\n",
      "1  C son equivalentes a  274.15   K\n",
      "1  F son equivalentes a  -17.221444444444444   C\n",
      "1  F son equivalentes a  1   F\n",
      "1  F son equivalentes a  255.92600000000002   K\n",
      "1  K son equivalentes a  -272.15   C\n",
      "1  K son equivalentes a  -437.87   F\n",
      "1  K son equivalentes a  1   K\n"
     ]
    }
   ],
   "source": [
    "for i in range(0,3):\n",
    "    for j in range(0,3):\n",
    "        f.convert_temp(1,T[i],T[j])"
   ]
  },
  {
   "cell_type": "code",
   "execution_count": 137,
   "metadata": {},
   "outputs": [],
   "source": [
    "class Funciones:\n",
    "    '''Esta es la Clase creada a partir de la clase herramientas, pero con la variable de ingreso definida como una lista\n",
    "    Las funciones se modificaron de manera que corrieran para un input lista.\n",
    "    Se encapsularon las funciones que se utilizaron en la clase anterior creandose nuevas funciones que iterasen sobre \n",
    "    los elementos de las listas que son dadas como ingreso'''\n",
    "    def __init__(self,lista_nro):\n",
    "        self.lista = lista_nro\n",
    "        pass\n",
    "    \n",
    "    def factorial(self):\n",
    "        for i in self.lista:\n",
    "            print(f'el factorial de {i} es {self.__factorial(i)}')\n",
    "\n",
    "    def __factorial(self,n):\n",
    "        f=1\n",
    "        if type(n)!=int:\n",
    "            print (\"Input Error. Debe ser un entero\")\n",
    "            return None\n",
    "        elif n<0:\n",
    "            print (\"Input Error. Debe ser positivo\")\n",
    "            return None\n",
    "        elif n==0:\n",
    "            f=1\n",
    "            return f\n",
    "        else:\n",
    "            for i in range(1,n+1):\n",
    "                f=f*i\n",
    "            return f\n",
    "\n",
    "    def primo(self):\n",
    "        for i in self.lista:\n",
    "            if self.__primo(i):\n",
    "                print(f'el valor {i} es primo')\n",
    "            else:\n",
    "                print(f'el valor {i} no es primo')\n",
    "                       \n",
    "    def __primo(self,a):\n",
    "        es_primo = True\n",
    "        for i in range(2,a):\n",
    "            if a % i==0:\n",
    "                es_primo=False\n",
    "                break\n",
    "        return es_primo\n",
    "\n",
    "    def mas_repe(self,A):\n",
    "            a=0 #elemento_repetido en la lista\n",
    "            q=0 # cantidad de veces que se repite en la lista\n",
    "            b=0 #contador/compara\n",
    "            if len(A)==0:\n",
    "                return print(\"Lista vacia\")\n",
    "            for i in A:\n",
    "                b=A.count(i) #se cuentan cuantas veces esta presente el elemento en la lista\n",
    "                if b > q: #si la cantidad de veces que se repite el elemento es mayor que la cantidad anterior, guarda el elemento en a\n",
    "                    a=i\n",
    "                    q=b\n",
    "            print(a,\"es el elemento mas repetido y se repite \",q,\"veces\")\n",
    "            return a,q\n",
    "    \n",
    "    def convert_temp(self,origen,destino):\n",
    "        for i in self.lista:\n",
    "            self.__convert_temp(i,origen,destino)\n",
    "\n",
    "    def __convert_temp(self,valor,origen,destino):\n",
    "        if origen == 'C':\n",
    "            if destino == 'C':\n",
    "                valor_destino = valor # No hay conversion \n",
    "                print(valor,\"\",origen,\"son equivalentes a \",valor_destino,\" \",destino)\n",
    "            elif destino == 'F':\n",
    "                valor_destino = valor*9/5+32\n",
    "                print(valor,\"\",origen,\"son equivalentes a \",valor_destino,\" \",destino)\n",
    "            elif destino == 'K':\n",
    "                valor_destino = valor + 273.15\n",
    "                print(valor,\"\",origen,\"son equivalentes a \",valor_destino,\" \",destino)\n",
    "        elif origen == 'F':\n",
    "            if destino == 'F': # No hay conversion\n",
    "                valor_destino = valor\n",
    "                print(valor,\"\",origen,\"son equivalentes a \",valor_destino,\" \",destino)\n",
    "            elif destino == 'C':\n",
    "                valor_destino = valor*5/9-17.777\n",
    "                print(valor,\"\",origen,\"son equivalentes a \",valor_destino,\" \",destino)\n",
    "            elif destino == 'K':\n",
    "                valor_destino = valor * 0.556+255.37\n",
    "                print(valor,\"\",origen,\"son equivalentes a \",valor_destino,\" \",destino)\n",
    "        elif origen == 'K':\n",
    "            if destino == 'K': # No hay conversion\n",
    "                valor_destino = valor\n",
    "                print(valor,\"\",origen,\"son equivalentes a \",valor_destino,\" \",destino)\n",
    "            elif destino == 'C':\n",
    "                valor_destino= valor - 273.15\n",
    "                print(valor,\"\",origen,\"son equivalentes a \",valor_destino,\" \",destino)\n",
    "            elif destino == 'F':\n",
    "                valor_destino=1.8*valor-439.67\n",
    "                print(valor,\"\",origen,\"son equivalentes a \",valor_destino,\" \",destino)\n",
    "        return valor_destino,destino   "
   ]
  },
  {
   "cell_type": "code",
   "execution_count": 126,
   "metadata": {},
   "outputs": [],
   "source": [
    "t=Funciones(H)"
   ]
  },
  {
   "cell_type": "code",
   "execution_count": 127,
   "metadata": {},
   "outputs": [
    {
     "name": "stdout",
     "output_type": "stream",
     "text": [
      "[4, 5, 7, 9, 9, 9]\n"
     ]
    }
   ],
   "source": [
    "print(H)"
   ]
  },
  {
   "cell_type": "code",
   "execution_count": 128,
   "metadata": {},
   "outputs": [
    {
     "name": "stdout",
     "output_type": "stream",
     "text": [
      "el valor 4 no es primo\n",
      "el valor 5 es primo\n",
      "el valor 7 es primo\n",
      "el valor 9 no es primo\n",
      "el valor 9 no es primo\n",
      "el valor 9 no es primo\n"
     ]
    }
   ],
   "source": [
    "t.primo()"
   ]
  },
  {
   "cell_type": "code",
   "execution_count": 129,
   "metadata": {},
   "outputs": [
    {
     "name": "stdout",
     "output_type": "stream",
     "text": [
      "2 es el elemento mas repetido y se repite  4 veces\n"
     ]
    },
    {
     "data": {
      "text/plain": [
       "(2, 4)"
      ]
     },
     "execution_count": 129,
     "metadata": {},
     "output_type": "execute_result"
    }
   ],
   "source": [
    "t.mas_repe(J)"
   ]
  },
  {
   "cell_type": "code",
   "execution_count": 130,
   "metadata": {},
   "outputs": [
    {
     "name": "stdout",
     "output_type": "stream",
     "text": [
      "4  C son equivalentes a  39.2   F\n",
      "5  C son equivalentes a  41.0   F\n",
      "7  C son equivalentes a  44.6   F\n",
      "9  C son equivalentes a  48.2   F\n",
      "9  C son equivalentes a  48.2   F\n",
      "9  C son equivalentes a  48.2   F\n"
     ]
    }
   ],
   "source": [
    "t.convert_temp('C','F')"
   ]
  },
  {
   "cell_type": "code",
   "execution_count": 134,
   "metadata": {},
   "outputs": [
    {
     "name": "stdout",
     "output_type": "stream",
     "text": [
      "[2, 2, 2, 2, 5, 6, 7, 10, 12]\n"
     ]
    }
   ],
   "source": [
    "print(J)"
   ]
  },
  {
   "cell_type": "code",
   "execution_count": 133,
   "metadata": {},
   "outputs": [
    {
     "name": "stdout",
     "output_type": "stream",
     "text": [
      "el factorial de 2 es 2\n",
      "el factorial de 2 es 2\n",
      "el factorial de 2 es 2\n",
      "el factorial de 2 es 2\n",
      "el factorial de 5 es 120\n",
      "el factorial de 6 es 720\n",
      "el factorial de 7 es 5040\n",
      "el factorial de 10 es 3628800\n",
      "el factorial de 12 es 479001600\n"
     ]
    }
   ],
   "source": [
    "t=Funciones(J)\n",
    "t.factorial()"
   ]
  }
 ],
 "metadata": {
  "kernelspec": {
   "display_name": "Python 3",
   "language": "python",
   "name": "python3"
  },
  "language_info": {
   "codemirror_mode": {
    "name": "ipython",
    "version": 3
   },
   "file_extension": ".py",
   "mimetype": "text/x-python",
   "name": "python",
   "nbconvert_exporter": "python",
   "pygments_lexer": "ipython3",
   "version": "3.11.5"
  },
  "orig_nbformat": 4
 },
 "nbformat": 4,
 "nbformat_minor": 2
}

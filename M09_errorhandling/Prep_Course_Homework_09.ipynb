{
 "cells": [
  {
   "attachments": {},
   "cell_type": "markdown",
   "metadata": {},
   "source": [
    "## Manejo de errores"
   ]
  },
  {
   "attachments": {},
   "cell_type": "markdown",
   "metadata": {},
   "source": [
    "1) Con la clase creada en el módulo 7, tener en cuenta diferentes casos en que el código pudiera arrojar error. Por ejemplo, en la creación del objeto recibimos una lista de números enteros pero ¿qué pasa si se envía otro tipo de dato?"
   ]
  },
  {
   "cell_type": "code",
   "execution_count": 106,
   "metadata": {},
   "outputs": [],
   "source": [
    "import sys\n",
    "sys.path.append(r'C:\\Users\\Florencia\\Desktop\\Python-Prep\\M09_errorhandling\\mimodulo.py')"
   ]
  },
  {
   "cell_type": "code",
   "execution_count": 129,
   "metadata": {},
   "outputs": [],
   "source": [
    "import mimodulo as h"
   ]
  },
  {
   "cell_type": "code",
   "execution_count": 132,
   "metadata": {},
   "outputs": [
    {
     "ename": "ValueError",
     "evalue": "Error de input. Se esperaba una lista de enteros",
     "output_type": "error",
     "traceback": [
      "\u001b[1;31m---------------------------------------------------------------------------\u001b[0m",
      "\u001b[1;31mValueError\u001b[0m                                Traceback (most recent call last)",
      "\u001b[1;32mc:\\Users\\Florencia\\Desktop\\Python-Prep\\M09_errorhandling\\Prep_Course_Homework_09.ipynb Celda 5\u001b[0m line \u001b[0;36m1\n\u001b[1;32m----> <a href='vscode-notebook-cell:/c%3A/Users/Florencia/Desktop/Python-Prep/M09_errorhandling/Prep_Course_Homework_09.ipynb#X40sZmlsZQ%3D%3D?line=0'>1</a>\u001b[0m h1\u001b[39m=\u001b[39mh\u001b[39m.\u001b[39;49mFunciones([\u001b[39m'\u001b[39;49m\u001b[39mHola\u001b[39;49m\u001b[39m'\u001b[39;49m,\u001b[39m'\u001b[39;49m\u001b[39mHello\u001b[39;49m\u001b[39m'\u001b[39;49m])\n",
      "File \u001b[1;32mc:\\Users\\Florencia\\Desktop\\Python-Prep\\M09_errorhandling\\mimodulo.py:98\u001b[0m, in \u001b[0;36mFunciones.__init__\u001b[1;34m(self, lista_nro)\u001b[0m\n\u001b[0;32m     96\u001b[0m \u001b[39mfor\u001b[39;00m i \u001b[39min\u001b[39;00m lista_nro:\n\u001b[0;32m     97\u001b[0m         \u001b[39mif\u001b[39;00m \u001b[39mtype\u001b[39m(i) \u001b[39m!=\u001b[39m \u001b[39mint\u001b[39m:\n\u001b[1;32m---> 98\u001b[0m             \u001b[39mraise\u001b[39;00m \u001b[39mValueError\u001b[39;00m(\u001b[39m'\u001b[39m\u001b[39mError de input. Se esperaba una lista de enteros\u001b[39m\u001b[39m'\u001b[39m)\n\u001b[0;32m     99\u001b[0m \u001b[39melse\u001b[39;00m:\n\u001b[0;32m    100\u001b[0m     \u001b[39mself\u001b[39m\u001b[39m.\u001b[39mlista \u001b[39m=\u001b[39m lista_nro\n",
      "\u001b[1;31mValueError\u001b[0m: Error de input. Se esperaba una lista de enteros"
     ]
    }
   ],
   "source": [
    "h1=h.Funciones(['Hola','Hello'])"
   ]
  },
  {
   "cell_type": "code",
   "execution_count": 298,
   "metadata": {},
   "outputs": [
    {
     "data": {
      "text/plain": [
       "<module 'mimodulo' from 'c:\\\\Users\\\\Florencia\\\\Desktop\\\\Python-Prep\\\\M09_errorhandling\\\\mimodulo.py'>"
      ]
     },
     "execution_count": 298,
     "metadata": {},
     "output_type": "execute_result"
    }
   ],
   "source": [
    "import importlib\n",
    "importlib.reload(h)"
   ]
  },
  {
   "cell_type": "code",
   "execution_count": 135,
   "metadata": {},
   "outputs": [
    {
     "ename": "ValueError",
     "evalue": "Error de input. Se esperaba una lista de enteros",
     "output_type": "error",
     "traceback": [
      "\u001b[1;31m---------------------------------------------------------------------------\u001b[0m",
      "\u001b[1;31mValueError\u001b[0m                                Traceback (most recent call last)",
      "\u001b[1;32mc:\\Users\\Florencia\\Desktop\\Python-Prep\\M09_errorhandling\\Prep_Course_Homework_09.ipynb Celda 7\u001b[0m line \u001b[0;36m1\n\u001b[1;32m----> <a href='vscode-notebook-cell:/c%3A/Users/Florencia/Desktop/Python-Prep/M09_errorhandling/Prep_Course_Homework_09.ipynb#X22sZmlsZQ%3D%3D?line=0'>1</a>\u001b[0m a\u001b[39m=\u001b[39mh\u001b[39m.\u001b[39;49mFunciones([\u001b[39m1\u001b[39;49m,\u001b[39m2\u001b[39;49m,\u001b[39m5\u001b[39;49m,\u001b[39m6\u001b[39;49m,\u001b[39m6\u001b[39;49m,\u001b[39m6\u001b[39;49m,\u001b[39m'\u001b[39;49m\u001b[39mHola\u001b[39;49m\u001b[39m'\u001b[39;49m])\n",
      "File \u001b[1;32mc:\\Users\\Florencia\\Desktop\\Python-Prep\\M09_errorhandling\\mimodulo.py:98\u001b[0m, in \u001b[0;36mFunciones.__init__\u001b[1;34m(self, lista_nro)\u001b[0m\n\u001b[0;32m     96\u001b[0m \u001b[39mfor\u001b[39;00m i \u001b[39min\u001b[39;00m lista_nro:\n\u001b[0;32m     97\u001b[0m         \u001b[39mif\u001b[39;00m \u001b[39mtype\u001b[39m(i) \u001b[39m!=\u001b[39m \u001b[39mint\u001b[39m:\n\u001b[1;32m---> 98\u001b[0m             \u001b[39mraise\u001b[39;00m \u001b[39mValueError\u001b[39;00m(\u001b[39m'\u001b[39m\u001b[39mError de input. Se esperaba una lista de enteros\u001b[39m\u001b[39m'\u001b[39m)\n\u001b[0;32m     99\u001b[0m \u001b[39melse\u001b[39;00m:\n\u001b[0;32m    100\u001b[0m     \u001b[39mself\u001b[39m\u001b[39m.\u001b[39mlista \u001b[39m=\u001b[39m lista_nro\n",
      "\u001b[1;31mValueError\u001b[0m: Error de input. Se esperaba una lista de enteros"
     ]
    }
   ],
   "source": [
    "a=h.Funciones([1,2,5,6,6,6,'Hola'])"
   ]
  },
  {
   "cell_type": "code",
   "execution_count": 319,
   "metadata": {},
   "outputs": [],
   "source": [
    "a=h.Funciones([1,4,6])"
   ]
  },
  {
   "cell_type": "code",
   "execution_count": 237,
   "metadata": {},
   "outputs": [
    {
     "name": "stdout",
     "output_type": "stream",
     "text": [
      "[True, True, True, True, True]\n"
     ]
    }
   ],
   "source": [
    "h1.primo()"
   ]
  },
  {
   "cell_type": "code",
   "execution_count": 320,
   "metadata": {},
   "outputs": [
    {
     "data": {
      "text/plain": [
       "[1]"
      ]
     },
     "execution_count": 320,
     "metadata": {},
     "output_type": "execute_result"
    }
   ],
   "source": [
    "a.factorial()"
   ]
  },
  {
   "attachments": {},
   "cell_type": "markdown",
   "metadata": {},
   "source": [
    "2) En la función que hace la conversión de grados, validar que los parámetros enviados sean los esperados, de no serlo, informar cuáles son los valores esperados."
   ]
  },
  {
   "cell_type": "code",
   "execution_count": 328,
   "metadata": {},
   "outputs": [
    {
     "data": {
      "text/plain": [
       "<module 'mimodulo' from 'c:\\\\Users\\\\Florencia\\\\Desktop\\\\Python-Prep\\\\M09_errorhandling\\\\mimodulo.py'>"
      ]
     },
     "execution_count": 328,
     "metadata": {},
     "output_type": "execute_result"
    }
   ],
   "source": [
    "importlib.reload(h)"
   ]
  },
  {
   "cell_type": "code",
   "execution_count": 329,
   "metadata": {},
   "outputs": [],
   "source": [
    "h1 =h.Funciones([1,3,5,7,9])"
   ]
  },
  {
   "cell_type": "code",
   "execution_count": 305,
   "metadata": {},
   "outputs": [
    {
     "name": "stdout",
     "output_type": "stream",
     "text": [
      "1  C son equivalentes a  274.15   K\n",
      "3  C son equivalentes a  276.15   K\n",
      "5  C son equivalentes a  278.15   K\n",
      "7  C son equivalentes a  280.15   K\n",
      "9  C son equivalentes a  282.15   K\n"
     ]
    },
    {
     "data": {
      "text/plain": [
       "[(274.15, 'K'), (276.15, 'K'), (278.15, 'K'), (280.15, 'K'), (282.15, 'K')]"
      ]
     },
     "execution_count": 305,
     "metadata": {},
     "output_type": "execute_result"
    }
   ],
   "source": [
    "h1.convert_temp('C','K')"
   ]
  },
  {
   "cell_type": "code",
   "execution_count": 327,
   "metadata": {},
   "outputs": [
    {
     "data": {
      "text/plain": [
       "[1]"
      ]
     },
     "execution_count": 327,
     "metadata": {},
     "output_type": "execute_result"
    }
   ],
   "source": [
    "h1.factorial()"
   ]
  },
  {
   "cell_type": "code",
   "execution_count": 304,
   "metadata": {},
   "outputs": [
    {
     "name": "stdout",
     "output_type": "stream",
     "text": [
      "1  K son equivalentes a  -272.15   C\n",
      "3  K son equivalentes a  -270.15   C\n",
      "5  K son equivalentes a  -268.15   C\n",
      "7  K son equivalentes a  -266.15   C\n",
      "9  K son equivalentes a  -264.15   C\n"
     ]
    },
    {
     "data": {
      "text/plain": [
       "[(-272.15, 'C'),\n",
       " (-270.15, 'C'),\n",
       " (-268.15, 'C'),\n",
       " (-266.15, 'C'),\n",
       " (-264.15, 'C')]"
      ]
     },
     "execution_count": 304,
     "metadata": {},
     "output_type": "execute_result"
    }
   ],
   "source": [
    "h1.convert_temp('K','C')"
   ]
  },
  {
   "cell_type": "code",
   "execution_count": 185,
   "metadata": {},
   "outputs": [
    {
     "data": {
      "text/plain": [
       "[2, 2]"
      ]
     },
     "execution_count": 185,
     "metadata": {},
     "output_type": "execute_result"
    }
   ],
   "source": [
    "h1.mas_repe([2,3,5,6,2])"
   ]
  },
  {
   "cell_type": "code",
   "execution_count": 196,
   "metadata": {},
   "outputs": [
    {
     "data": {
      "text/plain": [
       "[2, 3]"
      ]
     },
     "execution_count": 196,
     "metadata": {},
     "output_type": "execute_result"
    }
   ],
   "source": [
    "h1.mas_repe([1,2,2,2,3])"
   ]
  },
  {
   "attachments": {},
   "cell_type": "markdown",
   "metadata": {},
   "source": [
    "3) Importar el modulo \"unittest\" y crear los siguientes casos de pruebas sobre la clase utilizada en el punto 2<br>\n",
    "Creacion del objeto incorrecta<br>\n",
    "Creacion correcta del objeto<br>\n",
    "Metodo valor_modal()<br>\n",
    "\n",
    "Se puede usar \"raise ValueError()\" en la creación de la clase para verificar el error. Investigar sobre esta funcionalidad."
   ]
  },
  {
   "cell_type": "code",
   "execution_count": 150,
   "metadata": {},
   "outputs": [],
   "source": [
    "import unittest"
   ]
  },
  {
   "cell_type": "code",
   "execution_count": 296,
   "metadata": {},
   "outputs": [],
   "source": [
    "class Test_mi_codigo (unittest.TestCase):\n",
    "    \n",
    "    def test_creacion_de_objeto_1(self):\n",
    "        parametro=[2,3,4]\n",
    "        h1=h.Funciones(parametro)\n",
    "        self.assertEqual(h1.lista,parametro)\n",
    "        \n",
    "    def test_creacion_de_objeto_2(self):\n",
    "        parametro='hola'\n",
    "        self.assertRaises(ValueError,h.Funciones,parametro)\n",
    "\n",
    "    def test_mas_repe1(self):\n",
    "        lis=[1,2,1,2,2]\n",
    "        h1=h.Funciones(lis)\n",
    "        a=h1.mas_repe(lis)\n",
    "        resultado_esperado=[2,3]    \n",
    "        self.assertEqual(a,resultado_esperado)\n",
    "\n",
    "    "
   ]
  },
  {
   "cell_type": "code",
   "execution_count": 297,
   "metadata": {},
   "outputs": [
    {
     "name": "stderr",
     "output_type": "stream",
     "text": [
      "test_prueba_primo (__main__.Test_mi_code2.test_prueba_primo) ... ok\n",
      "test_creacion_de_objeto_1 (__main__.Test_mi_codigo.test_creacion_de_objeto_1) ... ok\n",
      "test_creacion_de_objeto_2 (__main__.Test_mi_codigo.test_creacion_de_objeto_2) ... ok\n",
      "test_mas_repe1 (__main__.Test_mi_codigo.test_mas_repe1) ... ok\n",
      "\n",
      "----------------------------------------------------------------------\n",
      "Ran 4 tests in 0.008s\n",
      "\n",
      "OK\n"
     ]
    },
    {
     "name": "stdout",
     "output_type": "stream",
     "text": [
      "[True, True, True, True, False]\n"
     ]
    },
    {
     "data": {
      "text/plain": [
       "<unittest.main.TestProgram at 0x2003cf0dc10>"
      ]
     },
     "execution_count": 297,
     "metadata": {},
     "output_type": "execute_result"
    }
   ],
   "source": [
    "unittest.main(argv=[''],verbosity=2,exit=False)"
   ]
  },
  {
   "cell_type": "code",
   "execution_count": 63,
   "metadata": {},
   "outputs": [],
   "source": [
    "lista=[2,1,0,10,'1',4,1]\n"
   ]
  },
  {
   "cell_type": "code",
   "execution_count": 64,
   "metadata": {},
   "outputs": [
    {
     "name": "stdout",
     "output_type": "stream",
     "text": [
      "1.0\n",
      "0.5\n",
      "0.0\n",
      "5.0\n",
      "El valor no es valido 1\n",
      "2.0\n",
      "0.5\n"
     ]
    }
   ],
   "source": [
    "for i in lista:\n",
    "    try: \n",
    "        print(i/2)\n",
    "    except:\n",
    "        print('El valor no es valido',i)\n"
   ]
  },
  {
   "attachments": {},
   "cell_type": "markdown",
   "metadata": {},
   "source": [
    "4) Probar una creación incorrecta y visualizar la salida del \"raise\""
   ]
  },
  {
   "cell_type": "code",
   "execution_count": null,
   "metadata": {},
   "outputs": [],
   "source": []
  },
  {
   "attachments": {},
   "cell_type": "markdown",
   "metadata": {},
   "source": [
    "6) Agregar casos de pruebas para el método verifica_primos() realizando el cambio en la clase, para que devuelva una lista de True o False en función de que el elemento en la posisicón sea o no primo"
   ]
  },
  {
   "cell_type": "code",
   "execution_count": 243,
   "metadata": {},
   "outputs": [],
   "source": [
    "b=h.Funciones([1,3,5,7,9])"
   ]
  },
  {
   "cell_type": "code",
   "execution_count": 274,
   "metadata": {},
   "outputs": [
    {
     "name": "stdout",
     "output_type": "stream",
     "text": [
      "[True, True, True, True, False]\n"
     ]
    }
   ],
   "source": [
    "b.primo()"
   ]
  },
  {
   "cell_type": "code",
   "execution_count": 293,
   "metadata": {},
   "outputs": [],
   "source": [
    "class Test_mi_code2(unittest.TestCase):\n",
    "    def test_prueba_primo(self):\n",
    "        listaP=[1,3,5,7,9]\n",
    "        lista_salida_primos=[True,True,True,True,False]\n",
    "        s=h.Funciones(listaP)\n",
    "        resultado = s.primo()\n",
    "        self.assertEqual(resultado,lista_salida_primos)\n"
   ]
  },
  {
   "cell_type": "code",
   "execution_count": 294,
   "metadata": {},
   "outputs": [],
   "source": [
    "listP=[1,3,5,7,9]\n",
    "a=h.Funciones(listP)\n",
    "j=a.primo()"
   ]
  },
  {
   "cell_type": "code",
   "execution_count": 269,
   "metadata": {},
   "outputs": [
    {
     "name": "stdout",
     "output_type": "stream",
     "text": [
      "<mimodulo.Funciones object at 0x000002003B4FD650>\n"
     ]
    }
   ],
   "source": [
    "print(a)"
   ]
  },
  {
   "cell_type": "code",
   "execution_count": 281,
   "metadata": {},
   "outputs": [
    {
     "name": "stdout",
     "output_type": "stream",
     "text": [
      "[True, True, True, True, False]\n"
     ]
    }
   ],
   "source": [
    "a.primo()"
   ]
  },
  {
   "cell_type": "code",
   "execution_count": 308,
   "metadata": {},
   "outputs": [
    {
     "name": "stderr",
     "output_type": "stream",
     "text": [
      "test_prueba_convert_temp (__main__.Test_mi_code2.test_prueba_convert_temp) ... ok\n",
      "test_prueba_primo (__main__.Test_mi_code2.test_prueba_primo) ... ok\n",
      "test_creacion_de_objeto_1 (__main__.Test_mi_codigo.test_creacion_de_objeto_1) ... ok\n",
      "test_creacion_de_objeto_2 (__main__.Test_mi_codigo.test_creacion_de_objeto_2) ... ok\n",
      "test_mas_repe1 (__main__.Test_mi_codigo.test_mas_repe1) ... ok\n",
      "\n",
      "----------------------------------------------------------------------\n",
      "Ran 5 tests in 0.012s\n",
      "\n",
      "OK\n"
     ]
    },
    {
     "name": "stdout",
     "output_type": "stream",
     "text": [
      "1  C son equivalentes a  274.15   K\n",
      "3  C son equivalentes a  276.15   K\n",
      "5  C son equivalentes a  278.15   K\n",
      "7  C son equivalentes a  280.15   K\n",
      "9  C son equivalentes a  282.15   K\n",
      "[True, True, True, True, False]\n"
     ]
    },
    {
     "data": {
      "text/plain": [
       "<unittest.main.TestProgram at 0x2003ce8d990>"
      ]
     },
     "execution_count": 308,
     "metadata": {},
     "output_type": "execute_result"
    }
   ],
   "source": [
    "unittest.main(argv=[''],verbosity=2,exit=False)"
   ]
  },
  {
   "attachments": {},
   "cell_type": "markdown",
   "metadata": {},
   "source": [
    "7) Agregar casos de pruebas para el método conversion_grados()"
   ]
  },
  {
   "cell_type": "code",
   "execution_count": 334,
   "metadata": {},
   "outputs": [],
   "source": [
    "class Test_mi_code2(unittest.TestCase):\n",
    "    def test_prueba_primo(self):\n",
    "        listaP=[1,3,5,7,9]\n",
    "        lista_salida_primos=[True,True,True,True,False]\n",
    "        s=h.Funciones(listaP)\n",
    "        resultado = s.primo()\n",
    "        self.assertEqual(resultado,lista_salida_primos)\n",
    "    \n",
    "    def test_prueba_convert_temp(self):\n",
    "        lista_temp=[1,3,5,7,9]\n",
    "        temperatura=[lista_temp,'C','K']\n",
    "        salida=[(274.15, 'K'), (276.15, 'K'), (278.15, 'K'), (280.15, 'K'), (282.15, 'K')]\n",
    "        k=h.Funciones(lista_temp)\n",
    "        temp_convert = k.convert_temp('C','K')\n",
    "        self.assertEqual(temp_convert,salida)\n",
    "\n",
    "    def test_factorial(self):\n",
    "        lista_factorial=[1,4,6]\n",
    "        salida_factorial=[1,24,720]\n",
    "        o=h.Funciones(lista_factorial)\n",
    "        factor_ial=o.factorial()\n",
    "        self.assertEqual(factor_ial,salida_factorial)\n"
   ]
  },
  {
   "cell_type": "code",
   "execution_count": 332,
   "metadata": {},
   "outputs": [
    {
     "data": {
      "text/plain": [
       "<module 'mimodulo' from 'c:\\\\Users\\\\Florencia\\\\Desktop\\\\Python-Prep\\\\M09_errorhandling\\\\mimodulo.py'>"
      ]
     },
     "execution_count": 332,
     "metadata": {},
     "output_type": "execute_result"
    }
   ],
   "source": [
    "importlib.reload(h)"
   ]
  },
  {
   "cell_type": "code",
   "execution_count": 333,
   "metadata": {},
   "outputs": [
    {
     "data": {
      "text/plain": [
       "[1, 24, 720]"
      ]
     },
     "execution_count": 333,
     "metadata": {},
     "output_type": "execute_result"
    }
   ],
   "source": [
    "listaf=[1,4,6]\n",
    "h1=h.Funciones(listaf)\n",
    "h1.factorial()"
   ]
  },
  {
   "cell_type": "code",
   "execution_count": 338,
   "metadata": {},
   "outputs": [
    {
     "name": "stderr",
     "output_type": "stream",
     "text": [
      "----------------------------------------------------------------------\n",
      "Ran 6 tests in 0.001s\n",
      "\n",
      "OK\n"
     ]
    },
    {
     "name": "stdout",
     "output_type": "stream",
     "text": [
      "1  C son equivalentes a  274.15   K\n",
      "3  C son equivalentes a  276.15   K\n",
      "5  C son equivalentes a  278.15   K\n",
      "7  C son equivalentes a  280.15   K\n",
      "9  C son equivalentes a  282.15   K\n",
      "[True, True, True, True, False]\n"
     ]
    },
    {
     "data": {
      "text/plain": [
       "<unittest.main.TestProgram at 0x2003b044b50>"
      ]
     },
     "execution_count": 338,
     "metadata": {},
     "output_type": "execute_result"
    }
   ],
   "source": [
    "unittest.main(argv=[''],verbosity=0,exit=False)"
   ]
  },
  {
   "attachments": {},
   "cell_type": "markdown",
   "metadata": {},
   "source": [
    "8) Agregar casos de pruebas para el método factorial()"
   ]
  },
  {
   "cell_type": "code",
   "execution_count": null,
   "metadata": {},
   "outputs": [],
   "source": []
  }
 ],
 "metadata": {
  "interpreter": {
   "hash": "c85384e4cb51c8b72350f3a8712cc8351fdc3955e32a27f9b60c6242ab125f01"
  },
  "kernelspec": {
   "display_name": "Python 3 (ipykernel)",
   "language": "python",
   "name": "python3"
  },
  "language_info": {
   "codemirror_mode": {
    "name": "ipython",
    "version": 3
   },
   "file_extension": ".py",
   "mimetype": "text/x-python",
   "name": "python",
   "nbconvert_exporter": "python",
   "pygments_lexer": "ipython3",
   "version": "3.11.5"
  }
 },
 "nbformat": 4,
 "nbformat_minor": 4
}

{
 "cells": [
  {
   "cell_type": "code",
   "execution_count": 5,
   "metadata": {},
   "outputs": [
    {
     "name": "stdout",
     "output_type": "stream",
     "text": [
      "1\n",
      "3\n",
      "6\n",
      "10\n",
      "15\n",
      "21\n",
      "28\n",
      "36\n",
      "45\n",
      "55\n",
      "La suma es  55\n"
     ]
    }
   ],
   "source": [
    "suma, numero = 0, 1\n",
    "\n",
    "while numero <= 10:\n",
    "    suma = numero + suma\n",
    "    numero = numero + 1\n",
    "    print(suma)\n",
    "print(\"La suma es \",suma)"
   ]
  },
  {
   "cell_type": "code",
   "execution_count": 6,
   "metadata": {},
   "outputs": [
    {
     "name": "stdout",
     "output_type": "stream",
     "text": [
      "Introduzca la nota de un estudiante (-1 para salir): \n",
      "Introduzca la nota de un estudiante (-1 para salir): \n",
      "Introduzca la nota de un estudiante (-1 para salir): \n",
      "Introduzca la nota de un estudiante (-1 para salir): \n",
      "Promedio de notas del grado escolar es: 5.0\n"
     ]
    }
   ],
   "source": [
    "promedio, total, contar = 0.0, 0, 0\n",
    "\n",
    "print(\"Introduzca la nota de un estudiante (-1 para salir): \")\n",
    "grado = int(input())\n",
    "while grado != -1:\n",
    "    total = total + grado\n",
    "    contar = contar + 1\n",
    "    print(\"Introduzca la nota de un estudiante (-1 para salir): \")\n",
    "    grado = int(input())\n",
    "promedio = total / contar\n",
    "print(\"Promedio de notas del grado escolar es: \" + str(promedio))"
   ]
  },
  {
   "cell_type": "code",
   "execution_count": 8,
   "metadata": {},
   "outputs": [
    {
     "name": "stdout",
     "output_type": "stream",
     "text": [
      "el ingreso de datos fue  Florencia Lascurain\n"
     ]
    }
   ],
   "source": [
    "inputstring=input(\"Nombre y Apellido: \", )\n",
    "print(\"el ingreso de datos fue \",inputstring)"
   ]
  },
  {
   "cell_type": "code",
   "execution_count": 10,
   "metadata": {},
   "outputs": [
    {
     "name": "stdout",
     "output_type": "stream",
     "text": [
      "Please enter your name  Florencia 45\n",
      "Please enter your age  45\n",
      "Name & Age:  Florencia 45 45\n"
     ]
    }
   ],
   "source": [
    "# Taking name of the user as input\n",
    "# and storing it name variable\n",
    "name = input(\"Please Enter Your Name: \")\n",
    "print(\"Please enter your name \",name)\n",
    "# taking age of the user as input and\n",
    "# storing in into variable age\n",
    "age = input(\"Please Enter Your Age: \")\n",
    "print(\"Please enter your age \",age)\n",
    "print(\"Name & Age: \", name, age)\n"
   ]
  },
  {
   "cell_type": "code",
   "execution_count": 10,
   "metadata": {},
   "outputs": [
    {
     "name": "stdout",
     "output_type": "stream",
     "text": [
      "23\n",
      "29\n",
      "31\n",
      "37\n",
      "41\n",
      "43\n",
      "47\n",
      "31\n",
      "37\n",
      "41\n",
      "43\n",
      "47\n",
      "53\n",
      "59\n",
      "Fin del proceso\n"
     ]
    }
   ],
   "source": [
    "primo = True\n",
    "seguir = True\n",
    "\n",
    "while seguir == True:\n",
    "    rango_a=input(\"Introduce starting range: \",)\n",
    "    rango_b=input(\"Introduce upper range: \",)\n",
    "    n=int(rango_a)\n",
    "    while (n < int(rango_b)):\n",
    "        for div in range(2, n):\n",
    "            if (n % div == 0):\n",
    "                primo = False\n",
    "                break\n",
    "        if (primo):\n",
    "            print(n)\n",
    "        else:\n",
    "            primo = True\n",
    "        n += 1\n",
    "    else: \n",
    "        a=input(\"Do you want to start again? 0 for No or 1 for Yes\",)\n",
    "    seguir=bool(int(a))\n",
    "    if seguir==False:\n",
    "        print(\"Fin del proceso\")\n",
    "\n"
   ]
  },
  {
   "cell_type": "code",
   "execution_count": 8,
   "metadata": {},
   "outputs": [
    {
     "name": "stdout",
     "output_type": "stream",
     "text": [
      "0\n",
      "1\n",
      "2\n",
      "3\n",
      "0\n",
      "1\n",
      "2\n",
      "3\n",
      "0\n",
      "1\n",
      "2\n",
      "3\n",
      "0\n",
      "1\n",
      "2\n",
      "3\n",
      "Fin del proceso\n"
     ]
    }
   ],
   "source": [
    "\n",
    "seguir= True\n",
    "while seguir == True:\n",
    "    n=0\n",
    "    for n in range (0,4): \n",
    "        print(n)\n",
    "        n+=1\n",
    "    else: \n",
    "        a=input(\"Do you want to start again? 0 for No or 1 for Yes\",)\n",
    "    seguir=bool(int(a))\n",
    "    if seguir==False:\n",
    "        print(\"Fin del proceso\")"
   ]
  },
  {
   "cell_type": "code",
   "execution_count": 3,
   "metadata": {},
   "outputs": [
    {
     "name": "stdout",
     "output_type": "stream",
     "text": [
      "False\n"
     ]
    }
   ],
   "source": [
    "a=bool(0)\n",
    "print(a)"
   ]
  }
 ],
 "metadata": {
  "kernelspec": {
   "display_name": "Python 3",
   "language": "python",
   "name": "python3"
  },
  "language_info": {
   "codemirror_mode": {
    "name": "ipython",
    "version": 3
   },
   "file_extension": ".py",
   "mimetype": "text/x-python",
   "name": "python",
   "nbconvert_exporter": "python",
   "pygments_lexer": "ipython3",
   "version": "3.11.5"
  },
  "orig_nbformat": 4
 },
 "nbformat": 4,
 "nbformat_minor": 2
}

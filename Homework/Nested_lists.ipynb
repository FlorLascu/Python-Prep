{
 "cells": [
  {
   "cell_type": "code",
   "execution_count": 5,
   "metadata": {},
   "outputs": [
    {
     "name": "stdout",
     "output_type": "stream",
     "text": [
      "1\n",
      "3\n",
      "6\n",
      "10\n",
      "15\n",
      "21\n",
      "28\n",
      "36\n",
      "45\n",
      "55\n",
      "La suma es  55\n"
     ]
    }
   ],
   "source": [
    "suma, numero = 0, 1\n",
    "\n",
    "while numero <= 10:\n",
    "    suma = numero + suma\n",
    "    numero = numero + 1\n",
    "    print(suma)\n",
    "print(\"La suma es \",suma)"
   ]
  },
  {
   "cell_type": "code",
   "execution_count": 6,
   "metadata": {},
   "outputs": [
    {
     "name": "stdout",
     "output_type": "stream",
     "text": [
      "Introduzca la nota de un estudiante (-1 para salir): \n",
      "Introduzca la nota de un estudiante (-1 para salir): \n",
      "Introduzca la nota de un estudiante (-1 para salir): \n",
      "Introduzca la nota de un estudiante (-1 para salir): \n",
      "Promedio de notas del grado escolar es: 5.0\n"
     ]
    }
   ],
   "source": [
    "promedio, total, contar = 0.0, 0, 0\n",
    "\n",
    "print(\"Introduzca la nota de un estudiante (-1 para salir): \")\n",
    "grado = int(input())\n",
    "while grado != -1:\n",
    "    total = total + grado\n",
    "    contar = contar + 1\n",
    "    print(\"Introduzca la nota de un estudiante (-1 para salir): \")\n",
    "    grado = int(input())\n",
    "promedio = total / contar\n",
    "print(\"Promedio de notas del grado escolar es: \" + str(promedio))"
   ]
  },
  {
   "cell_type": "code",
   "execution_count": 8,
   "metadata": {},
   "outputs": [
    {
     "name": "stdout",
     "output_type": "stream",
     "text": [
      "el ingreso de datos fue  Florencia Lascurain\n"
     ]
    }
   ],
   "source": [
    "inputstring=input(\"Nombre y Apellido: \", )\n",
    "print(\"el ingreso de datos fue \",inputstring)"
   ]
  },
  {
   "cell_type": "code",
   "execution_count": 10,
   "metadata": {},
   "outputs": [
    {
     "name": "stdout",
     "output_type": "stream",
     "text": [
      "Please enter your name  Florencia 45\n",
      "Please enter your age  45\n",
      "Name & Age:  Florencia 45 45\n"
     ]
    }
   ],
   "source": [
    "# Taking name of the user as input\n",
    "# and storing it name variable\n",
    "name = input(\"Please Enter Your Name: \")\n",
    "print(\"Please enter your name \",name)\n",
    "# taking age of the user as input and\n",
    "# storing in into variable age\n",
    "age = input(\"Please Enter Your Age: \")\n",
    "print(\"Please enter your age \",age)\n",
    "print(\"Name & Age: \", name, age)\n"
   ]
  },
  {
   "cell_type": "code",
   "execution_count": 10,
   "metadata": {},
   "outputs": [
    {
     "name": "stdout",
     "output_type": "stream",
     "text": [
      "23\n",
      "29\n",
      "31\n",
      "37\n",
      "41\n",
      "43\n",
      "47\n",
      "31\n",
      "37\n",
      "41\n",
      "43\n",
      "47\n",
      "53\n",
      "59\n",
      "Fin del proceso\n"
     ]
    }
   ],
   "source": [
    "primo = True\n",
    "seguir = True\n",
    "\n",
    "while seguir == True:\n",
    "    rango_a=input(\"Introduce starting range: \",)\n",
    "    rango_b=input(\"Introduce upper range: \",)\n",
    "    n=int(rango_a)\n",
    "    while (n < int(rango_b)):\n",
    "        for div in range(2, n):\n",
    "            if (n % div == 0):\n",
    "                primo = False\n",
    "                break\n",
    "        if (primo):\n",
    "            print(n)\n",
    "        else:\n",
    "            primo = True\n",
    "        n += 1\n",
    "    else: \n",
    "        a=input(\"Do you want to start again? 0 for No or 1 for Yes\",)\n",
    "    seguir=bool(int(a))\n",
    "    if seguir==False:\n",
    "        print(\"Fin del proceso\")\n",
    "\n"
   ]
  },
  {
   "cell_type": "code",
   "execution_count": 8,
   "metadata": {},
   "outputs": [
    {
     "name": "stdout",
     "output_type": "stream",
     "text": [
      "0\n",
      "1\n",
      "2\n",
      "3\n",
      "0\n",
      "1\n",
      "2\n",
      "3\n",
      "0\n",
      "1\n",
      "2\n",
      "3\n",
      "0\n",
      "1\n",
      "2\n",
      "3\n",
      "Fin del proceso\n"
     ]
    }
   ],
   "source": [
    "\n",
    "seguir= True\n",
    "while seguir == True:\n",
    "    n=0\n",
    "    for n in range (0,4): \n",
    "        print(n)\n",
    "        n+=1\n",
    "    else: \n",
    "        a=input(\"Do you want to start again? 0 for No or 1 for Yes\",)\n",
    "    seguir=bool(int(a))\n",
    "    if seguir==False:\n",
    "        print(\"Fin del proceso\")"
   ]
  },
  {
   "cell_type": "code",
   "execution_count": 3,
   "metadata": {},
   "outputs": [
    {
     "name": "stdout",
     "output_type": "stream",
     "text": [
      "False\n"
     ]
    }
   ],
   "source": [
    "a=bool(0)\n",
    "print(a)"
   ]
  },
  {
   "cell_type": "code",
   "execution_count": 6,
   "metadata": {},
   "outputs": [
    {
     "name": "stdout",
     "output_type": "stream",
     "text": [
      "x es negativo\n"
     ]
    }
   ],
   "source": [
    "x=int(input())\n",
    "if x < 0:\n",
    "    print('x es negativo')\n",
    "elif x >=0:\n",
    "    print('x es positivo')"
   ]
  },
  {
   "cell_type": "code",
   "execution_count": 4,
   "metadata": {},
   "outputs": [
    {
     "name": "stdout",
     "output_type": "stream",
     "text": [
      "los objetos son de distintos tipos de datos\n"
     ]
    }
   ],
   "source": [
    "a1 =\"hola\"\n",
    "a2 =3\n",
    "if type(a1) == type(a2):\n",
    "    print('los objetos son del mismo tipo de Datos')\n",
    "else:\n",
    "    print('los objetos son de distintos tipos de datos')"
   ]
  },
  {
   "cell_type": "code",
   "execution_count": 6,
   "metadata": {},
   "outputs": [
    {
     "name": "stdout",
     "output_type": "stream",
     "text": [
      "0  es par\n",
      "1  es impar\n",
      "2  es par\n",
      "3  es impar\n",
      "4  es par\n",
      "5  es impar\n",
      "6  es par\n",
      "7  es impar\n",
      "8  es par\n",
      "9  es impar\n",
      "10  es par\n",
      "11  es impar\n",
      "12  es par\n",
      "13  es impar\n",
      "14  es par\n",
      "15  es impar\n",
      "16  es par\n",
      "17  es impar\n",
      "18  es par\n",
      "19  es impar\n",
      "20  es par\n"
     ]
    }
   ],
   "source": [
    "for i in range(0,21):\n",
    "    if i % 2 == 0:\n",
    "        print(i,\" es par\")\n",
    "    else: \n",
    "        print(i,\" es impar\")\n",
    "    "
   ]
  },
  {
   "cell_type": "code",
   "execution_count": 7,
   "metadata": {},
   "outputs": [
    {
     "name": "stdout",
     "output_type": "stream",
     "text": [
      "0\n",
      "1\n",
      "8\n",
      "27\n",
      "64\n",
      "125\n"
     ]
    }
   ],
   "source": [
    "for i in range(0,6):\n",
    "    print(i*i*i)"
   ]
  },
  {
   "cell_type": "code",
   "execution_count": 18,
   "metadata": {},
   "outputs": [
    {
     "name": "stdout",
     "output_type": "stream",
     "text": [
      "[10, 2, 3, 6, 6, 6, 5]\n",
      "[2, 3, 5, 6, 6, 6]\n",
      "1\n",
      "10\n",
      "6\n"
     ]
    }
   ],
   "source": [
    "#encontrar el segundo mejor valor de una lista de numeros enteros\n",
    "n=0\n",
    "A=[10,2,3,6,6,6,5]\n",
    "B=A.copy()\n",
    "B.sort(reverse=False)\n",
    "ultimo=B.pop()\n",
    "contador=A.count(ultimo)\n",
    "print(A)\n",
    "print(B)\n",
    "print(contador)\n",
    "print(ultimo)\n",
    "n=0\n",
    "runner_up=0\n",
    "while n < contador:\n",
    "    runner_up=B.pop()\n",
    "    n+=1\n",
    "\n",
    "print(runner_up)\n"
   ]
  },
  {
   "cell_type": "code",
   "execution_count": 23,
   "metadata": {},
   "outputs": [
    {
     "name": "stdout",
     "output_type": "stream",
     "text": [
      "3\n",
      "['red', 'black']\n",
      "red\n"
     ]
    }
   ],
   "source": [
    "nested_list = [['blue', 'green'], ['red', 'black'], ['blue', 'white']]\n",
    "print(len(nested_list))\n",
    "print(nested_list[1])\n",
    "print(nested_list[1][0])"
   ]
  },
  {
   "cell_type": "code",
   "execution_count": 24,
   "metadata": {},
   "outputs": [
    {
     "name": "stdout",
     "output_type": "stream",
     "text": [
      "blue\n",
      "green\n",
      "red\n",
      "black\n",
      "blue\n",
      "white\n"
     ]
    }
   ],
   "source": [
    "for inner in nested_list:\n",
    "    for value in inner:\n",
    "        print(value)"
   ]
  },
  {
   "cell_type": "code",
   "execution_count": 25,
   "metadata": {},
   "outputs": [
    {
     "name": "stdout",
     "output_type": "stream",
     "text": [
      "[['alpha', '20'], ['beta', '50'], ['fi', '50']]\n"
     ]
    }
   ],
   "source": [
    "# Initialize an empty list to store the final output\n",
    "my_list = []\n",
    "\n",
    "# Initialize an empty temporary list to store each sub-list\n",
    "temp_list = []\n",
    "\n",
    "# Take input from the user for the number of sub-lists\n",
    "N = int(input('Enter the number of sub-lists: '))\n",
    "\n",
    "# Loop over the range of n to take input for each sub-list\n",
    "for i in range(N):\n",
    "    \n",
    "    # Loop over the range of 2 to take input for each element in the sub-list\n",
    "    for j in range(2):\n",
    "        \n",
    "        # Take input from the user for the current element\n",
    "        temp_list.append(input())\n",
    "    \n",
    "    # Append the current sub-list to the final list\n",
    "    my_list.append(temp_list)\n",
    "    \n",
    "    # Reset the temporary list to an empty list for the next iteration\n",
    "    temp_list = []\n",
    "\n",
    "# Print the final output\n",
    "print(my_list)"
   ]
  },
  {
   "cell_type": "code",
   "execution_count": 26,
   "metadata": {},
   "outputs": [
    {
     "name": "stdout",
     "output_type": "stream",
     "text": [
      "beta\n",
      "fi\n"
     ]
    }
   ],
   "source": [
    "if __name__ == '__main__':\n",
    "    names = []\n",
    "    scores = []\n",
    "    for _ in range(int(input())):\n",
    "        name = input()\n",
    "        score = float(input())\n",
    "        names.append(name)\n",
    "        scores.append(score)\n",
    "    records = dict(zip(names,scores))\n",
    "    secondlow = sorted(set(scores))[1]\n",
    "    twolow = []\n",
    "    for student,grade in records.items():\n",
    "        if grade == secondlow:\n",
    "            twolow.append(student)\n",
    "    twolow.sort()\n",
    "    \n",
    "    for student in twolow:\n",
    "        print(student)"
   ]
  },
  {
   "cell_type": "code",
   "execution_count": 28,
   "metadata": {},
   "outputs": [
    {
     "name": "stdout",
     "output_type": "stream",
     "text": [
      "beta\n",
      "fi\n"
     ]
    }
   ],
   "source": [
    "if __name__ == '__main__':\n",
    "    students = []\n",
    "    scores = set()\n",
    "    for _ in range(int(input())):\n",
    "        name = input()\n",
    "        score = float(input())\n",
    "        students.append((name, score))\n",
    "        scores.add(score)\n",
    "    \n",
    "    second_lowerest = sorted(scores)[1]\n",
    "    \n",
    "    print(*sorted([name for name, score in students if score==second_lowerest]),sep='\\n')"
   ]
  }
 ],
 "metadata": {
  "kernelspec": {
   "display_name": "Python 3",
   "language": "python",
   "name": "python3"
  },
  "language_info": {
   "codemirror_mode": {
    "name": "ipython",
    "version": 3
   },
   "file_extension": ".py",
   "mimetype": "text/x-python",
   "name": "python",
   "nbconvert_exporter": "python",
   "pygments_lexer": "ipython3",
   "version": "3.11.5"
  },
  "orig_nbformat": 4
 },
 "nbformat": 4,
 "nbformat_minor": 2
}

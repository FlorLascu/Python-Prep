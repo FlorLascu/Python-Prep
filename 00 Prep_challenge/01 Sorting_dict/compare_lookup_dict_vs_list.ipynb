{
 "cells": [
  {
   "cell_type": "code",
   "execution_count": null,
   "metadata": {},
   "outputs": [],
   "source": []
  },
  {
   "cell_type": "code",
   "execution_count": null,
   "metadata": {},
   "outputs": [],
   "source": [
    "from timeit import timeit\n",
    "\n",
    "lookups = [15, 18, 19, 16, 6, 12, 5, 3, 9, 20, 2, 10, 13, 17, 4, 14, 11, 7, 8]\n",
    "\n",
    "list_setup = \"\"\"\n",
    "from samples import list_of_dictionaries\n",
    "\n",
    "def get_key_from_list(key):\n",
    "    for item in list_of_dictionaries:\n",
    "        if item[\"id\"] == key:\n",
    "            return item\n",
    "\"\"\"\n",
    "\n",
    "dict_setup = \"from samples import dictionary_of_dictionaries\"\n",
    "\n",
    "lookup_list = \"\"\"\n",
    "for key in lookups:\n",
    "    get_key_from_list(key)\n",
    "\"\"\"\n",
    "\n",
    "lookup_dict = \"\"\"\n",
    "for key in lookups:\n",
    "    dictionary_of_dictionaries[key]\n",
    "\"\"\"\n",
    "\n",
    "lookup_list_time = timeit(\n",
    "    stmt=lookup_list, setup=list_setup, globals=globals()\n",
    ")\n",
    "lookup_dict_time = timeit(\n",
    "    stmt=lookup_dict, setup=dict_setup, globals=globals()\n",
    ")\n",
    "\n",
    "print(\n",
    "    f\"\"\"\\\n",
    "{lookup_list_time=:.2f} seconds\n",
    "{lookup_dict_time=:.2f} seconds\n",
    "dict is {(lookup_list_time / lookup_dict_time):.2f} times faster\"\"\"\n",
    ")\n"
   ]
  }
 ],
 "metadata": {
  "language_info": {
   "name": "python"
  },
  "orig_nbformat": 4
 },
 "nbformat": 4,
 "nbformat_minor": 2
}

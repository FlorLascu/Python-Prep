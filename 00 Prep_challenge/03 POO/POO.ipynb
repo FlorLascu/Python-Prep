{
 "cells": [
  {
   "cell_type": "code",
   "execution_count": 20,
   "metadata": {},
   "outputs": [],
   "source": [
    "class Estudiante:\n",
    "    def __init__(self,nombre,edad,sexo,altura):\n",
    "        self.nombre = nombre\n",
    "        self.edad = edad\n",
    "        self.sexo = sexo\n",
    "        self.altura = altura\n",
    "    \n",
    "    def presentar(self):\n",
    "        return print('Nombre:',self.nombre,'Edad:', self.edad,'Sexo:',self.sexo, 'Altura:', self.altura )\n"
   ]
  },
  {
   "cell_type": "code",
   "execution_count": 21,
   "metadata": {},
   "outputs": [],
   "source": [
    "est1= Estudiante('Eduardo',25,'m',1.7)\n",
    "est2= Estudiante('Pedro', 35,'m',1.8)\n",
    "est3 = Estudiante('Jose',20,'m',1.78)\n"
   ]
  },
  {
   "cell_type": "code",
   "execution_count": 22,
   "metadata": {},
   "outputs": [
    {
     "name": "stdout",
     "output_type": "stream",
     "text": [
      "Nombre: Eduardo Edad: 25 Sexo: m Altura: 1.7\n"
     ]
    }
   ],
   "source": [
    "est1.presentar()"
   ]
  },
  {
   "cell_type": "code",
   "execution_count": 23,
   "metadata": {},
   "outputs": [
    {
     "name": "stdout",
     "output_type": "stream",
     "text": [
      "Nombre: Pedro Edad: 35 Sexo: m Altura: 1.8\n"
     ]
    }
   ],
   "source": [
    "est2.presentar()"
   ]
  },
  {
   "cell_type": "code",
   "execution_count": 24,
   "metadata": {},
   "outputs": [],
   "source": [
    "class Cuenta_Bancaria:\n",
    "    def __init__(self,saldo):\n",
    "        self.__saldo = saldo\n",
    "\n",
    "    def depositar(self,monto):\n",
    "        self.__saldo += monto\n",
    "    \n",
    "    def retirar(self,monto):\n",
    "        if self.saldo >= monto:\n",
    "            self.__saldo -=monto\n",
    "        else:\n",
    "            print(\"Saldo insuficiente\")\n",
    "\n",
    "    def obtener_saldo(self,monto):\n",
    "        return self.__saldo\n",
    "    \n",
    "\n",
    "\n"
   ]
  },
  {
   "cell_type": "code",
   "execution_count": 25,
   "metadata": {},
   "outputs": [],
   "source": [
    "import math"
   ]
  },
  {
   "cell_type": "code",
   "execution_count": 28,
   "metadata": {},
   "outputs": [
    {
     "name": "stdout",
     "output_type": "stream",
     "text": [
      "4.0\n"
     ]
    }
   ],
   "source": [
    "x=16\n",
    "raiz_cuadrada=math.sqrt(x)\n",
    "print(raiz_cuadrada)"
   ]
  },
  {
   "cell_type": "code",
   "execution_count": 29,
   "metadata": {},
   "outputs": [],
   "source": [
    "import mimodulo"
   ]
  },
  {
   "cell_type": "code",
   "execution_count": 31,
   "metadata": {},
   "outputs": [
    {
     "name": "stdout",
     "output_type": "stream",
     "text": [
      "8\n",
      "-2\n"
     ]
    }
   ],
   "source": [
    "print(mimodulo.suma(3,5))\n",
    "print(mimodulo.resta(3,5))"
   ]
  },
  {
   "cell_type": "code",
   "execution_count": 32,
   "metadata": {},
   "outputs": [
    {
     "name": "stdout",
     "output_type": "stream",
     "text": [
      "['c:\\\\Users\\\\Florencia\\\\Desktop\\\\Python-Prep\\\\POO', 'c:\\\\Users\\\\Florencia\\\\AppData\\\\Local\\\\Programs\\\\Python\\\\Python311\\\\python311.zip', 'c:\\\\Users\\\\Florencia\\\\AppData\\\\Local\\\\Programs\\\\Python\\\\Python311\\\\DLLs', 'c:\\\\Users\\\\Florencia\\\\AppData\\\\Local\\\\Programs\\\\Python\\\\Python311\\\\Lib', 'c:\\\\Users\\\\Florencia\\\\AppData\\\\Local\\\\Programs\\\\Python\\\\Python311', '', 'C:\\\\Users\\\\Florencia\\\\AppData\\\\Roaming\\\\Python\\\\Python311\\\\site-packages', 'C:\\\\Users\\\\Florencia\\\\AppData\\\\Roaming\\\\Python\\\\Python311\\\\site-packages\\\\win32', 'C:\\\\Users\\\\Florencia\\\\AppData\\\\Roaming\\\\Python\\\\Python311\\\\site-packages\\\\win32\\\\lib', 'C:\\\\Users\\\\Florencia\\\\AppData\\\\Roaming\\\\Python\\\\Python311\\\\site-packages\\\\Pythonwin', 'c:\\\\Users\\\\Florencia\\\\AppData\\\\Local\\\\Programs\\\\Python\\\\Python311\\\\Lib\\\\site-packages']\n"
     ]
    }
   ],
   "source": [
    "import sys\n",
    "print(sys.path)"
   ]
  },
  {
   "cell_type": "code",
   "execution_count": 2,
   "metadata": {},
   "outputs": [
    {
     "name": "stdout",
     "output_type": "stream",
     "text": [
      "[1, 2, 3, 4]\n"
     ]
    }
   ],
   "source": [
    "lista=list(range(1,5))\n",
    "print(lista)"
   ]
  },
  {
   "cell_type": "code",
   "execution_count": 3,
   "metadata": {},
   "outputs": [
    {
     "name": "stdout",
     "output_type": "stream",
     "text": [
      "3\n"
     ]
    }
   ],
   "source": [
    "c=lista.pop(2)\n",
    "print(c)"
   ]
  },
  {
   "cell_type": "code",
   "execution_count": 4,
   "metadata": {},
   "outputs": [
    {
     "name": "stdout",
     "output_type": "stream",
     "text": [
      "Help on list object:\n",
      "\n",
      "class list(object)\n",
      " |  list(iterable=(), /)\n",
      " |  \n",
      " |  Built-in mutable sequence.\n",
      " |  \n",
      " |  If no argument is given, the constructor creates a new empty list.\n",
      " |  The argument must be an iterable if specified.\n",
      " |  \n",
      " |  Methods defined here:\n",
      " |  \n",
      " |  __add__(self, value, /)\n",
      " |      Return self+value.\n",
      " |  \n",
      " |  __contains__(self, key, /)\n",
      " |      Return key in self.\n",
      " |  \n",
      " |  __delitem__(self, key, /)\n",
      " |      Delete self[key].\n",
      " |  \n",
      " |  __eq__(self, value, /)\n",
      " |      Return self==value.\n",
      " |  \n",
      " |  __ge__(self, value, /)\n",
      " |      Return self>=value.\n",
      " |  \n",
      " |  __getattribute__(self, name, /)\n",
      " |      Return getattr(self, name).\n",
      " |  \n",
      " |  __getitem__(...)\n",
      " |      x.__getitem__(y) <==> x[y]\n",
      " |  \n",
      " |  __gt__(self, value, /)\n",
      " |      Return self>value.\n",
      " |  \n",
      " |  __iadd__(self, value, /)\n",
      " |      Implement self+=value.\n",
      " |  \n",
      " |  __imul__(self, value, /)\n",
      " |      Implement self*=value.\n",
      " |  \n",
      " |  __init__(self, /, *args, **kwargs)\n",
      " |      Initialize self.  See help(type(self)) for accurate signature.\n",
      " |  \n",
      " |  __iter__(self, /)\n",
      " |      Implement iter(self).\n",
      " |  \n",
      " |  __le__(self, value, /)\n",
      " |      Return self<=value.\n",
      " |  \n",
      " |  __len__(self, /)\n",
      " |      Return len(self).\n",
      " |  \n",
      " |  __lt__(self, value, /)\n",
      " |      Return self<value.\n",
      " |  \n",
      " |  __mul__(self, value, /)\n",
      " |      Return self*value.\n",
      " |  \n",
      " |  __ne__(self, value, /)\n",
      " |      Return self!=value.\n",
      " |  \n",
      " |  __repr__(self, /)\n",
      " |      Return repr(self).\n",
      " |  \n",
      " |  __reversed__(self, /)\n",
      " |      Return a reverse iterator over the list.\n",
      " |  \n",
      " |  __rmul__(self, value, /)\n",
      " |      Return value*self.\n",
      " |  \n",
      " |  __setitem__(self, key, value, /)\n",
      " |      Set self[key] to value.\n",
      " |  \n",
      " |  __sizeof__(self, /)\n",
      " |      Return the size of the list in memory, in bytes.\n",
      " |  \n",
      " |  append(self, object, /)\n",
      " |      Append object to the end of the list.\n",
      " |  \n",
      " |  clear(self, /)\n",
      " |      Remove all items from list.\n",
      " |  \n",
      " |  copy(self, /)\n",
      " |      Return a shallow copy of the list.\n",
      " |  \n",
      " |  count(self, value, /)\n",
      " |      Return number of occurrences of value.\n",
      " |  \n",
      " |  extend(self, iterable, /)\n",
      " |      Extend list by appending elements from the iterable.\n",
      " |  \n",
      " |  index(self, value, start=0, stop=9223372036854775807, /)\n",
      " |      Return first index of value.\n",
      " |      \n",
      " |      Raises ValueError if the value is not present.\n",
      " |  \n",
      " |  insert(self, index, object, /)\n",
      " |      Insert object before index.\n",
      " |  \n",
      " |  pop(self, index=-1, /)\n",
      " |      Remove and return item at index (default last).\n",
      " |      \n",
      " |      Raises IndexError if list is empty or index is out of range.\n",
      " |  \n",
      " |  remove(self, value, /)\n",
      " |      Remove first occurrence of value.\n",
      " |      \n",
      " |      Raises ValueError if the value is not present.\n",
      " |  \n",
      " |  reverse(self, /)\n",
      " |      Reverse *IN PLACE*.\n",
      " |  \n",
      " |  sort(self, /, *, key=None, reverse=False)\n",
      " |      Sort the list in ascending order and return None.\n",
      " |      \n",
      " |      The sort is in-place (i.e. the list itself is modified) and stable (i.e. the\n",
      " |      order of two equal elements is maintained).\n",
      " |      \n",
      " |      If a key function is given, apply it once to each list item and sort them,\n",
      " |      ascending or descending, according to their function values.\n",
      " |      \n",
      " |      The reverse flag can be set to sort in descending order.\n",
      " |  \n",
      " |  ----------------------------------------------------------------------\n",
      " |  Class methods defined here:\n",
      " |  \n",
      " |  __class_getitem__(...) from builtins.type\n",
      " |      See PEP 585\n",
      " |  \n",
      " |  ----------------------------------------------------------------------\n",
      " |  Static methods defined here:\n",
      " |  \n",
      " |  __new__(*args, **kwargs) from builtins.type\n",
      " |      Create and return a new object.  See help(type) for accurate signature.\n",
      " |  \n",
      " |  ----------------------------------------------------------------------\n",
      " |  Data and other attributes defined here:\n",
      " |  \n",
      " |  __hash__ = None\n",
      "\n"
     ]
    }
   ],
   "source": [
    "help(lista)"
   ]
  },
  {
   "cell_type": "code",
   "execution_count": 46,
   "metadata": {},
   "outputs": [],
   "source": [
    "class Funciones:\n",
    "    def __init__(self,lista_numeros):\n",
    "        self.lista = lista_numeros\n",
    "    \n",
    "    def list_primo(self,b):\n",
    "        c=[] #lista donde almacenar los numeros primos de la lista\n",
    "        for i in self.lista: #iterar por cada elemento de la lista b\n",
    "            if self.__es_primo(int(i)):\n",
    "                c.append(i) #almacenar en c todos los elementos de b que sean primos\n",
    "        return c   \n",
    "\n",
    "    def convert_temp(self,valor,origen,destino):\n",
    "        for i in self.lista:\n",
    "            self.__convert_temp(i,origen,destino)\n",
    "\n",
    "    def factorial(self,n):\n",
    "        e=[]\n",
    "        for i in self.lista:\n",
    "            j=self.__ft(i)\n",
    "            e.append(j)\n",
    "        return e\n",
    "\n",
    "    def __es_primo(self,a):\n",
    "        primo = True #defino la variable de resultado\n",
    "        for div in range (2,a): # itera el divisor desde 2 hasta a-1 \n",
    "            if (a % div==0): #si el resto de a por cualquier numero desde 2 a a-1 es cero => No es primo\n",
    "                primo=False\n",
    "                break\n",
    "        return primo # sino primo sigue siendo True\n",
    "    \n",
    "    def sacar_valor(self,listaA):\n",
    "        moda=0\n",
    "        veces_repetido=0\n",
    "        for num in listaA:\n",
    "            numero_modal=listaA.count(num)\n",
    "            if numero_modal > veces_repetido:\n",
    "                veces_repetido=numero_modal\n",
    "                moda=num\n",
    "        return moda,veces_repetido\n",
    "    \n",
    "    def __ft(self,n):\n",
    "        f=1\n",
    "        if type(n)!=int:\n",
    "            print(\"Input error n not integer\")\n",
    "            return None\n",
    "        elif n < 0:\n",
    "            print(\"Input error n is negative\")\n",
    "            return None\n",
    "        else:\n",
    "            for n in range (1,n+1):\n",
    "                f=f*n\n",
    "        return f\n",
    "\n",
    "    def __convert_temp(self,valor,origen,destino):\n",
    "        if origen == 'C':\n",
    "            if destino == 'C':\n",
    "                valor_destino = valor # No hay conversion \n",
    "                print(valor,\"\",origen,\"son equivalentes a \",valor_destino,\" \",destino)\n",
    "            elif destino == 'F':\n",
    "                valor_destino = valor*9/5+32\n",
    "                print(valor,\"\",origen,\"son equivalentes a \",valor_destino,\" \",destino)\n",
    "            elif destino == 'K':\n",
    "                valor_destino = valor + 273.15\n",
    "                print(valor,\"\",origen,\"son equivalentes a \",valor_destino,\" \",destino)\n",
    "        elif origen == 'F':\n",
    "            if destino == 'F': # No hay conversion\n",
    "                valor_destino = valor\n",
    "                print(valor,\"\",origen,\"son equivalentes a \",valor_destino,\" \",destino)\n",
    "            elif destino == 'C':\n",
    "                valor_destino = valor*5/9-17.777\n",
    "                print(valor,\"\",origen,\"son equivalentes a \",valor_destino,\" \",destino)\n",
    "            elif destino == 'K':\n",
    "                valor_destino = valor * 0.556+255.37\n",
    "                print(valor,\"\",origen,\"son equivalentes a \",valor_destino,\" \",destino)\n",
    "        elif origen == 'K':\n",
    "            if destino == 'K': # No hay conversion\n",
    "                valor_destino = valor\n",
    "                print(valor,\"\",origen,\"son equivalentes a \",valor_destino,\" \",destino)\n",
    "            elif destino == 'C':\n",
    "                valor_destino= valor - 273.15\n",
    "                print(valor,\"\",origen,\"son equivalentes a \",valor_destino,\" \",destino)\n",
    "            elif destino == 'F':\n",
    "                valor_destino=1.8*valor-439.67\n",
    "                print(valor,\"\",origen,\"son equivalentes a \",valor_destino,\" \",destino)\n",
    "        return valor_destino,destino   \n",
    "    "
   ]
  },
  {
   "cell_type": "code",
   "execution_count": 47,
   "metadata": {},
   "outputs": [],
   "source": [
    "f=Funciones([2,2,2,3,4,5,5,10,12,15])"
   ]
  },
  {
   "cell_type": "code",
   "execution_count": 16,
   "metadata": {},
   "outputs": [
    {
     "name": "stdout",
     "output_type": "stream",
     "text": [
      "2  C son equivalentes a  35.6   F\n",
      "2  C son equivalentes a  35.6   F\n",
      "2  C son equivalentes a  35.6   F\n",
      "3  C son equivalentes a  37.4   F\n",
      "4  C son equivalentes a  39.2   F\n",
      "5  C son equivalentes a  41.0   F\n",
      "5  C son equivalentes a  41.0   F\n",
      "10  C son equivalentes a  50.0   F\n",
      "12  C son equivalentes a  53.6   F\n",
      "15  C son equivalentes a  59.0   F\n"
     ]
    }
   ],
   "source": [
    "f.convert_temp([2,2,2,3,4,5,5,10,12,15],'C','F')"
   ]
  },
  {
   "cell_type": "code",
   "execution_count": 33,
   "metadata": {},
   "outputs": [],
   "source": [
    "G=[2,2,2,3,4,5,5,10,12,15]"
   ]
  },
  {
   "cell_type": "code",
   "execution_count": 48,
   "metadata": {},
   "outputs": [
    {
     "data": {
      "text/plain": [
       "[2, 2, 2, 6, 24, 120, 120, 3628800, 479001600, 1307674368000]"
      ]
     },
     "execution_count": 48,
     "metadata": {},
     "output_type": "execute_result"
    }
   ],
   "source": [
    "f.factorial(G)"
   ]
  },
  {
   "cell_type": "code",
   "execution_count": 35,
   "metadata": {},
   "outputs": [
    {
     "data": {
      "text/plain": [
       "[2, 2, 2, 3, 5, 5]"
      ]
     },
     "execution_count": 35,
     "metadata": {},
     "output_type": "execute_result"
    }
   ],
   "source": [
    "f.list_primo(G)"
   ]
  },
  {
   "cell_type": "code",
   "execution_count": 26,
   "metadata": {},
   "outputs": [
    {
     "name": "stdout",
     "output_type": "stream",
     "text": [
      "2  F son equivalentes a  256.482   K\n",
      "2  F son equivalentes a  256.482   K\n",
      "2  F son equivalentes a  256.482   K\n",
      "3  F son equivalentes a  257.038   K\n",
      "4  F son equivalentes a  257.594   K\n",
      "5  F son equivalentes a  258.15   K\n",
      "5  F son equivalentes a  258.15   K\n",
      "10  F son equivalentes a  260.93   K\n",
      "12  F son equivalentes a  262.04200000000003   K\n",
      "15  F son equivalentes a  263.71   K\n"
     ]
    }
   ],
   "source": [
    "f.convert_temp(G,'F','K')"
   ]
  },
  {
   "cell_type": "code",
   "execution_count": 49,
   "metadata": {},
   "outputs": [
    {
     "data": {
      "text/plain": [
       "(2, 3)"
      ]
     },
     "execution_count": 49,
     "metadata": {},
     "output_type": "execute_result"
    }
   ],
   "source": [
    "f.sacar_valor(G)"
   ]
  }
 ],
 "metadata": {
  "kernelspec": {
   "display_name": "Python 3",
   "language": "python",
   "name": "python3"
  },
  "language_info": {
   "codemirror_mode": {
    "name": "ipython",
    "version": 3
   },
   "file_extension": ".py",
   "mimetype": "text/x-python",
   "name": "python",
   "nbconvert_exporter": "python",
   "pygments_lexer": "ipython3",
   "version": "3.11.5"
  },
  "orig_nbformat": 4
 },
 "nbformat": 4,
 "nbformat_minor": 2
}

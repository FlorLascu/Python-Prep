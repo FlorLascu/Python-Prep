{
 "cells": [
  {
   "cell_type": "code",
   "execution_count": 4,
   "metadata": {},
   "outputs": [],
   "source": [
    "def obtenerSoloLosMejores(estudiantes, nota1, nota2):\n",
    "  '''\"estudiantes\" es un array de objetos \"estudiante\". Crea un nuevo array con el nombre y apellido de los estudiantes\n",
    "    que en sus propiedades \"check1\" y \"check2\", tengan una nota mayor o igual a \"nota1\" y \"nota2\" respectivamente.\n",
    "    // Ej:\n",
    "    /* var estudiantes = [\n",
    "          { nombre: \"Mengano\", apellido: \"Solis\", check1: 16, check2: 8},\n",
    "          { nombre: \"Fulano\", apellido: \"Rodriguez\", check1: 20, check2: 20},\n",
    "          { nombre: \"Zutano\", apellido: \"Alvarez\", check1: 10, check2: 0},\n",
    "          { nombre: \"Perengano\", apellido: \"Leiria\", check1: 17, check2: 19}\n",
    "      ] */\n",
    "    // obtenerSoloLosMejores(estudiantes, 15, 15); retorna => [\"Fulanito Rodriguez\", \"Perengano Leiria\"];\n",
    "  '''\n",
    "  # Tu código:\n",
    "  res = []\n",
    "  for estudiante in estudiantes:\n",
    "      if estudiante['check1'] >= nota1 and estudiante['check2'] >= nota2:\n",
    "        res.append(f\"{estudiante['nombre']} {estudiante['apellido']}\")\n",
    "  return res"
   ]
  },
  {
   "cell_type": "code",
   "execution_count": 5,
   "metadata": {},
   "outputs": [],
   "source": [
    "estudiantes = [\n",
    "          { 'nombre': \"Mengano\", 'apellido': \"Solis\", 'check1': 16, 'check2': 8},\n",
    "          { 'nombre': \"Fulano\", 'apellido': \"Rodriguez\", 'check1': 20, 'check2': 20},\n",
    "          { 'nombre': \"Zutano\", 'apellido': \"Alvarez\", 'check1': 10, 'check2': 0},\n",
    "          { 'nombre': \"Perengano\", 'apellido': \"Leiria\", 'check1': 17, 'check2': 19}\n",
    "      ]"
   ]
  },
  {
   "cell_type": "code",
   "execution_count": 6,
   "metadata": {},
   "outputs": [
    {
     "data": {
      "text/plain": [
       "['Fulano Rodriguez', 'Perengano Leiria']"
      ]
     },
     "execution_count": 6,
     "metadata": {},
     "output_type": "execute_result"
    }
   ],
   "source": [
    "obtenerSoloLosMejores(estudiantes, 15, 15)"
   ]
  },
  {
   "cell_type": "code",
   "execution_count": 7,
   "metadata": {},
   "outputs": [
    {
     "data": {
      "text/plain": [
       "['Mengano Solis', 'Fulano Rodriguez', 'Perengano Leiria']"
      ]
     },
     "execution_count": 7,
     "metadata": {},
     "output_type": "execute_result"
    }
   ],
   "source": [
    "obtenerSoloLosMejores(estudiantes, 10, 8)"
   ]
  },
  {
   "cell_type": "code",
   "execution_count": 10,
   "metadata": {},
   "outputs": [],
   "source": [
    "def repetirCaracteres(string):\n",
    "  '''Escribi una funcion llamada 'repeatCharacters' en el prototypo del objeto global String\n",
    "  que reciba como parametro un string\n",
    "  y devuelve un string en donde cada letra se repita una vez.\n",
    "  Por ej:\n",
    "  'hola'.repeatCharacters() devuelve \"hhoollaa\" '''\n",
    "\n",
    "# Tu código aca:\n",
    "  inicio = list(string)\n",
    "  salida = []\n",
    "  for letter in string:\n",
    "    salida.append(letter*2)\n",
    "  return \"\".join(salida)"
   ]
  },
  {
   "cell_type": "code",
   "execution_count": 8,
   "metadata": {},
   "outputs": [],
   "source": [
    "string1 = 'hola'"
   ]
  },
  {
   "cell_type": "code",
   "execution_count": 12,
   "metadata": {},
   "outputs": [
    {
     "data": {
      "text/plain": [
       "'hheelllloo'"
      ]
     },
     "execution_count": 12,
     "metadata": {},
     "output_type": "execute_result"
    }
   ],
   "source": [
    "string2 = 'hello'\n",
    "repetirCaracteres(string2)"
   ]
  },
  {
   "cell_type": "code",
   "execution_count": 11,
   "metadata": {},
   "outputs": [
    {
     "data": {
      "text/plain": [
       "'hhoollaa'"
      ]
     },
     "execution_count": 11,
     "metadata": {},
     "output_type": "execute_result"
    }
   ],
   "source": [
    "repetirCaracteres(string1)"
   ]
  },
  {
   "cell_type": "code",
   "execution_count": 30,
   "metadata": {},
   "outputs": [],
   "source": [
    "def bienvenidoSr(persona):\n",
    "  '''La funcion recibe un objeto \"persona\".\n",
    "  de la forma:\n",
    "  {nombre: 'Lionel\n",
    "  apellido: 'Messi',\n",
    "  invitado: true\n",
    "  }\n",
    "  Si tiene la propiedad \"invitado\" y, además, tiene las propiedades \"nombre\" y \"apellido\", tomar esos valores y retorna:\n",
    "   \"Lionel Messi, un gusto tenerlo nuevamente! Bienvenido\".\n",
    "  Si tiene la propiedad \"invitado\" y solo tiene la propiedad \"apellido\", retornar:\n",
    "   \"Bienvenido Sr. Messi\".\n",
    "  Si tiene la propiedad \"invitado\" y solo tiene la propiedad \"nombre\", retornar:\n",
    "  \"Hola Lionel, tu mesa está lista\".\n",
    "  En caso de que no tenga la propiedad \"invitado\" retornar:\n",
    "  \"Disculpe señor, no está invitado a la fiesta\".'''\n",
    "  #Tu código:\n",
    "  keys = list(persona.keys())\n",
    "  if persona['invitado'] == False:\n",
    "    print(\"Disculpe señor, no está invitado a la fiesta\") \n",
    "  else:\n",
    "    if 'nombre' not in keys:\n",
    "      print(f\"Bienvenido Sr. {persona['apellido']}\")\n",
    "    else:\n",
    "      if 'apellido' not in keys:\n",
    "        print(f\"Hola {persona['nombre']}, tu mesa está lista\")\n",
    "      else:\n",
    "        print(f\"{persona['nombre']} {persona['apellido']}, un gusto tenerlo nuevamente! Bienvenido\")\n"
   ]
  },
  {
   "cell_type": "code",
   "execution_count": 28,
   "metadata": {},
   "outputs": [],
   "source": [
    "messi = {'nombre': 'Lionel',\n",
    "        'apellido': 'Messi',\n",
    "        'invitado': True}"
   ]
  },
  {
   "cell_type": "code",
   "execution_count": 32,
   "metadata": {},
   "outputs": [],
   "source": [
    "messi1 = {'nombre': 'Lionel',\n",
    "        'invitado': True}\n",
    "messi2 = {'apellido': 'Messi',\n",
    "        'invitado': True}\n",
    "messi3 = {'nombre': 'Lionel',\n",
    "        'apellido': 'Messi',\n",
    "        'invitado': False}"
   ]
  },
  {
   "cell_type": "code",
   "execution_count": 33,
   "metadata": {},
   "outputs": [
    {
     "name": "stdout",
     "output_type": "stream",
     "text": [
      "Lionel Messi, un gusto tenerlo nuevamente! Bienvenido\n",
      "Hola Lionel, tu mesa está lista\n",
      "Bienvenido Sr. Messi\n",
      "Disculpe señor, no está invitado a la fiesta\n"
     ]
    }
   ],
   "source": [
    "bienvenidoSr(messi)\n",
    "bienvenidoSr(messi1)\n",
    "bienvenidoSr(messi2)\n",
    "bienvenidoSr(messi3)"
   ]
  },
  {
   "cell_type": "code",
   "execution_count": 50,
   "metadata": {},
   "outputs": [],
   "source": [
    "def masFrecuente(array): \n",
    "  '''La funcion llamada 'masFrecuente' recibe como argumento un array de numeros enteros\n",
    "  y debe devolver el número entero que mas veces aparece (el más frecuente).\n",
    "  ej:\n",
    "  masFrecuente([1,1,2,3,4]) => 1\n",
    "  masFrecuente([3,2,3,2,3,3]) => 3\n",
    "  Nota: Los numeros pueden NO estar ordenados '''\n",
    "  \n",
    "  # Tu código aca:\n",
    "  mas_repe = 0\n",
    "  cantidad = 0\n",
    "  array.sort(reverse=False)\n",
    "  for x in array:\n",
    "    if array.count(x) > cantidad:\n",
    "      mas_repe = x\n",
    "      cantidad = array.count(x)\n",
    "  print(mas_repe)\n",
    "  "
   ]
  },
  {
   "cell_type": "code",
   "execution_count": 51,
   "metadata": {},
   "outputs": [
    {
     "name": "stdout",
     "output_type": "stream",
     "text": [
      "1\n"
     ]
    }
   ],
   "source": [
    "masFrecuente([1,1,2,3,4])"
   ]
  },
  {
   "cell_type": "code",
   "execution_count": 52,
   "metadata": {},
   "outputs": [
    {
     "name": "stdout",
     "output_type": "stream",
     "text": [
      "3\n"
     ]
    }
   ],
   "source": [
    "masFrecuente([3,2,3,2,3,3])"
   ]
  },
  {
   "cell_type": "code",
   "execution_count": 53,
   "metadata": {},
   "outputs": [],
   "source": [
    "def puntosDelEquipo(array):\n",
    "  '''la funcion recibe un array con los resultados de los partidos del campeonato de futbol de un equipo\n",
    "  en este formato [\"3:1\", \"2:2\", \"0:1\", ...]\n",
    "  la funcion debe calcular y retornar cuantos puntos consiguio el equipo teniendo en cuenta:\n",
    "  que su resultado es el primero en cada string\n",
    "  un partido ganado suma 3 puntos, empate suma 1 punto, y perder 0!'''\n",
    "  #Tu código aca:\n",
    "  score = 0\n",
    "  for puntaje in array:\n",
    "    scoreR = list(puntaje)\n",
    "    first = scoreR[0]\n",
    "    last = scoreR[2]\n",
    "    if first > last:\n",
    "      score = score +3\n",
    "    elif first == last:\n",
    "      score = score + 1\n",
    "  return score  "
   ]
  },
  {
   "cell_type": "code",
   "execution_count": 54,
   "metadata": {},
   "outputs": [],
   "source": [
    "resultados = ['3:1', '2:2', '0:1', '1:0', '2:1', '1:2', '1:1']"
   ]
  },
  {
   "cell_type": "code",
   "execution_count": 55,
   "metadata": {},
   "outputs": [
    {
     "data": {
      "text/plain": [
       "11"
      ]
     },
     "execution_count": 55,
     "metadata": {},
     "output_type": "execute_result"
    }
   ],
   "source": [
    "puntosDelEquipo(resultados)"
   ]
  },
  {
   "cell_type": "code",
   "execution_count": 79,
   "metadata": {},
   "outputs": [],
   "source": [
    "def intercambio(objeto):\n",
    "  '''Devolver un objeto con los pares clave-valor intercambiados.\n",
    "  Ej: intercambio({ nombre: \"Fulano\", apellido: \"Rodriguez\" }); devuelve => { Fulano: \"nombre\", Rodriguez: \"apellido\" }\n",
    "  NOTA: No utilizar métodos de Object (values, keys, entries);\n",
    "  '''\n",
    "  # Tu código:\n",
    "  newObj = {}\n",
    "  for prop in objeto:\n",
    "    newObj[objeto[prop]] = prop\n",
    "  return newObj"
   ]
  },
  {
   "cell_type": "code",
   "execution_count": 80,
   "metadata": {},
   "outputs": [],
   "source": [
    "objeto = { 'nombre': \"Fulano\", 'apellido': \"Rodriguez\" }"
   ]
  },
  {
   "cell_type": "code",
   "execution_count": 81,
   "metadata": {},
   "outputs": [
    {
     "data": {
      "text/plain": [
       "{'Fulano': 'nombre', 'Rodriguez': 'apellido'}"
      ]
     },
     "execution_count": 81,
     "metadata": {},
     "output_type": "execute_result"
    }
   ],
   "source": [
    "intercambio(objeto)"
   ]
  },
  {
   "cell_type": "code",
   "execution_count": 83,
   "metadata": {},
   "outputs": [],
   "source": [
    "def calculandoAreas(figura):\n",
    "    '''Constuye una funcion que reciba un objeto llamado \"figura\" como parametro. EL objeto, \"figura\" tendra las \n",
    "    propiedades \"tipo\", \"base\" y \"altura\".\n",
    "    La funcion debe calcular el area de la figura geometrica segun tipo y retornar el resultado. \n",
    "    las figuras geometricas soportadas son:\n",
    "    * Triangulo area : (base*altura)/2\n",
    "    * Rectangulo area : (base*altura)\n",
    "    Si el tipo de figura no es soportado, la funcion debe retornar null.\n",
    "    Ejemplo:\n",
    "    var figura = {tipo: triangulo, base : 6, altura: 4}\n",
    "    calculandoAreas(figura) --> retorna 12\n",
    "    Descripcion de la funcion:\n",
    "    La funcion calculandoAreas debe retornar un numero entero.\n",
    "    La funcion calculandoAreas recibe como parametros:\n",
    "        * figura : un objeto con las propiedades tipo cadena de letras base (numero), altura (numero)  \n",
    "    '''\n",
    "    #Tu codigo aca:\n",
    "    area = 0\n",
    "    if figura['tipo'] == \"triangulo\":\n",
    "        area = (figura['base']*figura['altura'])*1/2\n",
    "    elif figura['tipo'] == \"rectangulo\":\n",
    "        area = (figura['base']*figura['altura'])\n",
    "    return area\n",
    "        "
   ]
  },
  {
   "cell_type": "code",
   "execution_count": 84,
   "metadata": {},
   "outputs": [],
   "source": [
    "figura = {'tipo': 'triangulo', 'base' : 6, 'altura': 4}"
   ]
  },
  {
   "cell_type": "code",
   "execution_count": 85,
   "metadata": {},
   "outputs": [
    {
     "data": {
      "text/plain": [
       "12.0"
      ]
     },
     "execution_count": 85,
     "metadata": {},
     "output_type": "execute_result"
    }
   ],
   "source": [
    "calculandoAreas(figura)"
   ]
  },
  {
   "cell_type": "code",
   "execution_count": 2,
   "metadata": {},
   "outputs": [],
   "source": [
    "student_marks = {'Krishna': [67, 68, 69],\n",
    "                'Arjun': [70, 98, 63],\n",
    "                'Malika': [52 ,56 ,60]}\n"
   ]
  },
  {
   "cell_type": "code",
   "execution_count": 6,
   "metadata": {},
   "outputs": [],
   "source": [
    "query_name = 'Malika'"
   ]
  },
  {
   "cell_type": "code",
   "execution_count": 24,
   "metadata": {},
   "outputs": [],
   "source": [
    "def studentsMarkAverage(query_name):\n",
    "    average_score = 0\n",
    "    for i in range(3):\n",
    "        average_score = average_score + float(student_marks[query_name][i])\n",
    "        result = \"{:.2f}\".format(average_score/3)\n",
    "    return result"
   ]
  },
  {
   "cell_type": "code",
   "execution_count": 25,
   "metadata": {},
   "outputs": [
    {
     "data": {
      "text/plain": [
       "'56.00'"
      ]
     },
     "execution_count": 25,
     "metadata": {},
     "output_type": "execute_result"
    }
   ],
   "source": [
    "studentsMarkAverage(query_name)"
   ]
  },
  {
   "cell_type": "code",
   "execution_count": 29,
   "metadata": {},
   "outputs": [],
   "source": [
    "def studentsMarkAveragE(query_name):\n",
    "    average_score = 0\n",
    "    for i in range(3):\n",
    "        average_score = average_score + float(student_marks[query_name][i])\n",
    "        result = round(average_score/3,3)\n",
    "    return result"
   ]
  },
  {
   "cell_type": "code",
   "execution_count": 31,
   "metadata": {},
   "outputs": [
    {
     "data": {
      "text/plain": [
       "77.0"
      ]
     },
     "execution_count": 31,
     "metadata": {},
     "output_type": "execute_result"
    }
   ],
   "source": [
    "studentsMarkAveragE('Arjun')"
   ]
  },
  {
   "cell_type": "code",
   "execution_count": 33,
   "metadata": {},
   "outputs": [
    {
     "data": {
      "text/plain": [
       "68.0"
      ]
     },
     "execution_count": 33,
     "metadata": {},
     "output_type": "execute_result"
    }
   ],
   "source": [
    "studentsMarkAveragE('Krishna')"
   ]
  },
  {
   "cell_type": "code",
   "execution_count": 35,
   "metadata": {},
   "outputs": [],
   "source": [
    "import cmath as cm"
   ]
  },
  {
   "cell_type": "code",
   "execution_count": 36,
   "metadata": {},
   "outputs": [
    {
     "data": {
      "text/plain": [
       "1.1071487177940904"
      ]
     },
     "execution_count": 36,
     "metadata": {},
     "output_type": "execute_result"
    }
   ],
   "source": [
    "cm.phase(complex(1,2))"
   ]
  },
  {
   "cell_type": "code",
   "execution_count": 37,
   "metadata": {},
   "outputs": [
    {
     "data": {
      "text/plain": [
       "2.23606797749979"
      ]
     },
     "execution_count": 37,
     "metadata": {},
     "output_type": "execute_result"
    }
   ],
   "source": [
    "abs(complex(1,2))"
   ]
  },
  {
   "cell_type": "code",
   "execution_count": 41,
   "metadata": {},
   "outputs": [
    {
     "name": "stdout",
     "output_type": "stream",
     "text": [
      "(1+2j)\n"
     ]
    }
   ],
   "source": [
    "z = complex(1,2)\n",
    "print(z)"
   ]
  },
  {
   "cell_type": "code",
   "execution_count": 42,
   "metadata": {},
   "outputs": [],
   "source": [
    "import math"
   ]
  },
  {
   "cell_type": "code",
   "execution_count": 46,
   "metadata": {},
   "outputs": [
    {
     "name": "stdout",
     "output_type": "stream",
     "text": [
      "45 °\n"
     ]
    }
   ],
   "source": [
    "bc = 10\n",
    "ab = 10\n",
    "ac = (bc**2+ab**2)**(1/2)\n",
    "m = ac/2\n",
    "mc = m\n",
    "print(round(math.degrees(math.asin(mc/bc))),chr(176))"
   ]
  },
  {
   "cell_type": "code",
   "execution_count": 47,
   "metadata": {},
   "outputs": [
    {
     "data": {
      "text/plain": [
       "(17, 7)"
      ]
     },
     "execution_count": 47,
     "metadata": {},
     "output_type": "execute_result"
    }
   ],
   "source": [
    "divmod(177,10)"
   ]
  },
  {
   "cell_type": "code",
   "execution_count": 51,
   "metadata": {},
   "outputs": [
    {
     "name": "stdout",
     "output_type": "stream",
     "text": [
      "17\n",
      "7\n",
      "(17, 7)\n"
     ]
    }
   ],
   "source": [
    "a = 177\n",
    "b = 10\n",
    "print(a//b)\n",
    "print(a%b)\n",
    "print(divmod(a,b))"
   ]
  },
  {
   "cell_type": "code",
   "execution_count": 54,
   "metadata": {},
   "outputs": [
    {
     "name": "stdout",
     "output_type": "stream",
     "text": [
      "81\n",
      "1\n"
     ]
    }
   ],
   "source": [
    "import math\n",
    "a = 3\n",
    "b = 4\n",
    "m = 5\n",
    "print(pow(a,b))\n",
    "print(pow(a,b,m))"
   ]
  },
  {
   "cell_type": "code",
   "execution_count": 58,
   "metadata": {},
   "outputs": [
    {
     "data": {
      "text/plain": [
       "4"
      ]
     },
     "execution_count": 58,
     "metadata": {},
     "output_type": "execute_result"
    }
   ],
   "source": [
    "pow(4, 3, 5)"
   ]
  },
  {
   "cell_type": "code",
   "execution_count": 59,
   "metadata": {},
   "outputs": [
    {
     "data": {
      "text/plain": [
       "4"
      ]
     },
     "execution_count": 59,
     "metadata": {},
     "output_type": "execute_result"
    }
   ],
   "source": [
    "64%5"
   ]
  },
  {
   "cell_type": "code",
   "execution_count": 60,
   "metadata": {},
   "outputs": [],
   "source": [
    "def mi_decorador(funcion):\n",
    "    def nueva_funcion(a, b):\n",
    "        print(\"Se va a llamar\")\n",
    "        c = funcion(a, b)\n",
    "        print(\"Se ha llamado\")\n",
    "        return c\n",
    "    return nueva_funcion\n",
    "\n",
    "@mi_decorador\n",
    "def suma(a, b):\n",
    "    print(\"Entra en funcion suma\")\n",
    "    return a + b"
   ]
  },
  {
   "cell_type": "code",
   "execution_count": 61,
   "metadata": {},
   "outputs": [
    {
     "name": "stdout",
     "output_type": "stream",
     "text": [
      "Se va a llamar\n",
      "Entra en funcion suma\n",
      "Se ha llamado\n"
     ]
    },
    {
     "data": {
      "text/plain": [
       "8"
      ]
     },
     "execution_count": 61,
     "metadata": {},
     "output_type": "execute_result"
    }
   ],
   "source": [
    "suma(3,5)"
   ]
  },
  {
   "cell_type": "code",
   "execution_count": 62,
   "metadata": {},
   "outputs": [],
   "source": [
    "@mi_decorador\n",
    "def resta(a ,b):\n",
    "    print(\"Entra en funcion resta\")\n",
    "    return a - b\n"
   ]
  },
  {
   "cell_type": "code",
   "execution_count": 63,
   "metadata": {},
   "outputs": [
    {
     "name": "stdout",
     "output_type": "stream",
     "text": [
      "Se va a llamar\n",
      "Entra en funcion resta\n",
      "Se ha llamado\n"
     ]
    },
    {
     "data": {
      "text/plain": [
       "2"
      ]
     },
     "execution_count": 63,
     "metadata": {},
     "output_type": "execute_result"
    }
   ],
   "source": [
    "resta(5, 3)"
   ]
  },
  {
   "cell_type": "code",
   "execution_count": null,
   "metadata": {},
   "outputs": [],
   "source": [
    "N = 12\n",
    "\"insert 0 5\"\n",
    "\"insert 1 10\"\n",
    "\"insert 0 6\"\n",
    "\"print\"\n",
    "\"remove 6\"\n",
    "\"append 9\"\n",
    "\"append 1\"\n",
    "\"sort\"\n",
    "\"print\"\n",
    "\"pop\"\n",
    "\"reverse\"\n",
    "\"print\""
   ]
  },
  {
   "cell_type": "code",
   "execution_count": null,
   "metadata": {},
   "outputs": [],
   "source": [
    "if __name__ == '__main__':\n",
    "    N = int(input())\n",
    "commands = [input() for i in range(N)]\n",
    "output = []\n",
    "for i in commands:\n",
    "    if \"insert\" in i:\n",
    "        position, value = int(i.split()[1]), int(i.split()[2])\n",
    "        output.insert(position, value)\n",
    "    if \"print\" in i:\n",
    "        print(output)\n",
    "    if \"remove\" in i:\n",
    "        e = int(i.split()[1])\n",
    "        output.remove(e)\n",
    "    if \"append\" in i:\n",
    "        e = int(i.split()[1])\n",
    "        output.append(e)\n",
    "    if \"sort\" in i:\n",
    "        output.sort()\n",
    "    if \"pop\" in i:\n",
    "        output.pop()\n",
    "    if \"reverse\" in i:\n",
    "        output.reverse()"
   ]
  },
  {
   "cell_type": "code",
   "execution_count": 4,
   "metadata": {},
   "outputs": [
    {
     "data": {
      "text/plain": [
       "-3550055125485641917"
      ]
     },
     "execution_count": 4,
     "metadata": {},
     "output_type": "execute_result"
    }
   ],
   "source": [
    "hash((1,2))"
   ]
  },
  {
   "cell_type": "code",
   "execution_count": 6,
   "metadata": {},
   "outputs": [
    {
     "name": "stdout",
     "output_type": "stream",
     "text": [
      "(1, 2, 3)\n"
     ]
    }
   ],
   "source": [
    "listA = [1,2,3]\n",
    "tuples = tuple(listA)\n",
    "print(tuples)"
   ]
  },
  {
   "cell_type": "code",
   "execution_count": 19,
   "metadata": {},
   "outputs": [
    {
     "name": "stdout",
     "output_type": "stream",
     "text": [
      "(1, 2)\n",
      "-3550055125485641917\n"
     ]
    }
   ],
   "source": [
    "N = int(input())\n",
    "\n",
    "a = list(map(int, input().strip().split()))[:N]\n",
    "tupla = tuple(a)\n",
    "\n",
    "print(hash(tupla))"
   ]
  },
  {
   "cell_type": "code",
   "execution_count": 102,
   "metadata": {},
   "outputs": [
    {
     "name": "stdout",
     "output_type": "stream",
     "text": [
      "[1, 3, 4, 5]\n"
     ]
    }
   ],
   "source": [
    "lst1 = [int(item) for item in input(\"Enter \\\n",
    "                the list items : \").split()]\n",
    "print(lst1)"
   ]
  },
  {
   "cell_type": "code",
   "execution_count": 24,
   "metadata": {},
   "outputs": [
    {
     "data": {
      "text/plain": [
       "-3550055125485641917"
      ]
     },
     "execution_count": 24,
     "metadata": {},
     "output_type": "execute_result"
    }
   ],
   "source": [
    "hash((1, 2))"
   ]
  },
  {
   "cell_type": "code",
   "execution_count": 66,
   "metadata": {},
   "outputs": [],
   "source": [
    "import numpy as np\n",
    "\n",
    "def arrays(arr):\n",
    "    # complete this function\n",
    "    # use numpy.array\n",
    "    reversed_arr = np.array(arr[::-1], float)\n",
    "    return reversed_arr"
   ]
  },
  {
   "cell_type": "code",
   "execution_count": 67,
   "metadata": {},
   "outputs": [],
   "source": [
    "arr = [1,2,3,4,-8,-10]"
   ]
  },
  {
   "cell_type": "code",
   "execution_count": 68,
   "metadata": {},
   "outputs": [
    {
     "data": {
      "text/plain": [
       "array([-10.,  -8.,   4.,   3.,   2.,   1.])"
      ]
     },
     "execution_count": 68,
     "metadata": {},
     "output_type": "execute_result"
    }
   ],
   "source": [
    "arrays(arr)"
   ]
  },
  {
   "cell_type": "code",
   "execution_count": 72,
   "metadata": {},
   "outputs": [
    {
     "name": "stdout",
     "output_type": "stream",
     "text": [
      "[1 2 3 4 5 6 7 8 9]\n",
      "[[1 2 3]\n",
      " [4 5 6]\n",
      " [7 8 9]]\n"
     ]
    }
   ],
   "source": [
    "a = np.array([1,2,3,4,5,6,7,8,9])\n",
    "b = a.reshape((3,3))\n",
    "print(a)\n",
    "print(b)"
   ]
  },
  {
   "cell_type": "code",
   "execution_count": 82,
   "metadata": {},
   "outputs": [
    {
     "name": "stdout",
     "output_type": "stream",
     "text": [
      "[[1 2]\n",
      " [3 4]]\n",
      "[[1 3]\n",
      " [2 4]]\n",
      "[1 2 3 4]\n"
     ]
    }
   ],
   "source": [
    "# input data in same line space separated.\n",
    "# first two inputs are matrix dimension n x m\n",
    "# then each line contains the rows input elements in same line space separated\n",
    "n, m = (input().split(\" \"))  \n",
    "n = int(n)\n",
    "m = int(m)\n",
    "matrix=[]\n",
    "for i in range(n):\n",
    "    matrix.append(list(map(int, input().rstrip().split())))\n",
    "matrix = np.array(matrix)\n",
    "b = matrix.transpose()\n",
    "print(b)\n",
    "print(matrix.flatten())"
   ]
  },
  {
   "cell_type": "code",
   "execution_count": 95,
   "metadata": {},
   "outputs": [
    {
     "name": "stdout",
     "output_type": "stream",
     "text": [
      "[[1 2]\n",
      " [1 2]\n",
      " [1 2]\n",
      " [1 2]]\n"
     ]
    }
   ],
   "source": [
    "import numpy as np\n",
    "n, m, p = (input().split(\" \"))  \n",
    "n = int(n)\n",
    "m = int(m)\n",
    "p = int(p)\n",
    "array_1 = []\n",
    "array_2 = []\n",
    "for i in range(n):\n",
    "    array_1.append(list(map(int, input().rstrip().split())))\n",
    "array_1 = np.array(array_1)\n",
    "for i in range(m):\n",
    "    array_2.append(list(map(int, input().rstrip().split())))\n",
    "array_2 = np.array(array_2)\n",
    "b = np.concatenate((array_1,array_2),axis=0)\n",
    "print(b)"
   ]
  },
  {
   "cell_type": "code",
   "execution_count": 94,
   "metadata": {},
   "outputs": [
    {
     "name": "stdout",
     "output_type": "stream",
     "text": [
      "[[1 2]\n",
      " [1 2]\n",
      " [1 2]\n",
      " [1 2]\n",
      " [3 4]\n",
      " [3 4]\n",
      " [3 4]]\n"
     ]
    }
   ],
   "source": [
    "array_1 = np.array([[1,2],\n",
    "                    [1,2],\n",
    "                    [1,2],\n",
    "                    [1,2]])\n",
    "array_2 = np.array([[3,4],\n",
    "                    [3,4],\n",
    "                    [3,4]])\n",
    "b = np.concatenate((array_1,array_2),axis=0)\n",
    "print(b)"
   ]
  },
  {
   "cell_type": "code",
   "execution_count": 98,
   "metadata": {},
   "outputs": [
    {
     "name": "stdout",
     "output_type": "stream",
     "text": [
      "[[0. 0. 0. 0. 0. 0. 0.]\n",
      " [1. 0. 0. 0. 0. 0. 0.]\n",
      " [0. 1. 0. 0. 0. 0. 0.]\n",
      " [0. 0. 1. 0. 0. 0. 0.]\n",
      " [0. 0. 0. 1. 0. 0. 0.]\n",
      " [0. 0. 0. 0. 1. 0. 0.]\n",
      " [0. 0. 0. 0. 0. 1. 0.]\n",
      " [0. 0. 0. 0. 0. 0. 1.]]\n"
     ]
    }
   ],
   "source": [
    "print(np.eye(8, 7, k = -1)) "
   ]
  },
  {
   "cell_type": "code",
   "execution_count": 100,
   "metadata": {},
   "outputs": [],
   "source": [
    "import numpy as np\n",
    "np.set_printoptions(legacy='1.13')"
   ]
  },
  {
   "cell_type": "code",
   "execution_count": 101,
   "metadata": {},
   "outputs": [
    {
     "name": "stdout",
     "output_type": "stream",
     "text": [
      "[[ 0.  1.  0.]\n",
      " [ 0.  0.  1.]\n",
      " [ 0.  0.  0.]]\n"
     ]
    }
   ],
   "source": [
    "n, m = (input().split(\" \"))  \n",
    "n = int(n)\n",
    "m = int(m)\n",
    "print(np.eye(n,m,k=1))"
   ]
  },
  {
   "cell_type": "code",
   "execution_count": null,
   "metadata": {},
   "outputs": [],
   "source": [
    "import numpy\n",
    "\n",
    "n, m = list(map(int, input().split()))\n",
    "\n",
    "a = numpy.array([list(map(int, input().split())) for x in range(n)], int, )\n",
    "b = numpy.array([list(map(int, input().split())) for x in range(n)], int)\n",
    "\n",
    "print(numpy.add(a, b))\n",
    "print(numpy.subtract(a, b))\n",
    "print(numpy.multiply(a, b))\n",
    "print(numpy.floor_divide(a, b))\n",
    "print(numpy.mod(a, b))\n",
    "print(numpy.power(a, b))"
   ]
  },
  {
   "cell_type": "code",
   "execution_count": 104,
   "metadata": {},
   "outputs": [
    {
     "name": "stdout",
     "output_type": "stream",
     "text": [
      "[ 1.2  2.3  3.5  4.6  5.7]\n"
     ]
    }
   ],
   "source": [
    "import numpy\n",
    "numpy.set_printoptions(legacy='1.13')\n",
    "lst1 = [float(item) for item in input().split()]\n",
    "lst1 = numpy.array(lst1,dtype=float)\n",
    "print(lst1)"
   ]
  },
  {
   "cell_type": "code",
   "execution_count": 105,
   "metadata": {},
   "outputs": [
    {
     "name": "stdout",
     "output_type": "stream",
     "text": [
      "[[1 2]\n",
      " [3 4]]\n",
      "[ 1.5  3.5]\n",
      "[ 1.  1.]\n",
      "1.11803398875\n"
     ]
    }
   ],
   "source": [
    "import numpy\n",
    "\n",
    "# Get N, M and cast to integer\n",
    "n, m = map(int, input().split())\n",
    "\n",
    "# Create a N-length array of integers\n",
    "arrays = numpy.array([input().split(\" \") for _ in range(n)], int)\n",
    "print(arrays)\n",
    "# Print stats\n",
    "print(numpy.mean(arrays, axis=1))\n",
    "print(numpy.var(arrays, axis=0))\n",
    "print(round(numpy.std(arrays, axis=None), 11))"
   ]
  }
 ],
 "metadata": {
  "kernelspec": {
   "display_name": "Python 3",
   "language": "python",
   "name": "python3"
  },
  "language_info": {
   "codemirror_mode": {
    "name": "ipython",
    "version": 3
   },
   "file_extension": ".py",
   "mimetype": "text/x-python",
   "name": "python",
   "nbconvert_exporter": "python",
   "pygments_lexer": "ipython3",
   "version": "3.11.5"
  }
 },
 "nbformat": 4,
 "nbformat_minor": 2
}

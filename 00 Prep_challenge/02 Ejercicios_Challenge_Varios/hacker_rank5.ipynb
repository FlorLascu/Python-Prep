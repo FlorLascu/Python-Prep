{
 "cells": [
  {
   "cell_type": "code",
   "execution_count": 52,
   "metadata": {},
   "outputs": [],
   "source": [
    "# while loop\n",
    "def sTaircase(n):\n",
    "    i = 0\n",
    "    while i < n: \n",
    "        string = \" \"*(n-i) + \"#\"*(i+1) \n",
    "        i+=1\n",
    "        print(string)"
   ]
  },
  {
   "cell_type": "code",
   "execution_count": 53,
   "metadata": {},
   "outputs": [
    {
     "name": "stdout",
     "output_type": "stream",
     "text": [
      "    #\n",
      "   ##\n",
      "  ###\n",
      " ####\n"
     ]
    }
   ],
   "source": [
    "sTaircase(4)"
   ]
  },
  {
   "cell_type": "code",
   "execution_count": 32,
   "metadata": {},
   "outputs": [],
   "source": [
    "import sys\n",
    "# for loop\n",
    "def staircase(n):\n",
    "    for i in range(1,n+1):\n",
    "        print(\" \"*(n-i)+ \"#\"*i)\n"
   ]
  },
  {
   "cell_type": "code",
   "execution_count": 33,
   "metadata": {},
   "outputs": [
    {
     "name": "stdout",
     "output_type": "stream",
     "text": [
      "     #\n",
      "    ##\n",
      "   ###\n",
      "  ####\n",
      " #####\n",
      "######\n"
     ]
    }
   ],
   "source": [
    "staircase(6)"
   ]
  },
  {
   "cell_type": "code",
   "execution_count": 7,
   "metadata": {},
   "outputs": [],
   "source": [
    "import sys\n",
    "# for loop\n",
    "def stairCASE(n):\n",
    "    for i in range(1,n+1):\n",
    "        print(\"#\"*i + \" \"*(n-i))"
   ]
  },
  {
   "cell_type": "code",
   "execution_count": 8,
   "metadata": {},
   "outputs": [
    {
     "name": "stdout",
     "output_type": "stream",
     "text": [
      "#     \n",
      "##    \n",
      "###   \n",
      "####  \n",
      "##### \n",
      "######\n"
     ]
    }
   ],
   "source": [
    "stairCASE(6)"
   ]
  },
  {
   "cell_type": "code",
   "execution_count": 35,
   "metadata": {},
   "outputs": [],
   "source": [
    "import sys\n",
    "# for loop\n",
    "def sTAIRCASE(n):\n",
    "    for i in range(1,n+1):\n",
    "        print(\" \"*(n-i)+str(i)*i)"
   ]
  },
  {
   "cell_type": "code",
   "execution_count": 36,
   "metadata": {},
   "outputs": [
    {
     "name": "stdout",
     "output_type": "stream",
     "text": [
      "    1\n",
      "   22\n",
      "  333\n",
      " 4444\n",
      "55555\n"
     ]
    }
   ],
   "source": [
    "sTAIRCASE(5)"
   ]
  },
  {
   "cell_type": "code",
   "execution_count": 53,
   "metadata": {},
   "outputs": [],
   "source": [
    "import sys\n",
    "# for loop\n",
    "def sTAIRCASSE(n):\n",
    "    for i in range(1,n+1):\n",
    "        print(sum(list(map(lambda x: 10**x*i,range(i)))))"
   ]
  },
  {
   "cell_type": "code",
   "execution_count": 54,
   "metadata": {},
   "outputs": [
    {
     "name": "stdout",
     "output_type": "stream",
     "text": [
      "1\n",
      "22\n",
      "333\n",
      "4444\n",
      "55555\n"
     ]
    }
   ],
   "source": [
    "sTAIRCASSE(5)"
   ]
  },
  {
   "cell_type": "code",
   "execution_count": 35,
   "metadata": {},
   "outputs": [],
   "source": [
    "def stairCase(n):\n",
    "   for i in range(n):\n",
    "      output = ' '*(n-i-1)+'#'*(i+1)\n",
    "      print(output)"
   ]
  },
  {
   "cell_type": "code",
   "execution_count": 36,
   "metadata": {},
   "outputs": [
    {
     "name": "stdout",
     "output_type": "stream",
     "text": [
      "     #\n",
      "    ##\n",
      "   ###\n",
      "  ####\n",
      " #####\n",
      "######\n"
     ]
    }
   ],
   "source": [
    "stairCase(6)"
   ]
  },
  {
   "cell_type": "code",
   "execution_count": 37,
   "metadata": {},
   "outputs": [],
   "source": [
    "def stairCase_1(n):\n",
    "    for i in range(1,n+1):\n",
    "        for j in range(n-i):\n",
    "            print(\" \",end=\"\")\n",
    "        while i>0:\n",
    "            print(\"#\",end=\"\")\n",
    "            i -=1\n",
    "        print(\"\")"
   ]
  },
  {
   "cell_type": "code",
   "execution_count": 38,
   "metadata": {},
   "outputs": [
    {
     "name": "stdout",
     "output_type": "stream",
     "text": [
      "     #\n",
      "    ##\n",
      "   ###\n",
      "  ####\n",
      " #####\n",
      "######\n"
     ]
    }
   ],
   "source": [
    "stairCase_1(6)"
   ]
  },
  {
   "cell_type": "code",
   "execution_count": null,
   "metadata": {},
   "outputs": [],
   "source": [
    "# ITERATION STRATEGY\n",
    "    # iterate through rows {\n",
    "    # set up empty string for the given row\n",
    "    # iterate through columns {\n",
    "    # if the column number is less than or equal to the row \n",
    "    # add # to the end of the string\n",
    "    # otherwise\n",
    "    # add an empty space to the beginning of the string\n",
    "    \n",
    "    # console.log the string for the row"
   ]
  },
  {
   "cell_type": "code",
   "execution_count": 54,
   "metadata": {},
   "outputs": [],
   "source": [
    "# ITERATION STRATEGY\n",
    "def staiRcase(n):\n",
    "    #iterate through rows\n",
    "    string = 0\n",
    "    for i in range(0, n):\n",
    "      #set up empty string for the given row\n",
    "        string = \"\"\n",
    "        #iterate through columns\n",
    "        for column in range(0, n):\n",
    "            #if the column number is less than or equal to the row \n",
    "            if column <= i:\n",
    "              # add '#' to the end of the string\n",
    "                string = string + \"#\"\n",
    "            else:\n",
    "                # add an empty space to the beginning of the string\n",
    "                string = \" \" + string\n",
    "        #console.log the string for the row\n",
    "        print(string)"
   ]
  },
  {
   "cell_type": "code",
   "execution_count": 56,
   "metadata": {},
   "outputs": [
    {
     "name": "stdout",
     "output_type": "stream",
     "text": [
      "       #\n",
      "      ##\n",
      "     ###\n",
      "    ####\n",
      "   #####\n",
      "  ######\n",
      " #######\n",
      "########\n"
     ]
    }
   ],
   "source": [
    "staiRcase(8)"
   ]
  },
  {
   "cell_type": "code",
   "execution_count": null,
   "metadata": {},
   "outputs": [],
   "source": [
    "# RECURSIVE STRATEGY\n",
    "  # Set default values for arguments that will be needed in each function call (row number, and string)\n",
    "\n",
    "  # Set up a base case so that the recursive function calls will stop (when n reaches zero)\n",
    "\n",
    "  # Set up a conditional to account for the cases when the string length for a row is full (n===string.length)\n",
    "  \n",
    "  # print out the row (string)\n",
    "\n",
    "  # call the function to start work on the next row (row + 1)\n",
    "\n",
    "  # account for adding characters to the string if the row is not yet full (n < string.length),\n",
    "  # based on comparing the string length with the row number\n",
    "\n",
    "  # call the function to continue working on the row, with the current row and updated string passed as arguments"
   ]
  },
  {
   "cell_type": "code",
   "execution_count": 60,
   "metadata": {},
   "outputs": [],
   "source": [
    "# RECURSIVE STRATEGY\n",
    "def staiRCase(n, row=0, string=\"\"):\n",
    "  if n == row:\n",
    "    return\n",
    "\n",
    "  if n == len(string):\n",
    "    print(string)\n",
    "    return staircase(n, row+1)\n",
    "\n",
    "  add = \"#\" if len(string) <= row else \" \"\n",
    "  staircase(n, row, add+string)"
   ]
  },
  {
   "cell_type": "code",
   "execution_count": 59,
   "metadata": {},
   "outputs": [
    {
     "name": "stdout",
     "output_type": "stream",
     "text": [
      "   #\n",
      "  ##\n",
      " ###\n",
      "####\n"
     ]
    }
   ],
   "source": [
    "staiRCase(4)"
   ]
  },
  {
   "cell_type": "code",
   "execution_count": 1,
   "metadata": {},
   "outputs": [
    {
     "name": "stdout",
     "output_type": "stream",
     "text": [
      "1\n",
      "121\n",
      "12321\n",
      "1234321\n",
      "123454321\n"
     ]
    }
   ],
   "source": [
    "n = 5\n",
    "for i in range(1,n+1): #More than 2 lines will result in 0 score. Do not leave a blank line also\n",
    "    print(sum(list(map(lambda x:10**x, range(i))))**2)\n"
   ]
  },
  {
   "cell_type": "code",
   "execution_count": 2,
   "metadata": {},
   "outputs": [
    {
     "name": "stdout",
     "output_type": "stream",
     "text": [
      "1\n",
      "121\n",
      "12321\n",
      "1234321\n",
      "123454321\n",
      "12345654321\n"
     ]
    }
   ],
   "source": [
    "n = 6\n",
    "for i in range(1,n+1): \n",
    "    print(((10**i - 1)//9)**2)"
   ]
  },
  {
   "cell_type": "code",
   "execution_count": 5,
   "metadata": {},
   "outputs": [
    {
     "name": "stdout",
     "output_type": "stream",
     "text": [
      "1\n",
      "121\n",
      "12321\n",
      "1234321\n",
      "123454321\n",
      "12345654321\n"
     ]
    }
   ],
   "source": [
    "n = 6\n",
    "for i in range(1,n+1): \n",
    "    print(((10**i - 1)//9)**2)"
   ]
  },
  {
   "cell_type": "code",
   "execution_count": 39,
   "metadata": {},
   "outputs": [
    {
     "name": "stdout",
     "output_type": "stream",
     "text": [
      "Rn ak\n"
     ]
    }
   ],
   "source": [
    "T = int(input())\n",
    "\n",
    "for i in range(1, T+1):\n",
    "    s =str(input()) \n",
    "    evenstr = ''.join([s[i] for i in range(0, len(s)) if i % 2 == 0])\n",
    "    oddstr = ''.join([s[i] for i in range(0, len(s)) if i % 2 != 0])\n",
    "\n",
    "print(evenstr, oddstr)"
   ]
  },
  {
   "cell_type": "code",
   "execution_count": 40,
   "metadata": {},
   "outputs": [
    {
     "name": "stdout",
     "output_type": "stream",
     "text": [
      "Hce akr\n",
      "Rn ak\n"
     ]
    }
   ],
   "source": [
    "num = int(input())\n",
    "\n",
    "for n in range(num):\n",
    "    s = [*input()]\n",
    "    even = ''.join([s[i] for i in range(0, len(s),2)])\n",
    "    odd = ''.join([s[i] for i in range(1, len(s),2)])\n",
    "    print(f'{even} {odd}')"
   ]
  },
  {
   "cell_type": "code",
   "execution_count": 5,
   "metadata": {},
   "outputs": [],
   "source": [
    "def miniMaxSum(arr):\n",
    "    # Write your code here\n",
    "    arr_sorted_asc = sorted(arr, reverse=False) #ascendente\n",
    "    arr_sorted_desc = sorted(arr, reverse=True) #descendente\n",
    " \n",
    "    minimum = 0\n",
    "    maximum = 0\n",
    "    \n",
    "    for i in range(0, 4):\n",
    "        minimum = arr_sorted_asc[i] + minimum\n",
    "        maximum = arr_sorted_desc[i] + maximum\n",
    "    print(minimum, maximum)\n",
    "    "
   ]
  },
  {
   "cell_type": "code",
   "execution_count": 14,
   "metadata": {},
   "outputs": [
    {
     "name": "stdout",
     "output_type": "stream",
     "text": [
      "10 14\n"
     ]
    }
   ],
   "source": [
    "miniMaxSum([1,2,3,4,5])"
   ]
  },
  {
   "cell_type": "code",
   "execution_count": 8,
   "metadata": {},
   "outputs": [],
   "source": [
    "arr = [1,2,3,4,5,6]"
   ]
  },
  {
   "cell_type": "code",
   "execution_count": 13,
   "metadata": {},
   "outputs": [
    {
     "name": "stdout",
     "output_type": "stream",
     "text": [
      "[6, 5, 4, 3, 2, 1]\n"
     ]
    }
   ],
   "source": [
    "arr.sort(reverse=True)\n",
    "print(arr)"
   ]
  },
  {
   "cell_type": "code",
   "execution_count": 9,
   "metadata": {},
   "outputs": [
    {
     "name": "stdout",
     "output_type": "stream",
     "text": [
      "[1, 2, 3, 4, 5, 6]\n",
      "[6, 5, 4, 3, 2, 1]\n"
     ]
    }
   ],
   "source": [
    "arr_sorted_asc = sorted(arr, reverse=False) #ascendente\n",
    "print(arr_sorted_asc)\n",
    "arr_sorted_desc = sorted(arr, reverse=True) #descendente\n",
    "print(arr_sorted_desc)"
   ]
  },
  {
   "cell_type": "code",
   "execution_count": 29,
   "metadata": {},
   "outputs": [],
   "source": [
    "candles = [3,2,1,3,3]\n",
    "n = 5"
   ]
  },
  {
   "cell_type": "code",
   "execution_count": 43,
   "metadata": {},
   "outputs": [],
   "source": [
    "def birthdayCakeCandles(candles,count_candles):\n",
    "    # Write your code here\n",
    "    max = 0\n",
    "    for i in range(0, count_candles):\n",
    "        if candles[i] > max:\n",
    "            max = candles[i]\n",
    "    \n",
    "    return candles.count(max)"
   ]
  },
  {
   "cell_type": "code",
   "execution_count": 33,
   "metadata": {},
   "outputs": [
    {
     "data": {
      "text/plain": [
       "3"
      ]
     },
     "execution_count": 33,
     "metadata": {},
     "output_type": "execute_result"
    }
   ],
   "source": [
    "birthdayCakeCandles(candles,n)"
   ]
  },
  {
   "cell_type": "code",
   "execution_count": 39,
   "metadata": {},
   "outputs": [],
   "source": [
    "arrAy = [ 18,90,90,13,90,75,90,8,90,43]"
   ]
  },
  {
   "cell_type": "code",
   "execution_count": 40,
   "metadata": {},
   "outputs": [
    {
     "data": {
      "text/plain": [
       "10"
      ]
     },
     "execution_count": 40,
     "metadata": {},
     "output_type": "execute_result"
    }
   ],
   "source": [
    "len(arrAy)"
   ]
  },
  {
   "cell_type": "code",
   "execution_count": 44,
   "metadata": {},
   "outputs": [
    {
     "data": {
      "text/plain": [
       "5"
      ]
     },
     "execution_count": 44,
     "metadata": {},
     "output_type": "execute_result"
    }
   ],
   "source": [
    "birthdayCakeCandles(arrAy,10)"
   ]
  },
  {
   "cell_type": "code",
   "execution_count": 100,
   "metadata": {},
   "outputs": [],
   "source": [
    "# Strategy A: Compare Reverse and String\n",
    "def capiCua(string):\n",
    "    def reverse(string):\n",
    "        string = [string[i] for i in range(len(string)-1, -1, -1)]\n",
    "        return \"\".join(string)\n",
    "    reversed = reverse(string)\n",
    "    \n",
    "    return reversed == string"
   ]
  },
  {
   "cell_type": "code",
   "execution_count": 96,
   "metadata": {},
   "outputs": [],
   "source": [
    "def reverse(string):\n",
    "    string = \"\".join(reversed(string))\n",
    "    return string"
   ]
  },
  {
   "cell_type": "code",
   "execution_count": 101,
   "metadata": {},
   "outputs": [
    {
     "data": {
      "text/plain": [
       "True"
      ]
     },
     "execution_count": 101,
     "metadata": {},
     "output_type": "execute_result"
    }
   ],
   "source": [
    "capiCua('racecar')"
   ]
  },
  {
   "cell_type": "code",
   "execution_count": 102,
   "metadata": {},
   "outputs": [
    {
     "data": {
      "text/plain": [
       "False"
      ]
     },
     "execution_count": 102,
     "metadata": {},
     "output_type": "execute_result"
    }
   ],
   "source": [
    "capiCua(string)"
   ]
  },
  {
   "cell_type": "code",
   "execution_count": 133,
   "metadata": {},
   "outputs": [],
   "source": [
    "#Strategy A: Reverse and compare the complete string\n",
    "\n",
    "def palinDrome(string):\n",
    "    rev = list(string)\n",
    "    rev.reverse()\n",
    "    \"\".join(rev)\n",
    "    \n",
    "    reversed = \"\".join(rev)\n",
    "    return reversed == string\n"
   ]
  },
  {
   "cell_type": "code",
   "execution_count": 144,
   "metadata": {},
   "outputs": [
    {
     "name": "stdout",
     "output_type": "stream",
     "text": [
      "hola\n",
      "['h', 'o', 'l', 'a']\n",
      "['a', 'l', 'o', 'h']\n"
     ]
    },
    {
     "data": {
      "text/plain": [
       "'aloh'"
      ]
     },
     "execution_count": 144,
     "metadata": {},
     "output_type": "execute_result"
    }
   ],
   "source": [
    "str_1='hola'\n",
    "print(str_1)\n",
    "str_11=list(str_1)\n",
    "print(str_11)\n",
    "str_11.reverse()\n",
    "print(str_11)\n",
    "\"\".join(str_11)\n"
   ]
  },
  {
   "cell_type": "code",
   "execution_count": 135,
   "metadata": {},
   "outputs": [
    {
     "data": {
      "text/plain": [
       "True"
      ]
     },
     "execution_count": 135,
     "metadata": {},
     "output_type": "execute_result"
    }
   ],
   "source": [
    "palinDrome('123454321')"
   ]
  },
  {
   "cell_type": "code",
   "execution_count": 103,
   "metadata": {},
   "outputs": [
    {
     "name": "stdout",
     "output_type": "stream",
     "text": [
      "['racecar']\n"
     ]
    }
   ],
   "source": [
    "string = 'racecar'\n",
    "str_split = string.split(' ')\n",
    "print(str_split)"
   ]
  },
  {
   "cell_type": "code",
   "execution_count": 162,
   "metadata": {},
   "outputs": [],
   "source": [
    "# Strategy B: Compare Pairs of opposite Characters\n",
    "\n",
    "def pAlindrome(string): \n",
    "    string1 = list(string)\n",
    "    for i in range(0,int(len(string)/2)):\n",
    "        if string1[i] != string[len(string)-1-i]:\n",
    "            is_pal = False\n",
    "            break\n",
    "        elif string1[i] == string[len(string)-1-i]:\n",
    "            is_pal = True\n",
    "    return is_pal\n"
   ]
  },
  {
   "cell_type": "code",
   "execution_count": 158,
   "metadata": {},
   "outputs": [
    {
     "name": "stdout",
     "output_type": "stream",
     "text": [
      "['r', 'a', 'c', 'e', 'c', 'a', 'r']\n"
     ]
    }
   ],
   "source": [
    "string1 = list(string)\n",
    "print(string1)"
   ]
  },
  {
   "cell_type": "code",
   "execution_count": 163,
   "metadata": {},
   "outputs": [
    {
     "data": {
      "text/plain": [
       "True"
      ]
     },
     "execution_count": 163,
     "metadata": {},
     "output_type": "execute_result"
    }
   ],
   "source": [
    "pAlindrome('1234321')"
   ]
  },
  {
   "cell_type": "code",
   "execution_count": 164,
   "metadata": {},
   "outputs": [
    {
     "data": {
      "text/plain": [
       "True"
      ]
     },
     "execution_count": 164,
     "metadata": {},
     "output_type": "execute_result"
    }
   ],
   "source": [
    "pAlindrome(string)"
   ]
  },
  {
   "cell_type": "code",
   "execution_count": 99,
   "metadata": {},
   "outputs": [
    {
     "name": "stdout",
     "output_type": "stream",
     "text": [
      "The original string  is :  Geeksforgeeks\n",
      "The reversed string(using reversed) is :  skeegrofskeeG\n"
     ]
    }
   ],
   "source": [
    "# Funcion que reemplaza el reverse() de JavaScript en Pyhton\n",
    "def reverse(string):\n",
    "    string = [string[i] for i in range(len(string)-1, -1, -1)]\n",
    "    return \"\".join(string)\n",
    " \n",
    "s = \"Geeksforgeeks\"\n",
    " \n",
    "print(\"The original string  is : \", s)\n",
    " \n",
    "print(\"The reversed string(using reversed) is : \", reverse(s))"
   ]
  },
  {
   "cell_type": "code",
   "execution_count": 108,
   "metadata": {},
   "outputs": [
    {
     "name": "stdout",
     "output_type": "stream",
     "text": [
      "The original string  is :  Geeksforgeeks\n",
      "The reversed string(using reversed) is :  skeegrofskeeG\n"
     ]
    }
   ],
   "source": [
    "#  Esta funcion utiliza el reverse() en Pyhton\n",
    "def reveRse(string):\n",
    "    string = list(string)\n",
    "    string.reverse()\n",
    "    return \"\".join(string)\n",
    " \n",
    "s = \"Geeksforgeeks\"\n",
    " \n",
    "print(\"The original string  is : \", s)\n",
    " \n",
    "print(\"The reversed string(using reversed) is : \", reverse(s))"
   ]
  },
  {
   "cell_type": "code",
   "execution_count": 110,
   "metadata": {},
   "outputs": [
    {
     "data": {
      "text/plain": [
       "'12384321'"
      ]
     },
     "execution_count": 110,
     "metadata": {},
     "output_type": "execute_result"
    }
   ],
   "source": [
    "reveRse('12348321')"
   ]
  }
 ],
 "metadata": {
  "kernelspec": {
   "display_name": "Python 3",
   "language": "python",
   "name": "python3"
  },
  "language_info": {
   "codemirror_mode": {
    "name": "ipython",
    "version": 3
   },
   "file_extension": ".py",
   "mimetype": "text/x-python",
   "name": "python",
   "nbconvert_exporter": "python",
   "pygments_lexer": "ipython3",
   "version": "3.11.5"
  }
 },
 "nbformat": 4,
 "nbformat_minor": 2
}

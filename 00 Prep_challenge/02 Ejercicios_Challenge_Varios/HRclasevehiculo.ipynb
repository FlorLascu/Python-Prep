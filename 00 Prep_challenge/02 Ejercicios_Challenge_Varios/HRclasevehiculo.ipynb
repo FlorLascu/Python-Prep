{
 "cells": [
  {
   "cell_type": "code",
   "execution_count": 1,
   "metadata": {},
   "outputs": [],
   "source": [
    "class claseVehiculo:\n",
    "        def __init__(self,tipo,color):\n",
    "            self.tipo = tipo\n",
    "            self.color = color\n",
    "            self.velocidad = 0\n",
    "\n",
    "            if self.tipo not in ('moto','auto','camioneta'):\n",
    "                self.tipo = 'auto' \n",
    "\n",
    "        def Acelerar(self,velocidad):\n",
    "            velocidad_final= self.velocidad + velocidad\n",
    "            if velocidad_final <0:\n",
    "               self.velocidad=0\n",
    "            elif velocidad_final > 100:\n",
    "               self.velocidad = 100\n",
    "            else: \n",
    "                self.velocidad = velocidad_final\n",
    "            \n",
    "            return self.velocidad"
   ]
  },
  {
   "cell_type": "code",
   "execution_count": 2,
   "metadata": {},
   "outputs": [],
   "source": [
    "a = claseVehiculo('auto','gris')\n"
   ]
  },
  {
   "cell_type": "code",
   "execution_count": 3,
   "metadata": {},
   "outputs": [
    {
     "name": "stdout",
     "output_type": "stream",
     "text": [
      "auto\n"
     ]
    }
   ],
   "source": [
    "v1=claseVehiculo('van','blanco')\n",
    "print(v1.tipo)"
   ]
  },
  {
   "cell_type": "code",
   "execution_count": null,
   "metadata": {},
   "outputs": [],
   "source": [
    "a.Acelerar(10) #-> debe devolver 10\n",
    "a.Acelerar(15) #-> debe devolver 25\n",
    "a.Acelerar(10) #-> debe devolver 15'\n",
    "print(a.velocidad)"
   ]
  }
 ],
 "metadata": {
  "kernelspec": {
   "display_name": "Python 3",
   "language": "python",
   "name": "python3"
  },
  "language_info": {
   "codemirror_mode": {
    "name": "ipython",
    "version": 3
   },
   "file_extension": ".py",
   "mimetype": "text/x-python",
   "name": "python",
   "nbconvert_exporter": "python",
   "pygments_lexer": "ipython3",
   "version": "3.11.5"
  },
  "orig_nbformat": 4
 },
 "nbformat": 4,
 "nbformat_minor": 2
}

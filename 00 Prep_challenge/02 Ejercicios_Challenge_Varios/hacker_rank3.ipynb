{
 "cells": [
  {
   "cell_type": "code",
   "execution_count": 183,
   "metadata": {},
   "outputs": [],
   "source": [
    "# https://www.youtube.com/watch?v=dYWqx6nfEC4&list=PLjnxTN2GjlNDokv29U0LXmkF2SgTFlDhA&index=6 resolucion\n",
    "\n",
    "def crearClaseViajero():\n",
    "    #nombre,edad,paises,companieros\n",
    "    class Viajero:\n",
    "        def __init__(self,nombre,edad,paises,companieros):\n",
    "            self.nombre = nombre\n",
    "            self.edad = edad\n",
    "            self.paises = paises\n",
    "            self.companieros = companieros\n",
    "\n",
    "            '''El constuctor de la clase Viajero recibe nombre (string), edad (int), \n",
    "            paises (array de strings), companeros (array de objetos)\n",
    "            Inicializar las propiedades del viajero con los valores recibidos como argumento'''\n",
    "\n",
    "            #tu codigo aca:\n",
    "\n",
    "        def addcompanieros(self,nombre_compa,nacionalidad_compa,edad_compa):\n",
    "            \n",
    "            '''el metodo addcompanieros recibe un string 'nombre', un string 'nacionalidad' y un entero 'edad' y debe agregar un objeto: \n",
    "            {nombre: nombre, nacionalidad: nacionalidad, edad: edad} al arreglo de companieros del viajero\n",
    "            No debe retornar nada'''\n",
    "            #tu codigo aca\n",
    "            #class companieros:\n",
    "            #    def __init__(self,nombre_compa,nacionalidad_compa,edad_compa):\n",
    "            #        self.nombre_compa = nombre_compa\n",
    "            #        self.nacionalidad_compa = nacionalidad_compa\n",
    "            #        self.edad_compa = edad_compa\n",
    "\n",
    "            self.companieros.append({nombre_compa,nacionalidad_compa,edad_compa})\n",
    "\n",
    "            \n",
    "\n",
    "            \n",
    "\n",
    "            return Viajero()\n",
    "            \n",
    "        \n",
    "\n",
    "        def addPais(pais):\n",
    "            '''el metodo 'addPais' recibe un string 'pais' y debe agregarlo al arreglo de paises del viajero.\n",
    "            No debe retornar nada. '''\n",
    "        \n",
    "        #tu codigo aca:\n",
    "        \n"
   ]
  },
  {
   "cell_type": "code",
   "execution_count": 157,
   "metadata": {},
   "outputs": [],
   "source": [
    "class Viajero:\n",
    "        def __init__(self,nombre,edad,paises,companieros):\n",
    "            self.nombre = nombre\n",
    "            self.edad = edad\n",
    "            self.paises = paises\n",
    "            self.companieros = companieros\n"
   ]
  },
  {
   "cell_type": "code",
   "execution_count": 177,
   "metadata": {},
   "outputs": [],
   "source": [
    "Viajero=crearClaseViajero()"
   ]
  },
  {
   "cell_type": "code",
   "execution_count": 184,
   "metadata": {},
   "outputs": [
    {
     "ename": "AttributeError",
     "evalue": "'NoneType' object has no attribute 'addcompanieros'",
     "output_type": "error",
     "traceback": [
      "\u001b[1;31m---------------------------------------------------------------------------\u001b[0m",
      "\u001b[1;31mAttributeError\u001b[0m                            Traceback (most recent call last)",
      "\u001b[1;32mc:\\Users\\Florencia\\Desktop\\Python-Prep\\Carpeta Nueva\\hacker_rank3.ipynb Celda 4\u001b[0m line \u001b[0;36m1\n\u001b[1;32m----> <a href='vscode-notebook-cell:/c%3A/Users/Florencia/Desktop/Python-Prep/Carpeta%20Nueva/hacker_rank3.ipynb#X52sZmlsZQ%3D%3D?line=0'>1</a>\u001b[0m viajero5\u001b[39m=\u001b[39m Viajero\u001b[39m.\u001b[39;49maddcompanieros(\u001b[39m'\u001b[39m\u001b[39mPaula\u001b[39m\u001b[39m'\u001b[39m,\u001b[39m20\u001b[39m,\u001b[39m'\u001b[39m\u001b[39mUSA\u001b[39m\u001b[39m'\u001b[39m)\n",
      "\u001b[1;31mAttributeError\u001b[0m: 'NoneType' object has no attribute 'addcompanieros'"
     ]
    }
   ],
   "source": [
    "viajero5= Viajero.addcompanieros('Paula',20,'USA')"
   ]
  },
  {
   "cell_type": "code",
   "execution_count": 179,
   "metadata": {},
   "outputs": [
    {
     "ename": "TypeError",
     "evalue": "'NoneType' object is not callable",
     "output_type": "error",
     "traceback": [
      "\u001b[1;31m---------------------------------------------------------------------------\u001b[0m",
      "\u001b[1;31mTypeError\u001b[0m                                 Traceback (most recent call last)",
      "\u001b[1;32mc:\\Users\\Florencia\\Desktop\\Python-Prep\\Carpeta Nueva\\hacker_rank3.ipynb Celda 5\u001b[0m line \u001b[0;36m1\n\u001b[1;32m----> <a href='vscode-notebook-cell:/c%3A/Users/Florencia/Desktop/Python-Prep/Carpeta%20Nueva/hacker_rank3.ipynb#X42sZmlsZQ%3D%3D?line=0'>1</a>\u001b[0m viajero1\u001b[39m=\u001b[39mViajero(\u001b[39m'\u001b[39;49m\u001b[39mJuan\u001b[39;49m\u001b[39m'\u001b[39;49m,\u001b[39m25\u001b[39;49m,\u001b[39m'\u001b[39;49m\u001b[39mArgentina\u001b[39;49m\u001b[39m'\u001b[39;49m,[{\u001b[39m'\u001b[39;49m\u001b[39mAna\u001b[39;49m\u001b[39m'\u001b[39;49m,\u001b[39m'\u001b[39;49m\u001b[39mArg\u001b[39;49m\u001b[39m'\u001b[39;49m,\u001b[39m20\u001b[39;49m},{\u001b[39m'\u001b[39;49m\u001b[39mLola\u001b[39;49m\u001b[39m'\u001b[39;49m,\u001b[39m'\u001b[39;49m\u001b[39mBrasil\u001b[39;49m\u001b[39m'\u001b[39;49m,\u001b[39m30\u001b[39;49m}])\n\u001b[0;32m      <a href='vscode-notebook-cell:/c%3A/Users/Florencia/Desktop/Python-Prep/Carpeta%20Nueva/hacker_rank3.ipynb#X42sZmlsZQ%3D%3D?line=1'>2</a>\u001b[0m viajero2\u001b[39m=\u001b[39mViajero(\u001b[39m'\u001b[39m\u001b[39mPedro\u001b[39m\u001b[39m'\u001b[39m,\u001b[39m20\u001b[39m,\u001b[39m'\u001b[39m\u001b[39mBrasil\u001b[39m\u001b[39m'\u001b[39m,{compa3})\n\u001b[0;32m      <a href='vscode-notebook-cell:/c%3A/Users/Florencia/Desktop/Python-Prep/Carpeta%20Nueva/hacker_rank3.ipynb#X42sZmlsZQ%3D%3D?line=2'>3</a>\u001b[0m viajero3\u001b[39m=\u001b[39mViajero(\u001b[39m'\u001b[39m\u001b[39mJose\u001b[39m\u001b[39m'\u001b[39m, \u001b[39m30\u001b[39m,\u001b[39m'\u001b[39m\u001b[39mPeru\u001b[39m\u001b[39m'\u001b[39m,{compa4})\n",
      "\u001b[1;31mTypeError\u001b[0m: 'NoneType' object is not callable"
     ]
    }
   ],
   "source": [
    "viajero1=Viajero('Juan',25,'Argentina',[{'Ana','Arg',20},{'Lola','Brasil',30}])\n",
    "viajero2=Viajero('Pedro',20,'Brasil',{compa3})\n",
    "viajero3=Viajero('Jose', 30,'Peru',{compa4})"
   ]
  },
  {
   "cell_type": "code",
   "execution_count": 172,
   "metadata": {},
   "outputs": [
    {
     "name": "stdout",
     "output_type": "stream",
     "text": [
      "{<__main__.Companieros object at 0x0000019B60642B90>, <__main__.Companieros object at 0x0000019B6079AC50>}\n",
      "25\n",
      "Argentina\n"
     ]
    }
   ],
   "source": [
    "print(viajero1.companieros)\n",
    "print(viajero1.edad)\n",
    "print(viajero1.paises)"
   ]
  },
  {
   "cell_type": "code",
   "execution_count": 168,
   "metadata": {},
   "outputs": [],
   "source": [
    "class Companieros:\n",
    "    def __init__(self,nombre_compa,nacionalidad_compa,edad_compa):\n",
    "        self.nombre_compa = nombre_compa\n",
    "        self.nacionalidad_compa = nacionalidad_compa\n",
    "        self.edad_compa = edad_compa"
   ]
  },
  {
   "cell_type": "code",
   "execution_count": 170,
   "metadata": {},
   "outputs": [],
   "source": [
    "compa1=Companieros('Ana','Arg',20)\n",
    "compa2=Companieros('Lola','Brasil',30)\n",
    "compa3=Companieros('Mike','Chile',20)\n",
    "compa4=Companieros('Luis','USA',30)"
   ]
  },
  {
   "cell_type": "code",
   "execution_count": null,
   "metadata": {},
   "outputs": [],
   "source": []
  },
  {
   "cell_type": "code",
   "execution_count": 3,
   "metadata": {},
   "outputs": [],
   "source": [
    "def dividirDosNumeros(dividendo,divisor):\n",
    "    '''Esta funcion devuelve dos valores, la parte entera de la division y su resto.'\n",
    "    Recibe dos argumentos:\n",
    "        dividendo:      el numero que va a ser dividido\n",
    "        divisor:        el numero que va a divir\n",
    "    Ej:\n",
    "        dividirDosNumeros(10,3) debe retornar 3,1\n",
    "\n",
    "        '''\n",
    "    #tu codigo\n",
    "    if divisor == 0:\n",
    "        print('Errorinput, el divisor no puede ser cero')\n",
    "\n",
    "    entero= dividendo // divisor\n",
    "\n",
    "    resto = dividendo % divisor\n",
    "    Resultado=(entero,resto)\n",
    "    return  Resultado"
   ]
  },
  {
   "cell_type": "code",
   "execution_count": 4,
   "metadata": {},
   "outputs": [
    {
     "data": {
      "text/plain": [
       "(3, 1)"
      ]
     },
     "execution_count": 4,
     "metadata": {},
     "output_type": "execute_result"
    }
   ],
   "source": [
    "dividirDosNumeros(10,3)"
   ]
  },
  {
   "cell_type": "code",
   "execution_count": 18,
   "metadata": {},
   "outputs": [],
   "source": [
    "def proximoPrimo(valor):\n",
    "    resultado=0\n",
    "    for i in range(valor+1,valor+5):\n",
    "        print(i)\n",
    "        if EsPrimo(i):\n",
    "            resultado=i\n",
    "            break\n",
    "    return resultado\n",
    "  \n",
    "def EsPrimo(valor):\n",
    "    es_primo=True\n",
    "    if valor == 0:\n",
    "        es_primo = False\n",
    "    elif valor == 1:\n",
    "        es_primo = False\n",
    "    else:\n",
    "        for i in range(2,valor):\n",
    "            if valor % i == 0:\n",
    "                es_primo=False\n",
    "                break\n",
    "            else:\n",
    "                es_primo=True\n",
    "    return es_primo"
   ]
  },
  {
   "cell_type": "code",
   "execution_count": 19,
   "metadata": {},
   "outputs": [
    {
     "name": "stdout",
     "output_type": "stream",
     "text": [
      "8\n",
      "9\n",
      "10\n",
      "11\n"
     ]
    },
    {
     "data": {
      "text/plain": [
       "11"
      ]
     },
     "execution_count": 19,
     "metadata": {},
     "output_type": "execute_result"
    }
   ],
   "source": [
    "proximoPrimo(7)"
   ]
  },
  {
   "cell_type": "code",
   "execution_count": 35,
   "metadata": {},
   "outputs": [],
   "source": [
    "def listaEnteros(inicio,tamanio):\n",
    "       \n",
    "    hasta=inicio+tamanio\n",
    "    resultado=[]\n",
    "    \n",
    "    for i in range(inicio,hasta):\n",
    "        resultado.append(i)\n",
    "    return resultado\n"
   ]
  },
  {
   "cell_type": "code",
   "execution_count": 32,
   "metadata": {},
   "outputs": [
    {
     "data": {
      "text/plain": [
       "[10, 11, 12, 13, 14]"
      ]
     },
     "execution_count": 32,
     "metadata": {},
     "output_type": "execute_result"
    }
   ],
   "source": [
    "listaEnteros(10,5)"
   ]
  },
  {
   "cell_type": "code",
   "execution_count": 36,
   "metadata": {},
   "outputs": [
    {
     "data": {
      "text/plain": [
       "[-9, -8, -7, -6, -5, -4, -3, -2, -1, 0]"
      ]
     },
     "execution_count": 36,
     "metadata": {},
     "output_type": "execute_result"
    }
   ],
   "source": [
    "listaEnteros(-9,10)"
   ]
  },
  {
   "cell_type": "code",
   "execution_count": 44,
   "metadata": {},
   "outputs": [],
   "source": [
    "def ListaPrimos(desde,hasta):\n",
    "    '''Esta funcion devuelve una lista con los numeros primos entre los valores 'desde'y ; hasta'\n",
    "    pasados por argumentos, siendo ambos inclusivos\n",
    "    \n",
    "    En caso de que alguno de los parametros no sea de tipo entero y/o no sea mayor a cero,\n",
    "    debe retornar nulo\n",
    "    \n",
    "    en caso de que el segundo parametro sea mayor al primero, pero ambos mayores que cero, \n",
    "    debe retornar una lista vacia.\n",
    "    \n",
    "    Recibe un argumento:\n",
    "        'desde':    Sera el numero a partir del cual se toma el rango\n",
    "        'hasta':    sera el numero hasta el cual se tome el rango\n",
    "\n",
    "        Ej:\n",
    "        ListaPrimos(7,15)  debe retornar [7,11,13]\n",
    "        ListaPrimos(100,99)  debe retornar []\n",
    "        ListaPrimos(1,7)  debe retornar [2,3,5,7]      '''\n",
    "    \n",
    "    #tu codigo\n",
    "    arr=[]\n",
    "    if type(desde)!= int or desde < 0:\n",
    "        return arr\n",
    "    if type(hasta)!=int or hasta < 0:\n",
    "        return arr\n",
    "    if hasta<desde:\n",
    "        return arr\n",
    "    for i in range(desde,hasta+1):\n",
    "        if EsPrimo(i):\n",
    "            arr.append(i)\n",
    "\n",
    "    return arr\n",
    "\n",
    "\n",
    "        "
   ]
  },
  {
   "cell_type": "code",
   "execution_count": 46,
   "metadata": {},
   "outputs": [
    {
     "data": {
      "text/plain": [
       "[101, 103, 107, 109]"
      ]
     },
     "execution_count": 46,
     "metadata": {},
     "output_type": "execute_result"
    }
   ],
   "source": [
    "ListaPrimos(100,110)"
   ]
  },
  {
   "cell_type": "code",
   "execution_count": 47,
   "metadata": {},
   "outputs": [],
   "source": [
    "def exponente(numero,exponente):\n",
    "    '''Esta funcion devuelve el resultado de elevar el parametro 'numero'al parametro 'exponente'\n",
    "    Recibe dos argumentos:\n",
    "    \n",
    "        numero: el numero base en la operacion exponencial\n",
    "        exponente: el numero exponente en la operacion exponencial\n",
    "        \n",
    "        Ej:\n",
    "        \n",
    "        exponente(10,3) debe devolver 1000 '''\n",
    "    \n",
    "    salida=numero**exponente\n",
    "    return salida"
   ]
  },
  {
   "cell_type": "code",
   "execution_count": 49,
   "metadata": {},
   "outputs": [
    {
     "data": {
      "text/plain": [
       "8"
      ]
     },
     "execution_count": 49,
     "metadata": {},
     "output_type": "execute_result"
    }
   ],
   "source": [
    "exponente(2,3)"
   ]
  },
  {
   "cell_type": "code",
   "execution_count": 50,
   "metadata": {},
   "outputs": [],
   "source": [
    "def exponente1(nro,exp):\n",
    "    resultado=1\n",
    "    for i in range(1,exp+1):\n",
    "        resultado=resultado*nro\n",
    "    return resultado"
   ]
  },
  {
   "cell_type": "code",
   "execution_count": 51,
   "metadata": {},
   "outputs": [
    {
     "data": {
      "text/plain": [
       "8"
      ]
     },
     "execution_count": 51,
     "metadata": {},
     "output_type": "execute_result"
    }
   ],
   "source": [
    "exponente1(2,3)"
   ]
  },
  {
   "cell_type": "code",
   "execution_count": 52,
   "metadata": {},
   "outputs": [
    {
     "data": {
      "text/plain": [
       "1000"
      ]
     },
     "execution_count": 52,
     "metadata": {},
     "output_type": "execute_result"
    }
   ],
   "source": [
    "exponente1(10,3)"
   ]
  },
  {
   "cell_type": "code",
   "execution_count": 56,
   "metadata": {},
   "outputs": [],
   "source": [
    "ListaA=['hola','mundo','hola',13,14]"
   ]
  },
  {
   "cell_type": "code",
   "execution_count": 57,
   "metadata": {},
   "outputs": [],
   "source": [
    "B=tuple(ListaA)"
   ]
  },
  {
   "cell_type": "code",
   "execution_count": 58,
   "metadata": {},
   "outputs": [
    {
     "name": "stdout",
     "output_type": "stream",
     "text": [
      "('hola', 'mundo', 'hola', 13, 14)\n",
      "<class 'tuple'>\n"
     ]
    }
   ],
   "source": [
    "print(B)\n",
    "print(type(B))"
   ]
  },
  {
   "cell_type": "code",
   "execution_count": 122,
   "metadata": {},
   "outputs": [],
   "source": [
    "def listaRepetidos(lista):\n",
    "    '''Esta funcion recibe como argumentos una lista de tuplas donde cada tupla\n",
    "      contiene un valor de la lista original y las veces que se repite.\n",
    "      Los valores de la lista original no deben estar repetidos.\n",
    "      Debe respetarse el orden original en el que aparecen los elementos.\n",
    "      En caso de que el parametro no sea de tipo lista debe ser retornar nulo.\n",
    "      Recibe un argumento:\n",
    "      lista: sera la lista que va a evaluar.\n",
    "\n",
    "      Ej:\n",
    "      ListaRepetidos([]) debe retornar []\n",
    "      ListaRepetidos(['hola','mundo','hola',13,14])  debe retornar\n",
    "                [('hola',2),('mundo',1),(13,1),(14,1)]\n",
    "      ListaRepetidos([1,2,2,4])  debe retornar [(1,1),(2,2),(4,1)]\n",
    "\n",
    "\n",
    "    '''\n",
    "# tu codigo\n",
    "    if not (isinstance(lista,list)):\n",
    "        return None\n",
    "# este es otro metodo para crear una lista sin duplicados\n",
    "    listasinrepes=[]\n",
    "\n",
    "    [listasinrepes.append(item) for item in lista if item not in listasinrepes]\n",
    " \n",
    "# creo una lista sin duplicados manteniendo el orden de los elementos de la lista original\n",
    "#    for elementos in lista:\n",
    "#      if elementos not in listasinrepes:\n",
    "#         listasinrepes.append(elementos)\n",
    "    \n",
    "    print(listasinrepes)\n",
    "\n",
    "    N=len(listasinrepes)\n",
    "    elemento_repetido=[]\n",
    "    lista_salida=[]\n",
    "    for i in range(N): # cantidad de elementos en lista, cantidad de tuplas a generar\n",
    "        elemento_repetido.append(listasinrepes[i])\n",
    "        elemento_repetido.append(lista.count(listasinrepes[i]))\n",
    "        lista_salida.append(tuple(elemento_repetido))\n",
    "        elemento_repetido=[]\n",
    "    return lista_salida\n",
    "    \n",
    "#my_list = [] # list to store the final imput\n",
    "#temp_list = [] # Initialize an empty temporary list to store each sub-list\n",
    "#N = len(lista) # Take input from the user for the number of sub-lists\n",
    "#for i in range(N): # Loop over the range of n to take input for each sub-list\n",
    "#    for j in range(2): # Loop over the range of 2 to take input for each element in the sub-list\n",
    "#        temp_list.append() # Take input from the user for the current element\n",
    "#    my_list.append(temp_list) # Append the current sub-list to the final list\n",
    "#    temp_list = []         # Reset the temporary list to an empty list for the next iteration\n",
    "#print(my_list)  # Print the final output"
   ]
  },
  {
   "cell_type": "code",
   "execution_count": 125,
   "metadata": {},
   "outputs": [
    {
     "name": "stdout",
     "output_type": "stream",
     "text": [
      "['hola', 'mundo', 13, 14]\n"
     ]
    },
    {
     "data": {
      "text/plain": [
       "[('hola', 3), ('mundo', 2), (13, 2), (14, 3)]"
      ]
     },
     "execution_count": 125,
     "metadata": {},
     "output_type": "execute_result"
    }
   ],
   "source": [
    "listaRepetidos(['hola','mundo','hola',13,13,14,'hola',14,14,'mundo'])"
   ]
  },
  {
   "cell_type": "code",
   "execution_count": 126,
   "metadata": {},
   "outputs": [
    {
     "name": "stdout",
     "output_type": "stream",
     "text": [
      "[1, 2, 3, 4]\n"
     ]
    },
    {
     "data": {
      "text/plain": [
       "[(1, 2), (2, 3), (3, 1), (4, 2)]"
      ]
     },
     "execution_count": 126,
     "metadata": {},
     "output_type": "execute_result"
    }
   ],
   "source": [
    "listaRepetidos([1,1,2,2,2,3,4,4])"
   ]
  },
  {
   "cell_type": "code",
   "execution_count": 85,
   "metadata": {},
   "outputs": [
    {
     "data": {
      "text/plain": [
       "[]"
      ]
     },
     "execution_count": 85,
     "metadata": {},
     "output_type": "execute_result"
    }
   ],
   "source": [
    "listaRepetidos([])"
   ]
  },
  {
   "cell_type": "code",
   "execution_count": 80,
   "metadata": {},
   "outputs": [],
   "source": [
    "def ListaRepetidos2(lista):\n",
    "\n",
    "    if not(isinstance(lista,list)):\n",
    "        return None\n",
    "    dict={}\n",
    "\n",
    "    for i in lista:\n",
    "        if i in dict:\n",
    "            dict[i]=dict[i]+1\n",
    "        else:\n",
    "            dict[i]=1\n",
    "    return [(k,v) for k,v in dict.items()]\n"
   ]
  },
  {
   "cell_type": "code",
   "execution_count": 127,
   "metadata": {},
   "outputs": [],
   "source": [
    "dicc={'clave1': ['c','a','b'],\n",
    "                'clave2': ['casa', 'auto', 'barco'],\n",
    "                 'clave3': [1,2,3]} "
   ]
  },
  {
   "cell_type": "code",
   "execution_count": 6,
   "metadata": {},
   "outputs": [],
   "source": [
    "def ordenarDiccionario(diccionario_par,clave,descendente=True):\n",
    "    '''Esta funcion recibe como parametros un diccionario, cuyas listas de valores tienen el mismo tamano y sus elementos\n",
    "    enesimos estan asociados. Y otros parametros que indican la clave por la cual debe ordenarse y si es descendente o ascendente.\n",
    "    \n",
    "    la Funcion debe devolver el diccionario ordenado, teniendo en cuenta de no perder la relacion entre los elementos enesimos.\n",
    "    Recibe tres argumentos :\n",
    "        diccionario:        Diccionario a ordenar\n",
    "        clave:              Clave del diccionario recibido por la cual se solicita ordenar\n",
    "        ordenamiento ascendente True \n",
    "        y ascendente si es False\n",
    "        \n",
    "        Debe tratarse de un parametro por defecto True\n",
    "        \n",
    "        Si el parametro diccionario no es un tipo de dato diccionario o el parametro clave  no se encuentra dentro de las claves del diccionario\n",
    "         , debe devolver nulo\n",
    "          Ej:\n",
    "          \n",
    "           dicc={'clave1': ['c','a','b'],\n",
    "                'clave2': ['casa', 'auto', 'barco'],\n",
    "                 'clave3': [1,2,3]} \n",
    "            ordenarDiccionario(dicc,'clave1')\n",
    "            \n",
    "            Debe retornar: {'clave1':['a','b','c'], 'clave2': ['auto','barco','casa]','clave3': [2,3,1]}\n",
    "            \n",
    "            ordenarDiccionario(dicc,'clave3',False)\n",
    "\n",
    "            Debe retornar:\n",
    "\n",
    "            Debe retornar: {'clave1':['b','a','c'], 'clave2': ['barco','auto','casa']','clave3': [3,2,1]}\n",
    "            '''\n",
    "    #tu codigo aca:\n",
    "    NO=[]\n",
    "    if not (isinstance(diccionario_par,dict)):\n",
    "        return NO\n",
    "    if clave not in list((diccionario_par.keys())):\n",
    "        return NO\n",
    "    \n",
    "    if (len(diccionario_par[list(diccionario_par.keys())[0]]))>0:\n",
    "        cantidadValores = len(diccionario_par[list(diccionario_par.keys())[0]])\n",
    "        #convertimos el diccionario de listas a una lista de diccionarios:\n",
    "        newArr=[]\n",
    "        for i in range(0,cantidadValores):\n",
    "            newObj = {}\n",
    "            for key in diccionario_par:\n",
    "                newObj[key]=diccionario_par[key][i]\n",
    "            newArr.append(newObj)\n",
    "\n",
    "        #ordenamos\n",
    "\n",
    "        newArrSorted = sorted(newArr, key=lambda d: d[clave],reverse=not(descendente))\n",
    "        print(newArrSorted)\n",
    "\n",
    "        #convertimos la lista de diccionarios, en un diccionario de listas:\n",
    "        res={}\n",
    "        for key in diccionario_par:\n",
    "            newArr2=[]\n",
    "            for i in range(0,cantidadValores):\n",
    "                newArr2.append(newArrSorted[i][key])\n",
    "                res[key]=newArr2\n",
    "\n",
    "        # si no tienen valores devolvemos el mismo diccionario\n",
    "    return res"
   ]
  },
  {
   "cell_type": "code",
   "execution_count": 10,
   "metadata": {},
   "outputs": [
    {
     "name": "stdout",
     "output_type": "stream",
     "text": [
      "[{'clave1': 'c', 'clave2': 'casa', 'clave3': 1}, {'clave1': 'b', 'clave2': 'barco', 'clave3': 3}, {'clave1': 'a', 'clave2': 'auto', 'clave3': 2}]\n"
     ]
    },
    {
     "data": {
      "text/plain": [
       "{'clave1': ['c', 'b', 'a'],\n",
       " 'clave2': ['casa', 'barco', 'auto'],\n",
       " 'clave3': [1, 3, 2]}"
      ]
     },
     "execution_count": 10,
     "metadata": {},
     "output_type": "execute_result"
    }
   ],
   "source": [
    "ordenarDiccionario(dicc,'clave1',False)"
   ]
  },
  {
   "cell_type": "code",
   "execution_count": 7,
   "metadata": {},
   "outputs": [],
   "source": [
    "dicc={'clave1': ['c','a','b'],'clave2': ['casa', 'auto', 'barco'],'clave3': [1,2,3]} "
   ]
  },
  {
   "cell_type": "code",
   "execution_count": 140,
   "metadata": {},
   "outputs": [],
   "source": [
    "def ordenarDicc(diccionario_par,clave,descendente=True):\n",
    "    \n",
    "    if not(isinstance(diccionario_par,dict)):\n",
    "        return None\n",
    "    arr=[]\n",
    "    numValores=len(diccionario_par['clave1'])\n",
    "    print(numValores)\n",
    "    claves=list(diccionario_par.keys())\n",
    "\n",
    "    print(claves)\n",
    "    for i in range(0,numValores):\n",
    "        partial={}\n",
    "        for c in claves:\n",
    "            partial[c]=diccionario_par[c][i]\n",
    "            arr.append(partial)\n",
    "    # {'clave1:'c', 'clave2': 'casa', 'clvae3':1}\n",
    "    print(arr)\n",
    "    res=sorted(arr,key=lambda x: x[clave],reverse=descendente)\n",
    "\n",
    "    dicRes={}\n",
    "    for c in claves:\n",
    "        dicRes[c]=None*numValores\n",
    "        for i in range(0,numValores):\n",
    "            dicRes[c][i]=res[i][c]\n",
    "\n",
    "    return dicRes"
   ]
  },
  {
   "cell_type": "code",
   "execution_count": 156,
   "metadata": {},
   "outputs": [
    {
     "name": "stdout",
     "output_type": "stream",
     "text": [
      "3\n",
      "['clave1', 'clave2', 'clave3']\n",
      "[{'clave1': 'c', 'clave2': 'casa', 'clave3': 1}, {'clave1': 'c', 'clave2': 'casa', 'clave3': 1}, {'clave1': 'c', 'clave2': 'casa', 'clave3': 1}, {'clave1': 'a', 'clave2': 'auto', 'clave3': 2}, {'clave1': 'a', 'clave2': 'auto', 'clave3': 2}, {'clave1': 'a', 'clave2': 'auto', 'clave3': 2}, {'clave1': 'b', 'clave2': 'barco', 'clave3': 3}, {'clave1': 'b', 'clave2': 'barco', 'clave3': 3}, {'clave1': 'b', 'clave2': 'barco', 'clave3': 3}]\n"
     ]
    },
    {
     "ename": "TypeError",
     "evalue": "unsupported operand type(s) for *: 'NoneType' and 'int'",
     "output_type": "error",
     "traceback": [
      "\u001b[1;31m---------------------------------------------------------------------------\u001b[0m",
      "\u001b[1;31mTypeError\u001b[0m                                 Traceback (most recent call last)",
      "\u001b[1;32mc:\\Users\\Florencia\\Desktop\\Python-Prep\\Carpeta Nueva\\hacker_rank3.ipynb Celda 29\u001b[0m line \u001b[0;36m1\n\u001b[1;32m----> <a href='vscode-notebook-cell:/c%3A/Users/Florencia/Desktop/Python-Prep/Carpeta%20Nueva/hacker_rank3.ipynb#X41sZmlsZQ%3D%3D?line=0'>1</a>\u001b[0m ordenarDicc(dicc,\u001b[39m'\u001b[39;49m\u001b[39mclave1\u001b[39;49m\u001b[39m'\u001b[39;49m,\u001b[39mTrue\u001b[39;49;00m)\n",
      "\u001b[1;32mc:\\Users\\Florencia\\Desktop\\Python-Prep\\Carpeta Nueva\\hacker_rank3.ipynb Celda 29\u001b[0m line \u001b[0;36m2\n\u001b[0;32m     <a href='vscode-notebook-cell:/c%3A/Users/Florencia/Desktop/Python-Prep/Carpeta%20Nueva/hacker_rank3.ipynb#X41sZmlsZQ%3D%3D?line=19'>20</a>\u001b[0m dicRes\u001b[39m=\u001b[39m{}\n\u001b[0;32m     <a href='vscode-notebook-cell:/c%3A/Users/Florencia/Desktop/Python-Prep/Carpeta%20Nueva/hacker_rank3.ipynb#X41sZmlsZQ%3D%3D?line=20'>21</a>\u001b[0m \u001b[39mfor\u001b[39;00m c \u001b[39min\u001b[39;00m claves:\n\u001b[1;32m---> <a href='vscode-notebook-cell:/c%3A/Users/Florencia/Desktop/Python-Prep/Carpeta%20Nueva/hacker_rank3.ipynb#X41sZmlsZQ%3D%3D?line=21'>22</a>\u001b[0m     dicRes[c]\u001b[39m=\u001b[39m\u001b[39mNone\u001b[39;49;00m\u001b[39m*\u001b[39;49mnumValores\n\u001b[0;32m     <a href='vscode-notebook-cell:/c%3A/Users/Florencia/Desktop/Python-Prep/Carpeta%20Nueva/hacker_rank3.ipynb#X41sZmlsZQ%3D%3D?line=22'>23</a>\u001b[0m     \u001b[39mfor\u001b[39;00m i \u001b[39min\u001b[39;00m \u001b[39mrange\u001b[39m(\u001b[39m0\u001b[39m,numValores):\n\u001b[0;32m     <a href='vscode-notebook-cell:/c%3A/Users/Florencia/Desktop/Python-Prep/Carpeta%20Nueva/hacker_rank3.ipynb#X41sZmlsZQ%3D%3D?line=23'>24</a>\u001b[0m         dicRes[c][i]\u001b[39m=\u001b[39mres[i][c]\n",
      "\u001b[1;31mTypeError\u001b[0m: unsupported operand type(s) for *: 'NoneType' and 'int'"
     ]
    }
   ],
   "source": [
    "ordenarDicc(dicc,'clave1',True)"
   ]
  },
  {
   "cell_type": "code",
   "execution_count": null,
   "metadata": {},
   "outputs": [],
   "source": [
    "def ClaseVehiculo(tipo,color):\n",
    "    '''Esta funcion devuelve un objeto instanciado de la clase Vehiculo\n",
    "    la cual debe tener los siguientes atributos:\n",
    "        Tipo:   Un valor dentro de los valores posibles: ['auto','camioneta','moto']\n",
    "        Color:  un valor de tipo de dato string.\n",
    "        Velocidad:  un valor de tipo dato float, que debe inicializarse en cero.\n",
    "           \n",
    "    y debe tener el siguiente metodo:\n",
    "        Acelerar(): Este metodo recibe un parametro con el valor que debe\n",
    "        incrementar a la propiedad Velocidad y luego retornarla.\n",
    "        Si la propiedad Velocidad cobra un valor menor a cero, debe quedar en cero.\n",
    "        Si la propiedad Velocidad cobra un valor mayor a cien, debe quedar en cien.\n",
    "\n",
    "    Recibe dos argumentos:\n",
    "    tipo: Dato que se asignara al atributo Tipo del objeto de la clase Vehiculo.\n",
    "    Color: Dato que se asignara al atributo Color del objeto de la clase Vehiculo\n",
    "    Ej:\n",
    "     a = ClaseVehiculo('auto','gris')\n",
    "     a.Acelerar(10) -> debe devolver 10\n",
    "     a.Acelerar(15) -> debe devolver 25\n",
    "     a.Acelerar(-10) -> debe devolver 15\n",
    "    '''\n",
    "    #tu codigo aca:\n",
    "    "
   ]
  }
 ],
 "metadata": {
  "kernelspec": {
   "display_name": "Python 3",
   "language": "python",
   "name": "python3"
  },
  "language_info": {
   "codemirror_mode": {
    "name": "ipython",
    "version": 3
   },
   "file_extension": ".py",
   "mimetype": "text/x-python",
   "name": "python",
   "nbconvert_exporter": "python",
   "pygments_lexer": "ipython3",
   "version": "3.11.5"
  },
  "orig_nbformat": 4
 },
 "nbformat": 4,
 "nbformat_minor": 2
}

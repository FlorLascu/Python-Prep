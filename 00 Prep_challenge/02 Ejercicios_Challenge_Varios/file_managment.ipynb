{
 "cells": [
  {
   "cell_type": "code",
   "execution_count": 8,
   "metadata": {},
   "outputs": [
    {
     "name": "stdout",
     "output_type": "stream",
     "text": [
      "Hello world\n",
      "\n",
      "GeeksforGeeks\n",
      "\n",
      "123 456\n"
     ]
    }
   ],
   "source": [
    "# a file named \"geek\", will be opened with the reading mode.\n",
    "file = open('geeks.txt', 'r')\n",
    " \n",
    "# This will print every line one by one in the file\n",
    "for each in file:\n",
    "    print (each)"
   ]
  },
  {
   "cell_type": "code",
   "execution_count": 9,
   "metadata": {},
   "outputs": [
    {
     "name": "stdout",
     "output_type": "stream",
     "text": [
      "Files in 'c:\\\\Users\\\\Florencia\\\\Desktop\\\\Python-Prep\\\\Carpeta Nueva': ['agregaPropiedades.ipynb', 'Borrador.ipynb', 'claseVehiculo.ipynb', 'crear_clase_viajero.ipynb', 'crear_clase_viajero_nested.ipynb', 'dictionary_practice.ipynb', 'file_managment.ipynb', 'filtrar.ipynb', 'geeks.txt', 'hacker_rank.ipynb', 'hacker_rank2.ipynb', 'hacker_rank3.ipynb', 'hacker_rank4.ipynb', 'hacker_rank5.ipynb', 'hacker_rank6.ipynb', 'hacker_rank7.ipynb', 'HRclasevehiculo.ipynb', 'inner_nested_classes.ipynb', 'listadedivisibles.ipynb', 'ListaDeListas.py', 'meal_cost.ipynb', 'menorMayor.py', 'miselaneos.ipynb', 'numerocapicua.ipynb', 'ordenardiccionario.ipynb', 'Repaso.ipynb', 'Statistics', 'trianguloR.ipynb', 'try.ipynb']\n"
     ]
    }
   ],
   "source": [
    "import os\n",
    "\n",
    "cwd = os.getcwd()  # Get the current working directory (cwd)\n",
    "files = os.listdir(cwd)  # Get all the files in that directory\n",
    "print(\"Files in %r: %s\" % (cwd, files))"
   ]
  },
  {
   "cell_type": "code",
   "execution_count": 10,
   "metadata": {},
   "outputs": [],
   "source": [
    "# Python code to create a file\n",
    "file = open('geek.txt','w')\n",
    "file.write(\"This is the write command\")\n",
    "file.write(\"It allows us to write in a particular file\")\n",
    "file.close()"
   ]
  }
 ],
 "metadata": {
  "kernelspec": {
   "display_name": "Python 3",
   "language": "python",
   "name": "python3"
  },
  "language_info": {
   "codemirror_mode": {
    "name": "ipython",
    "version": 3
   },
   "file_extension": ".py",
   "mimetype": "text/x-python",
   "name": "python",
   "nbconvert_exporter": "python",
   "pygments_lexer": "ipython3",
   "version": "3.11.5"
  }
 },
 "nbformat": 4,
 "nbformat_minor": 2
}

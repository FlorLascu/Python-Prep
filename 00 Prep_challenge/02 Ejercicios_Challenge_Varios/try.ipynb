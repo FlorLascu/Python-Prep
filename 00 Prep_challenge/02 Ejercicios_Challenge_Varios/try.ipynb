{
 "cells": [
  {
   "cell_type": "code",
   "execution_count": 3,
   "metadata": {},
   "outputs": [],
   "source": [
    "def solve(meal_cost, tip_percent, tax_percent):\n",
    "    # Write your code here\n",
    "\n",
    "    if __name__ == '__main__':\n",
    "        meal_cost = float(input().strip())\n",
    "\n",
    "    tip_percent = int(input().strip())\n",
    "\n",
    "    tax_percent = int(input().strip())\n",
    "\n",
    "    tip = meal_cost * (tip_percent/100) \n",
    "    tax = meal_cost * (tax_percent/100)\n",
    "    \n",
    "    r = meal_cost + tip + tax\n",
    "\n",
    "    return round(r)"
   ]
  },
  {
   "cell_type": "code",
   "execution_count": 4,
   "metadata": {},
   "outputs": [
    {
     "data": {
      "text/plain": [
       "15"
      ]
     },
     "execution_count": 4,
     "metadata": {},
     "output_type": "execute_result"
    }
   ],
   "source": [
    "solve(12,20,8)"
   ]
  },
  {
   "cell_type": "code",
   "execution_count": 5,
   "metadata": {},
   "outputs": [
    {
     "name": "stdout",
     "output_type": "stream",
     "text": [
      "Welcome to GeeksforGeeks "
     ]
    }
   ],
   "source": [
    "print(\"Welcome to\", end = ' ') # termina la ejecucion de print con un espacio en vez de en una nueva linea.\n",
    "print(\"GeeksforGeeks\", end= ' ') # por default print siempre empieza en una nueva linea"
   ]
  },
  {
   "cell_type": "code",
   "execution_count": 6,
   "metadata": {},
   "outputs": [
    {
     "name": "stdout",
     "output_type": "stream",
     "text": [
      "Python@GeeksforGeeks\n"
     ]
    }
   ],
   "source": [
    "# ends the output with '@'\n",
    "print(\"Python\", end='@')\n",
    "print(\"GeeksforGeeks\")"
   ]
  },
  {
   "cell_type": "code",
   "execution_count": 7,
   "metadata": {},
   "outputs": [
    {
     "name": "stdout",
     "output_type": "stream",
     "text": [
      "GFG\n",
      "09-12-2016\n",
      "Red,Green,Blue@geeksforgeeks\n"
     ]
    }
   ],
   "source": [
    "print('G','F', sep='', end='')\n",
    "print('G')\n",
    "#\\n provides new line after printing the year\n",
    "print('09','12','2016', sep='-', end='\\n')\n",
    "  \n",
    "print('Red','Green','Blue', sep=',', end='@')\n",
    "print('geeksforgeeks')"
   ]
  },
  {
   "cell_type": "code",
   "execution_count": 8,
   "metadata": {},
   "outputs": [],
   "source": [
    "students = ['Python', 'R', 'C#', 'Python', 'R', 'Java']"
   ]
  },
  {
   "cell_type": "code",
   "execution_count": 9,
   "metadata": {},
   "outputs": [
    {
     "name": "stdout",
     "output_type": "stream",
     "text": [
      "['Python', 'R', 'C#', 'Java']\n"
     ]
    }
   ],
   "source": [
    "new_list = []\n",
    "\n",
    "for one_student_choice in students:\n",
    "    if one_student_choice not in new_list:\n",
    "        new_list.append(one_student_choice)\n",
    "\n",
    "print(new_list)"
   ]
  },
  {
   "cell_type": "code",
   "execution_count": 11,
   "metadata": {},
   "outputs": [
    {
     "name": "stdout",
     "output_type": "stream",
     "text": [
      "['Python', 'R', 'C#', 'Java']\n"
     ]
    }
   ],
   "source": [
    "new_list = []\n",
    "[new_list.append(item) for item in students if item not in new_list]\n",
    "print(new_list)"
   ]
  },
  {
   "cell_type": "code",
   "execution_count": 12,
   "metadata": {},
   "outputs": [
    {
     "name": "stdout",
     "output_type": "stream",
     "text": [
      "['C#', 'Java', 'Python', 'R']\n"
     ]
    }
   ],
   "source": [
    "new_list=[]\n",
    "new_list = list(set(students))\n",
    "print(new_list)"
   ]
  },
  {
   "cell_type": "code",
   "execution_count": 13,
   "metadata": {},
   "outputs": [
    {
     "ename": "ValueError",
     "evalue": "dictionary update sequence element #0 has length 6; 2 is required",
     "output_type": "error",
     "traceback": [
      "\u001b[1;31m---------------------------------------------------------------------------\u001b[0m",
      "\u001b[1;31mValueError\u001b[0m                                Traceback (most recent call last)",
      "\u001b[1;32mc:\\Users\\Florencia\\Desktop\\Python-Prep\\Carpeta Nueva\\try.ipynb Celda 10\u001b[0m line \u001b[0;36m1\n\u001b[1;32m----> <a href='vscode-notebook-cell:/c%3A/Users/Florencia/Desktop/Python-Prep/Carpeta%20Nueva/try.ipynb#X12sZmlsZQ%3D%3D?line=0'>1</a>\u001b[0m \u001b[39mprint\u001b[39m(\u001b[39mdict\u001b[39;49m(students))\n",
      "\u001b[1;31mValueError\u001b[0m: dictionary update sequence element #0 has length 6; 2 is required"
     ]
    }
   ],
   "source": [
    "print(dict(students))"
   ]
  },
  {
   "cell_type": "code",
   "execution_count": 14,
   "metadata": {},
   "outputs": [
    {
     "name": "stdout",
     "output_type": "stream",
     "text": [
      "[('Python', None), ('R', None), ('C#', None), ('Python', None), ('R', None), ('Java', None)]\n",
      "\n"
     ]
    }
   ],
   "source": [
    "# Convert students list into a list of tuples\n",
    "list_of_tuples = list(map(lambda x: (x, None), students))\n",
    "\n",
    "print(list_of_tuples, end='\\n\\n')"
   ]
  },
  {
   "cell_type": "code",
   "execution_count": 16,
   "metadata": {},
   "outputs": [
    {
     "name": "stdout",
     "output_type": "stream",
     "text": [
      "The resulting dictionary from the list of tuples:\n",
      "{'Python': None, 'R': None, 'C#': None, 'Java': None}\n",
      "\n"
     ]
    }
   ],
   "source": [
    "# Convert list of tuples into a dictionary\n",
    "dict_students = dict(list_of_tuples)\n",
    "print('The resulting dictionary from the list of tuples:')\n",
    "print(dict_students, end='\\n\\n')\n"
   ]
  },
  {
   "cell_type": "code",
   "execution_count": 17,
   "metadata": {},
   "outputs": [
    {
     "name": "stdout",
     "output_type": "stream",
     "text": [
      "The new list without duplicates:\n",
      "['Python', 'R', 'C#', 'Java']\n",
      "\n"
     ]
    }
   ],
   "source": [
    "# Get the unique keys from the dictionary and convert into a list\n",
    "new_list = list(dict_students.keys())\n",
    "print('The new list without duplicates:')\n",
    "print(new_list, end='\\n\\n')"
   ]
  },
  {
   "cell_type": "code",
   "execution_count": null,
   "metadata": {},
   "outputs": [],
   "source": []
  }
 ],
 "metadata": {
  "kernelspec": {
   "display_name": "Python 3",
   "language": "python",
   "name": "python3"
  },
  "language_info": {
   "codemirror_mode": {
    "name": "ipython",
    "version": 3
   },
   "file_extension": ".py",
   "mimetype": "text/x-python",
   "name": "python",
   "nbconvert_exporter": "python",
   "pygments_lexer": "ipython3",
   "version": "3.11.5"
  },
  "orig_nbformat": 4
 },
 "nbformat": 4,
 "nbformat_minor": 2
}

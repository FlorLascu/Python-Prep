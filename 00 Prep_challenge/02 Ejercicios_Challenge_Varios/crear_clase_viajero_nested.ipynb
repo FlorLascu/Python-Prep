{
 "cells": [
  {
   "cell_type": "code",
   "execution_count": 203,
   "metadata": {},
   "outputs": [],
   "source": [
    "def crear_Clase_Viajero(nombre,edad,paises,companieros):\n",
    "  \n",
    "    class Viajero:\n",
    "      def __init__(self, nombre, edad, paises, companieros):\n",
    "        self.nombre   = nombre\n",
    "        self.edad  = edad\n",
    "        if paises == []:\n",
    "          self.paises = []\n",
    "        else:  \n",
    "          self.paises = [paises]\n",
    "        self.companieros = [companieros]\n",
    "      \n",
    "      def addcompaniero(self,compa):\n",
    "      #def addcompaniero(self, nombre_compa,nacionalidad_compa,edad_compa):\n",
    "        #class Companiero:\n",
    "        #    def __init__(self,nombre_compa,nacionalidad_compa,edad_compa):\n",
    "        #              self.nombre_compa = nombre_compa\n",
    "        #              self.nacionalidad_compa = nacionalidad_compa\n",
    "        #              self.edad_compa = edad_compa\n",
    "        #compa = Companiero(nombre_compa,nacionalidad_compa,edad_compa)  \n",
    "        #self.companieros.append({'nombre': compa.nombre_compa,'edad': compa.edad_compa,'nacionalidad': compa.nacionalidad_compa})\n",
    "         self.companieros.append(compa)\n",
    "                      \n",
    "      def addPais(self,pais):\n",
    "        #class Pais():\n",
    "        #  def __init__(self,pais):\n",
    "        #   self.pais = Pais\n",
    "        new_pais=pais    \n",
    "        self.paises.append(new_pais)\n",
    "       \n",
    "      def getCompanieros(self):\n",
    "        '''el metodo 'getCompanieros' debe retornar un arreglo con solo los nombres del arreglo de companieros\n",
    "        del viajero.\n",
    "        \n",
    "        Suponiendo que el viajero tiene estos companieros: \n",
    "        [{'nombre': 'Peter', 'nacionalidad': 'Belga', 'edad': 23}, {'nombre': 'John', 'nacionalidad': 'Australiano', 'edad': 27}]\n",
    "        \n",
    "        viajero.getCompanieros deberia devolver [ 'John','Peter]'''\n",
    "        #tu codigo aca:\n",
    "        #companieros_lista = list(map(self.companieros.get('nombre'),self.companieros))\n",
    "        companieros_lista = []\n",
    "        for i in range(0, len(self.companieros)):\n",
    "          companieros_lista.append(self.companieros[i].get('nombre'))\n",
    "        print(companieros_lista)\n",
    "      \n",
    "      def getPaises(self):\n",
    "        return self.paises\n",
    "      \n",
    "      def getPromedioEdad(self):\n",
    "        lista_edades = []  \n",
    "        l = len(self.companieros)\n",
    "        for i in range(0,l):\n",
    "          lista_edades.append((self.companieros[i].get('edad')))\n",
    "        #print(lista_edades)\n",
    "        suma = sum(lista_edades)\n",
    "        media = suma/l\n",
    "        return media\n",
    "      \n",
    "      def print(self):\n",
    "        print(f\"[{self.nombre}, {self.edad} ,{self.paises},{self.companieros}]\")\n",
    "        \n",
    "    viajero = Viajero(nombre,edad,paises,companieros)\n",
    "    return viajero\n"
   ]
  },
  {
   "cell_type": "code",
   "execution_count": 188,
   "metadata": {},
   "outputs": [],
   "source": [
    "compa1 = {'nombre':'Ana','edad': 24,'nacionalidad': 'USA'}"
   ]
  },
  {
   "cell_type": "code",
   "execution_count": 206,
   "metadata": {},
   "outputs": [],
   "source": [
    "viajero2=crear_Clase_Viajero('Pedro',20,'Brasil',compa1)"
   ]
  },
  {
   "cell_type": "code",
   "execution_count": 102,
   "metadata": {},
   "outputs": [
    {
     "data": {
      "text/plain": [
       "__main__.crear_Clase_Viajero.<locals>.Viajero"
      ]
     },
     "execution_count": 102,
     "metadata": {},
     "output_type": "execute_result"
    }
   ],
   "source": [
    "type(viajero2)"
   ]
  },
  {
   "cell_type": "code",
   "execution_count": 209,
   "metadata": {},
   "outputs": [
    {
     "name": "stdout",
     "output_type": "stream",
     "text": [
      "[Pedro, 20 ,['Brasil'],[{'nombre': 'Ana', 'edad': 24, 'nacionalidad': 'USA'}, {'nombre': 'Ana', 'edad': 24, 'nacionalidad': 'USA'}, {'nombre': 'Lola', 'edad': 30, 'pais': 'Brasil'}]]\n"
     ]
    }
   ],
   "source": [
    "viajero2.print()"
   ]
  },
  {
   "cell_type": "code",
   "execution_count": 210,
   "metadata": {},
   "outputs": [],
   "source": [
    "viajero2.addcompaniero({'nombre':'Ana','edad': 24,'nacionalidad': 'USA'})\n",
    "viajero2.addcompaniero({'nombre':'Lola','edad': 30,'pais': 'Brasil'})"
   ]
  },
  {
   "cell_type": "code",
   "execution_count": 166,
   "metadata": {},
   "outputs": [
    {
     "data": {
      "text/plain": [
       "5"
      ]
     },
     "execution_count": 166,
     "metadata": {},
     "output_type": "execute_result"
    }
   ],
   "source": [
    "len(viajero2.companieros)"
   ]
  },
  {
   "cell_type": "code",
   "execution_count": 118,
   "metadata": {},
   "outputs": [
    {
     "data": {
      "text/plain": [
       "dict"
      ]
     },
     "execution_count": 118,
     "metadata": {},
     "output_type": "execute_result"
    }
   ],
   "source": [
    "type(viajero2.companieros[0])"
   ]
  },
  {
   "cell_type": "code",
   "execution_count": 211,
   "metadata": {},
   "outputs": [],
   "source": [
    "viajero2.addPais('Chile')"
   ]
  },
  {
   "cell_type": "code",
   "execution_count": 232,
   "metadata": {},
   "outputs": [],
   "source": [
    "viajero2.addPais('Colombia')"
   ]
  },
  {
   "cell_type": "code",
   "execution_count": 212,
   "metadata": {},
   "outputs": [
    {
     "name": "stdout",
     "output_type": "stream",
     "text": [
      "[Pedro, 20 ,['Brasil', 'Chile'],[{'nombre': 'Ana', 'edad': 24, 'nacionalidad': 'USA'}, {'nombre': 'Ana', 'edad': 24, 'nacionalidad': 'USA'}, {'nombre': 'Lola', 'edad': 30, 'pais': 'Brasil'}, {'nombre': 'Ana', 'edad': 24, 'nacionalidad': 'USA'}, {'nombre': 'Lola', 'edad': 30, 'pais': 'Brasil'}]]\n"
     ]
    }
   ],
   "source": [
    "viajero2.print()"
   ]
  },
  {
   "cell_type": "code",
   "execution_count": 213,
   "metadata": {},
   "outputs": [
    {
     "name": "stdout",
     "output_type": "stream",
     "text": [
      "['Ana', 'Ana', 'Lola', 'Ana', 'Lola']\n"
     ]
    }
   ],
   "source": [
    "viajero2.getCompanieros()"
   ]
  },
  {
   "cell_type": "code",
   "execution_count": 216,
   "metadata": {},
   "outputs": [
    {
     "data": {
      "text/plain": [
       "['Brasil', 'Chile', 'Colombia']"
      ]
     },
     "execution_count": 216,
     "metadata": {},
     "output_type": "execute_result"
    }
   ],
   "source": [
    "viajero2.getPaises()"
   ]
  },
  {
   "cell_type": "code",
   "execution_count": 217,
   "metadata": {},
   "outputs": [
    {
     "data": {
      "text/plain": [
       "26.4"
      ]
     },
     "execution_count": 217,
     "metadata": {},
     "output_type": "execute_result"
    }
   ],
   "source": [
    "viajero2.getPromedioEdad()"
   ]
  },
  {
   "cell_type": "code",
   "execution_count": 226,
   "metadata": {},
   "outputs": [],
   "source": [
    "viajero_B =crear_Clase_Viajero('Luis',18,['Chile','Uy'],{'nombre':'Ema','edad': 18,'nacionalidad':'Mx'})"
   ]
  },
  {
   "cell_type": "code",
   "execution_count": 231,
   "metadata": {},
   "outputs": [
    {
     "name": "stdout",
     "output_type": "stream",
     "text": [
      "[Luis, 18 ,[['Chile', 'Uy'], 'Colombia'],[{'nombre': 'Ema', 'edad': 18, 'nacionalidad': 'Mx'}, {'nombre': 'Ana', 'edad': 20, 'nacionalidad': 'Peru'}]]\n"
     ]
    }
   ],
   "source": [
    "viajero_B.print()"
   ]
  },
  {
   "cell_type": "code",
   "execution_count": 228,
   "metadata": {},
   "outputs": [],
   "source": [
    "viajero_B.addcompaniero({'nombre':'Ana','edad': 20,'nacionalidad':'Peru'})"
   ]
  },
  {
   "cell_type": "code",
   "execution_count": 230,
   "metadata": {},
   "outputs": [],
   "source": [
    "viajero_B.addPais('Colombia')"
   ]
  },
  {
   "cell_type": "code",
   "execution_count": 234,
   "metadata": {},
   "outputs": [
    {
     "data": {
      "text/plain": [
       "[['Chile', 'Uy'], 'Colombia']"
      ]
     },
     "execution_count": 234,
     "metadata": {},
     "output_type": "execute_result"
    }
   ],
   "source": [
    "viajero_B.getPaises()"
   ]
  },
  {
   "cell_type": "code",
   "execution_count": 235,
   "metadata": {},
   "outputs": [
    {
     "name": "stdout",
     "output_type": "stream",
     "text": [
      "['Ema', 'Ana']\n"
     ]
    },
    {
     "data": {
      "text/plain": [
       "19.0"
      ]
     },
     "execution_count": 235,
     "metadata": {},
     "output_type": "execute_result"
    }
   ],
   "source": [
    "viajero_B.getCompanieros()\n",
    "viajero_B.getPromedioEdad()"
   ]
  },
  {
   "cell_type": "code",
   "execution_count": 247,
   "metadata": {},
   "outputs": [],
   "source": [
    "viajero_A = crear_Clase_Viajero(\"Juan\",25,('Argentina','USA'),{'nombre': 'Ana','edad':20,'nacionalidad': 'Peru'})"
   ]
  },
  {
   "cell_type": "code",
   "execution_count": 248,
   "metadata": {},
   "outputs": [
    {
     "name": "stdout",
     "output_type": "stream",
     "text": [
      "[Juan, 25 ,[('Argentina', 'USA')],[{'nombre': 'Ana', 'edad': 20, 'nacionalidad': 'Peru'}]]\n"
     ]
    }
   ],
   "source": [
    "viajero_A.print()"
   ]
  },
  {
   "cell_type": "code",
   "execution_count": 249,
   "metadata": {},
   "outputs": [],
   "source": [
    "viajero_A.addcompaniero({'nombre':'Lola','edad': 30,'nacionalidad':'Brasil'})"
   ]
  },
  {
   "cell_type": "code",
   "execution_count": 250,
   "metadata": {},
   "outputs": [],
   "source": [
    "viajero_A.addPais('Venezuela')"
   ]
  },
  {
   "cell_type": "code",
   "execution_count": 251,
   "metadata": {},
   "outputs": [],
   "source": [
    "viajero_A.addcompaniero(compa1)"
   ]
  },
  {
   "cell_type": "code",
   "execution_count": 252,
   "metadata": {},
   "outputs": [
    {
     "name": "stdout",
     "output_type": "stream",
     "text": [
      "[Juan, 25 ,[('Argentina', 'USA'), 'Venezuela'],[{'nombre': 'Ana', 'edad': 20, 'nacionalidad': 'Peru'}, {'nombre': 'Lola', 'edad': 30, 'nacionalidad': 'Brasil'}, {'nombre': 'Ana', 'edad': 24, 'nacionalidad': 'USA'}]]\n"
     ]
    }
   ],
   "source": [
    "viajero_A.print()"
   ]
  },
  {
   "cell_type": "code",
   "execution_count": 253,
   "metadata": {},
   "outputs": [
    {
     "data": {
      "text/plain": [
       "[('Argentina', 'USA'), 'Venezuela']"
      ]
     },
     "execution_count": 253,
     "metadata": {},
     "output_type": "execute_result"
    }
   ],
   "source": [
    "viajero_A.getPaises()"
   ]
  },
  {
   "cell_type": "code",
   "execution_count": 254,
   "metadata": {},
   "outputs": [
    {
     "data": {
      "text/plain": [
       "24.666666666666668"
      ]
     },
     "execution_count": 254,
     "metadata": {},
     "output_type": "execute_result"
    }
   ],
   "source": [
    "viajero_A.getPromedioEdad()"
   ]
  },
  {
   "cell_type": "code",
   "execution_count": 255,
   "metadata": {},
   "outputs": [
    {
     "name": "stdout",
     "output_type": "stream",
     "text": [
      "['Ana', 'Lola', 'Ana']\n"
     ]
    }
   ],
   "source": [
    "viajero_A.getCompanieros()"
   ]
  }
 ],
 "metadata": {
  "kernelspec": {
   "display_name": "Python 3",
   "language": "python",
   "name": "python3"
  },
  "language_info": {
   "codemirror_mode": {
    "name": "ipython",
    "version": 3
   },
   "file_extension": ".py",
   "mimetype": "text/x-python",
   "name": "python",
   "nbconvert_exporter": "python",
   "pygments_lexer": "ipython3",
   "version": "3.11.5"
  }
 },
 "nbformat": 4,
 "nbformat_minor": 2
}

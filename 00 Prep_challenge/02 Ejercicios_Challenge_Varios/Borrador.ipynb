{
 "cells": [
  {
   "cell_type": "code",
   "execution_count": 29,
   "metadata": {},
   "outputs": [
    {
     "name": "stdout",
     "output_type": "stream",
     "text": [
      "{'a': ['a', 'b', 'c'], 'b': [2, 1, 3], 'c': ['a1', 'b2', 'c3']}\n"
     ]
    }
   ],
   "source": [
    "my_dict = {'b': [2,1,3],'a': ['a','b','c'],'c': ['a1','b2','c3']}\n",
    "sorted_dict = dict(sorted(my_dict.items()))\n",
    "\n",
    "print(sorted_dict)\n"
   ]
  },
  {
   "cell_type": "code",
   "execution_count": 14,
   "metadata": {},
   "outputs": [
    {
     "name": "stdout",
     "output_type": "stream",
     "text": [
      "[('b', [2, 1, 3]), ('a', ['a', 'b', 'c']), ('c', ['a1', 'b2', 'c3'])]\n"
     ]
    }
   ],
   "source": [
    "b=list(my_dict.items())\n",
    "print(b)"
   ]
  },
  {
   "cell_type": "code",
   "execution_count": 15,
   "metadata": {},
   "outputs": [
    {
     "name": "stdout",
     "output_type": "stream",
     "text": [
      "{'a': 1, 'b': 2, 'c': 3}\n"
     ]
    }
   ],
   "source": [
    "my_dict = {'b': 2, 'a': 1, 'c': 3}\n",
    "sorted_list = sorted(my_dict.items())\n",
    "\n",
    "sorted_dict = {}\n",
    "for key, value in sorted_list:\n",
    "    sorted_dict[key] = value\n",
    "\n",
    "print(sorted_dict)"
   ]
  },
  {
   "cell_type": "code",
   "execution_count": 20,
   "metadata": {},
   "outputs": [],
   "source": [
    "dicc={'clave2': ['casa', 'auto', 'barco'], 'clave1': ['c','a','b'],'clave3': [1,2,3]} "
   ]
  },
  {
   "cell_type": "code",
   "execution_count": 11,
   "metadata": {},
   "outputs": [
    {
     "name": "stdout",
     "output_type": "stream",
     "text": [
      "{'a': 1, 'b': 2, 'c': 3}\n"
     ]
    }
   ],
   "source": [
    "#ordena el diccionario por sus claves\n",
    "my_dict = {'b': 2, 'a': 1, 'c': 3}\n",
    "sorted_list = sorted(my_dict.items(),reverse=False)\n",
    "\n",
    "sorted_dict = {}\n",
    "for key, value in sorted_list:\n",
    "    sorted_dict[key] = value\n",
    "\n",
    "print(sorted_dict)"
   ]
  },
  {
   "cell_type": "code",
   "execution_count": 16,
   "metadata": {},
   "outputs": [
    {
     "name": "stdout",
     "output_type": "stream",
     "text": [
      "{'clave1': ['c', 'a', 'b'], 'clave2': ['casa', 'auto', 'barco'], 'clave3': [1, 2, 3]}\n"
     ]
    }
   ],
   "source": [
    "#ordeno el diccionario por sus claves de False menor a mayor o de mayor a menor (True)\n",
    "sorted_listdicc=sorted(dicc.items(),reverse=False)\n",
    "sorted_dict1={}\n",
    "for key,value in sorted_listdicc:\n",
    "    sorted_dict1[key]=value\n",
    "print(sorted_dict1)"
   ]
  },
  {
   "cell_type": "code",
   "execution_count": 31,
   "metadata": {},
   "outputs": [
    {
     "data": {
      "text/plain": [
       "[1, 2, 3]"
      ]
     },
     "execution_count": 31,
     "metadata": {},
     "output_type": "execute_result"
    }
   ],
   "source": [
    "dicc[list(dicc.keys())[2]] #recorro el diccionario con la clave en la posicion 2, es decir la clave 3"
   ]
  },
  {
   "cell_type": "code",
   "execution_count": 32,
   "metadata": {},
   "outputs": [
    {
     "data": {
      "text/plain": [
       "3"
      ]
     },
     "execution_count": 32,
     "metadata": {},
     "output_type": "execute_result"
    }
   ],
   "source": [
    "len(dicc[list(dicc.keys())[0]]) #me devuelve la cantidad de claves que tiene el diccionario"
   ]
  },
  {
   "cell_type": "code",
   "execution_count": 24,
   "metadata": {},
   "outputs": [
    {
     "name": "stdout",
     "output_type": "stream",
     "text": [
      "3\n",
      "casa\n",
      "c\n",
      "1\n",
      "auto\n",
      "a\n",
      "2\n",
      "barco\n",
      "b\n",
      "3\n",
      "[{'clave2': 'casa', 'clave1': 'c', 'clave3': 1}, {'clave2': 'auto', 'clave1': 'a', 'clave3': 2}, {'clave2': 'barco', 'clave1': 'b', 'clave3': 3}]\n"
     ]
    }
   ],
   "source": [
    "#convertimos el diccionario de listas a una lista de diccionarios:\n",
    "cant_claves= len(dicc[list(dicc.keys())[0]]) #me calcula la cantidad de claves del diccionario\n",
    "print(cant_claves)\n",
    "lista_dicc=[]\n",
    "for i in range(0,cant_claves): #itera para todas las claves en el diccionario\n",
    "    claves_dicc = {}\n",
    "    for j in dicc: #con este loop recorro el diccionario y cada elemento\n",
    "        claves_dicc[j]=dicc[j][i]\n",
    "        print(claves_dicc[j])\n",
    "    lista_dicc.append(claves_dicc)\n",
    "print(lista_dicc)"
   ]
  },
  {
   "cell_type": "code",
   "execution_count": 43,
   "metadata": {},
   "outputs": [
    {
     "ename": "AttributeError",
     "evalue": "'list' object has no attribute 'items'",
     "output_type": "error",
     "traceback": [
      "\u001b[1;31m---------------------------------------------------------------------------\u001b[0m",
      "\u001b[1;31mAttributeError\u001b[0m                            Traceback (most recent call last)",
      "\u001b[1;32mc:\\Users\\Florencia\\Desktop\\Python-Prep\\Carpeta Nueva\\Borrador.ipynb Celda 10\u001b[0m line \u001b[0;36m1\n\u001b[1;32m----> <a href='vscode-notebook-cell:/c%3A/Users/Florencia/Desktop/Python-Prep/Carpeta%20Nueva/Borrador.ipynb#X14sZmlsZQ%3D%3D?line=0'>1</a>\u001b[0m \u001b[39mprint\u001b[39m(newArr\u001b[39m.\u001b[39;49mitems())\n",
      "\u001b[1;31mAttributeError\u001b[0m: 'list' object has no attribute 'items'"
     ]
    }
   ],
   "source": [
    "print(newArr.items())"
   ]
  },
  {
   "cell_type": "code",
   "execution_count": 42,
   "metadata": {},
   "outputs": [
    {
     "ename": "AttributeError",
     "evalue": "'list' object has no attribute 'items'",
     "output_type": "error",
     "traceback": [
      "\u001b[1;31m---------------------------------------------------------------------------\u001b[0m",
      "\u001b[1;31mAttributeError\u001b[0m                            Traceback (most recent call last)",
      "\u001b[1;32mc:\\Users\\Florencia\\Desktop\\Python-Prep\\Carpeta Nueva\\Borrador.ipynb Celda 10\u001b[0m line \u001b[0;36m4\n\u001b[0;32m      <a href='vscode-notebook-cell:/c%3A/Users/Florencia/Desktop/Python-Prep/Carpeta%20Nueva/Borrador.ipynb#X10sZmlsZQ%3D%3D?line=0'>1</a>\u001b[0m \u001b[39m#ordenamos\u001b[39;00m\n\u001b[0;32m      <a href='vscode-notebook-cell:/c%3A/Users/Florencia/Desktop/Python-Prep/Carpeta%20Nueva/Borrador.ipynb#X10sZmlsZQ%3D%3D?line=1'>2</a>\u001b[0m \u001b[39m#newArrSorted = sorted(newArr,lambda d: d['clave1'],reverse=not(True))\u001b[39;00m\n\u001b[0;32m      <a href='vscode-notebook-cell:/c%3A/Users/Florencia/Desktop/Python-Prep/Carpeta%20Nueva/Borrador.ipynb#X10sZmlsZQ%3D%3D?line=2'>3</a>\u001b[0m \u001b[39m#print(newArrSorted)\u001b[39;00m\n\u001b[1;32m----> <a href='vscode-notebook-cell:/c%3A/Users/Florencia/Desktop/Python-Prep/Carpeta%20Nueva/Borrador.ipynb#X10sZmlsZQ%3D%3D?line=3'>4</a>\u001b[0m \u001b[39mprint\u001b[39m(newArr\u001b[39m.\u001b[39;49mitems())\n\u001b[0;32m      <a href='vscode-notebook-cell:/c%3A/Users/Florencia/Desktop/Python-Prep/Carpeta%20Nueva/Borrador.ipynb#X10sZmlsZQ%3D%3D?line=4'>5</a>\u001b[0m sorted_listdicc\u001b[39m=\u001b[39m\u001b[39msorted\u001b[39m(newArr\u001b[39m.\u001b[39mitems())\n\u001b[0;32m      <a href='vscode-notebook-cell:/c%3A/Users/Florencia/Desktop/Python-Prep/Carpeta%20Nueva/Borrador.ipynb#X10sZmlsZQ%3D%3D?line=5'>6</a>\u001b[0m \u001b[39mprint\u001b[39m(sorted_listdicc)\n",
      "\u001b[1;31mAttributeError\u001b[0m: 'list' object has no attribute 'items'"
     ]
    }
   ],
   "source": [
    "#ordenamos\n",
    "#newArrSorted = sorted(newArr,lambda d: d['clave1'],reverse=not(True))\n",
    "#print(newArrSorted)\n",
    "sorted_listdicc=sorted(newArr.items())\n",
    "print(sorted_listdicc)\n",
    "sorted_dict1={}\n",
    "for key,value in sorted_listdicc:\n",
    "    sorted_dict1[key]=value\n",
    "print(sorted_dict1)"
   ]
  }
 ],
 "metadata": {
  "kernelspec": {
   "display_name": "Python 3",
   "language": "python",
   "name": "python3"
  },
  "language_info": {
   "codemirror_mode": {
    "name": "ipython",
    "version": 3
   },
   "file_extension": ".py",
   "mimetype": "text/x-python",
   "name": "python",
   "nbconvert_exporter": "python",
   "pygments_lexer": "ipython3",
   "version": "3.11.5"
  },
  "orig_nbformat": 4
 },
 "nbformat": 4,
 "nbformat_minor": 2
}

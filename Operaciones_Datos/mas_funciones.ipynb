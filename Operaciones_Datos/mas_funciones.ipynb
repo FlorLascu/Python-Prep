{
 "cells": [
  {
   "cell_type": "code",
   "execution_count": 31,
   "metadata": {},
   "outputs": [],
   "source": [
    "\n",
    "def primo(a):\n",
    "# Funcion que devuelve True si el numero consultado es primo y False si no lo es\n",
    "    es_primo=True\n",
    "    for i in range (2,a):\n",
    "        if a % i == 0:\n",
    "            es_primo=False\n",
    "            break\n",
    "    if es_primo == True:\n",
    "        print(a,\"es primo\")\n",
    "    else:\n",
    "        print(a,\"no es primo\")"
   ]
  },
  {
   "cell_type": "code",
   "execution_count": 32,
   "metadata": {},
   "outputs": [
    {
     "name": "stdout",
     "output_type": "stream",
     "text": [
      "9 no es primo\n"
     ]
    }
   ],
   "source": [
    "primo(9)"
   ]
  },
  {
   "cell_type": "code",
   "execution_count": 39,
   "metadata": {},
   "outputs": [],
   "source": [
    "def list_primo(b):\n",
    "    C=[] #lista donde almacenar los numeros primos de la lista\n",
    "    for i in b: #iterar por cada elemento de la lista b\n",
    "        if primo(int(i)):\n",
    "            C.append(i) #almacenar en c todos los elementos de b que sean primos\n",
    "    return C        "
   ]
  },
  {
   "cell_type": "code",
   "execution_count": 43,
   "metadata": {},
   "outputs": [
    {
     "name": "stdout",
     "output_type": "stream",
     "text": [
      "2 es primo\n",
      "3 es primo\n",
      "5 es primo\n",
      "7 es primo\n",
      "9 no es primo\n",
      "12 no es primo\n",
      "23 es primo\n",
      "27 no es primo\n",
      "29 es primo\n"
     ]
    },
    {
     "data": {
      "text/plain": [
       "[]"
      ]
     },
     "execution_count": 43,
     "metadata": {},
     "output_type": "execute_result"
    }
   ],
   "source": [
    "A=[2,3,5,7,9,12,23,27,29]\n",
    "list_primo(A)"
   ]
  },
  {
   "cell_type": "code",
   "execution_count": 18,
   "metadata": {},
   "outputs": [
    {
     "name": "stdout",
     "output_type": "stream",
     "text": [
      "los numeros primos de la lista son [9, 12, 27]\n"
     ]
    },
    {
     "data": {
      "text/plain": [
       "[9, 12, 27]"
      ]
     },
     "execution_count": 18,
     "metadata": {},
     "output_type": "execute_result"
    }
   ],
   "source": [
    "lista_primo([2,3,5,7,9,12,23,27,29])"
   ]
  }
 ],
 "metadata": {
  "kernelspec": {
   "display_name": "Python 3",
   "language": "python",
   "name": "python3"
  },
  "language_info": {
   "codemirror_mode": {
    "name": "ipython",
    "version": 3
   },
   "file_extension": ".py",
   "mimetype": "text/x-python",
   "name": "python",
   "nbconvert_exporter": "python",
   "pygments_lexer": "ipython3",
   "version": "3.11.5"
  },
  "orig_nbformat": 4
 },
 "nbformat": 4,
 "nbformat_minor": 2
}
